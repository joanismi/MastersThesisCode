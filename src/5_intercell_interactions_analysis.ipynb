{
 "cells": [
  {
   "cell_type": "code",
   "execution_count": 1,
   "id": "7b962c1c-c98d-47b8-938e-9128dd4303e9",
   "metadata": {
    "tags": []
   },
   "outputs": [],
   "source": [
    "import pandas as pd\n",
    "import numpy as np\n",
    "from statsmodels.stats import multitest\n",
    "import itertools\n",
    "from tqdm.notebook import tqdm, tnrange\n",
    "from functions import intercell_interactions, utility_functions\n",
    "import importlib\n",
    "from joblib import Parallel, delayed\n",
    "from IPython.display import display\n",
    "\n",
    "from Bio import Entrez\n",
    "import sqlite3\n",
    "\n",
    "from pyspark import SparkConf\n",
    "from pyspark.sql import SparkSession\n",
    "import pyspark.sql.functions as F"
   ]
  },
  {
   "cell_type": "code",
   "execution_count": 2,
   "id": "94e8173a",
   "metadata": {},
   "outputs": [],
   "source": [
    "raw_data_dir = '../data/raw/'\n",
    "gene_exp_dir = '../data/processed/gene_expression/'\n",
    "org_pairs_dir = '../data/processed/organotropism_pairs/'\n",
    "intercell_net_dir = '../data/processed/intercell_networks/'\n",
    "interactions_dir = '../data/processed/intercell_interactions/'\n",
    "utility_functions.check_dir(interactions_dir)"
   ]
  },
  {
   "cell_type": "code",
   "execution_count": 3,
   "id": "73c14fcd",
   "metadata": {},
   "outputs": [],
   "source": [
    "metastasis_datasets = ['autopsy', 'hcmdb']\n",
    "tissue_datasets = ['gtex', 'consensus']\n",
    "network_types = ['all', 'curated']"
   ]
  },
  {
   "cell_type": "markdown",
   "id": "5d477a73-2464-41fd-a51c-eaf8fdedf940",
   "metadata": {
    "jp-MarkdownHeadingCollapsed": true,
    "tags": []
   },
   "source": [
    "# Load Data"
   ]
  },
  {
   "cell_type": "code",
   "execution_count": 4,
   "id": "bc1fdb10-8fe1-484a-a331-2145bd0328df",
   "metadata": {
    "tags": []
   },
   "outputs": [
    {
     "data": {
      "text/html": [
       "<div>\n",
       "<style scoped>\n",
       "    .dataframe tbody tr th:only-of-type {\n",
       "        vertical-align: middle;\n",
       "    }\n",
       "\n",
       "    .dataframe tbody tr th {\n",
       "        vertical-align: top;\n",
       "    }\n",
       "\n",
       "    .dataframe thead th {\n",
       "        text-align: right;\n",
       "    }\n",
       "</style>\n",
       "<table border=\"1\" class=\"dataframe\">\n",
       "  <thead>\n",
       "    <tr style=\"text-align: right;\">\n",
       "      <th></th>\n",
       "      <th>source</th>\n",
       "      <th>target</th>\n",
       "    </tr>\n",
       "  </thead>\n",
       "  <tbody>\n",
       "    <tr>\n",
       "      <th>0</th>\n",
       "      <td>APP</td>\n",
       "      <td>GRM7</td>\n",
       "    </tr>\n",
       "    <tr>\n",
       "      <th>1</th>\n",
       "      <td>CXCL16</td>\n",
       "      <td>GRM7</td>\n",
       "    </tr>\n",
       "    <tr>\n",
       "      <th>2</th>\n",
       "      <td>CXCL9</td>\n",
       "      <td>GRM7</td>\n",
       "    </tr>\n",
       "    <tr>\n",
       "      <th>3</th>\n",
       "      <td>CCL5</td>\n",
       "      <td>GRM7</td>\n",
       "    </tr>\n",
       "    <tr>\n",
       "      <th>4</th>\n",
       "      <td>ANXA1</td>\n",
       "      <td>GRM7</td>\n",
       "    </tr>\n",
       "  </tbody>\n",
       "</table>\n",
       "</div>"
      ],
      "text/plain": [
       "   source target\n",
       "0     APP   GRM7\n",
       "1  CXCL16   GRM7\n",
       "2   CXCL9   GRM7\n",
       "3    CCL5   GRM7\n",
       "4   ANXA1   GRM7"
      ]
     },
     "execution_count": 4,
     "metadata": {},
     "output_type": "execute_result"
    }
   ],
   "source": [
    "# we will use two intercellular interactions datasets:\n",
    "# all interactions\n",
    "graph = pd.read_csv(intercell_net_dir+f'intercell_graph.csv')\n",
    "graph.head()"
   ]
  },
  {
   "cell_type": "code",
   "execution_count": 5,
   "id": "3259811d-dcfb-4bf5-ab65-3b2767ea2974",
   "metadata": {},
   "outputs": [],
   "source": [
    "genes = {}\n",
    "for dataset in tissue_datasets:\n",
    "    \n",
    "    calls = pd.read_csv(gene_exp_dir+f'{dataset}/grouped_records.csv')\n",
    "    genes[dataset] = calls['gene_id'].unique()\n"
   ]
  },
  {
   "cell_type": "code",
   "execution_count": 6,
   "id": "46208a47-d5e4-429f-8cf2-6b51a3d5dc58",
   "metadata": {
    "tags": []
   },
   "outputs": [
    {
     "data": {
      "text/html": [
       "<div>\n",
       "<style scoped>\n",
       "    .dataframe tbody tr th:only-of-type {\n",
       "        vertical-align: middle;\n",
       "    }\n",
       "\n",
       "    .dataframe tbody tr th {\n",
       "        vertical-align: top;\n",
       "    }\n",
       "\n",
       "    .dataframe thead th {\n",
       "        text-align: right;\n",
       "    }\n",
       "</style>\n",
       "<table border=\"1\" class=\"dataframe\">\n",
       "  <thead>\n",
       "    <tr style=\"text-align: right;\">\n",
       "      <th></th>\n",
       "      <th>cancer</th>\n",
       "      <th>metastasis</th>\n",
       "      <th>cancer_tissue</th>\n",
       "      <th>metastasis_tissue</th>\n",
       "      <th>type</th>\n",
       "      <th>metastasis_dataset</th>\n",
       "      <th>tissue_dataset</th>\n",
       "      <th>control</th>\n",
       "    </tr>\n",
       "  </thead>\n",
       "  <tbody>\n",
       "    <tr>\n",
       "      <th>0</th>\n",
       "      <td>breast</td>\n",
       "      <td>adrenal_gland</td>\n",
       "      <td>Breast - Mammary Tissue</td>\n",
       "      <td>Adrenal Gland</td>\n",
       "      <td>organotropism</td>\n",
       "      <td>autopsy</td>\n",
       "      <td>gtex</td>\n",
       "      <td>organotropism</td>\n",
       "    </tr>\n",
       "    <tr>\n",
       "      <th>1</th>\n",
       "      <td>breast</td>\n",
       "      <td>brain</td>\n",
       "      <td>Breast - Mammary Tissue</td>\n",
       "      <td>Brain - Amygdala</td>\n",
       "      <td>organotropism</td>\n",
       "      <td>autopsy</td>\n",
       "      <td>gtex</td>\n",
       "      <td>organotropism</td>\n",
       "    </tr>\n",
       "  </tbody>\n",
       "</table>\n",
       "</div>"
      ],
      "text/plain": [
       "   cancer     metastasis            cancer_tissue metastasis_tissue  \\\n",
       "0  breast  adrenal_gland  Breast - Mammary Tissue     Adrenal Gland   \n",
       "1  breast          brain  Breast - Mammary Tissue  Brain - Amygdala   \n",
       "\n",
       "            type metastasis_dataset tissue_dataset        control  \n",
       "0  organotropism            autopsy           gtex  organotropism  \n",
       "1  organotropism            autopsy           gtex  organotropism  "
      ]
     },
     "execution_count": 6,
     "metadata": {},
     "output_type": "execute_result"
    }
   ],
   "source": [
    "org_pairs =  pd.read_csv(org_pairs_dir+'pairs_records.csv')\n",
    "org_pairs.head(2)"
   ]
  },
  {
   "cell_type": "markdown",
   "id": "8930f012-6641-48b7-acde-597977683023",
   "metadata": {
    "jp-MarkdownHeadingCollapsed": true,
    "tags": []
   },
   "source": [
    "# Interaction analysis with gene calls"
   ]
  },
  {
   "cell_type": "markdown",
   "id": "6164da35-2294-4e7f-874e-e092bc96dce8",
   "metadata": {
    "jp-MarkdownHeadingCollapsed": true,
    "tags": []
   },
   "source": [
    "## Compute intercellular interactions presence/absence in each tissue pair"
   ]
  },
  {
   "cell_type": "code",
   "execution_count": 60,
   "id": "2c41097d-a7e5-41af-ad91-8d804af69cea",
   "metadata": {},
   "outputs": [
    {
     "data": {
      "application/vnd.jupyter.widget-view+json": {
       "model_id": "6f51b83c30d3495d937c8d4b6bce6813",
       "version_major": 2,
       "version_minor": 0
      },
      "text/plain": [
       "  0%|          | 0/2 [00:00<?, ?it/s]"
      ]
     },
     "metadata": {},
     "output_type": "display_data"
    },
    {
     "data": {
      "application/vnd.jupyter.widget-view+json": {
       "model_id": "c015d4f1afb443bbab462c7226310a07",
       "version_major": 2,
       "version_minor": 0
      },
      "text/plain": [
       "  0%|          | 0/528 [00:00<?, ?it/s]"
      ]
     },
     "metadata": {},
     "output_type": "display_data"
    },
    {
     "data": {
      "application/vnd.jupyter.widget-view+json": {
       "model_id": "92d742c9a50a4b26a6c316c7697bb447",
       "version_major": 2,
       "version_minor": 0
      },
      "text/plain": [
       "  0%|          | 0/861 [00:00<?, ?it/s]"
      ]
     },
     "metadata": {},
     "output_type": "display_data"
    }
   ],
   "source": [
    "importlib.reload(intercell_interactions)\n",
    "pairs = {}\n",
    "\n",
    "for td in tqdm(tissue_datasets):\n",
    "\n",
    "    directory = intercell_net_dir + f'all/{td}/grouped'\n",
    "    interactions = graph[\n",
    "        graph.source.isin(genes[td]) &\n",
    "        graph.target.isin(genes[td])\n",
    "    ]\n",
    "    interactions.sort_values(['source', 'target'], inplace=True)\n",
    "    \n",
    "    inters_array, all_pairs = intercell_interactions.intercell_interactions_analysis(\n",
    "        directory,\n",
    "        interactions,\n",
    "    )\n",
    "    # save output to file\n",
    "    with open(f'{interactions_dir}{td}_interactions.txt', 'w') as file:\n",
    "        np.savetxt(file, inters_array, fmt='%.0d')\n",
    "    interactions.to_csv(interactions_dir+f'{td}_interactions_graph.csv', index=False)\n",
    "    all_pairs.to_csv(interactions_dir+f'{td}_pairs.csv', index=False)"
   ]
  },
  {
   "cell_type": "markdown",
   "id": "db9e8449-fb7b-4cdf-a419-6f706bf45e7d",
   "metadata": {
    "jp-MarkdownHeadingCollapsed": true,
    "tags": []
   },
   "source": [
    "## Compute tissue pairs"
   ]
  },
  {
   "cell_type": "code",
   "execution_count": 66,
   "id": "cf1dc4a3-ce55-4ddf-bcfa-c58ba1889fdc",
   "metadata": {},
   "outputs": [
    {
     "data": {
      "text/html": [
       "<div>\n",
       "<style scoped>\n",
       "    .dataframe tbody tr th:only-of-type {\n",
       "        vertical-align: middle;\n",
       "    }\n",
       "\n",
       "    .dataframe tbody tr th {\n",
       "        vertical-align: top;\n",
       "    }\n",
       "\n",
       "    .dataframe thead th {\n",
       "        text-align: right;\n",
       "    }\n",
       "</style>\n",
       "<table border=\"1\" class=\"dataframe\">\n",
       "  <thead>\n",
       "    <tr style=\"text-align: right;\">\n",
       "      <th></th>\n",
       "      <th>cancer</th>\n",
       "      <th>metastasis</th>\n",
       "    </tr>\n",
       "  </thead>\n",
       "  <tbody>\n",
       "    <tr>\n",
       "      <th>0</th>\n",
       "      <td>adipose_tissue</td>\n",
       "      <td>adrenal_gland</td>\n",
       "    </tr>\n",
       "    <tr>\n",
       "      <th>1</th>\n",
       "      <td>adipose_tissue</td>\n",
       "      <td>artery</td>\n",
       "    </tr>\n",
       "  </tbody>\n",
       "</table>\n",
       "</div>"
      ],
      "text/plain": [
       "           cancer     metastasis\n",
       "0  adipose_tissue  adrenal_gland\n",
       "1  adipose_tissue         artery"
      ]
     },
     "execution_count": 66,
     "metadata": {},
     "output_type": "execute_result"
    }
   ],
   "source": [
    "# load tissue pairs\n",
    "pairs = {\n",
    "    d: pd.read_csv(interactions_dir+f'{d}_pairs.csv') for d in tissue_datasets\n",
    "}\n",
    "pairs['gtex'].head(2)"
   ]
  },
  {
   "cell_type": "code",
   "execution_count": 67,
   "id": "6e9356b8-9685-4e06-919c-18525254d370",
   "metadata": {},
   "outputs": [
    {
     "data": {
      "text/html": [
       "<div>\n",
       "<style scoped>\n",
       "    .dataframe tbody tr th:only-of-type {\n",
       "        vertical-align: middle;\n",
       "    }\n",
       "\n",
       "    .dataframe tbody tr th {\n",
       "        vertical-align: top;\n",
       "    }\n",
       "\n",
       "    .dataframe thead th {\n",
       "        text-align: right;\n",
       "    }\n",
       "</style>\n",
       "<table border=\"1\" class=\"dataframe\">\n",
       "  <thead>\n",
       "    <tr style=\"text-align: right;\">\n",
       "      <th></th>\n",
       "      <th>id</th>\n",
       "      <th>cancer</th>\n",
       "      <th>metastasis</th>\n",
       "    </tr>\n",
       "  </thead>\n",
       "  <tbody>\n",
       "    <tr>\n",
       "      <th>0</th>\n",
       "      <td>0</td>\n",
       "      <td>adipose_tissue</td>\n",
       "      <td>adrenal_gland</td>\n",
       "    </tr>\n",
       "    <tr>\n",
       "      <th>1</th>\n",
       "      <td>1</td>\n",
       "      <td>adipose_tissue</td>\n",
       "      <td>artery</td>\n",
       "    </tr>\n",
       "  </tbody>\n",
       "</table>\n",
       "</div>"
      ],
      "text/plain": [
       "   id          cancer     metastasis\n",
       "0   0  adipose_tissue  adrenal_gland\n",
       "1   1  adipose_tissue         artery"
      ]
     },
     "metadata": {},
     "output_type": "display_data"
    },
    {
     "name": "stdout",
     "output_type": "stream",
     "text": [
      "<class 'pandas.core.frame.DataFrame'>\n",
      "RangeIndex: 1056 entries, 0 to 1055\n",
      "Data columns (total 3 columns):\n",
      " #   Column      Non-Null Count  Dtype \n",
      "---  ------      --------------  ----- \n",
      " 0   id          1056 non-null   int64 \n",
      " 1   cancer      1056 non-null   object\n",
      " 2   metastasis  1056 non-null   object\n",
      "dtypes: int64(1), object(2)\n",
      "memory usage: 24.9+ KB\n"
     ]
    },
    {
     "data": {
      "text/html": [
       "<div>\n",
       "<style scoped>\n",
       "    .dataframe tbody tr th:only-of-type {\n",
       "        vertical-align: middle;\n",
       "    }\n",
       "\n",
       "    .dataframe tbody tr th {\n",
       "        vertical-align: top;\n",
       "    }\n",
       "\n",
       "    .dataframe thead th {\n",
       "        text-align: right;\n",
       "    }\n",
       "</style>\n",
       "<table border=\"1\" class=\"dataframe\">\n",
       "  <thead>\n",
       "    <tr style=\"text-align: right;\">\n",
       "      <th></th>\n",
       "      <th>id</th>\n",
       "      <th>cancer</th>\n",
       "      <th>metastasis</th>\n",
       "    </tr>\n",
       "  </thead>\n",
       "  <tbody>\n",
       "    <tr>\n",
       "      <th>0</th>\n",
       "      <td>0</td>\n",
       "      <td>adipose_tissue</td>\n",
       "      <td>adrenal_gland</td>\n",
       "    </tr>\n",
       "    <tr>\n",
       "      <th>1</th>\n",
       "      <td>1</td>\n",
       "      <td>adipose_tissue</td>\n",
       "      <td>appendix</td>\n",
       "    </tr>\n",
       "  </tbody>\n",
       "</table>\n",
       "</div>"
      ],
      "text/plain": [
       "   id          cancer     metastasis\n",
       "0   0  adipose_tissue  adrenal_gland\n",
       "1   1  adipose_tissue       appendix"
      ]
     },
     "metadata": {},
     "output_type": "display_data"
    },
    {
     "name": "stdout",
     "output_type": "stream",
     "text": [
      "<class 'pandas.core.frame.DataFrame'>\n",
      "RangeIndex: 1722 entries, 0 to 1721\n",
      "Data columns (total 3 columns):\n",
      " #   Column      Non-Null Count  Dtype \n",
      "---  ------      --------------  ----- \n",
      " 0   id          1722 non-null   int64 \n",
      " 1   cancer      1722 non-null   object\n",
      " 2   metastasis  1722 non-null   object\n",
      "dtypes: int64(1), object(2)\n",
      "memory usage: 40.5+ KB\n"
     ]
    }
   ],
   "source": [
    "# compute all combinations of pairs\n",
    "all_pairs = {}\n",
    "for d in pairs:\n",
    "    pairs_rev = pairs[d].rename(\n",
    "        {'cancer': 'metastasis', 'metastasis': 'cancer'},\n",
    "        axis=1)\n",
    "    # we will create a column named id that will keep an unique id for\n",
    "    # each pair that will hold even when pairs (rows) are removed\n",
    "    # this id index is exactly the same as the index on the columns of the \n",
    "    # interactions array. That way, we can index that array with the created ids\n",
    "    all_pairs[d] = pd.concat([pairs[d], pairs_rev]).reset_index().rename({'index': 'id'}, axis=1)\n",
    "\n",
    "    display(all_pairs[d].head(2))\n",
    "    all_pairs[d].info()"
   ]
  },
  {
   "cell_type": "code",
   "execution_count": 68,
   "id": "cc276044-e917-451f-8bae-fb0a3fd58228",
   "metadata": {},
   "outputs": [
    {
     "data": {
      "text/html": [
       "<div>\n",
       "<style scoped>\n",
       "    .dataframe tbody tr th:only-of-type {\n",
       "        vertical-align: middle;\n",
       "    }\n",
       "\n",
       "    .dataframe tbody tr th {\n",
       "        vertical-align: top;\n",
       "    }\n",
       "\n",
       "    .dataframe thead th {\n",
       "        text-align: right;\n",
       "    }\n",
       "</style>\n",
       "<table border=\"1\" class=\"dataframe\">\n",
       "  <thead>\n",
       "    <tr style=\"text-align: right;\">\n",
       "      <th></th>\n",
       "      <th>cancer_organ</th>\n",
       "      <th>adrenal_gland</th>\n",
       "      <th>bladder</th>\n",
       "      <th>bone</th>\n",
       "      <th>brain</th>\n",
       "      <th>breast</th>\n",
       "      <th>colorectum</th>\n",
       "      <th>diaphragm</th>\n",
       "      <th>gallbladder</th>\n",
       "      <th>heart</th>\n",
       "      <th>...</th>\n",
       "      <th>prostate</th>\n",
       "      <th>skeletal_muscle</th>\n",
       "      <th>skin</th>\n",
       "      <th>small_intestine</th>\n",
       "      <th>spleen</th>\n",
       "      <th>stomach</th>\n",
       "      <th>testis</th>\n",
       "      <th>thyroid</th>\n",
       "      <th>uterus</th>\n",
       "      <th>vagina</th>\n",
       "    </tr>\n",
       "  </thead>\n",
       "  <tbody>\n",
       "    <tr>\n",
       "      <th>0</th>\n",
       "      <td>adrenal_gland</td>\n",
       "      <td>1</td>\n",
       "      <td>0</td>\n",
       "      <td>3</td>\n",
       "      <td>2</td>\n",
       "      <td>0</td>\n",
       "      <td>1</td>\n",
       "      <td>1</td>\n",
       "      <td>0</td>\n",
       "      <td>0</td>\n",
       "      <td>...</td>\n",
       "      <td>0</td>\n",
       "      <td>0</td>\n",
       "      <td>3</td>\n",
       "      <td>0</td>\n",
       "      <td>2</td>\n",
       "      <td>1</td>\n",
       "      <td>0</td>\n",
       "      <td>1</td>\n",
       "      <td>0</td>\n",
       "      <td>0</td>\n",
       "    </tr>\n",
       "    <tr>\n",
       "      <th>1</th>\n",
       "      <td>anus</td>\n",
       "      <td>3</td>\n",
       "      <td>1</td>\n",
       "      <td>4</td>\n",
       "      <td>1</td>\n",
       "      <td>0</td>\n",
       "      <td>1</td>\n",
       "      <td>1</td>\n",
       "      <td>2</td>\n",
       "      <td>2</td>\n",
       "      <td>...</td>\n",
       "      <td>0</td>\n",
       "      <td>0</td>\n",
       "      <td>2</td>\n",
       "      <td>1</td>\n",
       "      <td>3</td>\n",
       "      <td>0</td>\n",
       "      <td>0</td>\n",
       "      <td>1</td>\n",
       "      <td>0</td>\n",
       "      <td>0</td>\n",
       "    </tr>\n",
       "  </tbody>\n",
       "</table>\n",
       "<p>2 rows × 30 columns</p>\n",
       "</div>"
      ],
      "text/plain": [
       "    cancer_organ  adrenal_gland  bladder  bone  brain  breast  colorectum  \\\n",
       "0  adrenal_gland              1        0     3      2       0           1   \n",
       "1           anus              3        1     4      1       0           1   \n",
       "\n",
       "   diaphragm  gallbladder  heart  ...  prostate  skeletal_muscle  skin  \\\n",
       "0          1            0      0  ...         0                0     3   \n",
       "1          1            2      2  ...         0                0     2   \n",
       "\n",
       "   small_intestine  spleen  stomach  testis  thyroid  uterus  vagina  \n",
       "0                0       2        1       0        1       0       0  \n",
       "1                1       3        0       0        1       0       0  \n",
       "\n",
       "[2 rows x 30 columns]"
      ]
     },
     "execution_count": 68,
     "metadata": {},
     "output_type": "execute_result"
    }
   ],
   "source": [
    "# load frequency tables\n",
    "frequencies = {}\n",
    "for mt in metastasis_datasets:\n",
    "    frequencies[mt] = pd.read_csv(org_pairs_dir+f'{mt}_frequencies.csv')\n",
    "\n",
    "frequencies['autopsy'].head(2)"
   ]
  },
  {
   "cell_type": "code",
   "execution_count": 71,
   "id": "c4711b8d-0dcd-44f4-8076-c4020784f4d1",
   "metadata": {},
   "outputs": [
    {
     "data": {
      "text/html": [
       "<div>\n",
       "<style scoped>\n",
       "    .dataframe tbody tr th:only-of-type {\n",
       "        vertical-align: middle;\n",
       "    }\n",
       "\n",
       "    .dataframe tbody tr th {\n",
       "        vertical-align: top;\n",
       "    }\n",
       "\n",
       "    .dataframe thead th {\n",
       "        text-align: right;\n",
       "    }\n",
       "</style>\n",
       "<table border=\"1\" class=\"dataframe\">\n",
       "  <thead>\n",
       "    <tr style=\"text-align: right;\">\n",
       "      <th></th>\n",
       "      <th>cancer</th>\n",
       "      <th>metastasis</th>\n",
       "      <th>freq</th>\n",
       "    </tr>\n",
       "  </thead>\n",
       "  <tbody>\n",
       "    <tr>\n",
       "      <th>0</th>\n",
       "      <td>anus</td>\n",
       "      <td>adrenal_gland</td>\n",
       "      <td>3</td>\n",
       "    </tr>\n",
       "    <tr>\n",
       "      <th>1</th>\n",
       "      <td>appendix</td>\n",
       "      <td>adrenal_gland</td>\n",
       "      <td>0</td>\n",
       "    </tr>\n",
       "    <tr>\n",
       "      <th>2</th>\n",
       "      <td>bile_duct</td>\n",
       "      <td>adrenal_gland</td>\n",
       "      <td>3</td>\n",
       "    </tr>\n",
       "    <tr>\n",
       "      <th>3</th>\n",
       "      <td>bladder</td>\n",
       "      <td>adrenal_gland</td>\n",
       "      <td>11</td>\n",
       "    </tr>\n",
       "    <tr>\n",
       "      <th>4</th>\n",
       "      <td>bone</td>\n",
       "      <td>adrenal_gland</td>\n",
       "      <td>4</td>\n",
       "    </tr>\n",
       "  </tbody>\n",
       "</table>\n",
       "</div>"
      ],
      "text/plain": [
       "      cancer     metastasis  freq\n",
       "0       anus  adrenal_gland     3\n",
       "1   appendix  adrenal_gland     0\n",
       "2  bile_duct  adrenal_gland     3\n",
       "3    bladder  adrenal_gland    11\n",
       "4       bone  adrenal_gland     4"
      ]
     },
     "execution_count": 71,
     "metadata": {},
     "output_type": "execute_result"
    }
   ],
   "source": [
    "# stack frequencies and remove pairs with the same tissues\n",
    "freq_pairs = {}\n",
    "for mt, f in frequencies.items():\n",
    "    p = pd.melt(f, id_vars='cancer_organ', var_name='metastasis', value_name='freq')\n",
    "    \n",
    "    p.rename(columns={'cancer_organ': 'cancer'}, inplace=True)\n",
    "    \n",
    "    p = p[p['cancer'] != p['metastasis']].reset_index(drop=True)\n",
    "    freq_pairs[mt] = p\n",
    "    \n",
    "freq_pairs['autopsy'].head()"
   ]
  },
  {
   "cell_type": "code",
   "execution_count": 72,
   "id": "f339da83-80e8-4c3d-a34d-3b71afb54c64",
   "metadata": {},
   "outputs": [],
   "source": [
    "# merge the frequency in each dataset with the tissue pairs\n",
    "# this will ensure we only use pairs present in the dataset\n",
    "# and prepare the dataset to do an analysis based on the frequency\n",
    "\n",
    "for mt, f in freq_pairs.items():\n",
    "    for td, ts in all_pairs.items():\n",
    "        \n",
    "        x = pd.merge(ts, f).sort_values('id')\n",
    "        x.to_csv(interactions_dir+f'{mt}_{td}_pairs.csv', index=False)"
   ]
  },
  {
   "cell_type": "markdown",
   "id": "4b33b5de-6360-4070-9d52-69d1fe703e98",
   "metadata": {
    "jp-MarkdownHeadingCollapsed": true,
    "tags": []
   },
   "source": [
    "## Compute stats"
   ]
  },
  {
   "cell_type": "markdown",
   "id": "5f411740-c03c-463f-a6a1-7ae1b346f5ff",
   "metadata": {
    "jp-MarkdownHeadingCollapsed": true,
    "tags": []
   },
   "source": [
    "### Load data"
   ]
  },
  {
   "cell_type": "code",
   "execution_count": 73,
   "id": "61922785-ca12-40e3-b635-81f8beaf425a",
   "metadata": {},
   "outputs": [
    {
     "name": "stdout",
     "output_type": "stream",
     "text": [
      "(9590, 528)\n",
      "(9857, 861)\n"
     ]
    }
   ],
   "source": [
    "# load interaction presence/absence arrays\n",
    "inters_array = {\n",
    "    td: np.loadtxt(interactions_dir+f'{td}_interactions.txt', dtype='int64') for td in tissue_datasets\n",
    "}\n",
    "\n",
    "print(inters_array['gtex'].shape)\n",
    "print(inters_array['consensus'].shape)"
   ]
  },
  {
   "cell_type": "code",
   "execution_count": 74,
   "id": "02a6b6bf-83c5-4ffd-9e76-fb3ac50ff7f1",
   "metadata": {},
   "outputs": [
    {
     "name": "stdout",
     "output_type": "stream",
     "text": [
      "(9590, 2)\n",
      "(9857, 2)\n"
     ]
    }
   ],
   "source": [
    "# load interactions graph\n",
    "inters_graph = {\n",
    "    td: pd.read_csv(interactions_dir+f'{td}_interactions_graph.csv') for td in tissue_datasets\n",
    "}\n",
    "print(inters_graph['gtex'].shape)\n",
    "print(inters_graph['consensus'].shape)"
   ]
  },
  {
   "cell_type": "markdown",
   "id": "5ff93269-0483-4378-bb83-df50198c92c9",
   "metadata": {
    "jp-MarkdownHeadingCollapsed": true,
    "tags": []
   },
   "source": [
    "### Organotropism pairs (hypergeometric test)"
   ]
  },
  {
   "cell_type": "code",
   "execution_count": 83,
   "id": "106648c8-948c-44b7-83fe-31b9840d496b",
   "metadata": {},
   "outputs": [
    {
     "data": {
      "application/vnd.jupyter.widget-view+json": {
       "model_id": "411a8cde601b4a6e81f847c68048082a",
       "version_major": 2,
       "version_minor": 0
      },
      "text/plain": [
       "metastasis_dataset:   0%|          | 0/2 [00:00<?, ?it/s]"
      ]
     },
     "metadata": {},
     "output_type": "display_data"
    },
    {
     "data": {
      "application/vnd.jupyter.widget-view+json": {
       "model_id": "05e7f2656de247c69087d045f798d701",
       "version_major": 2,
       "version_minor": 0
      },
      "text/plain": [
       "tissue_dataset:   0%|          | 0/2 [00:00<?, ?it/s]"
      ]
     },
     "metadata": {},
     "output_type": "display_data"
    },
    {
     "data": {
      "application/vnd.jupyter.widget-view+json": {
       "model_id": "23a3dfa2e072489ca4a12c31bf948d64",
       "version_major": 2,
       "version_minor": 0
      },
      "text/plain": [
       "interactions:   0%|          | 0/9590 [00:00<?, ?it/s]"
      ]
     },
     "metadata": {},
     "output_type": "display_data"
    },
    {
     "data": {
      "application/vnd.jupyter.widget-view+json": {
       "model_id": "3a388527944f4579912188d09b051a17",
       "version_major": 2,
       "version_minor": 0
      },
      "text/plain": [
       "interactions:   0%|          | 0/9857 [00:00<?, ?it/s]"
      ]
     },
     "metadata": {},
     "output_type": "display_data"
    },
    {
     "data": {
      "application/vnd.jupyter.widget-view+json": {
       "model_id": "1cbb0627a7be46789b03ce56bf83f717",
       "version_major": 2,
       "version_minor": 0
      },
      "text/plain": [
       "tissue_dataset:   0%|          | 0/2 [00:00<?, ?it/s]"
      ]
     },
     "metadata": {},
     "output_type": "display_data"
    },
    {
     "data": {
      "application/vnd.jupyter.widget-view+json": {
       "model_id": "6da5d99dc98641f396018289f1b08126",
       "version_major": 2,
       "version_minor": 0
      },
      "text/plain": [
       "interactions:   0%|          | 0/9590 [00:00<?, ?it/s]"
      ]
     },
     "metadata": {},
     "output_type": "display_data"
    },
    {
     "data": {
      "application/vnd.jupyter.widget-view+json": {
       "model_id": "d79a68ebdd7a43968a26084146f9eebf",
       "version_major": 2,
       "version_minor": 0
      },
      "text/plain": [
       "interactions:   0%|          | 0/9857 [00:00<?, ?it/s]"
      ]
     },
     "metadata": {},
     "output_type": "display_data"
    }
   ],
   "source": [
    "importlib.reload(intercell_interactions)\n",
    "inter_stats = []\n",
    "\n",
    "for mt in tqdm(metastasis_datasets, desc='metastasis_dataset'):\n",
    "    for td in tqdm(tissue_datasets, desc='tissue_dataset'):\n",
    "        # define the condition of the hypergeometric test organotropism pairs to use\n",
    "        # we'll use fdr corrected and all_tissues data\n",
    "        org_pairs_ = org_pairs.loc[\n",
    "            (org_pairs.metastasis_dataset==mt) &\n",
    "            (org_pairs.tissue_dataset==td) &\n",
    "            (org_pairs.type=='organotropism'), ['cancer', 'metastasis', 'type']]\n",
    "\n",
    "        # since we are using grouped tissues we only need info about cancer and metastasis organs\n",
    "        # we have to remove duplicate entries for the same labels\n",
    "        org_pairs_.drop_duplicates(inplace=True)\n",
    "\n",
    "        # add org and n_org labels to tissue pairs\n",
    "        tissue_pairs = pd.read_csv(interactions_dir+f'{mt}_{td}_pairs.csv')\n",
    "        labels = pd.merge(tissue_pairs, org_pairs_, how='left')\n",
    "\n",
    "        labels.type[labels.type=='organotropism'] = 'org'\n",
    "        labels.fillna('n_org', inplace=True)\n",
    "\n",
    "        # in the undirected approach we will treat each network has unique, not caring which tissue is\n",
    "        # the cancer or metastasis tissue\n",
    "        # if a pair is both organotropism and not organotropism depending on the tissue classification\n",
    "        # we'll consider only it's appearance as an organotropism pair\n",
    "        \n",
    "        unique_labels = labels.sort_values('type').drop_duplicates(subset='id', keep='last')\n",
    "           \n",
    "        # having the labeled pairs prepared now we have to select this pairs\n",
    "        # in the interactions array\n",
    "        # we'll index the inters array using the unique id generated for each pair     \n",
    "        pairs_inters = inters_array[td][:, unique_labels.id]\n",
    "  \n",
    "        # finally, we need to iterate all interactions build contingency tables and\n",
    "        # compute the odds ratio\n",
    "        statistics = Parallel(n_jobs=-1)(delayed(intercell_interactions.interaction_stats)(\n",
    "                pairs_inters[i,:],\n",
    "                unique_labels.type,\n",
    "                inters_graph[td].iloc[i].to_list(),\n",
    "                [('metastasis_dataset', mt), ('tissue_dataset', td)]\n",
    "            ) for i in tnrange(pairs_inters.shape[0], desc='interactions'))\n",
    "\n",
    "        inter_stats.extend(statistics)\n",
    "\n",
    "inter_stats_plot = pd.DataFrame(inter_stats)\n",
    "inter_stats_plot.to_csv(interactions_dir+'undirected_orgpairs_genecalls_stats.csv', index=False)"
   ]
  },
  {
   "cell_type": "markdown",
   "id": "dc74dea9-04c1-4e56-a45f-d6a3bffb6436",
   "metadata": {
    "jp-MarkdownHeadingCollapsed": true,
    "tags": []
   },
   "source": [
    "### Frequency"
   ]
  },
  {
   "cell_type": "code",
   "execution_count": 85,
   "id": "c48234be-2d1a-4cb8-a2ca-6ebce052d8eb",
   "metadata": {},
   "outputs": [
    {
     "data": {
      "application/vnd.jupyter.widget-view+json": {
       "model_id": "618d8568171a40998c1ccc9ef8ed3014",
       "version_major": 2,
       "version_minor": 0
      },
      "text/plain": [
       "metastasis_dataset:   0%|          | 0/2 [00:00<?, ?it/s]"
      ]
     },
     "metadata": {},
     "output_type": "display_data"
    },
    {
     "data": {
      "application/vnd.jupyter.widget-view+json": {
       "model_id": "c1dabeab895d4241a44fdaaf1b566d0b",
       "version_major": 2,
       "version_minor": 0
      },
      "text/plain": [
       "tissue_dataset:   0%|          | 0/2 [00:00<?, ?it/s]"
      ]
     },
     "metadata": {},
     "output_type": "display_data"
    },
    {
     "data": {
      "application/vnd.jupyter.widget-view+json": {
       "model_id": "7cafec91e9974710b4c0bbb8136b35dd",
       "version_major": 2,
       "version_minor": 0
      },
      "text/plain": [
       "interactions:   0%|          | 0/9590 [00:00<?, ?it/s]"
      ]
     },
     "metadata": {},
     "output_type": "display_data"
    },
    {
     "data": {
      "application/vnd.jupyter.widget-view+json": {
       "model_id": "dc4d5a2c29194d20acfe06a3878339b8",
       "version_major": 2,
       "version_minor": 0
      },
      "text/plain": [
       "interactions:   0%|          | 0/9857 [00:00<?, ?it/s]"
      ]
     },
     "metadata": {},
     "output_type": "display_data"
    },
    {
     "data": {
      "application/vnd.jupyter.widget-view+json": {
       "model_id": "f4f8667ca17d45798952933938c71873",
       "version_major": 2,
       "version_minor": 0
      },
      "text/plain": [
       "tissue_dataset:   0%|          | 0/2 [00:00<?, ?it/s]"
      ]
     },
     "metadata": {},
     "output_type": "display_data"
    },
    {
     "data": {
      "application/vnd.jupyter.widget-view+json": {
       "model_id": "5c80b55c623543988e4b8f182dda3951",
       "version_major": 2,
       "version_minor": 0
      },
      "text/plain": [
       "interactions:   0%|          | 0/9590 [00:00<?, ?it/s]"
      ]
     },
     "metadata": {},
     "output_type": "display_data"
    },
    {
     "data": {
      "application/vnd.jupyter.widget-view+json": {
       "model_id": "1ab486242f0f4d75a5d6ae6dd20c161f",
       "version_major": 2,
       "version_minor": 0
      },
      "text/plain": [
       "interactions:   0%|          | 0/9857 [00:00<?, ?it/s]"
      ]
     },
     "metadata": {},
     "output_type": "display_data"
    }
   ],
   "source": [
    "importlib.reload(intercell_interactions)\n",
    "inter_stats = []\n",
    "\n",
    "for mt in tqdm(metastasis_datasets, desc='metastasis_dataset'):\n",
    "    for td in tqdm(tissue_datasets, desc='tissue_dataset'):\n",
    "\n",
    "        # add org and n_org labels to tissue pairs\n",
    "        tissue_pairs = pd.read_csv(interactions_dir+f'{mt}_{td}_pairs.csv')\n",
    "\n",
    "        pairs_inters = inters_array[td][:, tissue_pairs.id]\n",
    "\n",
    "        statistics = Parallel(n_jobs=-1)(delayed(intercell_interactions.freq_interaction_stats)(\n",
    "                tissue_pairs.freq,\n",
    "                pairs_inters[i,:],\n",
    "                inters_graph[td].iloc[i].to_list(),\n",
    "                [('metastasis_dataset', mt), ('tissue_dataset', td)]\n",
    "            ) for i in tnrange(pairs_inters.shape[0], desc='interactions'))\n",
    "\n",
    "        inter_stats.extend(statistics)\n",
    "\n",
    "inter_stats_plot = pd.DataFrame(inter_stats)\n",
    "inter_stats_plot.to_csv(interactions_dir+'undirected_frequency_genecalls_stats.csv', index=False)"
   ]
  },
  {
   "cell_type": "markdown",
   "id": "1fb9cd0d-2595-4114-8667-d091f4ef9e5a",
   "metadata": {
    "jp-MarkdownHeadingCollapsed": true,
    "tags": []
   },
   "source": [
    "# Interaction analysis with gene weights\n",
    "We chose the two following methods to determine the gene and interaction weights:\n",
    "* **Gene weight** - normalization by the maximum expression value.\n",
    "* **Interaction weight** - product of the two gene weights."
   ]
  },
  {
   "cell_type": "markdown",
   "id": "af0fc2d2-a8d2-41e8-87dc-d30d077dc96c",
   "metadata": {
    "jp-MarkdownHeadingCollapsed": true,
    "tags": []
   },
   "source": [
    "## Compute Weighted Networks"
   ]
  },
  {
   "cell_type": "code",
   "execution_count": 97,
   "id": "7bfdd933",
   "metadata": {},
   "outputs": [],
   "source": [
    "tissues = pd.read_csv(raw_data_dir+'tissue_match.csv', index_col='tissue')"
   ]
  },
  {
   "cell_type": "code",
   "execution_count": 103,
   "id": "2a0b5cc4-8ed5-48cf-94d8-4c14551c8e28",
   "metadata": {},
   "outputs": [
    {
     "data": {
      "application/vnd.jupyter.widget-view+json": {
       "model_id": "454e0291e92b41a38cae4418e15e3065",
       "version_major": 2,
       "version_minor": 0
      },
      "text/plain": [
       "tissue dataset:   0%|          | 0/2 [00:00<?, ?it/s]"
      ]
     },
     "metadata": {},
     "output_type": "display_data"
    },
    {
     "data": {
      "application/vnd.jupyter.widget-view+json": {
       "model_id": "c2c47acb18af4344aa157aca9ee6f44f",
       "version_major": 2,
       "version_minor": 0
      },
      "text/plain": [
       "pairs:   0%|          | 0/528 [00:00<?, ?it/s]"
      ]
     },
     "metadata": {},
     "output_type": "display_data"
    },
    {
     "data": {
      "application/vnd.jupyter.widget-view+json": {
       "model_id": "8a1daa6416d94ec1868bf2fbf27941e6",
       "version_major": 2,
       "version_minor": 0
      },
      "text/plain": [
       "pairs:   0%|          | 0/861 [00:00<?, ?it/s]"
      ]
     },
     "metadata": {},
     "output_type": "display_data"
    }
   ],
   "source": [
    "importlib.reload(intercell_interactions)\n",
    "\n",
    "network_weights = {}\n",
    "all_pairs = {}\n",
    "interaction_graph = {}\n",
    "for td in tqdm(tissue_datasets, desc='tissue dataset'):\n",
    "\n",
    "\n",
    "    gene_weights = pd.read_csv(gene_exp_dir+f'{td}/grouped_records.csv')\n",
    "    gene_weights = gene_weights.pivot_table(values='log2_TPM', index='gene_id', columns='tissue')\n",
    "    gene_weights = gene_weights/np.max(gene_weights.to_numpy(), keepdims=True, axis=1)\n",
    "\n",
    "\n",
    "    tissues_ = tissues[td].dropna().index.unique().to_list()\n",
    "    pair_ids = [p for p in itertools.combinations(tissues_, 2)]\n",
    "    genes = gene_weights.index\n",
    "    interactions = graph[graph.source.isin(genes) & graph.target.isin(genes)]\n",
    "    \n",
    "    inters_pairs = np.zeros((interactions.shape[0], len(pair_ids)))\n",
    "    pairs = []\n",
    "    for i, pair in enumerate(tqdm(pair_ids, desc='pairs')):\n",
    "        \n",
    "        weights = intercell_interactions.weighted_intercell_interactions_analysis(\n",
    "            pair=pair,\n",
    "            weights=gene_weights,\n",
    "            interactions=interactions,\n",
    "        )\n",
    "        \n",
    "        # Keep the interaction's order to be able to index it when computing stats\n",
    "        inters_array = weights.sort_values(by=['source', 'target'])\n",
    "        \n",
    "        inters_pairs[:,i] = inters_array.weight\n",
    "        \n",
    "        pairs.append(pair)\n",
    "    \n",
    "    all_pairs[td] = pairs\n",
    "    network_weights[td] = inters_pairs\n",
    "    interaction_graph[td] = interactions.sort_values(by=['source', 'target'], ignore_index=True)"
   ]
  },
  {
   "cell_type": "code",
   "execution_count": 104,
   "id": "6321884c-2312-43a5-930a-3b4bb2ff8a35",
   "metadata": {},
   "outputs": [
    {
     "name": "stdout",
     "output_type": "stream",
     "text": [
      "gtex differences: Empty DataFrame\n",
      "Columns: []\n",
      "Index: []\n",
      "consensus differences: Empty DataFrame\n",
      "Columns: []\n",
      "Index: []\n"
     ]
    }
   ],
   "source": [
    "# Compare tissue pairs created in the gene calls analysis with those \n",
    "# created in the weighted networks analysis\n",
    "for td in tissue_datasets:\n",
    "    new_pairs = pd.DataFrame(all_pairs[td], columns=['cancer', 'metastasis'])\n",
    "    old_pairs = pd.read_csv(interactions_dir+f'{td}_pairs.csv')\n",
    "    print(f'{td} differences:', new_pairs.compare(old_pairs))"
   ]
  },
  {
   "cell_type": "code",
   "execution_count": 105,
   "id": "00568830-39e0-47cf-80af-19260674d468",
   "metadata": {},
   "outputs": [
    {
     "name": "stdout",
     "output_type": "stream",
     "text": [
      "gtex differences: Empty DataFrame\n",
      "Columns: []\n",
      "Index: []\n",
      "consensus differences: Empty DataFrame\n",
      "Columns: []\n",
      "Index: []\n"
     ]
    }
   ],
   "source": [
    "# Compare interaction graphs created in the gene calls analysis with those \n",
    "# created in the weighted networks analysis\n",
    "for td in tissue_datasets:\n",
    "    old_graph = pd.read_csv(interactions_dir+f'{td}_interactions_graph.csv')\n",
    "    print(f'{td} differences:', interaction_graph[td].compare(old_graph))"
   ]
  },
  {
   "cell_type": "markdown",
   "id": "08808a69-b394-4bee-a7c6-4df07dda5f8b",
   "metadata": {},
   "source": [
    "Since the order of the tissue pairs and graph is the same we can use the index ids created in the gene calls analysis to index the weighted interactions array.\n",
    "No need to export the new the new data to files"
   ]
  },
  {
   "cell_type": "code",
   "execution_count": 106,
   "id": "a16a2e98-3433-492c-8c82-996e49c394bd",
   "metadata": {},
   "outputs": [],
   "source": [
    "for td in network_weights:\n",
    "    np.savetxt(interactions_dir+f'{td}_weighted_networks.txt', network_weights[td])"
   ]
  },
  {
   "cell_type": "markdown",
   "id": "fecdbbc1-c66a-4892-9399-a0e20fe7fccb",
   "metadata": {
    "jp-MarkdownHeadingCollapsed": true,
    "tags": []
   },
   "source": [
    "## Compute stats"
   ]
  },
  {
   "cell_type": "markdown",
   "id": "d058c6a7-85ac-4bdb-bc52-6e4f6392072f",
   "metadata": {
    "jp-MarkdownHeadingCollapsed": true,
    "tags": []
   },
   "source": [
    "### Load data"
   ]
  },
  {
   "cell_type": "code",
   "execution_count": 108,
   "id": "135a0c10-f5ce-4dbb-b5a3-8d9b789fff47",
   "metadata": {},
   "outputs": [
    {
     "name": "stdout",
     "output_type": "stream",
     "text": [
      "(9590, 528)\n",
      "(9857, 861)\n"
     ]
    }
   ],
   "source": [
    "# load weighted interaction arrays\n",
    "inters_array = {\n",
    "    td: np.loadtxt(interactions_dir+f'{td}_weighted_networks.txt') for td in tissue_datasets\n",
    "}\n",
    "\n",
    "print(inters_array['gtex'].shape)\n",
    "print(inters_array['consensus'].shape)"
   ]
  },
  {
   "cell_type": "code",
   "execution_count": 109,
   "id": "47dbee39-aabb-4e0b-8c98-1614ee8cb7b3",
   "metadata": {},
   "outputs": [
    {
     "name": "stdout",
     "output_type": "stream",
     "text": [
      "(9590, 2)\n",
      "(9857, 2)\n"
     ]
    }
   ],
   "source": [
    "# load interactions graph\n",
    "inters_graph = {\n",
    "    td: pd.read_csv(interactions_dir+f'{td}_interactions_graph.csv') for td in tissue_datasets\n",
    "}\n",
    "print(inters_graph['gtex'].shape)\n",
    "print(inters_graph['consensus'].shape)"
   ]
  },
  {
   "cell_type": "markdown",
   "id": "66ad92c7-3f5a-47a8-b910-2466a4eb0df4",
   "metadata": {
    "jp-MarkdownHeadingCollapsed": true,
    "tags": []
   },
   "source": [
    "### Organotropism pairs (hypergeometric test)"
   ]
  },
  {
   "cell_type": "code",
   "execution_count": 110,
   "id": "5d249320-acea-4f80-abb4-e70c1c386f0d",
   "metadata": {},
   "outputs": [
    {
     "data": {
      "application/vnd.jupyter.widget-view+json": {
       "model_id": "494a244294324253bcb06f8bad1fc8ab",
       "version_major": 2,
       "version_minor": 0
      },
      "text/plain": [
       "metastasis_dataset:   0%|          | 0/2 [00:00<?, ?it/s]"
      ]
     },
     "metadata": {},
     "output_type": "display_data"
    },
    {
     "data": {
      "application/vnd.jupyter.widget-view+json": {
       "model_id": "1dca483af1b24876a640889e160fc599",
       "version_major": 2,
       "version_minor": 0
      },
      "text/plain": [
       "tissue_dataset:   0%|          | 0/2 [00:00<?, ?it/s]"
      ]
     },
     "metadata": {},
     "output_type": "display_data"
    },
    {
     "data": {
      "application/vnd.jupyter.widget-view+json": {
       "model_id": "81863156e5db4189b7f8854c6bbecab8",
       "version_major": 2,
       "version_minor": 0
      },
      "text/plain": [
       "interactions:   0%|          | 0/9590 [00:00<?, ?it/s]"
      ]
     },
     "metadata": {},
     "output_type": "display_data"
    },
    {
     "data": {
      "application/vnd.jupyter.widget-view+json": {
       "model_id": "684a65f309ef4d0781a3aa5d0944087b",
       "version_major": 2,
       "version_minor": 0
      },
      "text/plain": [
       "interactions:   0%|          | 0/9857 [00:00<?, ?it/s]"
      ]
     },
     "metadata": {},
     "output_type": "display_data"
    },
    {
     "data": {
      "application/vnd.jupyter.widget-view+json": {
       "model_id": "85c1cc74913941459904bc33d4a0f0c9",
       "version_major": 2,
       "version_minor": 0
      },
      "text/plain": [
       "tissue_dataset:   0%|          | 0/2 [00:00<?, ?it/s]"
      ]
     },
     "metadata": {},
     "output_type": "display_data"
    },
    {
     "data": {
      "application/vnd.jupyter.widget-view+json": {
       "model_id": "217d91874c1846e09b10636f8efba5a0",
       "version_major": 2,
       "version_minor": 0
      },
      "text/plain": [
       "interactions:   0%|          | 0/9590 [00:00<?, ?it/s]"
      ]
     },
     "metadata": {},
     "output_type": "display_data"
    },
    {
     "data": {
      "application/vnd.jupyter.widget-view+json": {
       "model_id": "0c36639b5a1846b0a3e56eada1a04203",
       "version_major": 2,
       "version_minor": 0
      },
      "text/plain": [
       "interactions:   0%|          | 0/9857 [00:00<?, ?it/s]"
      ]
     },
     "metadata": {},
     "output_type": "display_data"
    }
   ],
   "source": [
    "importlib.reload(intercell_interactions)\n",
    "inter_stats = []\n",
    "\n",
    "for mt in tqdm(metastasis_datasets, desc='metastasis_dataset'):\n",
    "    for td in tqdm(tissue_datasets, desc='tissue_dataset'):\n",
    "        # define the condition of the hypergeometric test organotropism pairs to use\n",
    "        # we'll use fdr corrected and all_tissues data\n",
    "        org_pairs_ = org_pairs.loc[\n",
    "            (org_pairs.metastasis_dataset==mt) &\n",
    "            (org_pairs.tissue_dataset==td) &\n",
    "            (org_pairs.type=='organotropism'), ['cancer', 'metastasis', 'type']]\n",
    "\n",
    "        # since we are using grouped tissues we only need info about cancer and metastasis organs\n",
    "        # we have to remove duplicate entries for the same labels\n",
    "        org_pairs_.drop_duplicates(inplace=True)\n",
    "\n",
    "        # add org and n_org labels to tissue pairs\n",
    "        tissue_pairs = pd.read_csv(interactions_dir+f'{mt}_{td}_pairs.csv')\n",
    "        labels = pd.merge(tissue_pairs, org_pairs_, how='left')\n",
    "\n",
    "        labels.type[labels.type=='organotropism'] = 'org'\n",
    "        labels.fillna('n_org', inplace=True)\n",
    "\n",
    "        # in the undirected approach we will treat each network has unique, \n",
    "        # not caring which tissue is the cancer or metastasis tissue\n",
    "        # If a pair is both organotropism and not organotropism depending\n",
    "        # on the tissue classification, we'll consider only it's appearance\n",
    "        # as an organotropism pair\n",
    "        \n",
    "        unique_labels = labels.sort_values('type').drop_duplicates(subset='id', keep='last')\n",
    "        \n",
    "        # having the labeled pairs prepared now we have to select this pairs\n",
    "        # in the interactions array\n",
    "        pairs_inters = inters_array[td][:, unique_labels.id]\n",
    "  \n",
    "        # finally, we need to iterate all interactions build contingency tables and\n",
    "        # compute the odds ratio\n",
    "        statistics = Parallel(n_jobs=-1)(delayed(intercell_interactions.weighted_interaction_stats)(\n",
    "                pairs_inters[i,:],\n",
    "                unique_labels.type,\n",
    "                inters_graph[td].iloc[i].to_list(),\n",
    "                [('metastasis_dataset', mt), ('tissue_dataset', td)]\n",
    "            ) for i in tnrange(pairs_inters.shape[0], desc='interactions'))\n",
    "\n",
    "        inter_stats.extend(statistics)\n",
    "\n",
    "inter_stats_plot = pd.DataFrame(inter_stats)\n",
    "inter_stats_plot.to_csv(interactions_dir+'undirected_orgpairs_weighted_network_stats.csv', index=False)"
   ]
  },
  {
   "cell_type": "markdown",
   "id": "fc1cf63b-4d11-4453-a64c-da37c218525a",
   "metadata": {
    "jp-MarkdownHeadingCollapsed": true,
    "tags": []
   },
   "source": [
    "### Frequency"
   ]
  },
  {
   "cell_type": "code",
   "execution_count": 112,
   "id": "06f5a1e7-7238-4fe9-89e1-4f5b6059c3a7",
   "metadata": {},
   "outputs": [
    {
     "data": {
      "application/vnd.jupyter.widget-view+json": {
       "model_id": "ec15442305804d76a6f043034751e843",
       "version_major": 2,
       "version_minor": 0
      },
      "text/plain": [
       "metastasis_dataset:   0%|          | 0/2 [00:00<?, ?it/s]"
      ]
     },
     "metadata": {},
     "output_type": "display_data"
    },
    {
     "data": {
      "application/vnd.jupyter.widget-view+json": {
       "model_id": "0ddad4e70b92499b9ae52ef5aa7844f4",
       "version_major": 2,
       "version_minor": 0
      },
      "text/plain": [
       "tissue_dataset:   0%|          | 0/2 [00:00<?, ?it/s]"
      ]
     },
     "metadata": {},
     "output_type": "display_data"
    },
    {
     "data": {
      "application/vnd.jupyter.widget-view+json": {
       "model_id": "dfe7b9d91f7c4953af4bedc7ec95e2a1",
       "version_major": 2,
       "version_minor": 0
      },
      "text/plain": [
       "interactions:   0%|          | 0/9590 [00:00<?, ?it/s]"
      ]
     },
     "metadata": {},
     "output_type": "display_data"
    },
    {
     "data": {
      "application/vnd.jupyter.widget-view+json": {
       "model_id": "e8d2dfe68dbf465d90e0a83fb59fd142",
       "version_major": 2,
       "version_minor": 0
      },
      "text/plain": [
       "interactions:   0%|          | 0/9857 [00:00<?, ?it/s]"
      ]
     },
     "metadata": {},
     "output_type": "display_data"
    },
    {
     "data": {
      "application/vnd.jupyter.widget-view+json": {
       "model_id": "6484657bb5ae479e911d819c09155045",
       "version_major": 2,
       "version_minor": 0
      },
      "text/plain": [
       "tissue_dataset:   0%|          | 0/2 [00:00<?, ?it/s]"
      ]
     },
     "metadata": {},
     "output_type": "display_data"
    },
    {
     "data": {
      "application/vnd.jupyter.widget-view+json": {
       "model_id": "ffc7039a5acd4cb29443550bce40b887",
       "version_major": 2,
       "version_minor": 0
      },
      "text/plain": [
       "interactions:   0%|          | 0/9590 [00:00<?, ?it/s]"
      ]
     },
     "metadata": {},
     "output_type": "display_data"
    },
    {
     "data": {
      "application/vnd.jupyter.widget-view+json": {
       "model_id": "4787fd4a70784e8294b9d2f920393b5d",
       "version_major": 2,
       "version_minor": 0
      },
      "text/plain": [
       "interactions:   0%|          | 0/9857 [00:00<?, ?it/s]"
      ]
     },
     "metadata": {},
     "output_type": "display_data"
    }
   ],
   "source": [
    "importlib.reload(intercell_interactions)\n",
    "inter_stats = []\n",
    "\n",
    "for mt in tqdm(metastasis_datasets, desc='metastasis_dataset'):\n",
    "    for td in tqdm(tissue_datasets, desc='tissue_dataset'):\n",
    "\n",
    "        tissue_pairs = pd.read_csv(interactions_dir+f'{mt}_{td}_pairs.csv')\n",
    "        \n",
    "        pairs_inters = inters_array[td][:, tissue_pairs.id]\n",
    "        \n",
    "        statistics = Parallel(n_jobs=-1)(delayed(\n",
    "            intercell_interactions.weighted_freq_interaction_stats)(\n",
    "                pairs_inters[i,:],\n",
    "                tissue_pairs.freq,\n",
    "                inters_graph[td].iloc[i].to_list(),\n",
    "                [('metastasis_dataset', mt), ('tissue_dataset', td)]\n",
    "            ) for i in tnrange(pairs_inters.shape[0], desc='interactions'))\n",
    "\n",
    "        inter_stats.extend(statistics)\n",
    "\n",
    "inter_stats_plot = pd.DataFrame(inter_stats)\n",
    "inter_stats_plot.to_csv(interactions_dir+'undirected_frequency_weighted_network_stats.csv', index=False)"
   ]
  },
  {
   "cell_type": "markdown",
   "id": "e5755c7f-047e-43fd-93ee-1bacb8c458e1",
   "metadata": {
    "jp-MarkdownHeadingCollapsed": true,
    "tags": []
   },
   "source": [
    "# Interaction Selection"
   ]
  },
  {
   "cell_type": "code",
   "execution_count": 113,
   "id": "993c6167-4d94-44bc-8742-05fa51d9828e",
   "metadata": {
    "tags": []
   },
   "outputs": [],
   "source": [
    "network_type = ['genecalls', 'weighted_network']\n",
    "pairs_type = ['orgpairs', 'frequency']"
   ]
  },
  {
   "cell_type": "markdown",
   "id": "5805b69b-725a-42b3-8de3-da224485af44",
   "metadata": {
    "jp-MarkdownHeadingCollapsed": true,
    "tags": []
   },
   "source": [
    "## load datasets"
   ]
  },
  {
   "cell_type": "code",
   "execution_count": 114,
   "id": "97d91d08-a870-46d4-a4e7-d6ae529d92cd",
   "metadata": {},
   "outputs": [],
   "source": [
    "conditions = {pt:{} for pt in pairs_type}\n",
    "for pt in pairs_type:\n",
    "    for nt in network_type:\n",
    "        conditions[pt][nt] = pd.read_csv(interactions_dir+f'undirected_{pt}_{nt}_stats.csv')"
   ]
  },
  {
   "cell_type": "code",
   "execution_count": 115,
   "id": "c10af7eb-5d8b-4907-a91f-177e2e2aa304",
   "metadata": {},
   "outputs": [],
   "source": [
    "# load interaction vs tissue pairs arrays\n",
    "interaction_arrays = {nt:{} for nt in network_type}\n",
    "for nt in network_type:\n",
    "    for td in tissue_datasets:\n",
    "        if nt == 'genecalls':\n",
    "            interaction_arrays[nt][td] = np.loadtxt(interactions_dir+f'{td}_interactions.txt', dtype='int64')\n",
    "        else:\n",
    "            interaction_arrays[nt][td] = np.loadtxt(interactions_dir+f'{td}_weighted_networks.txt')"
   ]
  },
  {
   "cell_type": "code",
   "execution_count": 116,
   "id": "a1c58d5f-5329-4457-9f8b-238531f7a005",
   "metadata": {},
   "outputs": [
    {
     "name": "stdout",
     "output_type": "stream",
     "text": [
      "genecalls gtex (9590, 528)\n",
      "genecalls consensus (9857, 861)\n",
      "weighted_network gtex (9590, 528)\n",
      "weighted_network consensus (9857, 861)\n"
     ]
    }
   ],
   "source": [
    "for nt in interaction_arrays:\n",
    "    for td in interaction_arrays[nt]:\n",
    "        print(nt, td, interaction_arrays[nt][td].shape)"
   ]
  },
  {
   "cell_type": "code",
   "execution_count": 119,
   "id": "9a28d677-572f-4362-8526-56988937b752",
   "metadata": {},
   "outputs": [],
   "source": [
    "# load tissue pairs\n",
    "tissue_pairs = {mt:{} for mt in metastasis_datasets}\n",
    "for mt in metastasis_datasets:\n",
    "    for td in tissue_datasets:\n",
    "        tissue_pairs[mt][td] = pd.read_csv(interactions_dir+f'{mt}_{td}_pairs.csv')"
   ]
  },
  {
   "cell_type": "code",
   "execution_count": 121,
   "id": "61b9dddd-5031-4226-97f1-b65dd8b045bd",
   "metadata": {},
   "outputs": [],
   "source": [
    "gene_tau = {\n",
    "    td: pd.read_csv(gene_exp_dir+f'{td}/records.csv', usecols=['gene_id', 'tau'])\\\n",
    "        .drop_duplicates(ignore_index=True) for td in tissue_datasets\n",
    "}"
   ]
  },
  {
   "cell_type": "code",
   "execution_count": 122,
   "id": "96485edd-077b-4711-83db-c32549dbadeb",
   "metadata": {},
   "outputs": [
    {
     "data": {
      "text/html": [
       "<div>\n",
       "<style scoped>\n",
       "    .dataframe tbody tr th:only-of-type {\n",
       "        vertical-align: middle;\n",
       "    }\n",
       "\n",
       "    .dataframe tbody tr th {\n",
       "        vertical-align: top;\n",
       "    }\n",
       "\n",
       "    .dataframe thead th {\n",
       "        text-align: right;\n",
       "    }\n",
       "</style>\n",
       "<table border=\"1\" class=\"dataframe\">\n",
       "  <thead>\n",
       "    <tr style=\"text-align: right;\">\n",
       "      <th></th>\n",
       "      <th>source</th>\n",
       "      <th>target</th>\n",
       "    </tr>\n",
       "  </thead>\n",
       "  <tbody>\n",
       "    <tr>\n",
       "      <th>0</th>\n",
       "      <td>A2M</td>\n",
       "      <td>KLK3</td>\n",
       "    </tr>\n",
       "    <tr>\n",
       "      <th>1</th>\n",
       "      <td>A2M</td>\n",
       "      <td>LRP1</td>\n",
       "    </tr>\n",
       "  </tbody>\n",
       "</table>\n",
       "</div>"
      ],
      "text/plain": [
       "  source target\n",
       "0    A2M   KLK3\n",
       "1    A2M   LRP1"
      ]
     },
     "execution_count": 122,
     "metadata": {},
     "output_type": "execute_result"
    }
   ],
   "source": [
    "# load interactions graph\n",
    "inter_graph = {\n",
    "    td: pd.read_csv(interactions_dir+f'{td}_interactions_graph.csv') for td in tissue_datasets\n",
    "}\n",
    "inter_graph['gtex'].head(2)"
   ]
  },
  {
   "cell_type": "code",
   "execution_count": 123,
   "id": "2b74748d-2298-4e36-9268-6d2388135b02",
   "metadata": {},
   "outputs": [
    {
     "name": "stdout",
     "output_type": "stream",
     "text": [
      "(10170, 4)\n"
     ]
    },
    {
     "data": {
      "text/html": [
       "<div>\n",
       "<style scoped>\n",
       "    .dataframe tbody tr th:only-of-type {\n",
       "        vertical-align: middle;\n",
       "    }\n",
       "\n",
       "    .dataframe tbody tr th {\n",
       "        vertical-align: top;\n",
       "    }\n",
       "\n",
       "    .dataframe thead th {\n",
       "        text-align: right;\n",
       "    }\n",
       "</style>\n",
       "<table border=\"1\" class=\"dataframe\">\n",
       "  <thead>\n",
       "    <tr style=\"text-align: right;\">\n",
       "      <th></th>\n",
       "      <th>source</th>\n",
       "      <th>target</th>\n",
       "      <th>gtex</th>\n",
       "      <th>consensus</th>\n",
       "    </tr>\n",
       "  </thead>\n",
       "  <tbody>\n",
       "    <tr>\n",
       "      <th>0</th>\n",
       "      <td>APP</td>\n",
       "      <td>GRM7</td>\n",
       "      <td>426.0</td>\n",
       "      <td>429.0</td>\n",
       "    </tr>\n",
       "    <tr>\n",
       "      <th>1</th>\n",
       "      <td>CXCL16</td>\n",
       "      <td>GRM7</td>\n",
       "      <td>2883.0</td>\n",
       "      <td>2927.0</td>\n",
       "    </tr>\n",
       "  </tbody>\n",
       "</table>\n",
       "</div>"
      ],
      "text/plain": [
       "   source target    gtex  consensus\n",
       "0     APP   GRM7   426.0      429.0\n",
       "1  CXCL16   GRM7  2883.0     2927.0"
      ]
     },
     "execution_count": 123,
     "metadata": {},
     "output_type": "execute_result"
    }
   ],
   "source": [
    "full_graph = graph.copy()\n",
    "for td in tissue_datasets:\n",
    "    x = inter_graph[td].reset_index().rename({'index': td}, axis=1)\n",
    "    full_graph = pd.merge(full_graph, x, how='left')\n",
    "    \n",
    "print(full_graph.shape)\n",
    "full_graph.head(2)"
   ]
  },
  {
   "cell_type": "markdown",
   "id": "46a64475-5d43-4dc2-b93b-1d7933ff75cd",
   "metadata": {
    "jp-MarkdownHeadingCollapsed": true,
    "tags": []
   },
   "source": [
    "## Record significant interactions\n",
    "Firstly, we will record the sign of the interaction:\n",
    "* Positive: interactions that promote metastasis development\n",
    "* Negative: interactions that hinder metastasis development\n",
    "\n",
    "This groups will be defined by:\n",
    "* genecalls + hypertest: the $\\log{(OR)}$ sign has same direction as the interaction sign\n",
    "* genecalls + frequency: we use the Mann-Whitney U the sign of the difference between the Mann-Whitney U statistics of the two groups\n",
    "* weighted_network + hypertest: we use the Mann-Whitney U the sign of the difference between the Mann-Whitney U statistics of the two groups\n",
    "* weighted_network + frequency: the sign of the correlation coefficient has the same direction as the interaction sign"
   ]
  },
  {
   "cell_type": "code",
   "execution_count": 125,
   "id": "df5c42f0-82a3-4735-8a16-928b04853460",
   "metadata": {},
   "outputs": [],
   "source": [
    "statistics = [['logOR'], ['MWU_org_stat', 'MWU_n_org_stat'], ['MWU_inter_stat', 'MWU_n_inter_stat'], ['spearman']]\n",
    "\n",
    "for pt in pairs_type:\n",
    "    for nt in network_type:\n",
    "        x = conditions[pt][nt]\n",
    "        \n",
    "        for i in statistics:\n",
    "\n",
    "            try:\n",
    "                if len(i) == 1:\n",
    "                    y = x.copy()\n",
    "                    y[y[i[0]] > 0] = 1\n",
    "                    y[y[i[0]] < 0] = -1\n",
    "                    y[y[i[0]] == 0] = 0\n",
    "                    \n",
    "                    x['signal'] = y[i[0]]\n",
    "                    \n",
    "                    if i[0] == 'logOR':\n",
    "                        x['value'] = x['OR']\n",
    "                        x['stat'] = ['OR' for j in range(x.shape[0])]\n",
    "                    else:\n",
    "                        x['value'] = abs(x['spearman'])\n",
    "                        x['stat'] = ['spearman' for j in range(x.shape[0])]\n",
    "                    \n",
    "                else:\n",
    "                    y = x.copy()\n",
    "                    cond = y[i[0]] - y[i[1]]\n",
    "                    y[cond > 0] = 1\n",
    "                    y[cond < 0] = -1\n",
    "                    y[cond == 0] = 0\n",
    "                    x['signal'] = y[i[0]]\n",
    "                    \n",
    "                    # value = U1 - U2\n",
    "                    x['value'] = x.iloc[:,4] - x.iloc[:,5]\n",
    "                    x['stat'] = ['MWU_ratio' for i in range(x.shape[0])]\n",
    "            except KeyError:\n",
    "                pass"
   ]
  },
  {
   "cell_type": "code",
   "execution_count": 126,
   "id": "98a3ac04-7481-44bc-8d13-1022b73407e2",
   "metadata": {},
   "outputs": [
    {
     "name": "stdout",
     "output_type": "stream",
     "text": [
      "38894\n",
      "27374\n",
      "\n",
      "38894\n",
      "38894\n",
      "\n",
      "32947\n",
      "32947\n",
      "\n",
      "38894\n",
      "38894\n",
      "\n"
     ]
    }
   ],
   "source": [
    "for pt in pairs_type:\n",
    "    for nt in network_type:\n",
    "        y = conditions[pt][nt]\n",
    "        tests = ['fisher_exact', 'MannWhitneyU', 'pvalue']\n",
    "        stat_label = [i for i in tests if i in y.columns.to_list()][0]\n",
    "        print(y.dropna(subset=[stat_label], axis=0).shape[0])\n",
    "        print(y.dropna(subset=['signal'], axis=0).shape[0])\n",
    "        print()"
   ]
  },
  {
   "cell_type": "code",
   "execution_count": 129,
   "id": "7977a993-f6de-46be-9dfd-a73557a652a1",
   "metadata": {},
   "outputs": [
    {
     "data": {
      "application/vnd.jupyter.widget-view+json": {
       "model_id": "715e93e086914c73acfbece6fe56ae41",
       "version_major": 2,
       "version_minor": 0
      },
      "text/plain": [
       "pair type:   0%|          | 0/2 [00:00<?, ?it/s]"
      ]
     },
     "metadata": {},
     "output_type": "display_data"
    },
    {
     "data": {
      "application/vnd.jupyter.widget-view+json": {
       "model_id": "48a8b50e54d64f72ba79ab7b55c7362c",
       "version_major": 2,
       "version_minor": 0
      },
      "text/plain": [
       "network type:   0%|          | 0/2 [00:00<?, ?it/s]"
      ]
     },
     "metadata": {},
     "output_type": "display_data"
    },
    {
     "data": {
      "application/vnd.jupyter.widget-view+json": {
       "model_id": "df6fe63600e4486f98501b332d723a98",
       "version_major": 2,
       "version_minor": 0
      },
      "text/plain": [
       "network type:   0%|          | 0/2 [00:00<?, ?it/s]"
      ]
     },
     "metadata": {},
     "output_type": "display_data"
    },
    {
     "data": {
      "text/html": [
       "<div>\n",
       "<style scoped>\n",
       "    .dataframe tbody tr th:only-of-type {\n",
       "        vertical-align: middle;\n",
       "    }\n",
       "\n",
       "    .dataframe tbody tr th {\n",
       "        vertical-align: top;\n",
       "    }\n",
       "\n",
       "    .dataframe thead th {\n",
       "        text-align: right;\n",
       "    }\n",
       "</style>\n",
       "<table border=\"1\" class=\"dataframe\">\n",
       "  <thead>\n",
       "    <tr style=\"text-align: right;\">\n",
       "      <th></th>\n",
       "      <th>pairs_type</th>\n",
       "      <th>network_type</th>\n",
       "      <th>metastasis_dataset</th>\n",
       "      <th>tissue_dataset</th>\n",
       "      <th>interaction</th>\n",
       "      <th>signal</th>\n",
       "      <th>value</th>\n",
       "      <th>stat</th>\n",
       "      <th>pval</th>\n",
       "      <th>pval_corr</th>\n",
       "    </tr>\n",
       "  </thead>\n",
       "  <tbody>\n",
       "    <tr>\n",
       "      <th>0</th>\n",
       "      <td>orgpairs</td>\n",
       "      <td>genecalls</td>\n",
       "      <td>autopsy</td>\n",
       "      <td>gtex</td>\n",
       "      <td>[]</td>\n",
       "      <td>[]</td>\n",
       "      <td>Series([], Name: value, dtype: float64)</td>\n",
       "      <td>Series([], Name: stat, dtype: object)</td>\n",
       "      <td>Series([], Name: fisher_exact, dtype: float64)</td>\n",
       "      <td>Series([], Name: fisher_exact_corr, dtype: flo...</td>\n",
       "    </tr>\n",
       "    <tr>\n",
       "      <th>1</th>\n",
       "      <td>orgpairs</td>\n",
       "      <td>genecalls</td>\n",
       "      <td>autopsy</td>\n",
       "      <td>consensus</td>\n",
       "      <td>[]</td>\n",
       "      <td>[]</td>\n",
       "      <td>Series([], Name: value, dtype: float64)</td>\n",
       "      <td>Series([], Name: stat, dtype: object)</td>\n",
       "      <td>Series([], Name: fisher_exact, dtype: float64)</td>\n",
       "      <td>Series([], Name: fisher_exact_corr, dtype: flo...</td>\n",
       "    </tr>\n",
       "  </tbody>\n",
       "</table>\n",
       "</div>"
      ],
      "text/plain": [
       "  pairs_type network_type metastasis_dataset tissue_dataset interaction  \\\n",
       "0   orgpairs    genecalls            autopsy           gtex          []   \n",
       "1   orgpairs    genecalls            autopsy      consensus          []   \n",
       "\n",
       "  signal                                    value  \\\n",
       "0     []  Series([], Name: value, dtype: float64)   \n",
       "1     []  Series([], Name: value, dtype: float64)   \n",
       "\n",
       "                                    stat  \\\n",
       "0  Series([], Name: stat, dtype: object)   \n",
       "1  Series([], Name: stat, dtype: object)   \n",
       "\n",
       "                                             pval  \\\n",
       "0  Series([], Name: fisher_exact, dtype: float64)   \n",
       "1  Series([], Name: fisher_exact, dtype: float64)   \n",
       "\n",
       "                                           pval_corr  \n",
       "0  Series([], Name: fisher_exact_corr, dtype: flo...  \n",
       "1  Series([], Name: fisher_exact_corr, dtype: flo...  "
      ]
     },
     "execution_count": 129,
     "metadata": {},
     "output_type": "execute_result"
    }
   ],
   "source": [
    "# record significant interactions (p-value<0.05)\n",
    "# and correct for multiple tests\n",
    "interactions = []\n",
    "\n",
    "for pt in tqdm(pairs_type, desc='pair type'):\n",
    "    for nt in tqdm(network_type, desc='network type'):\n",
    "        x = conditions[pt][nt]\n",
    "        for mt in metastasis_datasets:\n",
    "            for td in tissue_datasets:\n",
    "                \n",
    "                y = x[(x.metastasis_dataset==mt)&\n",
    "                      (x.tissue_dataset==td)].reset_index(drop=True).dropna()\n",
    "                \n",
    "                # each dataset (y) has the same number of interactions with the\n",
    "                # same order as the intercell graph for each tissue dataset\n",
    "                # that way, we can use the newly created index to index \n",
    "                # interactions on the original graph\n",
    "                \n",
    "                tests = ['fisher_exact', 'MannWhitneyU', 'pvalue']\n",
    "                stat_label = [i for i in tests if i in y.columns.to_list()][0]\n",
    "                \n",
    "                reject, pval = multitest.fdrcorrection(y[stat_label])\n",
    "                \n",
    "                stat_label_corr = stat_label + '_corr'\n",
    "                y[stat_label_corr] = pval\n",
    "                \n",
    "                # filter using a significance of 0.05\n",
    "                sign_inters = y[y[stat_label_corr]<0.05]\n",
    "                \n",
    "                interactions.append({\n",
    "                    'pairs_type': pt,\n",
    "                    'network_type': nt,\n",
    "                    'metastasis_dataset': mt,\n",
    "                    'tissue_dataset': td,\n",
    "                    'interaction': sign_inters.index.to_list(),\n",
    "                    'signal': sign_inters.signal.to_list(),\n",
    "                    'value': sign_inters['value'],\n",
    "                    'stat': sign_inters['stat'],\n",
    "                    'pval': sign_inters[stat_label],\n",
    "                    'pval_corr': sign_inters[stat_label_corr]\n",
    "                })\n",
    "\n",
    "interactions = pd.DataFrame(interactions)\n",
    "interactions.head(2)"
   ]
  },
  {
   "cell_type": "code",
   "execution_count": 130,
   "id": "644ea6fb-426b-4bac-886c-1862c7a18ad2",
   "metadata": {},
   "outputs": [
    {
     "data": {
      "text/html": [
       "<div>\n",
       "<style scoped>\n",
       "    .dataframe tbody tr th:only-of-type {\n",
       "        vertical-align: middle;\n",
       "    }\n",
       "\n",
       "    .dataframe tbody tr th {\n",
       "        vertical-align: top;\n",
       "    }\n",
       "\n",
       "    .dataframe thead th {\n",
       "        text-align: right;\n",
       "    }\n",
       "</style>\n",
       "<table border=\"1\" class=\"dataframe\">\n",
       "  <thead>\n",
       "    <tr style=\"text-align: right;\">\n",
       "      <th></th>\n",
       "      <th>pairs_type</th>\n",
       "      <th>network_type</th>\n",
       "      <th>metastasis_dataset</th>\n",
       "      <th>tissue_dataset</th>\n",
       "      <th>interaction</th>\n",
       "      <th>signal</th>\n",
       "      <th>value</th>\n",
       "      <th>stat</th>\n",
       "      <th>pval</th>\n",
       "      <th>pval_corr</th>\n",
       "    </tr>\n",
       "  </thead>\n",
       "  <tbody>\n",
       "    <tr>\n",
       "      <th>15</th>\n",
       "      <td>frequency</td>\n",
       "      <td>weighted_network</td>\n",
       "      <td>hcmdb</td>\n",
       "      <td>consensus</td>\n",
       "      <td>9835</td>\n",
       "      <td>1.0</td>\n",
       "      <td>0.216349</td>\n",
       "      <td>spearman</td>\n",
       "      <td>0.00005</td>\n",
       "      <td>0.00036</td>\n",
       "    </tr>\n",
       "    <tr>\n",
       "      <th>15</th>\n",
       "      <td>frequency</td>\n",
       "      <td>weighted_network</td>\n",
       "      <td>hcmdb</td>\n",
       "      <td>consensus</td>\n",
       "      <td>9836</td>\n",
       "      <td>1.0</td>\n",
       "      <td>0.261254</td>\n",
       "      <td>spearman</td>\n",
       "      <td>0.000001</td>\n",
       "      <td>0.000019</td>\n",
       "    </tr>\n",
       "    <tr>\n",
       "      <th>15</th>\n",
       "      <td>frequency</td>\n",
       "      <td>weighted_network</td>\n",
       "      <td>hcmdb</td>\n",
       "      <td>consensus</td>\n",
       "      <td>9837</td>\n",
       "      <td>1.0</td>\n",
       "      <td>0.142113</td>\n",
       "      <td>spearman</td>\n",
       "      <td>0.008113</td>\n",
       "      <td>0.023471</td>\n",
       "    </tr>\n",
       "    <tr>\n",
       "      <th>15</th>\n",
       "      <td>frequency</td>\n",
       "      <td>weighted_network</td>\n",
       "      <td>hcmdb</td>\n",
       "      <td>consensus</td>\n",
       "      <td>9851</td>\n",
       "      <td>-1.0</td>\n",
       "      <td>0.191411</td>\n",
       "      <td>spearman</td>\n",
       "      <td>0.000343</td>\n",
       "      <td>0.001697</td>\n",
       "    </tr>\n",
       "    <tr>\n",
       "      <th>15</th>\n",
       "      <td>frequency</td>\n",
       "      <td>weighted_network</td>\n",
       "      <td>hcmdb</td>\n",
       "      <td>consensus</td>\n",
       "      <td>9856</td>\n",
       "      <td>1.0</td>\n",
       "      <td>0.162239</td>\n",
       "      <td>spearman</td>\n",
       "      <td>0.00247</td>\n",
       "      <td>0.008668</td>\n",
       "    </tr>\n",
       "  </tbody>\n",
       "</table>\n",
       "</div>"
      ],
      "text/plain": [
       "   pairs_type      network_type metastasis_dataset tissue_dataset interaction  \\\n",
       "15  frequency  weighted_network              hcmdb      consensus        9835   \n",
       "15  frequency  weighted_network              hcmdb      consensus        9836   \n",
       "15  frequency  weighted_network              hcmdb      consensus        9837   \n",
       "15  frequency  weighted_network              hcmdb      consensus        9851   \n",
       "15  frequency  weighted_network              hcmdb      consensus        9856   \n",
       "\n",
       "   signal     value      stat      pval pval_corr  \n",
       "15    1.0  0.216349  spearman   0.00005   0.00036  \n",
       "15    1.0  0.261254  spearman  0.000001  0.000019  \n",
       "15    1.0  0.142113  spearman  0.008113  0.023471  \n",
       "15   -1.0  0.191411  spearman  0.000343  0.001697  \n",
       "15    1.0  0.162239  spearman   0.00247  0.008668  "
      ]
     },
     "metadata": {},
     "output_type": "display_data"
    },
    {
     "data": {
      "text/html": [
       "<div>\n",
       "<style scoped>\n",
       "    .dataframe tbody tr th:only-of-type {\n",
       "        vertical-align: middle;\n",
       "    }\n",
       "\n",
       "    .dataframe tbody tr th {\n",
       "        vertical-align: top;\n",
       "    }\n",
       "\n",
       "    .dataframe thead th {\n",
       "        text-align: right;\n",
       "    }\n",
       "</style>\n",
       "<table border=\"1\" class=\"dataframe\">\n",
       "  <thead>\n",
       "    <tr style=\"text-align: right;\">\n",
       "      <th></th>\n",
       "      <th>tissue_dataset</th>\n",
       "      <th>interaction</th>\n",
       "      <th>size</th>\n",
       "    </tr>\n",
       "  </thead>\n",
       "  <tbody>\n",
       "    <tr>\n",
       "      <th>0</th>\n",
       "      <td>consensus</td>\n",
       "      <td>0</td>\n",
       "      <td>1</td>\n",
       "    </tr>\n",
       "    <tr>\n",
       "      <th>1</th>\n",
       "      <td>consensus</td>\n",
       "      <td>3</td>\n",
       "      <td>3</td>\n",
       "    </tr>\n",
       "  </tbody>\n",
       "</table>\n",
       "</div>"
      ],
      "text/plain": [
       "  tissue_dataset  interaction  size\n",
       "0      consensus            0     1\n",
       "1      consensus            3     3"
      ]
     },
     "execution_count": 130,
     "metadata": {},
     "output_type": "execute_result"
    }
   ],
   "source": [
    "# count how many times each interaction appears in all conditions\n",
    "interactions_records = interactions.explode(['interaction', 'signal', 'value', 'stat', 'pval', 'pval_corr'])\n",
    "display(interactions_records.tail(5))\n",
    "grouped = interactions_records.groupby(['tissue_dataset', 'interaction'], as_index=False).size()\n",
    "grouped.head(2)"
   ]
  },
  {
   "cell_type": "code",
   "execution_count": 131,
   "id": "57d90533-de59-42eb-aa51-0de4fe43b5ca",
   "metadata": {},
   "outputs": [],
   "source": [
    "# merge interaction counts in each tissue dataset graph with the full interaction graph\n",
    "# preserve all interactions: left (full graph) keys\n",
    "# interactions that do not appear in one graph or both graphs will have a NaN count\n",
    "counts = full_graph.copy()\n",
    "for td in tissue_datasets:\n",
    "    x = grouped.loc[grouped.tissue_dataset==td, ['interaction', 'size']]\n",
    "    counts = pd.merge(counts, x, left_on=td, right_on='interaction', how='left')\n",
    "\n",
    "# sum counts from both graphs\n",
    "counts['size_x'] = counts['size_x'].fillna(0)\n",
    "counts['size_y'] = counts['size_y'].fillna(0)\n",
    "counts['count'] = counts['size_x']+counts['size_y']"
   ]
  },
  {
   "cell_type": "code",
   "execution_count": 132,
   "id": "1add61ec-4fc9-4dd1-b576-66325ccd49b8",
   "metadata": {},
   "outputs": [
    {
     "data": {
      "text/html": [
       "<div>\n",
       "<style scoped>\n",
       "    .dataframe tbody tr th:only-of-type {\n",
       "        vertical-align: middle;\n",
       "    }\n",
       "\n",
       "    .dataframe tbody tr th {\n",
       "        vertical-align: top;\n",
       "    }\n",
       "\n",
       "    .dataframe thead th {\n",
       "        text-align: right;\n",
       "    }\n",
       "</style>\n",
       "<table border=\"1\" class=\"dataframe\">\n",
       "  <thead>\n",
       "    <tr style=\"text-align: right;\">\n",
       "      <th></th>\n",
       "      <th>source</th>\n",
       "      <th>target</th>\n",
       "      <th>gtex</th>\n",
       "      <th>consensus</th>\n",
       "      <th>count</th>\n",
       "    </tr>\n",
       "  </thead>\n",
       "  <tbody>\n",
       "    <tr>\n",
       "      <th>9654</th>\n",
       "      <td>PF4</td>\n",
       "      <td>CD163</td>\n",
       "      <td>7101.0</td>\n",
       "      <td>7306.0</td>\n",
       "      <td>8.0</td>\n",
       "    </tr>\n",
       "    <tr>\n",
       "      <th>7133</th>\n",
       "      <td>PF4</td>\n",
       "      <td>LDLR</td>\n",
       "      <td>7112.0</td>\n",
       "      <td>7317.0</td>\n",
       "      <td>8.0</td>\n",
       "    </tr>\n",
       "    <tr>\n",
       "      <th>2172</th>\n",
       "      <td>PF4</td>\n",
       "      <td>FGFR2</td>\n",
       "      <td>7110.0</td>\n",
       "      <td>7315.0</td>\n",
       "      <td>8.0</td>\n",
       "    </tr>\n",
       "    <tr>\n",
       "      <th>7749</th>\n",
       "      <td>SERPINA5</td>\n",
       "      <td>CPB2</td>\n",
       "      <td>7988.0</td>\n",
       "      <td>8236.0</td>\n",
       "      <td>8.0</td>\n",
       "    </tr>\n",
       "    <tr>\n",
       "      <th>4592</th>\n",
       "      <td>PRTN3</td>\n",
       "      <td>F2RL1</td>\n",
       "      <td>7363.0</td>\n",
       "      <td>7573.0</td>\n",
       "      <td>8.0</td>\n",
       "    </tr>\n",
       "    <tr>\n",
       "      <th>...</th>\n",
       "      <td>...</td>\n",
       "      <td>...</td>\n",
       "      <td>...</td>\n",
       "      <td>...</td>\n",
       "      <td>...</td>\n",
       "    </tr>\n",
       "    <tr>\n",
       "      <th>7188</th>\n",
       "      <td>F2RL1</td>\n",
       "      <td>GNAS</td>\n",
       "      <td>3649.0</td>\n",
       "      <td>3704.0</td>\n",
       "      <td>0.0</td>\n",
       "    </tr>\n",
       "    <tr>\n",
       "      <th>7190</th>\n",
       "      <td>LPAR2</td>\n",
       "      <td>GNAS</td>\n",
       "      <td>6202.0</td>\n",
       "      <td>6370.0</td>\n",
       "      <td>0.0</td>\n",
       "    </tr>\n",
       "    <tr>\n",
       "      <th>7192</th>\n",
       "      <td>EDNRA</td>\n",
       "      <td>GNAS</td>\n",
       "      <td>3218.0</td>\n",
       "      <td>3269.0</td>\n",
       "      <td>0.0</td>\n",
       "    </tr>\n",
       "    <tr>\n",
       "      <th>7194</th>\n",
       "      <td>CCKBR</td>\n",
       "      <td>GNAS</td>\n",
       "      <td>779.0</td>\n",
       "      <td>786.0</td>\n",
       "      <td>0.0</td>\n",
       "    </tr>\n",
       "    <tr>\n",
       "      <th>7195</th>\n",
       "      <td>F2RL2</td>\n",
       "      <td>GNAS</td>\n",
       "      <td>3653.0</td>\n",
       "      <td>3708.0</td>\n",
       "      <td>0.0</td>\n",
       "    </tr>\n",
       "  </tbody>\n",
       "</table>\n",
       "<p>10170 rows × 5 columns</p>\n",
       "</div>"
      ],
      "text/plain": [
       "        source target    gtex  consensus  count\n",
       "9654       PF4  CD163  7101.0     7306.0    8.0\n",
       "7133       PF4   LDLR  7112.0     7317.0    8.0\n",
       "2172       PF4  FGFR2  7110.0     7315.0    8.0\n",
       "7749  SERPINA5   CPB2  7988.0     8236.0    8.0\n",
       "4592     PRTN3  F2RL1  7363.0     7573.0    8.0\n",
       "...        ...    ...     ...        ...    ...\n",
       "7188     F2RL1   GNAS  3649.0     3704.0    0.0\n",
       "7190     LPAR2   GNAS  6202.0     6370.0    0.0\n",
       "7192     EDNRA   GNAS  3218.0     3269.0    0.0\n",
       "7194     CCKBR   GNAS   779.0      786.0    0.0\n",
       "7195     F2RL2   GNAS  3653.0     3708.0    0.0\n",
       "\n",
       "[10170 rows x 5 columns]"
      ]
     },
     "execution_count": 132,
     "metadata": {},
     "output_type": "execute_result"
    }
   ],
   "source": [
    "inters_counts = counts[['source', 'target', 'gtex', 'consensus', 'count']]\n",
    "inters_counts.sort_values('count', ascending=False)"
   ]
  },
  {
   "cell_type": "code",
   "execution_count": 133,
   "id": "3d2947dd-f3fe-4cfc-a856-db6ec347c597",
   "metadata": {},
   "outputs": [
    {
     "name": "stdout",
     "output_type": "stream",
     "text": [
      "pairs_type\n",
      "['orgpairs' 'frequency']\n",
      "network_type\n",
      "['genecalls' 'weighted_network']\n",
      "metastasis_dataset\n",
      "['autopsy' 'hcmdb']\n",
      "tissue_dataset\n",
      "['gtex' 'consensus']\n",
      "n_conditions: 16\n"
     ]
    }
   ],
   "source": [
    "# all conditions\n",
    "n_conditions = 1\n",
    "for i in interactions.columns[:4]: # exclude \"interaction\" & \"signal\"\n",
    "    print(i)\n",
    "    n_conditions *= len(interactions[i].unique())\n",
    "    print(interactions[i].unique())\n",
    "print('n_conditions:', n_conditions)"
   ]
  },
  {
   "cell_type": "code",
   "execution_count": 134,
   "id": "78a1c3cc-ddec-4fe2-bb91-4be190830fa4",
   "metadata": {
    "tags": []
   },
   "outputs": [
    {
     "data": {
      "text/html": [
       "<div>\n",
       "<style scoped>\n",
       "    .dataframe tbody tr th:only-of-type {\n",
       "        vertical-align: middle;\n",
       "    }\n",
       "\n",
       "    .dataframe tbody tr th {\n",
       "        vertical-align: top;\n",
       "    }\n",
       "\n",
       "    .dataframe thead th {\n",
       "        text-align: right;\n",
       "    }\n",
       "</style>\n",
       "<table border=\"1\" class=\"dataframe\">\n",
       "  <thead>\n",
       "    <tr style=\"text-align: right;\">\n",
       "      <th></th>\n",
       "      <th>source</th>\n",
       "      <th>target</th>\n",
       "      <th>gtex</th>\n",
       "      <th>consensus</th>\n",
       "      <th>count</th>\n",
       "      <th>pct</th>\n",
       "    </tr>\n",
       "  </thead>\n",
       "  <tbody>\n",
       "    <tr>\n",
       "      <th>9654</th>\n",
       "      <td>PF4</td>\n",
       "      <td>CD163</td>\n",
       "      <td>7101.0</td>\n",
       "      <td>7306.0</td>\n",
       "      <td>8.0</td>\n",
       "      <td>0.5</td>\n",
       "    </tr>\n",
       "    <tr>\n",
       "      <th>7133</th>\n",
       "      <td>PF4</td>\n",
       "      <td>LDLR</td>\n",
       "      <td>7112.0</td>\n",
       "      <td>7317.0</td>\n",
       "      <td>8.0</td>\n",
       "      <td>0.5</td>\n",
       "    </tr>\n",
       "    <tr>\n",
       "      <th>2172</th>\n",
       "      <td>PF4</td>\n",
       "      <td>FGFR2</td>\n",
       "      <td>7110.0</td>\n",
       "      <td>7315.0</td>\n",
       "      <td>8.0</td>\n",
       "      <td>0.5</td>\n",
       "    </tr>\n",
       "    <tr>\n",
       "      <th>7749</th>\n",
       "      <td>SERPINA5</td>\n",
       "      <td>CPB2</td>\n",
       "      <td>7988.0</td>\n",
       "      <td>8236.0</td>\n",
       "      <td>8.0</td>\n",
       "      <td>0.5</td>\n",
       "    </tr>\n",
       "    <tr>\n",
       "      <th>4592</th>\n",
       "      <td>PRTN3</td>\n",
       "      <td>F2RL1</td>\n",
       "      <td>7363.0</td>\n",
       "      <td>7573.0</td>\n",
       "      <td>8.0</td>\n",
       "      <td>0.5</td>\n",
       "    </tr>\n",
       "    <tr>\n",
       "      <th>...</th>\n",
       "      <td>...</td>\n",
       "      <td>...</td>\n",
       "      <td>...</td>\n",
       "      <td>...</td>\n",
       "      <td>...</td>\n",
       "      <td>...</td>\n",
       "    </tr>\n",
       "    <tr>\n",
       "      <th>7188</th>\n",
       "      <td>F2RL1</td>\n",
       "      <td>GNAS</td>\n",
       "      <td>3649.0</td>\n",
       "      <td>3704.0</td>\n",
       "      <td>0.0</td>\n",
       "      <td>0.0</td>\n",
       "    </tr>\n",
       "    <tr>\n",
       "      <th>7190</th>\n",
       "      <td>LPAR2</td>\n",
       "      <td>GNAS</td>\n",
       "      <td>6202.0</td>\n",
       "      <td>6370.0</td>\n",
       "      <td>0.0</td>\n",
       "      <td>0.0</td>\n",
       "    </tr>\n",
       "    <tr>\n",
       "      <th>7192</th>\n",
       "      <td>EDNRA</td>\n",
       "      <td>GNAS</td>\n",
       "      <td>3218.0</td>\n",
       "      <td>3269.0</td>\n",
       "      <td>0.0</td>\n",
       "      <td>0.0</td>\n",
       "    </tr>\n",
       "    <tr>\n",
       "      <th>7194</th>\n",
       "      <td>CCKBR</td>\n",
       "      <td>GNAS</td>\n",
       "      <td>779.0</td>\n",
       "      <td>786.0</td>\n",
       "      <td>0.0</td>\n",
       "      <td>0.0</td>\n",
       "    </tr>\n",
       "    <tr>\n",
       "      <th>7195</th>\n",
       "      <td>F2RL2</td>\n",
       "      <td>GNAS</td>\n",
       "      <td>3653.0</td>\n",
       "      <td>3708.0</td>\n",
       "      <td>0.0</td>\n",
       "      <td>0.0</td>\n",
       "    </tr>\n",
       "  </tbody>\n",
       "</table>\n",
       "<p>10170 rows × 6 columns</p>\n",
       "</div>"
      ],
      "text/plain": [
       "        source target    gtex  consensus  count  pct\n",
       "9654       PF4  CD163  7101.0     7306.0    8.0  0.5\n",
       "7133       PF4   LDLR  7112.0     7317.0    8.0  0.5\n",
       "2172       PF4  FGFR2  7110.0     7315.0    8.0  0.5\n",
       "7749  SERPINA5   CPB2  7988.0     8236.0    8.0  0.5\n",
       "4592     PRTN3  F2RL1  7363.0     7573.0    8.0  0.5\n",
       "...        ...    ...     ...        ...    ...  ...\n",
       "7188     F2RL1   GNAS  3649.0     3704.0    0.0  0.0\n",
       "7190     LPAR2   GNAS  6202.0     6370.0    0.0  0.0\n",
       "7192     EDNRA   GNAS  3218.0     3269.0    0.0  0.0\n",
       "7194     CCKBR   GNAS   779.0      786.0    0.0  0.0\n",
       "7195     F2RL2   GNAS  3653.0     3708.0    0.0  0.0\n",
       "\n",
       "[10170 rows x 6 columns]"
      ]
     },
     "execution_count": 134,
     "metadata": {},
     "output_type": "execute_result"
    }
   ],
   "source": [
    "inters_counts['pct'] = inters_counts['count']/n_conditions\n",
    "inters_counts.sort_values(by='count', ascending=False)"
   ]
  },
  {
   "cell_type": "code",
   "execution_count": 135,
   "id": "d1194f0a-7e18-438c-af38-1cbac65586b2",
   "metadata": {},
   "outputs": [
    {
     "data": {
      "text/plain": [
       "(7262, 6)"
      ]
     },
     "execution_count": 135,
     "metadata": {},
     "output_type": "execute_result"
    }
   ],
   "source": [
    "inters_counts[inters_counts['count']>0].shape"
   ]
  },
  {
   "cell_type": "markdown",
   "id": "71fdd472-8038-4a04-bd2b-8a97d41b9ed2",
   "metadata": {
    "jp-MarkdownHeadingCollapsed": true,
    "tags": []
   },
   "source": [
    "## Tissue Diversity Analysis (interaction tissue specificity)\n",
    "In this step we will evaluate each interaction tissue specificity. Ideally, we are looking for interactions that appear in most tissue pairs, i.e. have an high tissue diversity. That means that this interactions appear in most pairs but are more common in organotropism pairs or pairs with an higher frequency.\n",
    "Interactions specific to one or few tissues might also be drivers of metastasis but its relevance for metastasis formation might be masked by other factors specific to that or those few tissues, like organ accessibility, vascularization, anatomic location, etc.\n",
    "\n",
    "To quantify interaction specificity we will use:\n",
    "* shannon index (entropy)\n",
    "* max(tau) of each interaction"
   ]
  },
  {
   "cell_type": "markdown",
   "id": "c385e874-721a-486d-becf-4cfc70475cde",
   "metadata": {
    "jp-MarkdownHeadingCollapsed": true,
    "tags": []
   },
   "source": [
    "### Compute shannon index and max(tau) of each interaction"
   ]
  },
  {
   "cell_type": "code",
   "execution_count": 136,
   "id": "030ec103-04d3-4ac6-ab82-579a501f3055",
   "metadata": {},
   "outputs": [
    {
     "data": {
      "text/html": [
       "<div>\n",
       "<style scoped>\n",
       "    .dataframe tbody tr th:only-of-type {\n",
       "        vertical-align: middle;\n",
       "    }\n",
       "\n",
       "    .dataframe tbody tr th {\n",
       "        vertical-align: top;\n",
       "    }\n",
       "\n",
       "    .dataframe thead th {\n",
       "        text-align: right;\n",
       "    }\n",
       "</style>\n",
       "<table border=\"1\" class=\"dataframe\">\n",
       "  <thead>\n",
       "    <tr style=\"text-align: right;\">\n",
       "      <th></th>\n",
       "      <th>pairs_type</th>\n",
       "      <th>network_type</th>\n",
       "      <th>metastasis_dataset</th>\n",
       "      <th>tissue_dataset</th>\n",
       "      <th>interaction</th>\n",
       "      <th>signal</th>\n",
       "      <th>value</th>\n",
       "      <th>stat</th>\n",
       "      <th>pval</th>\n",
       "      <th>pval_corr</th>\n",
       "    </tr>\n",
       "  </thead>\n",
       "  <tbody>\n",
       "  </tbody>\n",
       "</table>\n",
       "</div>"
      ],
      "text/plain": [
       "Empty DataFrame\n",
       "Columns: [pairs_type, network_type, metastasis_dataset, tissue_dataset, interaction, signal, value, stat, pval, pval_corr]\n",
       "Index: []"
      ]
     },
     "execution_count": 136,
     "metadata": {},
     "output_type": "execute_result"
    }
   ],
   "source": [
    "# Confirm if there are entries without signal\n",
    "# If they exist, we need to find out why that happens\n",
    "interactions_records[interactions_records.signal==0]"
   ]
  },
  {
   "cell_type": "code",
   "execution_count": 137,
   "id": "6eda246d-8bb9-4640-8f99-5c2c210ae9fa",
   "metadata": {},
   "outputs": [
    {
     "data": {
      "text/html": [
       "<div>\n",
       "<style scoped>\n",
       "    .dataframe tbody tr th:only-of-type {\n",
       "        vertical-align: middle;\n",
       "    }\n",
       "\n",
       "    .dataframe tbody tr th {\n",
       "        vertical-align: top;\n",
       "    }\n",
       "\n",
       "    .dataframe thead th {\n",
       "        text-align: right;\n",
       "    }\n",
       "</style>\n",
       "<table border=\"1\" class=\"dataframe\">\n",
       "  <thead>\n",
       "    <tr style=\"text-align: right;\">\n",
       "      <th></th>\n",
       "      <th>pairs_type</th>\n",
       "      <th>network_type</th>\n",
       "      <th>metastasis_dataset</th>\n",
       "      <th>tissue_dataset</th>\n",
       "      <th>interaction</th>\n",
       "      <th>signal</th>\n",
       "      <th>value</th>\n",
       "      <th>stat</th>\n",
       "      <th>pval</th>\n",
       "      <th>pval_corr</th>\n",
       "    </tr>\n",
       "  </thead>\n",
       "  <tbody>\n",
       "    <tr>\n",
       "      <th>3</th>\n",
       "      <td>orgpairs</td>\n",
       "      <td>genecalls</td>\n",
       "      <td>hcmdb</td>\n",
       "      <td>consensus</td>\n",
       "      <td>515</td>\n",
       "      <td>1.0</td>\n",
       "      <td>5.612903</td>\n",
       "      <td>OR</td>\n",
       "      <td>0.000243</td>\n",
       "      <td>0.049071</td>\n",
       "    </tr>\n",
       "    <tr>\n",
       "      <th>3</th>\n",
       "      <td>orgpairs</td>\n",
       "      <td>genecalls</td>\n",
       "      <td>hcmdb</td>\n",
       "      <td>consensus</td>\n",
       "      <td>2684</td>\n",
       "      <td>-1.0</td>\n",
       "      <td>0.198223</td>\n",
       "      <td>OR</td>\n",
       "      <td>0.00025</td>\n",
       "      <td>0.049071</td>\n",
       "    </tr>\n",
       "  </tbody>\n",
       "</table>\n",
       "</div>"
      ],
      "text/plain": [
       "  pairs_type network_type metastasis_dataset tissue_dataset interaction  \\\n",
       "3   orgpairs    genecalls              hcmdb      consensus         515   \n",
       "3   orgpairs    genecalls              hcmdb      consensus        2684   \n",
       "\n",
       "  signal     value stat      pval pval_corr  \n",
       "3    1.0  5.612903   OR  0.000243  0.049071  \n",
       "3   -1.0  0.198223   OR   0.00025  0.049071  "
      ]
     },
     "execution_count": 137,
     "metadata": {},
     "output_type": "execute_result"
    }
   ],
   "source": [
    "interactions_records = interactions_records.dropna()\n",
    "interactions_records.head(2)"
   ]
  },
  {
   "cell_type": "code",
   "execution_count": 138,
   "id": "d64412b4-b2f2-409c-810f-b449bc108cc7",
   "metadata": {},
   "outputs": [
    {
     "data": {
      "text/html": [
       "<div>\n",
       "<style scoped>\n",
       "    .dataframe tbody tr th:only-of-type {\n",
       "        vertical-align: middle;\n",
       "    }\n",
       "\n",
       "    .dataframe tbody tr th {\n",
       "        vertical-align: top;\n",
       "    }\n",
       "\n",
       "    .dataframe thead th {\n",
       "        text-align: right;\n",
       "    }\n",
       "</style>\n",
       "<table border=\"1\" class=\"dataframe\">\n",
       "  <thead>\n",
       "    <tr style=\"text-align: right;\">\n",
       "      <th></th>\n",
       "      <th>inter_id</th>\n",
       "      <th>source</th>\n",
       "      <th>target</th>\n",
       "      <th>interaction</th>\n",
       "      <th>tissue_dataset</th>\n",
       "    </tr>\n",
       "  </thead>\n",
       "  <tbody>\n",
       "    <tr>\n",
       "      <th>0</th>\n",
       "      <td>0</td>\n",
       "      <td>APP</td>\n",
       "      <td>GRM7</td>\n",
       "      <td>426.0</td>\n",
       "      <td>gtex</td>\n",
       "    </tr>\n",
       "    <tr>\n",
       "      <th>1</th>\n",
       "      <td>1</td>\n",
       "      <td>CXCL16</td>\n",
       "      <td>GRM7</td>\n",
       "      <td>2883.0</td>\n",
       "      <td>gtex</td>\n",
       "    </tr>\n",
       "  </tbody>\n",
       "</table>\n",
       "</div>"
      ],
      "text/plain": [
       "   inter_id  source target  interaction tissue_dataset\n",
       "0         0     APP   GRM7        426.0           gtex\n",
       "1         1  CXCL16   GRM7       2883.0           gtex"
      ]
     },
     "metadata": {},
     "output_type": "display_data"
    },
    {
     "name": "stdout",
     "output_type": "stream",
     "text": [
      "<class 'pandas.core.frame.DataFrame'>\n",
      "RangeIndex: 20340 entries, 0 to 20339\n",
      "Data columns (total 5 columns):\n",
      " #   Column          Non-Null Count  Dtype  \n",
      "---  ------          --------------  -----  \n",
      " 0   inter_id        20340 non-null  int64  \n",
      " 1   source          20340 non-null  object \n",
      " 2   target          20340 non-null  object \n",
      " 3   interaction     19447 non-null  float64\n",
      " 4   tissue_dataset  20340 non-null  object \n",
      "dtypes: float64(1), int64(1), object(3)\n",
      "memory usage: 794.7+ KB\n"
     ]
    }
   ],
   "source": [
    "g = full_graph[['source', 'target', 'gtex']].rename(columns={'gtex': 'interaction'})\n",
    "g['tissue_dataset'] = ['gtex' for i in range(g.shape[0])]\n",
    "c = full_graph[['source', 'target', 'consensus']].rename(columns={'consensus': 'interaction'})\n",
    "c['tissue_dataset'] = ['consensus' for i in range(g.shape[0])]\n",
    "fg = pd.concat([g, c]).reset_index().rename(columns={'index':'inter_id'})\n",
    "display(fg.head(2))\n",
    "fg.info()"
   ]
  },
  {
   "cell_type": "code",
   "execution_count": 139,
   "id": "501c2873-a1f8-43be-8a72-92ea132a28d0",
   "metadata": {},
   "outputs": [
    {
     "name": "stdout",
     "output_type": "stream",
     "text": [
      "<class 'pandas.core.frame.DataFrame'>\n",
      "Index: 19447 entries, 0 to 20339\n",
      "Data columns (total 5 columns):\n",
      " #   Column          Non-Null Count  Dtype  \n",
      "---  ------          --------------  -----  \n",
      " 0   inter_id        19447 non-null  int64  \n",
      " 1   source          19447 non-null  object \n",
      " 2   target          19447 non-null  object \n",
      " 3   interaction     19447 non-null  float64\n",
      " 4   tissue_dataset  19447 non-null  object \n",
      "dtypes: float64(1), int64(1), object(3)\n",
      "memory usage: 911.6+ KB\n"
     ]
    }
   ],
   "source": [
    "# drop interactions that do not exist (depends on the tissue dataset)\n",
    "fg.dropna(inplace=True)\n",
    "fg.info()"
   ]
  },
  {
   "cell_type": "code",
   "execution_count": 140,
   "id": "5a6fb887-0460-4136-a5f6-3b5e5e824f78",
   "metadata": {},
   "outputs": [
    {
     "data": {
      "text/html": [
       "<div>\n",
       "<style scoped>\n",
       "    .dataframe tbody tr th:only-of-type {\n",
       "        vertical-align: middle;\n",
       "    }\n",
       "\n",
       "    .dataframe tbody tr th {\n",
       "        vertical-align: top;\n",
       "    }\n",
       "\n",
       "    .dataframe thead th {\n",
       "        text-align: right;\n",
       "    }\n",
       "</style>\n",
       "<table border=\"1\" class=\"dataframe\">\n",
       "  <thead>\n",
       "    <tr style=\"text-align: right;\">\n",
       "      <th></th>\n",
       "      <th>gene_id</th>\n",
       "      <th>tau</th>\n",
       "      <th>tissue_dataset</th>\n",
       "    </tr>\n",
       "  </thead>\n",
       "  <tbody>\n",
       "    <tr>\n",
       "      <th>0</th>\n",
       "      <td>TSPAN6</td>\n",
       "      <td>0.442</td>\n",
       "      <td>gtex</td>\n",
       "    </tr>\n",
       "    <tr>\n",
       "      <th>1</th>\n",
       "      <td>TNMD</td>\n",
       "      <td>0.895</td>\n",
       "      <td>gtex</td>\n",
       "    </tr>\n",
       "  </tbody>\n",
       "</table>\n",
       "</div>"
      ],
      "text/plain": [
       "  gene_id    tau tissue_dataset\n",
       "0  TSPAN6  0.442           gtex\n",
       "1    TNMD  0.895           gtex"
      ]
     },
     "execution_count": 140,
     "metadata": {},
     "output_type": "execute_result"
    }
   ],
   "source": [
    "a = gene_tau['gtex']\n",
    "a['tissue_dataset'] = ['gtex' for i in range(a.shape[0])]\n",
    "b = gene_tau['consensus']\n",
    "b['tissue_dataset'] = ['consensus' for i in range(b.shape[0])]\n",
    "ab = pd.concat([a, b])\n",
    "ab.head(2)"
   ]
  },
  {
   "cell_type": "code",
   "execution_count": 141,
   "id": "410f3ea8-8d43-4ac9-a9f5-3aaf4d8582dd",
   "metadata": {},
   "outputs": [
    {
     "data": {
      "text/html": [
       "<div>\n",
       "<style scoped>\n",
       "    .dataframe tbody tr th:only-of-type {\n",
       "        vertical-align: middle;\n",
       "    }\n",
       "\n",
       "    .dataframe tbody tr th {\n",
       "        vertical-align: top;\n",
       "    }\n",
       "\n",
       "    .dataframe thead th {\n",
       "        text-align: right;\n",
       "    }\n",
       "</style>\n",
       "<table border=\"1\" class=\"dataframe\">\n",
       "  <thead>\n",
       "    <tr style=\"text-align: right;\">\n",
       "      <th></th>\n",
       "      <th>inter_id</th>\n",
       "      <th>source</th>\n",
       "      <th>target</th>\n",
       "      <th>interaction</th>\n",
       "      <th>tissue_dataset</th>\n",
       "      <th>tau_source</th>\n",
       "      <th>tau_target</th>\n",
       "    </tr>\n",
       "  </thead>\n",
       "  <tbody>\n",
       "    <tr>\n",
       "      <th>0</th>\n",
       "      <td>0</td>\n",
       "      <td>APP</td>\n",
       "      <td>GRM7</td>\n",
       "      <td>426.0</td>\n",
       "      <td>gtex</td>\n",
       "      <td>0.149</td>\n",
       "      <td>0.825</td>\n",
       "    </tr>\n",
       "    <tr>\n",
       "      <th>1</th>\n",
       "      <td>1</td>\n",
       "      <td>CXCL16</td>\n",
       "      <td>GRM7</td>\n",
       "      <td>2883.0</td>\n",
       "      <td>gtex</td>\n",
       "      <td>0.467</td>\n",
       "      <td>0.825</td>\n",
       "    </tr>\n",
       "  </tbody>\n",
       "</table>\n",
       "</div>"
      ],
      "text/plain": [
       "   inter_id  source target  interaction tissue_dataset  tau_source  tau_target\n",
       "0         0     APP   GRM7        426.0           gtex       0.149       0.825\n",
       "1         1  CXCL16   GRM7       2883.0           gtex       0.467       0.825"
      ]
     },
     "execution_count": 141,
     "metadata": {},
     "output_type": "execute_result"
    }
   ],
   "source": [
    "# add source and target genes tau\n",
    "fgab = pd.merge(\n",
    "    fg,\n",
    "    ab.rename(columns={'gene_id': 'source'}),\n",
    "    on=['source', 'tissue_dataset']\n",
    ")\n",
    "fgab = pd.merge(\n",
    "    fgab,\n",
    "    ab.rename(columns={'gene_id': 'target'}),\n",
    "    suffixes=['_source', '_target'],\n",
    "    on=['target', 'tissue_dataset']\n",
    ") \n",
    "fgab.head(2)"
   ]
  },
  {
   "cell_type": "code",
   "execution_count": 142,
   "id": "77568f96-9e59-418f-8ba5-d3912518efae",
   "metadata": {},
   "outputs": [
    {
     "data": {
      "text/html": [
       "<div>\n",
       "<style scoped>\n",
       "    .dataframe tbody tr th:only-of-type {\n",
       "        vertical-align: middle;\n",
       "    }\n",
       "\n",
       "    .dataframe tbody tr th {\n",
       "        vertical-align: top;\n",
       "    }\n",
       "\n",
       "    .dataframe thead th {\n",
       "        text-align: right;\n",
       "    }\n",
       "</style>\n",
       "<table border=\"1\" class=\"dataframe\">\n",
       "  <thead>\n",
       "    <tr style=\"text-align: right;\">\n",
       "      <th></th>\n",
       "      <th>inter_id</th>\n",
       "      <th>source</th>\n",
       "      <th>target</th>\n",
       "      <th>interaction</th>\n",
       "      <th>tissue_dataset</th>\n",
       "      <th>tau_source</th>\n",
       "      <th>tau_target</th>\n",
       "      <th>inter_tau</th>\n",
       "    </tr>\n",
       "  </thead>\n",
       "  <tbody>\n",
       "    <tr>\n",
       "      <th>0</th>\n",
       "      <td>0</td>\n",
       "      <td>APP</td>\n",
       "      <td>GRM7</td>\n",
       "      <td>426.0</td>\n",
       "      <td>gtex</td>\n",
       "      <td>0.149</td>\n",
       "      <td>0.825</td>\n",
       "      <td>0.825</td>\n",
       "    </tr>\n",
       "    <tr>\n",
       "      <th>1</th>\n",
       "      <td>1</td>\n",
       "      <td>CXCL16</td>\n",
       "      <td>GRM7</td>\n",
       "      <td>2883.0</td>\n",
       "      <td>gtex</td>\n",
       "      <td>0.467</td>\n",
       "      <td>0.825</td>\n",
       "      <td>0.825</td>\n",
       "    </tr>\n",
       "  </tbody>\n",
       "</table>\n",
       "</div>"
      ],
      "text/plain": [
       "   inter_id  source target  interaction tissue_dataset  tau_source  \\\n",
       "0         0     APP   GRM7        426.0           gtex       0.149   \n",
       "1         1  CXCL16   GRM7       2883.0           gtex       0.467   \n",
       "\n",
       "   tau_target  inter_tau  \n",
       "0       0.825      0.825  \n",
       "1       0.825      0.825  "
      ]
     },
     "execution_count": 142,
     "metadata": {},
     "output_type": "execute_result"
    }
   ],
   "source": [
    "# interaction_tau = max(source_tau, target_tau)\n",
    "fgab['inter_tau'] = fgab[['tau_source', 'tau_target']].max(axis=1)\n",
    "fgab.head(2)"
   ]
  },
  {
   "cell_type": "code",
   "execution_count": 143,
   "id": "e5df2cad-d7d7-4193-ab3d-2a7180bc679a",
   "metadata": {},
   "outputs": [
    {
     "data": {
      "text/html": [
       "<div>\n",
       "<style scoped>\n",
       "    .dataframe tbody tr th:only-of-type {\n",
       "        vertical-align: middle;\n",
       "    }\n",
       "\n",
       "    .dataframe tbody tr th {\n",
       "        vertical-align: top;\n",
       "    }\n",
       "\n",
       "    .dataframe thead th {\n",
       "        text-align: right;\n",
       "    }\n",
       "</style>\n",
       "<table border=\"1\" class=\"dataframe\">\n",
       "  <thead>\n",
       "    <tr style=\"text-align: right;\">\n",
       "      <th></th>\n",
       "      <th>inter_id</th>\n",
       "      <th>source</th>\n",
       "      <th>target</th>\n",
       "      <th>interaction</th>\n",
       "      <th>tissue_dataset</th>\n",
       "      <th>tau_source</th>\n",
       "      <th>tau_target</th>\n",
       "      <th>inter_tau</th>\n",
       "      <th>pairs_type</th>\n",
       "      <th>network_type</th>\n",
       "      <th>metastasis_dataset</th>\n",
       "      <th>signal</th>\n",
       "      <th>value</th>\n",
       "      <th>stat</th>\n",
       "      <th>pval</th>\n",
       "      <th>pval_corr</th>\n",
       "    </tr>\n",
       "  </thead>\n",
       "  <tbody>\n",
       "    <tr>\n",
       "      <th>0</th>\n",
       "      <td>0</td>\n",
       "      <td>APP</td>\n",
       "      <td>GRM7</td>\n",
       "      <td>426.0</td>\n",
       "      <td>gtex</td>\n",
       "      <td>0.149</td>\n",
       "      <td>0.825</td>\n",
       "      <td>0.825</td>\n",
       "      <td>frequency</td>\n",
       "      <td>genecalls</td>\n",
       "      <td>autopsy</td>\n",
       "      <td>-1.0</td>\n",
       "      <td>-5636.0</td>\n",
       "      <td>MWU_ratio</td>\n",
       "      <td>0.00048</td>\n",
       "      <td>0.005027</td>\n",
       "    </tr>\n",
       "    <tr>\n",
       "      <th>1</th>\n",
       "      <td>0</td>\n",
       "      <td>APP</td>\n",
       "      <td>GRM7</td>\n",
       "      <td>426.0</td>\n",
       "      <td>gtex</td>\n",
       "      <td>0.149</td>\n",
       "      <td>0.825</td>\n",
       "      <td>0.825</td>\n",
       "      <td>frequency</td>\n",
       "      <td>weighted_network</td>\n",
       "      <td>autopsy</td>\n",
       "      <td>-1.0</td>\n",
       "      <td>0.193216</td>\n",
       "      <td>spearman</td>\n",
       "      <td>0.000095</td>\n",
       "      <td>0.002015</td>\n",
       "    </tr>\n",
       "  </tbody>\n",
       "</table>\n",
       "</div>"
      ],
      "text/plain": [
       "   inter_id source target interaction tissue_dataset  tau_source  tau_target  \\\n",
       "0         0    APP   GRM7       426.0           gtex       0.149       0.825   \n",
       "1         0    APP   GRM7       426.0           gtex       0.149       0.825   \n",
       "\n",
       "   inter_tau pairs_type      network_type metastasis_dataset signal     value  \\\n",
       "0      0.825  frequency         genecalls            autopsy   -1.0   -5636.0   \n",
       "1      0.825  frequency  weighted_network            autopsy   -1.0  0.193216   \n",
       "\n",
       "        stat      pval pval_corr  \n",
       "0  MWU_ratio   0.00048  0.005027  \n",
       "1   spearman  0.000095  0.002015  "
      ]
     },
     "execution_count": 143,
     "metadata": {},
     "output_type": "execute_result"
    }
   ],
   "source": [
    "# add the unique interactions id\n",
    "# this way, the column \"interaction\" has the specific id for each tissue dataset\n",
    "sign_inter = pd.merge(fgab, interactions_records)\n",
    "sign_inter.head(2)"
   ]
  },
  {
   "cell_type": "code",
   "execution_count": 144,
   "id": "77f54dcd-53a5-4493-9559-42c7007168b9",
   "metadata": {},
   "outputs": [],
   "source": [
    "# Compute entropy for each interaction and condition\n",
    "importlib.reload(intercell_interactions)\n",
    "\n",
    "inter_records = sign_inter.to_dict('records')\n",
    "entropy_records = Parallel(n_jobs=8)(\n",
    "    delayed(intercell_interactions.inter_shannon_index)(\n",
    "        inter_records[i],\n",
    "        interaction_arrays,\n",
    "        tissue_pairs\n",
    ") for i in range(len(inter_records)))"
   ]
  },
  {
   "cell_type": "code",
   "execution_count": 145,
   "id": "138ff3fc-d1ae-4859-acc8-fc9e289122e2",
   "metadata": {},
   "outputs": [
    {
     "data": {
      "text/html": [
       "<div>\n",
       "<style scoped>\n",
       "    .dataframe tbody tr th:only-of-type {\n",
       "        vertical-align: middle;\n",
       "    }\n",
       "\n",
       "    .dataframe tbody tr th {\n",
       "        vertical-align: top;\n",
       "    }\n",
       "\n",
       "    .dataframe thead th {\n",
       "        text-align: right;\n",
       "    }\n",
       "</style>\n",
       "<table border=\"1\" class=\"dataframe\">\n",
       "  <thead>\n",
       "    <tr style=\"text-align: right;\">\n",
       "      <th></th>\n",
       "      <th>inter_id</th>\n",
       "      <th>source</th>\n",
       "      <th>target</th>\n",
       "      <th>interaction</th>\n",
       "      <th>tissue_dataset</th>\n",
       "      <th>tau_source</th>\n",
       "      <th>tau_target</th>\n",
       "      <th>inter_tau</th>\n",
       "      <th>pairs_type</th>\n",
       "      <th>network_type</th>\n",
       "      <th>metastasis_dataset</th>\n",
       "      <th>signal</th>\n",
       "      <th>value</th>\n",
       "      <th>stat</th>\n",
       "      <th>pval</th>\n",
       "      <th>pval_corr</th>\n",
       "      <th>cancer_entropy</th>\n",
       "      <th>metastasis_entropy</th>\n",
       "    </tr>\n",
       "  </thead>\n",
       "  <tbody>\n",
       "    <tr>\n",
       "      <th>0</th>\n",
       "      <td>0</td>\n",
       "      <td>APP</td>\n",
       "      <td>GRM7</td>\n",
       "      <td>426.0</td>\n",
       "      <td>gtex</td>\n",
       "      <td>0.149</td>\n",
       "      <td>0.825</td>\n",
       "      <td>0.825</td>\n",
       "      <td>frequency</td>\n",
       "      <td>genecalls</td>\n",
       "      <td>autopsy</td>\n",
       "      <td>-1.0</td>\n",
       "      <td>-5636.000000</td>\n",
       "      <td>MWU_ratio</td>\n",
       "      <td>0.000480</td>\n",
       "      <td>0.005027</td>\n",
       "      <td>2.573301</td>\n",
       "      <td>2.062874</td>\n",
       "    </tr>\n",
       "    <tr>\n",
       "      <th>1</th>\n",
       "      <td>0</td>\n",
       "      <td>APP</td>\n",
       "      <td>GRM7</td>\n",
       "      <td>426.0</td>\n",
       "      <td>gtex</td>\n",
       "      <td>0.149</td>\n",
       "      <td>0.825</td>\n",
       "      <td>0.825</td>\n",
       "      <td>frequency</td>\n",
       "      <td>weighted_network</td>\n",
       "      <td>autopsy</td>\n",
       "      <td>-1.0</td>\n",
       "      <td>0.193216</td>\n",
       "      <td>spearman</td>\n",
       "      <td>0.000095</td>\n",
       "      <td>0.002015</td>\n",
       "      <td>2.831882</td>\n",
       "      <td>2.756112</td>\n",
       "    </tr>\n",
       "  </tbody>\n",
       "</table>\n",
       "</div>"
      ],
      "text/plain": [
       "   inter_id source target  interaction tissue_dataset  tau_source  tau_target  \\\n",
       "0         0    APP   GRM7        426.0           gtex       0.149       0.825   \n",
       "1         0    APP   GRM7        426.0           gtex       0.149       0.825   \n",
       "\n",
       "   inter_tau pairs_type      network_type metastasis_dataset  signal  \\\n",
       "0      0.825  frequency         genecalls            autopsy    -1.0   \n",
       "1      0.825  frequency  weighted_network            autopsy    -1.0   \n",
       "\n",
       "         value       stat      pval  pval_corr  cancer_entropy  \\\n",
       "0 -5636.000000  MWU_ratio  0.000480   0.005027        2.573301   \n",
       "1     0.193216   spearman  0.000095   0.002015        2.831882   \n",
       "\n",
       "   metastasis_entropy  \n",
       "0            2.062874  \n",
       "1            2.756112  "
      ]
     },
     "execution_count": 145,
     "metadata": {},
     "output_type": "execute_result"
    }
   ],
   "source": [
    "# convert entropy results to dataframe\n",
    "entropy = pd.DataFrame(entropy_records)\n",
    "\n",
    "# prepare data to plot\n",
    "c_entropy = entropy[entropy.columns.drop('metastasis_entropy')]\n",
    "c_entropy.rename(columns={'cancer_entropy': 'entropy'}, inplace=True)\n",
    "c_entropy['entropy_tissue'] = ['cancer' for i in range(c_entropy.shape[0])]\n",
    "m_entropy = entropy[entropy.columns.drop('cancer_entropy')]\n",
    "m_entropy.rename(columns={'metastasis_entropy': 'entropy'}, inplace=True)\n",
    "m_entropy['entropy_tissue'] = ['metastasis' for i in range(m_entropy.shape[0])]\n",
    "\n",
    "plot_entropy = pd.concat([c_entropy, m_entropy])\n",
    "entropy.head(2)"
   ]
  },
  {
   "cell_type": "markdown",
   "id": "a307d5c1-a1f2-4dbf-8142-9bae8e936f84",
   "metadata": {
    "tags": []
   },
   "source": [
    "### Filter interactions"
   ]
  },
  {
   "cell_type": "markdown",
   "id": "b489521a-169d-40f4-969f-509df2e73757",
   "metadata": {
    "jp-MarkdownHeadingCollapsed": true,
    "tags": []
   },
   "source": [
    "#### Drop tissue specific interactions ($interaction\\space tau <0.9$ & $entropy > 0$)"
   ]
  },
  {
   "cell_type": "code",
   "execution_count": 146,
   "id": "3d5f8e4a-01d0-464f-848e-64f5406bd936",
   "metadata": {},
   "outputs": [
    {
     "name": "stdout",
     "output_type": "stream",
     "text": [
      "n_interactions: 5975\n"
     ]
    }
   ],
   "source": [
    "filt = entropy[\n",
    "    (entropy.inter_tau<0.9)&\n",
    "    (entropy.cancer_entropy>0)&\n",
    "    (entropy.metastasis_entropy>0)\n",
    "]\n",
    "print('n_interactions:', len(filt.inter_id.unique()))"
   ]
  },
  {
   "cell_type": "markdown",
   "id": "1e0d10b3-7897-4860-95fc-200af286833b",
   "metadata": {
    "jp-MarkdownHeadingCollapsed": true,
    "tags": []
   },
   "source": [
    "#### Split dataset in spearman correlation and non spearman correlation entries"
   ]
  },
  {
   "cell_type": "code",
   "execution_count": 147,
   "id": "5c31b8e7-d0ea-4923-9dd9-8f89fa0e7438",
   "metadata": {},
   "outputs": [
    {
     "name": "stdout",
     "output_type": "stream",
     "text": [
      "9240\n",
      "n_interactions (correlation): 5242\n",
      "5069\n",
      "n_interactions (other tests): 3434\n"
     ]
    }
   ],
   "source": [
    "corr_inter = filt[filt.stat=='spearman']\n",
    "print(corr_inter.shape[0])\n",
    "print('n_interactions (correlation):', len(corr_inter.inter_id.unique()))\n",
    "\n",
    "n_corr_inter = filt[~(filt.stat=='spearman')]\n",
    "print(n_corr_inter.shape[0])\n",
    "print('n_interactions (other tests):', len(n_corr_inter.inter_id.unique()))"
   ]
  },
  {
   "cell_type": "markdown",
   "id": "31e2d8ce-8629-4397-8df5-4ed32ea45d97",
   "metadata": {},
   "source": [
    "More than half of spearman correlation interactions are also significant in other conditions"
   ]
  },
  {
   "cell_type": "markdown",
   "id": "671fe485-253f-4ffc-bd41-a8a22d204ff9",
   "metadata": {
    "jp-MarkdownHeadingCollapsed": true,
    "tags": []
   },
   "source": [
    "#### Apply correlation thresholds to remove lower correlation entries (when the spearman correlation is close to zero)"
   ]
  },
  {
   "cell_type": "code",
   "execution_count": 148,
   "id": "efdf072c-7de4-4499-9cb0-5287b5545b07",
   "metadata": {},
   "outputs": [
    {
     "name": "stdout",
     "output_type": "stream",
     "text": [
      "(corr < -0.2 & corr > 0.2)\n",
      "n_interactions (correlation): 2114\n",
      "n_interactions (total): 4164\n",
      "\n",
      "(corr < -0.25 & corr > 0.25)\n",
      "n_interactions (correlation): 806\n",
      "n_interactions (total): 3646\n",
      "\n",
      "(corr < -0.3 & corr > 0.3)\n",
      "n_interactions (correlation): 152\n",
      "n_interactions (total): 3457\n",
      "\n"
     ]
    }
   ],
   "source": [
    "spearman = conditions['frequency']['weighted_network'].drop(columns='pvalue')\n",
    "entropy_filt_corr = pd.merge(corr_inter, spearman)\n",
    "\n",
    "thresholds = [0.2, 0.25, 0.3]\n",
    "interaction_lists = []\n",
    "for t in thresholds:\n",
    "    thresh_filt = entropy_filt_corr[\n",
    "        (entropy_filt_corr.spearman>t) | \n",
    "        (entropy_filt_corr.spearman<-t)\n",
    "    ]\n",
    "    print(f'(corr < -{t} & corr > {t})')\n",
    "    print('n_interactions (correlation):', len(thresh_filt.inter_id.unique()))\n",
    "    \n",
    "    inter_filtered = pd.concat([n_corr_inter, thresh_filt])\n",
    "    interaction_lists.append(inter_filtered)\n",
    "    print('n_interactions (total):', len(inter_filtered.inter_id.unique()))\n",
    "    print()"
   ]
  },
  {
   "cell_type": "code",
   "execution_count": 149,
   "id": "45b5b73a-2f58-4054-8541-cf9f1de9b51d",
   "metadata": {},
   "outputs": [
    {
     "name": "stdout",
     "output_type": "stream",
     "text": [
      "(corr < -0.2 & corr > 0.2)\n",
      "n_interactions (correlation): 2114\n",
      "n_interactions (total): 4164\n",
      "\n",
      "(corr < -0.25 & corr > 0.25)\n",
      "n_interactions (correlation): 806\n",
      "n_interactions (total): 3646\n",
      "\n",
      "(corr < -0.3 & corr > 0.3)\n",
      "n_interactions (correlation): 152\n",
      "n_interactions (total): 3457\n",
      "\n"
     ]
    }
   ],
   "source": [
    "thresholds = [0.2, 0.25, 0.3]\n",
    "interaction_lists = []\n",
    "for t in thresholds:\n",
    "    # value corresponds to abs(spearman)\n",
    "    thresh_filt = corr_inter[(corr_inter.value>t)]\n",
    "    print(f'(corr < -{t} & corr > {t})')\n",
    "    print('n_interactions (correlation):', len(thresh_filt.inter_id.unique()))\n",
    "    \n",
    "    inter_filtered = pd.concat([n_corr_inter, thresh_filt])\n",
    "    interaction_lists.append(inter_filtered)\n",
    "    print('n_interactions (total):', len(inter_filtered.inter_id.unique()))\n",
    "    print()"
   ]
  },
  {
   "cell_type": "markdown",
   "id": "9869946d-f225-4190-a7f7-5dcab5095b2e",
   "metadata": {
    "tags": []
   },
   "source": [
    "#### Filter interactions based on the metastasis dataset\n",
    "We will keep interactions that appear both in HCMDB and Autopsy"
   ]
  },
  {
   "cell_type": "code",
   "execution_count": 151,
   "id": "812bb0cb-8fbc-4004-aaa2-02ff38db68ba",
   "metadata": {
    "tags": []
   },
   "outputs": [
    {
     "name": "stdout",
     "output_type": "stream",
     "text": [
      "correlation threshold: 0.2\n",
      "4506\n",
      "n_interactions: 1528\n",
      "correlation threshold: 0.25\n",
      "2906\n",
      "n_interactions: 1121\n",
      "correlation threshold: 0.3\n",
      "2356\n",
      "n_interactions: 1006\n"
     ]
    }
   ],
   "source": [
    "final_lists = []\n",
    "for t, i in zip(thresholds, interaction_lists):\n",
    "    print('correlation threshold:', t)\n",
    "    \n",
    "    g = i.groupby(['inter_id'], as_index=False)\n",
    "    filtered = g.filter(lambda x: (x.metastasis_dataset.unique().shape[0]>1)&(x.signal.unique().shape[0]==1))\n",
    "    final_lists.append(filtered)\n",
    "    print(filtered.shape[0])\n",
    "    print('n_interactions:', len(filtered.inter_id.unique()))"
   ]
  },
  {
   "cell_type": "code",
   "execution_count": 152,
   "id": "6f754344-df1d-4448-9cba-19f1960e5d0e",
   "metadata": {},
   "outputs": [],
   "source": [
    "# export interaction list\n",
    "for t, i in zip(thresholds, final_lists):\n",
    "    i.to_csv(interactions_dir+f'interactions_corr_{t}.csv', index=False)"
   ]
  },
  {
   "cell_type": "markdown",
   "id": "8e15338a-3fae-4428-8e99-3491f7bdb6d9",
   "metadata": {},
   "source": [
    "## Export file to publish"
   ]
  },
  {
   "cell_type": "code",
   "execution_count": 154,
   "id": "8360a2a2-8d0b-490c-aa8e-3c58dd81cb16",
   "metadata": {
    "tags": []
   },
   "outputs": [
    {
     "name": "stdout",
     "output_type": "stream",
     "text": [
      "2906\n",
      "1121\n"
     ]
    },
    {
     "data": {
      "text/html": [
       "<div>\n",
       "<style scoped>\n",
       "    .dataframe tbody tr th:only-of-type {\n",
       "        vertical-align: middle;\n",
       "    }\n",
       "\n",
       "    .dataframe tbody tr th {\n",
       "        vertical-align: top;\n",
       "    }\n",
       "\n",
       "    .dataframe thead th {\n",
       "        text-align: right;\n",
       "    }\n",
       "</style>\n",
       "<table border=\"1\" class=\"dataframe\">\n",
       "  <thead>\n",
       "    <tr style=\"text-align: right;\">\n",
       "      <th></th>\n",
       "      <th>inter_id</th>\n",
       "      <th>source</th>\n",
       "      <th>target</th>\n",
       "      <th>interaction</th>\n",
       "      <th>tissue_dataset</th>\n",
       "      <th>tau_source</th>\n",
       "      <th>tau_target</th>\n",
       "      <th>inter_tau</th>\n",
       "      <th>pairs_type</th>\n",
       "      <th>network_type</th>\n",
       "      <th>metastasis_dataset</th>\n",
       "      <th>signal</th>\n",
       "      <th>value</th>\n",
       "      <th>stat</th>\n",
       "      <th>pval</th>\n",
       "      <th>pval_corr</th>\n",
       "      <th>cancer_entropy</th>\n",
       "      <th>metastasis_entropy</th>\n",
       "    </tr>\n",
       "  </thead>\n",
       "  <tbody>\n",
       "    <tr>\n",
       "      <th>0</th>\n",
       "      <td>422</td>\n",
       "      <td>WNT4</td>\n",
       "      <td>LRP6</td>\n",
       "      <td>9414.0</td>\n",
       "      <td>gtex</td>\n",
       "      <td>0.739</td>\n",
       "      <td>0.348</td>\n",
       "      <td>0.739</td>\n",
       "      <td>frequency</td>\n",
       "      <td>genecalls</td>\n",
       "      <td>autopsy</td>\n",
       "      <td>-1.0</td>\n",
       "      <td>-5756.0</td>\n",
       "      <td>MWU_ratio</td>\n",
       "      <td>0.003759</td>\n",
       "      <td>0.022155</td>\n",
       "      <td>2.924700</td>\n",
       "      <td>3.007392</td>\n",
       "    </tr>\n",
       "    <tr>\n",
       "      <th>1</th>\n",
       "      <td>1149</td>\n",
       "      <td>APOC2</td>\n",
       "      <td>LRP1</td>\n",
       "      <td>385.0</td>\n",
       "      <td>gtex</td>\n",
       "      <td>0.862</td>\n",
       "      <td>0.317</td>\n",
       "      <td>0.862</td>\n",
       "      <td>frequency</td>\n",
       "      <td>genecalls</td>\n",
       "      <td>hcmdb</td>\n",
       "      <td>1.0</td>\n",
       "      <td>2706.0</td>\n",
       "      <td>MWU_ratio</td>\n",
       "      <td>0.000344</td>\n",
       "      <td>0.012371</td>\n",
       "      <td>2.709835</td>\n",
       "      <td>2.472963</td>\n",
       "    </tr>\n",
       "  </tbody>\n",
       "</table>\n",
       "</div>"
      ],
      "text/plain": [
       "   inter_id source target  interaction tissue_dataset  tau_source  tau_target  \\\n",
       "0       422   WNT4   LRP6       9414.0           gtex       0.739       0.348   \n",
       "1      1149  APOC2   LRP1        385.0           gtex       0.862       0.317   \n",
       "\n",
       "   inter_tau pairs_type network_type metastasis_dataset  signal   value  \\\n",
       "0      0.739  frequency    genecalls            autopsy    -1.0 -5756.0   \n",
       "1      0.862  frequency    genecalls              hcmdb     1.0  2706.0   \n",
       "\n",
       "        stat      pval  pval_corr  cancer_entropy  metastasis_entropy  \n",
       "0  MWU_ratio  0.003759   0.022155        2.924700            3.007392  \n",
       "1  MWU_ratio  0.000344   0.012371        2.709835            2.472963  "
      ]
     },
     "execution_count": 154,
     "metadata": {},
     "output_type": "execute_result"
    }
   ],
   "source": [
    "inters = pd.read_csv(interactions_dir+f'interactions_corr_0.25.csv')\n",
    "print(inters.shape[0])\n",
    "print(inters.inter_id.drop_duplicates().shape[0])\n",
    "inters.head(2)"
   ]
  },
  {
   "cell_type": "code",
   "execution_count": 156,
   "id": "045414e2-6006-4ea2-b37e-512ee7da8713",
   "metadata": {
    "tags": []
   },
   "outputs": [
    {
     "data": {
      "text/html": [
       "<div>\n",
       "<style scoped>\n",
       "    .dataframe tbody tr th:only-of-type {\n",
       "        vertical-align: middle;\n",
       "    }\n",
       "\n",
       "    .dataframe tbody tr th {\n",
       "        vertical-align: top;\n",
       "    }\n",
       "\n",
       "    .dataframe thead th {\n",
       "        text-align: right;\n",
       "    }\n",
       "</style>\n",
       "<table border=\"1\" class=\"dataframe\">\n",
       "  <thead>\n",
       "    <tr style=\"text-align: right;\">\n",
       "      <th></th>\n",
       "      <th>source</th>\n",
       "      <th>target</th>\n",
       "    </tr>\n",
       "  </thead>\n",
       "  <tbody>\n",
       "    <tr>\n",
       "      <th>0</th>\n",
       "      <td>APP</td>\n",
       "      <td>GRM7</td>\n",
       "    </tr>\n",
       "    <tr>\n",
       "      <th>1</th>\n",
       "      <td>CXCL16</td>\n",
       "      <td>GRM7</td>\n",
       "    </tr>\n",
       "  </tbody>\n",
       "</table>\n",
       "</div>"
      ],
      "text/plain": [
       "   source target\n",
       "0     APP   GRM7\n",
       "1  CXCL16   GRM7"
      ]
     },
     "execution_count": 156,
     "metadata": {},
     "output_type": "execute_result"
    }
   ],
   "source": [
    "curated_graph = pd.read_csv(intercell_net_dir+'intercell_curated_graph.csv')\n",
    "curated_graph.head(2)"
   ]
  },
  {
   "cell_type": "code",
   "execution_count": 157,
   "id": "cdbc706f-23eb-46dd-bf03-b979d042b4bb",
   "metadata": {
    "tags": []
   },
   "outputs": [],
   "source": [
    "curated_graph['is_curated'] = ['yes' for i in range(curated_graph.shape[0])]"
   ]
  },
  {
   "cell_type": "code",
   "execution_count": 158,
   "id": "3ec517d3-aea3-41af-be70-d0100a994cfe",
   "metadata": {
    "tags": []
   },
   "outputs": [
    {
     "name": "stdout",
     "output_type": "stream",
     "text": [
      "1121\n",
      "535\n"
     ]
    },
    {
     "data": {
      "text/html": [
       "<div>\n",
       "<style scoped>\n",
       "    .dataframe tbody tr th:only-of-type {\n",
       "        vertical-align: middle;\n",
       "    }\n",
       "\n",
       "    .dataframe tbody tr th {\n",
       "        vertical-align: top;\n",
       "    }\n",
       "\n",
       "    .dataframe thead th {\n",
       "        text-align: right;\n",
       "    }\n",
       "</style>\n",
       "<table border=\"1\" class=\"dataframe\">\n",
       "  <thead>\n",
       "    <tr style=\"text-align: right;\">\n",
       "      <th></th>\n",
       "      <th>inter_id</th>\n",
       "      <th>source</th>\n",
       "      <th>target</th>\n",
       "      <th>interaction</th>\n",
       "      <th>tissue_dataset</th>\n",
       "      <th>tau_source</th>\n",
       "      <th>tau_target</th>\n",
       "      <th>inter_tau</th>\n",
       "      <th>pairs_type</th>\n",
       "      <th>network_type</th>\n",
       "      <th>metastasis_dataset</th>\n",
       "      <th>signal</th>\n",
       "      <th>value</th>\n",
       "      <th>stat</th>\n",
       "      <th>pval</th>\n",
       "      <th>pval_corr</th>\n",
       "      <th>cancer_entropy</th>\n",
       "      <th>metastasis_entropy</th>\n",
       "      <th>is_curated</th>\n",
       "    </tr>\n",
       "  </thead>\n",
       "  <tbody>\n",
       "    <tr>\n",
       "      <th>0</th>\n",
       "      <td>422</td>\n",
       "      <td>WNT4</td>\n",
       "      <td>LRP6</td>\n",
       "      <td>9414.0</td>\n",
       "      <td>gtex</td>\n",
       "      <td>0.739</td>\n",
       "      <td>0.348</td>\n",
       "      <td>0.739</td>\n",
       "      <td>frequency</td>\n",
       "      <td>genecalls</td>\n",
       "      <td>autopsy</td>\n",
       "      <td>-1.0</td>\n",
       "      <td>-5756.0</td>\n",
       "      <td>MWU_ratio</td>\n",
       "      <td>3.759048e-03</td>\n",
       "      <td>0.022155</td>\n",
       "      <td>2.924700</td>\n",
       "      <td>3.007392</td>\n",
       "      <td>yes</td>\n",
       "    </tr>\n",
       "    <tr>\n",
       "      <th>1</th>\n",
       "      <td>1149</td>\n",
       "      <td>APOC2</td>\n",
       "      <td>LRP1</td>\n",
       "      <td>385.0</td>\n",
       "      <td>gtex</td>\n",
       "      <td>0.862</td>\n",
       "      <td>0.317</td>\n",
       "      <td>0.862</td>\n",
       "      <td>frequency</td>\n",
       "      <td>genecalls</td>\n",
       "      <td>hcmdb</td>\n",
       "      <td>1.0</td>\n",
       "      <td>2706.0</td>\n",
       "      <td>MWU_ratio</td>\n",
       "      <td>3.438877e-04</td>\n",
       "      <td>0.012371</td>\n",
       "      <td>2.709835</td>\n",
       "      <td>2.472963</td>\n",
       "      <td>yes</td>\n",
       "    </tr>\n",
       "    <tr>\n",
       "      <th>2</th>\n",
       "      <td>1158</td>\n",
       "      <td>FCN1</td>\n",
       "      <td>LRP1</td>\n",
       "      <td>3739.0</td>\n",
       "      <td>gtex</td>\n",
       "      <td>0.895</td>\n",
       "      <td>0.317</td>\n",
       "      <td>0.895</td>\n",
       "      <td>frequency</td>\n",
       "      <td>genecalls</td>\n",
       "      <td>autopsy</td>\n",
       "      <td>1.0</td>\n",
       "      <td>8371.0</td>\n",
       "      <td>MWU_ratio</td>\n",
       "      <td>2.148662e-07</td>\n",
       "      <td>0.000011</td>\n",
       "      <td>2.573301</td>\n",
       "      <td>2.062874</td>\n",
       "      <td>no</td>\n",
       "    </tr>\n",
       "  </tbody>\n",
       "</table>\n",
       "</div>"
      ],
      "text/plain": [
       "   inter_id source target  interaction tissue_dataset  tau_source  tau_target  \\\n",
       "0       422   WNT4   LRP6       9414.0           gtex       0.739       0.348   \n",
       "1      1149  APOC2   LRP1        385.0           gtex       0.862       0.317   \n",
       "2      1158   FCN1   LRP1       3739.0           gtex       0.895       0.317   \n",
       "\n",
       "   inter_tau pairs_type network_type metastasis_dataset  signal   value  \\\n",
       "0      0.739  frequency    genecalls            autopsy    -1.0 -5756.0   \n",
       "1      0.862  frequency    genecalls              hcmdb     1.0  2706.0   \n",
       "2      0.895  frequency    genecalls            autopsy     1.0  8371.0   \n",
       "\n",
       "        stat          pval  pval_corr  cancer_entropy  metastasis_entropy  \\\n",
       "0  MWU_ratio  3.759048e-03   0.022155        2.924700            3.007392   \n",
       "1  MWU_ratio  3.438877e-04   0.012371        2.709835            2.472963   \n",
       "2  MWU_ratio  2.148662e-07   0.000011        2.573301            2.062874   \n",
       "\n",
       "  is_curated  \n",
       "0        yes  \n",
       "1        yes  \n",
       "2         no  "
      ]
     },
     "execution_count": 158,
     "metadata": {},
     "output_type": "execute_result"
    }
   ],
   "source": [
    "inters_new = pd.merge(inters, curated_graph, how='left').fillna('no')\n",
    "print(inters_new.inter_id.drop_duplicates().shape[0])\n",
    "print(inters_new[inters_new.is_curated=='yes'].inter_id.drop_duplicates().shape[0])\n",
    "inters_new.head(3)"
   ]
  },
  {
   "cell_type": "code",
   "execution_count": 159,
   "id": "4dfc71ed-3beb-4b13-b3b7-fdcc0eed5895",
   "metadata": {
    "tags": []
   },
   "outputs": [],
   "source": [
    "inters_new.to_csv('../SupplementaryFiles/'+'metastasis_associated_intercellular_interactions_v1.1.csv', index=False)"
   ]
  },
  {
   "cell_type": "markdown",
   "id": "ac361ce4-eeb4-43df-998c-1f1296ed6ade",
   "metadata": {
    "tags": []
   },
   "source": [
    "# Gene Selection and Comparison"
   ]
  },
  {
   "cell_type": "markdown",
   "id": "fa462304-f27e-4062-8db1-b0acdc387594",
   "metadata": {
    "tags": []
   },
   "source": [
    "## Pubmed Search"
   ]
  },
  {
   "cell_type": "code",
   "execution_count": 160,
   "id": "b9a03a6e-ea79-4389-80d8-fc47786a2da2",
   "metadata": {
    "tags": []
   },
   "outputs": [
    {
     "data": {
      "text/html": [
       "<div>\n",
       "<style scoped>\n",
       "    .dataframe tbody tr th:only-of-type {\n",
       "        vertical-align: middle;\n",
       "    }\n",
       "\n",
       "    .dataframe tbody tr th {\n",
       "        vertical-align: top;\n",
       "    }\n",
       "\n",
       "    .dataframe thead th {\n",
       "        text-align: right;\n",
       "    }\n",
       "</style>\n",
       "<table border=\"1\" class=\"dataframe\">\n",
       "  <thead>\n",
       "    <tr style=\"text-align: right;\">\n",
       "      <th></th>\n",
       "      <th>source</th>\n",
       "      <th>target</th>\n",
       "      <th>interaction</th>\n",
       "      <th>tissue_dataset</th>\n",
       "      <th>tau_source</th>\n",
       "      <th>tau_target</th>\n",
       "      <th>inter_tau</th>\n",
       "      <th>pairs_type</th>\n",
       "      <th>network_type</th>\n",
       "      <th>metastasis_dataset</th>\n",
       "      <th>signal</th>\n",
       "      <th>value</th>\n",
       "      <th>stat</th>\n",
       "      <th>pval</th>\n",
       "      <th>pval_corr</th>\n",
       "      <th>cancer_entropy</th>\n",
       "      <th>metastasis_entropy</th>\n",
       "    </tr>\n",
       "    <tr>\n",
       "      <th>inter_id</th>\n",
       "      <th></th>\n",
       "      <th></th>\n",
       "      <th></th>\n",
       "      <th></th>\n",
       "      <th></th>\n",
       "      <th></th>\n",
       "      <th></th>\n",
       "      <th></th>\n",
       "      <th></th>\n",
       "      <th></th>\n",
       "      <th></th>\n",
       "      <th></th>\n",
       "      <th></th>\n",
       "      <th></th>\n",
       "      <th></th>\n",
       "      <th></th>\n",
       "      <th></th>\n",
       "    </tr>\n",
       "  </thead>\n",
       "  <tbody>\n",
       "    <tr>\n",
       "      <th>422</th>\n",
       "      <td>WNT4</td>\n",
       "      <td>LRP6</td>\n",
       "      <td>9414.0</td>\n",
       "      <td>gtex</td>\n",
       "      <td>0.739</td>\n",
       "      <td>0.348</td>\n",
       "      <td>0.739</td>\n",
       "      <td>frequency</td>\n",
       "      <td>genecalls</td>\n",
       "      <td>autopsy</td>\n",
       "      <td>-1.0</td>\n",
       "      <td>-5756.0</td>\n",
       "      <td>MWU_ratio</td>\n",
       "      <td>0.003759</td>\n",
       "      <td>0.022155</td>\n",
       "      <td>2.924700</td>\n",
       "      <td>3.007392</td>\n",
       "    </tr>\n",
       "    <tr>\n",
       "      <th>1149</th>\n",
       "      <td>APOC2</td>\n",
       "      <td>LRP1</td>\n",
       "      <td>385.0</td>\n",
       "      <td>gtex</td>\n",
       "      <td>0.862</td>\n",
       "      <td>0.317</td>\n",
       "      <td>0.862</td>\n",
       "      <td>frequency</td>\n",
       "      <td>genecalls</td>\n",
       "      <td>hcmdb</td>\n",
       "      <td>1.0</td>\n",
       "      <td>2706.0</td>\n",
       "      <td>MWU_ratio</td>\n",
       "      <td>0.000344</td>\n",
       "      <td>0.012371</td>\n",
       "      <td>2.709835</td>\n",
       "      <td>2.472963</td>\n",
       "    </tr>\n",
       "  </tbody>\n",
       "</table>\n",
       "</div>"
      ],
      "text/plain": [
       "         source target  interaction tissue_dataset  tau_source  tau_target  \\\n",
       "inter_id                                                                     \n",
       "422        WNT4   LRP6       9414.0           gtex       0.739       0.348   \n",
       "1149      APOC2   LRP1        385.0           gtex       0.862       0.317   \n",
       "\n",
       "          inter_tau pairs_type network_type metastasis_dataset  signal  \\\n",
       "inter_id                                                                 \n",
       "422           0.739  frequency    genecalls            autopsy    -1.0   \n",
       "1149          0.862  frequency    genecalls              hcmdb     1.0   \n",
       "\n",
       "           value       stat      pval  pval_corr  cancer_entropy  \\\n",
       "inter_id                                                           \n",
       "422      -5756.0  MWU_ratio  0.003759   0.022155        2.924700   \n",
       "1149      2706.0  MWU_ratio  0.000344   0.012371        2.709835   \n",
       "\n",
       "          metastasis_entropy  \n",
       "inter_id                      \n",
       "422                 3.007392  \n",
       "1149                2.472963  "
      ]
     },
     "execution_count": 160,
     "metadata": {},
     "output_type": "execute_result"
    }
   ],
   "source": [
    "# load interaction list\n",
    "inter_data = pd.read_csv(interactions_dir+f'interactions_corr_0.25.csv', index_col='inter_id')\n",
    "inter_data.head(2)"
   ]
  },
  {
   "cell_type": "code",
   "execution_count": 238,
   "id": "d0c4b982-b862-48c9-925d-13e0c4e003d1",
   "metadata": {
    "tags": []
   },
   "outputs": [
    {
     "data": {
      "text/plain": [
       "25764"
      ]
     },
     "execution_count": 238,
     "metadata": {},
     "output_type": "execute_result"
    }
   ],
   "source": [
    "all_genes_list = []\n",
    "\n",
    "for td in ['gtex', 'consensus']:\n",
    "    g = pd.read_csv(gene_exp_dir+f'{td}/grouped_records.csv')['gene_id'].drop_duplicates().to_list()\n",
    "    all_genes_list.extend(g)\n",
    "\n",
    "all_genes_list = set(all_genes_list)\n",
    "len(all_genes_list)"
   ]
  },
  {
   "cell_type": "code",
   "execution_count": 239,
   "id": "584efaec-095b-4743-9360-74e4900988c3",
   "metadata": {
    "tags": []
   },
   "outputs": [
    {
     "name": "stdout",
     "output_type": "stream",
     "text": [
      "total number of metastasis-associated genes: 616\n"
     ]
    }
   ],
   "source": [
    "inter_list = inter_data[['source', 'target']].drop_duplicates().reset_index(drop=True)\n",
    "\n",
    "sign_genes = pd.DataFrame(\n",
    "    pd.concat([\n",
    "        inter_list['source'].rename('gene'),\n",
    "        inter_list['target'].rename('gene')])\n",
    "        ).drop_duplicates()\n",
    "\n",
    "sign_genes['type'] = ['sign'] * sign_genes.shape[0]\n",
    "print('total number of metastasis-associated genes:', sign_genes.shape[0])"
   ]
  },
  {
   "cell_type": "code",
   "execution_count": 240,
   "id": "32c6fe70-0c94-47d3-bab9-a5ed74f81a07",
   "metadata": {
    "tags": []
   },
   "outputs": [
    {
     "data": {
      "text/html": [
       "<div>\n",
       "<style scoped>\n",
       "    .dataframe tbody tr th:only-of-type {\n",
       "        vertical-align: middle;\n",
       "    }\n",
       "\n",
       "    .dataframe tbody tr th {\n",
       "        vertical-align: top;\n",
       "    }\n",
       "\n",
       "    .dataframe thead th {\n",
       "        text-align: right;\n",
       "    }\n",
       "</style>\n",
       "<table border=\"1\" class=\"dataframe\">\n",
       "  <thead>\n",
       "    <tr style=\"text-align: right;\">\n",
       "      <th></th>\n",
       "      <th>gene</th>\n",
       "      <th>type</th>\n",
       "    </tr>\n",
       "  </thead>\n",
       "  <tbody>\n",
       "    <tr>\n",
       "      <th>0</th>\n",
       "      <td>APP</td>\n",
       "      <td>sign</td>\n",
       "    </tr>\n",
       "    <tr>\n",
       "      <th>1</th>\n",
       "      <td>CXCL16</td>\n",
       "      <td>sign</td>\n",
       "    </tr>\n",
       "  </tbody>\n",
       "</table>\n",
       "</div>"
      ],
      "text/plain": [
       "     gene  type\n",
       "0     APP  sign\n",
       "1  CXCL16  sign"
      ]
     },
     "execution_count": 240,
     "metadata": {},
     "output_type": "execute_result"
    }
   ],
   "source": [
    "intercell_genes = pd.concat([\n",
    "    graph['source'].rename('gene'),\n",
    "    graph['target'].rename('gene')\n",
    "]).drop_duplicates().reset_index(drop=True)\n",
    "\n",
    "intercell_genes = pd.DataFrame(intercell_genes[intercell_genes.isin(all_genes_list)])\n",
    "\n",
    "intercell_genes = pd.merge(intercell_genes, sign_genes, how='left').fillna('not_sign')\n",
    "intercell_genes.head(2)"
   ]
  },
  {
   "cell_type": "markdown",
   "id": "d2750da9-bae4-47bd-b6ee-01db950eba36",
   "metadata": {
    "tags": []
   },
   "source": [
    "#### Association with metastasis OR invasion"
   ]
  },
  {
   "cell_type": "code",
   "execution_count": null,
   "id": "f5ad793d-2042-4a60-94a2-a4b064a58138",
   "metadata": {
    "tags": []
   },
   "outputs": [],
   "source": [
    "# search pmids of genes from metastasis-associated interactions in article Titles and Abstracts\n",
    "from Bio import Entrez\n",
    "gene_pmid = {'gene': [], 'pmid': []}\n",
    "for gene in tqdm(intercell_genes['gene'].to_list()):\n",
    "    Entrez.email = \"jamiranda@fc.ul.pt\"\n",
    "    handle = Entrez.esearch(\n",
    "        db='pubmed',\n",
    "        term=f'({gene}) AND (metastasis OR invasion)',\n",
    "        field='Title/Abstract',\n",
    "        RetMax=1000\n",
    "    )\n",
    "    record = Entrez.read(handle)\n",
    "    pmids = record[\"IdList\"]\n",
    "\n",
    "    gene_pmid['pmid'].extend(pmids)\n",
    "    gene_pmid['gene'].extend([gene] * len(pmids))\n",
    "    handle.close()\n",
    "\n",
    "gene_pmid = pd.DataFrame(gene_pmid)"
   ]
  },
  {
   "cell_type": "code",
   "execution_count": 269,
   "id": "e3897698",
   "metadata": {},
   "outputs": [
    {
     "data": {
      "text/html": [
       "<div>\n",
       "<style scoped>\n",
       "    .dataframe tbody tr th:only-of-type {\n",
       "        vertical-align: middle;\n",
       "    }\n",
       "\n",
       "    .dataframe tbody tr th {\n",
       "        vertical-align: top;\n",
       "    }\n",
       "\n",
       "    .dataframe thead th {\n",
       "        text-align: right;\n",
       "    }\n",
       "</style>\n",
       "<table border=\"1\" class=\"dataframe\">\n",
       "  <thead>\n",
       "    <tr style=\"text-align: right;\">\n",
       "      <th></th>\n",
       "      <th>gene</th>\n",
       "      <th>type</th>\n",
       "      <th>pmid</th>\n",
       "    </tr>\n",
       "  </thead>\n",
       "  <tbody>\n",
       "    <tr>\n",
       "      <th>0</th>\n",
       "      <td>APP</td>\n",
       "      <td>sign</td>\n",
       "      <td>37267825.0</td>\n",
       "    </tr>\n",
       "    <tr>\n",
       "      <th>1</th>\n",
       "      <td>APP</td>\n",
       "      <td>sign</td>\n",
       "      <td>37219600.0</td>\n",
       "    </tr>\n",
       "  </tbody>\n",
       "</table>\n",
       "</div>"
      ],
      "text/plain": [
       "  gene  type        pmid\n",
       "0  APP  sign  37267825.0\n",
       "1  APP  sign  37219600.0"
      ]
     },
     "execution_count": 269,
     "metadata": {},
     "output_type": "execute_result"
    }
   ],
   "source": [
    "pmids_association = pd.merge(intercell_genes, gene_pmid)\n",
    "pmids_association.head(2)"
   ]
  },
  {
   "cell_type": "code",
   "execution_count": 270,
   "id": "040e639a-b066-4a2e-805a-f79eba9233d5",
   "metadata": {
    "tags": []
   },
   "outputs": [],
   "source": [
    "# output pmdis recordes\n",
    "pmids_association.to_csv(interactions_dir+'gene_pmids_association.csv', index=False)"
   ]
  },
  {
   "cell_type": "markdown",
   "id": "680c925b-0eac-49ea-a341-17eaafb8d4ca",
   "metadata": {
    "tags": []
   },
   "source": [
    "#### Total number of papers per gene"
   ]
  },
  {
   "cell_type": "code",
   "execution_count": null,
   "id": "9e37c101-9103-4b46-867d-4f76760858c9",
   "metadata": {
    "tags": []
   },
   "outputs": [],
   "source": [
    "# search pmids of genes from metastasis-associated interactions in article Titles and Abstracts\n",
    "from Bio import Entrez\n",
    "gene_pmid = {'gene': [], 'pmid': []}\n",
    "for gene in tqdm(intercell_genes['gene'].to_list()):\n",
    "    Entrez.email = \"jamiranda@fc.ul.pt\"\n",
    "    handle = Entrez.esearch(\n",
    "        db='pubmed',\n",
    "        term=f'{gene}',\n",
    "        field='Title/Abstract',\n",
    "        RetMax=1000\n",
    "    )\n",
    "    record = Entrez.read(handle)\n",
    "    pmids = record[\"IdList\"]\n",
    "\n",
    "    gene_pmid['pmid'].extend(pmids)\n",
    "    gene_pmid['gene'].extend([gene] * len(pmids))\n",
    "    handle.close()\n",
    "\n",
    "gene_pmid = pd.DataFrame(gene_pmid)"
   ]
  },
  {
   "cell_type": "code",
   "execution_count": null,
   "id": "f462a322-b826-4037-a32c-d37f5ebca9d3",
   "metadata": {
    "tags": []
   },
   "outputs": [],
   "source": [
    "pmids_total = pd.merge(intercell_genes, gene_pmid)\n",
    "pmids_total.head(2)"
   ]
  },
  {
   "cell_type": "markdown",
   "id": "00fd11bb",
   "metadata": {},
   "source": [
    "#### Calculate PMID ratio"
   ]
  },
  {
   "cell_type": "code",
   "execution_count": null,
   "id": "baf72fbc",
   "metadata": {},
   "outputs": [],
   "source": [
    "# calculate number of pmids per gene\n",
    "n_pmids_association = pmids_association.groupby(['gene', 'type'], as_index=False)\\\n",
    "    .count().rename(columns={'pmid': 'n_pmid'})\n",
    "\n",
    "n_pmid_total = pmids_total.groupby(['gene', 'type'], as_index=False)\\\n",
    "    .count().rename(columns={'pmid': 'n_pmid'})"
   ]
  },
  {
   "cell_type": "code",
   "execution_count": 301,
   "id": "c93702ed",
   "metadata": {},
   "outputs": [],
   "source": [
    "# calculate the ratio of pmids associated vs total number of pmids\n",
    "n_pmid_ratio = pd.merge(\n",
    "    n_pmids_association.reset_index(), n_pmid_total.reset_index(),\n",
    "    on=['gene', 'type'], suffixes=['_association', '_total']\n",
    "    )\n",
    "n_pmid_ratio['ratio'] = n_pmid_ratio['n_pmid_association']/n_pmid_ratio['n_pmid_total']\n",
    "\n",
    "n_pmid_ratio.to_csv(interactions_dir+'pmid_ratio.csv', index=False)"
   ]
  },
  {
   "cell_type": "markdown",
   "id": "3edb5e18-059f-46e5-9eae-27ffae52dda0",
   "metadata": {
    "jp-MarkdownHeadingCollapsed": true,
    "tags": []
   },
   "source": [
    "## Disgenet Search"
   ]
  },
  {
   "cell_type": "code",
   "execution_count": 303,
   "id": "832b2526-74a7-48d2-bc70-4dd66a11a8a7",
   "metadata": {},
   "outputs": [
    {
     "data": {
      "text/html": [
       "<div>\n",
       "<style scoped>\n",
       "    .dataframe tbody tr th:only-of-type {\n",
       "        vertical-align: middle;\n",
       "    }\n",
       "\n",
       "    .dataframe tbody tr th {\n",
       "        vertical-align: top;\n",
       "    }\n",
       "\n",
       "    .dataframe thead th {\n",
       "        text-align: right;\n",
       "    }\n",
       "</style>\n",
       "<table border=\"1\" class=\"dataframe\">\n",
       "  <thead>\n",
       "    <tr style=\"text-align: right;\">\n",
       "      <th></th>\n",
       "      <th>gene</th>\n",
       "      <th>type</th>\n",
       "      <th>n_pmid_association</th>\n",
       "      <th>n_pmid_total</th>\n",
       "      <th>ratio</th>\n",
       "    </tr>\n",
       "  </thead>\n",
       "  <tbody>\n",
       "    <tr>\n",
       "      <th>0</th>\n",
       "      <td>A1BG</td>\n",
       "      <td>not_sign</td>\n",
       "      <td>4</td>\n",
       "      <td>73</td>\n",
       "      <td>0.054795</td>\n",
       "    </tr>\n",
       "    <tr>\n",
       "      <th>1</th>\n",
       "      <td>A2M</td>\n",
       "      <td>not_sign</td>\n",
       "      <td>23</td>\n",
       "      <td>654</td>\n",
       "      <td>0.035168</td>\n",
       "    </tr>\n",
       "  </tbody>\n",
       "</table>\n",
       "</div>"
      ],
      "text/plain": [
       "   gene      type  n_pmid_association  n_pmid_total     ratio\n",
       "0  A1BG  not_sign                   4            73  0.054795\n",
       "1   A2M  not_sign                  23           654  0.035168"
      ]
     },
     "metadata": {},
     "output_type": "display_data"
    }
   ],
   "source": [
    "# load gene list\n",
    "pmids = pd.read_csv(interactions_dir+'pmid_ratio.csv')\n",
    "display(pmids.head(2))"
   ]
  },
  {
   "cell_type": "code",
   "execution_count": 311,
   "id": "b40537f9",
   "metadata": {},
   "outputs": [],
   "source": [
    "curated_graph = pd.read_csv(intercell_net_dir+'intercell_curated_graph.csv')\n",
    "curated_graph = set(curated_graph['source'].tolist() + curated_graph['target'].tolist())"
   ]
  },
  {
   "cell_type": "code",
   "execution_count": 313,
   "id": "ec8f3c1f-dc0e-4fd7-ac80-365044bd7687",
   "metadata": {},
   "outputs": [
    {
     "name": "stdout",
     "output_type": "stream",
     "text": [
      "1935\n"
     ]
    },
    {
     "data": {
      "text/html": [
       "<div>\n",
       "<style scoped>\n",
       "    .dataframe tbody tr th:only-of-type {\n",
       "        vertical-align: middle;\n",
       "    }\n",
       "\n",
       "    .dataframe tbody tr th {\n",
       "        vertical-align: top;\n",
       "    }\n",
       "\n",
       "    .dataframe thead th {\n",
       "        text-align: right;\n",
       "    }\n",
       "</style>\n",
       "<table border=\"1\" class=\"dataframe\">\n",
       "  <thead>\n",
       "    <tr style=\"text-align: right;\">\n",
       "      <th></th>\n",
       "      <th>gene</th>\n",
       "      <th>type</th>\n",
       "    </tr>\n",
       "  </thead>\n",
       "  <tbody>\n",
       "    <tr>\n",
       "      <th>0</th>\n",
       "      <td>A1BG</td>\n",
       "      <td>not_sign</td>\n",
       "    </tr>\n",
       "    <tr>\n",
       "      <th>1</th>\n",
       "      <td>A2M</td>\n",
       "      <td>not_sign</td>\n",
       "    </tr>\n",
       "  </tbody>\n",
       "</table>\n",
       "</div>"
      ],
      "text/plain": [
       "   gene      type\n",
       "0  A1BG  not_sign\n",
       "1   A2M  not_sign"
      ]
     },
     "metadata": {},
     "output_type": "display_data"
    },
    {
     "name": "stdout",
     "output_type": "stream",
     "text": [
      "1813\n"
     ]
    },
    {
     "data": {
      "text/html": [
       "<div>\n",
       "<style scoped>\n",
       "    .dataframe tbody tr th:only-of-type {\n",
       "        vertical-align: middle;\n",
       "    }\n",
       "\n",
       "    .dataframe tbody tr th {\n",
       "        vertical-align: top;\n",
       "    }\n",
       "\n",
       "    .dataframe thead th {\n",
       "        text-align: right;\n",
       "    }\n",
       "</style>\n",
       "<table border=\"1\" class=\"dataframe\">\n",
       "  <thead>\n",
       "    <tr style=\"text-align: right;\">\n",
       "      <th></th>\n",
       "      <th>gene</th>\n",
       "      <th>type</th>\n",
       "    </tr>\n",
       "  </thead>\n",
       "  <tbody>\n",
       "    <tr>\n",
       "      <th>0</th>\n",
       "      <td>A1BG</td>\n",
       "      <td>not_sign</td>\n",
       "    </tr>\n",
       "    <tr>\n",
       "      <th>1</th>\n",
       "      <td>A2M</td>\n",
       "      <td>not_sign</td>\n",
       "    </tr>\n",
       "  </tbody>\n",
       "</table>\n",
       "</div>"
      ],
      "text/plain": [
       "   gene      type\n",
       "0  A1BG  not_sign\n",
       "1   A2M  not_sign"
      ]
     },
     "execution_count": 313,
     "metadata": {},
     "output_type": "execute_result"
    }
   ],
   "source": [
    "intercell_genes = pmids[['gene', 'type']].drop_duplicates()\n",
    "print(intercell_genes.shape[0])\n",
    "display(intercell_genes.head(2))\n",
    "intercell_curated_genes = intercell_genes[intercell_genes.gene.isin(curated_graph)]\n",
    "print(intercell_curated_genes.shape[0])\n",
    "intercell_curated_genes.head(2)"
   ]
  },
  {
   "cell_type": "code",
   "execution_count": 315,
   "id": "bc663cd7-db8c-403b-84ea-8538d6d9aa48",
   "metadata": {},
   "outputs": [],
   "source": [
    "disgenet = sqlite3.connect(raw_data_dir+'disgenet_2020.db')"
   ]
  },
  {
   "cell_type": "code",
   "execution_count": 316,
   "id": "53be6a97-3e1b-42f0-8ae9-7e8a6266c098",
   "metadata": {},
   "outputs": [
    {
     "data": {
      "text/html": [
       "<div>\n",
       "<style scoped>\n",
       "    .dataframe tbody tr th:only-of-type {\n",
       "        vertical-align: middle;\n",
       "    }\n",
       "\n",
       "    .dataframe tbody tr th {\n",
       "        vertical-align: top;\n",
       "    }\n",
       "\n",
       "    .dataframe thead th {\n",
       "        text-align: right;\n",
       "    }\n",
       "</style>\n",
       "<table border=\"1\" class=\"dataframe\">\n",
       "  <thead>\n",
       "    <tr style=\"text-align: right;\">\n",
       "      <th></th>\n",
       "      <th>NID</th>\n",
       "      <th>diseaseNID</th>\n",
       "      <th>geneNID</th>\n",
       "      <th>source</th>\n",
       "      <th>association</th>\n",
       "      <th>associationType</th>\n",
       "      <th>sentence</th>\n",
       "      <th>pmid</th>\n",
       "      <th>score</th>\n",
       "      <th>EL</th>\n",
       "      <th>EI</th>\n",
       "      <th>year</th>\n",
       "    </tr>\n",
       "  </thead>\n",
       "  <tbody>\n",
       "    <tr>\n",
       "      <th>0</th>\n",
       "      <td>1130681</td>\n",
       "      <td>2107</td>\n",
       "      <td>793</td>\n",
       "      <td>BEFREE</td>\n",
       "      <td>NaN</td>\n",
       "      <td>Biomarker</td>\n",
       "      <td>No correlation could be found between Broder's...</td>\n",
       "      <td>1000501.0</td>\n",
       "      <td>0.1</td>\n",
       "      <td>None</td>\n",
       "      <td>0.956175</td>\n",
       "      <td>1976</td>\n",
       "    </tr>\n",
       "    <tr>\n",
       "      <th>1</th>\n",
       "      <td>261998</td>\n",
       "      <td>431</td>\n",
       "      <td>775</td>\n",
       "      <td>BEFREE</td>\n",
       "      <td>NaN</td>\n",
       "      <td>GeneticVariation</td>\n",
       "      <td>However, there are few reports describing soma...</td>\n",
       "      <td>10021299.0</td>\n",
       "      <td>0.4</td>\n",
       "      <td>None</td>\n",
       "      <td>0.987013</td>\n",
       "      <td>1999</td>\n",
       "    </tr>\n",
       "  </tbody>\n",
       "</table>\n",
       "</div>"
      ],
      "text/plain": [
       "       NID  diseaseNID  geneNID  source  association   associationType  \\\n",
       "0  1130681        2107      793  BEFREE          NaN         Biomarker   \n",
       "1   261998         431      775  BEFREE          NaN  GeneticVariation   \n",
       "\n",
       "                                            sentence        pmid  score    EL  \\\n",
       "0  No correlation could be found between Broder's...   1000501.0    0.1  None   \n",
       "1  However, there are few reports describing soma...  10021299.0    0.4  None   \n",
       "\n",
       "         EI  year  \n",
       "0  0.956175  1976  \n",
       "1  0.987013  1999  "
      ]
     },
     "execution_count": 316,
     "metadata": {},
     "output_type": "execute_result"
    }
   ],
   "source": [
    "gene_disease_net = pd.read_sql_query(\"SELECT * FROM geneDiseaseNetwork\", disgenet)\n",
    "gene_disease_net.head(2)"
   ]
  },
  {
   "cell_type": "code",
   "execution_count": 317,
   "id": "b3de8453-eea7-4e32-aee4-5c18f3f70706",
   "metadata": {},
   "outputs": [
    {
     "name": "stdout",
     "output_type": "stream",
     "text": [
      "3261324\n"
     ]
    },
    {
     "data": {
      "text/plain": [
       "array(['BEFREE', 'MGD', 'UNIPROT', 'CTD_human', 'RGD', 'CLINVAR',\n",
       "       'CLINGEN', 'GENOMICS_ENGLAND', 'ORPHANET', 'PSYGENET', 'LHGDN',\n",
       "       'CTD_mouse', 'GWASDB', 'GWASCAT', 'CTD_rat', 'HPO', 'CGI'],\n",
       "      dtype=object)"
      ]
     },
     "execution_count": 317,
     "metadata": {},
     "output_type": "execute_result"
    }
   ],
   "source": [
    "print(gene_disease_net.shape[0])\n",
    "gene_disease_net.source.unique()"
   ]
  },
  {
   "cell_type": "code",
   "execution_count": 318,
   "id": "f350e5ed-8c4a-4df0-b335-05bcb66a372f",
   "metadata": {},
   "outputs": [
    {
     "data": {
      "text/plain": [
       "array([nan,  0.,  1.])"
      ]
     },
     "execution_count": 318,
     "metadata": {},
     "output_type": "execute_result"
    }
   ],
   "source": [
    "gene_disease_net.association.unique()"
   ]
  },
  {
   "cell_type": "code",
   "execution_count": 319,
   "id": "45391303-9cb6-41f9-8bac-577dd454d202",
   "metadata": {},
   "outputs": [
    {
     "name": "stdout",
     "output_type": "stream",
     "text": [
      "26137\n"
     ]
    },
    {
     "data": {
      "text/html": [
       "<div>\n",
       "<style scoped>\n",
       "    .dataframe tbody tr th:only-of-type {\n",
       "        vertical-align: middle;\n",
       "    }\n",
       "\n",
       "    .dataframe tbody tr th {\n",
       "        vertical-align: top;\n",
       "    }\n",
       "\n",
       "    .dataframe thead th {\n",
       "        text-align: right;\n",
       "    }\n",
       "</style>\n",
       "<table border=\"1\" class=\"dataframe\">\n",
       "  <thead>\n",
       "    <tr style=\"text-align: right;\">\n",
       "      <th></th>\n",
       "      <th>geneNID</th>\n",
       "      <th>geneId</th>\n",
       "      <th>geneName</th>\n",
       "      <th>geneDescription</th>\n",
       "      <th>pLI</th>\n",
       "      <th>DSI</th>\n",
       "      <th>DPI</th>\n",
       "    </tr>\n",
       "  </thead>\n",
       "  <tbody>\n",
       "    <tr>\n",
       "      <th>0</th>\n",
       "      <td>1</td>\n",
       "      <td>1</td>\n",
       "      <td>A1BG</td>\n",
       "      <td>alpha-1-B glycoprotein</td>\n",
       "      <td>4.991700e-09</td>\n",
       "      <td>0.700</td>\n",
       "      <td>0.538</td>\n",
       "    </tr>\n",
       "    <tr>\n",
       "      <th>1</th>\n",
       "      <td>2</td>\n",
       "      <td>2</td>\n",
       "      <td>A2M</td>\n",
       "      <td>alpha-2-macroglobulin</td>\n",
       "      <td>4.522900e-11</td>\n",
       "      <td>0.529</td>\n",
       "      <td>0.769</td>\n",
       "    </tr>\n",
       "  </tbody>\n",
       "</table>\n",
       "</div>"
      ],
      "text/plain": [
       "   geneNID  geneId geneName         geneDescription           pLI    DSI  \\\n",
       "0        1       1     A1BG  alpha-1-B glycoprotein  4.991700e-09  0.700   \n",
       "1        2       2      A2M   alpha-2-macroglobulin  4.522900e-11  0.529   \n",
       "\n",
       "     DPI  \n",
       "0  0.538  \n",
       "1  0.769  "
      ]
     },
     "metadata": {},
     "output_type": "display_data"
    }
   ],
   "source": [
    "gene_attr = pd.read_sql_query(\"SELECT * FROM geneAttributes\", disgenet)\n",
    "print(gene_attr.shape[0])\n",
    "display(gene_attr.head(2))"
   ]
  },
  {
   "cell_type": "code",
   "execution_count": 320,
   "id": "0776ca13-6379-4221-9b1a-ad093815fcf0",
   "metadata": {},
   "outputs": [
    {
     "name": "stdout",
     "output_type": "stream",
     "text": [
      "1909\n"
     ]
    },
    {
     "data": {
      "text/html": [
       "<div>\n",
       "<style scoped>\n",
       "    .dataframe tbody tr th:only-of-type {\n",
       "        vertical-align: middle;\n",
       "    }\n",
       "\n",
       "    .dataframe tbody tr th {\n",
       "        vertical-align: top;\n",
       "    }\n",
       "\n",
       "    .dataframe thead th {\n",
       "        text-align: right;\n",
       "    }\n",
       "</style>\n",
       "<table border=\"1\" class=\"dataframe\">\n",
       "  <thead>\n",
       "    <tr style=\"text-align: right;\">\n",
       "      <th></th>\n",
       "      <th>geneNID</th>\n",
       "      <th>geneId</th>\n",
       "      <th>geneName</th>\n",
       "      <th>geneDescription</th>\n",
       "      <th>pLI</th>\n",
       "      <th>DSI</th>\n",
       "      <th>DPI</th>\n",
       "    </tr>\n",
       "  </thead>\n",
       "  <tbody>\n",
       "    <tr>\n",
       "      <th>0</th>\n",
       "      <td>1</td>\n",
       "      <td>1</td>\n",
       "      <td>A1BG</td>\n",
       "      <td>alpha-1-B glycoprotein</td>\n",
       "      <td>4.991700e-09</td>\n",
       "      <td>0.700</td>\n",
       "      <td>0.538</td>\n",
       "    </tr>\n",
       "    <tr>\n",
       "      <th>1</th>\n",
       "      <td>2</td>\n",
       "      <td>2</td>\n",
       "      <td>A2M</td>\n",
       "      <td>alpha-2-macroglobulin</td>\n",
       "      <td>4.522900e-11</td>\n",
       "      <td>0.529</td>\n",
       "      <td>0.769</td>\n",
       "    </tr>\n",
       "  </tbody>\n",
       "</table>\n",
       "</div>"
      ],
      "text/plain": [
       "   geneNID  geneId geneName         geneDescription           pLI    DSI  \\\n",
       "0        1       1     A1BG  alpha-1-B glycoprotein  4.991700e-09  0.700   \n",
       "1        2       2      A2M   alpha-2-macroglobulin  4.522900e-11  0.529   \n",
       "\n",
       "     DPI  \n",
       "0  0.538  \n",
       "1  0.769  "
      ]
     },
     "execution_count": 320,
     "metadata": {},
     "output_type": "execute_result"
    }
   ],
   "source": [
    "intercell_gene_attr = gene_attr[gene_attr.geneName.isin(intercell_genes.gene)]\n",
    "print(intercell_gene_attr.shape[0])\n",
    "intercell_gene_attr.head(2)"
   ]
  },
  {
   "cell_type": "code",
   "execution_count": 321,
   "id": "0cd587cf-afba-477d-b747-0453b8a91773",
   "metadata": {},
   "outputs": [
    {
     "data": {
      "text/html": [
       "<div>\n",
       "<style scoped>\n",
       "    .dataframe tbody tr th:only-of-type {\n",
       "        vertical-align: middle;\n",
       "    }\n",
       "\n",
       "    .dataframe tbody tr th {\n",
       "        vertical-align: top;\n",
       "    }\n",
       "\n",
       "    .dataframe thead th {\n",
       "        text-align: right;\n",
       "    }\n",
       "</style>\n",
       "<table border=\"1\" class=\"dataframe\">\n",
       "  <thead>\n",
       "    <tr style=\"text-align: right;\">\n",
       "      <th></th>\n",
       "      <th>diseaseNID</th>\n",
       "      <th>diseaseId</th>\n",
       "      <th>diseaseName</th>\n",
       "      <th>type</th>\n",
       "    </tr>\n",
       "  </thead>\n",
       "  <tbody>\n",
       "    <tr>\n",
       "      <th>0</th>\n",
       "      <td>1</td>\n",
       "      <td>C0000727</td>\n",
       "      <td>Abdomen, Acute</td>\n",
       "      <td>phenotype</td>\n",
       "    </tr>\n",
       "    <tr>\n",
       "      <th>1</th>\n",
       "      <td>2</td>\n",
       "      <td>C0000729</td>\n",
       "      <td>Abdominal Cramps</td>\n",
       "      <td>phenotype</td>\n",
       "    </tr>\n",
       "  </tbody>\n",
       "</table>\n",
       "</div>"
      ],
      "text/plain": [
       "   diseaseNID diseaseId       diseaseName       type\n",
       "0           1  C0000727    Abdomen, Acute  phenotype\n",
       "1           2  C0000729  Abdominal Cramps  phenotype"
      ]
     },
     "execution_count": 321,
     "metadata": {},
     "output_type": "execute_result"
    }
   ],
   "source": [
    "disease_attr = pd.read_sql_query(\"SELECT * FROM diseaseAttributes\", disgenet)\n",
    "disease_attr.head(2)"
   ]
  },
  {
   "cell_type": "code",
   "execution_count": 322,
   "id": "6952a154-7d33-450a-b972-118d1a66c6d8",
   "metadata": {},
   "outputs": [
    {
     "data": {
      "text/html": [
       "<div>\n",
       "<style scoped>\n",
       "    .dataframe tbody tr th:only-of-type {\n",
       "        vertical-align: middle;\n",
       "    }\n",
       "\n",
       "    .dataframe tbody tr th {\n",
       "        vertical-align: top;\n",
       "    }\n",
       "\n",
       "    .dataframe thead th {\n",
       "        text-align: right;\n",
       "    }\n",
       "</style>\n",
       "<table border=\"1\" class=\"dataframe\">\n",
       "  <thead>\n",
       "    <tr style=\"text-align: right;\">\n",
       "      <th></th>\n",
       "      <th>diseaseNID</th>\n",
       "      <th>diseaseClassNID</th>\n",
       "    </tr>\n",
       "  </thead>\n",
       "  <tbody>\n",
       "    <tr>\n",
       "      <th>0</th>\n",
       "      <td>1840</td>\n",
       "      <td>20</td>\n",
       "    </tr>\n",
       "    <tr>\n",
       "      <th>1</th>\n",
       "      <td>38</td>\n",
       "      <td>20</td>\n",
       "    </tr>\n",
       "  </tbody>\n",
       "</table>\n",
       "</div>"
      ],
      "text/plain": [
       "   diseaseNID  diseaseClassNID\n",
       "0        1840               20\n",
       "1          38               20"
      ]
     },
     "metadata": {},
     "output_type": "display_data"
    },
    {
     "data": {
      "text/html": [
       "<div>\n",
       "<style scoped>\n",
       "    .dataframe tbody tr th:only-of-type {\n",
       "        vertical-align: middle;\n",
       "    }\n",
       "\n",
       "    .dataframe tbody tr th {\n",
       "        vertical-align: top;\n",
       "    }\n",
       "\n",
       "    .dataframe thead th {\n",
       "        text-align: right;\n",
       "    }\n",
       "</style>\n",
       "<table border=\"1\" class=\"dataframe\">\n",
       "  <thead>\n",
       "    <tr style=\"text-align: right;\">\n",
       "      <th></th>\n",
       "      <th>diseaseClassNID</th>\n",
       "      <th>vocabulary</th>\n",
       "      <th>diseaseClass</th>\n",
       "      <th>diseaseClassName</th>\n",
       "    </tr>\n",
       "  </thead>\n",
       "  <tbody>\n",
       "    <tr>\n",
       "      <th>0</th>\n",
       "      <td>2</td>\n",
       "      <td>MSH</td>\n",
       "      <td>C23</td>\n",
       "      <td>Pathological Conditions, Signs and Symptoms</td>\n",
       "    </tr>\n",
       "    <tr>\n",
       "      <th>1</th>\n",
       "      <td>3</td>\n",
       "      <td>MSH</td>\n",
       "      <td>C16</td>\n",
       "      <td>Congenital, Hereditary, and Neonatal Diseas...</td>\n",
       "    </tr>\n",
       "  </tbody>\n",
       "</table>\n",
       "</div>"
      ],
      "text/plain": [
       "   diseaseClassNID vocabulary diseaseClass  \\\n",
       "0                2        MSH          C23   \n",
       "1                3        MSH          C16   \n",
       "\n",
       "                                    diseaseClassName  \n",
       "0        Pathological Conditions, Signs and Symptoms  \n",
       "1     Congenital, Hereditary, and Neonatal Diseas...  "
      ]
     },
     "metadata": {},
     "output_type": "display_data"
    },
    {
     "data": {
      "text/html": [
       "<div>\n",
       "<style scoped>\n",
       "    .dataframe tbody tr th:only-of-type {\n",
       "        vertical-align: middle;\n",
       "    }\n",
       "\n",
       "    .dataframe tbody tr th {\n",
       "        vertical-align: top;\n",
       "    }\n",
       "\n",
       "    .dataframe thead th {\n",
       "        text-align: right;\n",
       "    }\n",
       "</style>\n",
       "<table border=\"1\" class=\"dataframe\">\n",
       "  <thead>\n",
       "    <tr style=\"text-align: right;\">\n",
       "      <th></th>\n",
       "      <th>diseaseClassNID</th>\n",
       "      <th>vocabulary</th>\n",
       "      <th>diseaseClass</th>\n",
       "      <th>diseaseClassName</th>\n",
       "      <th>diseaseNID</th>\n",
       "    </tr>\n",
       "  </thead>\n",
       "  <tbody>\n",
       "    <tr>\n",
       "      <th>0</th>\n",
       "      <td>2</td>\n",
       "      <td>MSH</td>\n",
       "      <td>C23</td>\n",
       "      <td>Pathological Conditions, Signs and Symptoms</td>\n",
       "      <td>8745</td>\n",
       "    </tr>\n",
       "    <tr>\n",
       "      <th>1</th>\n",
       "      <td>2</td>\n",
       "      <td>MSH</td>\n",
       "      <td>C23</td>\n",
       "      <td>Pathological Conditions, Signs and Symptoms</td>\n",
       "      <td>1856</td>\n",
       "    </tr>\n",
       "  </tbody>\n",
       "</table>\n",
       "</div>"
      ],
      "text/plain": [
       "   diseaseClassNID vocabulary diseaseClass  \\\n",
       "0                2        MSH          C23   \n",
       "1                2        MSH          C23   \n",
       "\n",
       "                                 diseaseClassName  diseaseNID  \n",
       "0     Pathological Conditions, Signs and Symptoms        8745  \n",
       "1     Pathological Conditions, Signs and Symptoms        1856  "
      ]
     },
     "execution_count": 322,
     "metadata": {},
     "output_type": "execute_result"
    }
   ],
   "source": [
    "disease2class = pd.read_sql_query(\"SELECT * FROM disease2class\", disgenet)\n",
    "display(disease2class.head(2))\n",
    "disease_class = pd.read_sql_query(\"SELECT * FROM diseaseClass\", disgenet)\n",
    "display(disease_class.head(2))\n",
    "disease_classes = pd.merge(disease_class, disease2class)\n",
    "disease_classes.head(2)"
   ]
  },
  {
   "cell_type": "code",
   "execution_count": 323,
   "id": "124c65b9-e768-44cb-a186-37bf2079e5ce",
   "metadata": {},
   "outputs": [
    {
     "name": "stdout",
     "output_type": "stream",
     "text": [
      "1620220\n"
     ]
    },
    {
     "data": {
      "text/html": [
       "<div>\n",
       "<style scoped>\n",
       "    .dataframe tbody tr th:only-of-type {\n",
       "        vertical-align: middle;\n",
       "    }\n",
       "\n",
       "    .dataframe tbody tr th {\n",
       "        vertical-align: top;\n",
       "    }\n",
       "\n",
       "    .dataframe thead th {\n",
       "        text-align: right;\n",
       "    }\n",
       "</style>\n",
       "<table border=\"1\" class=\"dataframe\">\n",
       "  <thead>\n",
       "    <tr style=\"text-align: right;\">\n",
       "      <th></th>\n",
       "      <th>NID</th>\n",
       "      <th>diseaseNID</th>\n",
       "      <th>geneNID</th>\n",
       "      <th>source</th>\n",
       "      <th>association</th>\n",
       "      <th>associationType</th>\n",
       "      <th>sentence</th>\n",
       "      <th>pmid</th>\n",
       "      <th>score</th>\n",
       "      <th>EL</th>\n",
       "      <th>...</th>\n",
       "      <th>pLI</th>\n",
       "      <th>DSI</th>\n",
       "      <th>DPI</th>\n",
       "      <th>diseaseId</th>\n",
       "      <th>diseaseName</th>\n",
       "      <th>type</th>\n",
       "      <th>diseaseClassNID</th>\n",
       "      <th>vocabulary</th>\n",
       "      <th>diseaseClass</th>\n",
       "      <th>diseaseClassName</th>\n",
       "    </tr>\n",
       "  </thead>\n",
       "  <tbody>\n",
       "    <tr>\n",
       "      <th>0</th>\n",
       "      <td>1623571</td>\n",
       "      <td>3683</td>\n",
       "      <td>3138</td>\n",
       "      <td>BEFREE</td>\n",
       "      <td>NaN</td>\n",
       "      <td>AlteredExpression</td>\n",
       "      <td>The r/r mice were not resistant to other skele...</td>\n",
       "      <td>10021460.0</td>\n",
       "      <td>0.01</td>\n",
       "      <td>None</td>\n",
       "      <td>...</td>\n",
       "      <td>7.719700e-18</td>\n",
       "      <td>0.385</td>\n",
       "      <td>0.885</td>\n",
       "      <td>C0151846</td>\n",
       "      <td>Periosteal Disorder</td>\n",
       "      <td>disease</td>\n",
       "      <td>25</td>\n",
       "      <td>MSH</td>\n",
       "      <td>C05</td>\n",
       "      <td>Musculoskeletal Diseases</td>\n",
       "    </tr>\n",
       "    <tr>\n",
       "      <th>1</th>\n",
       "      <td>1623592</td>\n",
       "      <td>3683</td>\n",
       "      <td>4149</td>\n",
       "      <td>BEFREE</td>\n",
       "      <td>NaN</td>\n",
       "      <td>AlteredExpression</td>\n",
       "      <td>The r/r mice were not resistant to other skele...</td>\n",
       "      <td>10021460.0</td>\n",
       "      <td>0.01</td>\n",
       "      <td>None</td>\n",
       "      <td>...</td>\n",
       "      <td>1.209300e-02</td>\n",
       "      <td>0.397</td>\n",
       "      <td>0.846</td>\n",
       "      <td>C0151846</td>\n",
       "      <td>Periosteal Disorder</td>\n",
       "      <td>disease</td>\n",
       "      <td>25</td>\n",
       "      <td>MSH</td>\n",
       "      <td>C05</td>\n",
       "      <td>Musculoskeletal Diseases</td>\n",
       "    </tr>\n",
       "  </tbody>\n",
       "</table>\n",
       "<p>2 rows × 25 columns</p>\n",
       "</div>"
      ],
      "text/plain": [
       "       NID  diseaseNID  geneNID  source  association    associationType  \\\n",
       "0  1623571        3683     3138  BEFREE          NaN  AlteredExpression   \n",
       "1  1623592        3683     4149  BEFREE          NaN  AlteredExpression   \n",
       "\n",
       "                                            sentence        pmid  score    EL  \\\n",
       "0  The r/r mice were not resistant to other skele...  10021460.0   0.01  None   \n",
       "1  The r/r mice were not resistant to other skele...  10021460.0   0.01  None   \n",
       "\n",
       "   ...           pLI    DSI    DPI diseaseId          diseaseName     type  \\\n",
       "0  ...  7.719700e-18  0.385  0.885  C0151846  Periosteal Disorder  disease   \n",
       "1  ...  1.209300e-02  0.397  0.846  C0151846  Periosteal Disorder  disease   \n",
       "\n",
       "   diseaseClassNID  vocabulary diseaseClass             diseaseClassName  \n",
       "0               25         MSH          C05     Musculoskeletal Diseases  \n",
       "1               25         MSH          C05     Musculoskeletal Diseases  \n",
       "\n",
       "[2 rows x 25 columns]"
      ]
     },
     "execution_count": 323,
     "metadata": {},
     "output_type": "execute_result"
    }
   ],
   "source": [
    "gene_disease_net = pd.merge(gene_disease_net, intercell_gene_attr)\n",
    "gene_disease_net = pd.merge(gene_disease_net, disease_attr)\n",
    "gene_disease_net = pd.merge(gene_disease_net, disease_classes)\n",
    "print(gene_disease_net.shape[0])\n",
    "gene_disease_net.head(2)"
   ]
  },
  {
   "cell_type": "code",
   "execution_count": 324,
   "id": "33279a7a-aad5-4075-af4b-6e44738fa91f",
   "metadata": {},
   "outputs": [
    {
     "data": {
      "text/plain": [
       "Index(['NID', 'diseaseNID', 'geneNID', 'source', 'association',\n",
       "       'associationType', 'sentence', 'pmid', 'score', 'EL', 'EI', 'year',\n",
       "       'geneId', 'geneName', 'geneDescription', 'pLI', 'DSI', 'DPI',\n",
       "       'diseaseId', 'diseaseName', 'type', 'diseaseClassNID', 'vocabulary',\n",
       "       'diseaseClass', 'diseaseClassName'],\n",
       "      dtype='object')"
      ]
     },
     "execution_count": 324,
     "metadata": {},
     "output_type": "execute_result"
    }
   ],
   "source": [
    "gene_disease_net.columns"
   ]
  },
  {
   "cell_type": "code",
   "execution_count": 325,
   "id": "b33af1cc-093c-4a01-884a-4803d88791d2",
   "metadata": {},
   "outputs": [
    {
     "data": {
      "text/plain": [
       "array(['disease', 'group', 'phenotype'], dtype=object)"
      ]
     },
     "execution_count": 325,
     "metadata": {},
     "output_type": "execute_result"
    }
   ],
   "source": [
    "gene_disease_net.type.unique()"
   ]
  },
  {
   "cell_type": "code",
   "execution_count": 326,
   "id": "f6b9fdea-32a7-448d-b027-d549a05675da",
   "metadata": {},
   "outputs": [
    {
     "data": {
      "text/plain": [
       "array(['   Musculoskeletal Diseases', '   Neoplasms',\n",
       "       '   Skin and Connective Tissue Diseases',\n",
       "       '   Pathological Conditions, Signs and Symptoms',\n",
       "       '   Digestive System Diseases', '   Endocrine System Diseases',\n",
       "       '   Female Urogenital Diseases and Pregnancy Complications',\n",
       "       '   Immune System Diseases',\n",
       "       '   Congenital, Hereditary, and Neonatal Diseases and Abnormalities',\n",
       "       '   Respiratory Tract Diseases', '   Eye Diseases',\n",
       "       '   Stomatognathic Diseases', '   Male Urogenital Diseases',\n",
       "       '   Nervous System Diseases', '   Cardiovascular Diseases',\n",
       "       '   Nutritional and Metabolic Diseases',\n",
       "       '   Otorhinolaryngologic Diseases',\n",
       "       '   Hemic and Lymphatic Diseases', '   Infections',\n",
       "       '   Mental Disorders', '   Behavior and Behavior Mechanisms',\n",
       "       '   Chemically-Induced Disorders', '   Wounds and Injuries',\n",
       "       '   Occupational Diseases', '   Animal Diseases',\n",
       "       '   Disorders of Environmental Origin'], dtype=object)"
      ]
     },
     "execution_count": 326,
     "metadata": {},
     "output_type": "execute_result"
    }
   ],
   "source": [
    "gene_disease_net.diseaseClassName.unique()"
   ]
  },
  {
   "cell_type": "code",
   "execution_count": 327,
   "id": "c9374916-964c-4219-abe5-73a07d159c4c",
   "metadata": {},
   "outputs": [
    {
     "name": "stdout",
     "output_type": "stream",
     "text": [
      "97213\n",
      "1804\n"
     ]
    },
    {
     "data": {
      "text/html": [
       "<div>\n",
       "<style scoped>\n",
       "    .dataframe tbody tr th:only-of-type {\n",
       "        vertical-align: middle;\n",
       "    }\n",
       "\n",
       "    .dataframe tbody tr th {\n",
       "        vertical-align: top;\n",
       "    }\n",
       "\n",
       "    .dataframe thead th {\n",
       "        text-align: right;\n",
       "    }\n",
       "</style>\n",
       "<table border=\"1\" class=\"dataframe\">\n",
       "  <thead>\n",
       "    <tr style=\"text-align: right;\">\n",
       "      <th></th>\n",
       "      <th>geneName</th>\n",
       "      <th>diseaseName</th>\n",
       "      <th>diseaseClassName</th>\n",
       "      <th>source</th>\n",
       "      <th>score</th>\n",
       "    </tr>\n",
       "  </thead>\n",
       "  <tbody>\n",
       "    <tr>\n",
       "      <th>821712</th>\n",
       "      <td>KIT</td>\n",
       "      <td>Gastrointestinal Stromal Tumors</td>\n",
       "      <td>Neoplasms</td>\n",
       "      <td>MGD</td>\n",
       "      <td>1.0</td>\n",
       "    </tr>\n",
       "    <tr>\n",
       "      <th>821990</th>\n",
       "      <td>KIT</td>\n",
       "      <td>Gastrointestinal Stromal Tumors</td>\n",
       "      <td>Neoplasms</td>\n",
       "      <td>CTD_human</td>\n",
       "      <td>1.0</td>\n",
       "    </tr>\n",
       "    <tr>\n",
       "      <th>821626</th>\n",
       "      <td>KIT</td>\n",
       "      <td>Gastrointestinal Stromal Tumors</td>\n",
       "      <td>Neoplasms</td>\n",
       "      <td>UNIPROT</td>\n",
       "      <td>1.0</td>\n",
       "    </tr>\n",
       "    <tr>\n",
       "      <th>375259</th>\n",
       "      <td>MET</td>\n",
       "      <td>Liver carcinoma</td>\n",
       "      <td>Neoplasms</td>\n",
       "      <td>UNIPROT</td>\n",
       "      <td>1.0</td>\n",
       "    </tr>\n",
       "    <tr>\n",
       "      <th>375263</th>\n",
       "      <td>MET</td>\n",
       "      <td>Liver carcinoma</td>\n",
       "      <td>Neoplasms</td>\n",
       "      <td>CGI</td>\n",
       "      <td>1.0</td>\n",
       "    </tr>\n",
       "  </tbody>\n",
       "</table>\n",
       "</div>"
      ],
      "text/plain": [
       "       geneName                      diseaseName diseaseClassName     source  \\\n",
       "821712      KIT  Gastrointestinal Stromal Tumors        Neoplasms        MGD   \n",
       "821990      KIT  Gastrointestinal Stromal Tumors        Neoplasms  CTD_human   \n",
       "821626      KIT  Gastrointestinal Stromal Tumors        Neoplasms    UNIPROT   \n",
       "375259      MET                  Liver carcinoma        Neoplasms    UNIPROT   \n",
       "375263      MET                  Liver carcinoma        Neoplasms        CGI   \n",
       "\n",
       "        score  \n",
       "821712    1.0  \n",
       "821990    1.0  \n",
       "821626    1.0  \n",
       "375259    1.0  \n",
       "375263    1.0  "
      ]
     },
     "execution_count": 327,
     "metadata": {},
     "output_type": "execute_result"
    }
   ],
   "source": [
    "gda = gene_disease_net.loc[\n",
    "    gene_disease_net.diseaseClassName=='   Neoplasms',\n",
    "    ['geneName', 'diseaseName', 'diseaseClassName', 'source', 'score']\n",
    "].drop_duplicates()\n",
    "print(gda.shape[0])\n",
    "print(gda.geneName.unique().shape[0])\n",
    "gda.sort_values('score', ascending=False).head(5)"
   ]
  },
  {
   "cell_type": "code",
   "execution_count": 328,
   "id": "c53a122b-973b-4f34-b85e-21094369e08d",
   "metadata": {},
   "outputs": [
    {
     "name": "stdout",
     "output_type": "stream",
     "text": [
      "1804\n"
     ]
    },
    {
     "data": {
      "text/html": [
       "<div>\n",
       "<style scoped>\n",
       "    .dataframe tbody tr th:only-of-type {\n",
       "        vertical-align: middle;\n",
       "    }\n",
       "\n",
       "    .dataframe tbody tr th {\n",
       "        vertical-align: top;\n",
       "    }\n",
       "\n",
       "    .dataframe thead th {\n",
       "        text-align: right;\n",
       "    }\n",
       "</style>\n",
       "<table border=\"1\" class=\"dataframe\">\n",
       "  <thead>\n",
       "    <tr style=\"text-align: right;\">\n",
       "      <th></th>\n",
       "      <th>geneName</th>\n",
       "      <th>n_associations</th>\n",
       "    </tr>\n",
       "  </thead>\n",
       "  <tbody>\n",
       "    <tr>\n",
       "      <th>0</th>\n",
       "      <td>A1BG</td>\n",
       "      <td>12</td>\n",
       "    </tr>\n",
       "    <tr>\n",
       "      <th>1</th>\n",
       "      <td>A2M</td>\n",
       "      <td>27</td>\n",
       "    </tr>\n",
       "  </tbody>\n",
       "</table>\n",
       "</div>"
      ],
      "text/plain": [
       "  geneName  n_associations\n",
       "0     A1BG              12\n",
       "1      A2M              27"
      ]
     },
     "execution_count": 328,
     "metadata": {},
     "output_type": "execute_result"
    }
   ],
   "source": [
    "n_associations = gda[['geneName', 'diseaseName']].drop_duplicates().groupby(['geneName'], as_index=False).count()\n",
    "n_associations.rename(columns={'diseaseName': 'n_associations'}, inplace=True)\n",
    "print(n_associations.shape[0])\n",
    "n_associations.head(2)"
   ]
  },
  {
   "cell_type": "code",
   "execution_count": 329,
   "id": "ec0187c4-9ae4-46f9-af91-422591724b9d",
   "metadata": {},
   "outputs": [
    {
     "name": "stdout",
     "output_type": "stream",
     "text": [
      "1804\n"
     ]
    },
    {
     "data": {
      "text/html": [
       "<div>\n",
       "<style scoped>\n",
       "    .dataframe tbody tr th:only-of-type {\n",
       "        vertical-align: middle;\n",
       "    }\n",
       "\n",
       "    .dataframe tbody tr th {\n",
       "        vertical-align: top;\n",
       "    }\n",
       "\n",
       "    .dataframe thead th {\n",
       "        text-align: right;\n",
       "    }\n",
       "</style>\n",
       "<table border=\"1\" class=\"dataframe\">\n",
       "  <thead>\n",
       "    <tr style=\"text-align: right;\">\n",
       "      <th></th>\n",
       "      <th>geneName</th>\n",
       "      <th>score_sum</th>\n",
       "    </tr>\n",
       "  </thead>\n",
       "  <tbody>\n",
       "    <tr>\n",
       "      <th>0</th>\n",
       "      <td>A1BG</td>\n",
       "      <td>0.18</td>\n",
       "    </tr>\n",
       "    <tr>\n",
       "      <th>1</th>\n",
       "      <td>A2M</td>\n",
       "      <td>5.23</td>\n",
       "    </tr>\n",
       "  </tbody>\n",
       "</table>\n",
       "</div>"
      ],
      "text/plain": [
       "  geneName  score_sum\n",
       "0     A1BG       0.18\n",
       "1      A2M       5.23"
      ]
     },
     "execution_count": 329,
     "metadata": {},
     "output_type": "execute_result"
    }
   ],
   "source": [
    "score_sum = gda[['geneName', 'diseaseName', 'score']].drop_duplicates()\n",
    "score_sum = gda[['geneName', 'score']].groupby(['geneName'], as_index=False).sum()\n",
    "score_sum.rename(columns={'score': 'score_sum'}, inplace=True)\n",
    "print(score_sum.shape[0])\n",
    "score_sum.head(2)"
   ]
  },
  {
   "cell_type": "code",
   "execution_count": 330,
   "id": "f8f63d15-b866-4e80-aa86-85553aeb5638",
   "metadata": {},
   "outputs": [
    {
     "name": "stdout",
     "output_type": "stream",
     "text": [
      "1804\n"
     ]
    },
    {
     "data": {
      "text/html": [
       "<div>\n",
       "<style scoped>\n",
       "    .dataframe tbody tr th:only-of-type {\n",
       "        vertical-align: middle;\n",
       "    }\n",
       "\n",
       "    .dataframe tbody tr th {\n",
       "        vertical-align: top;\n",
       "    }\n",
       "\n",
       "    .dataframe thead th {\n",
       "        text-align: right;\n",
       "    }\n",
       "</style>\n",
       "<table border=\"1\" class=\"dataframe\">\n",
       "  <thead>\n",
       "    <tr style=\"text-align: right;\">\n",
       "      <th></th>\n",
       "      <th>geneName</th>\n",
       "      <th>max_score</th>\n",
       "    </tr>\n",
       "  </thead>\n",
       "  <tbody>\n",
       "    <tr>\n",
       "      <th>821712</th>\n",
       "      <td>KIT</td>\n",
       "      <td>1.0</td>\n",
       "    </tr>\n",
       "    <tr>\n",
       "      <th>375259</th>\n",
       "      <td>MET</td>\n",
       "      <td>1.0</td>\n",
       "    </tr>\n",
       "  </tbody>\n",
       "</table>\n",
       "</div>"
      ],
      "text/plain": [
       "       geneName  max_score\n",
       "821712      KIT        1.0\n",
       "375259      MET        1.0"
      ]
     },
     "execution_count": 330,
     "metadata": {},
     "output_type": "execute_result"
    }
   ],
   "source": [
    "# keep only one entry for each gene -> the entry with the highest score\n",
    "gda_intercell = gda[\n",
    "    ['geneName', 'score']\n",
    "].sort_values('score', ascending=False).drop_duplicates(subset='geneName', keep='first')\n",
    "gda_intercell.rename(columns={'score': 'max_score'}, inplace=True)\n",
    "print(gda_intercell.shape[0])\n",
    "gda_intercell.head(2)"
   ]
  },
  {
   "cell_type": "code",
   "execution_count": 331,
   "id": "44f58ef6-2470-4f23-8ff0-5a6d05ed0c70",
   "metadata": {},
   "outputs": [
    {
     "name": "stdout",
     "output_type": "stream",
     "text": [
      "1804\n"
     ]
    },
    {
     "data": {
      "text/html": [
       "<div>\n",
       "<style scoped>\n",
       "    .dataframe tbody tr th:only-of-type {\n",
       "        vertical-align: middle;\n",
       "    }\n",
       "\n",
       "    .dataframe tbody tr th {\n",
       "        vertical-align: top;\n",
       "    }\n",
       "\n",
       "    .dataframe thead th {\n",
       "        text-align: right;\n",
       "    }\n",
       "</style>\n",
       "<table border=\"1\" class=\"dataframe\">\n",
       "  <thead>\n",
       "    <tr style=\"text-align: right;\">\n",
       "      <th></th>\n",
       "      <th>geneName</th>\n",
       "      <th>max_score</th>\n",
       "      <th>n_associations</th>\n",
       "      <th>score_sum</th>\n",
       "    </tr>\n",
       "  </thead>\n",
       "  <tbody>\n",
       "    <tr>\n",
       "      <th>0</th>\n",
       "      <td>KIT</td>\n",
       "      <td>1.0</td>\n",
       "      <td>435</td>\n",
       "      <td>80.09</td>\n",
       "    </tr>\n",
       "    <tr>\n",
       "      <th>1</th>\n",
       "      <td>MET</td>\n",
       "      <td>1.0</td>\n",
       "      <td>358</td>\n",
       "      <td>75.47</td>\n",
       "    </tr>\n",
       "  </tbody>\n",
       "</table>\n",
       "</div>"
      ],
      "text/plain": [
       "  geneName  max_score  n_associations  score_sum\n",
       "0      KIT        1.0             435      80.09\n",
       "1      MET        1.0             358      75.47"
      ]
     },
     "execution_count": 331,
     "metadata": {},
     "output_type": "execute_result"
    }
   ],
   "source": [
    "# number of associated neoplasms + sum of scores\n",
    "gda_intercell = pd.merge(gda_intercell, n_associations)\n",
    "gda_intercell = pd.merge(gda_intercell, score_sum)\n",
    "print(gda_intercell.shape[0])\n",
    "gda_intercell.head(2)"
   ]
  },
  {
   "cell_type": "code",
   "execution_count": 332,
   "id": "55a54cc6-01c8-47cc-86c9-b758c6366e3e",
   "metadata": {},
   "outputs": [
    {
     "name": "stdout",
     "output_type": "stream",
     "text": [
      "1935\n"
     ]
    },
    {
     "data": {
      "text/html": [
       "<div>\n",
       "<style scoped>\n",
       "    .dataframe tbody tr th:only-of-type {\n",
       "        vertical-align: middle;\n",
       "    }\n",
       "\n",
       "    .dataframe tbody tr th {\n",
       "        vertical-align: top;\n",
       "    }\n",
       "\n",
       "    .dataframe thead th {\n",
       "        text-align: right;\n",
       "    }\n",
       "</style>\n",
       "<table border=\"1\" class=\"dataframe\">\n",
       "  <thead>\n",
       "    <tr style=\"text-align: right;\">\n",
       "      <th></th>\n",
       "      <th>gene</th>\n",
       "      <th>max_score</th>\n",
       "      <th>score_sum</th>\n",
       "      <th>n_associations</th>\n",
       "      <th>type</th>\n",
       "    </tr>\n",
       "  </thead>\n",
       "  <tbody>\n",
       "    <tr>\n",
       "      <th>0</th>\n",
       "      <td>A1BG</td>\n",
       "      <td>0.03</td>\n",
       "      <td>0.18</td>\n",
       "      <td>12.0</td>\n",
       "      <td>not_sign</td>\n",
       "    </tr>\n",
       "    <tr>\n",
       "      <th>1</th>\n",
       "      <td>A2M</td>\n",
       "      <td>0.51</td>\n",
       "      <td>5.23</td>\n",
       "      <td>27.0</td>\n",
       "      <td>not_sign</td>\n",
       "    </tr>\n",
       "  </tbody>\n",
       "</table>\n",
       "</div>"
      ],
      "text/plain": [
       "   gene  max_score  score_sum  n_associations      type\n",
       "0  A1BG       0.03       0.18            12.0  not_sign\n",
       "1   A2M       0.51       5.23            27.0  not_sign"
      ]
     },
     "execution_count": 332,
     "metadata": {},
     "output_type": "execute_result"
    }
   ],
   "source": [
    "# add missing intercell genes and assign an association score of 0\n",
    "# and number of associated neoplasms also 0\n",
    "gda_intercell_all = pd.merge(\n",
    "    intercell_genes,\n",
    "    gda_intercell,\n",
    "    how='left',\n",
    "    right_on='geneName',\n",
    "    left_on='gene'\n",
    ")[['gene', 'max_score', 'score_sum', 'n_associations', 'type']]\n",
    "\n",
    "gda_intercell_all.fillna(0, inplace=True)\n",
    "print(gda_intercell_all.shape[0])\n",
    "gda_intercell_all.head(2)"
   ]
  },
  {
   "cell_type": "code",
   "execution_count": 333,
   "id": "1ec82d15-158a-4f86-8009-c7973a1e2bb3",
   "metadata": {},
   "outputs": [
    {
     "name": "stdout",
     "output_type": "stream",
     "text": [
      "1813\n"
     ]
    },
    {
     "data": {
      "text/html": [
       "<div>\n",
       "<style scoped>\n",
       "    .dataframe tbody tr th:only-of-type {\n",
       "        vertical-align: middle;\n",
       "    }\n",
       "\n",
       "    .dataframe tbody tr th {\n",
       "        vertical-align: top;\n",
       "    }\n",
       "\n",
       "    .dataframe thead th {\n",
       "        text-align: right;\n",
       "    }\n",
       "</style>\n",
       "<table border=\"1\" class=\"dataframe\">\n",
       "  <thead>\n",
       "    <tr style=\"text-align: right;\">\n",
       "      <th></th>\n",
       "      <th>gene</th>\n",
       "      <th>max_score</th>\n",
       "      <th>score_sum</th>\n",
       "      <th>n_associations</th>\n",
       "      <th>type</th>\n",
       "    </tr>\n",
       "  </thead>\n",
       "  <tbody>\n",
       "    <tr>\n",
       "      <th>0</th>\n",
       "      <td>A1BG</td>\n",
       "      <td>0.03</td>\n",
       "      <td>0.18</td>\n",
       "      <td>12.0</td>\n",
       "      <td>not_sign</td>\n",
       "    </tr>\n",
       "    <tr>\n",
       "      <th>1</th>\n",
       "      <td>A2M</td>\n",
       "      <td>0.51</td>\n",
       "      <td>5.23</td>\n",
       "      <td>27.0</td>\n",
       "      <td>not_sign</td>\n",
       "    </tr>\n",
       "  </tbody>\n",
       "</table>\n",
       "</div>"
      ],
      "text/plain": [
       "   gene  max_score  score_sum  n_associations      type\n",
       "0  A1BG       0.03       0.18            12.0  not_sign\n",
       "1   A2M       0.51       5.23            27.0  not_sign"
      ]
     },
     "execution_count": 333,
     "metadata": {},
     "output_type": "execute_result"
    }
   ],
   "source": [
    "# add missing intercell genes and assign an association score of 0\n",
    "# and number of associated neoplasms also 0\n",
    "gda_intercell_curated = pd.merge(\n",
    "    intercell_curated_genes,\n",
    "    gda_intercell,\n",
    "    how='left',\n",
    "    right_on='geneName',\n",
    "    left_on='gene'\n",
    ")[['gene', 'max_score', 'score_sum', 'n_associations', 'type']]\n",
    "\n",
    "gda_intercell_curated.fillna(0, inplace=True)\n",
    "print(gda_intercell_curated.shape[0])\n",
    "gda_intercell_curated.head(2)"
   ]
  },
  {
   "cell_type": "code",
   "execution_count": 334,
   "id": "ae558472-888c-4f48-abc0-a451fe0fd101",
   "metadata": {},
   "outputs": [],
   "source": [
    "gda_intercell_all.to_csv(interactions_dir+'disgenet_search.csv', index=False)\n",
    "gda_intercell_curated.to_csv(interactions_dir+'disgenet_search_curated.csv', index=False)"
   ]
  },
  {
   "cell_type": "markdown",
   "id": "1c9ef98d-56be-4fe3-bd85-ed8ea0260068",
   "metadata": {
    "jp-MarkdownHeadingCollapsed": true,
    "tags": []
   },
   "source": [
    "## Open targets search"
   ]
  },
  {
   "cell_type": "code",
   "execution_count": 57,
   "id": "2ab2247e",
   "metadata": {},
   "outputs": [],
   "source": [
    "pmids = pd.read_csv(interactions_dir+'pmid_ratio.csv')\n",
    "\n",
    "curated_graph = pd.read_csv(intercell_net_dir+'intercell_curated_graph.csv')\n",
    "curated_graph = set(curated_graph['source'].tolist() + curated_graph['target'].tolist())\n",
    "\n",
    "intercell_genes = pmids[['gene', 'type']].drop_duplicates()\n",
    "intercell_curated_genes = intercell_genes[intercell_genes.gene.isin(curated_graph)]"
   ]
  },
  {
   "cell_type": "markdown",
   "id": "7d025c60-d12b-4037-aa3e-a5402e4161a0",
   "metadata": {
    "jp-MarkdownHeadingCollapsed": true,
    "tags": []
   },
   "source": [
    "### Explore database"
   ]
  },
  {
   "cell_type": "code",
   "execution_count": 58,
   "id": "b80c5fc6-7464-4515-9ca4-bb27d8a785bf",
   "metadata": {},
   "outputs": [],
   "source": [
    "# path to ClinVar (EVA) evidence dataset \n",
    "# directory stored on your local machine\n",
    "targetsPath = raw_data_dir+\"open_targets/targets\"\n",
    "moleculePath = raw_data_dir+\"open_targets/molecule\"\n",
    "associationPath = raw_data_dir+\"open_targets/associationByOverallDirect\"\n",
    "diseasePath = raw_data_dir+\"open_targets/diseases\""
   ]
  },
  {
   "cell_type": "code",
   "execution_count": 59,
   "id": "e7e68997-0b05-499e-8240-4d67f6586f40",
   "metadata": {},
   "outputs": [],
   "source": [
    "# establish spark connection\n",
    "spark = SparkSession.builder.master('local[*]').getOrCreate()"
   ]
  },
  {
   "cell_type": "code",
   "execution_count": 60,
   "id": "da6a640c-1872-42d8-9cad-3ade673cb748",
   "metadata": {},
   "outputs": [],
   "source": [
    "# read datasets\n",
    "targets = spark.read.parquet(targetsPath)\n",
    "diseases = spark.read.parquet(diseasePath)\n",
    "molecules = spark.read.parquet(moleculePath)\n",
    "association = spark.read.parquet(associationPath)"
   ]
  },
  {
   "cell_type": "code",
   "execution_count": 61,
   "id": "3e3bf376-a5d0-4fd2-909e-eecf2a29c3e7",
   "metadata": {
    "scrolled": true,
    "tags": []
   },
   "outputs": [
    {
     "name": "stdout",
     "output_type": "stream",
     "text": [
      "root\n",
      " |-- id: string (nullable = true)\n",
      " |-- approvedSymbol: string (nullable = true)\n",
      " |-- biotype: string (nullable = true)\n",
      " |-- transcriptIds: array (nullable = true)\n",
      " |    |-- element: string (containsNull = true)\n",
      " |-- genomicLocation: struct (nullable = true)\n",
      " |    |-- chromosome: string (nullable = true)\n",
      " |    |-- start: long (nullable = true)\n",
      " |    |-- end: long (nullable = true)\n",
      " |    |-- strand: integer (nullable = true)\n",
      " |-- alternativeGenes: array (nullable = true)\n",
      " |    |-- element: string (containsNull = true)\n",
      " |-- approvedName: string (nullable = true)\n",
      " |-- go: array (nullable = true)\n",
      " |    |-- element: struct (containsNull = true)\n",
      " |    |    |-- id: string (nullable = true)\n",
      " |    |    |-- source: string (nullable = true)\n",
      " |    |    |-- evidence: string (nullable = true)\n",
      " |    |    |-- aspect: string (nullable = true)\n",
      " |    |    |-- geneProduct: string (nullable = true)\n",
      " |    |    |-- ecoId: string (nullable = true)\n",
      " |-- hallmarks: struct (nullable = true)\n",
      " |    |-- attributes: array (nullable = true)\n",
      " |    |    |-- element: struct (containsNull = true)\n",
      " |    |    |    |-- pmid: long (nullable = true)\n",
      " |    |    |    |-- description: string (nullable = true)\n",
      " |    |    |    |-- attribute_name: string (nullable = true)\n",
      " |    |-- cancerHallmarks: array (nullable = true)\n",
      " |    |    |-- element: struct (containsNull = true)\n",
      " |    |    |    |-- pmid: long (nullable = true)\n",
      " |    |    |    |-- description: string (nullable = true)\n",
      " |    |    |    |-- impact: string (nullable = true)\n",
      " |    |    |    |-- label: string (nullable = true)\n",
      " |-- synonyms: array (nullable = true)\n",
      " |    |-- element: struct (containsNull = true)\n",
      " |    |    |-- label: string (nullable = true)\n",
      " |    |    |-- source: string (nullable = true)\n",
      " |-- symbolSynonyms: array (nullable = true)\n",
      " |    |-- element: struct (containsNull = true)\n",
      " |    |    |-- label: string (nullable = true)\n",
      " |    |    |-- source: string (nullable = true)\n",
      " |-- nameSynonyms: array (nullable = true)\n",
      " |    |-- element: struct (containsNull = true)\n",
      " |    |    |-- label: string (nullable = true)\n",
      " |    |    |-- source: string (nullable = true)\n",
      " |-- functionDescriptions: array (nullable = true)\n",
      " |    |-- element: string (containsNull = true)\n",
      " |-- subcellularLocations: array (nullable = true)\n",
      " |    |-- element: struct (containsNull = true)\n",
      " |    |    |-- location: string (nullable = true)\n",
      " |    |    |-- source: string (nullable = true)\n",
      " |    |    |-- termSL: string (nullable = true)\n",
      " |    |    |-- labelSL: string (nullable = true)\n",
      " |-- targetClass: array (nullable = true)\n",
      " |    |-- element: struct (containsNull = true)\n",
      " |    |    |-- id: long (nullable = true)\n",
      " |    |    |-- label: string (nullable = true)\n",
      " |    |    |-- level: string (nullable = true)\n",
      " |-- obsoleteSymbols: array (nullable = true)\n",
      " |    |-- element: struct (containsNull = true)\n",
      " |    |    |-- label: string (nullable = true)\n",
      " |    |    |-- source: string (nullable = true)\n",
      " |-- obsoleteNames: array (nullable = true)\n",
      " |    |-- element: struct (containsNull = true)\n",
      " |    |    |-- label: string (nullable = true)\n",
      " |    |    |-- source: string (nullable = true)\n",
      " |-- constraint: array (nullable = true)\n",
      " |    |-- element: struct (containsNull = true)\n",
      " |    |    |-- constraintType: string (nullable = true)\n",
      " |    |    |-- score: float (nullable = true)\n",
      " |    |    |-- exp: float (nullable = true)\n",
      " |    |    |-- obs: integer (nullable = true)\n",
      " |    |    |-- oe: float (nullable = true)\n",
      " |    |    |-- oeLower: float (nullable = true)\n",
      " |    |    |-- oeUpper: float (nullable = true)\n",
      " |    |    |-- upperRank: integer (nullable = true)\n",
      " |    |    |-- upperBin: integer (nullable = true)\n",
      " |    |    |-- upperBin6: integer (nullable = true)\n",
      " |-- tep: struct (nullable = true)\n",
      " |    |-- targetFromSourceId: string (nullable = true)\n",
      " |    |-- description: string (nullable = true)\n",
      " |    |-- therapeuticArea: string (nullable = true)\n",
      " |    |-- url: string (nullable = true)\n",
      " |-- proteinIds: array (nullable = true)\n",
      " |    |-- element: struct (containsNull = true)\n",
      " |    |    |-- id: string (nullable = true)\n",
      " |    |    |-- source: string (nullable = true)\n",
      " |-- dbXrefs: array (nullable = true)\n",
      " |    |-- element: struct (containsNull = true)\n",
      " |    |    |-- id: string (nullable = true)\n",
      " |    |    |-- source: string (nullable = true)\n",
      " |-- chemicalProbes: array (nullable = true)\n",
      " |    |-- element: struct (containsNull = true)\n",
      " |    |    |-- control: string (nullable = true)\n",
      " |    |    |-- drugId: string (nullable = true)\n",
      " |    |    |-- id: string (nullable = true)\n",
      " |    |    |-- inchiKey: string (nullable = true)\n",
      " |    |    |-- isHighQuality: boolean (nullable = true)\n",
      " |    |    |-- mechanismOfAction: array (nullable = true)\n",
      " |    |    |    |-- element: string (containsNull = true)\n",
      " |    |    |-- origin: array (nullable = true)\n",
      " |    |    |    |-- element: string (containsNull = true)\n",
      " |    |    |-- probeMinerScore: string (nullable = true)\n",
      " |    |    |-- probesDrugsScore: string (nullable = true)\n",
      " |    |    |-- scoreInCells: string (nullable = true)\n",
      " |    |    |-- scoreInOrganisms: string (nullable = true)\n",
      " |    |    |-- targetFromSourceId: string (nullable = true)\n",
      " |    |    |-- urls: array (nullable = true)\n",
      " |    |    |    |-- element: struct (containsNull = true)\n",
      " |    |    |    |    |-- niceName: string (nullable = true)\n",
      " |    |    |    |    |-- url: string (nullable = true)\n",
      " |-- homologues: array (nullable = true)\n",
      " |    |-- element: struct (containsNull = true)\n",
      " |    |    |-- speciesId: string (nullable = true)\n",
      " |    |    |-- speciesName: string (nullable = true)\n",
      " |    |    |-- homologyType: string (nullable = true)\n",
      " |    |    |-- targetGeneId: string (nullable = true)\n",
      " |    |    |-- isHighConfidence: string (nullable = true)\n",
      " |    |    |-- targetGeneSymbol: string (nullable = true)\n",
      " |    |    |-- queryPercentageIdentity: double (nullable = true)\n",
      " |    |    |-- targetPercentageIdentity: double (nullable = true)\n",
      " |    |    |-- priority: integer (nullable = true)\n",
      " |-- tractability: array (nullable = true)\n",
      " |    |-- element: struct (containsNull = true)\n",
      " |    |    |-- modality: string (nullable = true)\n",
      " |    |    |-- id: string (nullable = true)\n",
      " |    |    |-- value: boolean (nullable = true)\n",
      " |-- safetyLiabilities: array (nullable = true)\n",
      " |    |-- element: struct (containsNull = true)\n",
      " |    |    |-- event: string (nullable = true)\n",
      " |    |    |-- eventId: string (nullable = true)\n",
      " |    |    |-- effects: array (nullable = true)\n",
      " |    |    |    |-- element: struct (containsNull = true)\n",
      " |    |    |    |    |-- direction: string (nullable = true)\n",
      " |    |    |    |    |-- dosing: string (nullable = true)\n",
      " |    |    |-- biosample: array (nullable = true)\n",
      " |    |    |    |-- element: struct (containsNull = true)\n",
      " |    |    |    |    |-- tissueLabel: string (nullable = true)\n",
      " |    |    |    |    |-- tissueId: string (nullable = true)\n",
      " |    |    |    |    |-- cellLabel: string (nullable = true)\n",
      " |    |    |    |    |-- cellFormat: string (nullable = true)\n",
      " |    |    |    |    |-- cellId: string (nullable = true)\n",
      " |    |    |-- datasource: string (nullable = true)\n",
      " |    |    |-- literature: string (nullable = true)\n",
      " |    |    |-- url: string (nullable = true)\n",
      " |    |    |-- study: array (nullable = true)\n",
      " |    |    |    |-- element: struct (containsNull = true)\n",
      " |    |    |    |    |-- name: string (nullable = true)\n",
      " |    |    |    |    |-- description: string (nullable = true)\n",
      " |    |    |    |    |-- type: string (nullable = true)\n",
      " |-- pathways: array (nullable = true)\n",
      " |    |-- element: struct (containsNull = true)\n",
      " |    |    |-- pathwayId: string (nullable = true)\n",
      " |    |    |-- pathway: string (nullable = true)\n",
      " |    |    |-- topLevelTerm: string (nullable = true)\n",
      "\n"
     ]
    }
   ],
   "source": [
    "# Browse the targets schema\n",
    "targets.printSchema()"
   ]
  },
  {
   "cell_type": "code",
   "execution_count": 62,
   "id": "e8c406f1-2953-4113-8504-a8d7c6670f3e",
   "metadata": {},
   "outputs": [
    {
     "name": "stdout",
     "output_type": "stream",
     "text": [
      "+---------------+--------------+\n",
      "|             id|approvedSymbol|\n",
      "+---------------+--------------+\n",
      "|ENSG00000002586|          CD99|\n",
      "|ENSG00000015479|         MATR3|\n",
      "|ENSG00000037280|          FLT4|\n",
      "|ENSG00000038427|          VCAN|\n",
      "|ENSG00000050730|         TNIP3|\n",
      "+---------------+--------------+\n",
      "only showing top 5 rows\n",
      "\n"
     ]
    }
   ],
   "source": [
    "# select fields of interest\n",
    "targetSelect = (\n",
    "    targets.select(\n",
    "        \"id\",\n",
    "        \"approvedSymbol\",\n",
    "        #\"hallmarks\",\n",
    "    )\n",
    ")\n",
    "targetSelect.show(5)"
   ]
  },
  {
   "cell_type": "code",
   "execution_count": 63,
   "id": "916762fa-0d05-4d6f-8d0b-dc586aa7d01a",
   "metadata": {},
   "outputs": [
    {
     "data": {
      "text/html": [
       "<div>\n",
       "<style scoped>\n",
       "    .dataframe tbody tr th:only-of-type {\n",
       "        vertical-align: middle;\n",
       "    }\n",
       "\n",
       "    .dataframe tbody tr th {\n",
       "        vertical-align: top;\n",
       "    }\n",
       "\n",
       "    .dataframe thead th {\n",
       "        text-align: right;\n",
       "    }\n",
       "</style>\n",
       "<table border=\"1\" class=\"dataframe\">\n",
       "  <thead>\n",
       "    <tr style=\"text-align: right;\">\n",
       "      <th></th>\n",
       "      <th>id</th>\n",
       "      <th>approvedSymbol</th>\n",
       "    </tr>\n",
       "  </thead>\n",
       "  <tbody>\n",
       "    <tr>\n",
       "      <th>0</th>\n",
       "      <td>ENSG00000002586</td>\n",
       "      <td>CD99</td>\n",
       "    </tr>\n",
       "    <tr>\n",
       "      <th>1</th>\n",
       "      <td>ENSG00000015479</td>\n",
       "      <td>MATR3</td>\n",
       "    </tr>\n",
       "  </tbody>\n",
       "</table>\n",
       "</div>"
      ],
      "text/plain": [
       "                id approvedSymbol\n",
       "0  ENSG00000002586           CD99\n",
       "1  ENSG00000015479          MATR3"
      ]
     },
     "execution_count": 63,
     "metadata": {},
     "output_type": "execute_result"
    }
   ],
   "source": [
    "target_df = targetSelect.toPandas()\n",
    "target_df.head(2)"
   ]
  },
  {
   "cell_type": "code",
   "execution_count": 64,
   "id": "0d9341c5-430e-47c2-80b8-ed644bc54509",
   "metadata": {},
   "outputs": [
    {
     "name": "stdout",
     "output_type": "stream",
     "text": [
      "root\n",
      " |-- id: string (nullable = true)\n",
      " |-- code: string (nullable = true)\n",
      " |-- dbXRefs: array (nullable = true)\n",
      " |    |-- element: string (containsNull = true)\n",
      " |-- description: string (nullable = true)\n",
      " |-- name: string (nullable = true)\n",
      " |-- directLocationIds: array (nullable = true)\n",
      " |    |-- element: string (containsNull = true)\n",
      " |-- obsoleteTerms: array (nullable = true)\n",
      " |    |-- element: string (containsNull = true)\n",
      " |-- parents: array (nullable = true)\n",
      " |    |-- element: string (containsNull = true)\n",
      " |-- sko: array (nullable = true)\n",
      " |    |-- element: string (containsNull = true)\n",
      " |-- synonyms: struct (nullable = true)\n",
      " |    |-- hasBroadSynonym: array (nullable = true)\n",
      " |    |    |-- element: string (containsNull = true)\n",
      " |    |-- hasExactSynonym: array (nullable = true)\n",
      " |    |    |-- element: string (containsNull = true)\n",
      " |    |-- hasNarrowSynonym: array (nullable = true)\n",
      " |    |    |-- element: string (containsNull = true)\n",
      " |    |-- hasRelatedSynonym: array (nullable = true)\n",
      " |    |    |-- element: string (containsNull = true)\n",
      " |-- ancestors: array (nullable = true)\n",
      " |    |-- element: string (containsNull = true)\n",
      " |-- descendants: array (nullable = true)\n",
      " |    |-- element: string (containsNull = true)\n",
      " |-- children: array (nullable = true)\n",
      " |    |-- element: string (containsNull = true)\n",
      " |-- therapeuticAreas: array (nullable = true)\n",
      " |    |-- element: string (containsNull = true)\n",
      " |-- indirectLocationIds: array (nullable = true)\n",
      " |    |-- element: string (containsNull = true)\n",
      " |-- ontology: struct (nullable = true)\n",
      " |    |-- isTherapeuticArea: boolean (nullable = true)\n",
      " |    |-- leaf: boolean (nullable = true)\n",
      " |    |-- sources: struct (nullable = true)\n",
      " |    |    |-- url: string (nullable = true)\n",
      " |    |    |-- name: string (nullable = true)\n",
      "\n"
     ]
    }
   ],
   "source": [
    "# Browse the disease schema\n",
    "diseases.printSchema()"
   ]
  },
  {
   "cell_type": "code",
   "execution_count": 65,
   "id": "26e4d7cc-d9e3-4114-9754-87f41dc9384e",
   "metadata": {},
   "outputs": [
    {
     "name": "stdout",
     "output_type": "stream",
     "text": [
      "+-------------+--------------------+--------------------+--------------------+\n",
      "|           id|                name|         description|    therapeuticAreas|\n",
      "+-------------+--------------------+--------------------+--------------------+\n",
      "|MONDO_0013767|autoimmune lympho...|RAS-associated au...|[OTAR_0000018, MO...|\n",
      "|MONDO_0014375|congenital diarrh...|Congenital chroni...|[OTAR_0000018, EF...|\n",
      "|MONDO_0014662|congenital insens...|A hereditary sens...|[OTAR_0000018, EF...|\n",
      "|MONDO_0015440|   ring chromosome 6|Ring chromosome 6...|      [OTAR_0000018]|\n",
      "|MONDO_0015650|   epilepsy syndrome|                null|       [EFO_0000618]|\n",
      "+-------------+--------------------+--------------------+--------------------+\n",
      "only showing top 5 rows\n",
      "\n"
     ]
    }
   ],
   "source": [
    "# select fields of interest\n",
    "diseaseSelect = (\n",
    "    diseases.select(\n",
    "        \"id\",\n",
    "        \"name\",\n",
    "        'description',\n",
    "        'therapeuticAreas'\n",
    "    )\n",
    ")\n",
    "diseaseSelect.show(5)"
   ]
  },
  {
   "cell_type": "code",
   "execution_count": 66,
   "id": "30851250-5cb9-4726-9bcb-8a01244f8e1c",
   "metadata": {},
   "outputs": [
    {
     "data": {
      "text/html": [
       "<div>\n",
       "<style scoped>\n",
       "    .dataframe tbody tr th:only-of-type {\n",
       "        vertical-align: middle;\n",
       "    }\n",
       "\n",
       "    .dataframe tbody tr th {\n",
       "        vertical-align: top;\n",
       "    }\n",
       "\n",
       "    .dataframe thead th {\n",
       "        text-align: right;\n",
       "    }\n",
       "</style>\n",
       "<table border=\"1\" class=\"dataframe\">\n",
       "  <thead>\n",
       "    <tr style=\"text-align: right;\">\n",
       "      <th></th>\n",
       "      <th>id</th>\n",
       "      <th>name</th>\n",
       "      <th>description</th>\n",
       "      <th>therapeuticAreas</th>\n",
       "    </tr>\n",
       "  </thead>\n",
       "  <tbody>\n",
       "    <tr>\n",
       "      <th>0</th>\n",
       "      <td>MONDO_0013767</td>\n",
       "      <td>autoimmune lymphoproliferative syndrome type 4</td>\n",
       "      <td>RAS-associated autoimmune leukoproliferative d...</td>\n",
       "      <td>[OTAR_0000018, MONDO_0045024, EFO_0000540]</td>\n",
       "    </tr>\n",
       "    <tr>\n",
       "      <th>1</th>\n",
       "      <td>MONDO_0014375</td>\n",
       "      <td>congenital diarrhea 7 with exudative enteropathy</td>\n",
       "      <td>Congenital chronic diarrhea with protein-losin...</td>\n",
       "      <td>[OTAR_0000018, EFO_0010282]</td>\n",
       "    </tr>\n",
       "  </tbody>\n",
       "</table>\n",
       "</div>"
      ],
      "text/plain": [
       "              id                                              name  \\\n",
       "0  MONDO_0013767    autoimmune lymphoproliferative syndrome type 4   \n",
       "1  MONDO_0014375  congenital diarrhea 7 with exudative enteropathy   \n",
       "\n",
       "                                         description  \\\n",
       "0  RAS-associated autoimmune leukoproliferative d...   \n",
       "1  Congenital chronic diarrhea with protein-losin...   \n",
       "\n",
       "                             therapeuticAreas  \n",
       "0  [OTAR_0000018, MONDO_0045024, EFO_0000540]  \n",
       "1                 [OTAR_0000018, EFO_0010282]  "
      ]
     },
     "execution_count": 66,
     "metadata": {},
     "output_type": "execute_result"
    }
   ],
   "source": [
    "disease_df = diseaseSelect.toPandas()\n",
    "disease_df.head(2)"
   ]
  },
  {
   "cell_type": "code",
   "execution_count": 67,
   "id": "a33c778d-11cd-4649-90d1-e2e9b3ac601a",
   "metadata": {},
   "outputs": [
    {
     "data": {
      "text/html": [
       "<div>\n",
       "<style scoped>\n",
       "    .dataframe tbody tr th:only-of-type {\n",
       "        vertical-align: middle;\n",
       "    }\n",
       "\n",
       "    .dataframe tbody tr th {\n",
       "        vertical-align: top;\n",
       "    }\n",
       "\n",
       "    .dataframe thead th {\n",
       "        text-align: right;\n",
       "    }\n",
       "</style>\n",
       "<table border=\"1\" class=\"dataframe\">\n",
       "  <thead>\n",
       "    <tr style=\"text-align: right;\">\n",
       "      <th></th>\n",
       "      <th>id</th>\n",
       "      <th>name</th>\n",
       "      <th>description</th>\n",
       "      <th>therapeuticAreas</th>\n",
       "    </tr>\n",
       "  </thead>\n",
       "  <tbody>\n",
       "    <tr>\n",
       "      <th>0</th>\n",
       "      <td>MONDO_0013767</td>\n",
       "      <td>autoimmune lymphoproliferative syndrome type 4</td>\n",
       "      <td>RAS-associated autoimmune leukoproliferative d...</td>\n",
       "      <td>OTAR_0000018</td>\n",
       "    </tr>\n",
       "    <tr>\n",
       "      <th>0</th>\n",
       "      <td>MONDO_0013767</td>\n",
       "      <td>autoimmune lymphoproliferative syndrome type 4</td>\n",
       "      <td>RAS-associated autoimmune leukoproliferative d...</td>\n",
       "      <td>MONDO_0045024</td>\n",
       "    </tr>\n",
       "    <tr>\n",
       "      <th>0</th>\n",
       "      <td>MONDO_0013767</td>\n",
       "      <td>autoimmune lymphoproliferative syndrome type 4</td>\n",
       "      <td>RAS-associated autoimmune leukoproliferative d...</td>\n",
       "      <td>EFO_0000540</td>\n",
       "    </tr>\n",
       "    <tr>\n",
       "      <th>1</th>\n",
       "      <td>MONDO_0014375</td>\n",
       "      <td>congenital diarrhea 7 with exudative enteropathy</td>\n",
       "      <td>Congenital chronic diarrhea with protein-losin...</td>\n",
       "      <td>OTAR_0000018</td>\n",
       "    </tr>\n",
       "    <tr>\n",
       "      <th>1</th>\n",
       "      <td>MONDO_0014375</td>\n",
       "      <td>congenital diarrhea 7 with exudative enteropathy</td>\n",
       "      <td>Congenital chronic diarrhea with protein-losin...</td>\n",
       "      <td>EFO_0010282</td>\n",
       "    </tr>\n",
       "  </tbody>\n",
       "</table>\n",
       "</div>"
      ],
      "text/plain": [
       "              id                                              name  \\\n",
       "0  MONDO_0013767    autoimmune lymphoproliferative syndrome type 4   \n",
       "0  MONDO_0013767    autoimmune lymphoproliferative syndrome type 4   \n",
       "0  MONDO_0013767    autoimmune lymphoproliferative syndrome type 4   \n",
       "1  MONDO_0014375  congenital diarrhea 7 with exudative enteropathy   \n",
       "1  MONDO_0014375  congenital diarrhea 7 with exudative enteropathy   \n",
       "\n",
       "                                         description therapeuticAreas  \n",
       "0  RAS-associated autoimmune leukoproliferative d...     OTAR_0000018  \n",
       "0  RAS-associated autoimmune leukoproliferative d...    MONDO_0045024  \n",
       "0  RAS-associated autoimmune leukoproliferative d...      EFO_0000540  \n",
       "1  Congenital chronic diarrhea with protein-losin...     OTAR_0000018  \n",
       "1  Congenital chronic diarrhea with protein-losin...      EFO_0010282  "
      ]
     },
     "execution_count": 67,
     "metadata": {},
     "output_type": "execute_result"
    }
   ],
   "source": [
    "disease_df = disease_df.explode(column='therapeuticAreas')\n",
    "disease_df.head()"
   ]
  },
  {
   "cell_type": "code",
   "execution_count": 68,
   "id": "afff7224-8d10-4ea5-a117-1061048bf127",
   "metadata": {},
   "outputs": [
    {
     "name": "stdout",
     "output_type": "stream",
     "text": [
      "root\n",
      " |-- diseaseId: string (nullable = true)\n",
      " |-- targetId: string (nullable = true)\n",
      " |-- score: double (nullable = true)\n",
      " |-- evidenceCount: long (nullable = true)\n",
      "\n"
     ]
    }
   ],
   "source": [
    "# Browse the evidence schema\n",
    "association.printSchema()"
   ]
  },
  {
   "cell_type": "code",
   "execution_count": 69,
   "id": "d9a95c94-4d6a-453d-adcd-bd9f4c8bb17b",
   "metadata": {},
   "outputs": [
    {
     "name": "stdout",
     "output_type": "stream",
     "text": [
      "+---------------+-----------+--------------------+\n",
      "|       targetId|  diseaseId|               score|\n",
      "+---------------+-----------+--------------------+\n",
      "|ENSG00000000938|EFO_0000574|  0.0831554673040579|\n",
      "|ENSG00000002586|EFO_0000574|0.013653922409184817|\n",
      "|ENSG00000002822|EFO_0000574|  0.3326218692162316|\n",
      "|ENSG00000003400|EFO_0000574|  0.3991462430594779|\n",
      "|ENSG00000003402|EFO_0000574|0.027233518203149707|\n",
      "+---------------+-----------+--------------------+\n",
      "only showing top 5 rows\n",
      "\n"
     ]
    }
   ],
   "source": [
    "# select fields of interest\n",
    "associationSelect = (\n",
    "    association.select(\n",
    "        \"targetId\",\n",
    "        \"diseaseId\",\n",
    "        \"score\",\n",
    "    )\n",
    ")\n",
    "associationSelect.show(5)"
   ]
  },
  {
   "cell_type": "code",
   "execution_count": 70,
   "id": "259c2b8d-d044-4e7f-99a6-77647c556908",
   "metadata": {},
   "outputs": [
    {
     "name": "stderr",
     "output_type": "stream",
     "text": [
      "                                                                                \r"
     ]
    },
    {
     "data": {
      "text/html": [
       "<div>\n",
       "<style scoped>\n",
       "    .dataframe tbody tr th:only-of-type {\n",
       "        vertical-align: middle;\n",
       "    }\n",
       "\n",
       "    .dataframe tbody tr th {\n",
       "        vertical-align: top;\n",
       "    }\n",
       "\n",
       "    .dataframe thead th {\n",
       "        text-align: right;\n",
       "    }\n",
       "</style>\n",
       "<table border=\"1\" class=\"dataframe\">\n",
       "  <thead>\n",
       "    <tr style=\"text-align: right;\">\n",
       "      <th></th>\n",
       "      <th>targetId</th>\n",
       "      <th>diseaseId</th>\n",
       "      <th>score</th>\n",
       "    </tr>\n",
       "  </thead>\n",
       "  <tbody>\n",
       "    <tr>\n",
       "      <th>0</th>\n",
       "      <td>ENSG00000000938</td>\n",
       "      <td>EFO_0000574</td>\n",
       "      <td>0.083155</td>\n",
       "    </tr>\n",
       "    <tr>\n",
       "      <th>1</th>\n",
       "      <td>ENSG00000002586</td>\n",
       "      <td>EFO_0000574</td>\n",
       "      <td>0.013654</td>\n",
       "    </tr>\n",
       "  </tbody>\n",
       "</table>\n",
       "</div>"
      ],
      "text/plain": [
       "          targetId    diseaseId     score\n",
       "0  ENSG00000000938  EFO_0000574  0.083155\n",
       "1  ENSG00000002586  EFO_0000574  0.013654"
      ]
     },
     "execution_count": 70,
     "metadata": {},
     "output_type": "execute_result"
    }
   ],
   "source": [
    "association_df = associationSelect.toPandas()\n",
    "association_df.head(2)"
   ]
  },
  {
   "cell_type": "code",
   "execution_count": 71,
   "id": "dbb0c728-0c2c-4d31-8c64-2aaceec61122",
   "metadata": {
    "scrolled": true,
    "tags": []
   },
   "outputs": [
    {
     "name": "stdout",
     "output_type": "stream",
     "text": [
      "root\n",
      " |-- id: string (nullable = true)\n",
      " |-- canonicalSmiles: string (nullable = true)\n",
      " |-- inchiKey: string (nullable = true)\n",
      " |-- drugType: string (nullable = true)\n",
      " |-- blackBoxWarning: boolean (nullable = true)\n",
      " |-- name: string (nullable = true)\n",
      " |-- yearOfFirstApproval: long (nullable = true)\n",
      " |-- maximumClinicalTrialPhase: long (nullable = true)\n",
      " |-- parentId: string (nullable = true)\n",
      " |-- hasBeenWithdrawn: boolean (nullable = true)\n",
      " |-- isApproved: boolean (nullable = true)\n",
      " |-- withdrawnNotice: struct (nullable = true)\n",
      " |    |-- countries: array (nullable = true)\n",
      " |    |    |-- element: string (containsNull = true)\n",
      " |    |-- classes: array (nullable = true)\n",
      " |    |    |-- element: string (containsNull = true)\n",
      " |    |-- year: long (nullable = true)\n",
      " |-- tradeNames: array (nullable = true)\n",
      " |    |-- element: string (containsNull = true)\n",
      " |-- synonyms: array (nullable = true)\n",
      " |    |-- element: string (containsNull = true)\n",
      " |-- crossReferences: map (nullable = true)\n",
      " |    |-- key: string\n",
      " |    |-- value: array (valueContainsNull = true)\n",
      " |    |    |-- element: string (containsNull = true)\n",
      " |-- childChemblIds: array (nullable = true)\n",
      " |    |-- element: string (containsNull = true)\n",
      " |-- linkedTargets: struct (nullable = true)\n",
      " |    |-- rows: array (nullable = true)\n",
      " |    |    |-- element: string (containsNull = true)\n",
      " |    |-- count: integer (nullable = true)\n",
      " |-- linkedDiseases: struct (nullable = true)\n",
      " |    |-- rows: array (nullable = true)\n",
      " |    |    |-- element: string (containsNull = true)\n",
      " |    |-- count: integer (nullable = true)\n",
      " |-- description: string (nullable = true)\n",
      "\n"
     ]
    }
   ],
   "source": [
    "# Browse the molecule schema\n",
    "molecules.printSchema()"
   ]
  },
  {
   "cell_type": "code",
   "execution_count": 72,
   "id": "16370532-2789-48ab-91dc-37ad97e5a8d9",
   "metadata": {},
   "outputs": [
    {
     "name": "stdout",
     "output_type": "stream",
     "text": [
      "+----------+--------------+----------+--------------------+--------------------+-------------------------+--------------+\n",
      "|        id|          name|isApproved|       linkedTargets|      linkedDiseases|maximumClinicalTrialPhase|      drugType|\n",
      "+----------+--------------+----------+--------------------+--------------------+-------------------------+--------------+\n",
      "|CHEMBL1009|      LEVODOPA|      true|{[ENSG00000151577...|{[MONDO_0005090, ...|                        4|Small molecule|\n",
      "| CHEMBL101|PHENYLBUTAZONE|      true|{[ENSG00000073756...|{[HP_0002829, HP_...|                        4|Small molecule|\n",
      "+----------+--------------+----------+--------------------+--------------------+-------------------------+--------------+\n",
      "only showing top 2 rows\n",
      "\n"
     ]
    }
   ],
   "source": [
    "# select fields of interest\n",
    "moleculeSelect = (\n",
    "    molecules.select(\n",
    "        \"id\",\n",
    "        \"name\",\n",
    "        \"isApproved\",\n",
    "        \"linkedTargets\",\n",
    "        \"linkedDiseases\",\n",
    "        'maximumClinicalTrialPhase',\n",
    "        'drugType'\n",
    "    )\n",
    ")\n",
    "moleculeSelect.show(2)"
   ]
  },
  {
   "cell_type": "code",
   "execution_count": 73,
   "id": "b373e332-261e-4b52-a746-bc1fc1b5b063",
   "metadata": {},
   "outputs": [
    {
     "data": {
      "text/html": [
       "<div>\n",
       "<style scoped>\n",
       "    .dataframe tbody tr th:only-of-type {\n",
       "        vertical-align: middle;\n",
       "    }\n",
       "\n",
       "    .dataframe tbody tr th {\n",
       "        vertical-align: top;\n",
       "    }\n",
       "\n",
       "    .dataframe thead th {\n",
       "        text-align: right;\n",
       "    }\n",
       "</style>\n",
       "<table border=\"1\" class=\"dataframe\">\n",
       "  <thead>\n",
       "    <tr style=\"text-align: right;\">\n",
       "      <th></th>\n",
       "      <th>id</th>\n",
       "      <th>name</th>\n",
       "      <th>isApproved</th>\n",
       "      <th>linkedTargets</th>\n",
       "      <th>linkedDiseases</th>\n",
       "      <th>maximumClinicalTrialPhase</th>\n",
       "      <th>drugType</th>\n",
       "    </tr>\n",
       "  </thead>\n",
       "  <tbody>\n",
       "    <tr>\n",
       "      <th>0</th>\n",
       "      <td>CHEMBL1009</td>\n",
       "      <td>LEVODOPA</td>\n",
       "      <td>True</td>\n",
       "      <td>([ENSG00000151577], 1)</td>\n",
       "      <td>([MONDO_0005090, MONDO_0043209, EFO_0002610, M...</td>\n",
       "      <td>4.0</td>\n",
       "      <td>Small molecule</td>\n",
       "    </tr>\n",
       "    <tr>\n",
       "      <th>1</th>\n",
       "      <td>CHEMBL101</td>\n",
       "      <td>PHENYLBUTAZONE</td>\n",
       "      <td>True</td>\n",
       "      <td>([ENSG00000073756, ENSG00000095303], 2)</td>\n",
       "      <td>([HP_0002829, HP_0003326, EFO_0005755], 3)</td>\n",
       "      <td>4.0</td>\n",
       "      <td>Small molecule</td>\n",
       "    </tr>\n",
       "  </tbody>\n",
       "</table>\n",
       "</div>"
      ],
      "text/plain": [
       "           id            name isApproved  \\\n",
       "0  CHEMBL1009        LEVODOPA       True   \n",
       "1   CHEMBL101  PHENYLBUTAZONE       True   \n",
       "\n",
       "                             linkedTargets  \\\n",
       "0                   ([ENSG00000151577], 1)   \n",
       "1  ([ENSG00000073756, ENSG00000095303], 2)   \n",
       "\n",
       "                                      linkedDiseases  \\\n",
       "0  ([MONDO_0005090, MONDO_0043209, EFO_0002610, M...   \n",
       "1         ([HP_0002829, HP_0003326, EFO_0005755], 3)   \n",
       "\n",
       "   maximumClinicalTrialPhase        drugType  \n",
       "0                        4.0  Small molecule  \n",
       "1                        4.0  Small molecule  "
      ]
     },
     "metadata": {},
     "output_type": "display_data"
    },
    {
     "name": "stdout",
     "output_type": "stream",
     "text": [
      "<class 'pandas.core.frame.DataFrame'>\n",
      "RangeIndex: 12854 entries, 0 to 12853\n",
      "Data columns (total 7 columns):\n",
      " #   Column                     Non-Null Count  Dtype  \n",
      "---  ------                     --------------  -----  \n",
      " 0   id                         12854 non-null  object \n",
      " 1   name                       12854 non-null  object \n",
      " 2   isApproved                 12847 non-null  object \n",
      " 3   linkedTargets              4026 non-null   object \n",
      " 4   linkedDiseases             4026 non-null   object \n",
      " 5   maximumClinicalTrialPhase  12847 non-null  float64\n",
      " 6   drugType                   12847 non-null  object \n",
      "dtypes: float64(1), object(6)\n",
      "memory usage: 703.1+ KB\n"
     ]
    }
   ],
   "source": [
    "molecule_df = moleculeSelect.toPandas()\n",
    "display(molecule_df.head(2))\n",
    "molecule_df.info()"
   ]
  },
  {
   "cell_type": "code",
   "execution_count": 74,
   "id": "004c18c0-2e47-4dbd-a773-a9b514425412",
   "metadata": {},
   "outputs": [],
   "source": [
    "molecule_df.dropna(inplace=True)\n",
    "molecule_df['target'] = molecule_df.linkedTargets.apply(lambda x: x.asDict()['rows'])"
   ]
  },
  {
   "cell_type": "code",
   "execution_count": 75,
   "id": "a952111e-d2c5-4a90-9cd0-d05169c58c9d",
   "metadata": {},
   "outputs": [
    {
     "data": {
      "text/html": [
       "<div>\n",
       "<style scoped>\n",
       "    .dataframe tbody tr th:only-of-type {\n",
       "        vertical-align: middle;\n",
       "    }\n",
       "\n",
       "    .dataframe tbody tr th {\n",
       "        vertical-align: top;\n",
       "    }\n",
       "\n",
       "    .dataframe thead th {\n",
       "        text-align: right;\n",
       "    }\n",
       "</style>\n",
       "<table border=\"1\" class=\"dataframe\">\n",
       "  <thead>\n",
       "    <tr style=\"text-align: right;\">\n",
       "      <th></th>\n",
       "      <th>id</th>\n",
       "      <th>name</th>\n",
       "      <th>isApproved</th>\n",
       "      <th>maximumClinicalTrialPhase</th>\n",
       "      <th>drugType</th>\n",
       "      <th>target</th>\n",
       "    </tr>\n",
       "  </thead>\n",
       "  <tbody>\n",
       "    <tr>\n",
       "      <th>0</th>\n",
       "      <td>CHEMBL1009</td>\n",
       "      <td>LEVODOPA</td>\n",
       "      <td>True</td>\n",
       "      <td>4.0</td>\n",
       "      <td>Small molecule</td>\n",
       "      <td>ENSG00000151577</td>\n",
       "    </tr>\n",
       "    <tr>\n",
       "      <th>1</th>\n",
       "      <td>CHEMBL101</td>\n",
       "      <td>PHENYLBUTAZONE</td>\n",
       "      <td>True</td>\n",
       "      <td>4.0</td>\n",
       "      <td>Small molecule</td>\n",
       "      <td>ENSG00000073756</td>\n",
       "    </tr>\n",
       "  </tbody>\n",
       "</table>\n",
       "</div>"
      ],
      "text/plain": [
       "           id            name isApproved  maximumClinicalTrialPhase  \\\n",
       "0  CHEMBL1009        LEVODOPA       True                        4.0   \n",
       "1   CHEMBL101  PHENYLBUTAZONE       True                        4.0   \n",
       "\n",
       "         drugType           target  \n",
       "0  Small molecule  ENSG00000151577  \n",
       "1  Small molecule  ENSG00000073756  "
      ]
     },
     "execution_count": 75,
     "metadata": {},
     "output_type": "execute_result"
    }
   ],
   "source": [
    "# for now we only want target and molecule information\n",
    "target_drug = molecule_df.drop(columns=['linkedTargets', 'linkedDiseases']).explode('target')\n",
    "target_drug.head(2)"
   ]
  },
  {
   "cell_type": "code",
   "execution_count": 76,
   "id": "04b4fc5e-2104-46e1-8bf9-f26e27c31f43",
   "metadata": {},
   "outputs": [
    {
     "name": "stdout",
     "output_type": "stream",
     "text": [
      "617\n",
      "616\n"
     ]
    },
    {
     "data": {
      "text/html": [
       "<div>\n",
       "<style scoped>\n",
       "    .dataframe tbody tr th:only-of-type {\n",
       "        vertical-align: middle;\n",
       "    }\n",
       "\n",
       "    .dataframe tbody tr th {\n",
       "        vertical-align: top;\n",
       "    }\n",
       "\n",
       "    .dataframe thead th {\n",
       "        text-align: right;\n",
       "    }\n",
       "</style>\n",
       "<table border=\"1\" class=\"dataframe\">\n",
       "  <thead>\n",
       "    <tr style=\"text-align: right;\">\n",
       "      <th></th>\n",
       "      <th>target</th>\n",
       "      <th>approvedSymbol</th>\n",
       "    </tr>\n",
       "  </thead>\n",
       "  <tbody>\n",
       "    <tr>\n",
       "      <th>2</th>\n",
       "      <td>ENSG00000037280</td>\n",
       "      <td>FLT4</td>\n",
       "    </tr>\n",
       "    <tr>\n",
       "      <th>3</th>\n",
       "      <td>ENSG00000038427</td>\n",
       "      <td>VCAN</td>\n",
       "    </tr>\n",
       "  </tbody>\n",
       "</table>\n",
       "</div>"
      ],
      "text/plain": [
       "            target approvedSymbol\n",
       "2  ENSG00000037280           FLT4\n",
       "3  ENSG00000038427           VCAN"
      ]
     },
     "execution_count": 76,
     "metadata": {},
     "output_type": "execute_result"
    }
   ],
   "source": [
    "sign_targets = target_df[target_df.approvedSymbol.isin(intercell_genes[intercell_genes.type=='sign'].gene)].rename(columns={'id': 'target'})\n",
    "print(sign_targets.shape[0])\n",
    "print(intercell_genes[intercell_genes.type=='sign'].shape[0])\n",
    "sign_targets.head(2)"
   ]
  },
  {
   "cell_type": "code",
   "execution_count": 77,
   "id": "f9effd2f-8453-4ba3-8d4c-80df04a5f904",
   "metadata": {},
   "outputs": [
    {
     "data": {
      "text/plain": [
       "47584    SIGLEC5\n",
       "Name: approvedSymbol, dtype: object"
      ]
     },
     "execution_count": 77,
     "metadata": {},
     "output_type": "execute_result"
    }
   ],
   "source": [
    "sign_targets.approvedSymbol[sign_targets.approvedSymbol.duplicated()]"
   ]
  },
  {
   "cell_type": "code",
   "execution_count": 78,
   "id": "99aae4e2-a358-4cd0-ba0c-c7eebdfce4a2",
   "metadata": {},
   "outputs": [
    {
     "data": {
      "text/html": [
       "<div>\n",
       "<style scoped>\n",
       "    .dataframe tbody tr th:only-of-type {\n",
       "        vertical-align: middle;\n",
       "    }\n",
       "\n",
       "    .dataframe tbody tr th {\n",
       "        vertical-align: top;\n",
       "    }\n",
       "\n",
       "    .dataframe thead th {\n",
       "        text-align: right;\n",
       "    }\n",
       "</style>\n",
       "<table border=\"1\" class=\"dataframe\">\n",
       "  <thead>\n",
       "    <tr style=\"text-align: right;\">\n",
       "      <th></th>\n",
       "      <th>drug_id</th>\n",
       "      <th>drug</th>\n",
       "      <th>isApproved</th>\n",
       "      <th>maximumClinicalTrialPhase</th>\n",
       "      <th>drugType</th>\n",
       "      <th>target</th>\n",
       "    </tr>\n",
       "  </thead>\n",
       "  <tbody>\n",
       "    <tr>\n",
       "      <th>0</th>\n",
       "      <td>CHEMBL1240</td>\n",
       "      <td>PROPANTHELINE BROMIDE</td>\n",
       "      <td>True</td>\n",
       "      <td>4.0</td>\n",
       "      <td>Small molecule</td>\n",
       "      <td>CHRM3</td>\n",
       "    </tr>\n",
       "    <tr>\n",
       "      <th>1</th>\n",
       "      <td>CHEMBL978</td>\n",
       "      <td>METHACHOLINE</td>\n",
       "      <td>True</td>\n",
       "      <td>4.0</td>\n",
       "      <td>Small molecule</td>\n",
       "      <td>CHRM3</td>\n",
       "    </tr>\n",
       "  </tbody>\n",
       "</table>\n",
       "</div>"
      ],
      "text/plain": [
       "      drug_id                   drug isApproved  maximumClinicalTrialPhase  \\\n",
       "0  CHEMBL1240  PROPANTHELINE BROMIDE       True                        4.0   \n",
       "1   CHEMBL978           METHACHOLINE       True                        4.0   \n",
       "\n",
       "         drugType target  \n",
       "0  Small molecule  CHRM3  \n",
       "1  Small molecule  CHRM3  "
      ]
     },
     "metadata": {},
     "output_type": "display_data"
    },
    {
     "name": "stdout",
     "output_type": "stream",
     "text": [
      "229\n"
     ]
    }
   ],
   "source": [
    "target_drug_association = pd.merge(target_drug, sign_targets).drop(columns='target')\n",
    "target_drug_association.rename(\n",
    "    columns={\n",
    "        'approvedSymbol': 'target',\n",
    "        'name': 'drug',\n",
    "        'id': 'drug_id'\n",
    "    },\n",
    "    inplace=True\n",
    ")\n",
    "display(target_drug_association.head(2))\n",
    "print(target_drug_association.target.unique().shape[0])"
   ]
  },
  {
   "cell_type": "code",
   "execution_count": 79,
   "id": "f0d16984-d6ba-4c38-b66e-4c71ae3c8c48",
   "metadata": {},
   "outputs": [
    {
     "data": {
      "text/html": [
       "<div>\n",
       "<style scoped>\n",
       "    .dataframe tbody tr th:only-of-type {\n",
       "        vertical-align: middle;\n",
       "    }\n",
       "\n",
       "    .dataframe tbody tr th {\n",
       "        vertical-align: top;\n",
       "    }\n",
       "\n",
       "    .dataframe thead th {\n",
       "        text-align: right;\n",
       "    }\n",
       "</style>\n",
       "<table border=\"1\" class=\"dataframe\">\n",
       "  <thead>\n",
       "    <tr style=\"text-align: right;\">\n",
       "      <th></th>\n",
       "      <th>drug_id</th>\n",
       "      <th>drug</th>\n",
       "      <th>isApproved</th>\n",
       "      <th>maximumClinicalTrialPhase</th>\n",
       "      <th>drugType</th>\n",
       "      <th>target</th>\n",
       "    </tr>\n",
       "  </thead>\n",
       "  <tbody>\n",
       "    <tr>\n",
       "      <th>0</th>\n",
       "      <td>CHEMBL1240</td>\n",
       "      <td>PROPANTHELINE BROMIDE</td>\n",
       "      <td>True</td>\n",
       "      <td>4.0</td>\n",
       "      <td>Small molecule</td>\n",
       "      <td>CHRM3</td>\n",
       "    </tr>\n",
       "    <tr>\n",
       "      <th>1</th>\n",
       "      <td>CHEMBL978</td>\n",
       "      <td>METHACHOLINE</td>\n",
       "      <td>True</td>\n",
       "      <td>4.0</td>\n",
       "      <td>Small molecule</td>\n",
       "      <td>CHRM3</td>\n",
       "    </tr>\n",
       "  </tbody>\n",
       "</table>\n",
       "</div>"
      ],
      "text/plain": [
       "      drug_id                   drug isApproved  maximumClinicalTrialPhase  \\\n",
       "0  CHEMBL1240  PROPANTHELINE BROMIDE       True                        4.0   \n",
       "1   CHEMBL978           METHACHOLINE       True                        4.0   \n",
       "\n",
       "         drugType target  \n",
       "0  Small molecule  CHRM3  \n",
       "1  Small molecule  CHRM3  "
      ]
     },
     "metadata": {},
     "output_type": "display_data"
    },
    {
     "name": "stdout",
     "output_type": "stream",
     "text": [
      "229\n"
     ]
    }
   ],
   "source": [
    "target_drug_association = pd.merge(target_drug, sign_targets).drop(columns='target')\n",
    "target_drug_association.rename(\n",
    "    columns={\n",
    "        'approvedSymbol': 'target',\n",
    "        'name': 'drug',\n",
    "        'id': 'drug_id'\n",
    "    },\n",
    "    inplace=True\n",
    ")\n",
    "display(target_drug_association.head(2))\n",
    "print(target_drug_association.target.unique().shape[0])"
   ]
  },
  {
   "cell_type": "code",
   "execution_count": 80,
   "id": "cdfeef4f-99fc-43e6-9f7e-11c98d69330b",
   "metadata": {},
   "outputs": [
    {
     "data": {
      "text/html": [
       "<div>\n",
       "<style scoped>\n",
       "    .dataframe tbody tr th:only-of-type {\n",
       "        vertical-align: middle;\n",
       "    }\n",
       "\n",
       "    .dataframe tbody tr th {\n",
       "        vertical-align: top;\n",
       "    }\n",
       "\n",
       "    .dataframe thead th {\n",
       "        text-align: right;\n",
       "    }\n",
       "</style>\n",
       "<table border=\"1\" class=\"dataframe\">\n",
       "  <thead>\n",
       "    <tr style=\"text-align: right;\">\n",
       "      <th></th>\n",
       "      <th>drug_id</th>\n",
       "      <th>drug</th>\n",
       "      <th>isApproved</th>\n",
       "      <th>maximumClinicalTrialPhase</th>\n",
       "      <th>drugType</th>\n",
       "      <th>target</th>\n",
       "      <th>disease</th>\n",
       "    </tr>\n",
       "  </thead>\n",
       "  <tbody>\n",
       "    <tr>\n",
       "      <th>0</th>\n",
       "      <td>CHEMBL1009</td>\n",
       "      <td>LEVODOPA</td>\n",
       "      <td>True</td>\n",
       "      <td>4.0</td>\n",
       "      <td>Small molecule</td>\n",
       "      <td>[ENSG00000151577]</td>\n",
       "      <td>MONDO_0005090</td>\n",
       "    </tr>\n",
       "    <tr>\n",
       "      <th>0</th>\n",
       "      <td>CHEMBL1009</td>\n",
       "      <td>LEVODOPA</td>\n",
       "      <td>True</td>\n",
       "      <td>4.0</td>\n",
       "      <td>Small molecule</td>\n",
       "      <td>[ENSG00000151577]</td>\n",
       "      <td>MONDO_0043209</td>\n",
       "    </tr>\n",
       "  </tbody>\n",
       "</table>\n",
       "</div>"
      ],
      "text/plain": [
       "      drug_id      drug isApproved  maximumClinicalTrialPhase        drugType  \\\n",
       "0  CHEMBL1009  LEVODOPA       True                        4.0  Small molecule   \n",
       "0  CHEMBL1009  LEVODOPA       True                        4.0  Small molecule   \n",
       "\n",
       "              target        disease  \n",
       "0  [ENSG00000151577]  MONDO_0005090  \n",
       "0  [ENSG00000151577]  MONDO_0043209  "
      ]
     },
     "metadata": {},
     "output_type": "display_data"
    },
    {
     "data": {
      "text/html": [
       "<div>\n",
       "<style scoped>\n",
       "    .dataframe tbody tr th:only-of-type {\n",
       "        vertical-align: middle;\n",
       "    }\n",
       "\n",
       "    .dataframe tbody tr th {\n",
       "        vertical-align: top;\n",
       "    }\n",
       "\n",
       "    .dataframe thead th {\n",
       "        text-align: right;\n",
       "    }\n",
       "</style>\n",
       "<table border=\"1\" class=\"dataframe\">\n",
       "  <thead>\n",
       "    <tr style=\"text-align: right;\">\n",
       "      <th></th>\n",
       "      <th>drug_id</th>\n",
       "      <th>drug</th>\n",
       "      <th>isApproved</th>\n",
       "      <th>maximumClinicalTrialPhase</th>\n",
       "      <th>drugType</th>\n",
       "      <th>target</th>\n",
       "      <th>disease</th>\n",
       "      <th>name</th>\n",
       "      <th>description</th>\n",
       "      <th>therapeuticAreas</th>\n",
       "    </tr>\n",
       "  </thead>\n",
       "  <tbody>\n",
       "    <tr>\n",
       "      <th>0</th>\n",
       "      <td>CHEMBL1009</td>\n",
       "      <td>LEVODOPA</td>\n",
       "      <td>True</td>\n",
       "      <td>4.0</td>\n",
       "      <td>Small molecule</td>\n",
       "      <td>[ENSG00000151577]</td>\n",
       "      <td>MONDO_0005090</td>\n",
       "      <td>schizophrenia</td>\n",
       "      <td>A major psychotic disorder characterized by ab...</td>\n",
       "      <td>MONDO_0002025</td>\n",
       "    </tr>\n",
       "    <tr>\n",
       "      <th>1</th>\n",
       "      <td>CHEMBL1009</td>\n",
       "      <td>LEVODOPA</td>\n",
       "      <td>True</td>\n",
       "      <td>4.0</td>\n",
       "      <td>Small molecule</td>\n",
       "      <td>[ENSG00000151577]</td>\n",
       "      <td>MONDO_0005090</td>\n",
       "      <td>schizophrenia</td>\n",
       "      <td>A major psychotic disorder characterized by ab...</td>\n",
       "      <td>EFO_0000618</td>\n",
       "    </tr>\n",
       "  </tbody>\n",
       "</table>\n",
       "</div>"
      ],
      "text/plain": [
       "      drug_id      drug isApproved  maximumClinicalTrialPhase        drugType  \\\n",
       "0  CHEMBL1009  LEVODOPA       True                        4.0  Small molecule   \n",
       "1  CHEMBL1009  LEVODOPA       True                        4.0  Small molecule   \n",
       "\n",
       "              target        disease           name  \\\n",
       "0  [ENSG00000151577]  MONDO_0005090  schizophrenia   \n",
       "1  [ENSG00000151577]  MONDO_0005090  schizophrenia   \n",
       "\n",
       "                                         description therapeuticAreas  \n",
       "0  A major psychotic disorder characterized by ab...    MONDO_0002025  \n",
       "1  A major psychotic disorder characterized by ab...      EFO_0000618  "
      ]
     },
     "execution_count": 80,
     "metadata": {},
     "output_type": "execute_result"
    }
   ],
   "source": [
    "y = molecule_df.dropna()\n",
    "y['disease'] = y.linkedDiseases.apply(lambda x: x.asDict()['rows'])\n",
    "disease_drug_association = y.drop(columns=['linkedTargets', 'linkedDiseases']).explode('disease')\n",
    "disease_drug_association.rename(\n",
    "    columns={\n",
    "        'name': 'drug',\n",
    "        'id': 'drug_id'\n",
    "    }, inplace=True)\n",
    "display(disease_drug_association.head(2))\n",
    "\n",
    "disease_drug_association = pd.merge(\n",
    "    disease_drug_association,\n",
    "    disease_df.rename(columns={'id': 'disease'}),\n",
    "    on='disease'\n",
    ")\n",
    "disease_drug_association.head(2)"
   ]
  },
  {
   "cell_type": "code",
   "execution_count": 81,
   "id": "2c88edba-0868-4f71-a7e9-1bd52f4cbc89",
   "metadata": {},
   "outputs": [
    {
     "data": {
      "text/html": [
       "<div>\n",
       "<style scoped>\n",
       "    .dataframe tbody tr th:only-of-type {\n",
       "        vertical-align: middle;\n",
       "    }\n",
       "\n",
       "    .dataframe tbody tr th {\n",
       "        vertical-align: top;\n",
       "    }\n",
       "\n",
       "    .dataframe thead th {\n",
       "        text-align: right;\n",
       "    }\n",
       "</style>\n",
       "<table border=\"1\" class=\"dataframe\">\n",
       "  <thead>\n",
       "    <tr style=\"text-align: right;\">\n",
       "      <th></th>\n",
       "      <th>drug_id</th>\n",
       "      <th>drug</th>\n",
       "      <th>isApproved</th>\n",
       "      <th>maximumClinicalTrialPhase</th>\n",
       "      <th>drugType</th>\n",
       "      <th>target</th>\n",
       "      <th>disease</th>\n",
       "      <th>name</th>\n",
       "      <th>description</th>\n",
       "      <th>therapeuticAreas</th>\n",
       "    </tr>\n",
       "  </thead>\n",
       "  <tbody>\n",
       "    <tr>\n",
       "      <th>40</th>\n",
       "      <td>CHEMBL1467</td>\n",
       "      <td>ALLOPURINOL</td>\n",
       "      <td>True</td>\n",
       "      <td>4.0</td>\n",
       "      <td>Small molecule</td>\n",
       "      <td>[ENSG00000158125]</td>\n",
       "      <td>MONDO_0005090</td>\n",
       "      <td>schizophrenia</td>\n",
       "      <td>A major psychotic disorder characterized by ab...</td>\n",
       "      <td>MONDO_0002025</td>\n",
       "    </tr>\n",
       "    <tr>\n",
       "      <th>41</th>\n",
       "      <td>CHEMBL1467</td>\n",
       "      <td>ALLOPURINOL</td>\n",
       "      <td>True</td>\n",
       "      <td>4.0</td>\n",
       "      <td>Small molecule</td>\n",
       "      <td>[ENSG00000158125]</td>\n",
       "      <td>MONDO_0005090</td>\n",
       "      <td>schizophrenia</td>\n",
       "      <td>A major psychotic disorder characterized by ab...</td>\n",
       "      <td>EFO_0000618</td>\n",
       "    </tr>\n",
       "  </tbody>\n",
       "</table>\n",
       "</div>"
      ],
      "text/plain": [
       "       drug_id         drug isApproved  maximumClinicalTrialPhase  \\\n",
       "40  CHEMBL1467  ALLOPURINOL       True                        4.0   \n",
       "41  CHEMBL1467  ALLOPURINOL       True                        4.0   \n",
       "\n",
       "          drugType             target        disease           name  \\\n",
       "40  Small molecule  [ENSG00000158125]  MONDO_0005090  schizophrenia   \n",
       "41  Small molecule  [ENSG00000158125]  MONDO_0005090  schizophrenia   \n",
       "\n",
       "                                          description therapeuticAreas  \n",
       "40  A major psychotic disorder characterized by ab...    MONDO_0002025  \n",
       "41  A major psychotic disorder characterized by ab...      EFO_0000618  "
      ]
     },
     "execution_count": 81,
     "metadata": {},
     "output_type": "execute_result"
    }
   ],
   "source": [
    "# drop drugs not associated with the significant targets\n",
    "disease_drug_association = disease_drug_association[\n",
    "    disease_drug_association.drug.isin(target_drug_association.drug)\n",
    "]\n",
    "disease_drug_association.head(2)"
   ]
  },
  {
   "cell_type": "code",
   "execution_count": 82,
   "id": "30e95274-b6a9-470a-84f4-78877e33182a",
   "metadata": {},
   "outputs": [
    {
     "name": "stdout",
     "output_type": "stream",
     "text": [
      "536500\n",
      "296687\n"
     ]
    },
    {
     "data": {
      "text/html": [
       "<div>\n",
       "<style scoped>\n",
       "    .dataframe tbody tr th:only-of-type {\n",
       "        vertical-align: middle;\n",
       "    }\n",
       "\n",
       "    .dataframe tbody tr th {\n",
       "        vertical-align: top;\n",
       "    }\n",
       "\n",
       "    .dataframe thead th {\n",
       "        text-align: right;\n",
       "    }\n",
       "</style>\n",
       "<table border=\"1\" class=\"dataframe\">\n",
       "  <thead>\n",
       "    <tr style=\"text-align: right;\">\n",
       "      <th></th>\n",
       "      <th>disease</th>\n",
       "      <th>score</th>\n",
       "      <th>target</th>\n",
       "      <th>name</th>\n",
       "      <th>description</th>\n",
       "      <th>therapeuticAreas</th>\n",
       "    </tr>\n",
       "  </thead>\n",
       "  <tbody>\n",
       "    <tr>\n",
       "      <th>0</th>\n",
       "      <td>EFO_0000574</td>\n",
       "      <td>0.003696</td>\n",
       "      <td>ITGAL</td>\n",
       "      <td>lymphoma</td>\n",
       "      <td>A malignant (clonal) proliferation of B- lymph...</td>\n",
       "      <td>OTAR_0000018</td>\n",
       "    </tr>\n",
       "    <tr>\n",
       "      <th>1</th>\n",
       "      <td>EFO_0000574</td>\n",
       "      <td>0.003696</td>\n",
       "      <td>ITGAL</td>\n",
       "      <td>lymphoma</td>\n",
       "      <td>A malignant (clonal) proliferation of B- lymph...</td>\n",
       "      <td>MONDO_0045024</td>\n",
       "    </tr>\n",
       "  </tbody>\n",
       "</table>\n",
       "</div>"
      ],
      "text/plain": [
       "       disease     score target      name  \\\n",
       "0  EFO_0000574  0.003696  ITGAL  lymphoma   \n",
       "1  EFO_0000574  0.003696  ITGAL  lymphoma   \n",
       "\n",
       "                                         description therapeuticAreas  \n",
       "0  A malignant (clonal) proliferation of B- lymph...     OTAR_0000018  \n",
       "1  A malignant (clonal) proliferation of B- lymph...    MONDO_0045024  "
      ]
     },
     "execution_count": 82,
     "metadata": {},
     "output_type": "execute_result"
    }
   ],
   "source": [
    "target_disease_association = association_df.rename(columns={'targetId': 'target', 'diseaseId': 'disease'})\n",
    "target_disease_association = pd.merge(target_disease_association, sign_targets)\n",
    "target_disease_association = pd.merge(\n",
    "    target_disease_association,\n",
    "    disease_df.rename(columns={'id': 'disease'})\n",
    ")\n",
    "target_disease_association.drop(columns='target', inplace=True)\n",
    "target_disease_association.rename(columns={'approvedSymbol': 'target'}, inplace=True)\n",
    "print(target_disease_association.shape[0])\n",
    "\n",
    "# keep only proteins that have an associated-drug\n",
    "target_disease_association = target_disease_association[\n",
    "    target_disease_association.target.isin(target_drug_association.target)]\n",
    "print(target_disease_association.shape[0])\n",
    "target_disease_association.head(2)"
   ]
  },
  {
   "cell_type": "markdown",
   "id": "d9ea4005-990e-49d0-b521-a1450b47b9cc",
   "metadata": {
    "jp-MarkdownHeadingCollapsed": true,
    "tags": []
   },
   "source": [
    "### Repurposing drugs\n",
    "Right now we have three kinds of associations:\n",
    "* **target_drug_association**: proteins from metastasis-associated interactions that already have at least a drug that targets them\n",
    "* **disease_drug_association**: diseases treated by drugs that target proteins from metastasis-associated interactions\n",
    "* **target_disease_association**: direct associations between proteins from metastasis-associated interactions and diseases\n",
    "\n",
    "We are interested in three types of targets:\n",
    "* *targets that are associated with cancer/metastasis and have already a drug used for that purpose.* This is a way to validate our metastasis-associated interactions\n",
    "* *targets that are associated with cancer/metastasis and have a drug that is not used to treat that condition.* This suggests that repurposing that drug might be useful\n",
    "* *targets that have an associated-drug but are not associated with cancer/metastasis.* This suggests that these protein might be considered as a therapeutic target by repurposing the associated-drug "
   ]
  },
  {
   "cell_type": "code",
   "execution_count": 83,
   "id": "e03ca7f2-f752-456a-9fb0-a23671af00d8",
   "metadata": {},
   "outputs": [
    {
     "name": "stdout",
     "output_type": "stream",
     "text": [
      "<class 'pandas.core.frame.DataFrame'>\n",
      "RangeIndex: 1624 entries, 0 to 1623\n",
      "Data columns (total 6 columns):\n",
      " #   Column                     Non-Null Count  Dtype  \n",
      "---  ------                     --------------  -----  \n",
      " 0   drug_id                    1624 non-null   object \n",
      " 1   drug                       1624 non-null   object \n",
      " 2   isApproved                 1624 non-null   object \n",
      " 3   maximumClinicalTrialPhase  1624 non-null   float64\n",
      " 4   drugType                   1624 non-null   object \n",
      " 5   target                     1624 non-null   object \n",
      "dtypes: float64(1), object(5)\n",
      "memory usage: 76.2+ KB\n"
     ]
    },
    {
     "data": {
      "text/plain": [
       "None"
      ]
     },
     "metadata": {},
     "output_type": "display_data"
    },
    {
     "data": {
      "text/html": [
       "<div>\n",
       "<style scoped>\n",
       "    .dataframe tbody tr th:only-of-type {\n",
       "        vertical-align: middle;\n",
       "    }\n",
       "\n",
       "    .dataframe tbody tr th {\n",
       "        vertical-align: top;\n",
       "    }\n",
       "\n",
       "    .dataframe thead th {\n",
       "        text-align: right;\n",
       "    }\n",
       "</style>\n",
       "<table border=\"1\" class=\"dataframe\">\n",
       "  <thead>\n",
       "    <tr style=\"text-align: right;\">\n",
       "      <th></th>\n",
       "      <th>drug_id</th>\n",
       "      <th>drug</th>\n",
       "      <th>isApproved</th>\n",
       "      <th>maximumClinicalTrialPhase</th>\n",
       "      <th>drugType</th>\n",
       "      <th>target</th>\n",
       "    </tr>\n",
       "  </thead>\n",
       "  <tbody>\n",
       "    <tr>\n",
       "      <th>0</th>\n",
       "      <td>CHEMBL1240</td>\n",
       "      <td>PROPANTHELINE BROMIDE</td>\n",
       "      <td>True</td>\n",
       "      <td>4.0</td>\n",
       "      <td>Small molecule</td>\n",
       "      <td>CHRM3</td>\n",
       "    </tr>\n",
       "    <tr>\n",
       "      <th>1</th>\n",
       "      <td>CHEMBL978</td>\n",
       "      <td>METHACHOLINE</td>\n",
       "      <td>True</td>\n",
       "      <td>4.0</td>\n",
       "      <td>Small molecule</td>\n",
       "      <td>CHRM3</td>\n",
       "    </tr>\n",
       "    <tr>\n",
       "      <th>2</th>\n",
       "      <td>CHEMBL1200330</td>\n",
       "      <td>PILOCARPINE HYDROCHLORIDE</td>\n",
       "      <td>True</td>\n",
       "      <td>4.0</td>\n",
       "      <td>Small molecule</td>\n",
       "      <td>CHRM3</td>\n",
       "    </tr>\n",
       "    <tr>\n",
       "      <th>3</th>\n",
       "      <td>CHEMBL667</td>\n",
       "      <td>ACETYLCHOLINE</td>\n",
       "      <td>True</td>\n",
       "      <td>4.0</td>\n",
       "      <td>Small molecule</td>\n",
       "      <td>CHRM3</td>\n",
       "    </tr>\n",
       "    <tr>\n",
       "      <th>4</th>\n",
       "      <td>CHEMBL1184</td>\n",
       "      <td>ACETYLCHOLINE CHLORIDE</td>\n",
       "      <td>True</td>\n",
       "      <td>4.0</td>\n",
       "      <td>Small molecule</td>\n",
       "      <td>CHRM3</td>\n",
       "    </tr>\n",
       "  </tbody>\n",
       "</table>\n",
       "</div>"
      ],
      "text/plain": [
       "         drug_id                       drug isApproved  \\\n",
       "0     CHEMBL1240      PROPANTHELINE BROMIDE       True   \n",
       "1      CHEMBL978               METHACHOLINE       True   \n",
       "2  CHEMBL1200330  PILOCARPINE HYDROCHLORIDE       True   \n",
       "3      CHEMBL667              ACETYLCHOLINE       True   \n",
       "4     CHEMBL1184     ACETYLCHOLINE CHLORIDE       True   \n",
       "\n",
       "   maximumClinicalTrialPhase        drugType target  \n",
       "0                        4.0  Small molecule  CHRM3  \n",
       "1                        4.0  Small molecule  CHRM3  \n",
       "2                        4.0  Small molecule  CHRM3  \n",
       "3                        4.0  Small molecule  CHRM3  \n",
       "4                        4.0  Small molecule  CHRM3  "
      ]
     },
     "execution_count": 83,
     "metadata": {},
     "output_type": "execute_result"
    }
   ],
   "source": [
    "display(target_drug_association.info())\n",
    "target_drug_association.head()"
   ]
  },
  {
   "cell_type": "code",
   "execution_count": 84,
   "id": "bc6bbb3d-8cd1-4f76-b167-927d201aa7f9",
   "metadata": {},
   "outputs": [
    {
     "name": "stdout",
     "output_type": "stream",
     "text": [
      "<class 'pandas.core.frame.DataFrame'>\n",
      "Index: 24683 entries, 40 to 95021\n",
      "Data columns (total 10 columns):\n",
      " #   Column                     Non-Null Count  Dtype  \n",
      "---  ------                     --------------  -----  \n",
      " 0   drug_id                    24683 non-null  object \n",
      " 1   drug                       24683 non-null  object \n",
      " 2   isApproved                 24683 non-null  object \n",
      " 3   maximumClinicalTrialPhase  24683 non-null  float64\n",
      " 4   drugType                   24683 non-null  object \n",
      " 5   target                     24683 non-null  object \n",
      " 6   disease                    24683 non-null  object \n",
      " 7   name                       24683 non-null  object \n",
      " 8   description                24375 non-null  object \n",
      " 9   therapeuticAreas           24683 non-null  object \n",
      "dtypes: float64(1), object(9)\n",
      "memory usage: 2.1+ MB\n"
     ]
    },
    {
     "data": {
      "text/plain": [
       "None"
      ]
     },
     "metadata": {},
     "output_type": "display_data"
    },
    {
     "data": {
      "text/html": [
       "<div>\n",
       "<style scoped>\n",
       "    .dataframe tbody tr th:only-of-type {\n",
       "        vertical-align: middle;\n",
       "    }\n",
       "\n",
       "    .dataframe tbody tr th {\n",
       "        vertical-align: top;\n",
       "    }\n",
       "\n",
       "    .dataframe thead th {\n",
       "        text-align: right;\n",
       "    }\n",
       "</style>\n",
       "<table border=\"1\" class=\"dataframe\">\n",
       "  <thead>\n",
       "    <tr style=\"text-align: right;\">\n",
       "      <th></th>\n",
       "      <th>drug_id</th>\n",
       "      <th>drug</th>\n",
       "      <th>isApproved</th>\n",
       "      <th>maximumClinicalTrialPhase</th>\n",
       "      <th>drugType</th>\n",
       "      <th>target</th>\n",
       "      <th>disease</th>\n",
       "      <th>name</th>\n",
       "      <th>description</th>\n",
       "      <th>therapeuticAreas</th>\n",
       "    </tr>\n",
       "  </thead>\n",
       "  <tbody>\n",
       "    <tr>\n",
       "      <th>40</th>\n",
       "      <td>CHEMBL1467</td>\n",
       "      <td>ALLOPURINOL</td>\n",
       "      <td>True</td>\n",
       "      <td>4.0</td>\n",
       "      <td>Small molecule</td>\n",
       "      <td>[ENSG00000158125]</td>\n",
       "      <td>MONDO_0005090</td>\n",
       "      <td>schizophrenia</td>\n",
       "      <td>A major psychotic disorder characterized by ab...</td>\n",
       "      <td>MONDO_0002025</td>\n",
       "    </tr>\n",
       "    <tr>\n",
       "      <th>41</th>\n",
       "      <td>CHEMBL1467</td>\n",
       "      <td>ALLOPURINOL</td>\n",
       "      <td>True</td>\n",
       "      <td>4.0</td>\n",
       "      <td>Small molecule</td>\n",
       "      <td>[ENSG00000158125]</td>\n",
       "      <td>MONDO_0005090</td>\n",
       "      <td>schizophrenia</td>\n",
       "      <td>A major psychotic disorder characterized by ab...</td>\n",
       "      <td>EFO_0000618</td>\n",
       "    </tr>\n",
       "    <tr>\n",
       "      <th>60</th>\n",
       "      <td>CHEMBL502</td>\n",
       "      <td>DONEPEZIL</td>\n",
       "      <td>True</td>\n",
       "      <td>4.0</td>\n",
       "      <td>Small molecule</td>\n",
       "      <td>[ENSG00000087085]</td>\n",
       "      <td>MONDO_0005090</td>\n",
       "      <td>schizophrenia</td>\n",
       "      <td>A major psychotic disorder characterized by ab...</td>\n",
       "      <td>MONDO_0002025</td>\n",
       "    </tr>\n",
       "    <tr>\n",
       "      <th>61</th>\n",
       "      <td>CHEMBL502</td>\n",
       "      <td>DONEPEZIL</td>\n",
       "      <td>True</td>\n",
       "      <td>4.0</td>\n",
       "      <td>Small molecule</td>\n",
       "      <td>[ENSG00000087085]</td>\n",
       "      <td>MONDO_0005090</td>\n",
       "      <td>schizophrenia</td>\n",
       "      <td>A major psychotic disorder characterized by ab...</td>\n",
       "      <td>EFO_0000618</td>\n",
       "    </tr>\n",
       "    <tr>\n",
       "      <th>72</th>\n",
       "      <td>CHEMBL1201607</td>\n",
       "      <td>NATALIZUMAB</td>\n",
       "      <td>True</td>\n",
       "      <td>4.0</td>\n",
       "      <td>Antibody</td>\n",
       "      <td>[ENSG00000115232]</td>\n",
       "      <td>MONDO_0005090</td>\n",
       "      <td>schizophrenia</td>\n",
       "      <td>A major psychotic disorder characterized by ab...</td>\n",
       "      <td>MONDO_0002025</td>\n",
       "    </tr>\n",
       "  </tbody>\n",
       "</table>\n",
       "</div>"
      ],
      "text/plain": [
       "          drug_id         drug isApproved  maximumClinicalTrialPhase  \\\n",
       "40     CHEMBL1467  ALLOPURINOL       True                        4.0   \n",
       "41     CHEMBL1467  ALLOPURINOL       True                        4.0   \n",
       "60      CHEMBL502    DONEPEZIL       True                        4.0   \n",
       "61      CHEMBL502    DONEPEZIL       True                        4.0   \n",
       "72  CHEMBL1201607  NATALIZUMAB       True                        4.0   \n",
       "\n",
       "          drugType             target        disease           name  \\\n",
       "40  Small molecule  [ENSG00000158125]  MONDO_0005090  schizophrenia   \n",
       "41  Small molecule  [ENSG00000158125]  MONDO_0005090  schizophrenia   \n",
       "60  Small molecule  [ENSG00000087085]  MONDO_0005090  schizophrenia   \n",
       "61  Small molecule  [ENSG00000087085]  MONDO_0005090  schizophrenia   \n",
       "72        Antibody  [ENSG00000115232]  MONDO_0005090  schizophrenia   \n",
       "\n",
       "                                          description therapeuticAreas  \n",
       "40  A major psychotic disorder characterized by ab...    MONDO_0002025  \n",
       "41  A major psychotic disorder characterized by ab...      EFO_0000618  \n",
       "60  A major psychotic disorder characterized by ab...    MONDO_0002025  \n",
       "61  A major psychotic disorder characterized by ab...      EFO_0000618  \n",
       "72  A major psychotic disorder characterized by ab...    MONDO_0002025  "
      ]
     },
     "execution_count": 84,
     "metadata": {},
     "output_type": "execute_result"
    }
   ],
   "source": [
    "display(disease_drug_association.info())\n",
    "disease_drug_association.head()"
   ]
  },
  {
   "cell_type": "code",
   "execution_count": 85,
   "id": "0de5d770-3a50-48e9-b5b7-75bdbb57d8dc",
   "metadata": {},
   "outputs": [
    {
     "name": "stdout",
     "output_type": "stream",
     "text": [
      "<class 'pandas.core.frame.DataFrame'>\n",
      "Index: 296687 entries, 0 to 536484\n",
      "Data columns (total 6 columns):\n",
      " #   Column            Non-Null Count   Dtype  \n",
      "---  ------            --------------   -----  \n",
      " 0   disease           296687 non-null  object \n",
      " 1   score             296687 non-null  float64\n",
      " 2   target            296687 non-null  object \n",
      " 3   name              296687 non-null  object \n",
      " 4   description       263596 non-null  object \n",
      " 5   therapeuticAreas  296687 non-null  object \n",
      "dtypes: float64(1), object(5)\n",
      "memory usage: 15.8+ MB\n"
     ]
    },
    {
     "data": {
      "text/plain": [
       "None"
      ]
     },
     "metadata": {},
     "output_type": "display_data"
    },
    {
     "data": {
      "text/html": [
       "<div>\n",
       "<style scoped>\n",
       "    .dataframe tbody tr th:only-of-type {\n",
       "        vertical-align: middle;\n",
       "    }\n",
       "\n",
       "    .dataframe tbody tr th {\n",
       "        vertical-align: top;\n",
       "    }\n",
       "\n",
       "    .dataframe thead th {\n",
       "        text-align: right;\n",
       "    }\n",
       "</style>\n",
       "<table border=\"1\" class=\"dataframe\">\n",
       "  <thead>\n",
       "    <tr style=\"text-align: right;\">\n",
       "      <th></th>\n",
       "      <th>disease</th>\n",
       "      <th>score</th>\n",
       "      <th>target</th>\n",
       "      <th>name</th>\n",
       "      <th>description</th>\n",
       "      <th>therapeuticAreas</th>\n",
       "    </tr>\n",
       "  </thead>\n",
       "  <tbody>\n",
       "    <tr>\n",
       "      <th>0</th>\n",
       "      <td>EFO_0000574</td>\n",
       "      <td>0.003696</td>\n",
       "      <td>ITGAL</td>\n",
       "      <td>lymphoma</td>\n",
       "      <td>A malignant (clonal) proliferation of B- lymph...</td>\n",
       "      <td>OTAR_0000018</td>\n",
       "    </tr>\n",
       "    <tr>\n",
       "      <th>1</th>\n",
       "      <td>EFO_0000574</td>\n",
       "      <td>0.003696</td>\n",
       "      <td>ITGAL</td>\n",
       "      <td>lymphoma</td>\n",
       "      <td>A malignant (clonal) proliferation of B- lymph...</td>\n",
       "      <td>MONDO_0045024</td>\n",
       "    </tr>\n",
       "    <tr>\n",
       "      <th>2</th>\n",
       "      <td>EFO_0000574</td>\n",
       "      <td>0.003696</td>\n",
       "      <td>ITGAL</td>\n",
       "      <td>lymphoma</td>\n",
       "      <td>A malignant (clonal) proliferation of B- lymph...</td>\n",
       "      <td>EFO_0005803</td>\n",
       "    </tr>\n",
       "    <tr>\n",
       "      <th>3</th>\n",
       "      <td>EFO_0000574</td>\n",
       "      <td>0.001478</td>\n",
       "      <td>SELE</td>\n",
       "      <td>lymphoma</td>\n",
       "      <td>A malignant (clonal) proliferation of B- lymph...</td>\n",
       "      <td>OTAR_0000018</td>\n",
       "    </tr>\n",
       "    <tr>\n",
       "      <th>4</th>\n",
       "      <td>EFO_0000574</td>\n",
       "      <td>0.001478</td>\n",
       "      <td>SELE</td>\n",
       "      <td>lymphoma</td>\n",
       "      <td>A malignant (clonal) proliferation of B- lymph...</td>\n",
       "      <td>MONDO_0045024</td>\n",
       "    </tr>\n",
       "  </tbody>\n",
       "</table>\n",
       "</div>"
      ],
      "text/plain": [
       "       disease     score target      name  \\\n",
       "0  EFO_0000574  0.003696  ITGAL  lymphoma   \n",
       "1  EFO_0000574  0.003696  ITGAL  lymphoma   \n",
       "2  EFO_0000574  0.003696  ITGAL  lymphoma   \n",
       "3  EFO_0000574  0.001478   SELE  lymphoma   \n",
       "4  EFO_0000574  0.001478   SELE  lymphoma   \n",
       "\n",
       "                                         description therapeuticAreas  \n",
       "0  A malignant (clonal) proliferation of B- lymph...     OTAR_0000018  \n",
       "1  A malignant (clonal) proliferation of B- lymph...    MONDO_0045024  \n",
       "2  A malignant (clonal) proliferation of B- lymph...      EFO_0005803  \n",
       "3  A malignant (clonal) proliferation of B- lymph...     OTAR_0000018  \n",
       "4  A malignant (clonal) proliferation of B- lymph...    MONDO_0045024  "
      ]
     },
     "execution_count": 85,
     "metadata": {},
     "output_type": "execute_result"
    }
   ],
   "source": [
    "display(target_disease_association.info())\n",
    "target_disease_association.head()"
   ]
  },
  {
   "cell_type": "code",
   "execution_count": 86,
   "id": "760329cd-8656-4874-ae22-44d01800e0e7",
   "metadata": {},
   "outputs": [
    {
     "data": {
      "text/html": [
       "<div>\n",
       "<style scoped>\n",
       "    .dataframe tbody tr th:only-of-type {\n",
       "        vertical-align: middle;\n",
       "    }\n",
       "\n",
       "    .dataframe tbody tr th {\n",
       "        vertical-align: top;\n",
       "    }\n",
       "\n",
       "    .dataframe thead th {\n",
       "        text-align: right;\n",
       "    }\n",
       "</style>\n",
       "<table border=\"1\" class=\"dataframe\">\n",
       "  <thead>\n",
       "    <tr style=\"text-align: right;\">\n",
       "      <th></th>\n",
       "      <th>disease</th>\n",
       "      <th>score</th>\n",
       "      <th>target</th>\n",
       "      <th>name</th>\n",
       "      <th>description</th>\n",
       "      <th>therapeuticAreas</th>\n",
       "    </tr>\n",
       "  </thead>\n",
       "  <tbody>\n",
       "    <tr>\n",
       "      <th>12709</th>\n",
       "      <td>EFO_0003060</td>\n",
       "      <td>0.843237</td>\n",
       "      <td>EGFR</td>\n",
       "      <td>non-small cell lung carcinoma</td>\n",
       "      <td>A group of at least three distinct histologica...</td>\n",
       "      <td>OTAR_0000010</td>\n",
       "    </tr>\n",
       "    <tr>\n",
       "      <th>12710</th>\n",
       "      <td>EFO_0003060</td>\n",
       "      <td>0.843237</td>\n",
       "      <td>EGFR</td>\n",
       "      <td>non-small cell lung carcinoma</td>\n",
       "      <td>A group of at least three distinct histologica...</td>\n",
       "      <td>MONDO_0045024</td>\n",
       "    </tr>\n",
       "    <tr>\n",
       "      <th>2564</th>\n",
       "      <td>EFO_0000311</td>\n",
       "      <td>0.750973</td>\n",
       "      <td>EGFR</td>\n",
       "      <td>cancer</td>\n",
       "      <td>A tumor composed of atypical neoplastic, often...</td>\n",
       "      <td>MONDO_0045024</td>\n",
       "    </tr>\n",
       "    <tr>\n",
       "      <th>11708</th>\n",
       "      <td>EFO_0000519</td>\n",
       "      <td>0.730699</td>\n",
       "      <td>EGFR</td>\n",
       "      <td>glioblastoma multiforme</td>\n",
       "      <td>The most malignant astrocytic tumor (WHO grade...</td>\n",
       "      <td>EFO_0000618</td>\n",
       "    </tr>\n",
       "    <tr>\n",
       "      <th>11707</th>\n",
       "      <td>EFO_0000519</td>\n",
       "      <td>0.730699</td>\n",
       "      <td>EGFR</td>\n",
       "      <td>glioblastoma multiforme</td>\n",
       "      <td>The most malignant astrocytic tumor (WHO grade...</td>\n",
       "      <td>MONDO_0045024</td>\n",
       "    </tr>\n",
       "  </tbody>\n",
       "</table>\n",
       "</div>"
      ],
      "text/plain": [
       "           disease     score target                           name  \\\n",
       "12709  EFO_0003060  0.843237   EGFR  non-small cell lung carcinoma   \n",
       "12710  EFO_0003060  0.843237   EGFR  non-small cell lung carcinoma   \n",
       "2564   EFO_0000311  0.750973   EGFR                         cancer   \n",
       "11708  EFO_0000519  0.730699   EGFR        glioblastoma multiforme   \n",
       "11707  EFO_0000519  0.730699   EGFR        glioblastoma multiforme   \n",
       "\n",
       "                                             description therapeuticAreas  \n",
       "12709  A group of at least three distinct histologica...     OTAR_0000010  \n",
       "12710  A group of at least three distinct histologica...    MONDO_0045024  \n",
       "2564   A tumor composed of atypical neoplastic, often...    MONDO_0045024  \n",
       "11708  The most malignant astrocytic tumor (WHO grade...      EFO_0000618  \n",
       "11707  The most malignant astrocytic tumor (WHO grade...    MONDO_0045024  "
      ]
     },
     "execution_count": 86,
     "metadata": {},
     "output_type": "execute_result"
    }
   ],
   "source": [
    "target_disease_association[target_disease_association.target=='EGFR'].sort_values('score', ascending=False).head(5)"
   ]
  },
  {
   "cell_type": "code",
   "execution_count": 87,
   "id": "1c2db623-44d2-41bc-a6df-cd102fc94fdf",
   "metadata": {},
   "outputs": [
    {
     "data": {
      "text/html": [
       "<div>\n",
       "<style scoped>\n",
       "    .dataframe tbody tr th:only-of-type {\n",
       "        vertical-align: middle;\n",
       "    }\n",
       "\n",
       "    .dataframe tbody tr th {\n",
       "        vertical-align: top;\n",
       "    }\n",
       "\n",
       "    .dataframe thead th {\n",
       "        text-align: right;\n",
       "    }\n",
       "</style>\n",
       "<table border=\"1\" class=\"dataframe\">\n",
       "  <thead>\n",
       "    <tr style=\"text-align: right;\">\n",
       "      <th></th>\n",
       "      <th>disease</th>\n",
       "      <th>score</th>\n",
       "      <th>target</th>\n",
       "      <th>name</th>\n",
       "      <th>description</th>\n",
       "      <th>therapeuticAreas</th>\n",
       "    </tr>\n",
       "  </thead>\n",
       "  <tbody>\n",
       "    <tr>\n",
       "      <th>12710</th>\n",
       "      <td>EFO_0003060</td>\n",
       "      <td>0.843237</td>\n",
       "      <td>EGFR</td>\n",
       "      <td>non-small cell lung carcinoma</td>\n",
       "      <td>A group of at least three distinct histologica...</td>\n",
       "      <td>MONDO_0045024</td>\n",
       "    </tr>\n",
       "    <tr>\n",
       "      <th>2564</th>\n",
       "      <td>EFO_0000311</td>\n",
       "      <td>0.750973</td>\n",
       "      <td>EGFR</td>\n",
       "      <td>cancer</td>\n",
       "      <td>A tumor composed of atypical neoplastic, often...</td>\n",
       "      <td>MONDO_0045024</td>\n",
       "    </tr>\n",
       "    <tr>\n",
       "      <th>11707</th>\n",
       "      <td>EFO_0000519</td>\n",
       "      <td>0.730699</td>\n",
       "      <td>EGFR</td>\n",
       "      <td>glioblastoma multiforme</td>\n",
       "      <td>The most malignant astrocytic tumor (WHO grade...</td>\n",
       "      <td>MONDO_0045024</td>\n",
       "    </tr>\n",
       "    <tr>\n",
       "      <th>40698</th>\n",
       "      <td>EFO_0000571</td>\n",
       "      <td>0.728355</td>\n",
       "      <td>EGFR</td>\n",
       "      <td>lung adenocarcinoma</td>\n",
       "      <td>A carcinoma that arises from the lung and is c...</td>\n",
       "      <td>MONDO_0045024</td>\n",
       "    </tr>\n",
       "    <tr>\n",
       "      <th>4039</th>\n",
       "      <td>EFO_0000181</td>\n",
       "      <td>0.691397</td>\n",
       "      <td>EGFR</td>\n",
       "      <td>head and neck squamous cell carcinoma</td>\n",
       "      <td>A squamous cell carcinoma that arises from any...</td>\n",
       "      <td>MONDO_0045024</td>\n",
       "    </tr>\n",
       "  </tbody>\n",
       "</table>\n",
       "</div>"
      ],
      "text/plain": [
       "           disease     score target                                   name  \\\n",
       "12710  EFO_0003060  0.843237   EGFR          non-small cell lung carcinoma   \n",
       "2564   EFO_0000311  0.750973   EGFR                                 cancer   \n",
       "11707  EFO_0000519  0.730699   EGFR                glioblastoma multiforme   \n",
       "40698  EFO_0000571  0.728355   EGFR                    lung adenocarcinoma   \n",
       "4039   EFO_0000181  0.691397   EGFR  head and neck squamous cell carcinoma   \n",
       "\n",
       "                                             description therapeuticAreas  \n",
       "12710  A group of at least three distinct histologica...    MONDO_0045024  \n",
       "2564   A tumor composed of atypical neoplastic, often...    MONDO_0045024  \n",
       "11707  The most malignant astrocytic tumor (WHO grade...    MONDO_0045024  \n",
       "40698  A carcinoma that arises from the lung and is c...    MONDO_0045024  \n",
       "4039   A squamous cell carcinoma that arises from any...    MONDO_0045024  "
      ]
     },
     "execution_count": 87,
     "metadata": {},
     "output_type": "execute_result"
    }
   ],
   "source": [
    "target_disease_association[\n",
    "    (target_disease_association.target=='EGFR')&\n",
    "    (target_disease_association.therapeuticAreas=='MONDO_0045024')\n",
    "].sort_values('score', ascending=False).head(5)"
   ]
  },
  {
   "cell_type": "markdown",
   "id": "8e8e2448-476d-44e3-bfaa-14fc6158dc1a",
   "metadata": {},
   "source": [
    "[MONDO_0045024](https://platform.opentargets.org/disease/MONDO_0045024) is the main identifier for cancer or benign tumor. We will use this ontology to filter targets and drugs"
   ]
  },
  {
   "cell_type": "markdown",
   "id": "8ca27b83-0340-41ff-b916-6d1420d89bb8",
   "metadata": {},
   "source": [
    "Number of metastasis-associated proteins that are drug targets and are annotated has being linked to neoplastic diseases"
   ]
  },
  {
   "cell_type": "code",
   "execution_count": 88,
   "id": "4c68e053-6017-4538-804d-a27560e2ceed",
   "metadata": {},
   "outputs": [
    {
     "data": {
      "text/plain": [
       "229"
      ]
     },
     "execution_count": 88,
     "metadata": {},
     "output_type": "execute_result"
    }
   ],
   "source": [
    "target_disease_association[\n",
    "    target_disease_association.therapeuticAreas=='MONDO_0045024'\n",
    "].target.unique().shape[0]"
   ]
  },
  {
   "cell_type": "markdown",
   "id": "10dadd52-4f28-49ab-b7f6-242690c1eee5",
   "metadata": {},
   "source": [
    "Number of metastasis-associated proteins which are a target for at least one drug"
   ]
  },
  {
   "cell_type": "code",
   "execution_count": 89,
   "id": "f955ad59-2a85-426a-832c-c7b75024e94b",
   "metadata": {},
   "outputs": [
    {
     "data": {
      "text/plain": [
       "229"
      ]
     },
     "execution_count": 89,
     "metadata": {},
     "output_type": "execute_result"
    }
   ],
   "source": [
    "target_drug_association.target.unique().shape[0]"
   ]
  },
  {
   "cell_type": "markdown",
   "id": "9940730e-7f4a-4739-af37-6f8df76fed14",
   "metadata": {},
   "source": [
    "All metastasis-associated proteins which have a drug that targets them are associated with cancer diseases. That means that  no target meets the criteria for the third type of target"
   ]
  },
  {
   "cell_type": "code",
   "execution_count": 90,
   "id": "5de5a2d3-6afc-4f0d-99ba-e0c7a0ea4531",
   "metadata": {},
   "outputs": [
    {
     "data": {
      "text/plain": [
       "2016    CHEMBL3137343\n",
       "2028       CHEMBL1671\n",
       "Name: drug_id, dtype: object"
      ]
     },
     "execution_count": 90,
     "metadata": {},
     "output_type": "execute_result"
    }
   ],
   "source": [
    "cancer_related_drugs = disease_drug_association[disease_drug_association.therapeuticAreas=='MONDO_0045024'].drug_id.drop_duplicates()\n",
    "cancer_related_drugs.head(2)"
   ]
  },
  {
   "cell_type": "code",
   "execution_count": 91,
   "id": "bb5569c3-95ca-4222-8a9b-917803e5613d",
   "metadata": {},
   "outputs": [
    {
     "data": {
      "text/html": [
       "<div>\n",
       "<style scoped>\n",
       "    .dataframe tbody tr th:only-of-type {\n",
       "        vertical-align: middle;\n",
       "    }\n",
       "\n",
       "    .dataframe tbody tr th {\n",
       "        vertical-align: top;\n",
       "    }\n",
       "\n",
       "    .dataframe thead th {\n",
       "        text-align: right;\n",
       "    }\n",
       "</style>\n",
       "<table border=\"1\" class=\"dataframe\">\n",
       "  <thead>\n",
       "    <tr style=\"text-align: right;\">\n",
       "      <th></th>\n",
       "      <th>drug_id</th>\n",
       "      <th>drug</th>\n",
       "      <th>isApproved</th>\n",
       "      <th>maximumClinicalTrialPhase</th>\n",
       "      <th>drugType</th>\n",
       "      <th>target</th>\n",
       "      <th>type</th>\n",
       "    </tr>\n",
       "  </thead>\n",
       "  <tbody>\n",
       "    <tr>\n",
       "      <th>2</th>\n",
       "      <td>CHEMBL1200330</td>\n",
       "      <td>PILOCARPINE HYDROCHLORIDE</td>\n",
       "      <td>True</td>\n",
       "      <td>4.0</td>\n",
       "      <td>Small molecule</td>\n",
       "      <td>CHRM3</td>\n",
       "      <td>cancer</td>\n",
       "    </tr>\n",
       "    <tr>\n",
       "      <th>7</th>\n",
       "      <td>CHEMBL517712</td>\n",
       "      <td>ATROPINE</td>\n",
       "      <td>True</td>\n",
       "      <td>4.0</td>\n",
       "      <td>Small molecule</td>\n",
       "      <td>CHRM3</td>\n",
       "      <td>cancer</td>\n",
       "    </tr>\n",
       "    <tr>\n",
       "      <th>11</th>\n",
       "      <td>CHEMBL550</td>\n",
       "      <td>PILOCARPINE</td>\n",
       "      <td>True</td>\n",
       "      <td>4.0</td>\n",
       "      <td>Small molecule</td>\n",
       "      <td>CHRM3</td>\n",
       "      <td>cancer</td>\n",
       "    </tr>\n",
       "    <tr>\n",
       "      <th>17</th>\n",
       "      <td>CHEMBL1231</td>\n",
       "      <td>OXYBUTYNIN</td>\n",
       "      <td>True</td>\n",
       "      <td>4.0</td>\n",
       "      <td>Small molecule</td>\n",
       "      <td>CHRM3</td>\n",
       "      <td>cancer</td>\n",
       "    </tr>\n",
       "    <tr>\n",
       "      <th>19</th>\n",
       "      <td>CHEMBL1382</td>\n",
       "      <td>TOLTERODINE</td>\n",
       "      <td>True</td>\n",
       "      <td>4.0</td>\n",
       "      <td>Small molecule</td>\n",
       "      <td>CHRM3</td>\n",
       "      <td>cancer</td>\n",
       "    </tr>\n",
       "  </tbody>\n",
       "</table>\n",
       "</div>"
      ],
      "text/plain": [
       "          drug_id                       drug isApproved  \\\n",
       "2   CHEMBL1200330  PILOCARPINE HYDROCHLORIDE       True   \n",
       "7    CHEMBL517712                   ATROPINE       True   \n",
       "11      CHEMBL550                PILOCARPINE       True   \n",
       "17     CHEMBL1231                 OXYBUTYNIN       True   \n",
       "19     CHEMBL1382                TOLTERODINE       True   \n",
       "\n",
       "    maximumClinicalTrialPhase        drugType target    type  \n",
       "2                         4.0  Small molecule  CHRM3  cancer  \n",
       "7                         4.0  Small molecule  CHRM3  cancer  \n",
       "11                        4.0  Small molecule  CHRM3  cancer  \n",
       "17                        4.0  Small molecule  CHRM3  cancer  \n",
       "19                        4.0  Small molecule  CHRM3  cancer  "
      ]
     },
     "metadata": {},
     "output_type": "display_data"
    }
   ],
   "source": [
    "target_cancer_drug = target_drug_association[target_drug_association.drug_id.isin(cancer_related_drugs)].copy()\n",
    "target_cancer_drug['type'] = ['cancer' for i in range(target_cancer_drug.shape[0])]\n",
    "target_other_drug = target_drug_association[~target_drug_association.drug_id.isin(cancer_related_drugs)].copy()\n",
    "target_other_drug['type'] = ['other' for i in range(target_other_drug.shape[0])]\n",
    "drug_records = pd.concat([target_cancer_drug, target_other_drug])\n",
    "display(drug_records.head())"
   ]
  },
  {
   "cell_type": "code",
   "execution_count": 92,
   "id": "dc4eee6e-e487-46c6-bfc9-79be7764d6fb",
   "metadata": {},
   "outputs": [
    {
     "data": {
      "text/plain": [
       "2     PILOCARPINE HYDROCHLORIDE\n",
       "7                      ATROPINE\n",
       "11                  PILOCARPINE\n",
       "17                   OXYBUTYNIN\n",
       "19                  TOLTERODINE\n",
       "28           TIOTROPIUM BROMIDE\n",
       "30               GLYCOPYRRONIUM\n",
       "34             ATROPINE SULFATE\n",
       "37                   TIOTROPIUM\n",
       "42                  BETHANECHOL\n",
       "Name: drug, dtype: object"
      ]
     },
     "execution_count": 92,
     "metadata": {},
     "output_type": "execute_result"
    }
   ],
   "source": [
    "drug_records[drug_records.type=='cancer'].drug.drop_duplicates().head(10)"
   ]
  },
  {
   "cell_type": "code",
   "execution_count": 93,
   "id": "4083da7e-ed9e-4bda-a49d-f95f79bb22f4",
   "metadata": {},
   "outputs": [
    {
     "data": {
      "text/html": [
       "<div>\n",
       "<style scoped>\n",
       "    .dataframe tbody tr th:only-of-type {\n",
       "        vertical-align: middle;\n",
       "    }\n",
       "\n",
       "    .dataframe tbody tr th {\n",
       "        vertical-align: top;\n",
       "    }\n",
       "\n",
       "    .dataframe thead th {\n",
       "        text-align: right;\n",
       "    }\n",
       "</style>\n",
       "<table border=\"1\" class=\"dataframe\">\n",
       "  <thead>\n",
       "    <tr style=\"text-align: right;\">\n",
       "      <th></th>\n",
       "      <th>drug_id</th>\n",
       "      <th>drug</th>\n",
       "      <th>isApproved</th>\n",
       "      <th>maximumClinicalTrialPhase</th>\n",
       "      <th>drugType</th>\n",
       "      <th>target</th>\n",
       "      <th>type</th>\n",
       "    </tr>\n",
       "  </thead>\n",
       "  <tbody>\n",
       "    <tr>\n",
       "      <th>855</th>\n",
       "      <td>CHEMBL941</td>\n",
       "      <td>IMATINIB</td>\n",
       "      <td>True</td>\n",
       "      <td>4.0</td>\n",
       "      <td>Small molecule</td>\n",
       "      <td>KIT</td>\n",
       "      <td>cancer</td>\n",
       "    </tr>\n",
       "    <tr>\n",
       "      <th>1014</th>\n",
       "      <td>CHEMBL941</td>\n",
       "      <td>IMATINIB</td>\n",
       "      <td>True</td>\n",
       "      <td>4.0</td>\n",
       "      <td>Small molecule</td>\n",
       "      <td>PDGFRB</td>\n",
       "      <td>cancer</td>\n",
       "    </tr>\n",
       "  </tbody>\n",
       "</table>\n",
       "</div>"
      ],
      "text/plain": [
       "        drug_id      drug isApproved  maximumClinicalTrialPhase  \\\n",
       "855   CHEMBL941  IMATINIB       True                        4.0   \n",
       "1014  CHEMBL941  IMATINIB       True                        4.0   \n",
       "\n",
       "            drugType  target    type  \n",
       "855   Small molecule     KIT  cancer  \n",
       "1014  Small molecule  PDGFRB  cancer  "
      ]
     },
     "execution_count": 93,
     "metadata": {},
     "output_type": "execute_result"
    }
   ],
   "source": [
    "drug_records[drug_records.drug=='IMATINIB']"
   ]
  },
  {
   "cell_type": "code",
   "execution_count": 98,
   "id": "635124c0",
   "metadata": {},
   "outputs": [
    {
     "data": {
      "text/html": [
       "<div>\n",
       "<style scoped>\n",
       "    .dataframe tbody tr th:only-of-type {\n",
       "        vertical-align: middle;\n",
       "    }\n",
       "\n",
       "    .dataframe tbody tr th {\n",
       "        vertical-align: top;\n",
       "    }\n",
       "\n",
       "    .dataframe thead th {\n",
       "        text-align: right;\n",
       "    }\n",
       "</style>\n",
       "<table border=\"1\" class=\"dataframe\">\n",
       "  <thead>\n",
       "    <tr style=\"text-align: right;\">\n",
       "      <th></th>\n",
       "      <th>drug_id</th>\n",
       "      <th>drug</th>\n",
       "      <th>isApproved</th>\n",
       "      <th>maximumClinicalTrialPhase</th>\n",
       "      <th>drugType</th>\n",
       "      <th>target</th>\n",
       "      <th>type</th>\n",
       "      <th>is_curated</th>\n",
       "    </tr>\n",
       "  </thead>\n",
       "  <tbody>\n",
       "    <tr>\n",
       "      <th>0</th>\n",
       "      <td>CHEMBL1200330</td>\n",
       "      <td>PILOCARPINE HYDROCHLORIDE</td>\n",
       "      <td>True</td>\n",
       "      <td>4.0</td>\n",
       "      <td>Small molecule</td>\n",
       "      <td>CHRM3</td>\n",
       "      <td>cancer</td>\n",
       "      <td>yes</td>\n",
       "    </tr>\n",
       "    <tr>\n",
       "      <th>1</th>\n",
       "      <td>CHEMBL517712</td>\n",
       "      <td>ATROPINE</td>\n",
       "      <td>True</td>\n",
       "      <td>4.0</td>\n",
       "      <td>Small molecule</td>\n",
       "      <td>CHRM3</td>\n",
       "      <td>cancer</td>\n",
       "      <td>yes</td>\n",
       "    </tr>\n",
       "    <tr>\n",
       "      <th>2</th>\n",
       "      <td>CHEMBL550</td>\n",
       "      <td>PILOCARPINE</td>\n",
       "      <td>True</td>\n",
       "      <td>4.0</td>\n",
       "      <td>Small molecule</td>\n",
       "      <td>CHRM3</td>\n",
       "      <td>cancer</td>\n",
       "      <td>yes</td>\n",
       "    </tr>\n",
       "    <tr>\n",
       "      <th>3</th>\n",
       "      <td>CHEMBL1231</td>\n",
       "      <td>OXYBUTYNIN</td>\n",
       "      <td>True</td>\n",
       "      <td>4.0</td>\n",
       "      <td>Small molecule</td>\n",
       "      <td>CHRM3</td>\n",
       "      <td>cancer</td>\n",
       "      <td>yes</td>\n",
       "    </tr>\n",
       "    <tr>\n",
       "      <th>4</th>\n",
       "      <td>CHEMBL1382</td>\n",
       "      <td>TOLTERODINE</td>\n",
       "      <td>True</td>\n",
       "      <td>4.0</td>\n",
       "      <td>Small molecule</td>\n",
       "      <td>CHRM3</td>\n",
       "      <td>cancer</td>\n",
       "      <td>yes</td>\n",
       "    </tr>\n",
       "  </tbody>\n",
       "</table>\n",
       "</div>"
      ],
      "text/plain": [
       "         drug_id                       drug  isApproved  \\\n",
       "0  CHEMBL1200330  PILOCARPINE HYDROCHLORIDE        True   \n",
       "1   CHEMBL517712                   ATROPINE        True   \n",
       "2      CHEMBL550                PILOCARPINE        True   \n",
       "3     CHEMBL1231                 OXYBUTYNIN        True   \n",
       "4     CHEMBL1382                TOLTERODINE        True   \n",
       "\n",
       "   maximumClinicalTrialPhase        drugType target    type is_curated  \n",
       "0                        4.0  Small molecule  CHRM3  cancer        yes  \n",
       "1                        4.0  Small molecule  CHRM3  cancer        yes  \n",
       "2                        4.0  Small molecule  CHRM3  cancer        yes  \n",
       "3                        4.0  Small molecule  CHRM3  cancer        yes  \n",
       "4                        4.0  Small molecule  CHRM3  cancer        yes  "
      ]
     },
     "execution_count": 98,
     "metadata": {},
     "output_type": "execute_result"
    }
   ],
   "source": [
    "# add curated label\n",
    "curated_targets = intercell_curated_genes.loc[intercell_curated_genes.type=='sign', ['gene']].rename(columns={'gene': 'target'})\n",
    "curated_targets['is_curated'] = ['yes' for _ in range(curated_targets.shape[0])]\n",
    "\n",
    "drug_records = pd.merge(drug_records, curated_targets, on='target', how='left').fillna('no')\n",
    "drug_records.head()"
   ]
  },
  {
   "cell_type": "code",
   "execution_count": 99,
   "id": "7f78e4aa-b433-4781-9803-e1387c64e54a",
   "metadata": {},
   "outputs": [],
   "source": [
    "drug_records.to_csv(interactions_dir+'open_targets_relevant_drugs.csv', index=False)"
   ]
  }
 ],
 "metadata": {
  "kernelspec": {
   "display_name": "Python 3 (ipykernel)",
   "language": "python",
   "name": "python3"
  },
  "language_info": {
   "codemirror_mode": {
    "name": "ipython",
    "version": 3
   },
   "file_extension": ".py",
   "mimetype": "text/x-python",
   "name": "python",
   "nbconvert_exporter": "python",
   "pygments_lexer": "ipython3",
   "version": "3.10.12"
  },
  "toc-autonumbering": true,
  "toc-showtags": false,
  "vscode": {
   "interpreter": {
    "hash": "916dbcbb3f70747c44a77c7bcd40155683ae19c65e1c03b4aa3499c5328201f1"
   }
  }
 },
 "nbformat": 4,
 "nbformat_minor": 5
}

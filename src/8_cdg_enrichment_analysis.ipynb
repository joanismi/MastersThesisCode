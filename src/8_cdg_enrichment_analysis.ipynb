{
 "cells": [
  {
   "cell_type": "code",
   "execution_count": 1,
   "id": "ade28d78-65cd-4c8c-8351-c2f15217bc88",
   "metadata": {},
   "outputs": [],
   "source": [
    "import pandas as pd\n",
    "from scipy import stats\n",
    "import plotly.express as px\n",
    "from tqdm.notebook import tqdm\n",
    "\n",
    "from IPython.display import display"
   ]
  },
  {
   "cell_type": "code",
   "execution_count": 2,
   "id": "d34a29e2-455b-46ee-9584-acec7e5d1ed0",
   "metadata": {},
   "outputs": [],
   "source": [
    "raw_data_dir = '../data/raw/'\n",
    "gene_exp_dir = '../data/processed/gene_expression/'\n",
    "org_pairs_dir = '../data/processed/organotropism_pairs/'\n",
    "intercell_net_dir = '../data/processed/intercell_networks/'\n",
    "interactions_dir = '../data/processed/intercell_interactions/'\n",
    "intracell_dir = '../data/processed/intracell_network/'\n",
    "enrichment_dir = '../data/processed/enrichment_analysis/'"
   ]
  },
  {
   "cell_type": "markdown",
   "id": "bbbee4f0-5121-4a8d-beeb-c4e34796d3cd",
   "metadata": {
    "tags": []
   },
   "source": [
    "# Cancer Driver Genes (CDG) Enrichment analysis\n",
    "We will use three gene lists to perform functional enrichment:\n",
    "* source original: all genes found statistically significant $(\\alpha=0.01)$ -> 506 genes\n",
    "* source outliers: outliers from the statistically significant gene list -> 105 genes\n",
    "* target outliers: outliers from the statistically significant gene list -> 1503 genes"
   ]
  },
  {
   "cell_type": "markdown",
   "id": "8a7915d2-6b29-4462-bad0-1a9d904a4e43",
   "metadata": {
    "jp-MarkdownHeadingCollapsed": true,
    "tags": []
   },
   "source": [
    "## Load datasets"
   ]
  },
  {
   "cell_type": "code",
   "execution_count": 18,
   "id": "c14bfd3c-b027-45c4-af72-20f3c28b638e",
   "metadata": {},
   "outputs": [
    {
     "data": {
      "text/html": [
       "<div>\n",
       "<style scoped>\n",
       "    .dataframe tbody tr th:only-of-type {\n",
       "        vertical-align: middle;\n",
       "    }\n",
       "\n",
       "    .dataframe tbody tr th {\n",
       "        vertical-align: top;\n",
       "    }\n",
       "\n",
       "    .dataframe thead th {\n",
       "        text-align: right;\n",
       "    }\n",
       "</style>\n",
       "<table border=\"1\" class=\"dataframe\">\n",
       "  <thead>\n",
       "    <tr style=\"text-align: right;\">\n",
       "      <th></th>\n",
       "      <th>gene</th>\n",
       "    </tr>\n",
       "  </thead>\n",
       "  <tbody>\n",
       "    <tr>\n",
       "      <th>0</th>\n",
       "      <td>A1BG</td>\n",
       "    </tr>\n",
       "    <tr>\n",
       "      <th>1</th>\n",
       "      <td>A1CF</td>\n",
       "    </tr>\n",
       "  </tbody>\n",
       "</table>\n",
       "</div>"
      ],
      "text/plain": [
       "   gene\n",
       "0  A1BG\n",
       "1  A1CF"
      ]
     },
     "execution_count": 18,
     "metadata": {},
     "output_type": "execute_result"
    }
   ],
   "source": [
    "# load intracell genes\n",
    "intracell_genes = pd.read_csv(intracell_dir+'intracell_genes.csv', names=['gene'], header=0)\n",
    "intracell_genes.head(2)"
   ]
  },
  {
   "cell_type": "code",
   "execution_count": 19,
   "id": "8d1c1e0d-fc92-4367-be31-859c0beaa5a3",
   "metadata": {},
   "outputs": [
    {
     "name": "stdout",
     "output_type": "stream",
     "text": [
      "# of CDG: 3347\n",
      "# of Canonical CDG: 591\n"
     ]
    },
    {
     "data": {
      "text/html": [
       "<div>\n",
       "<style scoped>\n",
       "    .dataframe tbody tr th:only-of-type {\n",
       "        vertical-align: middle;\n",
       "    }\n",
       "\n",
       "    .dataframe tbody tr th {\n",
       "        vertical-align: top;\n",
       "    }\n",
       "\n",
       "    .dataframe thead th {\n",
       "        text-align: right;\n",
       "    }\n",
       "</style>\n",
       "<table border=\"1\" class=\"dataframe\">\n",
       "  <thead>\n",
       "    <tr style=\"text-align: right;\">\n",
       "      <th></th>\n",
       "      <th>entrez</th>\n",
       "      <th>symbol</th>\n",
       "      <th>pubmed_id</th>\n",
       "      <th>type</th>\n",
       "      <th>organ_system</th>\n",
       "      <th>primary_site</th>\n",
       "      <th>cancer_type</th>\n",
       "      <th>method</th>\n",
       "      <th>coding_status</th>\n",
       "      <th>cgc_annotation</th>\n",
       "      <th>vogelstein_annotation</th>\n",
       "      <th>saito_annotation</th>\n",
       "      <th>NCG_oncogene</th>\n",
       "      <th>NCG_tsg</th>\n",
       "    </tr>\n",
       "  </thead>\n",
       "  <tbody>\n",
       "    <tr>\n",
       "      <th>0</th>\n",
       "      <td>23</td>\n",
       "      <td>ABCF1</td>\n",
       "      <td>31444325</td>\n",
       "      <td>WGS-WES</td>\n",
       "      <td>Hematologic and lymphatic</td>\n",
       "      <td>blood</td>\n",
       "      <td>multiple_myeloma</td>\n",
       "      <td>dNdScv</td>\n",
       "      <td>coding</td>\n",
       "      <td>NaN</td>\n",
       "      <td>NaN</td>\n",
       "      <td>NaN</td>\n",
       "      <td>NaN</td>\n",
       "      <td>NaN</td>\n",
       "    </tr>\n",
       "    <tr>\n",
       "      <th>1</th>\n",
       "      <td>25</td>\n",
       "      <td>ABL1</td>\n",
       "      <td>29625053</td>\n",
       "      <td>Pan-cancer</td>\n",
       "      <td>Multiple</td>\n",
       "      <td>multiple</td>\n",
       "      <td>pan-cancer_adult</td>\n",
       "      <td>PanSoftWare</td>\n",
       "      <td>coding</td>\n",
       "      <td>oncogene, fusion</td>\n",
       "      <td>Oncogene</td>\n",
       "      <td>NaN</td>\n",
       "      <td>1.0</td>\n",
       "      <td>0.0</td>\n",
       "    </tr>\n",
       "  </tbody>\n",
       "</table>\n",
       "</div>"
      ],
      "text/plain": [
       "   entrez symbol  pubmed_id        type               organ_system  \\\n",
       "0      23  ABCF1   31444325     WGS-WES  Hematologic and lymphatic   \n",
       "1      25   ABL1   29625053  Pan-cancer                   Multiple   \n",
       "\n",
       "  primary_site       cancer_type       method coding_status    cgc_annotation  \\\n",
       "0        blood  multiple_myeloma       dNdScv        coding               NaN   \n",
       "1     multiple  pan-cancer_adult  PanSoftWare        coding  oncogene, fusion   \n",
       "\n",
       "  vogelstein_annotation saito_annotation  NCG_oncogene  NCG_tsg  \n",
       "0                   NaN              NaN           NaN      NaN  \n",
       "1              Oncogene              NaN           1.0      0.0  "
      ]
     },
     "execution_count": 19,
     "metadata": {},
     "output_type": "execute_result"
    }
   ],
   "source": [
    "# load cancer driver genes\n",
    "cdg = pd.read_table(raw_data_dir+'NCG_cancerdrivers_annotation_supporting_evidence.tsv')\n",
    "print('# of CDG:', cdg.symbol.drop_duplicates().shape[0])\n",
    "print('# of Canonical CDG:', cdg.loc[cdg.type=='Canonical Cancer Driver', 'symbol'].drop_duplicates().shape[0])\n",
    "cdg.head(2)"
   ]
  },
  {
   "cell_type": "code",
   "execution_count": 20,
   "id": "edefd964-54df-4a0d-be62-d8f306da3f6b",
   "metadata": {},
   "outputs": [
    {
     "name": "stdout",
     "output_type": "stream",
     "text": [
      "1196\n"
     ]
    },
    {
     "data": {
      "text/html": [
       "<div>\n",
       "<style scoped>\n",
       "    .dataframe tbody tr th:only-of-type {\n",
       "        vertical-align: middle;\n",
       "    }\n",
       "\n",
       "    .dataframe tbody tr th {\n",
       "        vertical-align: top;\n",
       "    }\n",
       "\n",
       "    .dataframe thead th {\n",
       "        text-align: right;\n",
       "    }\n",
       "</style>\n",
       "<table border=\"1\" class=\"dataframe\">\n",
       "  <thead>\n",
       "    <tr style=\"text-align: right;\">\n",
       "      <th></th>\n",
       "      <th>gene</th>\n",
       "      <th>curated_label</th>\n",
       "      <th>label</th>\n",
       "      <th>is_curated</th>\n",
       "    </tr>\n",
       "  </thead>\n",
       "  <tbody>\n",
       "    <tr>\n",
       "      <th>0</th>\n",
       "      <td>A1BG</td>\n",
       "      <td>0</td>\n",
       "      <td>0</td>\n",
       "      <td>True</td>\n",
       "    </tr>\n",
       "    <tr>\n",
       "      <th>1</th>\n",
       "      <td>ABCB1</td>\n",
       "      <td>0</td>\n",
       "      <td>0</td>\n",
       "      <td>False</td>\n",
       "    </tr>\n",
       "  </tbody>\n",
       "</table>\n",
       "</div>"
      ],
      "text/plain": [
       "    gene  curated_label  label  is_curated\n",
       "0   A1BG              0      0        True\n",
       "1  ABCB1              0      0       False"
      ]
     },
     "metadata": {},
     "output_type": "display_data"
    },
    {
     "name": "stdout",
     "output_type": "stream",
     "text": [
      "1464\n"
     ]
    },
    {
     "data": {
      "text/html": [
       "<div>\n",
       "<style scoped>\n",
       "    .dataframe tbody tr th:only-of-type {\n",
       "        vertical-align: middle;\n",
       "    }\n",
       "\n",
       "    .dataframe tbody tr th {\n",
       "        vertical-align: top;\n",
       "    }\n",
       "\n",
       "    .dataframe thead th {\n",
       "        text-align: right;\n",
       "    }\n",
       "</style>\n",
       "<table border=\"1\" class=\"dataframe\">\n",
       "  <thead>\n",
       "    <tr style=\"text-align: right;\">\n",
       "      <th></th>\n",
       "      <th>gene</th>\n",
       "      <th>curated_label</th>\n",
       "      <th>label</th>\n",
       "      <th>is_curated</th>\n",
       "    </tr>\n",
       "  </thead>\n",
       "  <tbody>\n",
       "    <tr>\n",
       "      <th>0</th>\n",
       "      <td>A2M</td>\n",
       "      <td>0</td>\n",
       "      <td>0</td>\n",
       "      <td>True</td>\n",
       "    </tr>\n",
       "    <tr>\n",
       "      <th>1</th>\n",
       "      <td>ACAN</td>\n",
       "      <td>0</td>\n",
       "      <td>0</td>\n",
       "      <td>True</td>\n",
       "    </tr>\n",
       "  </tbody>\n",
       "</table>\n",
       "</div>"
      ],
      "text/plain": [
       "   gene  curated_label  label  is_curated\n",
       "0   A2M              0      0        True\n",
       "1  ACAN              0      0        True"
      ]
     },
     "execution_count": 20,
     "metadata": {},
     "output_type": "execute_result"
    }
   ],
   "source": [
    "# Load intercellular gene lists\n",
    "intercell_target = pd.read_csv(intracell_dir+'target_labels.csv')\n",
    "intercell_source = pd.read_csv(intracell_dir+'source_labels.csv')\n",
    "print(intercell_target.shape[0])\n",
    "display(intercell_target.head(2))\n",
    "print(intercell_source.shape[0])\n",
    "intercell_source.head(2)"
   ]
  },
  {
   "cell_type": "code",
   "execution_count": 21,
   "id": "8db5d6f7-6678-49f3-addc-3f8830c13186",
   "metadata": {},
   "outputs": [
    {
     "name": "stdout",
     "output_type": "stream",
     "text": [
      "222\n",
      "23\n",
      "7608\n",
      "1177\n"
     ]
    }
   ],
   "source": [
    "# load intracellular gene lists\n",
    "source = pd.read_csv(enrichment_dir+'source_sign.csv')\n",
    "print(source.shape[0])\n",
    "source_outliers = pd.read_csv(enrichment_dir+'source_sign_outliers.csv')\n",
    "print(source_outliers.shape[0])\n",
    "target = pd.read_csv(enrichment_dir+'target_sign.csv')\n",
    "print(target.shape[0])\n",
    "target_outliers = pd.read_csv(enrichment_dir+'target_sign_outliers.csv')\n",
    "print(target_outliers.shape[0])"
   ]
  },
  {
   "cell_type": "code",
   "execution_count": 22,
   "id": "65fc43b0-5af8-4418-9be3-fe8217d748e5",
   "metadata": {},
   "outputs": [
    {
     "name": "stdout",
     "output_type": "stream",
     "text": [
      "246\n",
      "23\n",
      "4822\n",
      "761\n"
     ]
    }
   ],
   "source": [
    "# load curated gene lists\n",
    "source_curated = pd.read_csv(enrichment_dir+'source_curated_sign.csv')\n",
    "print(source_curated.shape[0])\n",
    "source_curated_outliers = pd.read_csv(enrichment_dir+'source_curated_sign_outliers.csv')\n",
    "print(source_curated_outliers.shape[0])\n",
    "target_curated = pd.read_csv(enrichment_dir+'target_curated_sign.csv')\n",
    "print(target_curated.shape[0])\n",
    "target_curated_outliers = pd.read_csv(enrichment_dir+'target_curated_sign_outliers.csv')\n",
    "print(target_curated_outliers.shape[0])"
   ]
  },
  {
   "cell_type": "markdown",
   "id": "93d0d07a-116c-403c-9112-425483cecfe2",
   "metadata": {
    "tags": []
   },
   "source": [
    "## Over-representation analysis with Fisher's Exact Test (Hypergeometric Test)"
   ]
  },
  {
   "cell_type": "markdown",
   "id": "88192143-fa7b-4904-addb-d60cfea424c9",
   "metadata": {
    "tags": []
   },
   "source": [
    "### Intercellular Genes"
   ]
  },
  {
   "cell_type": "markdown",
   "id": "d41706d4-3bae-4650-8931-8a6cd4ae1c1d",
   "metadata": {
    "tags": []
   },
   "source": [
    "#### Complete Graph"
   ]
  },
  {
   "cell_type": "code",
   "execution_count": 27,
   "id": "ee69b840-c1e6-4a4e-b2e7-9eec5e0e8b37",
   "metadata": {},
   "outputs": [
    {
     "data": {
      "text/html": [
       "<div>\n",
       "<style scoped>\n",
       "    .dataframe tbody tr th:only-of-type {\n",
       "        vertical-align: middle;\n",
       "    }\n",
       "\n",
       "    .dataframe tbody tr th {\n",
       "        vertical-align: top;\n",
       "    }\n",
       "\n",
       "    .dataframe thead th {\n",
       "        text-align: right;\n",
       "    }\n",
       "</style>\n",
       "<table border=\"1\" class=\"dataframe\">\n",
       "  <thead>\n",
       "    <tr style=\"text-align: right;\">\n",
       "      <th></th>\n",
       "      <th>gene_type</th>\n",
       "      <th>is_associated</th>\n",
       "      <th>n_genes</th>\n",
       "      <th>n_cdg</th>\n",
       "      <th>pvalue</th>\n",
       "      <th>OR</th>\n",
       "    </tr>\n",
       "  </thead>\n",
       "  <tbody>\n",
       "    <tr>\n",
       "      <th>0</th>\n",
       "      <td>source</td>\n",
       "      <td>0</td>\n",
       "      <td>1075</td>\n",
       "      <td>248</td>\n",
       "      <td>0.985973</td>\n",
       "      <td>0.751049</td>\n",
       "    </tr>\n",
       "    <tr>\n",
       "      <th>1</th>\n",
       "      <td>source</td>\n",
       "      <td>1</td>\n",
       "      <td>389</td>\n",
       "      <td>111</td>\n",
       "      <td>0.019614</td>\n",
       "      <td>1.331472</td>\n",
       "    </tr>\n",
       "    <tr>\n",
       "      <th>2</th>\n",
       "      <td>target</td>\n",
       "      <td>0</td>\n",
       "      <td>828</td>\n",
       "      <td>206</td>\n",
       "      <td>0.992709</td>\n",
       "      <td>0.719481</td>\n",
       "    </tr>\n",
       "    <tr>\n",
       "      <th>3</th>\n",
       "      <td>target</td>\n",
       "      <td>1</td>\n",
       "      <td>368</td>\n",
       "      <td>116</td>\n",
       "      <td>0.010620</td>\n",
       "      <td>1.389891</td>\n",
       "    </tr>\n",
       "  </tbody>\n",
       "</table>\n",
       "</div>"
      ],
      "text/plain": [
       "  gene_type  is_associated  n_genes  n_cdg    pvalue        OR\n",
       "0    source              0     1075    248  0.985973  0.751049\n",
       "1    source              1      389    111  0.019614  1.331472\n",
       "2    target              0      828    206  0.992709  0.719481\n",
       "3    target              1      368    116  0.010620  1.389891"
      ]
     },
     "execution_count": 27,
     "metadata": {},
     "output_type": "execute_result"
    }
   ],
   "source": [
    "gene_lists = [intercell_source, intercell_target]\n",
    "labels = ['source', 'target']\n",
    "\n",
    "cdg_enrichment = []\n",
    "for label, gene_list in zip(labels, gene_lists):\n",
    "    # 0: not_met genes, 1: met genes\n",
    "    for i in range(2):        \n",
    "        # # of genes (population size)\n",
    "        N = gene_list.shape[0]\n",
    "        # # of cancer driver genes present in the intercell graph (sample size)\n",
    "        cdg_list = cdg.loc[cdg.symbol.isin(gene_list.gene), 'symbol'].drop_duplicates()\n",
    "        n = cdg_list.shape[0]\n",
    "        # # number of successes in the population (met or not_met genes)\n",
    "        K = gene_list[gene_list.label==i].shape[0]\n",
    "        # # number of successes in the sample (cdg & (met or not_met))\n",
    "        k = gene_list[(gene_list.label==i)&(gene_list.gene.isin(cdg_list))].shape[0]\n",
    "        b = K - k\n",
    "        c = n - k\n",
    "        d = N + k - n - K\n",
    "        \n",
    "        table = [[k, b], [c, d]]\n",
    "        od, pval = stats.fisher_exact(table, alternative='greater')\n",
    "\n",
    "        cdg_enrichment.append({\n",
    "            'gene_type': label,\n",
    "            'is_associated': i,\n",
    "            'n_genes': K,\n",
    "            'n_cdg': k,\n",
    "            'pvalue': pval,\n",
    "            'OR': od\n",
    "        })\n",
    "\n",
    "cdg_enrichment = pd.DataFrame(cdg_enrichment)\n",
    "cdg_enrichment"
   ]
  },
  {
   "cell_type": "code",
   "execution_count": 28,
   "id": "fd4bd609-922f-424d-8f55-3cabc39244ed",
   "metadata": {},
   "outputs": [],
   "source": [
    "cdg_enrichment.to_csv(enrichment_dir+'intercell_cdg_enrichment.csv', index=False)"
   ]
  },
  {
   "cell_type": "markdown",
   "id": "04590a51-0823-4a25-a87e-56554537181c",
   "metadata": {
    "tags": []
   },
   "source": [
    "#### Curated Graph"
   ]
  },
  {
   "cell_type": "code",
   "execution_count": 29,
   "id": "91a5b955-6605-4e41-909b-395f4af2754f",
   "metadata": {},
   "outputs": [
    {
     "data": {
      "text/html": [
       "<div>\n",
       "<style scoped>\n",
       "    .dataframe tbody tr th:only-of-type {\n",
       "        vertical-align: middle;\n",
       "    }\n",
       "\n",
       "    .dataframe tbody tr th {\n",
       "        vertical-align: top;\n",
       "    }\n",
       "\n",
       "    .dataframe thead th {\n",
       "        text-align: right;\n",
       "    }\n",
       "</style>\n",
       "<table border=\"1\" class=\"dataframe\">\n",
       "  <thead>\n",
       "    <tr style=\"text-align: right;\">\n",
       "      <th></th>\n",
       "      <th>gene_type</th>\n",
       "      <th>is_associated</th>\n",
       "      <th>n_genes</th>\n",
       "      <th>n_cdg</th>\n",
       "      <th>pvalue</th>\n",
       "      <th>OR</th>\n",
       "    </tr>\n",
       "  </thead>\n",
       "  <tbody>\n",
       "    <tr>\n",
       "      <th>0</th>\n",
       "      <td>source</td>\n",
       "      <td>0</td>\n",
       "      <td>1087</td>\n",
       "      <td>253</td>\n",
       "      <td>0.981365</td>\n",
       "      <td>0.737795</td>\n",
       "    </tr>\n",
       "    <tr>\n",
       "      <th>1</th>\n",
       "      <td>source</td>\n",
       "      <td>1</td>\n",
       "      <td>278</td>\n",
       "      <td>81</td>\n",
       "      <td>0.026756</td>\n",
       "      <td>1.355390</td>\n",
       "    </tr>\n",
       "    <tr>\n",
       "      <th>2</th>\n",
       "      <td>target</td>\n",
       "      <td>0</td>\n",
       "      <td>809</td>\n",
       "      <td>205</td>\n",
       "      <td>0.986606</td>\n",
       "      <td>0.718274</td>\n",
       "    </tr>\n",
       "    <tr>\n",
       "      <th>3</th>\n",
       "      <td>target</td>\n",
       "      <td>1</td>\n",
       "      <td>268</td>\n",
       "      <td>86</td>\n",
       "      <td>0.019729</td>\n",
       "      <td>1.392227</td>\n",
       "    </tr>\n",
       "  </tbody>\n",
       "</table>\n",
       "</div>"
      ],
      "text/plain": [
       "  gene_type  is_associated  n_genes  n_cdg    pvalue        OR\n",
       "0    source              0     1087    253  0.981365  0.737795\n",
       "1    source              1      278     81  0.026756  1.355390\n",
       "2    target              0      809    205  0.986606  0.718274\n",
       "3    target              1      268     86  0.019729  1.392227"
      ]
     },
     "execution_count": 29,
     "metadata": {},
     "output_type": "execute_result"
    }
   ],
   "source": [
    "gene_lists = [\n",
    "    intercell_source[intercell_source.is_curated==True],\n",
    "    intercell_target[intercell_target.is_curated==True]\n",
    "]\n",
    "labels = ['source', 'target']\n",
    "\n",
    "cdg_enrichment_curated = []\n",
    "for label, gene_list in zip(labels, gene_lists):\n",
    "    # 0: not_met genes, 1: met genes\n",
    "    for i in range(2):        \n",
    "        # # of genes (population size)\n",
    "        N = gene_list.shape[0]\n",
    "        # # of cancer driver genes present in the intercell graph (sample size)\n",
    "        cdg_list = cdg.loc[cdg.symbol.isin(gene_list.gene), 'symbol'].drop_duplicates()\n",
    "        n = cdg_list.shape[0]\n",
    "        # # number of successes in the population (met or not_met genes)\n",
    "        K = gene_list[gene_list.curated_label==i].shape[0]\n",
    "        # # number of successes in the sample (cdg & (met or not_met))\n",
    "        k = gene_list[(gene_list.curated_label==i)&(gene_list.gene.isin(cdg_list))].shape[0]\n",
    "        b = K - k\n",
    "        c = n - k\n",
    "        d = N + k - n - K\n",
    "        \n",
    "        table = [[k, b], [c, d]]\n",
    "        od, pval = stats.fisher_exact(table, alternative='greater')\n",
    "\n",
    "        cdg_enrichment_curated.append({\n",
    "            'gene_type': label,\n",
    "            'is_associated': i,\n",
    "            'n_genes': K,\n",
    "            'n_cdg': k,\n",
    "            'pvalue': pval,\n",
    "            'OR': od\n",
    "        })\n",
    "\n",
    "cdg_enrichment_curated = pd.DataFrame(cdg_enrichment_curated)\n",
    "cdg_enrichment_curated"
   ]
  },
  {
   "cell_type": "code",
   "execution_count": 30,
   "id": "59dbfbc9-d9e6-4640-883a-4a2e638ae539",
   "metadata": {},
   "outputs": [],
   "source": [
    "cdg_enrichment_curated.to_csv(enrichment_dir+'intercell_cdg_enrichment_curated.csv', index=False)"
   ]
  },
  {
   "cell_type": "markdown",
   "id": "b48e6f1e-9534-44c5-b544-6d972785799a",
   "metadata": {
    "jp-MarkdownHeadingCollapsed": true,
    "tags": []
   },
   "source": [
    "### Intracellular Genes"
   ]
  },
  {
   "cell_type": "code",
   "execution_count": 31,
   "id": "4d51a0e2-0ff9-416c-bb07-1f0939a50628",
   "metadata": {},
   "outputs": [
    {
     "name": "stdout",
     "output_type": "stream",
     "text": [
      "18215\n"
     ]
    },
    {
     "data": {
      "text/plain": [
       "0    A1BG\n",
       "1    A1CF\n",
       "Name: gene, dtype: object"
      ]
     },
     "metadata": {},
     "output_type": "display_data"
    },
    {
     "name": "stdout",
     "output_type": "stream",
     "text": [
      "\n",
      "3251\n"
     ]
    },
    {
     "data": {
      "text/plain": [
       "0    ABCF1\n",
       "1     ABL1\n",
       "Name: symbol, dtype: object"
      ]
     },
     "metadata": {},
     "output_type": "display_data"
    }
   ],
   "source": [
    "# gene lists\n",
    "# all genes (population size)\n",
    "intracell_list = intracell_genes.gene\n",
    "N = intracell_list.shape[0]\n",
    "print(N)\n",
    "display(intracell_list.head(2))\n",
    "print()\n",
    "\n",
    "# cancer driver genes present in the intracell graph (sample size)\n",
    "cdg_list = cdg.symbol.drop_duplicates()[lambda x: x.isin(intracell_list)]\n",
    "n = cdg_list.shape[0]\n",
    "print(n)\n",
    "display(cdg_list.head(2))"
   ]
  },
  {
   "cell_type": "code",
   "execution_count": 32,
   "id": "980f19ca-b75e-468e-a731-6ee59d480fd6",
   "metadata": {},
   "outputs": [
    {
     "data": {
      "text/html": [
       "<div>\n",
       "<style scoped>\n",
       "    .dataframe tbody tr th:only-of-type {\n",
       "        vertical-align: middle;\n",
       "    }\n",
       "\n",
       "    .dataframe tbody tr th {\n",
       "        vertical-align: top;\n",
       "    }\n",
       "\n",
       "    .dataframe thead th {\n",
       "        text-align: right;\n",
       "    }\n",
       "</style>\n",
       "<table border=\"1\" class=\"dataframe\">\n",
       "  <thead>\n",
       "    <tr style=\"text-align: right;\">\n",
       "      <th></th>\n",
       "      <th>dataset</th>\n",
       "      <th>n_genes</th>\n",
       "      <th>n_cdg</th>\n",
       "      <th>pvalue</th>\n",
       "      <th>OR</th>\n",
       "    </tr>\n",
       "  </thead>\n",
       "  <tbody>\n",
       "    <tr>\n",
       "      <th>0</th>\n",
       "      <td>source</td>\n",
       "      <td>222</td>\n",
       "      <td>69</td>\n",
       "      <td>1.027482e-06</td>\n",
       "      <td>2.099142</td>\n",
       "    </tr>\n",
       "    <tr>\n",
       "      <th>1</th>\n",
       "      <td>source_outliers</td>\n",
       "      <td>23</td>\n",
       "      <td>14</td>\n",
       "      <td>5.222008e-06</td>\n",
       "      <td>7.186695</td>\n",
       "    </tr>\n",
       "    <tr>\n",
       "      <th>2</th>\n",
       "      <td>target</td>\n",
       "      <td>7608</td>\n",
       "      <td>1428</td>\n",
       "      <td>3.187716e-03</td>\n",
       "      <td>1.113385</td>\n",
       "    </tr>\n",
       "    <tr>\n",
       "      <th>3</th>\n",
       "      <td>target_outliers</td>\n",
       "      <td>1177</td>\n",
       "      <td>381</td>\n",
       "      <td>6.528796e-36</td>\n",
       "      <td>2.362863</td>\n",
       "    </tr>\n",
       "  </tbody>\n",
       "</table>\n",
       "</div>"
      ],
      "text/plain": [
       "           dataset  n_genes  n_cdg        pvalue        OR\n",
       "0           source      222     69  1.027482e-06  2.099142\n",
       "1  source_outliers       23     14  5.222008e-06  7.186695\n",
       "2           target     7608   1428  3.187716e-03  1.113385\n",
       "3  target_outliers     1177    381  6.528796e-36  2.362863"
      ]
     },
     "execution_count": 32,
     "metadata": {},
     "output_type": "execute_result"
    }
   ],
   "source": [
    "gene_lists = [source.gene, source_outliers.gene, target.gene, target_outliers.gene]\n",
    "labels = ['source', 'source_outliers', 'target', 'target_outliers']\n",
    "\n",
    "cdg_enrichment = []\n",
    "for label, gene_list in zip(labels, gene_lists):\n",
    "    \n",
    "    K = gene_list.shape[0]\n",
    "    k = gene_list[gene_list.isin(cdg_list)].shape[0]\n",
    "    b = K - k\n",
    "    c = n - k\n",
    "    d = N + k - n - K\n",
    "    table = [[k, b], [c, d]]\n",
    "    \n",
    "    od, pval = stats.fisher_exact(table, alternative='greater')\n",
    "    \n",
    "    cdg_enrichment.append({\n",
    "        'dataset': label,\n",
    "        'n_genes': gene_list.shape[0],\n",
    "        'n_cdg': k,\n",
    "        'pvalue': pval,\n",
    "        'OR': od\n",
    "    })\n",
    "    \n",
    "cdg_enrichment = pd.DataFrame(cdg_enrichment)\n",
    "cdg_enrichment"
   ]
  },
  {
   "cell_type": "code",
   "execution_count": 33,
   "id": "d5aeb26c-0828-4bb8-8846-896ed7c9ee42",
   "metadata": {},
   "outputs": [
    {
     "data": {
      "text/html": [
       "<div>\n",
       "<style scoped>\n",
       "    .dataframe tbody tr th:only-of-type {\n",
       "        vertical-align: middle;\n",
       "    }\n",
       "\n",
       "    .dataframe tbody tr th {\n",
       "        vertical-align: top;\n",
       "    }\n",
       "\n",
       "    .dataframe thead th {\n",
       "        text-align: right;\n",
       "    }\n",
       "</style>\n",
       "<table border=\"1\" class=\"dataframe\">\n",
       "  <thead>\n",
       "    <tr style=\"text-align: right;\">\n",
       "      <th></th>\n",
       "      <th>dataset</th>\n",
       "      <th>n_genes</th>\n",
       "      <th>n_cdg</th>\n",
       "      <th>pvalue</th>\n",
       "      <th>OR</th>\n",
       "    </tr>\n",
       "  </thead>\n",
       "  <tbody>\n",
       "    <tr>\n",
       "      <th>0</th>\n",
       "      <td>source</td>\n",
       "      <td>246</td>\n",
       "      <td>68</td>\n",
       "      <td>8.817985e-05</td>\n",
       "      <td>1.774610</td>\n",
       "    </tr>\n",
       "    <tr>\n",
       "      <th>1</th>\n",
       "      <td>source_outliers</td>\n",
       "      <td>23</td>\n",
       "      <td>13</td>\n",
       "      <td>3.470508e-05</td>\n",
       "      <td>6.003768</td>\n",
       "    </tr>\n",
       "    <tr>\n",
       "      <th>2</th>\n",
       "      <td>target</td>\n",
       "      <td>4822</td>\n",
       "      <td>912</td>\n",
       "      <td>1.311620e-02</td>\n",
       "      <td>1.102319</td>\n",
       "    </tr>\n",
       "    <tr>\n",
       "      <th>3</th>\n",
       "      <td>target_outliers</td>\n",
       "      <td>761</td>\n",
       "      <td>259</td>\n",
       "      <td>4.523286e-28</td>\n",
       "      <td>2.493807</td>\n",
       "    </tr>\n",
       "  </tbody>\n",
       "</table>\n",
       "</div>"
      ],
      "text/plain": [
       "           dataset  n_genes  n_cdg        pvalue        OR\n",
       "0           source      246     68  8.817985e-05  1.774610\n",
       "1  source_outliers       23     13  3.470508e-05  6.003768\n",
       "2           target     4822    912  1.311620e-02  1.102319\n",
       "3  target_outliers      761    259  4.523286e-28  2.493807"
      ]
     },
     "execution_count": 33,
     "metadata": {},
     "output_type": "execute_result"
    }
   ],
   "source": [
    "gene_lists = [source_curated.gene, source_curated_outliers.gene, target_curated.gene, target_curated_outliers.gene]\n",
    "labels = ['source', 'source_outliers', 'target', 'target_outliers']\n",
    "\n",
    "cdg_enrichment_curated = []\n",
    "for label, gene_list in zip(labels, gene_lists):\n",
    "    \n",
    "    K = gene_list.shape[0]\n",
    "    k = gene_list[gene_list.isin(cdg_list)].shape[0]\n",
    "    b = K - k\n",
    "    c = n - k\n",
    "    d = N + k - n - K\n",
    "    table = [[k, b], [c, d]]\n",
    "    \n",
    "    od, pval = stats.fisher_exact(table, alternative='greater')\n",
    "    \n",
    "    cdg_enrichment_curated.append({\n",
    "        'dataset': label,\n",
    "        'n_genes': gene_list.shape[0],\n",
    "        'n_cdg': k,\n",
    "        'pvalue': pval,\n",
    "        'OR': od\n",
    "    })\n",
    "    \n",
    "cdg_enrichment_curated = pd.DataFrame(cdg_enrichment_curated)\n",
    "cdg_enrichment_curated"
   ]
  },
  {
   "cell_type": "code",
   "execution_count": 34,
   "id": "9b58381e-57d7-44da-ac80-acd01cb82f46",
   "metadata": {},
   "outputs": [
    {
     "data": {
      "text/html": [
       "<div>\n",
       "<style scoped>\n",
       "    .dataframe tbody tr th:only-of-type {\n",
       "        vertical-align: middle;\n",
       "    }\n",
       "\n",
       "    .dataframe tbody tr th {\n",
       "        vertical-align: top;\n",
       "    }\n",
       "\n",
       "    .dataframe thead th {\n",
       "        text-align: right;\n",
       "    }\n",
       "</style>\n",
       "<table border=\"1\" class=\"dataframe\">\n",
       "  <thead>\n",
       "    <tr style=\"text-align: right;\">\n",
       "      <th></th>\n",
       "      <th>gene</th>\n",
       "      <th>signal</th>\n",
       "      <th>pvalue_target</th>\n",
       "      <th>statistic_target</th>\n",
       "      <th>pvalue_source</th>\n",
       "      <th>statistic_source</th>\n",
       "    </tr>\n",
       "  </thead>\n",
       "  <tbody>\n",
       "    <tr>\n",
       "      <th>0</th>\n",
       "      <td>JAK1</td>\n",
       "      <td>positive</td>\n",
       "      <td>0.009330</td>\n",
       "      <td>0.003056</td>\n",
       "      <td>0.017103</td>\n",
       "      <td>0.000367</td>\n",
       "    </tr>\n",
       "    <tr>\n",
       "      <th>1</th>\n",
       "      <td>JAK3</td>\n",
       "      <td>positive</td>\n",
       "      <td>0.007568</td>\n",
       "      <td>0.001066</td>\n",
       "      <td>0.017103</td>\n",
       "      <td>0.000122</td>\n",
       "    </tr>\n",
       "    <tr>\n",
       "      <th>2</th>\n",
       "      <td>LCK</td>\n",
       "      <td>positive</td>\n",
       "      <td>0.002807</td>\n",
       "      <td>0.001048</td>\n",
       "      <td>0.017103</td>\n",
       "      <td>0.000417</td>\n",
       "    </tr>\n",
       "    <tr>\n",
       "      <th>3</th>\n",
       "      <td>RB1</td>\n",
       "      <td>positive</td>\n",
       "      <td>0.040317</td>\n",
       "      <td>0.000035</td>\n",
       "      <td>0.041089</td>\n",
       "      <td>0.000049</td>\n",
       "    </tr>\n",
       "    <tr>\n",
       "      <th>4</th>\n",
       "      <td>RELA</td>\n",
       "      <td>positive</td>\n",
       "      <td>0.002807</td>\n",
       "      <td>0.000307</td>\n",
       "      <td>0.017103</td>\n",
       "      <td>0.001768</td>\n",
       "    </tr>\n",
       "  </tbody>\n",
       "</table>\n",
       "</div>"
      ],
      "text/plain": [
       "   gene    signal  pvalue_target  statistic_target  pvalue_source  \\\n",
       "0  JAK1  positive       0.009330          0.003056       0.017103   \n",
       "1  JAK3  positive       0.007568          0.001066       0.017103   \n",
       "2   LCK  positive       0.002807          0.001048       0.017103   \n",
       "3   RB1  positive       0.040317          0.000035       0.041089   \n",
       "4  RELA  positive       0.002807          0.000307       0.017103   \n",
       "\n",
       "   statistic_source  \n",
       "0          0.000367  \n",
       "1          0.000122  \n",
       "2          0.000417  \n",
       "3          0.000049  \n",
       "4          0.001768  "
      ]
     },
     "execution_count": 34,
     "metadata": {},
     "output_type": "execute_result"
    }
   ],
   "source": [
    "a = target_curated_outliers[target_curated_outliers.gene.isin(cdg_list)]\n",
    "b = source_curated_outliers[source_curated_outliers.gene.isin(cdg_list)]\n",
    "pd.merge(a, b, on=['gene', 'signal'], suffixes=['_target', '_source'])"
   ]
  },
  {
   "cell_type": "code",
   "execution_count": 35,
   "id": "6bfc91b8-01a9-4492-92b0-7c0b036e23de",
   "metadata": {},
   "outputs": [],
   "source": [
    "cdg_enrichment.to_csv(enrichment_dir+'cdg_enrichment.csv', index=False)\n",
    "cdg_enrichment_curated.to_csv(enrichment_dir+'cdg_enrichment_curated.csv', index=False)"
   ]
  },
  {
   "cell_type": "markdown",
   "id": "b972d2cf-9bcf-45ca-907f-f2c33c9d5f59",
   "metadata": {
    "jp-MarkdownHeadingCollapsed": true,
    "tags": []
   },
   "source": [
    "# Cancer Hallmarks enrichment analysis\n",
    "Performed with R package `clusterProfiler`"
   ]
  },
  {
   "cell_type": "markdown",
   "id": "4f78b465-1227-4ebf-a319-cefc2ab99eaa",
   "metadata": {
    "jp-MarkdownHeadingCollapsed": true,
    "tags": []
   },
   "source": [
    "## Load datasets"
   ]
  },
  {
   "cell_type": "code",
   "execution_count": 3,
   "id": "df8565d8-c1ed-43d2-b776-4e7701a3fc73",
   "metadata": {},
   "outputs": [
    {
     "data": {
      "text/html": [
       "<div>\n",
       "<style scoped>\n",
       "    .dataframe tbody tr th:only-of-type {\n",
       "        vertical-align: middle;\n",
       "    }\n",
       "\n",
       "    .dataframe tbody tr th {\n",
       "        vertical-align: top;\n",
       "    }\n",
       "\n",
       "    .dataframe thead th {\n",
       "        text-align: right;\n",
       "    }\n",
       "</style>\n",
       "<table border=\"1\" class=\"dataframe\">\n",
       "  <thead>\n",
       "    <tr style=\"text-align: right;\">\n",
       "      <th></th>\n",
       "      <th>gene</th>\n",
       "    </tr>\n",
       "  </thead>\n",
       "  <tbody>\n",
       "    <tr>\n",
       "      <th>0</th>\n",
       "      <td>A1BG</td>\n",
       "    </tr>\n",
       "    <tr>\n",
       "      <th>1</th>\n",
       "      <td>A1CF</td>\n",
       "    </tr>\n",
       "  </tbody>\n",
       "</table>\n",
       "</div>"
      ],
      "text/plain": [
       "   gene\n",
       "0  A1BG\n",
       "1  A1CF"
      ]
     },
     "execution_count": 3,
     "metadata": {},
     "output_type": "execute_result"
    }
   ],
   "source": [
    "# load intracell genes\n",
    "intracell_genes = pd.read_csv(intracell_dir+'intracell_genes.csv', names=['gene'], header=0)\n",
    "intracell_genes.head(2)"
   ]
  },
  {
   "cell_type": "code",
   "execution_count": 4,
   "id": "4a454b13-46d6-4019-afa8-72d5aa47980b",
   "metadata": {},
   "outputs": [],
   "source": [
    "# load gene lists\n",
    "source = pd.read_csv(enrichment_dir+'source_sign.csv')\n",
    "source_outliers = pd.read_csv(enrichment_dir+'source_sign_outliers.csv')\n",
    "target = pd.read_csv(enrichment_dir+'target_sign.csv')\n",
    "target_outliers = pd.read_csv(enrichment_dir+'target_sign_outliers.csv')"
   ]
  },
  {
   "cell_type": "code",
   "execution_count": 5,
   "id": "72d7dc95-2402-4dbc-af8e-6cf7083162ed",
   "metadata": {},
   "outputs": [
    {
     "data": {
      "text/html": [
       "<div>\n",
       "<style scoped>\n",
       "    .dataframe tbody tr th:only-of-type {\n",
       "        vertical-align: middle;\n",
       "    }\n",
       "\n",
       "    .dataframe tbody tr th {\n",
       "        vertical-align: top;\n",
       "    }\n",
       "\n",
       "    .dataframe thead th {\n",
       "        text-align: right;\n",
       "    }\n",
       "</style>\n",
       "<table border=\"1\" class=\"dataframe\">\n",
       "  <thead>\n",
       "    <tr style=\"text-align: right;\">\n",
       "      <th></th>\n",
       "      <th>Hallmarks</th>\n",
       "      <th>GO terms</th>\n",
       "      <th>Term name</th>\n",
       "    </tr>\n",
       "  </thead>\n",
       "  <tbody>\n",
       "    <tr>\n",
       "      <th>0</th>\n",
       "      <td>Sustaining Proliferative Signaling</td>\n",
       "      <td>GO:0008283</td>\n",
       "      <td>Cell Proliferation</td>\n",
       "    </tr>\n",
       "    <tr>\n",
       "      <th>1</th>\n",
       "      <td>Sustaining Proliferative Signaling</td>\n",
       "      <td>GO:0007049</td>\n",
       "      <td>Cell Cycle</td>\n",
       "    </tr>\n",
       "  </tbody>\n",
       "</table>\n",
       "</div>"
      ],
      "text/plain": [
       "                             Hallmarks       GO terms           Term name\n",
       "0  Sustaining Proliferative Signaling    GO:0008283    Cell Proliferation\n",
       "1  Sustaining Proliferative Signaling    GO:0007049            Cell Cycle"
      ]
     },
     "execution_count": 5,
     "metadata": {},
     "output_type": "execute_result"
    }
   ],
   "source": [
    "hallmarks2goterms = pd.read_excel(raw_data_dir+'hallmarks_to_goterms.xlsx', usecols=[0, 1, 2])\n",
    "hallmarks2goterms.head(2)"
   ]
  },
  {
   "cell_type": "code",
   "execution_count": 6,
   "id": "c7bd758f-2ba8-4512-82ad-61975e37e085",
   "metadata": {},
   "outputs": [],
   "source": [
    "hallmarks2goterms['Hallmarks'] = hallmarks2goterms['Hallmarks'].str.strip()\n",
    "hallmarks2goterms['GO terms'] = hallmarks2goterms['GO terms'].str.strip()\n",
    "hallmarks2goterms['Term name'] = hallmarks2goterms['Term name'].str.strip()"
   ]
  },
  {
   "cell_type": "markdown",
   "id": "9bd24e93-c6ab-4d2f-af8c-264026ed832e",
   "metadata": {
    "tags": []
   },
   "source": [
    "## Intercell Genes"
   ]
  },
  {
   "cell_type": "code",
   "execution_count": 7,
   "id": "dfb169b2-ee4e-4b0a-9140-268bbba4d26a",
   "metadata": {},
   "outputs": [],
   "source": [
    "labels = ['source', 'source_nsign', 'target', 'target_nsign']\n",
    "network = ['complete', 'curated']"
   ]
  },
  {
   "cell_type": "code",
   "execution_count": 8,
   "id": "012584f2-403e-4ee4-ab15-30650270eb3f",
   "metadata": {},
   "outputs": [
    {
     "data": {
      "text/html": [
       "<div>\n",
       "<style scoped>\n",
       "    .dataframe tbody tr th:only-of-type {\n",
       "        vertical-align: middle;\n",
       "    }\n",
       "\n",
       "    .dataframe tbody tr th {\n",
       "        vertical-align: top;\n",
       "    }\n",
       "\n",
       "    .dataframe thead th {\n",
       "        text-align: right;\n",
       "    }\n",
       "</style>\n",
       "<table border=\"1\" class=\"dataframe\">\n",
       "  <thead>\n",
       "    <tr style=\"text-align: right;\">\n",
       "      <th></th>\n",
       "      <th>ID</th>\n",
       "      <th>Description</th>\n",
       "      <th>GeneRatio</th>\n",
       "      <th>BgRatio</th>\n",
       "      <th>pvalue</th>\n",
       "      <th>p.adjust</th>\n",
       "      <th>qvalue</th>\n",
       "      <th>geneID</th>\n",
       "      <th>Count</th>\n",
       "      <th>FoldEnrichment</th>\n",
       "    </tr>\n",
       "  </thead>\n",
       "  <tbody>\n",
       "    <tr>\n",
       "      <th>0</th>\n",
       "      <td>GO:0006955</td>\n",
       "      <td>immune response</td>\n",
       "      <td>175/385</td>\n",
       "      <td>436/1442</td>\n",
       "      <td>7.975928e-14</td>\n",
       "      <td>2.059385e-10</td>\n",
       "      <td>1.435667e-10</td>\n",
       "      <td>ADAM17/ANGPT1/ANXA1/APOE/APP/B2M/BAG6/CADM1/CC...</td>\n",
       "      <td>175</td>\n",
       "      <td>1.503336</td>\n",
       "    </tr>\n",
       "    <tr>\n",
       "      <th>1</th>\n",
       "      <td>GO:0007159</td>\n",
       "      <td>leukocyte cell-cell adhesion</td>\n",
       "      <td>83/385</td>\n",
       "      <td>160/1442</td>\n",
       "      <td>4.695650e-13</td>\n",
       "      <td>6.062084e-10</td>\n",
       "      <td>4.226085e-10</td>\n",
       "      <td>ANXA1/B2M/BMP4/BMP7/CCL19/CCL2/CCL21/CCL28/CCL...</td>\n",
       "      <td>83</td>\n",
       "      <td>1.942955</td>\n",
       "    </tr>\n",
       "  </tbody>\n",
       "</table>\n",
       "</div>"
      ],
      "text/plain": [
       "           ID                   Description GeneRatio   BgRatio        pvalue  \\\n",
       "0  GO:0006955               immune response   175/385  436/1442  7.975928e-14   \n",
       "1  GO:0007159  leukocyte cell-cell adhesion    83/385  160/1442  4.695650e-13   \n",
       "\n",
       "       p.adjust        qvalue  \\\n",
       "0  2.059385e-10  1.435667e-10   \n",
       "1  6.062084e-10  4.226085e-10   \n",
       "\n",
       "                                              geneID  Count  FoldEnrichment  \n",
       "0  ADAM17/ANGPT1/ANXA1/APOE/APP/B2M/BAG6/CADM1/CC...    175        1.503336  \n",
       "1  ANXA1/B2M/BMP4/BMP7/CCL19/CCL2/CCL21/CCL28/CCL...     83        1.942955  "
      ]
     },
     "execution_count": 8,
     "metadata": {},
     "output_type": "execute_result"
    }
   ],
   "source": [
    "# complete network\n",
    "go_enrichment = [\n",
    "    pd.read_csv(enrichment_dir+'/intercell_go/source_sign_go.csv'),\n",
    "    pd.read_csv(enrichment_dir+'/intercell_go/source_nsign_go.csv'),\n",
    "    pd.read_csv(enrichment_dir+'/intercell_go/target_sign_go.csv'),\n",
    "    pd.read_csv(enrichment_dir+'/intercell_go/target_nsign_go.csv')\n",
    "]\n",
    "go_enrichment[0].head(2)"
   ]
  },
  {
   "cell_type": "code",
   "execution_count": 9,
   "id": "b6dd8514-8644-45c5-a7b8-9dfbf64a0496",
   "metadata": {},
   "outputs": [
    {
     "data": {
      "text/html": [
       "<div>\n",
       "<style scoped>\n",
       "    .dataframe tbody tr th:only-of-type {\n",
       "        vertical-align: middle;\n",
       "    }\n",
       "\n",
       "    .dataframe tbody tr th {\n",
       "        vertical-align: top;\n",
       "    }\n",
       "\n",
       "    .dataframe thead th {\n",
       "        text-align: right;\n",
       "    }\n",
       "</style>\n",
       "<table border=\"1\" class=\"dataframe\">\n",
       "  <thead>\n",
       "    <tr style=\"text-align: right;\">\n",
       "      <th></th>\n",
       "      <th>ID</th>\n",
       "      <th>Description</th>\n",
       "      <th>GeneRatio</th>\n",
       "      <th>BgRatio</th>\n",
       "      <th>pvalue</th>\n",
       "      <th>p.adjust</th>\n",
       "      <th>qvalue</th>\n",
       "      <th>geneID</th>\n",
       "      <th>Count</th>\n",
       "      <th>FoldEnrichment</th>\n",
       "    </tr>\n",
       "  </thead>\n",
       "  <tbody>\n",
       "    <tr>\n",
       "      <th>0</th>\n",
       "      <td>GO:0007159</td>\n",
       "      <td>leukocyte cell-cell adhesion</td>\n",
       "      <td>64/274</td>\n",
       "      <td>158/1347</td>\n",
       "      <td>4.028101e-10</td>\n",
       "      <td>9.985662e-07</td>\n",
       "      <td>7.623711e-07</td>\n",
       "      <td>B2M/CCL19/CCL2/CCL21/CCL5/CD160/CD274/CD4/CD40...</td>\n",
       "      <td>64</td>\n",
       "      <td>1.991315</td>\n",
       "    </tr>\n",
       "    <tr>\n",
       "      <th>1</th>\n",
       "      <td>GO:0002684</td>\n",
       "      <td>positive regulation of immune system process</td>\n",
       "      <td>97/274</td>\n",
       "      <td>289/1347</td>\n",
       "      <td>1.238301e-09</td>\n",
       "      <td>1.534874e-06</td>\n",
       "      <td>1.171824e-06</td>\n",
       "      <td>ADAM17/APP/B2M/BAG6/CADM1/CCL19/CCL2/CCL20/CCL...</td>\n",
       "      <td>97</td>\n",
       "      <td>1.650027</td>\n",
       "    </tr>\n",
       "  </tbody>\n",
       "</table>\n",
       "</div>"
      ],
      "text/plain": [
       "           ID                                   Description GeneRatio  \\\n",
       "0  GO:0007159                  leukocyte cell-cell adhesion    64/274   \n",
       "1  GO:0002684  positive regulation of immune system process    97/274   \n",
       "\n",
       "    BgRatio        pvalue      p.adjust        qvalue  \\\n",
       "0  158/1347  4.028101e-10  9.985662e-07  7.623711e-07   \n",
       "1  289/1347  1.238301e-09  1.534874e-06  1.171824e-06   \n",
       "\n",
       "                                              geneID  Count  FoldEnrichment  \n",
       "0  B2M/CCL19/CCL2/CCL21/CCL5/CD160/CD274/CD4/CD40...     64        1.991315  \n",
       "1  ADAM17/APP/B2M/BAG6/CADM1/CCL19/CCL2/CCL20/CCL...     97        1.650027  "
      ]
     },
     "execution_count": 9,
     "metadata": {},
     "output_type": "execute_result"
    }
   ],
   "source": [
    "# curated network\n",
    "go_enrichment_curated = [\n",
    "    pd.read_csv(enrichment_dir+'/intercell_go/source_curated_sign_go.csv'),\n",
    "    pd.read_csv(enrichment_dir+'/intercell_go/source_curated_nsign_go.csv'),\n",
    "    pd.read_csv(enrichment_dir+'/intercell_go/target_curated_sign_go.csv'),\n",
    "    pd.read_csv(enrichment_dir+'/intercell_go/target_curated_nsign_go.csv')\n",
    "]\n",
    "go_enrichment_curated[0].head(2)"
   ]
  },
  {
   "cell_type": "code",
   "execution_count": 10,
   "id": "fb719a4c-e2f7-448b-af80-a251cea9a7f3",
   "metadata": {},
   "outputs": [
    {
     "data": {
      "text/html": [
       "<div>\n",
       "<style scoped>\n",
       "    .dataframe tbody tr th:only-of-type {\n",
       "        vertical-align: middle;\n",
       "    }\n",
       "\n",
       "    .dataframe tbody tr th {\n",
       "        vertical-align: top;\n",
       "    }\n",
       "\n",
       "    .dataframe thead th {\n",
       "        text-align: right;\n",
       "    }\n",
       "</style>\n",
       "<table border=\"1\" class=\"dataframe\">\n",
       "  <thead>\n",
       "    <tr style=\"text-align: right;\">\n",
       "      <th></th>\n",
       "      <th>Hallmarks</th>\n",
       "      <th>GO terms</th>\n",
       "      <th>Term name</th>\n",
       "      <th>ID</th>\n",
       "      <th>Description</th>\n",
       "      <th>p.adjust</th>\n",
       "      <th>Count</th>\n",
       "      <th>FoldEnrichment</th>\n",
       "      <th>geneID</th>\n",
       "      <th>dataset</th>\n",
       "      <th>network</th>\n",
       "    </tr>\n",
       "  </thead>\n",
       "  <tbody>\n",
       "    <tr>\n",
       "      <th>0</th>\n",
       "      <td>Sustaining Proliferative Signaling</td>\n",
       "      <td>GO:0007049</td>\n",
       "      <td>Cell Cycle</td>\n",
       "      <td>GO:0007049</td>\n",
       "      <td>cell cycle</td>\n",
       "      <td>0.001155</td>\n",
       "      <td>33</td>\n",
       "      <td>1.791304</td>\n",
       "      <td>ADAM17/ANXA1/APP/BAG6/BMP2/BMP4/BMP7/BTC/CCL2/...</td>\n",
       "      <td>source</td>\n",
       "      <td>complete</td>\n",
       "    </tr>\n",
       "  </tbody>\n",
       "</table>\n",
       "</div>"
      ],
      "text/plain": [
       "                            Hallmarks    GO terms   Term name          ID  \\\n",
       "0  Sustaining Proliferative Signaling  GO:0007049  Cell Cycle  GO:0007049   \n",
       "\n",
       "  Description  p.adjust  Count  FoldEnrichment  \\\n",
       "0  cell cycle  0.001155     33        1.791304   \n",
       "\n",
       "                                              geneID dataset   network  \n",
       "0  ADAM17/ANXA1/APP/BAG6/BMP2/BMP4/BMP7/BTC/CCL2/...  source  complete  "
      ]
     },
     "execution_count": 10,
     "metadata": {},
     "output_type": "execute_result"
    }
   ],
   "source": [
    "hallmarks_mapping = []\n",
    "mapping_stats = []\n",
    "for net, df_list in zip(network, [go_enrichment, go_enrichment_curated]):\n",
    "    for label, df in zip(labels, df_list):\n",
    "        enrichment = df.loc[df['p.adjust']<0.05, ['ID', 'Description', 'p.adjust', 'Count', 'FoldEnrichment', 'geneID']]\n",
    "        mapping = pd.merge(hallmarks2goterms, enrichment, left_on='GO terms', right_on='ID')\n",
    "        mapping['dataset'] = [label for i in range(mapping.shape[0])]\n",
    "        mapping['network'] = [net for i in range(mapping.shape[0])]\n",
    "        hallmarks_mapping.append(mapping)\n",
    "        \n",
    "        if '_' in label:\n",
    "            is_associated = 0\n",
    "        else:\n",
    "            is_associated = 1\n",
    "        mapping_stats.append({\n",
    "            'dataset': label.split('_')[0], \n",
    "            'network': net,\n",
    "            'is_associated': is_associated,\n",
    "            'p.adjust<0.05': enrichment.shape[0],\n",
    "            '# of hallmarks': mapping.Hallmarks.drop_duplicates().shape[0],\n",
    "        })\n",
    "mapping_stats = pd.DataFrame(mapping_stats)\n",
    "hallmarks_mapping = pd.concat(hallmarks_mapping)\n",
    "hallmarks_mapping.head(1)"
   ]
  },
  {
   "cell_type": "code",
   "execution_count": 11,
   "id": "ac096f1f-d3e9-4acf-8ca4-c3bef406abd3",
   "metadata": {},
   "outputs": [
    {
     "data": {
      "text/html": [
       "<div>\n",
       "<style scoped>\n",
       "    .dataframe tbody tr th:only-of-type {\n",
       "        vertical-align: middle;\n",
       "    }\n",
       "\n",
       "    .dataframe tbody tr th {\n",
       "        vertical-align: top;\n",
       "    }\n",
       "\n",
       "    .dataframe thead th {\n",
       "        text-align: right;\n",
       "    }\n",
       "</style>\n",
       "<table border=\"1\" class=\"dataframe\">\n",
       "  <thead>\n",
       "    <tr style=\"text-align: right;\">\n",
       "      <th></th>\n",
       "      <th></th>\n",
       "      <th></th>\n",
       "      <th>p.adjust&lt;0.05</th>\n",
       "      <th># of hallmarks</th>\n",
       "    </tr>\n",
       "    <tr>\n",
       "      <th>dataset</th>\n",
       "      <th>network</th>\n",
       "      <th>is_associated</th>\n",
       "      <th></th>\n",
       "      <th></th>\n",
       "    </tr>\n",
       "  </thead>\n",
       "  <tbody>\n",
       "    <tr>\n",
       "      <th rowspan=\"2\" valign=\"top\">source</th>\n",
       "      <th>complete</th>\n",
       "      <th>1</th>\n",
       "      <td>606</td>\n",
       "      <td>4</td>\n",
       "    </tr>\n",
       "    <tr>\n",
       "      <th>curated</th>\n",
       "      <th>1</th>\n",
       "      <td>397</td>\n",
       "      <td>5</td>\n",
       "    </tr>\n",
       "    <tr>\n",
       "      <th rowspan=\"2\" valign=\"top\">target</th>\n",
       "      <th>complete</th>\n",
       "      <th>1</th>\n",
       "      <td>657</td>\n",
       "      <td>7</td>\n",
       "    </tr>\n",
       "    <tr>\n",
       "      <th>curated</th>\n",
       "      <th>1</th>\n",
       "      <td>207</td>\n",
       "      <td>5</td>\n",
       "    </tr>\n",
       "    <tr>\n",
       "      <th rowspan=\"2\" valign=\"top\">source</th>\n",
       "      <th>complete</th>\n",
       "      <th>0</th>\n",
       "      <td>0</td>\n",
       "      <td>0</td>\n",
       "    </tr>\n",
       "    <tr>\n",
       "      <th>curated</th>\n",
       "      <th>0</th>\n",
       "      <td>0</td>\n",
       "      <td>0</td>\n",
       "    </tr>\n",
       "    <tr>\n",
       "      <th rowspan=\"2\" valign=\"top\">target</th>\n",
       "      <th>complete</th>\n",
       "      <th>0</th>\n",
       "      <td>1</td>\n",
       "      <td>0</td>\n",
       "    </tr>\n",
       "    <tr>\n",
       "      <th>curated</th>\n",
       "      <th>0</th>\n",
       "      <td>0</td>\n",
       "      <td>0</td>\n",
       "    </tr>\n",
       "  </tbody>\n",
       "</table>\n",
       "</div>"
      ],
      "text/plain": [
       "                                p.adjust<0.05  # of hallmarks\n",
       "dataset network  is_associated                               \n",
       "source  complete 1                        606               4\n",
       "        curated  1                        397               5\n",
       "target  complete 1                        657               7\n",
       "        curated  1                        207               5\n",
       "source  complete 0                          0               0\n",
       "        curated  0                          0               0\n",
       "target  complete 0                          1               0\n",
       "        curated  0                          0               0"
      ]
     },
     "execution_count": 11,
     "metadata": {},
     "output_type": "execute_result"
    }
   ],
   "source": [
    "mapping_stats.sort_values(['is_associated', 'dataset'], ascending=[False, True]).set_index(['dataset', 'network', 'is_associated'])"
   ]
  },
  {
   "cell_type": "code",
   "execution_count": 12,
   "id": "aad7ad73-205d-4636-8e77-a8107f332dd4",
   "metadata": {},
   "outputs": [
    {
     "data": {
      "application/vnd.plotly.v1+json": {
       "config": {
        "plotlyServerURL": "https://plot.ly"
       },
       "data": [
        {
         "hovertemplate": "<b>%{hovertext}</b><br><br>dataset=source<br>network=complete<br>FoldEnrichment=%{x}<br>Hallmarks=%{y}<br>Count=%{marker.size}<br>p.adjust=%{marker.color}<extra></extra>",
         "hovertext": [
          "Cell Cycle",
          "Positive regulation of cell proliferation",
          "Positive regulation of cell cycle",
          "Programmed cell death",
          "Regulation of programmed cell death",
          "Negative regualtion of programmed cell death",
          "Regulation of Cell Adhesion",
          "Negative regulation of cell adhesion",
          "Cell migration",
          "Immune response to tumor cells",
          "Immune Response",
          "Regulation of immune response to tumor cell",
          "Regulation of immune response"
         ],
         "legendgroup": "",
         "marker": {
          "color": [
           0.0011553778802149,
           0.0003021715217038,
           0.0044894813752536,
           0.0007094577343587,
           0.0007853393268809,
           0.0194892476606679,
           3.54822168767341e-7,
           0.0113690070725409,
           0.0001954568703672,
           0.0021414583769591,
           2.05938458484119e-10,
           0.0008383976355662,
           0.0001146057039395
          ],
          "coloraxis": "coloraxis",
          "size": [
           33,
           113,
           20,
           110,
           96,
           63,
           118,
           44,
           161,
           11,
           175,
           10,
           82
          ],
          "sizemode": "area",
          "sizeref": 0.4375,
          "symbol": "circle"
         },
         "mode": "markers",
         "name": "",
         "orientation": "h",
         "showlegend": false,
         "type": "scatter",
         "x": [
          1.79130434782609,
          1.35652680652681,
          1.97129186602871,
          1.33766233766234,
          1.37238029146426,
          1.33312788906009,
          1.52401253918495,
          1.47142857142857,
          1.27219025700038,
          2.74666666666667,
          1.50333611342786,
          3.12121212121212,
          1.49818181818182
         ],
         "xaxis": "x3",
         "y": [
          "Sustaining Proliferative Signaling",
          "Sustaining Proliferative Signaling",
          "Sustaining Proliferative Signaling",
          "Resist Cell Death",
          "Resist Cell Death",
          "Resist Cell Death",
          "Activating Invasion and Metastasis",
          "Activating Invasion and Metastasis",
          "Activating Invasion and Metastasis",
          "Avoiding Immune Destruction",
          "Avoiding Immune Destruction",
          "Avoiding Immune Destruction",
          "Avoiding Immune Destruction"
         ],
         "yaxis": "y3"
        },
        {
         "hovertemplate": "<b>%{hovertext}</b><br><br>dataset=source<br>network=curated<br>FoldEnrichment=%{x}<br>Hallmarks=%{y}<br>Count=%{marker.size}<br>p.adjust=%{marker.color}<extra></extra>",
         "hovertext": [
          "Cell Proliferation",
          "Cell Cycle",
          "Positive regulation of cell proliferation",
          "Positive regulation of cell cycle",
          "Negative regulation of cell proliferation",
          "Programmed cell death",
          "Regulation of programmed cell death",
          "Regulation of Cell Adhesion",
          "Cell migration",
          "Immune response to tumor cells",
          "Immune Response",
          "Regulation of immune response to tumor cell",
          "Regulation of immune response"
         ],
         "legendgroup": "",
         "marker": {
          "color": [
           0.0102653160184586,
           0.0167998671894079,
           0.0187667895251868,
           0.0118555498995642,
           0.0495571313979904,
           0.0035610161012008,
           0.0055873463089524,
           0.0005306000908269,
           0.0109614199566831,
           0.0101471294896118,
           0.00000548466800534125,
           0.0079949137831104,
           0.0055873463089524
          ],
          "coloraxis": "coloraxis",
          "size": [
           118,
           24,
           79,
           16,
           47,
           82,
           71,
           84,
           113,
           9,
           123,
           8,
           59
          ],
          "sizemode": "area",
          "sizeref": 0.4375,
          "symbol": "circle"
         },
         "mode": "markers",
         "name": "",
         "orientation": "h",
         "showlegend": false,
         "type": "scatter",
         "x": [
          1.23951899681827,
          1.76097614119185,
          1.30325037966002,
          2.12586308936674,
          1.36718783742927,
          1.38053694630537,
          1.40176765455985,
          1.4643578195372,
          1.24554842722006,
          2.94963503649635,
          1.46056807362742,
          3.27737226277372,
          1.46488608714886
         ],
         "xaxis": "x4",
         "y": [
          "Sustaining Proliferative Signaling",
          "Sustaining Proliferative Signaling",
          "Sustaining Proliferative Signaling",
          "Sustaining Proliferative Signaling",
          "Evading Growth Suppressor",
          "Resist Cell Death",
          "Resist Cell Death",
          "Activating Invasion and Metastasis",
          "Activating Invasion and Metastasis",
          "Avoiding Immune Destruction",
          "Avoiding Immune Destruction",
          "Avoiding Immune Destruction",
          "Avoiding Immune Destruction"
         ],
         "yaxis": "y4"
        },
        {
         "hovertemplate": "<b>%{hovertext}</b><br><br>dataset=target<br>network=complete<br>FoldEnrichment=%{x}<br>Hallmarks=%{y}<br>Count=%{marker.size}<br>p.adjust=%{marker.color}<extra></extra>",
         "hovertext": [
          "Cell Proliferation",
          "Cell Cycle",
          "Positive regulation of cell proliferation",
          "Positive regulation of cell cycle",
          "Negative regulation of signal transduction",
          "Negative regulation of cell proliferation",
          "Programmed cell death",
          "Regulation of programmed cell death",
          "Negative regualtion of programmed cell death",
          "Angiogenesis",
          "Positive regulation of angiogenesis",
          "Regulation of Cell Adhesion",
          "Negative regulation of cell adhesion",
          "Cell adhesion",
          "Cell migration",
          "Cytokine production involved in immune response",
          "Immune response to tumor cells",
          "Immune Response",
          "Regulation of immune response to tumor cell",
          "Regulation of immune response"
         ],
         "legendgroup": "",
         "marker": {
          "color": [
           0.00000764561928811241,
           0.0021762479227117,
           0.00000361077948268187,
           0.0116321474453703,
           0.0163938629332977,
           0.0113031778612704,
           1.23689374401984e-9,
           5.80114973543961e-7,
           0.00599608212283,
           0.0200809156616298,
           0.030352768818555,
           0.0006698156885876,
           0.0093914000692363,
           0.0280058699548554,
           0.0001375306767904,
           0.0448604397425865,
           0.021967788059953,
           2.03000856476229e-10,
           0.0236766849674761,
           0.000014461197841478
          ],
          "coloraxis": "coloraxis",
          "size": [
           147,
           29,
           101,
           16,
           63,
           51,
           124,
           99,
           57,
           59,
           21,
           92,
           41,
           167,
           140,
           20,
           10,
           165,
           8,
           90
          ],
          "sizemode": "area",
          "sizeref": 0.4375,
          "symbol": "circle"
         },
         "mode": "markers",
         "name": "",
         "orientation": "h",
         "showlegend": false,
         "type": "scatter",
         "x": [
          1.3472131147541,
          1.75512939478297,
          1.49987350738717,
          1.90082979154017,
          1.32079717132755,
          1.39820652935407,
          1.59738407180635,
          1.55665380906461,
          1.40643127364439,
          1.32343612671482,
          1.60382513661202,
          1.3662214126695,
          1.47768158654141,
          1.13491016022969,
          1.2978931741369,
          1.56470745035319,
          2.1384335154827,
          1.49087970445625,
          2.33283656234476,
          1.50358606557377
         ],
         "xaxis": "x",
         "y": [
          "Sustaining Proliferative Signaling",
          "Sustaining Proliferative Signaling",
          "Sustaining Proliferative Signaling",
          "Sustaining Proliferative Signaling",
          "Evading Growth Suppressor",
          "Evading Growth Suppressor",
          "Resist Cell Death",
          "Resist Cell Death",
          "Resist Cell Death",
          "Inducing Angiogenesis",
          "Inducing Angiogenesis",
          "Activating Invasion and Metastasis",
          "Activating Invasion and Metastasis",
          "Activating Invasion and Metastasis",
          "Activating Invasion and Metastasis",
          "Tumor promoting Inflammation",
          "Avoiding Immune Destruction",
          "Avoiding Immune Destruction",
          "Avoiding Immune Destruction",
          "Avoiding Immune Destruction"
         ],
         "yaxis": "y"
        },
        {
         "hovertemplate": "<b>%{hovertext}</b><br><br>dataset=target<br>network=curated<br>FoldEnrichment=%{x}<br>Hallmarks=%{y}<br>Count=%{marker.size}<br>p.adjust=%{marker.color}<extra></extra>",
         "hovertext": [
          "Cell Proliferation",
          "Cell Cycle",
          "Programmed cell death",
          "Regulation of programmed cell death",
          "Cell migration",
          "Cytokine production involved in immune response",
          "Immune Response",
          "Regulation of immune response"
         ],
         "legendgroup": "",
         "marker": {
          "color": [
           0.0301126531767533,
           0.0332912539482452,
           0.0000223495127515994,
           0.0007615649300916,
           0.0142382321785995,
           0.0455235098479161,
           0.0000980640689946642,
           0.0142382321785995
          ],
          "coloraxis": "coloraxis",
          "size": [
           99,
           21,
           89,
           70,
           104,
           17,
           111,
           61
          ],
          "sizemode": "area",
          "sizeref": 0.4375,
          "symbol": "circle"
         },
         "mode": "markers",
         "name": "",
         "orientation": "h",
         "showlegend": false,
         "type": "scatter",
         "x": [
          1.24374226706006,
          1.77379619260918,
          1.5915464336517,
          1.54385964912281,
          1.27429685324422,
          1.82401950823003,
          1.42148920688819,
          1.42450243255197
         ],
         "xaxis": "x2",
         "y": [
          "Sustaining Proliferative Signaling",
          "Sustaining Proliferative Signaling",
          "Resist Cell Death",
          "Resist Cell Death",
          "Activating Invasion and Metastasis",
          "Tumor promoting Inflammation",
          "Avoiding Immune Destruction",
          "Avoiding Immune Destruction"
         ],
         "yaxis": "y2"
        }
       ],
       "layout": {
        "annotations": [
         {
          "font": {},
          "showarrow": false,
          "text": "network=complete",
          "x": 0.24,
          "xanchor": "center",
          "xref": "paper",
          "y": 1,
          "yanchor": "bottom",
          "yref": "paper"
         },
         {
          "font": {},
          "showarrow": false,
          "text": "network=curated",
          "x": 0.74,
          "xanchor": "center",
          "xref": "paper",
          "y": 1,
          "yanchor": "bottom",
          "yref": "paper"
         },
         {
          "font": {},
          "showarrow": false,
          "text": "dataset=target",
          "textangle": 90,
          "x": 0.98,
          "xanchor": "left",
          "xref": "paper",
          "y": 0.2425,
          "yanchor": "middle",
          "yref": "paper"
         },
         {
          "font": {},
          "showarrow": false,
          "text": "dataset=source",
          "textangle": 90,
          "x": 0.98,
          "xanchor": "left",
          "xref": "paper",
          "y": 0.7575000000000001,
          "yanchor": "middle",
          "yref": "paper"
         }
        ],
        "coloraxis": {
         "colorbar": {
          "title": {
           "text": "p.adjust"
          }
         },
         "colorscale": [
          [
           0,
           "rgb(103,0,31)"
          ],
          [
           0.1,
           "rgb(178,24,43)"
          ],
          [
           0.2,
           "rgb(214,96,77)"
          ],
          [
           0.3,
           "rgb(244,165,130)"
          ],
          [
           0.4,
           "rgb(253,219,199)"
          ],
          [
           0.5,
           "rgb(247,247,247)"
          ],
          [
           0.6,
           "rgb(209,229,240)"
          ],
          [
           0.7,
           "rgb(146,197,222)"
          ],
          [
           0.8,
           "rgb(67,147,195)"
          ],
          [
           0.9,
           "rgb(33,102,172)"
          ],
          [
           1,
           "rgb(5,48,97)"
          ]
         ]
        },
        "height": 600,
        "legend": {
         "itemsizing": "constant",
         "tracegroupgap": 0
        },
        "margin": {
         "t": 60
        },
        "template": {
         "data": {
          "bar": [
           {
            "error_x": {
             "color": "#2a3f5f"
            },
            "error_y": {
             "color": "#2a3f5f"
            },
            "marker": {
             "line": {
              "color": "#E5ECF6",
              "width": 0.5
             },
             "pattern": {
              "fillmode": "overlay",
              "size": 10,
              "solidity": 0.2
             }
            },
            "type": "bar"
           }
          ],
          "barpolar": [
           {
            "marker": {
             "line": {
              "color": "#E5ECF6",
              "width": 0.5
             },
             "pattern": {
              "fillmode": "overlay",
              "size": 10,
              "solidity": 0.2
             }
            },
            "type": "barpolar"
           }
          ],
          "carpet": [
           {
            "aaxis": {
             "endlinecolor": "#2a3f5f",
             "gridcolor": "white",
             "linecolor": "white",
             "minorgridcolor": "white",
             "startlinecolor": "#2a3f5f"
            },
            "baxis": {
             "endlinecolor": "#2a3f5f",
             "gridcolor": "white",
             "linecolor": "white",
             "minorgridcolor": "white",
             "startlinecolor": "#2a3f5f"
            },
            "type": "carpet"
           }
          ],
          "choropleth": [
           {
            "colorbar": {
             "outlinewidth": 0,
             "ticks": ""
            },
            "type": "choropleth"
           }
          ],
          "contour": [
           {
            "colorbar": {
             "outlinewidth": 0,
             "ticks": ""
            },
            "colorscale": [
             [
              0,
              "#0d0887"
             ],
             [
              0.1111111111111111,
              "#46039f"
             ],
             [
              0.2222222222222222,
              "#7201a8"
             ],
             [
              0.3333333333333333,
              "#9c179e"
             ],
             [
              0.4444444444444444,
              "#bd3786"
             ],
             [
              0.5555555555555556,
              "#d8576b"
             ],
             [
              0.6666666666666666,
              "#ed7953"
             ],
             [
              0.7777777777777778,
              "#fb9f3a"
             ],
             [
              0.8888888888888888,
              "#fdca26"
             ],
             [
              1,
              "#f0f921"
             ]
            ],
            "type": "contour"
           }
          ],
          "contourcarpet": [
           {
            "colorbar": {
             "outlinewidth": 0,
             "ticks": ""
            },
            "type": "contourcarpet"
           }
          ],
          "heatmap": [
           {
            "colorbar": {
             "outlinewidth": 0,
             "ticks": ""
            },
            "colorscale": [
             [
              0,
              "#0d0887"
             ],
             [
              0.1111111111111111,
              "#46039f"
             ],
             [
              0.2222222222222222,
              "#7201a8"
             ],
             [
              0.3333333333333333,
              "#9c179e"
             ],
             [
              0.4444444444444444,
              "#bd3786"
             ],
             [
              0.5555555555555556,
              "#d8576b"
             ],
             [
              0.6666666666666666,
              "#ed7953"
             ],
             [
              0.7777777777777778,
              "#fb9f3a"
             ],
             [
              0.8888888888888888,
              "#fdca26"
             ],
             [
              1,
              "#f0f921"
             ]
            ],
            "type": "heatmap"
           }
          ],
          "heatmapgl": [
           {
            "colorbar": {
             "outlinewidth": 0,
             "ticks": ""
            },
            "colorscale": [
             [
              0,
              "#0d0887"
             ],
             [
              0.1111111111111111,
              "#46039f"
             ],
             [
              0.2222222222222222,
              "#7201a8"
             ],
             [
              0.3333333333333333,
              "#9c179e"
             ],
             [
              0.4444444444444444,
              "#bd3786"
             ],
             [
              0.5555555555555556,
              "#d8576b"
             ],
             [
              0.6666666666666666,
              "#ed7953"
             ],
             [
              0.7777777777777778,
              "#fb9f3a"
             ],
             [
              0.8888888888888888,
              "#fdca26"
             ],
             [
              1,
              "#f0f921"
             ]
            ],
            "type": "heatmapgl"
           }
          ],
          "histogram": [
           {
            "marker": {
             "pattern": {
              "fillmode": "overlay",
              "size": 10,
              "solidity": 0.2
             }
            },
            "type": "histogram"
           }
          ],
          "histogram2d": [
           {
            "colorbar": {
             "outlinewidth": 0,
             "ticks": ""
            },
            "colorscale": [
             [
              0,
              "#0d0887"
             ],
             [
              0.1111111111111111,
              "#46039f"
             ],
             [
              0.2222222222222222,
              "#7201a8"
             ],
             [
              0.3333333333333333,
              "#9c179e"
             ],
             [
              0.4444444444444444,
              "#bd3786"
             ],
             [
              0.5555555555555556,
              "#d8576b"
             ],
             [
              0.6666666666666666,
              "#ed7953"
             ],
             [
              0.7777777777777778,
              "#fb9f3a"
             ],
             [
              0.8888888888888888,
              "#fdca26"
             ],
             [
              1,
              "#f0f921"
             ]
            ],
            "type": "histogram2d"
           }
          ],
          "histogram2dcontour": [
           {
            "colorbar": {
             "outlinewidth": 0,
             "ticks": ""
            },
            "colorscale": [
             [
              0,
              "#0d0887"
             ],
             [
              0.1111111111111111,
              "#46039f"
             ],
             [
              0.2222222222222222,
              "#7201a8"
             ],
             [
              0.3333333333333333,
              "#9c179e"
             ],
             [
              0.4444444444444444,
              "#bd3786"
             ],
             [
              0.5555555555555556,
              "#d8576b"
             ],
             [
              0.6666666666666666,
              "#ed7953"
             ],
             [
              0.7777777777777778,
              "#fb9f3a"
             ],
             [
              0.8888888888888888,
              "#fdca26"
             ],
             [
              1,
              "#f0f921"
             ]
            ],
            "type": "histogram2dcontour"
           }
          ],
          "mesh3d": [
           {
            "colorbar": {
             "outlinewidth": 0,
             "ticks": ""
            },
            "type": "mesh3d"
           }
          ],
          "parcoords": [
           {
            "line": {
             "colorbar": {
              "outlinewidth": 0,
              "ticks": ""
             }
            },
            "type": "parcoords"
           }
          ],
          "pie": [
           {
            "automargin": true,
            "type": "pie"
           }
          ],
          "scatter": [
           {
            "fillpattern": {
             "fillmode": "overlay",
             "size": 10,
             "solidity": 0.2
            },
            "type": "scatter"
           }
          ],
          "scatter3d": [
           {
            "line": {
             "colorbar": {
              "outlinewidth": 0,
              "ticks": ""
             }
            },
            "marker": {
             "colorbar": {
              "outlinewidth": 0,
              "ticks": ""
             }
            },
            "type": "scatter3d"
           }
          ],
          "scattercarpet": [
           {
            "marker": {
             "colorbar": {
              "outlinewidth": 0,
              "ticks": ""
             }
            },
            "type": "scattercarpet"
           }
          ],
          "scattergeo": [
           {
            "marker": {
             "colorbar": {
              "outlinewidth": 0,
              "ticks": ""
             }
            },
            "type": "scattergeo"
           }
          ],
          "scattergl": [
           {
            "marker": {
             "colorbar": {
              "outlinewidth": 0,
              "ticks": ""
             }
            },
            "type": "scattergl"
           }
          ],
          "scattermapbox": [
           {
            "marker": {
             "colorbar": {
              "outlinewidth": 0,
              "ticks": ""
             }
            },
            "type": "scattermapbox"
           }
          ],
          "scatterpolar": [
           {
            "marker": {
             "colorbar": {
              "outlinewidth": 0,
              "ticks": ""
             }
            },
            "type": "scatterpolar"
           }
          ],
          "scatterpolargl": [
           {
            "marker": {
             "colorbar": {
              "outlinewidth": 0,
              "ticks": ""
             }
            },
            "type": "scatterpolargl"
           }
          ],
          "scatterternary": [
           {
            "marker": {
             "colorbar": {
              "outlinewidth": 0,
              "ticks": ""
             }
            },
            "type": "scatterternary"
           }
          ],
          "surface": [
           {
            "colorbar": {
             "outlinewidth": 0,
             "ticks": ""
            },
            "colorscale": [
             [
              0,
              "#0d0887"
             ],
             [
              0.1111111111111111,
              "#46039f"
             ],
             [
              0.2222222222222222,
              "#7201a8"
             ],
             [
              0.3333333333333333,
              "#9c179e"
             ],
             [
              0.4444444444444444,
              "#bd3786"
             ],
             [
              0.5555555555555556,
              "#d8576b"
             ],
             [
              0.6666666666666666,
              "#ed7953"
             ],
             [
              0.7777777777777778,
              "#fb9f3a"
             ],
             [
              0.8888888888888888,
              "#fdca26"
             ],
             [
              1,
              "#f0f921"
             ]
            ],
            "type": "surface"
           }
          ],
          "table": [
           {
            "cells": {
             "fill": {
              "color": "#EBF0F8"
             },
             "line": {
              "color": "white"
             }
            },
            "header": {
             "fill": {
              "color": "#C8D4E3"
             },
             "line": {
              "color": "white"
             }
            },
            "type": "table"
           }
          ]
         },
         "layout": {
          "annotationdefaults": {
           "arrowcolor": "#2a3f5f",
           "arrowhead": 0,
           "arrowwidth": 1
          },
          "autotypenumbers": "strict",
          "coloraxis": {
           "colorbar": {
            "outlinewidth": 0,
            "ticks": ""
           }
          },
          "colorscale": {
           "diverging": [
            [
             0,
             "#8e0152"
            ],
            [
             0.1,
             "#c51b7d"
            ],
            [
             0.2,
             "#de77ae"
            ],
            [
             0.3,
             "#f1b6da"
            ],
            [
             0.4,
             "#fde0ef"
            ],
            [
             0.5,
             "#f7f7f7"
            ],
            [
             0.6,
             "#e6f5d0"
            ],
            [
             0.7,
             "#b8e186"
            ],
            [
             0.8,
             "#7fbc41"
            ],
            [
             0.9,
             "#4d9221"
            ],
            [
             1,
             "#276419"
            ]
           ],
           "sequential": [
            [
             0,
             "#0d0887"
            ],
            [
             0.1111111111111111,
             "#46039f"
            ],
            [
             0.2222222222222222,
             "#7201a8"
            ],
            [
             0.3333333333333333,
             "#9c179e"
            ],
            [
             0.4444444444444444,
             "#bd3786"
            ],
            [
             0.5555555555555556,
             "#d8576b"
            ],
            [
             0.6666666666666666,
             "#ed7953"
            ],
            [
             0.7777777777777778,
             "#fb9f3a"
            ],
            [
             0.8888888888888888,
             "#fdca26"
            ],
            [
             1,
             "#f0f921"
            ]
           ],
           "sequentialminus": [
            [
             0,
             "#0d0887"
            ],
            [
             0.1111111111111111,
             "#46039f"
            ],
            [
             0.2222222222222222,
             "#7201a8"
            ],
            [
             0.3333333333333333,
             "#9c179e"
            ],
            [
             0.4444444444444444,
             "#bd3786"
            ],
            [
             0.5555555555555556,
             "#d8576b"
            ],
            [
             0.6666666666666666,
             "#ed7953"
            ],
            [
             0.7777777777777778,
             "#fb9f3a"
            ],
            [
             0.8888888888888888,
             "#fdca26"
            ],
            [
             1,
             "#f0f921"
            ]
           ]
          },
          "colorway": [
           "#636efa",
           "#EF553B",
           "#00cc96",
           "#ab63fa",
           "#FFA15A",
           "#19d3f3",
           "#FF6692",
           "#B6E880",
           "#FF97FF",
           "#FECB52"
          ],
          "font": {
           "color": "#2a3f5f"
          },
          "geo": {
           "bgcolor": "white",
           "lakecolor": "white",
           "landcolor": "#E5ECF6",
           "showlakes": true,
           "showland": true,
           "subunitcolor": "white"
          },
          "hoverlabel": {
           "align": "left"
          },
          "hovermode": "closest",
          "mapbox": {
           "style": "light"
          },
          "paper_bgcolor": "white",
          "plot_bgcolor": "#E5ECF6",
          "polar": {
           "angularaxis": {
            "gridcolor": "white",
            "linecolor": "white",
            "ticks": ""
           },
           "bgcolor": "#E5ECF6",
           "radialaxis": {
            "gridcolor": "white",
            "linecolor": "white",
            "ticks": ""
           }
          },
          "scene": {
           "xaxis": {
            "backgroundcolor": "#E5ECF6",
            "gridcolor": "white",
            "gridwidth": 2,
            "linecolor": "white",
            "showbackground": true,
            "ticks": "",
            "zerolinecolor": "white"
           },
           "yaxis": {
            "backgroundcolor": "#E5ECF6",
            "gridcolor": "white",
            "gridwidth": 2,
            "linecolor": "white",
            "showbackground": true,
            "ticks": "",
            "zerolinecolor": "white"
           },
           "zaxis": {
            "backgroundcolor": "#E5ECF6",
            "gridcolor": "white",
            "gridwidth": 2,
            "linecolor": "white",
            "showbackground": true,
            "ticks": "",
            "zerolinecolor": "white"
           }
          },
          "shapedefaults": {
           "line": {
            "color": "#2a3f5f"
           }
          },
          "ternary": {
           "aaxis": {
            "gridcolor": "white",
            "linecolor": "white",
            "ticks": ""
           },
           "baxis": {
            "gridcolor": "white",
            "linecolor": "white",
            "ticks": ""
           },
           "bgcolor": "#E5ECF6",
           "caxis": {
            "gridcolor": "white",
            "linecolor": "white",
            "ticks": ""
           }
          },
          "title": {
           "x": 0.05
          },
          "xaxis": {
           "automargin": true,
           "gridcolor": "white",
           "linecolor": "white",
           "ticks": "",
           "title": {
            "standoff": 15
           },
           "zerolinecolor": "white",
           "zerolinewidth": 2
          },
          "yaxis": {
           "automargin": true,
           "gridcolor": "white",
           "linecolor": "white",
           "ticks": "",
           "title": {
            "standoff": 15
           },
           "zerolinecolor": "white",
           "zerolinewidth": 2
          }
         }
        },
        "xaxis": {
         "anchor": "y",
         "domain": [
          0,
          0.48
         ],
         "title": {
          "text": "FoldEnrichment"
         }
        },
        "xaxis2": {
         "anchor": "y2",
         "domain": [
          0.5,
          0.98
         ],
         "matches": "x",
         "title": {
          "text": "FoldEnrichment"
         }
        },
        "xaxis3": {
         "anchor": "y3",
         "domain": [
          0,
          0.48
         ],
         "matches": "x",
         "showticklabels": false
        },
        "xaxis4": {
         "anchor": "y4",
         "domain": [
          0.5,
          0.98
         ],
         "matches": "x",
         "showticklabels": false
        },
        "yaxis": {
         "anchor": "x",
         "categoryarray": [
          "Tumor promoting Inflammation",
          "Sustaining Proliferative Signaling",
          "Resist Cell Death",
          "Inducing Angiogenesis",
          "Evading Growth Suppressor",
          "Avoiding Immune Destruction",
          "Activating Invasion and Metastasis"
         ],
         "categoryorder": "array",
         "domain": [
          0,
          0.485
         ],
         "title": {
          "text": "Hallmarks"
         }
        },
        "yaxis2": {
         "anchor": "x2",
         "domain": [
          0,
          0.485
         ],
         "matches": "y",
         "showticklabels": false
        },
        "yaxis3": {
         "anchor": "x3",
         "categoryarray": [
          "Tumor promoting Inflammation",
          "Sustaining Proliferative Signaling",
          "Resist Cell Death",
          "Inducing Angiogenesis",
          "Evading Growth Suppressor",
          "Avoiding Immune Destruction",
          "Activating Invasion and Metastasis"
         ],
         "categoryorder": "array",
         "domain": [
          0.515,
          1
         ],
         "matches": "y",
         "title": {
          "text": "Hallmarks"
         }
        },
        "yaxis4": {
         "anchor": "x4",
         "domain": [
          0.515,
          1
         ],
         "matches": "y",
         "showticklabels": false
        }
       }
      }
     },
     "metadata": {},
     "output_type": "display_data"
    }
   ],
   "source": [
    "df = hallmarks_mapping.copy()\n",
    "fig = px.scatter(\n",
    "    df, \n",
    "    x=\"FoldEnrichment\",\n",
    "    y=\"Hallmarks\",\n",
    "    size=\"Count\",\n",
    "    color=\"p.adjust\",\n",
    "    facet_row='dataset',\n",
    "    facet_col='network',\n",
    "    category_orders={\n",
    "        'dataset': sorted(df.dataset.unique()),\n",
    "        'Hallmarks': sorted(df.Hallmarks.unique())\n",
    "    },\n",
    "    color_continuous_scale=px.colors.sequential.RdBu,\n",
    "    hover_name='Term name',\n",
    "    size_max=20,\n",
    "    height=600\n",
    ")\n",
    "fig.show()"
   ]
  },
  {
   "cell_type": "code",
   "execution_count": 13,
   "id": "91fba57d-f564-4c53-8c55-727647f734e3",
   "metadata": {},
   "outputs": [],
   "source": [
    "hallmarks_mapping.to_csv(enrichment_dir+'intercell_hallmarks_mapping.csv', index=False)\n",
    "mapping_stats.to_csv(enrichment_dir+'intercell_hallmarks_mapping_stats.csv', index=False)"
   ]
  },
  {
   "cell_type": "markdown",
   "id": "f9820e86-323b-4f5f-9f1c-221374d3037e",
   "metadata": {
    "jp-MarkdownHeadingCollapsed": true,
    "tags": []
   },
   "source": [
    "## Intracell Genes"
   ]
  },
  {
   "cell_type": "code",
   "execution_count": 15,
   "id": "5c298665-8267-4558-b16a-0c104f284b9b",
   "metadata": {},
   "outputs": [],
   "source": [
    "labels = ['source', 'source_out', 'target', 'target_out']\n",
    "network = ['complete', 'curated']"
   ]
  },
  {
   "cell_type": "code",
   "execution_count": 14,
   "id": "aa4d0bb4-054c-442b-87d3-e1a2b2f28df3",
   "metadata": {},
   "outputs": [
    {
     "data": {
      "text/html": [
       "<div>\n",
       "<style scoped>\n",
       "    .dataframe tbody tr th:only-of-type {\n",
       "        vertical-align: middle;\n",
       "    }\n",
       "\n",
       "    .dataframe tbody tr th {\n",
       "        vertical-align: top;\n",
       "    }\n",
       "\n",
       "    .dataframe thead th {\n",
       "        text-align: right;\n",
       "    }\n",
       "</style>\n",
       "<table border=\"1\" class=\"dataframe\">\n",
       "  <thead>\n",
       "    <tr style=\"text-align: right;\">\n",
       "      <th></th>\n",
       "      <th>ID</th>\n",
       "      <th>Description</th>\n",
       "      <th>GeneRatio</th>\n",
       "      <th>BgRatio</th>\n",
       "      <th>pvalue</th>\n",
       "      <th>p.adjust</th>\n",
       "      <th>qvalue</th>\n",
       "      <th>geneID</th>\n",
       "      <th>Count</th>\n",
       "      <th>FoldEnrichment</th>\n",
       "    </tr>\n",
       "  </thead>\n",
       "  <tbody>\n",
       "    <tr>\n",
       "      <th>0</th>\n",
       "      <td>GO:0007249</td>\n",
       "      <td>I-kappaB kinase/NF-kappaB signaling</td>\n",
       "      <td>24/220</td>\n",
       "      <td>283/16046</td>\n",
       "      <td>1.023892e-12</td>\n",
       "      <td>3.339936e-09</td>\n",
       "      <td>2.737564e-09</td>\n",
       "      <td>BCL10/BCL3/BRD4/CARD19/CARD9/CFLAR/IKBKG/MALT1...</td>\n",
       "      <td>24</td>\n",
       "      <td>6.185416</td>\n",
       "    </tr>\n",
       "    <tr>\n",
       "      <th>1</th>\n",
       "      <td>GO:0051090</td>\n",
       "      <td>regulation of DNA-binding transcription factor...</td>\n",
       "      <td>28/220</td>\n",
       "      <td>435/16046</td>\n",
       "      <td>9.996671e-12</td>\n",
       "      <td>1.630457e-08</td>\n",
       "      <td>1.336397e-08</td>\n",
       "      <td>BCL10/BCL3/CARD9/CFLAR/CRTC3/DHX9/G3BP2/HDAC2/...</td>\n",
       "      <td>28</td>\n",
       "      <td>4.694754</td>\n",
       "    </tr>\n",
       "  </tbody>\n",
       "</table>\n",
       "</div>"
      ],
      "text/plain": [
       "           ID                                        Description GeneRatio  \\\n",
       "0  GO:0007249                I-kappaB kinase/NF-kappaB signaling    24/220   \n",
       "1  GO:0051090  regulation of DNA-binding transcription factor...    28/220   \n",
       "\n",
       "     BgRatio        pvalue      p.adjust        qvalue  \\\n",
       "0  283/16046  1.023892e-12  3.339936e-09  2.737564e-09   \n",
       "1  435/16046  9.996671e-12  1.630457e-08  1.336397e-08   \n",
       "\n",
       "                                              geneID  Count  FoldEnrichment  \n",
       "0  BCL10/BCL3/BRD4/CARD19/CARD9/CFLAR/IKBKG/MALT1...     24        6.185416  \n",
       "1  BCL10/BCL3/CARD9/CFLAR/CRTC3/DHX9/G3BP2/HDAC2/...     28        4.694754  "
      ]
     },
     "execution_count": 14,
     "metadata": {},
     "output_type": "execute_result"
    }
   ],
   "source": [
    "# complete network\n",
    "go_enrichment = [\n",
    "    pd.read_csv(enrichment_dir+'intracell_go/source_go.csv'),\n",
    "    pd.read_csv(enrichment_dir+'intracell_go/source_out_go.csv'),\n",
    "    pd.read_csv(enrichment_dir+'intracell_go/target_go.csv'),\n",
    "    pd.read_csv(enrichment_dir+'intracell_go/target_out_go.csv')\n",
    "]\n",
    "go_enrichment[0].head(2)"
   ]
  },
  {
   "cell_type": "code",
   "execution_count": 15,
   "id": "3c7c9db3-e49a-40be-9035-0c9097969609",
   "metadata": {},
   "outputs": [
    {
     "data": {
      "text/html": [
       "<div>\n",
       "<style scoped>\n",
       "    .dataframe tbody tr th:only-of-type {\n",
       "        vertical-align: middle;\n",
       "    }\n",
       "\n",
       "    .dataframe tbody tr th {\n",
       "        vertical-align: top;\n",
       "    }\n",
       "\n",
       "    .dataframe thead th {\n",
       "        text-align: right;\n",
       "    }\n",
       "</style>\n",
       "<table border=\"1\" class=\"dataframe\">\n",
       "  <thead>\n",
       "    <tr style=\"text-align: right;\">\n",
       "      <th></th>\n",
       "      <th>ID</th>\n",
       "      <th>Description</th>\n",
       "      <th>GeneRatio</th>\n",
       "      <th>BgRatio</th>\n",
       "      <th>pvalue</th>\n",
       "      <th>p.adjust</th>\n",
       "      <th>qvalue</th>\n",
       "      <th>geneID</th>\n",
       "      <th>Count</th>\n",
       "      <th>FoldEnrichment</th>\n",
       "    </tr>\n",
       "  </thead>\n",
       "  <tbody>\n",
       "    <tr>\n",
       "      <th>0</th>\n",
       "      <td>GO:0007264</td>\n",
       "      <td>small GTPase mediated signal transduction</td>\n",
       "      <td>53/245</td>\n",
       "      <td>479/16046</td>\n",
       "      <td>1.119817e-30</td>\n",
       "      <td>3.724511e-27</td>\n",
       "      <td>3.123700e-27</td>\n",
       "      <td>ABR/ARAP1/ARHGAP12/ARHGAP15/ARHGAP24/ARHGAP27/...</td>\n",
       "      <td>53</td>\n",
       "      <td>7.246713</td>\n",
       "    </tr>\n",
       "    <tr>\n",
       "      <th>1</th>\n",
       "      <td>GO:0051056</td>\n",
       "      <td>regulation of small GTPase mediated signal tra...</td>\n",
       "      <td>35/245</td>\n",
       "      <td>296/16046</td>\n",
       "      <td>2.809896e-21</td>\n",
       "      <td>4.672856e-18</td>\n",
       "      <td>3.919065e-18</td>\n",
       "      <td>ABR/ARAP1/ARHGAP12/ARHGAP15/ARHGAP24/ARHGAP27/...</td>\n",
       "      <td>35</td>\n",
       "      <td>7.744208</td>\n",
       "    </tr>\n",
       "  </tbody>\n",
       "</table>\n",
       "</div>"
      ],
      "text/plain": [
       "           ID                                        Description GeneRatio  \\\n",
       "0  GO:0007264          small GTPase mediated signal transduction    53/245   \n",
       "1  GO:0051056  regulation of small GTPase mediated signal tra...    35/245   \n",
       "\n",
       "     BgRatio        pvalue      p.adjust        qvalue  \\\n",
       "0  479/16046  1.119817e-30  3.724511e-27  3.123700e-27   \n",
       "1  296/16046  2.809896e-21  4.672856e-18  3.919065e-18   \n",
       "\n",
       "                                              geneID  Count  FoldEnrichment  \n",
       "0  ABR/ARAP1/ARHGAP12/ARHGAP15/ARHGAP24/ARHGAP27/...     53        7.246713  \n",
       "1  ABR/ARAP1/ARHGAP12/ARHGAP15/ARHGAP24/ARHGAP27/...     35        7.744208  "
      ]
     },
     "execution_count": 15,
     "metadata": {},
     "output_type": "execute_result"
    }
   ],
   "source": [
    "# curated network\n",
    "go_enrichment_curated = [\n",
    "    pd.read_csv(enrichment_dir+'intracell_go/source_curated_go.csv'),\n",
    "    pd.read_csv(enrichment_dir+'intracell_go/source_out_curated_go.csv'),\n",
    "    pd.read_csv(enrichment_dir+'intracell_go/target_curated_go.csv'),\n",
    "    pd.read_csv(enrichment_dir+'intracell_go/target_out_curated_go.csv')\n",
    "]\n",
    "go_enrichment_curated[0].head(2)"
   ]
  },
  {
   "cell_type": "code",
   "execution_count": 16,
   "id": "77ea5086-a494-4553-9ad8-ae24dff486b1",
   "metadata": {},
   "outputs": [
    {
     "data": {
      "text/html": [
       "<div>\n",
       "<style scoped>\n",
       "    .dataframe tbody tr th:only-of-type {\n",
       "        vertical-align: middle;\n",
       "    }\n",
       "\n",
       "    .dataframe tbody tr th {\n",
       "        vertical-align: top;\n",
       "    }\n",
       "\n",
       "    .dataframe thead th {\n",
       "        text-align: right;\n",
       "    }\n",
       "</style>\n",
       "<table border=\"1\" class=\"dataframe\">\n",
       "  <thead>\n",
       "    <tr style=\"text-align: right;\">\n",
       "      <th></th>\n",
       "      <th>Hallmarks</th>\n",
       "      <th>GO terms</th>\n",
       "      <th>Term name</th>\n",
       "      <th>ID</th>\n",
       "      <th>Description</th>\n",
       "      <th>p.adjust</th>\n",
       "      <th>Count</th>\n",
       "      <th>FoldEnrichment</th>\n",
       "      <th>geneID</th>\n",
       "      <th>dataset</th>\n",
       "      <th>network</th>\n",
       "      <th>is_outlier</th>\n",
       "    </tr>\n",
       "  </thead>\n",
       "  <tbody>\n",
       "    <tr>\n",
       "      <th>0</th>\n",
       "      <td>Sustaining Proliferative Signaling</td>\n",
       "      <td>GO:0045787</td>\n",
       "      <td>Positive regulation of cell cycle</td>\n",
       "      <td>GO:0045787</td>\n",
       "      <td>positive regulation of cell cycle</td>\n",
       "      <td>0.005202</td>\n",
       "      <td>14</td>\n",
       "      <td>3.241616</td>\n",
       "      <td>BRD4/CDC42/CDC73/CHEK1/HNRNPU/HSPA2/NPM1/PLSCR...</td>\n",
       "      <td>source</td>\n",
       "      <td>complete</td>\n",
       "      <td>0.0</td>\n",
       "    </tr>\n",
       "  </tbody>\n",
       "</table>\n",
       "</div>"
      ],
      "text/plain": [
       "                            Hallmarks    GO terms  \\\n",
       "0  Sustaining Proliferative Signaling  GO:0045787   \n",
       "\n",
       "                           Term name          ID  \\\n",
       "0  Positive regulation of cell cycle  GO:0045787   \n",
       "\n",
       "                         Description  p.adjust  Count  FoldEnrichment  \\\n",
       "0  positive regulation of cell cycle  0.005202     14        3.241616   \n",
       "\n",
       "                                              geneID dataset   network  \\\n",
       "0  BRD4/CDC42/CDC73/CHEK1/HNRNPU/HSPA2/NPM1/PLSCR...  source  complete   \n",
       "\n",
       "   is_outlier  \n",
       "0         0.0  "
      ]
     },
     "execution_count": 16,
     "metadata": {},
     "output_type": "execute_result"
    }
   ],
   "source": [
    "hallmarks_mapping = []\n",
    "mapping_stats = []\n",
    "for net, df_list in zip(network, [go_enrichment, go_enrichment_curated]):\n",
    "    for label, df in zip(labels, df_list):\n",
    "        enrichment = df.loc[df['p.adjust']<0.05, ['ID', 'Description', 'p.adjust', 'Count', 'FoldEnrichment', 'geneID']]\n",
    "        mapping = pd.merge(hallmarks2goterms, enrichment, left_on='GO terms', right_on='ID')\n",
    "        \n",
    "        if '_' in label:\n",
    "            is_outlier = 1\n",
    "        else:\n",
    "            is_outlier = 0\n",
    "            \n",
    "        mapping['dataset'] = [label.split('_')[0] for i in range(mapping.shape[0])]\n",
    "        mapping['network'] = [net for i in range(mapping.shape[0])]\n",
    "        mapping['is_outlier'] = [is_outlier for i in range(mapping.shape[0])]\n",
    "        hallmarks_mapping.append(mapping)\n",
    "        \n",
    "        mapping_stats.append({\n",
    "            'dataset': label.split('_')[0], \n",
    "            'network': net,\n",
    "            'is_outlier': is_outlier,\n",
    "            'p.adjust<0.05': enrichment.shape[0],\n",
    "            '# of hallmarks': mapping.Hallmarks.drop_duplicates().shape[0],\n",
    "        })\n",
    "mapping_stats = pd.DataFrame(mapping_stats)\n",
    "hallmarks_mapping = pd.concat(hallmarks_mapping)\n",
    "hallmarks_mapping.head(1)"
   ]
  },
  {
   "cell_type": "code",
   "execution_count": 17,
   "id": "3d93145d-61c7-408d-93e8-28ff1dce50b3",
   "metadata": {},
   "outputs": [
    {
     "data": {
      "text/html": [
       "<div>\n",
       "<style scoped>\n",
       "    .dataframe tbody tr th:only-of-type {\n",
       "        vertical-align: middle;\n",
       "    }\n",
       "\n",
       "    .dataframe tbody tr th {\n",
       "        vertical-align: top;\n",
       "    }\n",
       "\n",
       "    .dataframe thead th {\n",
       "        text-align: right;\n",
       "    }\n",
       "</style>\n",
       "<table border=\"1\" class=\"dataframe\">\n",
       "  <thead>\n",
       "    <tr style=\"text-align: right;\">\n",
       "      <th></th>\n",
       "      <th></th>\n",
       "      <th></th>\n",
       "      <th>p.adjust&lt;0.05</th>\n",
       "      <th># of hallmarks</th>\n",
       "    </tr>\n",
       "    <tr>\n",
       "      <th>dataset</th>\n",
       "      <th>network</th>\n",
       "      <th>is_outlier</th>\n",
       "      <th></th>\n",
       "      <th></th>\n",
       "    </tr>\n",
       "  </thead>\n",
       "  <tbody>\n",
       "    <tr>\n",
       "      <th rowspan=\"4\" valign=\"top\">target</th>\n",
       "      <th>complete</th>\n",
       "      <th>1</th>\n",
       "      <td>1878</td>\n",
       "      <td>8</td>\n",
       "    </tr>\n",
       "    <tr>\n",
       "      <th>curated</th>\n",
       "      <th>1</th>\n",
       "      <td>1745</td>\n",
       "      <td>9</td>\n",
       "    </tr>\n",
       "    <tr>\n",
       "      <th>complete</th>\n",
       "      <th>0</th>\n",
       "      <td>23</td>\n",
       "      <td>0</td>\n",
       "    </tr>\n",
       "    <tr>\n",
       "      <th>curated</th>\n",
       "      <th>0</th>\n",
       "      <td>184</td>\n",
       "      <td>3</td>\n",
       "    </tr>\n",
       "    <tr>\n",
       "      <th rowspan=\"4\" valign=\"top\">source</th>\n",
       "      <th>complete</th>\n",
       "      <th>1</th>\n",
       "      <td>188</td>\n",
       "      <td>3</td>\n",
       "    </tr>\n",
       "    <tr>\n",
       "      <th>curated</th>\n",
       "      <th>1</th>\n",
       "      <td>225</td>\n",
       "      <td>4</td>\n",
       "    </tr>\n",
       "    <tr>\n",
       "      <th>complete</th>\n",
       "      <th>0</th>\n",
       "      <td>258</td>\n",
       "      <td>3</td>\n",
       "    </tr>\n",
       "    <tr>\n",
       "      <th>curated</th>\n",
       "      <th>0</th>\n",
       "      <td>174</td>\n",
       "      <td>1</td>\n",
       "    </tr>\n",
       "  </tbody>\n",
       "</table>\n",
       "</div>"
      ],
      "text/plain": [
       "                             p.adjust<0.05  # of hallmarks\n",
       "dataset network  is_outlier                               \n",
       "target  complete 1                    1878               8\n",
       "        curated  1                    1745               9\n",
       "        complete 0                      23               0\n",
       "        curated  0                     184               3\n",
       "source  complete 1                     188               3\n",
       "        curated  1                     225               4\n",
       "        complete 0                     258               3\n",
       "        curated  0                     174               1"
      ]
     },
     "execution_count": 17,
     "metadata": {},
     "output_type": "execute_result"
    }
   ],
   "source": [
    "mapping_stats.sort_values(['dataset', 'is_outlier'], ascending=[False, False]).set_index(['dataset', 'network', 'is_outlier'])"
   ]
  },
  {
   "cell_type": "code",
   "execution_count": 18,
   "id": "50becb9e-1853-4ffe-a283-500a09a322ed",
   "metadata": {},
   "outputs": [
    {
     "data": {
      "application/vnd.plotly.v1+json": {
       "config": {
        "plotlyServerURL": "https://plot.ly"
       },
       "data": [
        {
         "hovertemplate": "<b>%{hovertext}</b><br><br>dataset=target<br>network=complete<br>FoldEnrichment=%{x}<br>Hallmarks=%{y}<br>Count=%{marker.size}<br>p.adjust=%{marker.color}<extra></extra>",
         "hovertext": [
          "Cytokine production involved in immune response",
          "Regulation of inflammatory response",
          "Positive regulation of cell growth",
          "Negative regulation of cell cycle",
          "Positive regulation of cell cycle",
          "Positive regulation of angiogenesis",
          "Regulation of DNA repair",
          "DNA integrity Checkpoint",
          "Negative regulation of cell cycle",
          "Cellular senescence",
          "Regulation of telomere maintenance",
          "Telomere maintenance",
          "Regulation of cellular senescence",
          "Telomere organization",
          "Glycolysis",
          "Cellular response to hypoxia",
          "Negative regulation of cell adhesion"
         ],
         "legendgroup": "",
         "marker": {
          "color": [
           0.000076233920824184,
           1.42151048345039e-8,
           0.0001608105149619,
           4.75092539775736e-10,
           2.53086713111647e-7,
           0.0005256967642009,
           0.0013674547992834,
           0.0000507641775116184,
           4.75092539775736e-10,
           5.5191559501678496e-11,
           0.001689269268574,
           0.00021414997399,
           0.001089955211212,
           0.0000705265427075991,
           0.0043998791894747,
           9.30441207038325e-7,
           0.0005236456252812
          ],
          "coloraxis": "coloraxis",
          "size": [
           23,
           60,
           27,
           65,
           52,
           26,
           30,
           25,
           65,
           30,
           18,
           26,
           11,
           28,
           15,
           29,
           39
          ],
          "sizemode": "area",
          "sizeref": 0.1625,
          "symbol": "circle"
         },
         "mode": "markers",
         "name": "",
         "orientation": "h",
         "showlegend": false,
         "type": "scatter",
         "x": [
          2.72631104610361,
          2.32435068540774,
          2.38505028929419,
          2.43638020042514,
          2.28942393436775,
          2.25365168539326,
          1.990711831043,
          2.66704341466658,
          2.43638020042514,
          4.42615715625517,
          2.47163627339398,
          2.38797529578094,
          3.54778798416112,
          2.45773114668009,
          2.47654031361897,
          3.02398606715579,
          1.90449438202247
         ],
         "xaxis": "x3",
         "y": [
          "Tumor promoting Inflammation",
          "Tumor promoting Inflammation",
          "Sustaining Proliferative Signaling",
          "Sustaining Proliferative Signaling",
          "Sustaining Proliferative Signaling",
          "Inducing Angiogenesis",
          "Genome Instability and Mutation",
          "Genome Instability and Mutation",
          "Evading Growth Suppressor",
          "Enabling Replicative Immortality",
          "Enabling Replicative Immortality",
          "Enabling Replicative Immortality",
          "Enabling Replicative Immortality",
          "Enabling Replicative Immortality",
          "Deregulating Cellular Energetic",
          "Deregulating Cellular Energetic",
          "Activating Invasion and Metastasis"
         ],
         "yaxis": "y3"
        },
        {
         "hovertemplate": "<b>%{hovertext}</b><br><br>dataset=target<br>network=curated<br>FoldEnrichment=%{x}<br>Hallmarks=%{y}<br>Count=%{marker.size}<br>p.adjust=%{marker.color}<extra></extra>",
         "hovertext": [
          "Cytokine production involved in immune response",
          "Regulation of inflammatory response",
          "Positive regulation of cell growth",
          "Positive regulation of cell cycle",
          "Negative regulation of cell cycle",
          "Positive regulation of angiogenesis",
          "DNA integrity Checkpoint",
          "Negative regulation of cell cycle",
          "Telomere organization",
          "Telomere maintenance",
          "Regulation of telomere maintenance",
          "Cellular senescence",
          "Cellular response to hypoxia",
          "Regulation of immune response to tumor cell",
          "Negative regulation of cell adhesion"
         ],
         "legendgroup": "",
         "marker": {
          "color": [
           0.0002461067369256,
           2.48090755349509e-7,
           0.0117243725655464,
           0.0005565002930803,
           3.8384717535782105e-9,
           0.000161236237566,
           0.00000811900960860447,
           3.8384717535782105e-9,
           0.0057445048143893,
           0.0181293149873969,
           0.0110413420984959,
           9.17963877476825e-7,
           5.01208427292716e-8,
           0.0400827233035232,
           0.000495276843389
          ],
          "coloraxis": "coloraxis",
          "size": [
           17,
           43,
           16,
           31,
           48,
           21,
           21,
           48,
           17,
           15,
           12,
           19,
           25,
           4,
           29
          ],
          "sizemode": "area",
          "sizeref": 0.1625,
          "symbol": "circle"
         },
         "mode": "markers",
         "name": "",
         "orientation": "h",
         "showlegend": false,
         "type": "scatter",
         "x": [
          3.1044874640081,
          2.5663286939574,
          2.1774449354152,
          2.10270327394162,
          2.77182855292043,
          2.80431091877497,
          3.45145959233842,
          2.77182855292043,
          2.29889261575284,
          2.12246805583725,
          2.53855585292218,
          4.31869563985608,
          4.01619895277475,
          4.27323568575233,
          2.18175765645806
         ],
         "xaxis": "x4",
         "y": [
          "Tumor promoting Inflammation",
          "Tumor promoting Inflammation",
          "Sustaining Proliferative Signaling",
          "Sustaining Proliferative Signaling",
          "Sustaining Proliferative Signaling",
          "Inducing Angiogenesis",
          "Genome Instability and Mutation",
          "Evading Growth Suppressor",
          "Enabling Replicative Immortality",
          "Enabling Replicative Immortality",
          "Enabling Replicative Immortality",
          "Enabling Replicative Immortality",
          "Deregulating Cellular Energetic",
          "Avoiding Immune Destruction",
          "Activating Invasion and Metastasis"
         ],
         "yaxis": "y4"
        },
        {
         "hovertemplate": "<b>%{hovertext}</b><br><br>dataset=source<br>network=complete<br>FoldEnrichment=%{x}<br>Hallmarks=%{y}<br>Count=%{marker.size}<br>p.adjust=%{marker.color}<extra></extra>",
         "hovertext": [
          "Regulation of inflammatory response",
          "Cellular senescence",
          "Negative regulation of cell adhesion"
         ],
         "legendgroup": "",
         "marker": {
          "color": [
           0.0166275096492919,
           0.0051412724486304,
           0.0497033141054235
          ],
          "coloraxis": "coloraxis",
          "size": [
           4,
           3,
           3
          ],
          "sizemode": "area",
          "sizeref": 0.1625,
          "symbol": "circle"
         },
         "mode": "markers",
         "name": "",
         "orientation": "h",
         "showlegend": false,
         "type": "scatter",
         "x": [
          7.79499635657032,
          22.2654949121184,
          7.3695652173913
         ],
         "xaxis": "x",
         "y": [
          "Tumor promoting Inflammation",
          "Enabling Replicative Immortality",
          "Activating Invasion and Metastasis"
         ],
         "yaxis": "y"
        },
        {
         "hovertemplate": "<b>%{hovertext}</b><br><br>dataset=source<br>network=curated<br>FoldEnrichment=%{x}<br>Hallmarks=%{y}<br>Count=%{marker.size}<br>p.adjust=%{marker.color}<extra></extra>",
         "hovertext": [
          "Regulation of inflammatory response",
          "Positive regulation of cell cycle",
          "Cellular senescence",
          "Negative regulation of cell adhesion"
         ],
         "legendgroup": "",
         "marker": {
          "color": [
           0.002113465185035,
           0.0096652067683861,
           0.0040922915742878,
           0.0072253398488924
          ],
          "coloraxis": "coloraxis",
          "size": [
           5,
           4,
           3,
           4
          ],
          "sizemode": "area",
          "sizeref": 0.1625,
          "symbol": "circle"
         },
         "mode": "markers",
         "name": "",
         "orientation": "h",
         "showlegend": false,
         "type": "scatter",
         "x": [
          9.7437454457129,
          8.85907522429262,
          22.2654949121184,
          9.82608695652174
         ],
         "xaxis": "x2",
         "y": [
          "Tumor promoting Inflammation",
          "Sustaining Proliferative Signaling",
          "Enabling Replicative Immortality",
          "Activating Invasion and Metastasis"
         ],
         "yaxis": "y2"
        }
       ],
       "layout": {
        "annotations": [
         {
          "font": {},
          "showarrow": false,
          "text": "network=complete",
          "x": 0.24,
          "xanchor": "center",
          "xref": "paper",
          "y": 1,
          "yanchor": "bottom",
          "yref": "paper"
         },
         {
          "font": {},
          "showarrow": false,
          "text": "network=curated",
          "x": 0.74,
          "xanchor": "center",
          "xref": "paper",
          "y": 1,
          "yanchor": "bottom",
          "yref": "paper"
         },
         {
          "font": {},
          "showarrow": false,
          "text": "dataset=source",
          "textangle": 90,
          "x": 0.98,
          "xanchor": "left",
          "xref": "paper",
          "y": 0.2425,
          "yanchor": "middle",
          "yref": "paper"
         },
         {
          "font": {},
          "showarrow": false,
          "text": "dataset=target",
          "textangle": 90,
          "x": 0.98,
          "xanchor": "left",
          "xref": "paper",
          "y": 0.7575000000000001,
          "yanchor": "middle",
          "yref": "paper"
         }
        ],
        "coloraxis": {
         "colorbar": {
          "title": {
           "text": "p.adjust"
          }
         },
         "colorscale": [
          [
           0,
           "rgb(103,0,31)"
          ],
          [
           0.1,
           "rgb(178,24,43)"
          ],
          [
           0.2,
           "rgb(214,96,77)"
          ],
          [
           0.3,
           "rgb(244,165,130)"
          ],
          [
           0.4,
           "rgb(253,219,199)"
          ],
          [
           0.5,
           "rgb(247,247,247)"
          ],
          [
           0.6,
           "rgb(209,229,240)"
          ],
          [
           0.7,
           "rgb(146,197,222)"
          ],
          [
           0.8,
           "rgb(67,147,195)"
          ],
          [
           0.9,
           "rgb(33,102,172)"
          ],
          [
           1,
           "rgb(5,48,97)"
          ]
         ]
        },
        "height": 600,
        "legend": {
         "itemsizing": "constant",
         "tracegroupgap": 0
        },
        "margin": {
         "t": 60
        },
        "template": {
         "data": {
          "bar": [
           {
            "error_x": {
             "color": "#2a3f5f"
            },
            "error_y": {
             "color": "#2a3f5f"
            },
            "marker": {
             "line": {
              "color": "#E5ECF6",
              "width": 0.5
             },
             "pattern": {
              "fillmode": "overlay",
              "size": 10,
              "solidity": 0.2
             }
            },
            "type": "bar"
           }
          ],
          "barpolar": [
           {
            "marker": {
             "line": {
              "color": "#E5ECF6",
              "width": 0.5
             },
             "pattern": {
              "fillmode": "overlay",
              "size": 10,
              "solidity": 0.2
             }
            },
            "type": "barpolar"
           }
          ],
          "carpet": [
           {
            "aaxis": {
             "endlinecolor": "#2a3f5f",
             "gridcolor": "white",
             "linecolor": "white",
             "minorgridcolor": "white",
             "startlinecolor": "#2a3f5f"
            },
            "baxis": {
             "endlinecolor": "#2a3f5f",
             "gridcolor": "white",
             "linecolor": "white",
             "minorgridcolor": "white",
             "startlinecolor": "#2a3f5f"
            },
            "type": "carpet"
           }
          ],
          "choropleth": [
           {
            "colorbar": {
             "outlinewidth": 0,
             "ticks": ""
            },
            "type": "choropleth"
           }
          ],
          "contour": [
           {
            "colorbar": {
             "outlinewidth": 0,
             "ticks": ""
            },
            "colorscale": [
             [
              0,
              "#0d0887"
             ],
             [
              0.1111111111111111,
              "#46039f"
             ],
             [
              0.2222222222222222,
              "#7201a8"
             ],
             [
              0.3333333333333333,
              "#9c179e"
             ],
             [
              0.4444444444444444,
              "#bd3786"
             ],
             [
              0.5555555555555556,
              "#d8576b"
             ],
             [
              0.6666666666666666,
              "#ed7953"
             ],
             [
              0.7777777777777778,
              "#fb9f3a"
             ],
             [
              0.8888888888888888,
              "#fdca26"
             ],
             [
              1,
              "#f0f921"
             ]
            ],
            "type": "contour"
           }
          ],
          "contourcarpet": [
           {
            "colorbar": {
             "outlinewidth": 0,
             "ticks": ""
            },
            "type": "contourcarpet"
           }
          ],
          "heatmap": [
           {
            "colorbar": {
             "outlinewidth": 0,
             "ticks": ""
            },
            "colorscale": [
             [
              0,
              "#0d0887"
             ],
             [
              0.1111111111111111,
              "#46039f"
             ],
             [
              0.2222222222222222,
              "#7201a8"
             ],
             [
              0.3333333333333333,
              "#9c179e"
             ],
             [
              0.4444444444444444,
              "#bd3786"
             ],
             [
              0.5555555555555556,
              "#d8576b"
             ],
             [
              0.6666666666666666,
              "#ed7953"
             ],
             [
              0.7777777777777778,
              "#fb9f3a"
             ],
             [
              0.8888888888888888,
              "#fdca26"
             ],
             [
              1,
              "#f0f921"
             ]
            ],
            "type": "heatmap"
           }
          ],
          "heatmapgl": [
           {
            "colorbar": {
             "outlinewidth": 0,
             "ticks": ""
            },
            "colorscale": [
             [
              0,
              "#0d0887"
             ],
             [
              0.1111111111111111,
              "#46039f"
             ],
             [
              0.2222222222222222,
              "#7201a8"
             ],
             [
              0.3333333333333333,
              "#9c179e"
             ],
             [
              0.4444444444444444,
              "#bd3786"
             ],
             [
              0.5555555555555556,
              "#d8576b"
             ],
             [
              0.6666666666666666,
              "#ed7953"
             ],
             [
              0.7777777777777778,
              "#fb9f3a"
             ],
             [
              0.8888888888888888,
              "#fdca26"
             ],
             [
              1,
              "#f0f921"
             ]
            ],
            "type": "heatmapgl"
           }
          ],
          "histogram": [
           {
            "marker": {
             "pattern": {
              "fillmode": "overlay",
              "size": 10,
              "solidity": 0.2
             }
            },
            "type": "histogram"
           }
          ],
          "histogram2d": [
           {
            "colorbar": {
             "outlinewidth": 0,
             "ticks": ""
            },
            "colorscale": [
             [
              0,
              "#0d0887"
             ],
             [
              0.1111111111111111,
              "#46039f"
             ],
             [
              0.2222222222222222,
              "#7201a8"
             ],
             [
              0.3333333333333333,
              "#9c179e"
             ],
             [
              0.4444444444444444,
              "#bd3786"
             ],
             [
              0.5555555555555556,
              "#d8576b"
             ],
             [
              0.6666666666666666,
              "#ed7953"
             ],
             [
              0.7777777777777778,
              "#fb9f3a"
             ],
             [
              0.8888888888888888,
              "#fdca26"
             ],
             [
              1,
              "#f0f921"
             ]
            ],
            "type": "histogram2d"
           }
          ],
          "histogram2dcontour": [
           {
            "colorbar": {
             "outlinewidth": 0,
             "ticks": ""
            },
            "colorscale": [
             [
              0,
              "#0d0887"
             ],
             [
              0.1111111111111111,
              "#46039f"
             ],
             [
              0.2222222222222222,
              "#7201a8"
             ],
             [
              0.3333333333333333,
              "#9c179e"
             ],
             [
              0.4444444444444444,
              "#bd3786"
             ],
             [
              0.5555555555555556,
              "#d8576b"
             ],
             [
              0.6666666666666666,
              "#ed7953"
             ],
             [
              0.7777777777777778,
              "#fb9f3a"
             ],
             [
              0.8888888888888888,
              "#fdca26"
             ],
             [
              1,
              "#f0f921"
             ]
            ],
            "type": "histogram2dcontour"
           }
          ],
          "mesh3d": [
           {
            "colorbar": {
             "outlinewidth": 0,
             "ticks": ""
            },
            "type": "mesh3d"
           }
          ],
          "parcoords": [
           {
            "line": {
             "colorbar": {
              "outlinewidth": 0,
              "ticks": ""
             }
            },
            "type": "parcoords"
           }
          ],
          "pie": [
           {
            "automargin": true,
            "type": "pie"
           }
          ],
          "scatter": [
           {
            "fillpattern": {
             "fillmode": "overlay",
             "size": 10,
             "solidity": 0.2
            },
            "type": "scatter"
           }
          ],
          "scatter3d": [
           {
            "line": {
             "colorbar": {
              "outlinewidth": 0,
              "ticks": ""
             }
            },
            "marker": {
             "colorbar": {
              "outlinewidth": 0,
              "ticks": ""
             }
            },
            "type": "scatter3d"
           }
          ],
          "scattercarpet": [
           {
            "marker": {
             "colorbar": {
              "outlinewidth": 0,
              "ticks": ""
             }
            },
            "type": "scattercarpet"
           }
          ],
          "scattergeo": [
           {
            "marker": {
             "colorbar": {
              "outlinewidth": 0,
              "ticks": ""
             }
            },
            "type": "scattergeo"
           }
          ],
          "scattergl": [
           {
            "marker": {
             "colorbar": {
              "outlinewidth": 0,
              "ticks": ""
             }
            },
            "type": "scattergl"
           }
          ],
          "scattermapbox": [
           {
            "marker": {
             "colorbar": {
              "outlinewidth": 0,
              "ticks": ""
             }
            },
            "type": "scattermapbox"
           }
          ],
          "scatterpolar": [
           {
            "marker": {
             "colorbar": {
              "outlinewidth": 0,
              "ticks": ""
             }
            },
            "type": "scatterpolar"
           }
          ],
          "scatterpolargl": [
           {
            "marker": {
             "colorbar": {
              "outlinewidth": 0,
              "ticks": ""
             }
            },
            "type": "scatterpolargl"
           }
          ],
          "scatterternary": [
           {
            "marker": {
             "colorbar": {
              "outlinewidth": 0,
              "ticks": ""
             }
            },
            "type": "scatterternary"
           }
          ],
          "surface": [
           {
            "colorbar": {
             "outlinewidth": 0,
             "ticks": ""
            },
            "colorscale": [
             [
              0,
              "#0d0887"
             ],
             [
              0.1111111111111111,
              "#46039f"
             ],
             [
              0.2222222222222222,
              "#7201a8"
             ],
             [
              0.3333333333333333,
              "#9c179e"
             ],
             [
              0.4444444444444444,
              "#bd3786"
             ],
             [
              0.5555555555555556,
              "#d8576b"
             ],
             [
              0.6666666666666666,
              "#ed7953"
             ],
             [
              0.7777777777777778,
              "#fb9f3a"
             ],
             [
              0.8888888888888888,
              "#fdca26"
             ],
             [
              1,
              "#f0f921"
             ]
            ],
            "type": "surface"
           }
          ],
          "table": [
           {
            "cells": {
             "fill": {
              "color": "#EBF0F8"
             },
             "line": {
              "color": "white"
             }
            },
            "header": {
             "fill": {
              "color": "#C8D4E3"
             },
             "line": {
              "color": "white"
             }
            },
            "type": "table"
           }
          ]
         },
         "layout": {
          "annotationdefaults": {
           "arrowcolor": "#2a3f5f",
           "arrowhead": 0,
           "arrowwidth": 1
          },
          "autotypenumbers": "strict",
          "coloraxis": {
           "colorbar": {
            "outlinewidth": 0,
            "ticks": ""
           }
          },
          "colorscale": {
           "diverging": [
            [
             0,
             "#8e0152"
            ],
            [
             0.1,
             "#c51b7d"
            ],
            [
             0.2,
             "#de77ae"
            ],
            [
             0.3,
             "#f1b6da"
            ],
            [
             0.4,
             "#fde0ef"
            ],
            [
             0.5,
             "#f7f7f7"
            ],
            [
             0.6,
             "#e6f5d0"
            ],
            [
             0.7,
             "#b8e186"
            ],
            [
             0.8,
             "#7fbc41"
            ],
            [
             0.9,
             "#4d9221"
            ],
            [
             1,
             "#276419"
            ]
           ],
           "sequential": [
            [
             0,
             "#0d0887"
            ],
            [
             0.1111111111111111,
             "#46039f"
            ],
            [
             0.2222222222222222,
             "#7201a8"
            ],
            [
             0.3333333333333333,
             "#9c179e"
            ],
            [
             0.4444444444444444,
             "#bd3786"
            ],
            [
             0.5555555555555556,
             "#d8576b"
            ],
            [
             0.6666666666666666,
             "#ed7953"
            ],
            [
             0.7777777777777778,
             "#fb9f3a"
            ],
            [
             0.8888888888888888,
             "#fdca26"
            ],
            [
             1,
             "#f0f921"
            ]
           ],
           "sequentialminus": [
            [
             0,
             "#0d0887"
            ],
            [
             0.1111111111111111,
             "#46039f"
            ],
            [
             0.2222222222222222,
             "#7201a8"
            ],
            [
             0.3333333333333333,
             "#9c179e"
            ],
            [
             0.4444444444444444,
             "#bd3786"
            ],
            [
             0.5555555555555556,
             "#d8576b"
            ],
            [
             0.6666666666666666,
             "#ed7953"
            ],
            [
             0.7777777777777778,
             "#fb9f3a"
            ],
            [
             0.8888888888888888,
             "#fdca26"
            ],
            [
             1,
             "#f0f921"
            ]
           ]
          },
          "colorway": [
           "#636efa",
           "#EF553B",
           "#00cc96",
           "#ab63fa",
           "#FFA15A",
           "#19d3f3",
           "#FF6692",
           "#B6E880",
           "#FF97FF",
           "#FECB52"
          ],
          "font": {
           "color": "#2a3f5f"
          },
          "geo": {
           "bgcolor": "white",
           "lakecolor": "white",
           "landcolor": "#E5ECF6",
           "showlakes": true,
           "showland": true,
           "subunitcolor": "white"
          },
          "hoverlabel": {
           "align": "left"
          },
          "hovermode": "closest",
          "mapbox": {
           "style": "light"
          },
          "paper_bgcolor": "white",
          "plot_bgcolor": "#E5ECF6",
          "polar": {
           "angularaxis": {
            "gridcolor": "white",
            "linecolor": "white",
            "ticks": ""
           },
           "bgcolor": "#E5ECF6",
           "radialaxis": {
            "gridcolor": "white",
            "linecolor": "white",
            "ticks": ""
           }
          },
          "scene": {
           "xaxis": {
            "backgroundcolor": "#E5ECF6",
            "gridcolor": "white",
            "gridwidth": 2,
            "linecolor": "white",
            "showbackground": true,
            "ticks": "",
            "zerolinecolor": "white"
           },
           "yaxis": {
            "backgroundcolor": "#E5ECF6",
            "gridcolor": "white",
            "gridwidth": 2,
            "linecolor": "white",
            "showbackground": true,
            "ticks": "",
            "zerolinecolor": "white"
           },
           "zaxis": {
            "backgroundcolor": "#E5ECF6",
            "gridcolor": "white",
            "gridwidth": 2,
            "linecolor": "white",
            "showbackground": true,
            "ticks": "",
            "zerolinecolor": "white"
           }
          },
          "shapedefaults": {
           "line": {
            "color": "#2a3f5f"
           }
          },
          "ternary": {
           "aaxis": {
            "gridcolor": "white",
            "linecolor": "white",
            "ticks": ""
           },
           "baxis": {
            "gridcolor": "white",
            "linecolor": "white",
            "ticks": ""
           },
           "bgcolor": "#E5ECF6",
           "caxis": {
            "gridcolor": "white",
            "linecolor": "white",
            "ticks": ""
           }
          },
          "title": {
           "x": 0.05
          },
          "xaxis": {
           "automargin": true,
           "gridcolor": "white",
           "linecolor": "white",
           "ticks": "",
           "title": {
            "standoff": 15
           },
           "zerolinecolor": "white",
           "zerolinewidth": 2
          },
          "yaxis": {
           "automargin": true,
           "gridcolor": "white",
           "linecolor": "white",
           "ticks": "",
           "title": {
            "standoff": 15
           },
           "zerolinecolor": "white",
           "zerolinewidth": 2
          }
         }
        },
        "xaxis": {
         "anchor": "y",
         "domain": [
          0,
          0.48
         ],
         "title": {
          "text": "FoldEnrichment"
         }
        },
        "xaxis2": {
         "anchor": "y2",
         "domain": [
          0.5,
          0.98
         ],
         "matches": "x",
         "title": {
          "text": "FoldEnrichment"
         }
        },
        "xaxis3": {
         "anchor": "y3",
         "domain": [
          0,
          0.48
         ],
         "matches": "x",
         "showticklabels": false
        },
        "xaxis4": {
         "anchor": "y4",
         "domain": [
          0.5,
          0.98
         ],
         "matches": "x",
         "showticklabels": false
        },
        "yaxis": {
         "anchor": "x",
         "domain": [
          0,
          0.485
         ],
         "title": {
          "text": "Hallmarks"
         }
        },
        "yaxis2": {
         "anchor": "x2",
         "domain": [
          0,
          0.485
         ],
         "matches": "y",
         "showticklabels": false
        },
        "yaxis3": {
         "anchor": "x3",
         "domain": [
          0.515,
          1
         ],
         "matches": "y",
         "title": {
          "text": "Hallmarks"
         }
        },
        "yaxis4": {
         "anchor": "x4",
         "domain": [
          0.515,
          1
         ],
         "matches": "y",
         "showticklabels": false
        }
       }
      }
     },
     "metadata": {},
     "output_type": "display_data"
    }
   ],
   "source": [
    "df = hallmarks_mapping[\n",
    "    hallmarks_mapping.is_outlier==1\n",
    "].sort_values('Hallmarks', ascending=False)\n",
    "fig = px.scatter(\n",
    "    df, \n",
    "    x=\"FoldEnrichment\",\n",
    "    y=\"Hallmarks\",\n",
    "    size=\"Count\",\n",
    "    color=\"p.adjust\",\n",
    "    facet_row='dataset',\n",
    "    facet_col='network',\n",
    "    color_continuous_scale=px.colors.sequential.RdBu,\n",
    "    hover_name='Term name',\n",
    "    size_max=20,\n",
    "    height=600\n",
    ")\n",
    "fig.show()"
   ]
  },
  {
   "cell_type": "code",
   "execution_count": 19,
   "id": "2517087d-f0a0-4257-8be9-daf428ff5841",
   "metadata": {},
   "outputs": [],
   "source": [
    "hallmarks_mapping.to_csv(enrichment_dir+'intracell_hallmarks_mapping.csv', index=False)\n",
    "mapping_stats.to_csv(enrichment_dir+'intracell_hallmarks_mapping_stats.csv', index=False)"
   ]
  }
 ],
 "metadata": {
  "kernelspec": {
   "display_name": "Python 3 (ipykernel)",
   "language": "python",
   "name": "python3"
  },
  "language_info": {
   "codemirror_mode": {
    "name": "ipython",
    "version": 3
   },
   "file_extension": ".py",
   "mimetype": "text/x-python",
   "name": "python",
   "nbconvert_exporter": "python",
   "pygments_lexer": "ipython3",
   "version": "3.10.12"
  }
 },
 "nbformat": 4,
 "nbformat_minor": 5
}

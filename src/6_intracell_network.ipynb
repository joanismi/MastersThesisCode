{
 "cells": [
  {
   "cell_type": "code",
   "execution_count": 1,
   "id": "c1955549-fbb1-4e1c-bb0c-fee4379e2152",
   "metadata": {},
   "outputs": [],
   "source": [
    "import pandas as pd\n",
    "import numpy as np\n",
    "from scipy import stats\n",
    "from statsmodels.stats import multitest\n",
    "import igraph as ig\n",
    "import omnipath as op\n",
    "from functions import id_mapping, utility_functions\n",
    "from tqdm.notebook import tqdm\n",
    "import importlib\n",
    "from joblib import Parallel, delayed\n",
    "\n",
    "from IPython.display import display"
   ]
  },
  {
   "cell_type": "code",
   "execution_count": 2,
   "id": "f2193df6",
   "metadata": {},
   "outputs": [],
   "source": [
    "raw_data_dir = '../data/raw/'\n",
    "gene_exp_dir = '../data/processed/gene_expression/'\n",
    "org_pairs_dir = '../data/processed/organotropism_pairs/'\n",
    "intercell_net_dir = '../data/processed/intercell_networks/'\n",
    "interactions_dir = '../data/processed/intercell_interactions/'\n",
    "intracell_dir = '../data/processed/intracell_network/'\n",
    "utility_functions.check_dir(intracell_dir)"
   ]
  },
  {
   "cell_type": "code",
   "execution_count": 3,
   "id": "9e336e09",
   "metadata": {},
   "outputs": [],
   "source": [
    "metastasis_datasets = ['autopsy', 'hcmdb']\n",
    "tissue_datasets = ['gtex', 'consensus']\n",
    "network_types = ['all', 'curated']"
   ]
  },
  {
   "cell_type": "markdown",
   "id": "9f4abc58-6256-4f2a-8c07-fac6d8a22a2d",
   "metadata": {
    "jp-MarkdownHeadingCollapsed": true,
    "tags": []
   },
   "source": [
    "# Download intracellular graph"
   ]
  },
  {
   "cell_type": "code",
   "execution_count": null,
   "id": "7b8b2492-e0f6-4126-98a9-39e52e656041",
   "metadata": {},
   "outputs": [],
   "source": [
    "intracell_graph = op.interactions.AllInteractions.get(\n",
    "    include=['omnipath', 'dorothea'],\n",
    "    dorothea_levels=['A', 'B', 'C', 'D'],\n",
    "    genesymbols=True,\n",
    "    organism='human'\n",
    ")\n",
    "print(intracell_graph.shape[0])\n",
    "intracell_graph.head()"
   ]
  },
  {
   "cell_type": "code",
   "execution_count": 29,
   "id": "76d7bf17-b537-47c4-821e-e44c4ce12e5f",
   "metadata": {},
   "outputs": [
    {
     "data": {
      "text/html": [
       "<div>\n",
       "<style scoped>\n",
       "    .dataframe tbody tr th:only-of-type {\n",
       "        vertical-align: middle;\n",
       "    }\n",
       "\n",
       "    .dataframe tbody tr th {\n",
       "        vertical-align: top;\n",
       "    }\n",
       "\n",
       "    .dataframe thead th {\n",
       "        text-align: right;\n",
       "    }\n",
       "</style>\n",
       "<table border=\"1\" class=\"dataframe\">\n",
       "  <thead>\n",
       "    <tr style=\"text-align: right;\">\n",
       "      <th></th>\n",
       "      <th>source_genesymbol</th>\n",
       "      <th>target_genesymbol</th>\n",
       "    </tr>\n",
       "  </thead>\n",
       "  <tbody>\n",
       "    <tr>\n",
       "      <th>10129</th>\n",
       "      <td>PRKAA1_PRKAA2_PRKAB1_PRKAB2_PRKAG1_PRKAG2_PRKAG3</td>\n",
       "      <td>ATG13_RB1CC1_ULK1</td>\n",
       "    </tr>\n",
       "    <tr>\n",
       "      <th>10130</th>\n",
       "      <td>ATG13_RB1CC1_ULK1</td>\n",
       "      <td>PRKAA1_PRKAA2_PRKAB1_PRKAB2_PRKAG1_PRKAG2_PRKAG3</td>\n",
       "    </tr>\n",
       "    <tr>\n",
       "      <th>10131</th>\n",
       "      <td>ATG13_RB1CC1_ULK1</td>\n",
       "      <td>AKT1S1_DEPTOR_MLST8_MTOR_RPTOR</td>\n",
       "    </tr>\n",
       "    <tr>\n",
       "      <th>10132</th>\n",
       "      <td>AKT1S1_DEPTOR_MLST8_MTOR_RPTOR</td>\n",
       "      <td>ATG13_RB1CC1_ULK1</td>\n",
       "    </tr>\n",
       "    <tr>\n",
       "      <th>10143</th>\n",
       "      <td>RRAGA_RRAGC</td>\n",
       "      <td>AKT1S1_DEPTOR_MLST8_MTOR_RPTOR</td>\n",
       "    </tr>\n",
       "    <tr>\n",
       "      <th>...</th>\n",
       "      <td>...</td>\n",
       "      <td>...</td>\n",
       "    </tr>\n",
       "    <tr>\n",
       "      <th>22638</th>\n",
       "      <td>FRAS1_FREM2_NPNT</td>\n",
       "      <td>ITGA8_ITGB1</td>\n",
       "    </tr>\n",
       "    <tr>\n",
       "      <th>23594</th>\n",
       "      <td>CLCF1_CRLF1</td>\n",
       "      <td>CNTFR_IL6ST_LIFR</td>\n",
       "    </tr>\n",
       "    <tr>\n",
       "      <th>24479</th>\n",
       "      <td>GP5_GP9</td>\n",
       "      <td>GP1BA_GP1BB</td>\n",
       "    </tr>\n",
       "    <tr>\n",
       "      <th>24999</th>\n",
       "      <td>INHBA_INHBB</td>\n",
       "      <td>ACVR1_ACVR2A</td>\n",
       "    </tr>\n",
       "    <tr>\n",
       "      <th>25000</th>\n",
       "      <td>INHBA_INHBB</td>\n",
       "      <td>ACVR1_ACVR2B</td>\n",
       "    </tr>\n",
       "  </tbody>\n",
       "</table>\n",
       "<p>227 rows × 2 columns</p>\n",
       "</div>"
      ],
      "text/plain": [
       "                                      source_genesymbol  \\\n",
       "10129  PRKAA1_PRKAA2_PRKAB1_PRKAB2_PRKAG1_PRKAG2_PRKAG3   \n",
       "10130                                 ATG13_RB1CC1_ULK1   \n",
       "10131                                 ATG13_RB1CC1_ULK1   \n",
       "10132                    AKT1S1_DEPTOR_MLST8_MTOR_RPTOR   \n",
       "10143                                       RRAGA_RRAGC   \n",
       "...                                                 ...   \n",
       "22638                                  FRAS1_FREM2_NPNT   \n",
       "23594                                       CLCF1_CRLF1   \n",
       "24479                                           GP5_GP9   \n",
       "24999                                       INHBA_INHBB   \n",
       "25000                                       INHBA_INHBB   \n",
       "\n",
       "                                      target_genesymbol  \n",
       "10129                                 ATG13_RB1CC1_ULK1  \n",
       "10130  PRKAA1_PRKAA2_PRKAB1_PRKAB2_PRKAG1_PRKAG2_PRKAG3  \n",
       "10131                    AKT1S1_DEPTOR_MLST8_MTOR_RPTOR  \n",
       "10132                                 ATG13_RB1CC1_ULK1  \n",
       "10143                    AKT1S1_DEPTOR_MLST8_MTOR_RPTOR  \n",
       "...                                                 ...  \n",
       "22638                                       ITGA8_ITGB1  \n",
       "23594                                  CNTFR_IL6ST_LIFR  \n",
       "24479                                       GP1BA_GP1BB  \n",
       "24999                                      ACVR1_ACVR2A  \n",
       "25000                                      ACVR1_ACVR2B  \n",
       "\n",
       "[227 rows x 2 columns]"
      ]
     },
     "execution_count": 29,
     "metadata": {},
     "output_type": "execute_result"
    }
   ],
   "source": [
    "# protein complexes appear in in many interactions\n",
    "intracell_graph.loc[\n",
    "    intracell_graph.source_genesymbol.str.contains(r'[:_]')&\n",
    "    intracell_graph.target_genesymbol.str.contains(r'[:_]'),\n",
    "    ['source_genesymbol', 'target_genesymbol']\n",
    "]"
   ]
  },
  {
   "cell_type": "code",
   "execution_count": 40,
   "id": "03196036-d92b-487c-bed4-0e060c68cf7e",
   "metadata": {},
   "outputs": [
    {
     "name": "stdout",
     "output_type": "stream",
     "text": [
      "317512\n"
     ]
    },
    {
     "data": {
      "text/html": [
       "<div>\n",
       "<style scoped>\n",
       "    .dataframe tbody tr th:only-of-type {\n",
       "        vertical-align: middle;\n",
       "    }\n",
       "\n",
       "    .dataframe tbody tr th {\n",
       "        vertical-align: top;\n",
       "    }\n",
       "\n",
       "    .dataframe thead th {\n",
       "        text-align: right;\n",
       "    }\n",
       "</style>\n",
       "<table border=\"1\" class=\"dataframe\">\n",
       "  <thead>\n",
       "    <tr style=\"text-align: right;\">\n",
       "      <th></th>\n",
       "      <th>source</th>\n",
       "      <th>target</th>\n",
       "    </tr>\n",
       "  </thead>\n",
       "  <tbody>\n",
       "    <tr>\n",
       "      <th>0</th>\n",
       "      <td>CALM3</td>\n",
       "      <td>TRPC1</td>\n",
       "    </tr>\n",
       "    <tr>\n",
       "      <th>1</th>\n",
       "      <td>CALM1</td>\n",
       "      <td>TRPC1</td>\n",
       "    </tr>\n",
       "    <tr>\n",
       "      <th>2</th>\n",
       "      <td>CALM2</td>\n",
       "      <td>TRPC1</td>\n",
       "    </tr>\n",
       "    <tr>\n",
       "      <th>3</th>\n",
       "      <td>CAV1</td>\n",
       "      <td>TRPC1</td>\n",
       "    </tr>\n",
       "    <tr>\n",
       "      <th>4</th>\n",
       "      <td>DRD2</td>\n",
       "      <td>TRPC1</td>\n",
       "    </tr>\n",
       "  </tbody>\n",
       "</table>\n",
       "</div>"
      ],
      "text/plain": [
       "  source target\n",
       "0  CALM3  TRPC1\n",
       "1  CALM1  TRPC1\n",
       "2  CALM2  TRPC1\n",
       "3   CAV1  TRPC1\n",
       "4   DRD2  TRPC1"
      ]
     },
     "execution_count": 40,
     "metadata": {},
     "output_type": "execute_result"
    }
   ],
   "source": [
    "# we will unfold all complexes\n",
    "intracell_graph_simp = id_mapping.unfold_complexes(\n",
    "    intracell_graph[['source_genesymbol', 'target_genesymbol']],\n",
    "    columns=['source_genesymbol', 'target_genesymbol']\n",
    ")\n",
    "intracell_graph_simp.rename(columns={'source_genesymbol': 'source', 'target_genesymbol': 'target'}, inplace=True)\n",
    "print(intracell_graph_simp.shape[0])\n",
    "intracell_graph_simp.head()"
   ]
  },
  {
   "cell_type": "code",
   "execution_count": 41,
   "id": "accdd4a7-268c-4da2-ac9e-92a94f8692a8",
   "metadata": {},
   "outputs": [],
   "source": [
    "intracell_graph_simp.to_csv(intracell_dir+'intracell_network.csv', index=False)"
   ]
  },
  {
   "cell_type": "markdown",
   "id": "4a3402c1",
   "metadata": {},
   "source": [
    "# Random Walks with Restart (pagerank algorithm)\n",
    "Intercellular interactions genes can be membrane receptors and emitters, ancoring and adhesion proteins and genes present in membrane-bound complexes. \n",
    "Our approach will be split into two:\n",
    "* **Intercellular target genes**: We want to see how a signal from the outside propagates inside the cell, starting from these genes. We can use the regular intracellular interactions network and compute Random Walks with Restart RWR for each intercell gene.\n",
    "* **Intercellular source genes**: We want to see how a signal propagates inside the cell, ending in these genes, that send the signal to the outside. In this case, since we want to evaluate how a signal inside the cell propagates to these genes, we need to invert all interaction directions, to be able to start the RWR from these genes. That way, we can find the regions in the intracellular graph that communicate and belong to pathways where the source genes are present, i.e., regions responsible for sending signals to the outside"
   ]
  },
  {
   "cell_type": "markdown",
   "id": "d0a8d527",
   "metadata": {},
   "source": [
    "## Create Graph"
   ]
  },
  {
   "cell_type": "code",
   "execution_count": 4,
   "id": "d8f168cb-802b-48bb-b2c6-b3366f95f0d1",
   "metadata": {},
   "outputs": [
    {
     "name": "stdout",
     "output_type": "stream",
     "text": [
      "10170\n"
     ]
    },
    {
     "data": {
      "text/html": [
       "<div>\n",
       "<style scoped>\n",
       "    .dataframe tbody tr th:only-of-type {\n",
       "        vertical-align: middle;\n",
       "    }\n",
       "\n",
       "    .dataframe tbody tr th {\n",
       "        vertical-align: top;\n",
       "    }\n",
       "\n",
       "    .dataframe thead th {\n",
       "        text-align: right;\n",
       "    }\n",
       "</style>\n",
       "<table border=\"1\" class=\"dataframe\">\n",
       "  <thead>\n",
       "    <tr style=\"text-align: right;\">\n",
       "      <th></th>\n",
       "      <th>source</th>\n",
       "      <th>target</th>\n",
       "    </tr>\n",
       "  </thead>\n",
       "  <tbody>\n",
       "    <tr>\n",
       "      <th>0</th>\n",
       "      <td>APP</td>\n",
       "      <td>GRM7</td>\n",
       "    </tr>\n",
       "    <tr>\n",
       "      <th>1</th>\n",
       "      <td>CXCL16</td>\n",
       "      <td>GRM7</td>\n",
       "    </tr>\n",
       "  </tbody>\n",
       "</table>\n",
       "</div>"
      ],
      "text/plain": [
       "   source target\n",
       "0     APP   GRM7\n",
       "1  CXCL16   GRM7"
      ]
     },
     "metadata": {},
     "output_type": "display_data"
    }
   ],
   "source": [
    "# Load full intercell graph\n",
    "intercell = pd.read_csv(intercell_net_dir+'intercell_graph.csv')\n",
    "print(intercell.shape[0])\n",
    "display(intercell.head(2))"
   ]
  },
  {
   "cell_type": "code",
   "execution_count": 5,
   "id": "dab37fc1-df92-416e-b716-b33301b6ddea",
   "metadata": {},
   "outputs": [
    {
     "name": "stdout",
     "output_type": "stream",
     "text": [
      "25764\n"
     ]
    }
   ],
   "source": [
    "# load expression data\n",
    "# create a list with all genes that are present in GTEx and Consensus\n",
    "all_genes_list = []\n",
    "\n",
    "for td in tissue_datasets:\n",
    "    g = pd.read_csv(\n",
    "        gene_exp_dir+f'{td}/grouped_records.csv',\n",
    "        usecols=['gene_id']\n",
    "    ).drop_duplicates()['gene_id'].to_list()\n",
    "    all_genes_list.extend(g)\n",
    "\n",
    "# remove duplicates\n",
    "all_genes_list = list(set(all_genes_list))\n",
    "print(len(all_genes_list))"
   ]
  },
  {
   "cell_type": "code",
   "execution_count": 6,
   "id": "a066938b-5661-491b-85a3-7a62a5dae908",
   "metadata": {},
   "outputs": [
    {
     "name": "stdout",
     "output_type": "stream",
     "text": [
      "10170\n",
      "9918\n",
      "1470\n"
     ]
    },
    {
     "data": {
      "text/plain": [
       "1196"
      ]
     },
     "execution_count": 6,
     "metadata": {},
     "output_type": "execute_result"
    }
   ],
   "source": [
    "# filter intercell interaction graph to include only genes present in GTEx or Consensus\n",
    "print(intercell.shape[0])\n",
    "intercell_filtered = intercell[\n",
    "    (intercell.source.isin(all_genes_list))&\n",
    "    (intercell.target.isin(all_genes_list))\n",
    "]\n",
    "print(intercell_filtered.shape[0])\n",
    "\n",
    "# split dataset in source and target genes\n",
    "source_genes = sorted(intercell_filtered.source.unique())\n",
    "target_genes = sorted(intercell_filtered.target.unique())\n",
    "print(len(source_genes))\n",
    "len(target_genes)"
   ]
  },
  {
   "cell_type": "code",
   "execution_count": 7,
   "id": "506a73fb-b777-4ef8-8012-92e7dcd13de3",
   "metadata": {},
   "outputs": [
    {
     "data": {
      "text/html": [
       "<div>\n",
       "<style scoped>\n",
       "    .dataframe tbody tr th:only-of-type {\n",
       "        vertical-align: middle;\n",
       "    }\n",
       "\n",
       "    .dataframe tbody tr th {\n",
       "        vertical-align: top;\n",
       "    }\n",
       "\n",
       "    .dataframe thead th {\n",
       "        text-align: right;\n",
       "    }\n",
       "</style>\n",
       "<table border=\"1\" class=\"dataframe\">\n",
       "  <thead>\n",
       "    <tr style=\"text-align: right;\">\n",
       "      <th></th>\n",
       "      <th>source</th>\n",
       "      <th>target</th>\n",
       "    </tr>\n",
       "  </thead>\n",
       "  <tbody>\n",
       "    <tr>\n",
       "      <th>0</th>\n",
       "      <td>CALM3</td>\n",
       "      <td>TRPC1</td>\n",
       "    </tr>\n",
       "    <tr>\n",
       "      <th>1</th>\n",
       "      <td>CALM1</td>\n",
       "      <td>TRPC1</td>\n",
       "    </tr>\n",
       "  </tbody>\n",
       "</table>\n",
       "</div>"
      ],
      "text/plain": [
       "  source target\n",
       "0  CALM3  TRPC1\n",
       "1  CALM1  TRPC1"
      ]
     },
     "execution_count": 7,
     "metadata": {},
     "output_type": "execute_result"
    }
   ],
   "source": [
    "# load intracellular interactions graph\n",
    "intracell = pd.read_csv(raw_data_dir+'intracell_network.csv')\n",
    "intracell.head(2)"
   ]
  },
  {
   "cell_type": "code",
   "execution_count": 8,
   "id": "b2e1555f-2f04-4976-88ee-0e0f23b78514",
   "metadata": {},
   "outputs": [
    {
     "name": "stdout",
     "output_type": "stream",
     "text": [
      "317512\n",
      "311021\n"
     ]
    },
    {
     "data": {
      "text/html": [
       "<div>\n",
       "<style scoped>\n",
       "    .dataframe tbody tr th:only-of-type {\n",
       "        vertical-align: middle;\n",
       "    }\n",
       "\n",
       "    .dataframe tbody tr th {\n",
       "        vertical-align: top;\n",
       "    }\n",
       "\n",
       "    .dataframe thead th {\n",
       "        text-align: right;\n",
       "    }\n",
       "</style>\n",
       "<table border=\"1\" class=\"dataframe\">\n",
       "  <thead>\n",
       "    <tr style=\"text-align: right;\">\n",
       "      <th></th>\n",
       "      <th>source</th>\n",
       "      <th>target</th>\n",
       "    </tr>\n",
       "  </thead>\n",
       "  <tbody>\n",
       "    <tr>\n",
       "      <th>0</th>\n",
       "      <td>CALM3</td>\n",
       "      <td>TRPC1</td>\n",
       "    </tr>\n",
       "    <tr>\n",
       "      <th>1</th>\n",
       "      <td>CALM1</td>\n",
       "      <td>TRPC1</td>\n",
       "    </tr>\n",
       "  </tbody>\n",
       "</table>\n",
       "</div>"
      ],
      "text/plain": [
       "  source target\n",
       "0  CALM3  TRPC1\n",
       "1  CALM1  TRPC1"
      ]
     },
     "execution_count": 8,
     "metadata": {},
     "output_type": "execute_result"
    }
   ],
   "source": [
    "# Keep only genes expressed in GTEx and Consensus \n",
    "print(intracell.shape[0])\n",
    "intracell_graph = intracell[\n",
    "    (intracell.source.isin(all_genes_list))&\n",
    "    (intracell.target.isin(all_genes_list))\n",
    "]\n",
    "print(intracell_graph.shape[0])\n",
    "intracell_graph.head(2)"
   ]
  },
  {
   "cell_type": "code",
   "execution_count": 9,
   "id": "1e6222d1",
   "metadata": {},
   "outputs": [
    {
     "data": {
      "text/html": [
       "<div>\n",
       "<style scoped>\n",
       "    .dataframe tbody tr th:only-of-type {\n",
       "        vertical-align: middle;\n",
       "    }\n",
       "\n",
       "    .dataframe tbody tr th {\n",
       "        vertical-align: top;\n",
       "    }\n",
       "\n",
       "    .dataframe thead th {\n",
       "        text-align: right;\n",
       "    }\n",
       "</style>\n",
       "<table border=\"1\" class=\"dataframe\">\n",
       "  <thead>\n",
       "    <tr style=\"text-align: right;\">\n",
       "      <th></th>\n",
       "      <th>0</th>\n",
       "    </tr>\n",
       "  </thead>\n",
       "  <tbody>\n",
       "    <tr>\n",
       "      <th>23443</th>\n",
       "      <td>A1BG</td>\n",
       "    </tr>\n",
       "    <tr>\n",
       "      <th>52199</th>\n",
       "      <td>A1CF</td>\n",
       "    </tr>\n",
       "    <tr>\n",
       "      <th>14577</th>\n",
       "      <td>A2M</td>\n",
       "    </tr>\n",
       "    <tr>\n",
       "      <th>52201</th>\n",
       "      <td>A2ML1</td>\n",
       "    </tr>\n",
       "    <tr>\n",
       "      <th>48319</th>\n",
       "      <td>A4GALT</td>\n",
       "    </tr>\n",
       "    <tr>\n",
       "      <th>...</th>\n",
       "      <td>...</td>\n",
       "    </tr>\n",
       "    <tr>\n",
       "      <th>88254</th>\n",
       "      <td>ZYG11A</td>\n",
       "    </tr>\n",
       "    <tr>\n",
       "      <th>62190</th>\n",
       "      <td>ZYG11B</td>\n",
       "    </tr>\n",
       "    <tr>\n",
       "      <th>20978</th>\n",
       "      <td>ZYX</td>\n",
       "    </tr>\n",
       "    <tr>\n",
       "      <th>46013</th>\n",
       "      <td>ZZEF1</td>\n",
       "    </tr>\n",
       "    <tr>\n",
       "      <th>126868</th>\n",
       "      <td>ZZZ3</td>\n",
       "    </tr>\n",
       "  </tbody>\n",
       "</table>\n",
       "<p>18215 rows × 1 columns</p>\n",
       "</div>"
      ],
      "text/plain": [
       "             0\n",
       "23443     A1BG\n",
       "52199     A1CF\n",
       "14577      A2M\n",
       "52201    A2ML1\n",
       "48319   A4GALT\n",
       "...        ...\n",
       "88254   ZYG11A\n",
       "62190   ZYG11B\n",
       "20978      ZYX\n",
       "46013    ZZEF1\n",
       "126868    ZZZ3\n",
       "\n",
       "[18215 rows x 1 columns]"
      ]
     },
     "execution_count": 9,
     "metadata": {},
     "output_type": "execute_result"
    }
   ],
   "source": [
    "# intracell genes\n",
    "intracell_genes = pd.DataFrame(pd.concat([intracell_graph['source'], intracell_graph['target']]).drop_duplicates()).sort_values(0)\n",
    "intracell_genes"
   ]
  },
  {
   "cell_type": "code",
   "execution_count": 10,
   "id": "1ae91521-256c-478e-86a3-2d76dea53635",
   "metadata": {},
   "outputs": [
    {
     "name": "stdout",
     "output_type": "stream",
     "text": [
      "311021\n"
     ]
    },
    {
     "data": {
      "text/html": [
       "<div>\n",
       "<style scoped>\n",
       "    .dataframe tbody tr th:only-of-type {\n",
       "        vertical-align: middle;\n",
       "    }\n",
       "\n",
       "    .dataframe tbody tr th {\n",
       "        vertical-align: top;\n",
       "    }\n",
       "\n",
       "    .dataframe thead th {\n",
       "        text-align: right;\n",
       "    }\n",
       "</style>\n",
       "<table border=\"1\" class=\"dataframe\">\n",
       "  <thead>\n",
       "    <tr style=\"text-align: right;\">\n",
       "      <th></th>\n",
       "      <th>source</th>\n",
       "      <th>target</th>\n",
       "    </tr>\n",
       "  </thead>\n",
       "  <tbody>\n",
       "    <tr>\n",
       "      <th>0</th>\n",
       "      <td>CALM3</td>\n",
       "      <td>TRPC1</td>\n",
       "    </tr>\n",
       "    <tr>\n",
       "      <th>1</th>\n",
       "      <td>CALM1</td>\n",
       "      <td>TRPC1</td>\n",
       "    </tr>\n",
       "  </tbody>\n",
       "</table>\n",
       "</div>"
      ],
      "text/plain": [
       "  source target\n",
       "0  CALM3  TRPC1\n",
       "1  CALM1  TRPC1"
      ]
     },
     "metadata": {},
     "output_type": "display_data"
    },
    {
     "name": "stdout",
     "output_type": "stream",
     "text": [
      "311021\n"
     ]
    },
    {
     "data": {
      "text/html": [
       "<div>\n",
       "<style scoped>\n",
       "    .dataframe tbody tr th:only-of-type {\n",
       "        vertical-align: middle;\n",
       "    }\n",
       "\n",
       "    .dataframe tbody tr th {\n",
       "        vertical-align: top;\n",
       "    }\n",
       "\n",
       "    .dataframe thead th {\n",
       "        text-align: right;\n",
       "    }\n",
       "</style>\n",
       "<table border=\"1\" class=\"dataframe\">\n",
       "  <thead>\n",
       "    <tr style=\"text-align: right;\">\n",
       "      <th></th>\n",
       "      <th>source</th>\n",
       "      <th>target</th>\n",
       "    </tr>\n",
       "  </thead>\n",
       "  <tbody>\n",
       "    <tr>\n",
       "      <th>0</th>\n",
       "      <td>TRPC1</td>\n",
       "      <td>CALM3</td>\n",
       "    </tr>\n",
       "    <tr>\n",
       "      <th>1</th>\n",
       "      <td>TRPC1</td>\n",
       "      <td>CALM1</td>\n",
       "    </tr>\n",
       "  </tbody>\n",
       "</table>\n",
       "</div>"
      ],
      "text/plain": [
       "  source target\n",
       "0  TRPC1  CALM3\n",
       "1  TRPC1  CALM1"
      ]
     },
     "execution_count": 10,
     "metadata": {},
     "output_type": "execute_result"
    }
   ],
   "source": [
    "# split graph in source and target graphs\n",
    "# the intercell targets graph will have the same direction as the original graph\n",
    "target_graph = intracell_graph[['source', 'target']]\n",
    "print(target_graph.shape[0])\n",
    "display(target_graph.head(2))\n",
    "\n",
    "# the intercell sources graph will have opposite directions as the original graph\n",
    "source_graph = intracell_graph.rename(\n",
    "    columns={'source': 'target', 'target': 'source'}\n",
    ")\n",
    "\n",
    "source_graph.sort_index(axis=1, inplace=True)\n",
    "print(source_graph.shape[0])\n",
    "source_graph.head(2)"
   ]
  },
  {
   "cell_type": "code",
   "execution_count": 11,
   "id": "858115ad-0e91-43db-8d37-440fa4c73cbe",
   "metadata": {},
   "outputs": [
    {
     "name": "stdout",
     "output_type": "stream",
     "text": [
      "311021\n"
     ]
    },
    {
     "data": {
      "text/plain": [
       "311021"
      ]
     },
     "execution_count": 11,
     "metadata": {},
     "output_type": "execute_result"
    }
   ],
   "source": [
    "target_graph = ig.Graph.DataFrame(edges=target_graph, vertices=intracell_genes, directed=True, use_vids=False)\n",
    "print(target_graph.ecount())\n",
    "\n",
    "source_graph = ig.Graph.DataFrame(edges=source_graph, vertices=intracell_genes, directed=True, use_vids=False)\n",
    "source_graph.ecount()"
   ]
  },
  {
   "cell_type": "code",
   "execution_count": 12,
   "id": "443d4ed8-0789-4eb4-9fed-c62680951add",
   "metadata": {},
   "outputs": [
    {
     "name": "stdout",
     "output_type": "stream",
     "text": [
      "False\n"
     ]
    },
    {
     "data": {
      "text/plain": [
       "False"
      ]
     },
     "execution_count": 12,
     "metadata": {},
     "output_type": "execute_result"
    }
   ],
   "source": [
    "print(target_graph.is_simple())\n",
    "source_graph.is_simple()"
   ]
  },
  {
   "cell_type": "code",
   "execution_count": 13,
   "id": "fbc97944-5237-42c2-8a67-c467127d07c9",
   "metadata": {},
   "outputs": [
    {
     "name": "stdout",
     "output_type": "stream",
     "text": [
      "311011\n"
     ]
    },
    {
     "data": {
      "text/plain": [
       "311011"
      ]
     },
     "execution_count": 13,
     "metadata": {},
     "output_type": "execute_result"
    }
   ],
   "source": [
    "target_graph.simplify()\n",
    "source_graph.simplify()\n",
    "\n",
    "print(target_graph.ecount())\n",
    "source_graph.ecount()"
   ]
  },
  {
   "cell_type": "code",
   "execution_count": 14,
   "id": "c69790a7-b717-4558-80c8-25824155f8f6",
   "metadata": {},
   "outputs": [
    {
     "data": {
      "text/plain": [
       "True"
      ]
     },
     "execution_count": 14,
     "metadata": {},
     "output_type": "execute_result"
    }
   ],
   "source": [
    "target_graph.vs['name']==source_graph.vs['name']"
   ]
  },
  {
   "cell_type": "markdown",
   "id": "0e6eb135-dca9-48b0-9de2-981840b31241",
   "metadata": {
    "tags": []
   },
   "source": [
    "## Compute RWR starting from each intercell gene"
   ]
  },
  {
   "cell_type": "code",
   "execution_count": 15,
   "id": "c90a98c0-c783-4c43-879a-c1b6f60a4b99",
   "metadata": {},
   "outputs": [
    {
     "name": "stdout",
     "output_type": "stream",
     "text": [
      "target\n",
      "\n",
      "source\n",
      "CCL3L3\n",
      "CCL4L2\n",
      "CGB1\n",
      "CGB5\n",
      "DEFB106A\n",
      "IFNA13\n",
      "\n"
     ]
    }
   ],
   "source": [
    "# Remove intercell genes (vertices) not present in the intracell graph\n",
    "gene_lists = {'target': target_genes, 'source': source_genes}\n",
    "\n",
    "for k, genes in gene_lists.items():\n",
    "    print(k)\n",
    "\n",
    "    if k == 'target':\n",
    "        graph = target_graph\n",
    "    else:\n",
    "        graph = source_graph\n",
    "        \n",
    "    l = []\n",
    "    for gene in genes:\n",
    "        if gene in graph.vs['name']:\n",
    "            l.append(gene)\n",
    "        else:\n",
    "            print(gene)\n",
    "    gene_lists[k] = l\n",
    "    print()"
   ]
  },
  {
   "cell_type": "code",
   "execution_count": 16,
   "id": "f4eeb8df-2461-4264-93be-da3a5916a17c",
   "metadata": {},
   "outputs": [
    {
     "name": "stdout",
     "output_type": "stream",
     "text": [
      "1196\n",
      "1196\n",
      "1470\n",
      "1464\n"
     ]
    }
   ],
   "source": [
    "print(len(target_genes))\n",
    "print(len(gene_lists['target']))\n",
    "print(len(source_genes))\n",
    "print(len(gene_lists['source']))"
   ]
  },
  {
   "cell_type": "code",
   "execution_count": 17,
   "id": "c409ce7a-4169-4812-8624-9219dfef74bb",
   "metadata": {
    "tags": []
   },
   "outputs": [
    {
     "data": {
      "application/vnd.jupyter.widget-view+json": {
       "model_id": "a4908b15c55a46d0b1e40c6b3a581830",
       "version_major": 2,
       "version_minor": 0
      },
      "text/plain": [
       "  0%|          | 0/1196 [00:00<?, ?it/s]"
      ]
     },
     "metadata": {},
     "output_type": "display_data"
    },
    {
     "data": {
      "application/vnd.jupyter.widget-view+json": {
       "model_id": "f3b94c20ec15440a9bc6c19b75e136b4",
       "version_major": 2,
       "version_minor": 0
      },
      "text/plain": [
       "  0%|          | 0/1464 [00:00<?, ?it/s]"
      ]
     },
     "metadata": {},
     "output_type": "display_data"
    }
   ],
   "source": [
    "# compute random walks with restart starting from each intercell gene\n",
    "graphs = [target_graph, source_graph]\n",
    "\n",
    "for label, genes, graph in zip(gene_lists.keys(), gene_lists.values(), graphs):\n",
    "\n",
    "    probs_array = []\n",
    "    for gene in tqdm(genes):\n",
    "        probs = graph.personalized_pagerank(reset_vertices=gene, damping=0.85)\n",
    "        probs_array.append(probs)\n",
    "\n",
    "    np.save(intracell_dir+f'{label}_rwr.npy', probs_array)"
   ]
  },
  {
   "cell_type": "code",
   "execution_count": 18,
   "id": "918266c7-d5bf-48da-848e-d5122d330324",
   "metadata": {},
   "outputs": [],
   "source": [
    "# export graphs\n",
    "target_graph.write_pickle(intracell_dir+'target_graph.pickle')\n",
    "source_graph.write_pickle(intracell_dir+'source_graph.pickle')"
   ]
  },
  {
   "cell_type": "code",
   "execution_count": 19,
   "id": "8d5c9e02-e3d0-44a2-a54e-0e46d32c2cdc",
   "metadata": {},
   "outputs": [],
   "source": [
    "# export intracell gene list\n",
    "# the source and target graphs have the same nodes, only the direction of the edges is different\n",
    "pd.Series(target_graph.vs['name']).to_csv(intracell_dir+'intracell_genes.csv', index=False)"
   ]
  },
  {
   "cell_type": "markdown",
   "id": "27a511c6",
   "metadata": {},
   "source": [
    "## Create Labels"
   ]
  },
  {
   "cell_type": "code",
   "execution_count": 111,
   "id": "e7ced56a-694d-4097-ade7-2d856fcbd720",
   "metadata": {},
   "outputs": [
    {
     "name": "stdout",
     "output_type": "stream",
     "text": [
      "1464\n",
      "1196\n"
     ]
    }
   ],
   "source": [
    "# convert intercell gene lists\n",
    "intercell_genes = {k: pd.DataFrame(d, columns=['gene']) for k, d in gene_lists.items()}\n",
    "\n",
    "print(intercell_genes['source'].shape[0])\n",
    "print(intercell_genes['target'].shape[0])"
   ]
  },
  {
   "cell_type": "code",
   "execution_count": 106,
   "id": "fe6e49aa",
   "metadata": {},
   "outputs": [
    {
     "data": {
      "text/html": [
       "<div>\n",
       "<style scoped>\n",
       "    .dataframe tbody tr th:only-of-type {\n",
       "        vertical-align: middle;\n",
       "    }\n",
       "\n",
       "    .dataframe tbody tr th {\n",
       "        vertical-align: top;\n",
       "    }\n",
       "\n",
       "    .dataframe thead th {\n",
       "        text-align: right;\n",
       "    }\n",
       "</style>\n",
       "<table border=\"1\" class=\"dataframe\">\n",
       "  <thead>\n",
       "    <tr style=\"text-align: right;\">\n",
       "      <th></th>\n",
       "      <th>inter_id</th>\n",
       "      <th>source</th>\n",
       "      <th>target</th>\n",
       "      <th>interaction</th>\n",
       "      <th>tissue_dataset</th>\n",
       "      <th>tau_source</th>\n",
       "      <th>tau_target</th>\n",
       "      <th>inter_tau</th>\n",
       "      <th>pairs_type</th>\n",
       "      <th>network_type</th>\n",
       "      <th>metastasis_dataset</th>\n",
       "      <th>signal</th>\n",
       "      <th>value</th>\n",
       "      <th>stat</th>\n",
       "      <th>pval</th>\n",
       "      <th>pval_corr</th>\n",
       "      <th>cancer_entropy</th>\n",
       "      <th>metastasis_entropy</th>\n",
       "      <th>is_curated</th>\n",
       "    </tr>\n",
       "  </thead>\n",
       "  <tbody>\n",
       "    <tr>\n",
       "      <th>0</th>\n",
       "      <td>422</td>\n",
       "      <td>WNT4</td>\n",
       "      <td>LRP6</td>\n",
       "      <td>9414.0</td>\n",
       "      <td>gtex</td>\n",
       "      <td>0.739</td>\n",
       "      <td>0.348</td>\n",
       "      <td>0.739</td>\n",
       "      <td>frequency</td>\n",
       "      <td>genecalls</td>\n",
       "      <td>autopsy</td>\n",
       "      <td>-1.0</td>\n",
       "      <td>-5756.0</td>\n",
       "      <td>MWU_ratio</td>\n",
       "      <td>0.003759</td>\n",
       "      <td>0.022155</td>\n",
       "      <td>2.924700</td>\n",
       "      <td>3.007392</td>\n",
       "      <td>yes</td>\n",
       "    </tr>\n",
       "    <tr>\n",
       "      <th>1</th>\n",
       "      <td>1149</td>\n",
       "      <td>APOC2</td>\n",
       "      <td>LRP1</td>\n",
       "      <td>385.0</td>\n",
       "      <td>gtex</td>\n",
       "      <td>0.862</td>\n",
       "      <td>0.317</td>\n",
       "      <td>0.862</td>\n",
       "      <td>frequency</td>\n",
       "      <td>genecalls</td>\n",
       "      <td>hcmdb</td>\n",
       "      <td>1.0</td>\n",
       "      <td>2706.0</td>\n",
       "      <td>MWU_ratio</td>\n",
       "      <td>0.000344</td>\n",
       "      <td>0.012371</td>\n",
       "      <td>2.709835</td>\n",
       "      <td>2.472963</td>\n",
       "      <td>yes</td>\n",
       "    </tr>\n",
       "  </tbody>\n",
       "</table>\n",
       "</div>"
      ],
      "text/plain": [
       "   inter_id source target  interaction tissue_dataset  tau_source  tau_target  \\\n",
       "0       422   WNT4   LRP6       9414.0           gtex       0.739       0.348   \n",
       "1      1149  APOC2   LRP1        385.0           gtex       0.862       0.317   \n",
       "\n",
       "   inter_tau pairs_type network_type metastasis_dataset  signal   value  \\\n",
       "0      0.739  frequency    genecalls            autopsy    -1.0 -5756.0   \n",
       "1      0.862  frequency    genecalls              hcmdb     1.0  2706.0   \n",
       "\n",
       "        stat      pval  pval_corr  cancer_entropy  metastasis_entropy  \\\n",
       "0  MWU_ratio  0.003759   0.022155        2.924700            3.007392   \n",
       "1  MWU_ratio  0.000344   0.012371        2.709835            2.472963   \n",
       "\n",
       "  is_curated  \n",
       "0        yes  \n",
       "1        yes  "
      ]
     },
     "execution_count": 106,
     "metadata": {},
     "output_type": "execute_result"
    }
   ],
   "source": [
    "# load list of intercellular interaction associated with metastasis\n",
    "met_interactions = pd.read_csv(interactions_dir+f'interactions_corr_0.25.csv')\n",
    "met_interactions.head(2)"
   ]
  },
  {
   "cell_type": "code",
   "execution_count": 107,
   "id": "bbe4ca50",
   "metadata": {},
   "outputs": [
    {
     "name": "stdout",
     "output_type": "stream",
     "text": [
      "535\n",
      "yes # of source genes 280\n",
      "yes # of target genes 268\n",
      "1121\n",
      "no # of source genes 391\n",
      "no # of target genes 368\n"
     ]
    }
   ],
   "source": [
    "# select unique interactions\n",
    "genes = {i:{} for i in ['source', 'target']}\n",
    "for curation in ['yes', 'no']:\n",
    "    \n",
    "    if curation == 'no':\n",
    "        inter_list = met_interactions[['source', 'target']].drop_duplicates()\n",
    "    else:\n",
    "        inter_list = met_interactions.loc[met_interactions['is_curated'] == curation, ['source', 'target']].drop_duplicates()\n",
    "    print(inter_list.shape[0])\n",
    "    \n",
    "    # split dataset in source and target genes\n",
    "    source_sign_genes = sorted(inter_list.source.unique())\n",
    "    target_sign_genes = sorted(inter_list.target.unique())\n",
    "    genes['source'][curation] = source_sign_genes\n",
    "    genes['target'][curation] = target_sign_genes\n",
    "    print(f'{curation} # of source genes', len(source_sign_genes))\n",
    "    print(f'{curation} # of target genes', len(target_sign_genes))"
   ]
  },
  {
   "cell_type": "code",
   "execution_count": 115,
   "id": "ca06d84c",
   "metadata": {},
   "outputs": [
    {
     "name": "stdout",
     "output_type": "stream",
     "text": [
      "# of all source genes 1464\n",
      "# of curated source genes 1365\n"
     ]
    },
    {
     "data": {
      "text/html": [
       "<div>\n",
       "<style scoped>\n",
       "    .dataframe tbody tr th:only-of-type {\n",
       "        vertical-align: middle;\n",
       "    }\n",
       "\n",
       "    .dataframe tbody tr th {\n",
       "        vertical-align: top;\n",
       "    }\n",
       "\n",
       "    .dataframe thead th {\n",
       "        text-align: right;\n",
       "    }\n",
       "</style>\n",
       "<table border=\"1\" class=\"dataframe\">\n",
       "  <thead>\n",
       "    <tr style=\"text-align: right;\">\n",
       "      <th></th>\n",
       "      <th>gene</th>\n",
       "      <th>curated_label</th>\n",
       "      <th>label</th>\n",
       "      <th>is_curated</th>\n",
       "    </tr>\n",
       "  </thead>\n",
       "  <tbody>\n",
       "    <tr>\n",
       "      <th>0</th>\n",
       "      <td>A2M</td>\n",
       "      <td>0</td>\n",
       "      <td>0</td>\n",
       "      <td>True</td>\n",
       "    </tr>\n",
       "    <tr>\n",
       "      <th>1</th>\n",
       "      <td>ACAN</td>\n",
       "      <td>0</td>\n",
       "      <td>0</td>\n",
       "      <td>True</td>\n",
       "    </tr>\n",
       "  </tbody>\n",
       "</table>\n",
       "</div>"
      ],
      "text/plain": [
       "   gene curated_label label  is_curated\n",
       "0   A2M             0     0        True\n",
       "1  ACAN             0     0        True"
      ]
     },
     "metadata": {},
     "output_type": "display_data"
    },
    {
     "name": "stdout",
     "output_type": "stream",
     "text": [
      "# of all target genes 1196\n",
      "# of curated target genes 1077\n"
     ]
    },
    {
     "data": {
      "text/html": [
       "<div>\n",
       "<style scoped>\n",
       "    .dataframe tbody tr th:only-of-type {\n",
       "        vertical-align: middle;\n",
       "    }\n",
       "\n",
       "    .dataframe tbody tr th {\n",
       "        vertical-align: top;\n",
       "    }\n",
       "\n",
       "    .dataframe thead th {\n",
       "        text-align: right;\n",
       "    }\n",
       "</style>\n",
       "<table border=\"1\" class=\"dataframe\">\n",
       "  <thead>\n",
       "    <tr style=\"text-align: right;\">\n",
       "      <th></th>\n",
       "      <th>gene</th>\n",
       "      <th>curated_label</th>\n",
       "      <th>label</th>\n",
       "      <th>is_curated</th>\n",
       "    </tr>\n",
       "  </thead>\n",
       "  <tbody>\n",
       "    <tr>\n",
       "      <th>0</th>\n",
       "      <td>A1BG</td>\n",
       "      <td>0</td>\n",
       "      <td>0</td>\n",
       "      <td>True</td>\n",
       "    </tr>\n",
       "    <tr>\n",
       "      <th>1</th>\n",
       "      <td>ABCB1</td>\n",
       "      <td>0</td>\n",
       "      <td>0</td>\n",
       "      <td>False</td>\n",
       "    </tr>\n",
       "  </tbody>\n",
       "</table>\n",
       "</div>"
      ],
      "text/plain": [
       "    gene curated_label label  is_curated\n",
       "0   A1BG             0     0        True\n",
       "1  ABCB1             0     0       False"
      ]
     },
     "metadata": {},
     "output_type": "display_data"
    }
   ],
   "source": [
    "labeled_genes = {}\n",
    "for k1, d1 in genes.items():\n",
    "    graphs = []\n",
    "    for k2, d2 in d1.items():\n",
    "        inter_genes = intercell_genes[k1].copy()\n",
    "        sign_genes = inter_genes[inter_genes.gene.isin(d2)].copy()\n",
    "        if k2 == 'no':\n",
    "            sign_genes['label'] = ['1']*sign_genes.shape[0]\n",
    "            graphs.append(pd.merge(inter_genes, sign_genes, how='left').fillna('0'))\n",
    "        else:\n",
    "            sign_genes['curated_label'] = ['1']*sign_genes.shape[0]\n",
    "            graphs.append(pd.merge(inter_genes, sign_genes, how='left').fillna('0'))\n",
    "    \n",
    "    genes_ = pd.merge(graphs[0], graphs[1])\n",
    "    \n",
    "    # add column indicating if a gene is present in the curated graph\n",
    "    curated_genes = genes_[genes_.gene.isin(curated_graph[k1])].copy()\n",
    "    curated_genes['is_curated'] = [True]*curated_genes.shape[0]\n",
    "    genes_ = pd.merge(genes_, curated_genes, how='left').fillna(False)\n",
    "    \n",
    "    print(f'# of all {k1} genes', genes_.shape[0])\n",
    "    print(f'# of curated {k1} genes', genes_[genes_.is_curated==True].shape[0])\n",
    "    display(genes_.head(2))\n",
    "    genes_.to_csv(intracell_dir+f'{k1}_labels.csv', index=False)"
   ]
  },
  {
   "cell_type": "markdown",
   "id": "2acd5ac9-6f67-414e-b132-895f5011fcd5",
   "metadata": {
    "tags": []
   },
   "source": [
    "# Intracell genes analysis"
   ]
  },
  {
   "cell_type": "markdown",
   "id": "cb448910-efc6-4cde-854e-ff3d523168e7",
   "metadata": {},
   "source": [
    "We will try to find significant differences between the metastasis-associated group and the non-associated group by performing a Mann-Whitney U test for all intracellular genes."
   ]
  },
  {
   "cell_type": "code",
   "execution_count": 116,
   "id": "cbe61913-89d7-482f-a48e-c88657107eab",
   "metadata": {},
   "outputs": [],
   "source": [
    "gene_type = ['target', 'source']\n",
    "association_type = ['positive', 'negative', 'neutral', 'none']"
   ]
  },
  {
   "cell_type": "markdown",
   "id": "63bf0e5a-baee-4994-b4ee-9b766a94fea6",
   "metadata": {
    "jp-MarkdownHeadingCollapsed": true,
    "tags": []
   },
   "source": [
    "## Load datasets"
   ]
  },
  {
   "cell_type": "code",
   "execution_count": 141,
   "id": "45daab6e-3fcb-40a7-94d2-39de50df590f",
   "metadata": {},
   "outputs": [],
   "source": [
    "# RWR data\n",
    "rwr_probs = {}\n",
    "\n",
    "for gt in gene_type:\n",
    "    \n",
    "    rwr_probs[gt] = np.load(intracell_dir+f'{gt}_rwr.npy')"
   ]
  },
  {
   "cell_type": "code",
   "execution_count": 118,
   "id": "66eae4b1-b09d-485d-a316-5937974fb0e3",
   "metadata": {},
   "outputs": [
    {
     "name": "stdout",
     "output_type": "stream",
     "text": [
      "18215\n"
     ]
    },
    {
     "data": {
      "text/html": [
       "<div>\n",
       "<style scoped>\n",
       "    .dataframe tbody tr th:only-of-type {\n",
       "        vertical-align: middle;\n",
       "    }\n",
       "\n",
       "    .dataframe tbody tr th {\n",
       "        vertical-align: top;\n",
       "    }\n",
       "\n",
       "    .dataframe thead th {\n",
       "        text-align: right;\n",
       "    }\n",
       "</style>\n",
       "<table border=\"1\" class=\"dataframe\">\n",
       "  <thead>\n",
       "    <tr style=\"text-align: right;\">\n",
       "      <th></th>\n",
       "      <th>gene</th>\n",
       "    </tr>\n",
       "  </thead>\n",
       "  <tbody>\n",
       "    <tr>\n",
       "      <th>0</th>\n",
       "      <td>A1BG</td>\n",
       "    </tr>\n",
       "    <tr>\n",
       "      <th>1</th>\n",
       "      <td>A1CF</td>\n",
       "    </tr>\n",
       "  </tbody>\n",
       "</table>\n",
       "</div>"
      ],
      "text/plain": [
       "   gene\n",
       "0  A1BG\n",
       "1  A1CF"
      ]
     },
     "execution_count": 118,
     "metadata": {},
     "output_type": "execute_result"
    }
   ],
   "source": [
    "# load intracell genes\n",
    "intracell_genes = pd.read_csv(intracell_dir+'intracell_genes.csv', names=['gene'], header=0)\n",
    "print(intracell_genes.shape[0])\n",
    "intracell_genes.head(2)"
   ]
  },
  {
   "cell_type": "code",
   "execution_count": 119,
   "id": "34f9ddab-67cc-4f81-a5b2-f063c1c809fb",
   "metadata": {},
   "outputs": [
    {
     "name": "stdout",
     "output_type": "stream",
     "text": [
      "# unique interactions: 1121\n",
      "# curated interactions: 535\n"
     ]
    }
   ],
   "source": [
    "# load list of intercellular interaction associated with metastasis\n",
    "inter_data = pd.read_csv(interactions_dir+f'interactions_corr_0.25.csv', index_col='inter_id')\n",
    "\n",
    "print('# unique interactions:', len(inter_data.index.unique()))\n",
    "print('# curated interactions:', len(inter_data[inter_data.is_curated=='yes'].index.unique()))"
   ]
  },
  {
   "cell_type": "code",
   "execution_count": 120,
   "id": "0677c488-cdff-4b4c-a557-de92c9f1a50e",
   "metadata": {},
   "outputs": [
    {
     "name": "stdout",
     "output_type": "stream",
     "text": [
      "1196\n"
     ]
    },
    {
     "data": {
      "text/html": [
       "<div>\n",
       "<style scoped>\n",
       "    .dataframe tbody tr th:only-of-type {\n",
       "        vertical-align: middle;\n",
       "    }\n",
       "\n",
       "    .dataframe tbody tr th {\n",
       "        vertical-align: top;\n",
       "    }\n",
       "\n",
       "    .dataframe thead th {\n",
       "        text-align: right;\n",
       "    }\n",
       "</style>\n",
       "<table border=\"1\" class=\"dataframe\">\n",
       "  <thead>\n",
       "    <tr style=\"text-align: right;\">\n",
       "      <th></th>\n",
       "      <th>gene</th>\n",
       "      <th>curated_label</th>\n",
       "      <th>label</th>\n",
       "      <th>is_curated</th>\n",
       "    </tr>\n",
       "  </thead>\n",
       "  <tbody>\n",
       "    <tr>\n",
       "      <th>0</th>\n",
       "      <td>A1BG</td>\n",
       "      <td>0</td>\n",
       "      <td>0</td>\n",
       "      <td>True</td>\n",
       "    </tr>\n",
       "    <tr>\n",
       "      <th>1</th>\n",
       "      <td>ABCB1</td>\n",
       "      <td>0</td>\n",
       "      <td>0</td>\n",
       "      <td>False</td>\n",
       "    </tr>\n",
       "  </tbody>\n",
       "</table>\n",
       "</div>"
      ],
      "text/plain": [
       "    gene  curated_label  label  is_curated\n",
       "0   A1BG              0      0        True\n",
       "1  ABCB1              0      0       False"
      ]
     },
     "metadata": {},
     "output_type": "display_data"
    },
    {
     "name": "stdout",
     "output_type": "stream",
     "text": [
      "1464\n"
     ]
    },
    {
     "data": {
      "text/html": [
       "<div>\n",
       "<style scoped>\n",
       "    .dataframe tbody tr th:only-of-type {\n",
       "        vertical-align: middle;\n",
       "    }\n",
       "\n",
       "    .dataframe tbody tr th {\n",
       "        vertical-align: top;\n",
       "    }\n",
       "\n",
       "    .dataframe thead th {\n",
       "        text-align: right;\n",
       "    }\n",
       "</style>\n",
       "<table border=\"1\" class=\"dataframe\">\n",
       "  <thead>\n",
       "    <tr style=\"text-align: right;\">\n",
       "      <th></th>\n",
       "      <th>gene</th>\n",
       "      <th>curated_label</th>\n",
       "      <th>label</th>\n",
       "      <th>is_curated</th>\n",
       "    </tr>\n",
       "  </thead>\n",
       "  <tbody>\n",
       "    <tr>\n",
       "      <th>0</th>\n",
       "      <td>A2M</td>\n",
       "      <td>0</td>\n",
       "      <td>0</td>\n",
       "      <td>True</td>\n",
       "    </tr>\n",
       "    <tr>\n",
       "      <th>1</th>\n",
       "      <td>ACAN</td>\n",
       "      <td>0</td>\n",
       "      <td>0</td>\n",
       "      <td>True</td>\n",
       "    </tr>\n",
       "  </tbody>\n",
       "</table>\n",
       "</div>"
      ],
      "text/plain": [
       "   gene  curated_label  label  is_curated\n",
       "0   A2M              0      0        True\n",
       "1  ACAN              0      0        True"
      ]
     },
     "execution_count": 120,
     "metadata": {},
     "output_type": "execute_result"
    }
   ],
   "source": [
    "# intercell gene labels (0-not_sign, 1-sign)\n",
    "target_genes = pd.read_csv(intracell_dir+'target_labels.csv')\n",
    "source_genes = pd.read_csv(intracell_dir+'source_labels.csv')\n",
    "print(target_genes.shape[0])\n",
    "display(target_genes.head(2))\n",
    "print(source_genes.shape[0])\n",
    "source_genes.head(2)"
   ]
  },
  {
   "cell_type": "code",
   "execution_count": 121,
   "id": "542efcd7-7a6e-4a88-899f-635ddd31b563",
   "metadata": {},
   "outputs": [
    {
     "name": "stdout",
     "output_type": "stream",
     "text": [
      "1121\n"
     ]
    },
    {
     "data": {
      "text/html": [
       "<div>\n",
       "<style scoped>\n",
       "    .dataframe tbody tr th:only-of-type {\n",
       "        vertical-align: middle;\n",
       "    }\n",
       "\n",
       "    .dataframe tbody tr th {\n",
       "        vertical-align: top;\n",
       "    }\n",
       "\n",
       "    .dataframe thead th {\n",
       "        text-align: right;\n",
       "    }\n",
       "</style>\n",
       "<table border=\"1\" class=\"dataframe\">\n",
       "  <thead>\n",
       "    <tr style=\"text-align: right;\">\n",
       "      <th></th>\n",
       "      <th>source</th>\n",
       "      <th>target</th>\n",
       "      <th>signal</th>\n",
       "    </tr>\n",
       "    <tr>\n",
       "      <th>inter_id</th>\n",
       "      <th></th>\n",
       "      <th></th>\n",
       "      <th></th>\n",
       "    </tr>\n",
       "  </thead>\n",
       "  <tbody>\n",
       "    <tr>\n",
       "      <th>422</th>\n",
       "      <td>WNT4</td>\n",
       "      <td>LRP6</td>\n",
       "      <td>-1.0</td>\n",
       "    </tr>\n",
       "    <tr>\n",
       "      <th>1149</th>\n",
       "      <td>APOC2</td>\n",
       "      <td>LRP1</td>\n",
       "      <td>1.0</td>\n",
       "    </tr>\n",
       "  </tbody>\n",
       "</table>\n",
       "</div>"
      ],
      "text/plain": [
       "         source target  signal\n",
       "inter_id                      \n",
       "422        WNT4   LRP6    -1.0\n",
       "1149      APOC2   LRP1     1.0"
      ]
     },
     "metadata": {},
     "output_type": "display_data"
    },
    {
     "name": "stdout",
     "output_type": "stream",
     "text": [
      "535\n"
     ]
    },
    {
     "data": {
      "text/html": [
       "<div>\n",
       "<style scoped>\n",
       "    .dataframe tbody tr th:only-of-type {\n",
       "        vertical-align: middle;\n",
       "    }\n",
       "\n",
       "    .dataframe tbody tr th {\n",
       "        vertical-align: top;\n",
       "    }\n",
       "\n",
       "    .dataframe thead th {\n",
       "        text-align: right;\n",
       "    }\n",
       "</style>\n",
       "<table border=\"1\" class=\"dataframe\">\n",
       "  <thead>\n",
       "    <tr style=\"text-align: right;\">\n",
       "      <th></th>\n",
       "      <th>source</th>\n",
       "      <th>target</th>\n",
       "      <th>signal</th>\n",
       "    </tr>\n",
       "    <tr>\n",
       "      <th>inter_id</th>\n",
       "      <th></th>\n",
       "      <th></th>\n",
       "      <th></th>\n",
       "    </tr>\n",
       "  </thead>\n",
       "  <tbody>\n",
       "    <tr>\n",
       "      <th>422</th>\n",
       "      <td>WNT4</td>\n",
       "      <td>LRP6</td>\n",
       "      <td>-1.0</td>\n",
       "    </tr>\n",
       "    <tr>\n",
       "      <th>1149</th>\n",
       "      <td>APOC2</td>\n",
       "      <td>LRP1</td>\n",
       "      <td>1.0</td>\n",
       "    </tr>\n",
       "  </tbody>\n",
       "</table>\n",
       "</div>"
      ],
      "text/plain": [
       "         source target  signal\n",
       "inter_id                      \n",
       "422        WNT4   LRP6    -1.0\n",
       "1149      APOC2   LRP1     1.0"
      ]
     },
     "metadata": {},
     "output_type": "display_data"
    }
   ],
   "source": [
    "# select unique interactions\n",
    "inter_list = inter_data[['source', 'target', 'signal']].drop_duplicates()\n",
    "print(inter_list.shape[0])\n",
    "display(inter_list.head(2))\n",
    "inter_list_curated = inter_data.loc[inter_data.is_curated=='yes', ['source', 'target', 'signal']].drop_duplicates()\n",
    "print(inter_list_curated.shape[0])\n",
    "display(inter_list_curated.head(2))"
   ]
  },
  {
   "cell_type": "markdown",
   "id": "775ed71a-505e-4eca-bdb6-31f4148c4aa9",
   "metadata": {
    "jp-MarkdownHeadingCollapsed": true,
    "tags": []
   },
   "source": [
    "## Gene Signal Analysis\n",
    "\n",
    "Will split intercell genes in 4 groups:\n",
    "* \"positive\" genes: genes that only participate in interactions that promote metastasis development\n",
    "* \"negative\" genes: genes that only participate in interactions that hinder metastasis development\n",
    "* \"neutral\" genes: genes that participate in both types of interactions\n",
    "* no association genes: genes without metastasis association"
   ]
  },
  {
   "cell_type": "markdown",
   "id": "fcd71b0e-8ce9-4d3e-b557-b2775f47ca12",
   "metadata": {
    "tags": []
   },
   "source": [
    "### Complete graph"
   ]
  },
  {
   "cell_type": "code",
   "execution_count": 122,
   "id": "48c67c45-be65-45d1-a336-de3bf2a50a03",
   "metadata": {
    "tags": []
   },
   "outputs": [
    {
     "data": {
      "text/html": [
       "<div>\n",
       "<style scoped>\n",
       "    .dataframe tbody tr th:only-of-type {\n",
       "        vertical-align: middle;\n",
       "    }\n",
       "\n",
       "    .dataframe tbody tr th {\n",
       "        vertical-align: top;\n",
       "    }\n",
       "\n",
       "    .dataframe thead th {\n",
       "        text-align: right;\n",
       "    }\n",
       "</style>\n",
       "<table border=\"1\" class=\"dataframe\">\n",
       "  <thead>\n",
       "    <tr style=\"text-align: right;\">\n",
       "      <th></th>\n",
       "      <th>gene</th>\n",
       "      <th>curated_label</th>\n",
       "      <th>label</th>\n",
       "      <th>is_curated</th>\n",
       "      <th>signal</th>\n",
       "    </tr>\n",
       "    <tr>\n",
       "      <th>index</th>\n",
       "      <th></th>\n",
       "      <th></th>\n",
       "      <th></th>\n",
       "      <th></th>\n",
       "      <th></th>\n",
       "    </tr>\n",
       "  </thead>\n",
       "  <tbody>\n",
       "    <tr>\n",
       "      <th>6</th>\n",
       "      <td>ACHE</td>\n",
       "      <td>0</td>\n",
       "      <td>1</td>\n",
       "      <td>False</td>\n",
       "      <td>1.0</td>\n",
       "    </tr>\n",
       "    <tr>\n",
       "      <th>7</th>\n",
       "      <td>ACKR1</td>\n",
       "      <td>1</td>\n",
       "      <td>1</td>\n",
       "      <td>True</td>\n",
       "      <td>1.0</td>\n",
       "    </tr>\n",
       "  </tbody>\n",
       "</table>\n",
       "</div>"
      ],
      "text/plain": [
       "        gene  curated_label  label  is_curated  signal\n",
       "index                                                 \n",
       "6       ACHE              0      1       False     1.0\n",
       "7      ACKR1              1      1        True     1.0"
      ]
     },
     "metadata": {},
     "output_type": "display_data"
    },
    {
     "data": {
      "text/html": [
       "<div>\n",
       "<style scoped>\n",
       "    .dataframe tbody tr th:only-of-type {\n",
       "        vertical-align: middle;\n",
       "    }\n",
       "\n",
       "    .dataframe tbody tr th {\n",
       "        vertical-align: top;\n",
       "    }\n",
       "\n",
       "    .dataframe thead th {\n",
       "        text-align: right;\n",
       "    }\n",
       "</style>\n",
       "<table border=\"1\" class=\"dataframe\">\n",
       "  <thead>\n",
       "    <tr style=\"text-align: right;\">\n",
       "      <th></th>\n",
       "      <th>gene</th>\n",
       "      <th>curated_label</th>\n",
       "      <th>label</th>\n",
       "      <th>is_curated</th>\n",
       "      <th>signal</th>\n",
       "    </tr>\n",
       "    <tr>\n",
       "      <th>index</th>\n",
       "      <th></th>\n",
       "      <th></th>\n",
       "      <th></th>\n",
       "      <th></th>\n",
       "      <th></th>\n",
       "    </tr>\n",
       "  </thead>\n",
       "  <tbody>\n",
       "    <tr>\n",
       "      <th>8</th>\n",
       "      <td>ACVR2B</td>\n",
       "      <td>1</td>\n",
       "      <td>1</td>\n",
       "      <td>True</td>\n",
       "      <td>-1.0</td>\n",
       "    </tr>\n",
       "    <tr>\n",
       "      <th>14</th>\n",
       "      <td>ADAM17</td>\n",
       "      <td>1</td>\n",
       "      <td>1</td>\n",
       "      <td>True</td>\n",
       "      <td>-1.0</td>\n",
       "    </tr>\n",
       "  </tbody>\n",
       "</table>\n",
       "</div>"
      ],
      "text/plain": [
       "         gene  curated_label  label  is_curated  signal\n",
       "index                                                  \n",
       "8      ACVR2B              1      1        True    -1.0\n",
       "14     ADAM17              1      1        True    -1.0"
      ]
     },
     "metadata": {},
     "output_type": "display_data"
    }
   ],
   "source": [
    "# assign signal to intercell genes based on interaction signal\n",
    "# preserve the keys of intercell genes for indexing the RWR arrays\n",
    "\n",
    "sign_target = pd.merge(\n",
    "    target_genes.reset_index(), # keep the ids (index) of intercell genes\n",
    "    inter_list[['target', 'signal']], \n",
    "    left_on='gene',\n",
    "    right_on='target',\n",
    "    how='inner' \n",
    ").drop_duplicates().drop(columns='target').set_index('index')\n",
    "display(sign_target.head(2))\n",
    "\n",
    "sign_source = pd.merge(\n",
    "    source_genes.reset_index(), # keep the ids (index) of intercell genes\n",
    "    inter_list[['source', 'signal']], \n",
    "    left_on='gene',\n",
    "    right_on='source',\n",
    "    how='inner'\n",
    ").drop_duplicates().drop(columns='source').set_index('index')\n",
    "display(sign_source.head(2))"
   ]
  },
  {
   "cell_type": "code",
   "execution_count": 123,
   "id": "a92897ec-8936-4c63-a5da-7ff272c019a5",
   "metadata": {},
   "outputs": [],
   "source": [
    "intercell_genes = {gt: {} for gt in gene_type}\n",
    "\n",
    "for gt in gene_type:\n",
    "    if gt == 'target':\n",
    "        ag = sign_target # genes associated with metastasis\n",
    "        nag = target_genes # genes not associated with metastasis\n",
    "    else:\n",
    "        ag = sign_source\n",
    "        nag = source_genes\n",
    "    \n",
    "    unique = ag[~ag.gene.duplicated(keep=False)]\n",
    "        \n",
    "    intercell_genes[gt]['positive'] = unique[unique.signal==1].index.to_numpy()\n",
    "    intercell_genes[gt]['negative'] = unique[unique.signal==-1].index.to_numpy()\n",
    "    intercell_genes[gt]['neutral'] = ag[ag.gene.duplicated()].index.to_numpy()\n",
    "    intercell_genes[gt]['none'] = nag[nag.label==0].index.to_numpy()"
   ]
  },
  {
   "cell_type": "code",
   "execution_count": 124,
   "id": "03632787-e32b-4410-8d61-dc530a0c94ba",
   "metadata": {},
   "outputs": [
    {
     "name": "stdout",
     "output_type": "stream",
     "text": [
      "# metastasis associated target genes: 368\n",
      "# metastasis associated source genes: 389\n"
     ]
    }
   ],
   "source": [
    "print('# metastasis associated target genes:', sign_target.gene.unique().shape[0])\n",
    "print('# metastasis associated source genes:', sign_source.gene.unique().shape[0])"
   ]
  },
  {
   "cell_type": "code",
   "execution_count": 125,
   "id": "255d8640-639d-4e6f-9ec4-64c77b5b5caa",
   "metadata": {},
   "outputs": [
    {
     "name": "stdout",
     "output_type": "stream",
     "text": [
      "# metastasis associated target genes: 368\n",
      "# metastasis associated source genes: 389\n"
     ]
    }
   ],
   "source": [
    "# confirm if index arrays have the right amount of genes \n",
    "print('# metastasis associated target genes:', \n",
    "      intercell_genes['target']['positive'].shape[0] +\n",
    "      intercell_genes['target']['negative'].shape[0] +\n",
    "      intercell_genes['target']['neutral'].shape[0]\n",
    "     )\n",
    "print('# metastasis associated source genes:', \n",
    "      intercell_genes['source']['positive'].shape[0] +\n",
    "      intercell_genes['source']['negative'].shape[0] +\n",
    "      intercell_genes['source']['neutral'].shape[0]\n",
    "     )"
   ]
  },
  {
   "cell_type": "code",
   "execution_count": 126,
   "id": "f8b16ad4-004e-45d2-9e82-9b6f7fe094f7",
   "metadata": {},
   "outputs": [
    {
     "name": "stdout",
     "output_type": "stream",
     "text": [
      "# positive target genes: 266\n",
      "# negative target genes: 86\n",
      "# positive source genes: 270\n",
      "# negative source genes: 96\n"
     ]
    }
   ],
   "source": [
    "print('# positive target genes:', intercell_genes['target']['positive'].shape[0])\n",
    "print('# negative target genes:', intercell_genes['target']['negative'].shape[0])\n",
    "print('# positive source genes:', intercell_genes['source']['positive'].shape[0])\n",
    "print('# negative source genes:', intercell_genes['source']['negative'].shape[0])"
   ]
  },
  {
   "cell_type": "code",
   "execution_count": 127,
   "id": "3ddfdce0-29de-4977-957b-eae1d5a1617f",
   "metadata": {},
   "outputs": [
    {
     "name": "stdout",
     "output_type": "stream",
     "text": [
      "# target genes with double signal: 16\n",
      "# source genes with double signal: 23\n"
     ]
    }
   ],
   "source": [
    "# some genes participate in positive and negative interactions\n",
    "print('# target genes with double signal:', intercell_genes['target']['neutral'].shape[0])\n",
    "print('# source genes with double signal:', intercell_genes['source']['neutral'].shape[0])"
   ]
  },
  {
   "cell_type": "code",
   "execution_count": 128,
   "id": "1f6f652d-6688-4444-9957-556235e2a60f",
   "metadata": {},
   "outputs": [
    {
     "name": "stdout",
     "output_type": "stream",
     "text": [
      "# target genes without association: 828\n",
      "# source genes without association: 1075\n"
     ]
    }
   ],
   "source": [
    "# genes without metastasis association\n",
    "print('# target genes without association:', intercell_genes['target']['none'].shape[0])\n",
    "print('# source genes without association:', intercell_genes['source']['none'].shape[0])"
   ]
  },
  {
   "cell_type": "markdown",
   "id": "baf962f5-ca00-48a9-b392-545aafd70a7b",
   "metadata": {
    "jp-MarkdownHeadingCollapsed": true,
    "tags": []
   },
   "source": [
    "### Curated graph"
   ]
  },
  {
   "cell_type": "code",
   "execution_count": 129,
   "id": "46979482-1b1d-477c-9cb2-0ee722c17b42",
   "metadata": {},
   "outputs": [
    {
     "data": {
      "text/html": [
       "<div>\n",
       "<style scoped>\n",
       "    .dataframe tbody tr th:only-of-type {\n",
       "        vertical-align: middle;\n",
       "    }\n",
       "\n",
       "    .dataframe tbody tr th {\n",
       "        vertical-align: top;\n",
       "    }\n",
       "\n",
       "    .dataframe thead th {\n",
       "        text-align: right;\n",
       "    }\n",
       "</style>\n",
       "<table border=\"1\" class=\"dataframe\">\n",
       "  <thead>\n",
       "    <tr style=\"text-align: right;\">\n",
       "      <th></th>\n",
       "      <th>gene</th>\n",
       "      <th>curated_label</th>\n",
       "      <th>label</th>\n",
       "      <th>is_curated</th>\n",
       "      <th>signal</th>\n",
       "    </tr>\n",
       "    <tr>\n",
       "      <th>index</th>\n",
       "      <th></th>\n",
       "      <th></th>\n",
       "      <th></th>\n",
       "      <th></th>\n",
       "      <th></th>\n",
       "    </tr>\n",
       "  </thead>\n",
       "  <tbody>\n",
       "    <tr>\n",
       "      <th>7</th>\n",
       "      <td>ACKR1</td>\n",
       "      <td>1</td>\n",
       "      <td>1</td>\n",
       "      <td>True</td>\n",
       "      <td>1.0</td>\n",
       "    </tr>\n",
       "    <tr>\n",
       "      <th>8</th>\n",
       "      <td>ACKR2</td>\n",
       "      <td>1</td>\n",
       "      <td>1</td>\n",
       "      <td>True</td>\n",
       "      <td>1.0</td>\n",
       "    </tr>\n",
       "  </tbody>\n",
       "</table>\n",
       "</div>"
      ],
      "text/plain": [
       "        gene  curated_label  label  is_curated  signal\n",
       "index                                                 \n",
       "7      ACKR1              1      1        True     1.0\n",
       "8      ACKR2              1      1        True     1.0"
      ]
     },
     "metadata": {},
     "output_type": "display_data"
    },
    {
     "data": {
      "text/html": [
       "<div>\n",
       "<style scoped>\n",
       "    .dataframe tbody tr th:only-of-type {\n",
       "        vertical-align: middle;\n",
       "    }\n",
       "\n",
       "    .dataframe tbody tr th {\n",
       "        vertical-align: top;\n",
       "    }\n",
       "\n",
       "    .dataframe thead th {\n",
       "        text-align: right;\n",
       "    }\n",
       "</style>\n",
       "<table border=\"1\" class=\"dataframe\">\n",
       "  <thead>\n",
       "    <tr style=\"text-align: right;\">\n",
       "      <th></th>\n",
       "      <th>gene</th>\n",
       "      <th>curated_label</th>\n",
       "      <th>label</th>\n",
       "      <th>is_curated</th>\n",
       "      <th>signal</th>\n",
       "    </tr>\n",
       "    <tr>\n",
       "      <th>index</th>\n",
       "      <th></th>\n",
       "      <th></th>\n",
       "      <th></th>\n",
       "      <th></th>\n",
       "      <th></th>\n",
       "    </tr>\n",
       "  </thead>\n",
       "  <tbody>\n",
       "    <tr>\n",
       "      <th>8</th>\n",
       "      <td>ACVR2B</td>\n",
       "      <td>1</td>\n",
       "      <td>1</td>\n",
       "      <td>True</td>\n",
       "      <td>-1.0</td>\n",
       "    </tr>\n",
       "    <tr>\n",
       "      <th>14</th>\n",
       "      <td>ADAM17</td>\n",
       "      <td>1</td>\n",
       "      <td>1</td>\n",
       "      <td>True</td>\n",
       "      <td>-1.0</td>\n",
       "    </tr>\n",
       "  </tbody>\n",
       "</table>\n",
       "</div>"
      ],
      "text/plain": [
       "         gene  curated_label  label  is_curated  signal\n",
       "index                                                  \n",
       "8      ACVR2B              1      1        True    -1.0\n",
       "14     ADAM17              1      1        True    -1.0"
      ]
     },
     "metadata": {},
     "output_type": "display_data"
    }
   ],
   "source": [
    "# assign signal to intercell genes based on interaction signal\n",
    "# preserve the keys of intercell genes for indexing the RWR arrays\n",
    "\n",
    "sign_target_curated = pd.merge(\n",
    "    target_genes.reset_index()[target_genes.is_curated==True], # keep the ids (index) of intercell genes\n",
    "    inter_list_curated[['target', 'signal']], \n",
    "    left_on='gene',\n",
    "    right_on='target',\n",
    "    how='inner' \n",
    ").drop_duplicates().drop(columns='target').set_index('index')\n",
    "display(sign_target_curated.head(2))\n",
    "sign_source_curated = pd.merge(\n",
    "    source_genes.reset_index()[source_genes.is_curated==True], # keep the ids (index) of intercell genes\n",
    "    inter_list_curated[['source', 'signal']], \n",
    "    left_on='gene',\n",
    "    right_on='source',\n",
    "    how='inner' \n",
    ").drop_duplicates().drop(columns='source').set_index('index')\n",
    "display(sign_source_curated.head(2))"
   ]
  },
  {
   "cell_type": "code",
   "execution_count": 130,
   "id": "9a20945d-497a-4132-8038-143f87647e29",
   "metadata": {},
   "outputs": [],
   "source": [
    "intercell_genes_curated = {gt: {} for gt in gene_type}\n",
    "\n",
    "for gt in gene_type:\n",
    "    if gt == 'target':\n",
    "        ag = sign_target_curated # genes associated with metastasis\n",
    "        nag = target_genes[target_genes.is_curated==True] # genes not associated with metastasis\n",
    "    else:\n",
    "        ag = sign_source_curated\n",
    "        nag = source_genes[source_genes.is_curated==True]\n",
    "    \n",
    "    unique = ag[~ag.gene.duplicated(keep=False)]\n",
    "        \n",
    "    intercell_genes_curated[gt]['positive'] = unique[unique.signal==1].index.to_numpy()\n",
    "    intercell_genes_curated[gt]['negative'] = unique[unique.signal==-1].index.to_numpy()\n",
    "    intercell_genes_curated[gt]['neutral'] = ag[ag.gene.duplicated()].index.to_numpy()\n",
    "    intercell_genes_curated[gt]['none'] = nag[nag.label==0].index.to_numpy()"
   ]
  },
  {
   "cell_type": "code",
   "execution_count": 131,
   "id": "20f97a52-036b-41b2-91a0-104356e900a3",
   "metadata": {},
   "outputs": [
    {
     "name": "stdout",
     "output_type": "stream",
     "text": [
      "# metastasis associated target genes: 268\n",
      "# metastasis associated source genes: 278\n"
     ]
    }
   ],
   "source": [
    "print('# metastasis associated target genes:', sign_target_curated.gene.unique().shape[0])\n",
    "print('# metastasis associated source genes:', sign_source_curated.gene.unique().shape[0])"
   ]
  },
  {
   "cell_type": "code",
   "execution_count": 132,
   "id": "c017452a-5247-431d-a048-65d432b9e0e4",
   "metadata": {},
   "outputs": [
    {
     "name": "stdout",
     "output_type": "stream",
     "text": [
      "# metastasis associated target genes: 268\n",
      "# metastasis associated source genes: 278\n"
     ]
    }
   ],
   "source": [
    "# confirm if index arrays have the right amount of genes \n",
    "print('# metastasis associated target genes:', \n",
    "      intercell_genes_curated['target']['positive'].shape[0] +\n",
    "      intercell_genes_curated['target']['negative'].shape[0] +\n",
    "      intercell_genes_curated['target']['neutral'].shape[0]\n",
    "     )\n",
    "print('# metastasis associated source genes:', \n",
    "      intercell_genes_curated['source']['positive'].shape[0] +\n",
    "      intercell_genes_curated['source']['negative'].shape[0] +\n",
    "      intercell_genes_curated['source']['neutral'].shape[0]\n",
    "     )"
   ]
  },
  {
   "cell_type": "code",
   "execution_count": 133,
   "id": "604d480a-6be9-4306-b223-4b942b2c7c86",
   "metadata": {},
   "outputs": [
    {
     "name": "stdout",
     "output_type": "stream",
     "text": [
      "# positive target genes: 180\n",
      "# negative target genes: 82\n",
      "# positive source genes: 184\n",
      "# negative source genes: 85\n"
     ]
    }
   ],
   "source": [
    "print('# positive target genes:', intercell_genes_curated['target']['positive'].shape[0])\n",
    "print('# negative target genes:', intercell_genes_curated['target']['negative'].shape[0])\n",
    "print('# positive source genes:', intercell_genes_curated['source']['positive'].shape[0])\n",
    "print('# negative source genes:', intercell_genes_curated['source']['negative'].shape[0])"
   ]
  },
  {
   "cell_type": "code",
   "execution_count": 134,
   "id": "85c393ab-5e67-462d-a8e1-2df7397e2a5f",
   "metadata": {},
   "outputs": [
    {
     "name": "stdout",
     "output_type": "stream",
     "text": [
      "# target genes with double signal: 6\n",
      "# source genes with double signal: 9\n"
     ]
    }
   ],
   "source": [
    "# some genes participate in positive and negative interactions\n",
    "print('# target genes with double signal:', intercell_genes_curated['target']['neutral'].shape[0])\n",
    "print('# source genes with double signal:', intercell_genes_curated['source']['neutral'].shape[0])"
   ]
  },
  {
   "cell_type": "code",
   "execution_count": 135,
   "id": "7fd1c81a-b207-4878-be82-1055da2dbc7a",
   "metadata": {},
   "outputs": [
    {
     "name": "stdout",
     "output_type": "stream",
     "text": [
      "# target genes without association: 741\n",
      "# source genes without association: 993\n"
     ]
    }
   ],
   "source": [
    "# genes without metastasis association\n",
    "print('# target genes without association:', intercell_genes_curated['target']['none'].shape[0])\n",
    "print('# source genes without association:', intercell_genes_curated['source']['none'].shape[0])"
   ]
  },
  {
   "cell_type": "markdown",
   "id": "f7592f64-4278-4b7a-bb3f-67e774db2b39",
   "metadata": {
    "tags": []
   },
   "source": [
    "## Permutation Test\n",
    "We will use the RWR with $\\text{damping}=0.85$"
   ]
  },
  {
   "cell_type": "markdown",
   "id": "3998d183-bac0-4af9-bebc-265400f59dc4",
   "metadata": {
    "jp-MarkdownHeadingCollapsed": true,
    "tags": []
   },
   "source": [
    "### Complete Graph"
   ]
  },
  {
   "cell_type": "code",
   "execution_count": 142,
   "id": "2f7c44b3-0bbc-4b2a-aea2-cdd367418b83",
   "metadata": {},
   "outputs": [
    {
     "data": {
      "application/vnd.jupyter.widget-view+json": {
       "model_id": "d3b1228274d1469bb6e265015f6177f8",
       "version_major": 2,
       "version_minor": 0
      },
      "text/plain": [
       "  0%|          | 0/18215 [00:00<?, ?it/s]"
      ]
     },
     "metadata": {},
     "output_type": "display_data"
    },
    {
     "data": {
      "application/vnd.jupyter.widget-view+json": {
       "model_id": "4869fdc5a9ac4427b9bcddb3c1da4783",
       "version_major": 2,
       "version_minor": 0
      },
      "text/plain": [
       "  0%|          | 0/18215 [00:00<?, ?it/s]"
      ]
     },
     "metadata": {},
     "output_type": "display_data"
    },
    {
     "data": {
      "application/vnd.jupyter.widget-view+json": {
       "model_id": "81c9b3d5fbf3421dbb5e5b019ac825ab",
       "version_major": 2,
       "version_minor": 0
      },
      "text/plain": [
       "  0%|          | 0/18215 [00:00<?, ?it/s]"
      ]
     },
     "metadata": {},
     "output_type": "display_data"
    },
    {
     "data": {
      "application/vnd.jupyter.widget-view+json": {
       "model_id": "5a31a17eb7574788b0dcdc5f73a6b5b7",
       "version_major": 2,
       "version_minor": 0
      },
      "text/plain": [
       "  0%|          | 0/18215 [00:00<?, ?it/s]"
      ]
     },
     "metadata": {},
     "output_type": "display_data"
    },
    {
     "data": {
      "application/vnd.jupyter.widget-view+json": {
       "model_id": "74b415786fe0454eae2af73df22a129d",
       "version_major": 2,
       "version_minor": 0
      },
      "text/plain": [
       "  0%|          | 0/18215 [00:00<?, ?it/s]"
      ]
     },
     "metadata": {},
     "output_type": "display_data"
    },
    {
     "data": {
      "application/vnd.jupyter.widget-view+json": {
       "model_id": "facf0197414349f7a13037a73b5cf60a",
       "version_major": 2,
       "version_minor": 0
      },
      "text/plain": [
       "  0%|          | 0/18215 [00:00<?, ?it/s]"
      ]
     },
     "metadata": {},
     "output_type": "display_data"
    }
   ],
   "source": [
    "# compute permutation test for all intracellular genes\n",
    "# for all distinct groups of intercellular genes\n",
    "importlib.reload(utility_functions)\n",
    "perm_stats = {gt:[] for gt in gene_type}\n",
    "\n",
    "for gt in gene_type:\n",
    "    \n",
    "    for at in association_type[:-1]: # leave 'none' out of the iteration\n",
    "        \n",
    "        x_index = intercell_genes[gt][at] # associated genes\n",
    "        y_index = intercell_genes[gt]['none'] # non-associated genes\n",
    "        \n",
    "        intracell_array = rwr_probs[gt]\n",
    "        x = intracell_array[x_index]\n",
    "        y = intracell_array[y_index]\n",
    "        \n",
    "        # perm_list has the test statistic & p-value for all intercell genes:\n",
    "        # [(statistic_0, pvalue_0), (statistic_1, pvalue_1), ...]\n",
    "        perm_list = Parallel(\n",
    "            n_jobs=-1)(\n",
    "            delayed(utility_functions.perm_test)(\n",
    "                x[:, i],\n",
    "                y[:, i],\n",
    "                n_permutations=5000) for i in tqdm(range(intracell_array.shape[1]))\n",
    "        )\n",
    "        \n",
    "        col = pd.MultiIndex.from_tuples(zip([at for i in range(2)], ['statistic', 'pvalue']))\n",
    "        perm_df = pd.DataFrame(\n",
    "            perm_list,\n",
    "            columns=col,\n",
    "            index=intracell_genes.gene)\n",
    "        \n",
    "        perm_stats[gt].append(perm_df)\n",
    "        "
   ]
  },
  {
   "cell_type": "code",
   "execution_count": 143,
   "id": "a02374a1-e8cf-47f8-9d74-2938b2f84732",
   "metadata": {},
   "outputs": [],
   "source": [
    "pd.concat(perm_stats['target'], axis=1).to_csv(intracell_dir+'target_perm_test.csv')\n",
    "pd.concat(perm_stats['source'], axis=1).to_csv(intracell_dir+'source_perm_test.csv')"
   ]
  },
  {
   "cell_type": "markdown",
   "id": "5ce69e96-3f06-4d74-8d98-77cc657f572c",
   "metadata": {
    "jp-MarkdownHeadingCollapsed": true,
    "tags": []
   },
   "source": [
    "### Curated Graph"
   ]
  },
  {
   "cell_type": "code",
   "execution_count": 144,
   "id": "7b1444c0-77f2-48a2-aee0-08f2f45bbeee",
   "metadata": {},
   "outputs": [
    {
     "data": {
      "application/vnd.jupyter.widget-view+json": {
       "model_id": "9bfb0bcbd6934a65a0e482fa65307fa7",
       "version_major": 2,
       "version_minor": 0
      },
      "text/plain": [
       "  0%|          | 0/18215 [00:00<?, ?it/s]"
      ]
     },
     "metadata": {},
     "output_type": "display_data"
    },
    {
     "data": {
      "application/vnd.jupyter.widget-view+json": {
       "model_id": "fe89621726004f379f6fd78d64ba4b96",
       "version_major": 2,
       "version_minor": 0
      },
      "text/plain": [
       "  0%|          | 0/18215 [00:00<?, ?it/s]"
      ]
     },
     "metadata": {},
     "output_type": "display_data"
    },
    {
     "data": {
      "application/vnd.jupyter.widget-view+json": {
       "model_id": "735fce8acb3f40c09d3bbd76111f587b",
       "version_major": 2,
       "version_minor": 0
      },
      "text/plain": [
       "  0%|          | 0/18215 [00:00<?, ?it/s]"
      ]
     },
     "metadata": {},
     "output_type": "display_data"
    },
    {
     "data": {
      "application/vnd.jupyter.widget-view+json": {
       "model_id": "f3c7b517bf4541a294e9d06aadc4d403",
       "version_major": 2,
       "version_minor": 0
      },
      "text/plain": [
       "  0%|          | 0/18215 [00:00<?, ?it/s]"
      ]
     },
     "metadata": {},
     "output_type": "display_data"
    },
    {
     "data": {
      "application/vnd.jupyter.widget-view+json": {
       "model_id": "b7c16eab6254452995f3caa50c03f140",
       "version_major": 2,
       "version_minor": 0
      },
      "text/plain": [
       "  0%|          | 0/18215 [00:00<?, ?it/s]"
      ]
     },
     "metadata": {},
     "output_type": "display_data"
    },
    {
     "data": {
      "application/vnd.jupyter.widget-view+json": {
       "model_id": "02de95206d1b416098ad2b4345050b33",
       "version_major": 2,
       "version_minor": 0
      },
      "text/plain": [
       "  0%|          | 0/18215 [00:00<?, ?it/s]"
      ]
     },
     "metadata": {},
     "output_type": "display_data"
    }
   ],
   "source": [
    "# compute permutation test for all intracellular genes\n",
    "# for all distinct groups of intercellular genes\n",
    "importlib.reload(utility_functions)\n",
    "perm_stats = {gt:[] for gt in gene_type}\n",
    "\n",
    "for gt in gene_type:\n",
    "    \n",
    "    for at in association_type[:-1]: # leave 'none' out of the iteration\n",
    "        \n",
    "        x_index = intercell_genes_curated[gt][at] # associated genes\n",
    "        y_index = intercell_genes_curated[gt]['none'] # non-associated genes\n",
    "        \n",
    "        intracell_array = rwr_probs[gt]\n",
    "        x = intracell_array[x_index]\n",
    "        y = intracell_array[y_index]\n",
    "        \n",
    "        # perm_list has the test statistic & p-value for all intercell genes:\n",
    "        # [(statistic_0, pvalue_0), (statistic_1, pvalue_1), ...]\n",
    "        perm_list = Parallel(\n",
    "            n_jobs=-1)(\n",
    "            delayed(utility_functions.perm_test)(\n",
    "                x[:, i],\n",
    "                y[:, i],\n",
    "                n_permutations=5000) for i in tqdm(range(intracell_array.shape[1]))\n",
    "        )\n",
    "\n",
    "        col = pd.MultiIndex.from_tuples(zip([at for i in range(2)], ['statistic', 'pvalue']))\n",
    "        perm_df = pd.DataFrame(\n",
    "            perm_list,\n",
    "            columns=col,\n",
    "            index=intracell_genes.gene)\n",
    "        \n",
    "        perm_stats[gt].append(perm_df)\n",
    "        "
   ]
  },
  {
   "cell_type": "code",
   "execution_count": 145,
   "id": "a1a2b639-7955-45ff-bbd8-78c4ee3ed97d",
   "metadata": {},
   "outputs": [],
   "source": [
    "pd.concat(perm_stats['target'], axis=1).to_csv(intracell_dir+'target_curated_perm_test.csv')\n",
    "pd.concat(perm_stats['source'], axis=1).to_csv(intracell_dir+'source_curated_perm_test.csv')"
   ]
  },
  {
   "cell_type": "markdown",
   "id": "e47a8dd8-c8f0-458d-8a3d-fb77ea736e4b",
   "metadata": {
    "tags": []
   },
   "source": [
    "### Results"
   ]
  },
  {
   "cell_type": "code",
   "execution_count": 168,
   "id": "93443d08-478d-4f72-a0c1-55aef6ee5ed1",
   "metadata": {},
   "outputs": [
    {
     "data": {
      "text/html": [
       "<div>\n",
       "<style scoped>\n",
       "    .dataframe tbody tr th:only-of-type {\n",
       "        vertical-align: middle;\n",
       "    }\n",
       "\n",
       "    .dataframe tbody tr th {\n",
       "        vertical-align: top;\n",
       "    }\n",
       "\n",
       "    .dataframe thead th {\n",
       "        text-align: right;\n",
       "    }\n",
       "</style>\n",
       "<table border=\"1\" class=\"dataframe\">\n",
       "  <thead>\n",
       "    <tr style=\"text-align: right;\">\n",
       "      <th></th>\n",
       "      <th>gene</th>\n",
       "      <th>curated_label</th>\n",
       "      <th>label</th>\n",
       "      <th>is_curated</th>\n",
       "    </tr>\n",
       "  </thead>\n",
       "  <tbody>\n",
       "    <tr>\n",
       "      <th>0</th>\n",
       "      <td>A1BG</td>\n",
       "      <td>0</td>\n",
       "      <td>0</td>\n",
       "      <td>True</td>\n",
       "    </tr>\n",
       "    <tr>\n",
       "      <th>1</th>\n",
       "      <td>ABCB1</td>\n",
       "      <td>0</td>\n",
       "      <td>0</td>\n",
       "      <td>False</td>\n",
       "    </tr>\n",
       "  </tbody>\n",
       "</table>\n",
       "</div>"
      ],
      "text/plain": [
       "    gene  curated_label  label  is_curated\n",
       "0   A1BG              0      0        True\n",
       "1  ABCB1              0      0       False"
      ]
     },
     "execution_count": 168,
     "metadata": {},
     "output_type": "execute_result"
    }
   ],
   "source": [
    "genes = dict(\n",
    "    target = pd.read_csv(intracell_dir+'target_labels.csv'),\n",
    "    source = pd.read_csv(intracell_dir+'source_labels.csv')\n",
    ")\n",
    "genes['target'].head(2)"
   ]
  },
  {
   "cell_type": "code",
   "execution_count": 169,
   "id": "99d036f0-0754-426a-ac72-71cb3a31983b",
   "metadata": {},
   "outputs": [
    {
     "data": {
      "text/html": [
       "<div>\n",
       "<style scoped>\n",
       "    .dataframe tbody tr th:only-of-type {\n",
       "        vertical-align: middle;\n",
       "    }\n",
       "\n",
       "    .dataframe tbody tr th {\n",
       "        vertical-align: top;\n",
       "    }\n",
       "\n",
       "    .dataframe thead tr th {\n",
       "        text-align: left;\n",
       "    }\n",
       "\n",
       "    .dataframe thead tr:last-of-type th {\n",
       "        text-align: right;\n",
       "    }\n",
       "</style>\n",
       "<table border=\"1\" class=\"dataframe\">\n",
       "  <thead>\n",
       "    <tr>\n",
       "      <th></th>\n",
       "      <th colspan=\"2\" halign=\"left\">positive</th>\n",
       "      <th colspan=\"2\" halign=\"left\">negative</th>\n",
       "      <th colspan=\"2\" halign=\"left\">neutral</th>\n",
       "    </tr>\n",
       "    <tr>\n",
       "      <th></th>\n",
       "      <th>statistic</th>\n",
       "      <th>pvalue</th>\n",
       "      <th>statistic</th>\n",
       "      <th>pvalue</th>\n",
       "      <th>statistic</th>\n",
       "      <th>pvalue</th>\n",
       "    </tr>\n",
       "    <tr>\n",
       "      <th>gene</th>\n",
       "      <th></th>\n",
       "      <th></th>\n",
       "      <th></th>\n",
       "      <th></th>\n",
       "      <th></th>\n",
       "      <th></th>\n",
       "    </tr>\n",
       "  </thead>\n",
       "  <tbody>\n",
       "    <tr>\n",
       "      <th>A1BG</th>\n",
       "      <td>-1.207546e-03</td>\n",
       "      <td>0.256749</td>\n",
       "      <td>-1.207586e-03</td>\n",
       "      <td>0.189562</td>\n",
       "      <td>-1.207350e-03</td>\n",
       "      <td>0.077385</td>\n",
       "    </tr>\n",
       "    <tr>\n",
       "      <th>A1CF</th>\n",
       "      <td>1.785138e-07</td>\n",
       "      <td>0.000200</td>\n",
       "      <td>5.823224e-08</td>\n",
       "      <td>0.091982</td>\n",
       "      <td>2.254983e-07</td>\n",
       "      <td>0.029794</td>\n",
       "    </tr>\n",
       "  </tbody>\n",
       "</table>\n",
       "</div>"
      ],
      "text/plain": [
       "          positive                negative                 neutral          \n",
       "         statistic    pvalue     statistic    pvalue     statistic    pvalue\n",
       "gene                                                                        \n",
       "A1BG -1.207546e-03  0.256749 -1.207586e-03  0.189562 -1.207350e-03  0.077385\n",
       "A1CF  1.785138e-07  0.000200  5.823224e-08  0.091982  2.254983e-07  0.029794"
      ]
     },
     "metadata": {},
     "output_type": "display_data"
    },
    {
     "data": {
      "text/html": [
       "<div>\n",
       "<style scoped>\n",
       "    .dataframe tbody tr th:only-of-type {\n",
       "        vertical-align: middle;\n",
       "    }\n",
       "\n",
       "    .dataframe tbody tr th {\n",
       "        vertical-align: top;\n",
       "    }\n",
       "\n",
       "    .dataframe thead tr th {\n",
       "        text-align: left;\n",
       "    }\n",
       "\n",
       "    .dataframe thead tr:last-of-type th {\n",
       "        text-align: right;\n",
       "    }\n",
       "</style>\n",
       "<table border=\"1\" class=\"dataframe\">\n",
       "  <thead>\n",
       "    <tr>\n",
       "      <th></th>\n",
       "      <th colspan=\"2\" halign=\"left\">positive</th>\n",
       "      <th colspan=\"2\" halign=\"left\">negative</th>\n",
       "      <th colspan=\"2\" halign=\"left\">neutral</th>\n",
       "    </tr>\n",
       "    <tr>\n",
       "      <th></th>\n",
       "      <th>statistic</th>\n",
       "      <th>pvalue</th>\n",
       "      <th>statistic</th>\n",
       "      <th>pvalue</th>\n",
       "      <th>statistic</th>\n",
       "      <th>pvalue</th>\n",
       "    </tr>\n",
       "    <tr>\n",
       "      <th>gene</th>\n",
       "      <th></th>\n",
       "      <th></th>\n",
       "      <th></th>\n",
       "      <th></th>\n",
       "      <th></th>\n",
       "      <th></th>\n",
       "    </tr>\n",
       "  </thead>\n",
       "  <tbody>\n",
       "    <tr>\n",
       "      <th>A1BG</th>\n",
       "      <td>0.0</td>\n",
       "      <td>1.0</td>\n",
       "      <td>0.0</td>\n",
       "      <td>1.0</td>\n",
       "      <td>0.0</td>\n",
       "      <td>1.0</td>\n",
       "    </tr>\n",
       "    <tr>\n",
       "      <th>A1CF</th>\n",
       "      <td>0.0</td>\n",
       "      <td>1.0</td>\n",
       "      <td>0.0</td>\n",
       "      <td>1.0</td>\n",
       "      <td>0.0</td>\n",
       "      <td>1.0</td>\n",
       "    </tr>\n",
       "  </tbody>\n",
       "</table>\n",
       "</div>"
      ],
      "text/plain": [
       "      positive         negative          neutral       \n",
       "     statistic pvalue statistic pvalue statistic pvalue\n",
       "gene                                                   \n",
       "A1BG       0.0    1.0       0.0    1.0       0.0    1.0\n",
       "A1CF       0.0    1.0       0.0    1.0       0.0    1.0"
      ]
     },
     "execution_count": 169,
     "metadata": {},
     "output_type": "execute_result"
    }
   ],
   "source": [
    "perm_stats = dict(\n",
    "    target = pd.read_csv(intracell_dir+'target_perm_test.csv', index_col=0, header=[0,1]),\n",
    "    source = pd.read_csv(intracell_dir+'source_perm_test.csv', index_col=0, header=[0,1])\n",
    ")\n",
    "display(perm_stats['target'].head(2))\n",
    "perm_stats['source'].head(2)"
   ]
  },
  {
   "cell_type": "code",
   "execution_count": 170,
   "id": "c4cf6649-e6ba-4fe8-8d98-50c3a0d8adfb",
   "metadata": {},
   "outputs": [
    {
     "data": {
      "text/html": [
       "<div>\n",
       "<style scoped>\n",
       "    .dataframe tbody tr th:only-of-type {\n",
       "        vertical-align: middle;\n",
       "    }\n",
       "\n",
       "    .dataframe tbody tr th {\n",
       "        vertical-align: top;\n",
       "    }\n",
       "\n",
       "    .dataframe thead tr th {\n",
       "        text-align: left;\n",
       "    }\n",
       "\n",
       "    .dataframe thead tr:last-of-type th {\n",
       "        text-align: right;\n",
       "    }\n",
       "</style>\n",
       "<table border=\"1\" class=\"dataframe\">\n",
       "  <thead>\n",
       "    <tr>\n",
       "      <th></th>\n",
       "      <th colspan=\"2\" halign=\"left\">positive</th>\n",
       "      <th colspan=\"2\" halign=\"left\">negative</th>\n",
       "      <th colspan=\"2\" halign=\"left\">neutral</th>\n",
       "    </tr>\n",
       "    <tr>\n",
       "      <th></th>\n",
       "      <th>statistic</th>\n",
       "      <th>pvalue</th>\n",
       "      <th>statistic</th>\n",
       "      <th>pvalue</th>\n",
       "      <th>statistic</th>\n",
       "      <th>pvalue</th>\n",
       "    </tr>\n",
       "    <tr>\n",
       "      <th>gene</th>\n",
       "      <th></th>\n",
       "      <th></th>\n",
       "      <th></th>\n",
       "      <th></th>\n",
       "      <th></th>\n",
       "      <th></th>\n",
       "    </tr>\n",
       "  </thead>\n",
       "  <tbody>\n",
       "    <tr>\n",
       "      <th>A1BG</th>\n",
       "      <td>-1.349361e-03</td>\n",
       "      <td>0.221356</td>\n",
       "      <td>-1.349382e-03</td>\n",
       "      <td>0.215957</td>\n",
       "      <td>-1.349202e-03</td>\n",
       "      <td>0.050790</td>\n",
       "    </tr>\n",
       "    <tr>\n",
       "      <th>A1CF</th>\n",
       "      <td>9.430759e-08</td>\n",
       "      <td>0.000200</td>\n",
       "      <td>6.586697e-08</td>\n",
       "      <td>0.028794</td>\n",
       "      <td>2.275775e-07</td>\n",
       "      <td>0.047391</td>\n",
       "    </tr>\n",
       "  </tbody>\n",
       "</table>\n",
       "</div>"
      ],
      "text/plain": [
       "          positive                negative                 neutral          \n",
       "         statistic    pvalue     statistic    pvalue     statistic    pvalue\n",
       "gene                                                                        \n",
       "A1BG -1.349361e-03  0.221356 -1.349382e-03  0.215957 -1.349202e-03  0.050790\n",
       "A1CF  9.430759e-08  0.000200  6.586697e-08  0.028794  2.275775e-07  0.047391"
      ]
     },
     "metadata": {},
     "output_type": "display_data"
    },
    {
     "data": {
      "text/html": [
       "<div>\n",
       "<style scoped>\n",
       "    .dataframe tbody tr th:only-of-type {\n",
       "        vertical-align: middle;\n",
       "    }\n",
       "\n",
       "    .dataframe tbody tr th {\n",
       "        vertical-align: top;\n",
       "    }\n",
       "\n",
       "    .dataframe thead tr th {\n",
       "        text-align: left;\n",
       "    }\n",
       "\n",
       "    .dataframe thead tr:last-of-type th {\n",
       "        text-align: right;\n",
       "    }\n",
       "</style>\n",
       "<table border=\"1\" class=\"dataframe\">\n",
       "  <thead>\n",
       "    <tr>\n",
       "      <th></th>\n",
       "      <th colspan=\"2\" halign=\"left\">positive</th>\n",
       "      <th colspan=\"2\" halign=\"left\">negative</th>\n",
       "      <th colspan=\"2\" halign=\"left\">neutral</th>\n",
       "    </tr>\n",
       "    <tr>\n",
       "      <th></th>\n",
       "      <th>statistic</th>\n",
       "      <th>pvalue</th>\n",
       "      <th>statistic</th>\n",
       "      <th>pvalue</th>\n",
       "      <th>statistic</th>\n",
       "      <th>pvalue</th>\n",
       "    </tr>\n",
       "    <tr>\n",
       "      <th>gene</th>\n",
       "      <th></th>\n",
       "      <th></th>\n",
       "      <th></th>\n",
       "      <th></th>\n",
       "      <th></th>\n",
       "      <th></th>\n",
       "    </tr>\n",
       "  </thead>\n",
       "  <tbody>\n",
       "    <tr>\n",
       "      <th>A1BG</th>\n",
       "      <td>0.0</td>\n",
       "      <td>1.0</td>\n",
       "      <td>0.0</td>\n",
       "      <td>1.0</td>\n",
       "      <td>0.0</td>\n",
       "      <td>1.0</td>\n",
       "    </tr>\n",
       "    <tr>\n",
       "      <th>A1CF</th>\n",
       "      <td>0.0</td>\n",
       "      <td>1.0</td>\n",
       "      <td>0.0</td>\n",
       "      <td>1.0</td>\n",
       "      <td>0.0</td>\n",
       "      <td>1.0</td>\n",
       "    </tr>\n",
       "  </tbody>\n",
       "</table>\n",
       "</div>"
      ],
      "text/plain": [
       "      positive         negative          neutral       \n",
       "     statistic pvalue statistic pvalue statistic pvalue\n",
       "gene                                                   \n",
       "A1BG       0.0    1.0       0.0    1.0       0.0    1.0\n",
       "A1CF       0.0    1.0       0.0    1.0       0.0    1.0"
      ]
     },
     "execution_count": 170,
     "metadata": {},
     "output_type": "execute_result"
    }
   ],
   "source": [
    "perm_stats_curated = dict(\n",
    "    target = pd.read_csv(intracell_dir+'target_curated_perm_test.csv', index_col=0, header=[0,1]),\n",
    "    source = pd.read_csv(intracell_dir+'source_curated_perm_test.csv', index_col=0, header=[0,1])\n",
    ")\n",
    "display(perm_stats_curated['target'].head(2))\n",
    "perm_stats_curated['source'].head(2)"
   ]
  },
  {
   "cell_type": "code",
   "execution_count": 171,
   "id": "94603afb-5acd-47f5-9829-83a3612b08b4",
   "metadata": {},
   "outputs": [
    {
     "data": {
      "text/html": [
       "<div>\n",
       "<style scoped>\n",
       "    .dataframe tbody tr th:only-of-type {\n",
       "        vertical-align: middle;\n",
       "    }\n",
       "\n",
       "    .dataframe tbody tr th {\n",
       "        vertical-align: top;\n",
       "    }\n",
       "\n",
       "    .dataframe thead th {\n",
       "        text-align: right;\n",
       "    }\n",
       "</style>\n",
       "<table border=\"1\" class=\"dataframe\">\n",
       "  <thead>\n",
       "    <tr style=\"text-align: right;\">\n",
       "      <th></th>\n",
       "      <th>gene</th>\n",
       "      <th>signal</th>\n",
       "      <th>pvalue</th>\n",
       "      <th>statistic</th>\n",
       "    </tr>\n",
       "  </thead>\n",
       "  <tbody>\n",
       "    <tr>\n",
       "      <th>0</th>\n",
       "      <td>A1CF</td>\n",
       "      <td>negative</td>\n",
       "      <td>0.336134</td>\n",
       "      <td>5.823224e-08</td>\n",
       "    </tr>\n",
       "    <tr>\n",
       "      <th>1</th>\n",
       "      <td>A1CF</td>\n",
       "      <td>neutral</td>\n",
       "      <td>0.103806</td>\n",
       "      <td>2.254983e-07</td>\n",
       "    </tr>\n",
       "  </tbody>\n",
       "</table>\n",
       "</div>"
      ],
      "text/plain": [
       "   gene    signal    pvalue     statistic\n",
       "0  A1CF  negative  0.336134  5.823224e-08\n",
       "1  A1CF   neutral  0.103806  2.254983e-07"
      ]
     },
     "metadata": {},
     "output_type": "display_data"
    },
    {
     "data": {
      "text/html": [
       "<div>\n",
       "<style scoped>\n",
       "    .dataframe tbody tr th:only-of-type {\n",
       "        vertical-align: middle;\n",
       "    }\n",
       "\n",
       "    .dataframe tbody tr th {\n",
       "        vertical-align: top;\n",
       "    }\n",
       "\n",
       "    .dataframe thead th {\n",
       "        text-align: right;\n",
       "    }\n",
       "</style>\n",
       "<table border=\"1\" class=\"dataframe\">\n",
       "  <thead>\n",
       "    <tr style=\"text-align: right;\">\n",
       "      <th></th>\n",
       "      <th>gene</th>\n",
       "      <th>signal</th>\n",
       "      <th>pvalue</th>\n",
       "      <th>statistic</th>\n",
       "    </tr>\n",
       "  </thead>\n",
       "  <tbody>\n",
       "    <tr>\n",
       "      <th>0</th>\n",
       "      <td>A1BG</td>\n",
       "      <td>negative</td>\n",
       "      <td>1.0</td>\n",
       "      <td>0.0</td>\n",
       "    </tr>\n",
       "    <tr>\n",
       "      <th>1</th>\n",
       "      <td>A1BG</td>\n",
       "      <td>neutral</td>\n",
       "      <td>1.0</td>\n",
       "      <td>0.0</td>\n",
       "    </tr>\n",
       "  </tbody>\n",
       "</table>\n",
       "</div>"
      ],
      "text/plain": [
       "   gene    signal  pvalue  statistic\n",
       "0  A1BG  negative     1.0        0.0\n",
       "1  A1BG   neutral     1.0        0.0"
      ]
     },
     "execution_count": 171,
     "metadata": {},
     "output_type": "execute_result"
    }
   ],
   "source": [
    "# Multiple tests correction\n",
    "perm_stats_corr = {}\n",
    "for k, stats in perm_stats.items():\n",
    "    data = stats.copy()\n",
    "    # remove intercell genes\n",
    "    intercell_genes = genes[k].gene\n",
    "    data = stats.loc[~(stats.index.isin(intercell_genes))].copy()\n",
    "    for at in association_type[:-1]:\n",
    "        \n",
    "        data[at, 'pvalue'] = multitest.fdrcorrection(data[at, 'pvalue'])[1]\n",
    "    \n",
    "    x = data.loc[:, (slice(None), 'pvalue')].stack(level=[0,1]).reset_index()\n",
    "    x.drop(columns='level_2', inplace=True)\n",
    "    x.rename(columns={'level_1': 'signal', 0: 'pvalue'}, inplace=True)\n",
    "    \n",
    "    y = data.loc[:, (slice(None), 'statistic')].stack(level=[0,1]).reset_index()\n",
    "    y.drop(columns='level_2', inplace=True)\n",
    "    y.rename(columns={'level_1': 'signal', 0: 'statistic'}, inplace=True)\n",
    "    \n",
    "    perm_stats_corr[k] = pd.merge(x, y)\n",
    "    \n",
    "display(perm_stats_corr['target'].head(2))\n",
    "perm_stats_corr['source'].head(2)"
   ]
  },
  {
   "cell_type": "code",
   "execution_count": 172,
   "id": "ef9a6e05-97b8-44f3-8974-12e254396066",
   "metadata": {},
   "outputs": [
    {
     "data": {
      "text/html": [
       "<div>\n",
       "<style scoped>\n",
       "    .dataframe tbody tr th:only-of-type {\n",
       "        vertical-align: middle;\n",
       "    }\n",
       "\n",
       "    .dataframe tbody tr th {\n",
       "        vertical-align: top;\n",
       "    }\n",
       "\n",
       "    .dataframe thead th {\n",
       "        text-align: right;\n",
       "    }\n",
       "</style>\n",
       "<table border=\"1\" class=\"dataframe\">\n",
       "  <thead>\n",
       "    <tr style=\"text-align: right;\">\n",
       "      <th></th>\n",
       "      <th>gene</th>\n",
       "      <th>signal</th>\n",
       "      <th>pvalue</th>\n",
       "      <th>statistic</th>\n",
       "    </tr>\n",
       "  </thead>\n",
       "  <tbody>\n",
       "    <tr>\n",
       "      <th>0</th>\n",
       "      <td>A1CF</td>\n",
       "      <td>negative</td>\n",
       "      <td>0.145012</td>\n",
       "      <td>6.586697e-08</td>\n",
       "    </tr>\n",
       "    <tr>\n",
       "      <th>1</th>\n",
       "      <td>A1CF</td>\n",
       "      <td>neutral</td>\n",
       "      <td>0.177389</td>\n",
       "      <td>2.275775e-07</td>\n",
       "    </tr>\n",
       "  </tbody>\n",
       "</table>\n",
       "</div>"
      ],
      "text/plain": [
       "   gene    signal    pvalue     statistic\n",
       "0  A1CF  negative  0.145012  6.586697e-08\n",
       "1  A1CF   neutral  0.177389  2.275775e-07"
      ]
     },
     "metadata": {},
     "output_type": "display_data"
    },
    {
     "data": {
      "text/html": [
       "<div>\n",
       "<style scoped>\n",
       "    .dataframe tbody tr th:only-of-type {\n",
       "        vertical-align: middle;\n",
       "    }\n",
       "\n",
       "    .dataframe tbody tr th {\n",
       "        vertical-align: top;\n",
       "    }\n",
       "\n",
       "    .dataframe thead th {\n",
       "        text-align: right;\n",
       "    }\n",
       "</style>\n",
       "<table border=\"1\" class=\"dataframe\">\n",
       "  <thead>\n",
       "    <tr style=\"text-align: right;\">\n",
       "      <th></th>\n",
       "      <th>gene</th>\n",
       "      <th>signal</th>\n",
       "      <th>pvalue</th>\n",
       "      <th>statistic</th>\n",
       "    </tr>\n",
       "  </thead>\n",
       "  <tbody>\n",
       "    <tr>\n",
       "      <th>0</th>\n",
       "      <td>A1BG</td>\n",
       "      <td>negative</td>\n",
       "      <td>1.0</td>\n",
       "      <td>0.0</td>\n",
       "    </tr>\n",
       "    <tr>\n",
       "      <th>1</th>\n",
       "      <td>A1BG</td>\n",
       "      <td>neutral</td>\n",
       "      <td>1.0</td>\n",
       "      <td>0.0</td>\n",
       "    </tr>\n",
       "  </tbody>\n",
       "</table>\n",
       "</div>"
      ],
      "text/plain": [
       "   gene    signal  pvalue  statistic\n",
       "0  A1BG  negative     1.0        0.0\n",
       "1  A1BG   neutral     1.0        0.0"
      ]
     },
     "execution_count": 172,
     "metadata": {},
     "output_type": "execute_result"
    }
   ],
   "source": [
    "# Multiple tests correction\n",
    "perm_stats_curated_corr = {}\n",
    "for k, stats in perm_stats_curated.items():\n",
    "    data = stats.copy()\n",
    "    # remove intercell genes\n",
    "    intercell_genes = genes[k].loc[genes[k].is_curated==True, 'gene']\n",
    "    data = stats.loc[~(stats.index.isin(intercell_genes))].copy()\n",
    "    for at in association_type[:-1]:\n",
    "        \n",
    "        data[at, 'pvalue'] = multitest.fdrcorrection(data[at, 'pvalue'])[1]\n",
    "    \n",
    "    x = data.loc[:, (slice(None), 'pvalue')].stack(level=[0,1]).reset_index()\n",
    "    x.drop(columns='level_2', inplace=True)\n",
    "    x.rename(columns={'level_1': 'signal', 0: 'pvalue'}, inplace=True)\n",
    "    \n",
    "    y = data.loc[:, (slice(None), 'statistic')].stack(level=[0,1]).reset_index()\n",
    "    y.drop(columns='level_2', inplace=True)\n",
    "    y.rename(columns={'level_1': 'signal', 0: 'statistic'}, inplace=True)\n",
    "    \n",
    "    perm_stats_curated_corr[k] = pd.merge(x, y)\n",
    "    \n",
    "display(perm_stats_curated_corr['target'].head(2))\n",
    "perm_stats_curated_corr['source'].head(2)"
   ]
  },
  {
   "cell_type": "code",
   "execution_count": 173,
   "id": "e59b0250-7f6c-4d07-8e3d-f88a8a86b523",
   "metadata": {},
   "outputs": [
    {
     "name": "stdout",
     "output_type": "stream",
     "text": [
      "target genes with p-value < 0.05:\n",
      "- positive: 7608\n",
      "- negative: 711\n",
      "- neutral: 896\n",
      "\n",
      "source genes with p-value < 0.05:\n",
      "- positive: 222\n",
      "- negative: 0\n",
      "- neutral: 0\n",
      "\n"
     ]
    }
   ],
   "source": [
    "for k, stats in perm_stats_corr.items():\n",
    "    print(k + ' genes with p-value < 0.05:')\n",
    "    \n",
    "    for at in association_type[:-1]:\n",
    "        sign_genes = stats[(stats.signal==at)&(stats.pvalue<0.05)].shape[0]\n",
    "        print(f'- {at}:', sign_genes)\n",
    "        \n",
    "    stats.to_csv(intracell_dir+f'{k}_perm_test_records.csv', index=False)\n",
    "    print()"
   ]
  }
 ],
 "metadata": {
  "kernelspec": {
   "display_name": "Python 3 (ipykernel)",
   "language": "python",
   "name": "python3"
  },
  "language_info": {
   "codemirror_mode": {
    "name": "ipython",
    "version": 3
   },
   "file_extension": ".py",
   "mimetype": "text/x-python",
   "name": "python",
   "nbconvert_exporter": "python",
   "pygments_lexer": "ipython3",
   "version": "3.10.12"
  },
  "vscode": {
   "interpreter": {
    "hash": "916dbcbb3f70747c44a77c7bcd40155683ae19c65e1c03b4aa3499c5328201f1"
   }
  }
 },
 "nbformat": 4,
 "nbformat_minor": 5
}

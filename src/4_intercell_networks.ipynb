{
 "cells": [
  {
   "cell_type": "code",
   "execution_count": null,
   "metadata": {},
   "outputs": [],
   "source": [
    "import pandas as pd\n",
    "import numpy as np\n",
    "from tqdm.notebook import tqdm\n",
    "from functions import intercell_networks, utility_functions\n",
    "import importlib\n",
    "from IPython.display import display\n",
    "from joblib import Parallel, delayed\n",
    "import itertools"
   ]
  },
  {
   "cell_type": "code",
   "execution_count": null,
   "metadata": {},
   "outputs": [],
   "source": [
    "raw_data_dir = '../data/raw/'\n",
    "gene_exp_dir = '../data/processed/gene_expression/'\n",
    "org_pairs_dir = '../data/processed/organotropism_pairs/'\n",
    "intercell_net_dir = '../data/processed/intercell_networks/'"
   ]
  },
  {
   "cell_type": "code",
   "execution_count": null,
   "metadata": {},
   "outputs": [],
   "source": [
    "metastasis_datasets = ['autopsy', 'hcmdb']\n",
    "tissue_datasets = ['gtex', 'consensus']\n",
    "network_types = ['all', 'curated']"
   ]
  },
  {
   "cell_type": "markdown",
   "metadata": {
    "jp-MarkdownHeadingCollapsed": true
   },
   "source": [
    "# Tissue labels & match"
   ]
  },
  {
   "cell_type": "markdown",
   "metadata": {},
   "source": [
    "**Tissue id for file naming**\n",
    "* We will set a index column to create a integer id for each tissue.\n",
    "* The id is dependent on the tissue database so the same number might not correspond to a similar tissue in both databases.\n",
    "* This will allow us to name the intercellular network files in an simple and unambiguous way"
   ]
  },
  {
   "cell_type": "code",
   "execution_count": null,
   "metadata": {},
   "outputs": [],
   "source": [
    "tissues = pd.read_csv(raw_data_dir+'tissue_match.csv').reset_index().set_index('tissue')\n",
    "tissues.head()"
   ]
  },
  {
   "cell_type": "code",
   "execution_count": null,
   "metadata": {},
   "outputs": [],
   "source": [
    "# we will use two intercellular interactions datasets:\n",
    "# all interactions\n",
    "# only manually curated interactions\n",
    "\n",
    "intercell_graph = {}\n",
    "for net_type in network_types:\n",
    "    if net_type == 'all':\n",
    "        label = '_'\n",
    "    else:\n",
    "        label = f'_{net_type}_'\n",
    "    \n",
    "    intercell_graph[net_type] = pd.read_csv(intercell_net_dir+f'intercell{label}graph.csv')\n",
    "    print(f'{net_type}: {intercell_graph[net_type].shape[0]} interactions')"
   ]
  },
  {
   "cell_type": "markdown",
   "metadata": {
    "jp-MarkdownHeadingCollapsed": true,
    "tags": []
   },
   "source": [
    "# Computing intercellular interactions between tissue pairs\n",
    "This part of our work will be the first step towards building tissue specific PPI networks. We will start by looking at \n",
    "our hypothesis is that intercellular interactions established between metastasizing cells and the cells pre-metastatic niche are essential for metastasis development. We expect to find more intercell interactions between organotropism pairs than between control pairs.\n",
    "\n",
    "Workflow:\n",
    "* import tissue pairs, gene expression calls, intercell interactions data\n",
    "* select intercell interactions genes\n",
    "* compute number of intercell interactions between tissue pairs using expression calls\n",
    "* compute weighted (normalized by the max value) intercell interactions between tissue pairs "
   ]
  },
  {
   "cell_type": "markdown",
   "metadata": {
    "jp-MarkdownHeadingCollapsed": true,
    "tags": []
   },
   "source": [
    "# Intercellular interactions networks with gene calls"
   ]
  },
  {
   "cell_type": "markdown",
   "metadata": {
    "jp-MarkdownHeadingCollapsed": true,
    "tags": []
   },
   "source": [
    "## Ungrouped Tissue Networks"
   ]
  },
  {
   "cell_type": "code",
   "execution_count": null,
   "metadata": {},
   "outputs": [],
   "source": [
    "# build intercell networks\n",
    "\n",
    "for tissue_dataset in tqdm(tissue_datasets, desc='tissue_dataset'):\n",
    "    calls = pd.read_csv(gene_exp_dir+f'{tissue_dataset}/records.csv')\n",
    "\n",
    "    # choose calls\n",
    "    calls = calls.pivot_table(values='call_0.4_0.9', index='gene_id', columns='tissue')\n",
    "    # Transform zeros in NaN\n",
    "    calls = calls.where(calls==1)\n",
    "\n",
    "    for net_type in tqdm(network_types, desc='network_type'):\n",
    "\n",
    "        graph = intercell_graph[net_type]\n",
    "        directory = intercell_net_dir+f'{net_type}/{tissue_dataset}/ungrouped'\n",
    "        utility_functions.check_dir(directory)\n",
    "        \n",
    "        intercell_networks.build_intercell_networks(\n",
    "            tissues[['index', tissue_dataset]].dropna(), \n",
    "            calls,\n",
    "            graph,\n",
    "            tissue_column=tissue_dataset,\n",
    "            directory=directory,\n",
    "            sep='_'\n",
    "        )"
   ]
  },
  {
   "cell_type": "markdown",
   "metadata": {
    "jp-MarkdownHeadingCollapsed": true,
    "tags": []
   },
   "source": [
    "## Grouped Tissue Networks"
   ]
  },
  {
   "cell_type": "code",
   "execution_count": null,
   "metadata": {},
   "outputs": [],
   "source": [
    "# build intercell networks\n",
    "\n",
    "for tissue_dataset in tqdm(tissue_datasets, desc='tissue_dataset'):\n",
    "    calls = pd.read_csv(gene_exp_dir+f'{tissue_dataset}/grouped_records.csv')\n",
    "\n",
    "    # choose calls\n",
    "    calls = calls.pivot_table(values='call_0.4_0.9', index='gene_id', columns='tissue')\n",
    "    # Transform zeros in NaN\n",
    "    calls = calls.where(calls==1)\n",
    "\n",
    "    for net_type in tqdm(network_types, desc='network_type'):\n",
    "\n",
    "        graph = intercell_graph[net_type]\n",
    "        directory = intercell_net_dir+f'{net_type}/{tissue_dataset}/grouped'\n",
    "        utility_functions.check_dir(directory)\n",
    "        \n",
    "        intercell_networks.build_grouped_intercell_networks( \n",
    "            calls,\n",
    "            graph,\n",
    "            directory=directory,\n",
    "            sep='-'\n",
    "        )"
   ]
  },
  {
   "cell_type": "markdown",
   "metadata": {
    "tags": []
   },
   "source": [
    "## Controlled comparison network stats\n",
    "In the controlled comparison we will not be using the grouped tissues networks since each tissue/organ appears the same amount of times in the organotropism vs control groups. That means the number of sub-tissues is balanced between groups and does not skew the results"
   ]
  },
  {
   "cell_type": "markdown",
   "metadata": {
    "tags": []
   },
   "source": [
    "### Compute number of intercellular interactions for each tissue pair"
   ]
  },
  {
   "cell_type": "code",
   "execution_count": null,
   "metadata": {
    "tags": []
   },
   "outputs": [],
   "source": [
    "# compute the number of intercell interactions for each pair\n",
    "\n",
    "network_stats = []\n",
    "\n",
    "for net_type in tqdm(network_types, desc='network_type'):\n",
    "    for tissue_dataset in tqdm(tissue_datasets, desc='tissue_dataset'):\n",
    "    \n",
    "        directory = intercell_net_dir+f'{net_type}/{tissue_dataset}/ungrouped'\n",
    "        stats = intercell_networks.compute_intercell_interactions(\n",
    "            directory,\n",
    "            extra_labels=[\n",
    "                ('interactions', net_type),\n",
    "                ('tissue_dataset', tissue_dataset)\n",
    "            ]\n",
    "        )\n",
    "        network_stats.extend(stats)\n",
    "        \n",
    "network_stats = pd.DataFrame(network_stats)\n",
    "network_stats.head(2)"
   ]
  },
  {
   "cell_type": "code",
   "execution_count": null,
   "metadata": {},
   "outputs": [],
   "source": [
    "# split directed and undirected stats\n",
    "network_stats_undir = network_stats.drop(['directed_interactions', 'direction'], axis=1)\\\n",
    "    .drop_duplicates(ignore_index=True)\n",
    "network_stats_dir = network_stats.drop('simple_interactions', axis=1)\n",
    "network_stats_undir.head(2)"
   ]
  },
  {
   "cell_type": "code",
   "execution_count": null,
   "metadata": {},
   "outputs": [],
   "source": [
    "# to get all tissue pairs, we'll create a dataframe where we reverse the tissue order\n",
    "network_stats_undir_rev = network_stats_undir.copy().rename({\n",
    "    'cancer_tissue':'metastasis_tissue',\n",
    "    'metastasis_tissue':'cancer_tissue',\n",
    "}, axis=1)\n",
    "\n",
    "# for directed interactions we also have to change the entry's direction\n",
    "network_stats_dir_rev = network_stats_dir.copy().rename({\n",
    "    'cancer_tissue':'metastasis_tissue',\n",
    "    'metastasis_tissue':'cancer_tissue',\n",
    "}, axis=1)\n",
    "display(network_stats_dir_rev.head())\n",
    "network_stats_dir_rev['direction'] = np.where(network_stats_dir_rev['direction']=='c_to_m', 'm_to_c', 'c_to_m')\n",
    "network_stats_dir_rev.head()"
   ]
  },
  {
   "cell_type": "code",
   "execution_count": null,
   "metadata": {},
   "outputs": [],
   "source": [
    "# Concatenate reverse dataframes\n",
    "network_stats_undir_network = pd.concat(\n",
    "    [network_stats_undir, network_stats_undir_rev], ignore_index=True)\n",
    "network_stats_dir_network = pd.concat(\n",
    "    [network_stats_dir, network_stats_dir_rev], ignore_index=True)\n",
    "\n",
    "network_stats_dir_network.head(2)"
   ]
  },
  {
   "cell_type": "markdown",
   "metadata": {
    "tags": []
   },
   "source": [
    "### Compute Jaccard index for each tissue pair"
   ]
  },
  {
   "cell_type": "markdown",
   "metadata": {},
   "source": [
    "The Jaccard index, also known as the Jaccard similarity coefficient, is a statistic used for gauging the similarity and diversity of sample sets:\n",
    "$$\n",
    "J(C,M)=\\frac{|C\\cap{M}|}{|C\\cup{M}|}=\\frac{|C\\cap{M}|}{|C|+|M|-|C\\cap{M}|},\n",
    "$$\n",
    "\n",
    "$|C\\cap{M}|:$ number of intercellular interactions between cancer (C) and metastasis (C) tissues\n",
    "\n",
    "$|C\\cup{M}|:$ total number of intercellular interactions that cancer (C) and metastasis (C) tissues can form"
   ]
  },
  {
   "cell_type": "markdown",
   "metadata": {
    "tags": []
   },
   "source": [
    "#### Undirected jaccard"
   ]
  },
  {
   "cell_type": "code",
   "execution_count": null,
   "metadata": {},
   "outputs": [],
   "source": [
    "jaccard_records = []\n",
    "\n",
    "for tissue_dataset in tqdm(tissue_datasets, desc='tissue_dataset'):\n",
    "    \n",
    "    calls = pd.read_csv(gene_exp_dir+f'{tissue_dataset}/records.csv')\n",
    "    calls = calls.pivot_table(values='call_0.4_0.9', index='gene_id', columns='tissue')\n",
    "\n",
    "    for net_type in tqdm(network_types, desc='network_type'):\n",
    "        \n",
    "        graph = intercell_graph[net_type]\n",
    "\n",
    "        df = network_stats_undir_network[\n",
    "            (network_stats_undir_network.tissue_dataset==tissue_dataset) & \n",
    "            (network_stats_undir_network.interactions==net_type)\n",
    "            ]\n",
    "        \n",
    "        unique_pairs = df[\n",
    "            ['cancer_tissue', 'metastasis_tissue', 'simple_interactions']].drop_duplicates().values\n",
    "\n",
    "        for pair in tqdm(unique_pairs, desc='pairs'):\n",
    "            \n",
    "            tissue_pair = pair[:2]\n",
    "            intersection = pair[2]\n",
    "            jaccard = intercell_networks.jaccard_index(\n",
    "                tissue_pair, calls, graph, intersection)\n",
    "            \n",
    "            row = dict(\n",
    "                cancer_tissue=tissue_pair[0],\n",
    "                metastasis_tissue=tissue_pair[1],\n",
    "                tissue_dataset=tissue_dataset,\n",
    "                interactions=net_type,\n",
    "                jaccard=jaccard)\n",
    "            jaccard_records.append(row)\n",
    "            \n",
    "jaccard = pd.DataFrame(jaccard_records)\n",
    "jaccard.head()"
   ]
  },
  {
   "cell_type": "code",
   "execution_count": null,
   "metadata": {},
   "outputs": [],
   "source": [
    "# merge datasets: \n",
    "undir_stats_jaccard = pd.merge(\n",
    "    network_stats_undir_network,\n",
    "    jaccard,\n",
    "    on=['cancer_tissue', 'metastasis_tissue', 'tissue_dataset', 'interactions'], how='left')\n",
    "undir_stats_jaccard.head(2)"
   ]
  },
  {
   "cell_type": "code",
   "execution_count": null,
   "metadata": {},
   "outputs": [],
   "source": [
    "undir_stats_jaccard.to_csv(intercell_net_dir + 'undirected_network_stats.csv', index=False)"
   ]
  },
  {
   "cell_type": "markdown",
   "metadata": {
    "tags": []
   },
   "source": [
    "#### Directed jaccard"
   ]
  },
  {
   "cell_type": "code",
   "execution_count": null,
   "metadata": {},
   "outputs": [],
   "source": [
    "jaccard_records = []\n",
    "\n",
    "for tissue_dataset in tqdm(tissue_datasets, desc='tissue_dataset'):\n",
    "    \n",
    "    calls = pd.read_csv(gene_exp_dir+f'{tissue_dataset}/records.csv')\n",
    "    calls = calls.pivot_table(values='call_0.4_0.9', index='gene_id', columns='tissue')\n",
    "\n",
    "    for net_type in tqdm(network_types, desc='network_type'):\n",
    "        \n",
    "        graph = intercell_graph[net_type]\n",
    "\n",
    "        for direction in tqdm(network_stats_dir_network.direction.unique(), desc='direction'):\n",
    "                           \n",
    "            df = network_stats_dir_network[\n",
    "                (network_stats_dir_network.tissue_dataset==tissue_dataset) & \n",
    "                (network_stats_dir_network.interactions==net_type) &\n",
    "                (network_stats_dir_network.direction==direction)\n",
    "            ]\n",
    "            unique_pairs = df[\n",
    "                ['cancer_tissue', 'metastasis_tissue', 'directed_interactions']\n",
    "            ].drop_duplicates().values\n",
    "        \n",
    "            for pair in tqdm(unique_pairs):\n",
    "                tissue_pair = pair[:2]\n",
    "                intersection = pair[2]\n",
    "                jaccard = intercell_networks.jaccard_index(\n",
    "                    tissue_pair, calls, graph, intersection, direction=direction)\n",
    "\n",
    "                row = dict(\n",
    "                    cancer_tissue=tissue_pair[0],\n",
    "                    metastasis_tissue=tissue_pair[1],\n",
    "                    tissue_dataset=tissue_dataset,\n",
    "                    interactions=net_type,\n",
    "                    direction=direction,\n",
    "                    jaccard=jaccard)\n",
    "                jaccard_records.append(row)\n",
    "            \n",
    "jaccard = pd.DataFrame(jaccard_records)\n",
    "jaccard.head()"
   ]
  },
  {
   "cell_type": "code",
   "execution_count": null,
   "metadata": {},
   "outputs": [],
   "source": [
    "dir_stats_jaccard = pd.merge(\n",
    "    network_stats_dir_network,\n",
    "    jaccard,\n",
    "    on=['cancer_tissue', 'metastasis_tissue', 'tissue_dataset', 'interactions', 'direction'], \n",
    "    how='left')\n",
    "dir_stats_jaccard.head(2)"
   ]
  },
  {
   "cell_type": "code",
   "execution_count": null,
   "metadata": {},
   "outputs": [],
   "source": [
    "dir_stats_jaccard.to_csv(intercell_net_dir + 'directed_network_stats.csv', index=False)"
   ]
  },
  {
   "cell_type": "markdown",
   "metadata": {
    "tags": []
   },
   "source": [
    "## Cancer-wise Comparison network stats\n",
    "In the cancer-wise analysis we need to use the grouped tissues. Since we are correlating network stats with frequency of metastasis, organs with several tissues can influence the final result  "
   ]
  },
  {
   "cell_type": "markdown",
   "metadata": {
    "tags": []
   },
   "source": [
    "### Compute number of intercellular interactions for each tissue pair"
   ]
  },
  {
   "cell_type": "code",
   "execution_count": null,
   "metadata": {
    "tags": []
   },
   "outputs": [],
   "source": [
    "# compute the number of intercell interactions for each pair\n",
    "importlib.reload(intercell_networks)\n",
    "network_stats = []\n",
    "\n",
    "for net_type in tqdm(network_types, desc='network_type'):\n",
    "    for tissue_dataset in tqdm(tissue_datasets, desc='tissue_dataset'):\n",
    "    \n",
    "        directory = f'{intercell_net_dir}{net_type}/{tissue_dataset}/grouped'\n",
    "\n",
    "        stats = intercell_networks.compute_intercell_interactions(\n",
    "            directory,\n",
    "            extra_labels=[\n",
    "                ('interactions', net_type),\n",
    "                ('tissue_dataset', tissue_dataset)\n",
    "            ]\n",
    "        )\n",
    "        network_stats.extend(stats)\n",
    "        \n",
    "network_stats = pd.DataFrame(network_stats)\n",
    "network_stats.head(2)"
   ]
  },
  {
   "cell_type": "code",
   "execution_count": null,
   "metadata": {},
   "outputs": [],
   "source": [
    "# split directed and undirected stats\n",
    "network_stats_undir = network_stats.drop(['directed_interactions', 'direction'], axis=1).drop_duplicates(ignore_index=True)\n",
    "network_stats_dir = network_stats.drop('simple_interactions', axis=1)\n",
    "network_stats_undir.head(2)"
   ]
  },
  {
   "cell_type": "code",
   "execution_count": null,
   "metadata": {},
   "outputs": [],
   "source": [
    "# to get all tissue pairs, we'll create a dataframe where we reverse the tissue order\n",
    "network_stats_undir_rev = network_stats_undir.copy().rename({\n",
    "    'cancer_tissue':'metastasis_tissue',\n",
    "    'metastasis_tissue':'cancer_tissue',\n",
    "}, axis=1)\n",
    "\n",
    "# for directed interactions we also have to change the entry's direction\n",
    "network_stats_dir_rev = network_stats_dir.copy().rename({\n",
    "    'cancer_tissue':'metastasis_tissue',\n",
    "    'metastasis_tissue':'cancer_tissue',\n",
    "}, axis=1)\n",
    "display(network_stats_dir_rev.head())\n",
    "network_stats_dir_rev['direction'] = np.where(network_stats_dir_rev['direction']=='c_to_m', 'm_to_c', 'c_to_m')\n",
    "network_stats_dir_rev.head()"
   ]
  },
  {
   "cell_type": "code",
   "execution_count": null,
   "metadata": {},
   "outputs": [],
   "source": [
    "# Concatenate reverse dataframes\n",
    "network_stats_undir_network = pd.concat(\n",
    "    [network_stats_undir, network_stats_undir_rev], ignore_index=True)\n",
    "network_stats_dir_network = pd.concat(\n",
    "    [network_stats_dir, network_stats_dir_rev], ignore_index=True)\n",
    "\n",
    "network_stats_dir_network.head(2)"
   ]
  },
  {
   "cell_type": "markdown",
   "metadata": {
    "tags": []
   },
   "source": [
    "### Compute Jaccard index for each tissue pair"
   ]
  },
  {
   "cell_type": "markdown",
   "metadata": {},
   "source": [
    "The Jaccard index, also known as the Jaccard similarity coefficient, is a statistic used for gauging the similarity and diversity of sample sets:\n",
    "$$\n",
    "J(C,M)=\\frac{|C\\cap{M}|}{|C\\cup{M}|}=\\frac{|C\\cap{M}|}{|C|+|M|-|C\\cap{M}|},\n",
    "$$\n",
    "\n",
    "$|C\\cap{M}|:$ number of intercellular interactions between cancer (C) and metastasis (C) tissues\n",
    "\n",
    "$|C\\cup{M}|:$ total number of intercellular interactions that cancer (C) and metastasis (C) tissues can form"
   ]
  },
  {
   "cell_type": "markdown",
   "metadata": {
    "tags": []
   },
   "source": [
    "#### Undirected jaccard"
   ]
  },
  {
   "cell_type": "code",
   "execution_count": null,
   "metadata": {},
   "outputs": [],
   "source": [
    "importlib.reload(intercell_networks)\n",
    "jaccard_records = []\n",
    "\n",
    "for tissue_dataset in tqdm(tissue_datasets, desc='tissue_dataset'):\n",
    "    \n",
    "    calls = pd.read_csv(gene_exp_dir+f'{tissue_dataset}/grouped_records.csv')\n",
    "    calls = calls.pivot_table(values='call_0.4_0.9', index='gene_id', columns='tissue')\n",
    "\n",
    "    for net_type in tqdm(network_types, desc='network_type'): \n",
    "\n",
    "        graph = intercell_graph[net_type]\n",
    "\n",
    "        df = network_stats_undir_network[\n",
    "            (network_stats_undir_network.tissue_dataset==tissue_dataset) &\n",
    "            (network_stats_undir_network.interactions==net_type)]\n",
    "        \n",
    "        unique_pairs = df[\n",
    "            ['cancer_tissue', 'metastasis_tissue', 'simple_interactions']].drop_duplicates().values\n",
    "\n",
    "        for pair in tqdm(unique_pairs, desc='pairs'):\n",
    "            \n",
    "            tissue_pair = pair[:2]\n",
    "            intersection = pair[2]\n",
    "            jaccard = intercell_networks.jaccard_index(\n",
    "                tissue_pair, calls, graph, intersection)\n",
    "            \n",
    "            row = dict(\n",
    "                cancer_tissue=tissue_pair[0],\n",
    "                metastasis_tissue=tissue_pair[1],\n",
    "                tissue_dataset=tissue_dataset,\n",
    "                interactions=net_type,\n",
    "                jaccard=jaccard)\n",
    "            jaccard_records.append(row)\n",
    "            \n",
    "jaccard = pd.DataFrame(jaccard_records)\n",
    "jaccard.head()"
   ]
  },
  {
   "cell_type": "code",
   "execution_count": null,
   "metadata": {},
   "outputs": [],
   "source": [
    "# merge datasets: \n",
    "undir_stats_jaccard = pd.merge(\n",
    "    network_stats_undir_network,\n",
    "    jaccard,\n",
    "    on=['cancer_tissue', 'metastasis_tissue', 'tissue_dataset', 'interactions'], how='left')\n",
    "undir_stats_jaccard.head(2)"
   ]
  },
  {
   "cell_type": "code",
   "execution_count": null,
   "metadata": {},
   "outputs": [],
   "source": [
    "undir_stats_jaccard.to_csv(intercell_net_dir + 'undirected_grouped_network_stats.csv', index=False)"
   ]
  },
  {
   "cell_type": "markdown",
   "metadata": {
    "tags": []
   },
   "source": [
    "#### Directed jaccard"
   ]
  },
  {
   "cell_type": "code",
   "execution_count": null,
   "metadata": {},
   "outputs": [],
   "source": [
    "importlib.reload(intercell_networks)\n",
    "\n",
    "jaccard_records = []\n",
    "for tissue_dataset in tqdm(tissue_datasets, desc='tissue_dataset'):\n",
    "    \n",
    "    calls = pd.read_csv(gene_exp_dir+f'{tissue_dataset}/grouped_records.csv')\n",
    "    calls = calls.pivot_table(values='call_0.4_0.9', index='gene_id', columns='tissue')\n",
    "\n",
    "    for net_type in tqdm(network_types, desc='network_type'): \n",
    "\n",
    "        graph = intercell_graph[net_type]\n",
    "\n",
    "        for direction in tqdm(network_stats_dir_network.direction.unique(), desc='direction'):\n",
    "                \n",
    "            df = network_stats_dir_network[\n",
    "                (network_stats_dir_network.tissue_dataset==tissue_dataset) & \n",
    "                (network_stats_dir_network.interactions==net_type) &\n",
    "                (network_stats_dir_network.direction==direction)\n",
    "            ]\n",
    "            unique_pairs = df[\n",
    "                ['cancer_tissue', 'metastasis_tissue', 'directed_interactions']\n",
    "            ].drop_duplicates().values\n",
    "        \n",
    "            for pair in tqdm(unique_pairs):\n",
    "                tissue_pair = pair[:2]\n",
    "                intersection = pair[2]\n",
    "                jaccard = intercell_networks.jaccard_index(\n",
    "                    tissue_pair, calls, graph, intersection, direction=direction)\n",
    "\n",
    "                row = dict(\n",
    "                    cancer_tissue=tissue_pair[0],\n",
    "                    metastasis_tissue=tissue_pair[1],\n",
    "                    tissue_dataset=tissue_dataset,\n",
    "                    interactions=net_type,\n",
    "                    direction=direction,\n",
    "                    jaccard=jaccard)\n",
    "                jaccard_records.append(row)\n",
    "            \n",
    "jaccard = pd.DataFrame(jaccard_records)\n",
    "jaccard.head()"
   ]
  },
  {
   "cell_type": "code",
   "execution_count": null,
   "metadata": {},
   "outputs": [],
   "source": [
    "dir_stats_jaccard = pd.merge(\n",
    "    network_stats_dir_network,\n",
    "    jaccard,\n",
    "    on=['cancer_tissue', 'metastasis_tissue', 'tissue_dataset', 'interactions', 'direction'], \n",
    "    how='left')\n",
    "dir_stats_jaccard.head(2)"
   ]
  },
  {
   "cell_type": "code",
   "execution_count": null,
   "metadata": {},
   "outputs": [],
   "source": [
    "dir_stats_jaccard.to_csv(intercell_net_dir + 'directed_grouped_network_stats.csv', index=False)"
   ]
  },
  {
   "cell_type": "markdown",
   "metadata": {
    "jp-MarkdownHeadingCollapsed": true,
    "tags": []
   },
   "source": [
    "# Random intercellular networks with gene calls\n",
    "\n",
    "We want to keep the same proportion of source/target genes in the random networks. For that we will use 3 distinct intercellular gene pools:\n",
    "* genes that can be both source and target\n",
    "* source only genes\n",
    "* target only genes\n",
    "\n",
    "Additionally each gene has a probability of being choosen proportional to the number of times it is expressed in all tissues."
   ]
  },
  {
   "cell_type": "markdown",
   "metadata": {
    "jp-MarkdownHeadingCollapsed": true,
    "tags": []
   },
   "source": [
    "## Undirected interactions"
   ]
  },
  {
   "cell_type": "code",
   "execution_count": null,
   "metadata": {
    "tags": []
   },
   "outputs": [],
   "source": [
    "importlib.reload(intercell_networks)\n",
    "# load intercell network stats\n",
    "network_stats = pd.read_csv(intercell_net_dir+'undirected_grouped_network_stats.csv')\n",
    "\n",
    "random_network_stats = []\n",
    "\n",
    "for tissue_dataset in tqdm(tissue_datasets, desc='tissue_dataset'):\n",
    "    \n",
    "    calls = pd.read_csv(gene_exp_dir+f'{tissue_dataset}/grouped_records.csv')\n",
    "    calls = calls.pivot_table(values='call_0.4_0.9', index='gene_id', columns='tissue')\n",
    "    # Transform zeros in NaN\n",
    "    calls = calls.where(calls==1)\n",
    "    \n",
    "    for net_type in tqdm(network_types, desc='network_type'):\n",
    "\n",
    "        graph = intercell_graph[net_type]\n",
    "\n",
    "        stats = intercell_networks.build_random_grouped_intercell_networks( \n",
    "            calls,\n",
    "            graph,\n",
    "            directed_graph=False,\n",
    "            weights=True,\n",
    "            iterations=1000,\n",
    "            extra_labels=[\n",
    "                ('interactions', net_type),\n",
    "                ('tissue_dataset', tissue_dataset)\n",
    "            ],\n",
    "            n_jobs=-1\n",
    "        )\n",
    "\n",
    "        random_network_stats.extend(stats)\n",
    "\n",
    "random_network_stats = pd.DataFrame(random_network_stats)\n",
    "\n",
    "# to get all tissue pairs, we'll create a dataframe where we reverse the tissue order\n",
    "random_net_rev = random_network_stats.copy().rename({\n",
    "    'cancer_tissue':'metastasis_tissue',\n",
    "    'metastasis_tissue':'cancer_tissue',\n",
    "}, axis=1)\n",
    "\n",
    "# Concatenate reverse dataframes\n",
    "random_net_full = pd.concat(\n",
    "    [random_network_stats, random_net_rev], ignore_index=True)\n",
    "\n",
    "# merge random_net with normal_net and compute z-score\n",
    "network_stats_update = pd.merge(\n",
    "    random_net_full,\n",
    "    network_stats,\n",
    "    on=['cancer_tissue', 'metastasis_tissue', 'tissue_dataset', 'interactions'])\n",
    "\n",
    "# compute z-score\n",
    "network_stats_update['zscore'] =\\\n",
    "    (network_stats_update['simple_interactions']-network_stats_update['mean'])\\\n",
    "        /network_stats_update['std']\n",
    "\n",
    "# update network stats file excluding the distribution column\n",
    "network_stats_update.to_csv(\n",
    "    intercell_net_dir+'undirected_grouped_network_stats.csv', \n",
    "    index=False,\n",
    "    columns=network_stats_update.columns.drop('dist'))"
   ]
  },
  {
   "cell_type": "markdown",
   "metadata": {
    "jp-MarkdownHeadingCollapsed": true,
    "tags": []
   },
   "source": [
    "## Directed interactions"
   ]
  },
  {
   "cell_type": "code",
   "execution_count": null,
   "metadata": {
    "tags": []
   },
   "outputs": [],
   "source": [
    "importlib.reload(intercell_networks)\n",
    "# load intercell network stats\n",
    "network_stats = pd.read_csv(intercell_net_dir+'directed_grouped_network_stats.csv')\n",
    "\n",
    "random_network_stats = []\n",
    "\n",
    "for tissue_dataset in tqdm(tissue_datasets, desc='tissue_dataset'):\n",
    "    \n",
    "    calls = pd.read_csv(gene_exp_dir+f'{tissue_dataset}/grouped_records.csv')\n",
    "    calls = calls.pivot_table(values='call_0.4_0.9', index='gene_id', columns='tissue')\n",
    "    # Transform zeros in NaN\n",
    "    calls = calls.where(calls==1)\n",
    "    \n",
    "    for net_type in tqdm(network_types, desc='network_type'):\n",
    "\n",
    "        graph = intercell_graph[net_type]\n",
    "\n",
    "        stats = intercell_networks.build_random_grouped_intercell_networks( \n",
    "            calls,\n",
    "            graph,\n",
    "            directed_graph=True,\n",
    "            weights=True,\n",
    "            iterations=1000,\n",
    "            extra_labels=[\n",
    "                ('interactions', net_type),\n",
    "                ('tissue_dataset', tissue_dataset)\n",
    "            ],\n",
    "            n_jobs=-1\n",
    "        )\n",
    "\n",
    "        random_network_stats.extend(stats)\n",
    "\n",
    "random_network_stats = pd.DataFrame(random_network_stats)\n",
    "\n",
    "# to get all tissue pairs, we'll create a dataframe where we reverse the tissue order\n",
    "random_net_rev = random_network_stats.copy().rename({\n",
    "    'cancer_tissue':'metastasis_tissue',\n",
    "    'metastasis_tissue':'cancer_tissue',\n",
    "}, axis=1)\n",
    "random_net_rev['direction'] = np.where(random_net_rev['direction']=='c_to_m', 'm_to_c', 'c_to_m')\n",
    "\n",
    "# Concatenate reverse dataframes\n",
    "random_net_full = pd.concat(\n",
    "    [random_network_stats, random_net_rev], ignore_index=True)\n",
    "\n",
    "# merge random_net with normal_net and compute z-score\n",
    "network_stats_update = pd.merge(\n",
    "    random_net_full,\n",
    "    network_stats,\n",
    "    on=['cancer_tissue', 'metastasis_tissue', 'tissue_dataset', 'direction', 'interactions'])\n",
    "\n",
    "# compute z-score\n",
    "network_stats_update['zscore'] =\\\n",
    "    (network_stats_update['directed_interactions']-network_stats_update['mean'])\\\n",
    "        /network_stats_update['std']\n",
    "\n",
    "# update network stats file excluding the distribution column\n",
    "network_stats_update.to_csv(\n",
    "    intercell_net_dir+'directed_grouped_network_stats.csv', \n",
    "    index=False,\n",
    "    columns=network_stats_update.columns.drop('dist'))"
   ]
  },
  {
   "cell_type": "markdown",
   "metadata": {
    "tags": []
   },
   "source": [
    "# Weighted intercellular interactions networks"
   ]
  },
  {
   "cell_type": "markdown",
   "metadata": {
    "jp-MarkdownHeadingCollapsed": true,
    "tags": []
   },
   "source": [
    "## Undirected networks"
   ]
  },
  {
   "cell_type": "code",
   "execution_count": null,
   "metadata": {},
   "outputs": [],
   "source": [
    "importlib.reload(intercell_networks)\n",
    "\n",
    "network_stats = []\n",
    "for tissue_dataset in tqdm(tissue_datasets, desc='tissue_dataset'):\n",
    "    \n",
    "    weights = pd.read_csv(gene_exp_dir+f'{tissue_dataset}/records.csv')\n",
    "    weights = weights.pivot_table(values='log2_TPM', index='gene_id', columns='tissue')\n",
    "    weights = weights/np.max(weights.to_numpy(), keepdims=True, axis=1)\n",
    "        \n",
    "    for net_type in tqdm(network_types, desc='network_type'):\n",
    "        \n",
    "        graph = intercell_graph[net_type]\n",
    "\n",
    "        stats = intercell_networks.weighted_intercell_network(\n",
    "            weights=weights,\n",
    "            interactions=graph,\n",
    "            direction=False,\n",
    "            extra_labels=[\n",
    "                ('tissue_dataset', tissue_dataset),\n",
    "                ('interactions', net_type),\n",
    "            ]\n",
    "        )\n",
    "        network_stats.extend(stats)\n",
    "    \n",
    "network_stats = pd.DataFrame(network_stats)\n",
    "\n",
    "network_stats_rev = network_stats.copy().rename({\n",
    "    'cancer_tissue': 'metastasis_tissue',\n",
    "    'metastasis_tissue': 'cancer_tissue',\n",
    "}, axis=1)\n",
    "network_stats_full = pd.concat([network_stats, network_stats_rev], ignore_index=True)\n",
    "network_stats_full.to_csv(intercell_net_dir + 'undirected_weighted_network_stats.csv', index=False)"
   ]
  },
  {
   "cell_type": "markdown",
   "metadata": {
    "jp-MarkdownHeadingCollapsed": true,
    "tags": []
   },
   "source": [
    "## Directed networks"
   ]
  },
  {
   "cell_type": "code",
   "execution_count": null,
   "metadata": {},
   "outputs": [],
   "source": [
    "importlib.reload(intercell_networks)\n",
    "network_stats = []\n",
    "for tissue_dataset in tqdm(tissue_datasets, desc='tissue_dataset'):\n",
    "    \n",
    "    weights = pd.read_csv(gene_exp_dir+f'{tissue_dataset}/records.csv')\n",
    "    weights = weights.pivot_table(values='log2_TPM', index='gene_id', columns='tissue')\n",
    "    weights = weights/np.max(weights.to_numpy(), keepdims=True, axis=1)\n",
    "        \n",
    "    for net_type in tqdm(network_types, desc='network_type'):\n",
    "        \n",
    "        graph = intercell_graph[net_type]\n",
    "\n",
    "        stats = intercell_networks.weighted_intercell_network(\n",
    "            weights=weights,\n",
    "            interactions=graph,\n",
    "            direction=['c_to_m', 'm_to_c'],\n",
    "            extra_labels=[\n",
    "                ('tissue_dataset', tissue_dataset),\n",
    "                ('interactions', net_type),\n",
    "            ]\n",
    "        )\n",
    "        network_stats.extend(stats)\n",
    "    \n",
    "network_stats = pd.DataFrame(network_stats)\n",
    "\n",
    "network_stats_rev = network_stats.copy().rename({\n",
    "    'cancer_tissue': 'metastasis_tissue',\n",
    "    'metastasis_tissue': 'cancer_tissue',\n",
    "}, axis=1)\n",
    "network_stats_rev['direction'] = np.where(network_stats_rev['direction']=='c_to_m', 'm_to_c', 'c_to_m')\n",
    "network_stats_full = pd.concat([network_stats, network_stats_rev], ignore_index=True)\n",
    "network_stats_full.to_csv(intercell_net_dir + 'directed_weighted_network_stats.csv', index=False)"
   ]
  },
  {
   "cell_type": "markdown",
   "metadata": {
    "tags": []
   },
   "source": [
    "# Random weighted intercellular networks (z-score)"
   ]
  },
  {
   "cell_type": "markdown",
   "metadata": {
    "jp-MarkdownHeadingCollapsed": true,
    "tags": []
   },
   "source": [
    "## Undirected interactions"
   ]
  },
  {
   "cell_type": "code",
   "execution_count": 103,
   "metadata": {},
   "outputs": [
    {
     "data": {
      "application/vnd.jupyter.widget-view+json": {
       "model_id": "3fcf4f837767406db34808a149235727",
       "version_major": 2,
       "version_minor": 0
      },
      "text/plain": [
       "tissue_dataset:   0%|          | 0/2 [00:00<?, ?it/s]"
      ]
     },
     "metadata": {},
     "output_type": "display_data"
    },
    {
     "data": {
      "application/vnd.jupyter.widget-view+json": {
       "model_id": "d20b880c66514f5eba8bb43967fcfe6c",
       "version_major": 2,
       "version_minor": 0
      },
      "text/plain": [
       "network_type:   0%|          | 0/2 [00:00<?, ?it/s]"
      ]
     },
     "metadata": {},
     "output_type": "display_data"
    },
    {
     "data": {
      "application/vnd.jupyter.widget-view+json": {
       "model_id": "7835448fef41427787e1d7ec1671f739",
       "version_major": 2,
       "version_minor": 0
      },
      "text/plain": [
       "network_type:   0%|          | 0/2 [00:00<?, ?it/s]"
      ]
     },
     "metadata": {},
     "output_type": "display_data"
    }
   ],
   "source": [
    "importlib.reload(intercell_networks)\n",
    "network_stats = []\n",
    "for tissue_dataset in tqdm(tissue_datasets, desc='tissue_dataset'):\n",
    "    \n",
    "    weights = pd.read_csv(gene_exp_dir+f'{tissue_dataset}/grouped_records.csv')\n",
    "    weights = weights.pivot_table(values='log2_TPM', index='gene_id', columns='tissue')\n",
    "    weights = weights/np.max(weights.to_numpy(), keepdims=True, axis=1)\n",
    "        \n",
    "    for net_type in tqdm(network_types, desc='network_type'):\n",
    "        \n",
    "        graph = intercell_graph[net_type]\n",
    "\n",
    "        stats = intercell_networks.random_grouped_weighted_intercell_networks(\n",
    "            weights,\n",
    "            graph,\n",
    "            direction=False,\n",
    "            iterations=1000,\n",
    "            n_jobs=-1,\n",
    "            extra_labels=[\n",
    "                ('interactions', net_type),\n",
    "                ('tissue_dataset', tissue_dataset)\n",
    "            ],\n",
    "        )\n",
    "        network_stats.extend(stats)\n",
    "\n",
    "\n",
    "network_stats = pd.DataFrame(network_stats)\n",
    "\n",
    "network_stats_rev = network_stats.copy().rename({\n",
    "    'cancer_tissue': 'metastasis_tissue',\n",
    "    'metastasis_tissue': 'cancer_tissue',\n",
    "}, axis=1)\n",
    "network_stats_full = pd.concat([network_stats, network_stats_rev], ignore_index=True)\n",
    "network_stats_full.to_csv(\n",
    "    intercell_net_dir + 'undirected_grouped_weighted_network_stats.csv',\n",
    "    index=False,\n",
    "    columns=network_stats_full.columns.drop('dist')\n",
    ")"
   ]
  },
  {
   "cell_type": "markdown",
   "metadata": {
    "jp-MarkdownHeadingCollapsed": true,
    "tags": []
   },
   "source": [
    "## Directed interactions"
   ]
  },
  {
   "cell_type": "code",
   "execution_count": 108,
   "metadata": {},
   "outputs": [
    {
     "data": {
      "application/vnd.jupyter.widget-view+json": {
       "model_id": "eb933e89bd474b419642976d6d8bcfa5",
       "version_major": 2,
       "version_minor": 0
      },
      "text/plain": [
       "tissue_dataset:   0%|          | 0/2 [00:00<?, ?it/s]"
      ]
     },
     "metadata": {},
     "output_type": "display_data"
    },
    {
     "data": {
      "application/vnd.jupyter.widget-view+json": {
       "model_id": "278bb19a89c043c89202d2b1783d12da",
       "version_major": 2,
       "version_minor": 0
      },
      "text/plain": [
       "network_type:   0%|          | 0/2 [00:00<?, ?it/s]"
      ]
     },
     "metadata": {},
     "output_type": "display_data"
    },
    {
     "data": {
      "application/vnd.jupyter.widget-view+json": {
       "model_id": "005357cfd2fd4cae904007a28a7f6c82",
       "version_major": 2,
       "version_minor": 0
      },
      "text/plain": [
       "network_type:   0%|          | 0/2 [00:00<?, ?it/s]"
      ]
     },
     "metadata": {},
     "output_type": "display_data"
    }
   ],
   "source": [
    "importlib.reload(intercell_networks)\n",
    "network_stats = []\n",
    "for tissue_dataset in tqdm(tissue_datasets, desc='tissue_dataset'):\n",
    "    \n",
    "    weights = pd.read_csv(gene_exp_dir+f'{tissue_dataset}/grouped_records.csv')\n",
    "    weights = weights.pivot_table(values='log2_TPM', index='gene_id', columns='tissue')\n",
    "    weights = weights/np.max(weights.to_numpy(), keepdims=True, axis=1)\n",
    "        \n",
    "    for net_type in tqdm(network_types, desc='network_type'):\n",
    "        \n",
    "        graph = intercell_graph[net_type]\n",
    "\n",
    "        stats = intercell_networks.random_grouped_weighted_intercell_networks(\n",
    "            weights,\n",
    "            graph,\n",
    "            direction=['c_to_m', 'm_to_c'],\n",
    "            iterations=1000,\n",
    "            n_jobs=-1,\n",
    "            extra_labels=[\n",
    "                ('interactions', net_type),\n",
    "                ('tissue_dataset', tissue_dataset)\n",
    "            ],\n",
    "        )\n",
    "        network_stats.extend(stats)\n",
    "\n",
    "\n",
    "network_stats = pd.DataFrame(network_stats)"
   ]
  },
  {
   "cell_type": "code",
   "execution_count": 109,
   "metadata": {},
   "outputs": [],
   "source": [
    "network_stats_rev = network_stats.copy().rename({\n",
    "    'cancer_tissue': 'metastasis_tissue',\n",
    "    'metastasis_tissue': 'cancer_tissue',\n",
    "}, axis=1)\n",
    "network_stats_full = pd.concat([network_stats, network_stats_rev], ignore_index=True)\n",
    "network_stats_rev['direction'] = np.where(network_stats_rev['direction']=='c_to_m', 'm_to_c', 'c_to_m')\n",
    "network_stats_full.to_csv(\n",
    "    intercell_net_dir + 'directed_grouped_weighted_network_stats.csv',\n",
    "    index=False,\n",
    "    columns=network_stats_full.columns.drop('dist')\n",
    ")"
   ]
  }
 ],
 "metadata": {
  "interpreter": {
   "hash": "31f2aee4e71d21fbe5cf8b01ff0e069b9275f58929596ceb00d14d90e3e16cd6"
  },
  "kernelspec": {
   "display_name": "Python 3 (ipykernel)",
   "language": "python",
   "name": "python3"
  },
  "language_info": {
   "codemirror_mode": {
    "name": "ipython",
    "version": 3
   },
   "file_extension": ".py",
   "mimetype": "text/x-python",
   "name": "python",
   "nbconvert_exporter": "python",
   "pygments_lexer": "ipython3",
   "version": "3.10.13"
  },
  "toc-autonumbering": true
 },
 "nbformat": 4,
 "nbformat_minor": 4
}

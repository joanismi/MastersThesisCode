{
 "cells": [
  {
   "cell_type": "code",
   "execution_count": 35,
   "metadata": {},
   "outputs": [],
   "source": [
    "import pandas as pd\n",
    "import numpy as np\n",
    "import plotly.express as px\n",
    "import plotly.graph_objects as go\n",
    "from tqdm.notebook import tqdm\n",
    "#import igraph as ig\n",
    "from functions import network_functions, utility_functions\n",
    "import importlib\n",
    "from IPython.display import display\n",
    "from joblib import Parallel, delayed\n",
    "import itertools"
   ]
  },
  {
   "cell_type": "code",
   "execution_count": 7,
   "metadata": {},
   "outputs": [],
   "source": [
    "raw_data_dir = '../data/raw/'\n",
    "gene_exp_dir = '../data/processed/gene_expression/'\n",
    "org_pairs_dir = '../data/processed/organotropism_pairs/'\n",
    "intercell_net_dir = '../data/processed/intercell_networks/'"
   ]
  },
  {
   "cell_type": "code",
   "execution_count": 19,
   "metadata": {},
   "outputs": [],
   "source": [
    "metastasis_datasets = ['autopsy', 'hcmdb']\n",
    "tissue_datasets = ['gtex', 'consensus']\n",
    "network_types = ['all', 'curated']"
   ]
  },
  {
   "cell_type": "markdown",
   "metadata": {
    "jp-MarkdownHeadingCollapsed": true,
    "tags": []
   },
   "source": [
    "# Computing intercellular interactions between tissue pairs\n",
    "This part of our work will be the first step towards building tissue specific PPI networks. We will start by looking at \n",
    "our hypothesis is that intercellular interactions established between metastasizing cells and the cells pre-metastatic niche are essential for metastasis development. We expect to find more intercell interactions between organotropism pairs than between control pairs.\n",
    "\n",
    "Workflow:\n",
    "* import tissue pairs, gene expression calls, intercell interactions data\n",
    "* select intercell interactions genes\n",
    "* compute number of intercell interactions between tissue pairs using expression calls\n",
    "* compute weighted (normalized by the max value) intercell interactions between tissue pairs "
   ]
  },
  {
   "cell_type": "markdown",
   "metadata": {
    "jp-MarkdownHeadingCollapsed": true,
    "tags": []
   },
   "source": [
    "# Intercellular interactions networks with gene calls"
   ]
  },
  {
   "cell_type": "markdown",
   "metadata": {},
   "source": [
    "## Tissue labels & match"
   ]
  },
  {
   "cell_type": "markdown",
   "metadata": {},
   "source": [
    "**Tissue id for file naming**\n",
    "* We will set a index column to create a integer id for each tissue.\n",
    "* The id is dependent on the tissue database so the same number might not correspond to a similar tissue in both databases.\n",
    "* This will allow us to name the intercellular network files in an simple and unambiguous way"
   ]
  },
  {
   "cell_type": "code",
   "execution_count": 14,
   "metadata": {},
   "outputs": [
    {
     "data": {
      "text/html": [
       "<div>\n",
       "<style scoped>\n",
       "    .dataframe tbody tr th:only-of-type {\n",
       "        vertical-align: middle;\n",
       "    }\n",
       "\n",
       "    .dataframe tbody tr th {\n",
       "        vertical-align: top;\n",
       "    }\n",
       "\n",
       "    .dataframe thead th {\n",
       "        text-align: right;\n",
       "    }\n",
       "</style>\n",
       "<table border=\"1\" class=\"dataframe\">\n",
       "  <thead>\n",
       "    <tr style=\"text-align: right;\">\n",
       "      <th></th>\n",
       "      <th>index</th>\n",
       "      <th>gtex</th>\n",
       "      <th>consensus</th>\n",
       "    </tr>\n",
       "    <tr>\n",
       "      <th>tissue</th>\n",
       "      <th></th>\n",
       "      <th></th>\n",
       "      <th></th>\n",
       "    </tr>\n",
       "  </thead>\n",
       "  <tbody>\n",
       "    <tr>\n",
       "      <th>adipose_tissue</th>\n",
       "      <td>0</td>\n",
       "      <td>Adipose - Subcutaneous</td>\n",
       "      <td>adipose tissue</td>\n",
       "    </tr>\n",
       "    <tr>\n",
       "      <th>adipose_tissue</th>\n",
       "      <td>1</td>\n",
       "      <td>Adipose - Visceral (Omentum)</td>\n",
       "      <td>NaN</td>\n",
       "    </tr>\n",
       "    <tr>\n",
       "      <th>adrenal_gland</th>\n",
       "      <td>2</td>\n",
       "      <td>Adrenal Gland</td>\n",
       "      <td>adrenal gland</td>\n",
       "    </tr>\n",
       "    <tr>\n",
       "      <th>appendix</th>\n",
       "      <td>3</td>\n",
       "      <td>NaN</td>\n",
       "      <td>appendix</td>\n",
       "    </tr>\n",
       "    <tr>\n",
       "      <th>artery</th>\n",
       "      <td>4</td>\n",
       "      <td>Artery - Aorta</td>\n",
       "      <td>NaN</td>\n",
       "    </tr>\n",
       "  </tbody>\n",
       "</table>\n",
       "</div>"
      ],
      "text/plain": [
       "                index                          gtex       consensus\n",
       "tissue                                                             \n",
       "adipose_tissue      0        Adipose - Subcutaneous  adipose tissue\n",
       "adipose_tissue      1  Adipose - Visceral (Omentum)             NaN\n",
       "adrenal_gland       2                 Adrenal Gland   adrenal gland\n",
       "appendix            3                           NaN        appendix\n",
       "artery              4                Artery - Aorta             NaN"
      ]
     },
     "execution_count": 14,
     "metadata": {},
     "output_type": "execute_result"
    }
   ],
   "source": [
    "tissues = pd.read_csv(raw_data_dir+'tissue_match.csv').reset_index().set_index('tissue')\n",
    "tissues.head()"
   ]
  },
  {
   "cell_type": "code",
   "execution_count": 25,
   "metadata": {},
   "outputs": [
    {
     "name": "stdout",
     "output_type": "stream",
     "text": [
      "all: 10170 interactions\n",
      "curated: 6190 interactions\n"
     ]
    }
   ],
   "source": [
    "# we will use two intercellular interactions datasets:\n",
    "# all interactions\n",
    "# only manually curated interactions\n",
    "\n",
    "intercell_graph = {}\n",
    "for net_type in network_types:\n",
    "    if net_type == 'all':\n",
    "        label = '_'\n",
    "    else:\n",
    "        label = f'_{net_type}_'\n",
    "    \n",
    "    intercell_graph[net_type] = pd.read_csv(intercell_net_dir+f'intercell{label}graph.csv')\n",
    "    print(f'{net_type}: {intercell_graph[net_type].shape[0]} interactions')"
   ]
  },
  {
   "cell_type": "markdown",
   "metadata": {
    "tags": []
   },
   "source": [
    "## Ungrouped Tissue Networks"
   ]
  },
  {
   "cell_type": "code",
   "execution_count": 30,
   "metadata": {},
   "outputs": [
    {
     "data": {
      "application/vnd.jupyter.widget-view+json": {
       "model_id": "25701ccb5fb04394b1116701737e708f",
       "version_major": 2,
       "version_minor": 0
      },
      "text/plain": [
       "  0%|          | 0/2 [00:00<?, ?it/s]"
      ]
     },
     "metadata": {},
     "output_type": "display_data"
    },
    {
     "data": {
      "application/vnd.jupyter.widget-view+json": {
       "model_id": "e9ab171ba44543aca74b8e6885496c4d",
       "version_major": 2,
       "version_minor": 0
      },
      "text/plain": [
       "  0%|          | 0/2 [00:00<?, ?it/s]"
      ]
     },
     "metadata": {},
     "output_type": "display_data"
    },
    {
     "data": {
      "application/vnd.jupyter.widget-view+json": {
       "model_id": "b10d644c088a4e5b8e90526ff202eead",
       "version_major": 2,
       "version_minor": 0
      },
      "text/plain": [
       "  0%|          | 0/2 [00:00<?, ?it/s]"
      ]
     },
     "metadata": {},
     "output_type": "display_data"
    }
   ],
   "source": [
    "# build intercell networks\n",
    "\n",
    "for tissue_dataset in tqdm(tissue_datasets, desc='tissue_dataset'):\n",
    "    calls = pd.read_csv(gene_exp_dir+f'{tissue_dataset}/records.csv')\n",
    "\n",
    "    # choose calls\n",
    "    calls = calls.pivot_table(values='call_0.4_0.9', index='gene_id', columns='tissue')\n",
    "    # Transform zeros in NaN\n",
    "    calls = calls.where(calls==1)\n",
    "\n",
    "    for net_type in tqdm(network_types, desc='network_type'):\n",
    "\n",
    "        graph = intercell_graph[net_type]\n",
    "        directory = intercell_net_dir+f'{net_type}/{tissue_dataset}/ungrouped'\n",
    "        utility_functions.check_dir(directory)\n",
    "        \n",
    "        network_functions.build_intercell_networks(\n",
    "            tissues[['index', tissue_dataset]].dropna(), \n",
    "            calls,\n",
    "            graph,\n",
    "            tissue_column=tissue_dataset,\n",
    "            directory=directory,\n",
    "            sep='_'\n",
    "        )"
   ]
  },
  {
   "cell_type": "markdown",
   "metadata": {
    "jp-MarkdownHeadingCollapsed": true,
    "tags": []
   },
   "source": [
    "## Grouped Tissue Networks"
   ]
  },
  {
   "cell_type": "code",
   "execution_count": 32,
   "metadata": {},
   "outputs": [
    {
     "data": {
      "application/vnd.jupyter.widget-view+json": {
       "model_id": "697b53ad61444aa99b18b8257c7913e6",
       "version_major": 2,
       "version_minor": 0
      },
      "text/plain": [
       "  0%|          | 0/2 [00:00<?, ?it/s]"
      ]
     },
     "metadata": {},
     "output_type": "display_data"
    },
    {
     "data": {
      "application/vnd.jupyter.widget-view+json": {
       "model_id": "794270921aa44fb1ab1971d11101cc29",
       "version_major": 2,
       "version_minor": 0
      },
      "text/plain": [
       "  0%|          | 0/2 [00:00<?, ?it/s]"
      ]
     },
     "metadata": {},
     "output_type": "display_data"
    },
    {
     "data": {
      "application/vnd.jupyter.widget-view+json": {
       "model_id": "c5aeeb4a1e094e1fbd475168a0e3ae0c",
       "version_major": 2,
       "version_minor": 0
      },
      "text/plain": [
       "  0%|          | 0/2 [00:00<?, ?it/s]"
      ]
     },
     "metadata": {},
     "output_type": "display_data"
    }
   ],
   "source": [
    "# build intercell networks\n",
    "\n",
    "for tissue_dataset in tqdm(tissue_datasets, desc='tissue_dataset'):\n",
    "    calls = pd.read_csv(gene_exp_dir+f'{tissue_dataset}/grouped_records.csv')\n",
    "\n",
    "    # choose calls\n",
    "    calls = calls.pivot_table(values='call_0.4_0.9', index='gene_id', columns='tissue')\n",
    "    # Transform zeros in NaN\n",
    "    calls = calls.where(calls==1)\n",
    "\n",
    "    for net_type in tqdm(network_types, desc='network_type'):\n",
    "\n",
    "        graph = intercell_graph[net_type]\n",
    "        directory = intercell_net_dir+f'{net_type}/{tissue_dataset}/grouped'\n",
    "        utility_functions.check_dir(directory)\n",
    "        \n",
    "        network_functions.build_grouped_intercell_networks( \n",
    "            calls,\n",
    "            graph,\n",
    "            directory=directory,\n",
    "            sep='-'\n",
    "        )"
   ]
  },
  {
   "cell_type": "markdown",
   "metadata": {
    "jp-MarkdownHeadingCollapsed": true,
    "tags": []
   },
   "source": [
    "## Controlled comparison network stats\n",
    "In the controlled comparison we will not be using the grouped tissues networks since each tissue/organ appears the same amount of times in the organotropism vs control groups. That means the number of sub-tissues is balanced between groups and does not skew the results"
   ]
  },
  {
   "cell_type": "markdown",
   "metadata": {
    "jp-MarkdownHeadingCollapsed": true,
    "tags": []
   },
   "source": [
    "### Compute number of intercellular interactions for each tissue pair"
   ]
  },
  {
   "cell_type": "code",
   "execution_count": 36,
   "metadata": {
    "tags": []
   },
   "outputs": [
    {
     "data": {
      "application/vnd.jupyter.widget-view+json": {
       "model_id": "33a358df4f9740f2907b95c9de7cc936",
       "version_major": 2,
       "version_minor": 0
      },
      "text/plain": [
       "network_type:   0%|          | 0/2 [00:00<?, ?it/s]"
      ]
     },
     "metadata": {},
     "output_type": "display_data"
    },
    {
     "data": {
      "application/vnd.jupyter.widget-view+json": {
       "model_id": "b9a21b73f9e14ca2bf488110bfd42ccc",
       "version_major": 2,
       "version_minor": 0
      },
      "text/plain": [
       "tissue_dataset:   0%|          | 0/2 [00:00<?, ?it/s]"
      ]
     },
     "metadata": {},
     "output_type": "display_data"
    },
    {
     "data": {
      "application/vnd.jupyter.widget-view+json": {
       "model_id": "d535dededdb14a0cb86233a2ad7587fc",
       "version_major": 2,
       "version_minor": 0
      },
      "text/plain": [
       "networks:   0%|          | 0/1353 [00:00<?, ?it/s]"
      ]
     },
     "metadata": {},
     "output_type": "display_data"
    },
    {
     "data": {
      "application/vnd.jupyter.widget-view+json": {
       "model_id": "c9a0ebcda404493087c20c5c75073459",
       "version_major": 2,
       "version_minor": 0
      },
      "text/plain": [
       "networks:   0%|          | 0/1417 [00:00<?, ?it/s]"
      ]
     },
     "metadata": {},
     "output_type": "display_data"
    },
    {
     "data": {
      "application/vnd.jupyter.widget-view+json": {
       "model_id": "a32502cc00fc4137801a40d9af7cb5d9",
       "version_major": 2,
       "version_minor": 0
      },
      "text/plain": [
       "tissue_dataset:   0%|          | 0/2 [00:00<?, ?it/s]"
      ]
     },
     "metadata": {},
     "output_type": "display_data"
    },
    {
     "data": {
      "application/vnd.jupyter.widget-view+json": {
       "model_id": "dcd98cdd4e864cac8e7b40633dfee099",
       "version_major": 2,
       "version_minor": 0
      },
      "text/plain": [
       "networks:   0%|          | 0/1353 [00:00<?, ?it/s]"
      ]
     },
     "metadata": {},
     "output_type": "display_data"
    },
    {
     "data": {
      "application/vnd.jupyter.widget-view+json": {
       "model_id": "0fe43222178e458388d4b96538ce74d5",
       "version_major": 2,
       "version_minor": 0
      },
      "text/plain": [
       "networks:   0%|          | 0/1417 [00:00<?, ?it/s]"
      ]
     },
     "metadata": {},
     "output_type": "display_data"
    },
    {
     "data": {
      "text/html": [
       "<div>\n",
       "<style scoped>\n",
       "    .dataframe tbody tr th:only-of-type {\n",
       "        vertical-align: middle;\n",
       "    }\n",
       "\n",
       "    .dataframe tbody tr th {\n",
       "        vertical-align: top;\n",
       "    }\n",
       "\n",
       "    .dataframe thead th {\n",
       "        text-align: right;\n",
       "    }\n",
       "</style>\n",
       "<table border=\"1\" class=\"dataframe\">\n",
       "  <thead>\n",
       "    <tr style=\"text-align: right;\">\n",
       "      <th></th>\n",
       "      <th>cancer_tissue</th>\n",
       "      <th>metastasis_tissue</th>\n",
       "      <th>simple_interactions</th>\n",
       "      <th>directed_interactions</th>\n",
       "      <th>direction</th>\n",
       "      <th>interactions</th>\n",
       "      <th>tissue_dataset</th>\n",
       "    </tr>\n",
       "  </thead>\n",
       "  <tbody>\n",
       "    <tr>\n",
       "      <th>0</th>\n",
       "      <td>Breast - Mammary Tissue</td>\n",
       "      <td>Nerve - Tibial</td>\n",
       "      <td>8796</td>\n",
       "      <td>4055</td>\n",
       "      <td>c_to_m</td>\n",
       "      <td>all</td>\n",
       "      <td>gtex</td>\n",
       "    </tr>\n",
       "    <tr>\n",
       "      <th>1</th>\n",
       "      <td>Breast - Mammary Tissue</td>\n",
       "      <td>Nerve - Tibial</td>\n",
       "      <td>8796</td>\n",
       "      <td>4104</td>\n",
       "      <td>m_to_c</td>\n",
       "      <td>all</td>\n",
       "      <td>gtex</td>\n",
       "    </tr>\n",
       "  </tbody>\n",
       "</table>\n",
       "</div>"
      ],
      "text/plain": [
       "             cancer_tissue metastasis_tissue  simple_interactions  \\\n",
       "0  Breast - Mammary Tissue    Nerve - Tibial                 8796   \n",
       "1  Breast - Mammary Tissue    Nerve - Tibial                 8796   \n",
       "\n",
       "   directed_interactions direction interactions tissue_dataset  \n",
       "0                   4055    c_to_m          all           gtex  \n",
       "1                   4104    m_to_c          all           gtex  "
      ]
     },
     "execution_count": 36,
     "metadata": {},
     "output_type": "execute_result"
    }
   ],
   "source": [
    "# compute the number of intercell interactions for each pair\n",
    "\n",
    "network_stats = []\n",
    "\n",
    "for net_type in tqdm(network_types, desc='network_type'):\n",
    "    for tissue_dataset in tqdm(tissue_datasets, desc='tissue_dataset'):\n",
    "    \n",
    "        directory = intercell_net_dir+f'{net_type}/{tissue_dataset}/ungrouped'\n",
    "        stats = network_functions.compute_intercell_interactions(\n",
    "            directory,\n",
    "            extra_labels=[\n",
    "                ('interactions', net_type),\n",
    "                ('tissue_dataset', tissue_dataset)\n",
    "            ]\n",
    "        )\n",
    "        network_stats.extend(stats)\n",
    "        \n",
    "network_stats = pd.DataFrame(network_stats)\n",
    "network_stats.head(2)"
   ]
  },
  {
   "cell_type": "code",
   "execution_count": 37,
   "metadata": {},
   "outputs": [
    {
     "data": {
      "text/html": [
       "<div>\n",
       "<style scoped>\n",
       "    .dataframe tbody tr th:only-of-type {\n",
       "        vertical-align: middle;\n",
       "    }\n",
       "\n",
       "    .dataframe tbody tr th {\n",
       "        vertical-align: top;\n",
       "    }\n",
       "\n",
       "    .dataframe thead th {\n",
       "        text-align: right;\n",
       "    }\n",
       "</style>\n",
       "<table border=\"1\" class=\"dataframe\">\n",
       "  <thead>\n",
       "    <tr style=\"text-align: right;\">\n",
       "      <th></th>\n",
       "      <th>cancer_tissue</th>\n",
       "      <th>metastasis_tissue</th>\n",
       "      <th>simple_interactions</th>\n",
       "      <th>interactions</th>\n",
       "      <th>tissue_dataset</th>\n",
       "    </tr>\n",
       "  </thead>\n",
       "  <tbody>\n",
       "    <tr>\n",
       "      <th>0</th>\n",
       "      <td>Breast - Mammary Tissue</td>\n",
       "      <td>Nerve - Tibial</td>\n",
       "      <td>8796</td>\n",
       "      <td>all</td>\n",
       "      <td>gtex</td>\n",
       "    </tr>\n",
       "    <tr>\n",
       "      <th>1</th>\n",
       "      <td>Colon - Sigmoid</td>\n",
       "      <td>Ovary</td>\n",
       "      <td>7039</td>\n",
       "      <td>all</td>\n",
       "      <td>gtex</td>\n",
       "    </tr>\n",
       "  </tbody>\n",
       "</table>\n",
       "</div>"
      ],
      "text/plain": [
       "             cancer_tissue metastasis_tissue  simple_interactions  \\\n",
       "0  Breast - Mammary Tissue    Nerve - Tibial                 8796   \n",
       "1          Colon - Sigmoid             Ovary                 7039   \n",
       "\n",
       "  interactions tissue_dataset  \n",
       "0          all           gtex  \n",
       "1          all           gtex  "
      ]
     },
     "execution_count": 37,
     "metadata": {},
     "output_type": "execute_result"
    }
   ],
   "source": [
    "# split directed and undirected stats\n",
    "network_stats_undir = network_stats.drop(['directed_interactions', 'direction'], axis=1)\\\n",
    "    .drop_duplicates(ignore_index=True)\n",
    "network_stats_dir = network_stats.drop('simple_interactions', axis=1)\n",
    "network_stats_undir.head(2)"
   ]
  },
  {
   "cell_type": "code",
   "execution_count": 38,
   "metadata": {},
   "outputs": [
    {
     "data": {
      "text/html": [
       "<div>\n",
       "<style scoped>\n",
       "    .dataframe tbody tr th:only-of-type {\n",
       "        vertical-align: middle;\n",
       "    }\n",
       "\n",
       "    .dataframe tbody tr th {\n",
       "        vertical-align: top;\n",
       "    }\n",
       "\n",
       "    .dataframe thead th {\n",
       "        text-align: right;\n",
       "    }\n",
       "</style>\n",
       "<table border=\"1\" class=\"dataframe\">\n",
       "  <thead>\n",
       "    <tr style=\"text-align: right;\">\n",
       "      <th></th>\n",
       "      <th>metastasis_tissue</th>\n",
       "      <th>cancer_tissue</th>\n",
       "      <th>directed_interactions</th>\n",
       "      <th>direction</th>\n",
       "      <th>interactions</th>\n",
       "      <th>tissue_dataset</th>\n",
       "    </tr>\n",
       "  </thead>\n",
       "  <tbody>\n",
       "    <tr>\n",
       "      <th>0</th>\n",
       "      <td>Breast - Mammary Tissue</td>\n",
       "      <td>Nerve - Tibial</td>\n",
       "      <td>4055</td>\n",
       "      <td>c_to_m</td>\n",
       "      <td>all</td>\n",
       "      <td>gtex</td>\n",
       "    </tr>\n",
       "    <tr>\n",
       "      <th>1</th>\n",
       "      <td>Breast - Mammary Tissue</td>\n",
       "      <td>Nerve - Tibial</td>\n",
       "      <td>4104</td>\n",
       "      <td>m_to_c</td>\n",
       "      <td>all</td>\n",
       "      <td>gtex</td>\n",
       "    </tr>\n",
       "    <tr>\n",
       "      <th>2</th>\n",
       "      <td>Colon - Sigmoid</td>\n",
       "      <td>Ovary</td>\n",
       "      <td>3275</td>\n",
       "      <td>c_to_m</td>\n",
       "      <td>all</td>\n",
       "      <td>gtex</td>\n",
       "    </tr>\n",
       "    <tr>\n",
       "      <th>3</th>\n",
       "      <td>Colon - Sigmoid</td>\n",
       "      <td>Ovary</td>\n",
       "      <td>3231</td>\n",
       "      <td>m_to_c</td>\n",
       "      <td>all</td>\n",
       "      <td>gtex</td>\n",
       "    </tr>\n",
       "    <tr>\n",
       "      <th>4</th>\n",
       "      <td>Brain - Cortex</td>\n",
       "      <td>Skin - Not Sun Exposed (Suprapubic)</td>\n",
       "      <td>2884</td>\n",
       "      <td>c_to_m</td>\n",
       "      <td>all</td>\n",
       "      <td>gtex</td>\n",
       "    </tr>\n",
       "  </tbody>\n",
       "</table>\n",
       "</div>"
      ],
      "text/plain": [
       "         metastasis_tissue                        cancer_tissue  \\\n",
       "0  Breast - Mammary Tissue                       Nerve - Tibial   \n",
       "1  Breast - Mammary Tissue                       Nerve - Tibial   \n",
       "2          Colon - Sigmoid                                Ovary   \n",
       "3          Colon - Sigmoid                                Ovary   \n",
       "4           Brain - Cortex  Skin - Not Sun Exposed (Suprapubic)   \n",
       "\n",
       "   directed_interactions direction interactions tissue_dataset  \n",
       "0                   4055    c_to_m          all           gtex  \n",
       "1                   4104    m_to_c          all           gtex  \n",
       "2                   3275    c_to_m          all           gtex  \n",
       "3                   3231    m_to_c          all           gtex  \n",
       "4                   2884    c_to_m          all           gtex  "
      ]
     },
     "metadata": {},
     "output_type": "display_data"
    },
    {
     "data": {
      "text/html": [
       "<div>\n",
       "<style scoped>\n",
       "    .dataframe tbody tr th:only-of-type {\n",
       "        vertical-align: middle;\n",
       "    }\n",
       "\n",
       "    .dataframe tbody tr th {\n",
       "        vertical-align: top;\n",
       "    }\n",
       "\n",
       "    .dataframe thead th {\n",
       "        text-align: right;\n",
       "    }\n",
       "</style>\n",
       "<table border=\"1\" class=\"dataframe\">\n",
       "  <thead>\n",
       "    <tr style=\"text-align: right;\">\n",
       "      <th></th>\n",
       "      <th>metastasis_tissue</th>\n",
       "      <th>cancer_tissue</th>\n",
       "      <th>directed_interactions</th>\n",
       "      <th>direction</th>\n",
       "      <th>interactions</th>\n",
       "      <th>tissue_dataset</th>\n",
       "    </tr>\n",
       "  </thead>\n",
       "  <tbody>\n",
       "    <tr>\n",
       "      <th>0</th>\n",
       "      <td>Breast - Mammary Tissue</td>\n",
       "      <td>Nerve - Tibial</td>\n",
       "      <td>4055</td>\n",
       "      <td>m_to_c</td>\n",
       "      <td>all</td>\n",
       "      <td>gtex</td>\n",
       "    </tr>\n",
       "    <tr>\n",
       "      <th>1</th>\n",
       "      <td>Breast - Mammary Tissue</td>\n",
       "      <td>Nerve - Tibial</td>\n",
       "      <td>4104</td>\n",
       "      <td>c_to_m</td>\n",
       "      <td>all</td>\n",
       "      <td>gtex</td>\n",
       "    </tr>\n",
       "    <tr>\n",
       "      <th>2</th>\n",
       "      <td>Colon - Sigmoid</td>\n",
       "      <td>Ovary</td>\n",
       "      <td>3275</td>\n",
       "      <td>m_to_c</td>\n",
       "      <td>all</td>\n",
       "      <td>gtex</td>\n",
       "    </tr>\n",
       "    <tr>\n",
       "      <th>3</th>\n",
       "      <td>Colon - Sigmoid</td>\n",
       "      <td>Ovary</td>\n",
       "      <td>3231</td>\n",
       "      <td>c_to_m</td>\n",
       "      <td>all</td>\n",
       "      <td>gtex</td>\n",
       "    </tr>\n",
       "    <tr>\n",
       "      <th>4</th>\n",
       "      <td>Brain - Cortex</td>\n",
       "      <td>Skin - Not Sun Exposed (Suprapubic)</td>\n",
       "      <td>2884</td>\n",
       "      <td>m_to_c</td>\n",
       "      <td>all</td>\n",
       "      <td>gtex</td>\n",
       "    </tr>\n",
       "  </tbody>\n",
       "</table>\n",
       "</div>"
      ],
      "text/plain": [
       "         metastasis_tissue                        cancer_tissue  \\\n",
       "0  Breast - Mammary Tissue                       Nerve - Tibial   \n",
       "1  Breast - Mammary Tissue                       Nerve - Tibial   \n",
       "2          Colon - Sigmoid                                Ovary   \n",
       "3          Colon - Sigmoid                                Ovary   \n",
       "4           Brain - Cortex  Skin - Not Sun Exposed (Suprapubic)   \n",
       "\n",
       "   directed_interactions direction interactions tissue_dataset  \n",
       "0                   4055    m_to_c          all           gtex  \n",
       "1                   4104    c_to_m          all           gtex  \n",
       "2                   3275    m_to_c          all           gtex  \n",
       "3                   3231    c_to_m          all           gtex  \n",
       "4                   2884    m_to_c          all           gtex  "
      ]
     },
     "execution_count": 38,
     "metadata": {},
     "output_type": "execute_result"
    }
   ],
   "source": [
    "# to get all tissue pairs, we'll create a dataframe where we reverse the tissue order\n",
    "network_stats_undir_rev = network_stats_undir.copy().rename({\n",
    "    'cancer_tissue':'metastasis_tissue',\n",
    "    'metastasis_tissue':'cancer_tissue',\n",
    "}, axis=1)\n",
    "\n",
    "# for directed interactions we also have to change the entry's direction\n",
    "network_stats_dir_rev = network_stats_dir.copy().rename({\n",
    "    'cancer_tissue':'metastasis_tissue',\n",
    "    'metastasis_tissue':'cancer_tissue',\n",
    "}, axis=1)\n",
    "display(network_stats_dir_rev.head())\n",
    "network_stats_dir_rev['direction'] = np.where(network_stats_dir_rev['direction']=='c_to_m', 'm_to_c', 'c_to_m')\n",
    "network_stats_dir_rev.head()"
   ]
  },
  {
   "cell_type": "code",
   "execution_count": 44,
   "metadata": {},
   "outputs": [
    {
     "data": {
      "text/html": [
       "<div>\n",
       "<style scoped>\n",
       "    .dataframe tbody tr th:only-of-type {\n",
       "        vertical-align: middle;\n",
       "    }\n",
       "\n",
       "    .dataframe tbody tr th {\n",
       "        vertical-align: top;\n",
       "    }\n",
       "\n",
       "    .dataframe thead th {\n",
       "        text-align: right;\n",
       "    }\n",
       "</style>\n",
       "<table border=\"1\" class=\"dataframe\">\n",
       "  <thead>\n",
       "    <tr style=\"text-align: right;\">\n",
       "      <th></th>\n",
       "      <th>cancer_tissue</th>\n",
       "      <th>metastasis_tissue</th>\n",
       "      <th>directed_interactions</th>\n",
       "      <th>direction</th>\n",
       "      <th>interactions</th>\n",
       "      <th>tissue_dataset</th>\n",
       "    </tr>\n",
       "  </thead>\n",
       "  <tbody>\n",
       "    <tr>\n",
       "      <th>0</th>\n",
       "      <td>Breast - Mammary Tissue</td>\n",
       "      <td>Nerve - Tibial</td>\n",
       "      <td>4055</td>\n",
       "      <td>c_to_m</td>\n",
       "      <td>all</td>\n",
       "      <td>gtex</td>\n",
       "    </tr>\n",
       "    <tr>\n",
       "      <th>1</th>\n",
       "      <td>Breast - Mammary Tissue</td>\n",
       "      <td>Nerve - Tibial</td>\n",
       "      <td>4104</td>\n",
       "      <td>m_to_c</td>\n",
       "      <td>all</td>\n",
       "      <td>gtex</td>\n",
       "    </tr>\n",
       "  </tbody>\n",
       "</table>\n",
       "</div>"
      ],
      "text/plain": [
       "             cancer_tissue metastasis_tissue  directed_interactions direction  \\\n",
       "0  Breast - Mammary Tissue    Nerve - Tibial                   4055    c_to_m   \n",
       "1  Breast - Mammary Tissue    Nerve - Tibial                   4104    m_to_c   \n",
       "\n",
       "  interactions tissue_dataset  \n",
       "0          all           gtex  \n",
       "1          all           gtex  "
      ]
     },
     "execution_count": 44,
     "metadata": {},
     "output_type": "execute_result"
    }
   ],
   "source": [
    "# Concatenate reverse dataframes\n",
    "network_stats_undir_network = pd.concat(\n",
    "    [network_stats_undir, network_stats_undir_rev], ignore_index=True)\n",
    "network_stats_dir_network = pd.concat(\n",
    "    [network_stats_dir, network_stats_dir_rev], ignore_index=True)\n",
    "\n",
    "network_stats_dir_network.head(2)"
   ]
  },
  {
   "cell_type": "markdown",
   "metadata": {
    "tags": []
   },
   "source": [
    "### Compute Jaccard index for each tissue pair"
   ]
  },
  {
   "cell_type": "markdown",
   "metadata": {},
   "source": [
    "The Jaccard index, also known as the Jaccard similarity coefficient, is a statistic used for gauging the similarity and diversity of sample sets:\n",
    "$$\n",
    "J(C,M)=\\frac{|C\\cap{M}|}{|C\\cup{M}|}=\\frac{|C\\cap{M}|}{|C|+|M|-|C\\cap{M}|},\n",
    "$$\n",
    "\n",
    "$|C\\cap{M}|:$ number of intercellular interactions between cancer (C) and metastasis (C) tissues\n",
    "\n",
    "$|C\\cup{M}|:$ total number of intercellular interactions that cancer (C) and metastasis (C) tissues can form"
   ]
  },
  {
   "cell_type": "markdown",
   "metadata": {
    "jp-MarkdownHeadingCollapsed": true,
    "tags": []
   },
   "source": [
    "#### Undirected jaccard"
   ]
  },
  {
   "cell_type": "code",
   "execution_count": 46,
   "metadata": {},
   "outputs": [
    {
     "data": {
      "application/vnd.jupyter.widget-view+json": {
       "model_id": "01a6e50308ba460b9ba5500a4d15e7ae",
       "version_major": 2,
       "version_minor": 0
      },
      "text/plain": [
       "tissue_dataset:   0%|          | 0/2 [00:00<?, ?it/s]"
      ]
     },
     "metadata": {},
     "output_type": "display_data"
    },
    {
     "data": {
      "application/vnd.jupyter.widget-view+json": {
       "model_id": "458baa539bd8411a85d1be60f28ce216",
       "version_major": 2,
       "version_minor": 0
      },
      "text/plain": [
       "network_type:   0%|          | 0/2 [00:00<?, ?it/s]"
      ]
     },
     "metadata": {},
     "output_type": "display_data"
    },
    {
     "data": {
      "application/vnd.jupyter.widget-view+json": {
       "model_id": "614412bf816a473f9c8965ee18bb932a",
       "version_major": 2,
       "version_minor": 0
      },
      "text/plain": [
       "pairs:   0%|          | 0/2706 [00:00<?, ?it/s]"
      ]
     },
     "metadata": {},
     "output_type": "display_data"
    },
    {
     "data": {
      "application/vnd.jupyter.widget-view+json": {
       "model_id": "b30ee5cf7f44496f9cddd691cacf4b2c",
       "version_major": 2,
       "version_minor": 0
      },
      "text/plain": [
       "pairs:   0%|          | 0/2706 [00:00<?, ?it/s]"
      ]
     },
     "metadata": {},
     "output_type": "display_data"
    },
    {
     "data": {
      "application/vnd.jupyter.widget-view+json": {
       "model_id": "86575f2cd37a4bf4809295ead6f4ce0b",
       "version_major": 2,
       "version_minor": 0
      },
      "text/plain": [
       "network_type:   0%|          | 0/2 [00:00<?, ?it/s]"
      ]
     },
     "metadata": {},
     "output_type": "display_data"
    },
    {
     "data": {
      "application/vnd.jupyter.widget-view+json": {
       "model_id": "14adc4d8d1514fc18d3b645593552871",
       "version_major": 2,
       "version_minor": 0
      },
      "text/plain": [
       "pairs:   0%|          | 0/2834 [00:00<?, ?it/s]"
      ]
     },
     "metadata": {},
     "output_type": "display_data"
    },
    {
     "data": {
      "application/vnd.jupyter.widget-view+json": {
       "model_id": "b1e2218849e843118f734bae0d01f1bc",
       "version_major": 2,
       "version_minor": 0
      },
      "text/plain": [
       "pairs:   0%|          | 0/2834 [00:00<?, ?it/s]"
      ]
     },
     "metadata": {},
     "output_type": "display_data"
    },
    {
     "data": {
      "text/html": [
       "<div>\n",
       "<style scoped>\n",
       "    .dataframe tbody tr th:only-of-type {\n",
       "        vertical-align: middle;\n",
       "    }\n",
       "\n",
       "    .dataframe tbody tr th {\n",
       "        vertical-align: top;\n",
       "    }\n",
       "\n",
       "    .dataframe thead th {\n",
       "        text-align: right;\n",
       "    }\n",
       "</style>\n",
       "<table border=\"1\" class=\"dataframe\">\n",
       "  <thead>\n",
       "    <tr style=\"text-align: right;\">\n",
       "      <th></th>\n",
       "      <th>cancer_tissue</th>\n",
       "      <th>metastasis_tissue</th>\n",
       "      <th>tissue_dataset</th>\n",
       "      <th>interactions</th>\n",
       "      <th>jaccard</th>\n",
       "    </tr>\n",
       "  </thead>\n",
       "  <tbody>\n",
       "    <tr>\n",
       "      <th>0</th>\n",
       "      <td>Breast - Mammary Tissue</td>\n",
       "      <td>Nerve - Tibial</td>\n",
       "      <td>gtex</td>\n",
       "      <td>all</td>\n",
       "      <td>0.306973</td>\n",
       "    </tr>\n",
       "    <tr>\n",
       "      <th>1</th>\n",
       "      <td>Colon - Sigmoid</td>\n",
       "      <td>Ovary</td>\n",
       "      <td>gtex</td>\n",
       "      <td>all</td>\n",
       "      <td>0.231462</td>\n",
       "    </tr>\n",
       "    <tr>\n",
       "      <th>2</th>\n",
       "      <td>Brain - Cortex</td>\n",
       "      <td>Skin - Not Sun Exposed (Suprapubic)</td>\n",
       "      <td>gtex</td>\n",
       "      <td>all</td>\n",
       "      <td>0.206430</td>\n",
       "    </tr>\n",
       "    <tr>\n",
       "      <th>3</th>\n",
       "      <td>Artery - Coronary</td>\n",
       "      <td>Prostate</td>\n",
       "      <td>gtex</td>\n",
       "      <td>all</td>\n",
       "      <td>0.310907</td>\n",
       "    </tr>\n",
       "    <tr>\n",
       "      <th>4</th>\n",
       "      <td>Cervix - Ectocervix</td>\n",
       "      <td>Colon - Sigmoid</td>\n",
       "      <td>gtex</td>\n",
       "      <td>all</td>\n",
       "      <td>0.263154</td>\n",
       "    </tr>\n",
       "  </tbody>\n",
       "</table>\n",
       "</div>"
      ],
      "text/plain": [
       "             cancer_tissue                    metastasis_tissue  \\\n",
       "0  Breast - Mammary Tissue                       Nerve - Tibial   \n",
       "1          Colon - Sigmoid                                Ovary   \n",
       "2           Brain - Cortex  Skin - Not Sun Exposed (Suprapubic)   \n",
       "3        Artery - Coronary                             Prostate   \n",
       "4      Cervix - Ectocervix                      Colon - Sigmoid   \n",
       "\n",
       "  tissue_dataset interactions   jaccard  \n",
       "0           gtex          all  0.306973  \n",
       "1           gtex          all  0.231462  \n",
       "2           gtex          all  0.206430  \n",
       "3           gtex          all  0.310907  \n",
       "4           gtex          all  0.263154  "
      ]
     },
     "execution_count": 46,
     "metadata": {},
     "output_type": "execute_result"
    }
   ],
   "source": [
    "jaccard_records = []\n",
    "\n",
    "for tissue_dataset in tqdm(tissue_datasets, desc='tissue_dataset'):\n",
    "    \n",
    "    calls = pd.read_csv(gene_exp_dir+f'{tissue_dataset}/records.csv')\n",
    "    calls = calls.pivot_table(values='call_0.4_0.9', index='gene_id', columns='tissue')\n",
    "\n",
    "    for net_type in tqdm(network_types, desc='network_type'):\n",
    "        \n",
    "        graph = intercell_graph[net_type]\n",
    "\n",
    "        df = network_stats_undir_network[\n",
    "            (network_stats_undir_network.tissue_dataset==tissue_dataset) & \n",
    "            (network_stats_undir_network.interactions==net_type)\n",
    "            ]\n",
    "        \n",
    "        unique_pairs = df[\n",
    "            ['cancer_tissue', 'metastasis_tissue', 'simple_interactions']].drop_duplicates().values\n",
    "\n",
    "        for pair in tqdm(unique_pairs, desc='pairs'):\n",
    "            \n",
    "            tissue_pair = pair[:2]\n",
    "            intersection = pair[2]\n",
    "            jaccard = network_functions.jaccard_index(\n",
    "                tissue_pair, calls, graph, intersection)\n",
    "            \n",
    "            row = dict(\n",
    "                cancer_tissue=tissue_pair[0],\n",
    "                metastasis_tissue=tissue_pair[1],\n",
    "                tissue_dataset=tissue_dataset,\n",
    "                interactions=net_type,\n",
    "                jaccard=jaccard)\n",
    "            jaccard_records.append(row)\n",
    "            \n",
    "jaccard = pd.DataFrame(jaccard_records)\n",
    "jaccard.head()"
   ]
  },
  {
   "cell_type": "code",
   "execution_count": 47,
   "metadata": {},
   "outputs": [
    {
     "data": {
      "text/html": [
       "<div>\n",
       "<style scoped>\n",
       "    .dataframe tbody tr th:only-of-type {\n",
       "        vertical-align: middle;\n",
       "    }\n",
       "\n",
       "    .dataframe tbody tr th {\n",
       "        vertical-align: top;\n",
       "    }\n",
       "\n",
       "    .dataframe thead th {\n",
       "        text-align: right;\n",
       "    }\n",
       "</style>\n",
       "<table border=\"1\" class=\"dataframe\">\n",
       "  <thead>\n",
       "    <tr style=\"text-align: right;\">\n",
       "      <th></th>\n",
       "      <th>cancer_tissue</th>\n",
       "      <th>metastasis_tissue</th>\n",
       "      <th>simple_interactions</th>\n",
       "      <th>interactions</th>\n",
       "      <th>tissue_dataset</th>\n",
       "      <th>jaccard</th>\n",
       "    </tr>\n",
       "  </thead>\n",
       "  <tbody>\n",
       "    <tr>\n",
       "      <th>0</th>\n",
       "      <td>Breast - Mammary Tissue</td>\n",
       "      <td>Nerve - Tibial</td>\n",
       "      <td>8796</td>\n",
       "      <td>all</td>\n",
       "      <td>gtex</td>\n",
       "      <td>0.306973</td>\n",
       "    </tr>\n",
       "    <tr>\n",
       "      <th>1</th>\n",
       "      <td>Colon - Sigmoid</td>\n",
       "      <td>Ovary</td>\n",
       "      <td>7039</td>\n",
       "      <td>all</td>\n",
       "      <td>gtex</td>\n",
       "      <td>0.231462</td>\n",
       "    </tr>\n",
       "  </tbody>\n",
       "</table>\n",
       "</div>"
      ],
      "text/plain": [
       "             cancer_tissue metastasis_tissue  simple_interactions  \\\n",
       "0  Breast - Mammary Tissue    Nerve - Tibial                 8796   \n",
       "1          Colon - Sigmoid             Ovary                 7039   \n",
       "\n",
       "  interactions tissue_dataset   jaccard  \n",
       "0          all           gtex  0.306973  \n",
       "1          all           gtex  0.231462  "
      ]
     },
     "execution_count": 47,
     "metadata": {},
     "output_type": "execute_result"
    }
   ],
   "source": [
    "# merge datasets: \n",
    "undir_stats_jaccard = pd.merge(\n",
    "    network_stats_undir_network,\n",
    "    jaccard,\n",
    "    on=['cancer_tissue', 'metastasis_tissue', 'tissue_dataset', 'interactions'], how='left')\n",
    "undir_stats_jaccard.head(2)"
   ]
  },
  {
   "cell_type": "code",
   "execution_count": 49,
   "metadata": {},
   "outputs": [],
   "source": [
    "undir_stats_jaccard.to_csv(intercell_net_dir + 'undirected_network_stats.csv', index=False)"
   ]
  },
  {
   "cell_type": "markdown",
   "metadata": {
    "jp-MarkdownHeadingCollapsed": true,
    "tags": []
   },
   "source": [
    "#### Directed jaccard"
   ]
  },
  {
   "cell_type": "code",
   "execution_count": 51,
   "metadata": {},
   "outputs": [
    {
     "data": {
      "application/vnd.jupyter.widget-view+json": {
       "model_id": "3587ea0b0b6f474ab60429b6d1bc1c5e",
       "version_major": 2,
       "version_minor": 0
      },
      "text/plain": [
       "tissue_dataset:   0%|          | 0/2 [00:00<?, ?it/s]"
      ]
     },
     "metadata": {},
     "output_type": "display_data"
    },
    {
     "data": {
      "application/vnd.jupyter.widget-view+json": {
       "model_id": "dabc4824ad90417bbbbe58227c3219ee",
       "version_major": 2,
       "version_minor": 0
      },
      "text/plain": [
       "network_type:   0%|          | 0/2 [00:00<?, ?it/s]"
      ]
     },
     "metadata": {},
     "output_type": "display_data"
    },
    {
     "data": {
      "application/vnd.jupyter.widget-view+json": {
       "model_id": "254357533b6340e399e9331fdfe54e9f",
       "version_major": 2,
       "version_minor": 0
      },
      "text/plain": [
       "direction:   0%|          | 0/2 [00:00<?, ?it/s]"
      ]
     },
     "metadata": {},
     "output_type": "display_data"
    },
    {
     "data": {
      "application/vnd.jupyter.widget-view+json": {
       "model_id": "9d2bf93452ea4c809c41f67578681fdc",
       "version_major": 2,
       "version_minor": 0
      },
      "text/plain": [
       "  0%|          | 0/2706 [00:00<?, ?it/s]"
      ]
     },
     "metadata": {},
     "output_type": "display_data"
    },
    {
     "data": {
      "application/vnd.jupyter.widget-view+json": {
       "model_id": "3119f0abc9f44b0c8c29fdaae34ecb18",
       "version_major": 2,
       "version_minor": 0
      },
      "text/plain": [
       "  0%|          | 0/2706 [00:00<?, ?it/s]"
      ]
     },
     "metadata": {},
     "output_type": "display_data"
    },
    {
     "data": {
      "application/vnd.jupyter.widget-view+json": {
       "model_id": "e4f5eca7756847ef8f1368982c015d81",
       "version_major": 2,
       "version_minor": 0
      },
      "text/plain": [
       "direction:   0%|          | 0/2 [00:00<?, ?it/s]"
      ]
     },
     "metadata": {},
     "output_type": "display_data"
    },
    {
     "data": {
      "application/vnd.jupyter.widget-view+json": {
       "model_id": "e9bb025276f641d2a6bb3eef17e4baa0",
       "version_major": 2,
       "version_minor": 0
      },
      "text/plain": [
       "  0%|          | 0/2706 [00:00<?, ?it/s]"
      ]
     },
     "metadata": {},
     "output_type": "display_data"
    },
    {
     "data": {
      "application/vnd.jupyter.widget-view+json": {
       "model_id": "df311623da374461bcca514041ef8ae9",
       "version_major": 2,
       "version_minor": 0
      },
      "text/plain": [
       "  0%|          | 0/2706 [00:00<?, ?it/s]"
      ]
     },
     "metadata": {},
     "output_type": "display_data"
    },
    {
     "data": {
      "application/vnd.jupyter.widget-view+json": {
       "model_id": "465d45a3f217486cab13b26b3ad7d431",
       "version_major": 2,
       "version_minor": 0
      },
      "text/plain": [
       "network_type:   0%|          | 0/2 [00:00<?, ?it/s]"
      ]
     },
     "metadata": {},
     "output_type": "display_data"
    },
    {
     "data": {
      "application/vnd.jupyter.widget-view+json": {
       "model_id": "0a890e2cf7b741eaa2738d3d83b49f0e",
       "version_major": 2,
       "version_minor": 0
      },
      "text/plain": [
       "direction:   0%|          | 0/2 [00:00<?, ?it/s]"
      ]
     },
     "metadata": {},
     "output_type": "display_data"
    },
    {
     "data": {
      "application/vnd.jupyter.widget-view+json": {
       "model_id": "5bfd28b4529a4ee9a66def906ca1d816",
       "version_major": 2,
       "version_minor": 0
      },
      "text/plain": [
       "  0%|          | 0/2834 [00:00<?, ?it/s]"
      ]
     },
     "metadata": {},
     "output_type": "display_data"
    },
    {
     "data": {
      "application/vnd.jupyter.widget-view+json": {
       "model_id": "f64eb29ea8354621afd30262144c7381",
       "version_major": 2,
       "version_minor": 0
      },
      "text/plain": [
       "  0%|          | 0/2834 [00:00<?, ?it/s]"
      ]
     },
     "metadata": {},
     "output_type": "display_data"
    },
    {
     "data": {
      "application/vnd.jupyter.widget-view+json": {
       "model_id": "abc5a9f70f3c414291c61edf1e2492f8",
       "version_major": 2,
       "version_minor": 0
      },
      "text/plain": [
       "direction:   0%|          | 0/2 [00:00<?, ?it/s]"
      ]
     },
     "metadata": {},
     "output_type": "display_data"
    },
    {
     "data": {
      "application/vnd.jupyter.widget-view+json": {
       "model_id": "7da86fe0a8014eb8b1bec04f56e9c138",
       "version_major": 2,
       "version_minor": 0
      },
      "text/plain": [
       "  0%|          | 0/2834 [00:00<?, ?it/s]"
      ]
     },
     "metadata": {},
     "output_type": "display_data"
    },
    {
     "data": {
      "application/vnd.jupyter.widget-view+json": {
       "model_id": "7a32f6b698104ec7961b996f73ecb2f1",
       "version_major": 2,
       "version_minor": 0
      },
      "text/plain": [
       "  0%|          | 0/2834 [00:00<?, ?it/s]"
      ]
     },
     "metadata": {},
     "output_type": "display_data"
    },
    {
     "data": {
      "text/html": [
       "<div>\n",
       "<style scoped>\n",
       "    .dataframe tbody tr th:only-of-type {\n",
       "        vertical-align: middle;\n",
       "    }\n",
       "\n",
       "    .dataframe tbody tr th {\n",
       "        vertical-align: top;\n",
       "    }\n",
       "\n",
       "    .dataframe thead th {\n",
       "        text-align: right;\n",
       "    }\n",
       "</style>\n",
       "<table border=\"1\" class=\"dataframe\">\n",
       "  <thead>\n",
       "    <tr style=\"text-align: right;\">\n",
       "      <th></th>\n",
       "      <th>cancer_tissue</th>\n",
       "      <th>metastasis_tissue</th>\n",
       "      <th>tissue_dataset</th>\n",
       "      <th>interactions</th>\n",
       "      <th>direction</th>\n",
       "      <th>jaccard</th>\n",
       "    </tr>\n",
       "  </thead>\n",
       "  <tbody>\n",
       "    <tr>\n",
       "      <th>0</th>\n",
       "      <td>Breast - Mammary Tissue</td>\n",
       "      <td>Nerve - Tibial</td>\n",
       "      <td>gtex</td>\n",
       "      <td>all</td>\n",
       "      <td>c_to_m</td>\n",
       "      <td>0.296613</td>\n",
       "    </tr>\n",
       "    <tr>\n",
       "      <th>1</th>\n",
       "      <td>Colon - Sigmoid</td>\n",
       "      <td>Ovary</td>\n",
       "      <td>gtex</td>\n",
       "      <td>all</td>\n",
       "      <td>c_to_m</td>\n",
       "      <td>0.226628</td>\n",
       "    </tr>\n",
       "    <tr>\n",
       "      <th>2</th>\n",
       "      <td>Brain - Cortex</td>\n",
       "      <td>Skin - Not Sun Exposed (Suprapubic)</td>\n",
       "      <td>gtex</td>\n",
       "      <td>all</td>\n",
       "      <td>c_to_m</td>\n",
       "      <td>0.194313</td>\n",
       "    </tr>\n",
       "    <tr>\n",
       "      <th>3</th>\n",
       "      <td>Artery - Coronary</td>\n",
       "      <td>Prostate</td>\n",
       "      <td>gtex</td>\n",
       "      <td>all</td>\n",
       "      <td>c_to_m</td>\n",
       "      <td>0.301182</td>\n",
       "    </tr>\n",
       "    <tr>\n",
       "      <th>4</th>\n",
       "      <td>Cervix - Ectocervix</td>\n",
       "      <td>Colon - Sigmoid</td>\n",
       "      <td>gtex</td>\n",
       "      <td>all</td>\n",
       "      <td>c_to_m</td>\n",
       "      <td>0.257788</td>\n",
       "    </tr>\n",
       "  </tbody>\n",
       "</table>\n",
       "</div>"
      ],
      "text/plain": [
       "             cancer_tissue                    metastasis_tissue  \\\n",
       "0  Breast - Mammary Tissue                       Nerve - Tibial   \n",
       "1          Colon - Sigmoid                                Ovary   \n",
       "2           Brain - Cortex  Skin - Not Sun Exposed (Suprapubic)   \n",
       "3        Artery - Coronary                             Prostate   \n",
       "4      Cervix - Ectocervix                      Colon - Sigmoid   \n",
       "\n",
       "  tissue_dataset interactions direction   jaccard  \n",
       "0           gtex          all    c_to_m  0.296613  \n",
       "1           gtex          all    c_to_m  0.226628  \n",
       "2           gtex          all    c_to_m  0.194313  \n",
       "3           gtex          all    c_to_m  0.301182  \n",
       "4           gtex          all    c_to_m  0.257788  "
      ]
     },
     "execution_count": 51,
     "metadata": {},
     "output_type": "execute_result"
    }
   ],
   "source": [
    "jaccard_records = []\n",
    "\n",
    "for tissue_dataset in tqdm(tissue_datasets, desc='tissue_dataset'):\n",
    "    \n",
    "    calls = pd.read_csv(gene_exp_dir+f'{tissue_dataset}/records.csv')\n",
    "    calls = calls.pivot_table(values='call_0.4_0.9', index='gene_id', columns='tissue')\n",
    "\n",
    "    for net_type in tqdm(network_types, desc='network_type'):\n",
    "        \n",
    "        graph = intercell_graph[net_type]\n",
    "\n",
    "        for direction in tqdm(network_stats_dir_network.direction.unique(), desc='direction'):\n",
    "                           \n",
    "            df = network_stats_dir_network[\n",
    "                (network_stats_dir_network.tissue_dataset==tissue_dataset) & \n",
    "                (network_stats_dir_network.interactions==net_type) &\n",
    "                (network_stats_dir_network.direction==direction)\n",
    "            ]\n",
    "            unique_pairs = df[\n",
    "                ['cancer_tissue', 'metastasis_tissue', 'directed_interactions']\n",
    "            ].drop_duplicates().values\n",
    "        \n",
    "            for pair in tqdm(unique_pairs):\n",
    "                tissue_pair = pair[:2]\n",
    "                intersection = pair[2]\n",
    "                jaccard = network_functions.jaccard_index(\n",
    "                    tissue_pair, calls, graph, intersection, direction=direction)\n",
    "\n",
    "                row = dict(\n",
    "                    cancer_tissue=tissue_pair[0],\n",
    "                    metastasis_tissue=tissue_pair[1],\n",
    "                    tissue_dataset=tissue_dataset,\n",
    "                    interactions=net_type,\n",
    "                    direction=direction,\n",
    "                    jaccard=jaccard)\n",
    "                jaccard_records.append(row)\n",
    "            \n",
    "jaccard = pd.DataFrame(jaccard_records)\n",
    "jaccard.head()"
   ]
  },
  {
   "cell_type": "code",
   "execution_count": 52,
   "metadata": {},
   "outputs": [
    {
     "data": {
      "text/html": [
       "<div>\n",
       "<style scoped>\n",
       "    .dataframe tbody tr th:only-of-type {\n",
       "        vertical-align: middle;\n",
       "    }\n",
       "\n",
       "    .dataframe tbody tr th {\n",
       "        vertical-align: top;\n",
       "    }\n",
       "\n",
       "    .dataframe thead th {\n",
       "        text-align: right;\n",
       "    }\n",
       "</style>\n",
       "<table border=\"1\" class=\"dataframe\">\n",
       "  <thead>\n",
       "    <tr style=\"text-align: right;\">\n",
       "      <th></th>\n",
       "      <th>cancer_tissue</th>\n",
       "      <th>metastasis_tissue</th>\n",
       "      <th>directed_interactions</th>\n",
       "      <th>direction</th>\n",
       "      <th>interactions</th>\n",
       "      <th>tissue_dataset</th>\n",
       "      <th>jaccard</th>\n",
       "    </tr>\n",
       "  </thead>\n",
       "  <tbody>\n",
       "    <tr>\n",
       "      <th>0</th>\n",
       "      <td>Breast - Mammary Tissue</td>\n",
       "      <td>Nerve - Tibial</td>\n",
       "      <td>4055</td>\n",
       "      <td>c_to_m</td>\n",
       "      <td>all</td>\n",
       "      <td>gtex</td>\n",
       "      <td>0.296613</td>\n",
       "    </tr>\n",
       "    <tr>\n",
       "      <th>1</th>\n",
       "      <td>Breast - Mammary Tissue</td>\n",
       "      <td>Nerve - Tibial</td>\n",
       "      <td>4104</td>\n",
       "      <td>m_to_c</td>\n",
       "      <td>all</td>\n",
       "      <td>gtex</td>\n",
       "      <td>0.301277</td>\n",
       "    </tr>\n",
       "  </tbody>\n",
       "</table>\n",
       "</div>"
      ],
      "text/plain": [
       "             cancer_tissue metastasis_tissue  directed_interactions direction  \\\n",
       "0  Breast - Mammary Tissue    Nerve - Tibial                   4055    c_to_m   \n",
       "1  Breast - Mammary Tissue    Nerve - Tibial                   4104    m_to_c   \n",
       "\n",
       "  interactions tissue_dataset   jaccard  \n",
       "0          all           gtex  0.296613  \n",
       "1          all           gtex  0.301277  "
      ]
     },
     "execution_count": 52,
     "metadata": {},
     "output_type": "execute_result"
    }
   ],
   "source": [
    "dir_stats_jaccard = pd.merge(\n",
    "    network_stats_dir_network,\n",
    "    jaccard,\n",
    "    on=['cancer_tissue', 'metastasis_tissue', 'tissue_dataset', 'interactions', 'direction'], \n",
    "    how='left')\n",
    "dir_stats_jaccard.head(2)"
   ]
  },
  {
   "cell_type": "code",
   "execution_count": 53,
   "metadata": {},
   "outputs": [],
   "source": [
    "dir_stats_jaccard.to_csv(intercell_net_dir + 'directed_network_stats.csv', index=False)"
   ]
  },
  {
   "cell_type": "markdown",
   "metadata": {
    "jp-MarkdownHeadingCollapsed": true,
    "tags": []
   },
   "source": [
    "## Cancer-wise Comparison network stats\n",
    "In the cancer-wise analysis we need to use the grouped tissues. Since we are correlating network stats with frequency of metastasis, organs with several tissues can influence the final result  "
   ]
  },
  {
   "cell_type": "markdown",
   "metadata": {
    "jp-MarkdownHeadingCollapsed": true,
    "tags": []
   },
   "source": [
    "### Compute number of intercellular interactions for each tissue pair"
   ]
  },
  {
   "cell_type": "code",
   "execution_count": 55,
   "metadata": {
    "tags": []
   },
   "outputs": [
    {
     "data": {
      "application/vnd.jupyter.widget-view+json": {
       "model_id": "88e3b5cbb2ed4160b49766ed6027afcd",
       "version_major": 2,
       "version_minor": 0
      },
      "text/plain": [
       "network_type:   0%|          | 0/2 [00:00<?, ?it/s]"
      ]
     },
     "metadata": {},
     "output_type": "display_data"
    },
    {
     "data": {
      "application/vnd.jupyter.widget-view+json": {
       "model_id": "25011cf223ec4bb0bd10ef8b131c6000",
       "version_major": 2,
       "version_minor": 0
      },
      "text/plain": [
       "tissue_dataset:   0%|          | 0/2 [00:00<?, ?it/s]"
      ]
     },
     "metadata": {},
     "output_type": "display_data"
    },
    {
     "data": {
      "application/vnd.jupyter.widget-view+json": {
       "model_id": "9a027904efca45d69361a25819ea5a25",
       "version_major": 2,
       "version_minor": 0
      },
      "text/plain": [
       "networks:   0%|          | 0/528 [00:00<?, ?it/s]"
      ]
     },
     "metadata": {},
     "output_type": "display_data"
    },
    {
     "data": {
      "application/vnd.jupyter.widget-view+json": {
       "model_id": "a7a7699efb7544b0be2bd503262a3e63",
       "version_major": 2,
       "version_minor": 0
      },
      "text/plain": [
       "networks:   0%|          | 0/861 [00:00<?, ?it/s]"
      ]
     },
     "metadata": {},
     "output_type": "display_data"
    },
    {
     "data": {
      "application/vnd.jupyter.widget-view+json": {
       "model_id": "eece3a67cb8b460d8fe1b07b457e0df9",
       "version_major": 2,
       "version_minor": 0
      },
      "text/plain": [
       "tissue_dataset:   0%|          | 0/2 [00:00<?, ?it/s]"
      ]
     },
     "metadata": {},
     "output_type": "display_data"
    },
    {
     "data": {
      "application/vnd.jupyter.widget-view+json": {
       "model_id": "d3e3a2a5bf964e43b9cc93bdca53ed4c",
       "version_major": 2,
       "version_minor": 0
      },
      "text/plain": [
       "networks:   0%|          | 0/528 [00:00<?, ?it/s]"
      ]
     },
     "metadata": {},
     "output_type": "display_data"
    },
    {
     "data": {
      "application/vnd.jupyter.widget-view+json": {
       "model_id": "ab9a2e508fff4bbc8dfee294441e5778",
       "version_major": 2,
       "version_minor": 0
      },
      "text/plain": [
       "networks:   0%|          | 0/861 [00:00<?, ?it/s]"
      ]
     },
     "metadata": {},
     "output_type": "display_data"
    },
    {
     "data": {
      "text/html": [
       "<div>\n",
       "<style scoped>\n",
       "    .dataframe tbody tr th:only-of-type {\n",
       "        vertical-align: middle;\n",
       "    }\n",
       "\n",
       "    .dataframe tbody tr th {\n",
       "        vertical-align: top;\n",
       "    }\n",
       "\n",
       "    .dataframe thead th {\n",
       "        text-align: right;\n",
       "    }\n",
       "</style>\n",
       "<table border=\"1\" class=\"dataframe\">\n",
       "  <thead>\n",
       "    <tr style=\"text-align: right;\">\n",
       "      <th></th>\n",
       "      <th>cancer_tissue</th>\n",
       "      <th>metastasis_tissue</th>\n",
       "      <th>simple_interactions</th>\n",
       "      <th>directed_interactions</th>\n",
       "      <th>direction</th>\n",
       "      <th>interactions</th>\n",
       "      <th>tissue_dataset</th>\n",
       "    </tr>\n",
       "  </thead>\n",
       "  <tbody>\n",
       "    <tr>\n",
       "      <th>0</th>\n",
       "      <td>adrenal_gland</td>\n",
       "      <td>fallopian_tube</td>\n",
       "      <td>7405</td>\n",
       "      <td>3447</td>\n",
       "      <td>c_to_m</td>\n",
       "      <td>all</td>\n",
       "      <td>gtex</td>\n",
       "    </tr>\n",
       "    <tr>\n",
       "      <th>1</th>\n",
       "      <td>adrenal_gland</td>\n",
       "      <td>fallopian_tube</td>\n",
       "      <td>7405</td>\n",
       "      <td>3452</td>\n",
       "      <td>m_to_c</td>\n",
       "      <td>all</td>\n",
       "      <td>gtex</td>\n",
       "    </tr>\n",
       "  </tbody>\n",
       "</table>\n",
       "</div>"
      ],
      "text/plain": [
       "   cancer_tissue metastasis_tissue  simple_interactions  \\\n",
       "0  adrenal_gland    fallopian_tube                 7405   \n",
       "1  adrenal_gland    fallopian_tube                 7405   \n",
       "\n",
       "   directed_interactions direction interactions tissue_dataset  \n",
       "0                   3447    c_to_m          all           gtex  \n",
       "1                   3452    m_to_c          all           gtex  "
      ]
     },
     "execution_count": 55,
     "metadata": {},
     "output_type": "execute_result"
    }
   ],
   "source": [
    "# compute the number of intercell interactions for each pair\n",
    "importlib.reload(network_functions)\n",
    "network_stats = []\n",
    "\n",
    "for net_type in tqdm(network_types, desc='network_type'):\n",
    "    for tissue_dataset in tqdm(tissue_datasets, desc='tissue_dataset'):\n",
    "    \n",
    "        directory = f'{intercell_net_dir}{net_type}/{tissue_dataset}/grouped'\n",
    "\n",
    "        stats = network_functions.compute_intercell_interactions(\n",
    "            directory,\n",
    "            extra_labels=[\n",
    "                ('interactions', net_type),\n",
    "                ('tissue_dataset', tissue_dataset)\n",
    "            ]\n",
    "        )\n",
    "        network_stats.extend(stats)\n",
    "        \n",
    "network_stats = pd.DataFrame(network_stats)\n",
    "network_stats.head(2)"
   ]
  },
  {
   "cell_type": "code",
   "execution_count": 56,
   "metadata": {},
   "outputs": [
    {
     "data": {
      "text/html": [
       "<div>\n",
       "<style scoped>\n",
       "    .dataframe tbody tr th:only-of-type {\n",
       "        vertical-align: middle;\n",
       "    }\n",
       "\n",
       "    .dataframe tbody tr th {\n",
       "        vertical-align: top;\n",
       "    }\n",
       "\n",
       "    .dataframe thead th {\n",
       "        text-align: right;\n",
       "    }\n",
       "</style>\n",
       "<table border=\"1\" class=\"dataframe\">\n",
       "  <thead>\n",
       "    <tr style=\"text-align: right;\">\n",
       "      <th></th>\n",
       "      <th>cancer_tissue</th>\n",
       "      <th>metastasis_tissue</th>\n",
       "      <th>simple_interactions</th>\n",
       "      <th>interactions</th>\n",
       "      <th>tissue_dataset</th>\n",
       "    </tr>\n",
       "  </thead>\n",
       "  <tbody>\n",
       "    <tr>\n",
       "      <th>0</th>\n",
       "      <td>adrenal_gland</td>\n",
       "      <td>fallopian_tube</td>\n",
       "      <td>7405</td>\n",
       "      <td>all</td>\n",
       "      <td>gtex</td>\n",
       "    </tr>\n",
       "    <tr>\n",
       "      <th>1</th>\n",
       "      <td>fibroblasts</td>\n",
       "      <td>stomach</td>\n",
       "      <td>5951</td>\n",
       "      <td>all</td>\n",
       "      <td>gtex</td>\n",
       "    </tr>\n",
       "  </tbody>\n",
       "</table>\n",
       "</div>"
      ],
      "text/plain": [
       "   cancer_tissue metastasis_tissue  simple_interactions interactions  \\\n",
       "0  adrenal_gland    fallopian_tube                 7405          all   \n",
       "1    fibroblasts           stomach                 5951          all   \n",
       "\n",
       "  tissue_dataset  \n",
       "0           gtex  \n",
       "1           gtex  "
      ]
     },
     "execution_count": 56,
     "metadata": {},
     "output_type": "execute_result"
    }
   ],
   "source": [
    "# split directed and undirected stats\n",
    "network_stats_undir = network_stats.drop(['directed_interactions', 'direction'], axis=1).drop_duplicates(ignore_index=True)\n",
    "network_stats_dir = network_stats.drop('simple_interactions', axis=1)\n",
    "network_stats_undir.head(2)"
   ]
  },
  {
   "cell_type": "code",
   "execution_count": 61,
   "metadata": {},
   "outputs": [
    {
     "data": {
      "text/html": [
       "<div>\n",
       "<style scoped>\n",
       "    .dataframe tbody tr th:only-of-type {\n",
       "        vertical-align: middle;\n",
       "    }\n",
       "\n",
       "    .dataframe tbody tr th {\n",
       "        vertical-align: top;\n",
       "    }\n",
       "\n",
       "    .dataframe thead th {\n",
       "        text-align: right;\n",
       "    }\n",
       "</style>\n",
       "<table border=\"1\" class=\"dataframe\">\n",
       "  <thead>\n",
       "    <tr style=\"text-align: right;\">\n",
       "      <th></th>\n",
       "      <th>metastasis_tissue</th>\n",
       "      <th>cancer_tissue</th>\n",
       "      <th>directed_interactions</th>\n",
       "      <th>direction</th>\n",
       "      <th>interactions</th>\n",
       "      <th>tissue_dataset</th>\n",
       "    </tr>\n",
       "  </thead>\n",
       "  <tbody>\n",
       "    <tr>\n",
       "      <th>0</th>\n",
       "      <td>adrenal_gland</td>\n",
       "      <td>fallopian_tube</td>\n",
       "      <td>3447</td>\n",
       "      <td>c_to_m</td>\n",
       "      <td>all</td>\n",
       "      <td>gtex</td>\n",
       "    </tr>\n",
       "    <tr>\n",
       "      <th>1</th>\n",
       "      <td>adrenal_gland</td>\n",
       "      <td>fallopian_tube</td>\n",
       "      <td>3452</td>\n",
       "      <td>m_to_c</td>\n",
       "      <td>all</td>\n",
       "      <td>gtex</td>\n",
       "    </tr>\n",
       "    <tr>\n",
       "      <th>2</th>\n",
       "      <td>fibroblasts</td>\n",
       "      <td>stomach</td>\n",
       "      <td>2884</td>\n",
       "      <td>c_to_m</td>\n",
       "      <td>all</td>\n",
       "      <td>gtex</td>\n",
       "    </tr>\n",
       "    <tr>\n",
       "      <th>3</th>\n",
       "      <td>fibroblasts</td>\n",
       "      <td>stomach</td>\n",
       "      <td>2651</td>\n",
       "      <td>m_to_c</td>\n",
       "      <td>all</td>\n",
       "      <td>gtex</td>\n",
       "    </tr>\n",
       "    <tr>\n",
       "      <th>4</th>\n",
       "      <td>liver</td>\n",
       "      <td>uterus</td>\n",
       "      <td>2676</td>\n",
       "      <td>c_to_m</td>\n",
       "      <td>all</td>\n",
       "      <td>gtex</td>\n",
       "    </tr>\n",
       "  </tbody>\n",
       "</table>\n",
       "</div>"
      ],
      "text/plain": [
       "  metastasis_tissue   cancer_tissue  directed_interactions direction  \\\n",
       "0     adrenal_gland  fallopian_tube                   3447    c_to_m   \n",
       "1     adrenal_gland  fallopian_tube                   3452    m_to_c   \n",
       "2       fibroblasts         stomach                   2884    c_to_m   \n",
       "3       fibroblasts         stomach                   2651    m_to_c   \n",
       "4             liver          uterus                   2676    c_to_m   \n",
       "\n",
       "  interactions tissue_dataset  \n",
       "0          all           gtex  \n",
       "1          all           gtex  \n",
       "2          all           gtex  \n",
       "3          all           gtex  \n",
       "4          all           gtex  "
      ]
     },
     "metadata": {},
     "output_type": "display_data"
    },
    {
     "data": {
      "text/html": [
       "<div>\n",
       "<style scoped>\n",
       "    .dataframe tbody tr th:only-of-type {\n",
       "        vertical-align: middle;\n",
       "    }\n",
       "\n",
       "    .dataframe tbody tr th {\n",
       "        vertical-align: top;\n",
       "    }\n",
       "\n",
       "    .dataframe thead th {\n",
       "        text-align: right;\n",
       "    }\n",
       "</style>\n",
       "<table border=\"1\" class=\"dataframe\">\n",
       "  <thead>\n",
       "    <tr style=\"text-align: right;\">\n",
       "      <th></th>\n",
       "      <th>metastasis_tissue</th>\n",
       "      <th>cancer_tissue</th>\n",
       "      <th>directed_interactions</th>\n",
       "      <th>direction</th>\n",
       "      <th>interactions</th>\n",
       "      <th>tissue_dataset</th>\n",
       "    </tr>\n",
       "  </thead>\n",
       "  <tbody>\n",
       "    <tr>\n",
       "      <th>0</th>\n",
       "      <td>adrenal_gland</td>\n",
       "      <td>fallopian_tube</td>\n",
       "      <td>3447</td>\n",
       "      <td>m_to_c</td>\n",
       "      <td>all</td>\n",
       "      <td>gtex</td>\n",
       "    </tr>\n",
       "    <tr>\n",
       "      <th>1</th>\n",
       "      <td>adrenal_gland</td>\n",
       "      <td>fallopian_tube</td>\n",
       "      <td>3452</td>\n",
       "      <td>c_to_m</td>\n",
       "      <td>all</td>\n",
       "      <td>gtex</td>\n",
       "    </tr>\n",
       "    <tr>\n",
       "      <th>2</th>\n",
       "      <td>fibroblasts</td>\n",
       "      <td>stomach</td>\n",
       "      <td>2884</td>\n",
       "      <td>m_to_c</td>\n",
       "      <td>all</td>\n",
       "      <td>gtex</td>\n",
       "    </tr>\n",
       "    <tr>\n",
       "      <th>3</th>\n",
       "      <td>fibroblasts</td>\n",
       "      <td>stomach</td>\n",
       "      <td>2651</td>\n",
       "      <td>c_to_m</td>\n",
       "      <td>all</td>\n",
       "      <td>gtex</td>\n",
       "    </tr>\n",
       "    <tr>\n",
       "      <th>4</th>\n",
       "      <td>liver</td>\n",
       "      <td>uterus</td>\n",
       "      <td>2676</td>\n",
       "      <td>m_to_c</td>\n",
       "      <td>all</td>\n",
       "      <td>gtex</td>\n",
       "    </tr>\n",
       "  </tbody>\n",
       "</table>\n",
       "</div>"
      ],
      "text/plain": [
       "  metastasis_tissue   cancer_tissue  directed_interactions direction  \\\n",
       "0     adrenal_gland  fallopian_tube                   3447    m_to_c   \n",
       "1     adrenal_gland  fallopian_tube                   3452    c_to_m   \n",
       "2       fibroblasts         stomach                   2884    m_to_c   \n",
       "3       fibroblasts         stomach                   2651    c_to_m   \n",
       "4             liver          uterus                   2676    m_to_c   \n",
       "\n",
       "  interactions tissue_dataset  \n",
       "0          all           gtex  \n",
       "1          all           gtex  \n",
       "2          all           gtex  \n",
       "3          all           gtex  \n",
       "4          all           gtex  "
      ]
     },
     "execution_count": 61,
     "metadata": {},
     "output_type": "execute_result"
    }
   ],
   "source": [
    "# to get all tissue pairs, we'll create a dataframe where we reverse the tissue order\n",
    "network_stats_undir_rev = network_stats_undir.copy().rename({\n",
    "    'cancer_tissue':'metastasis_tissue',\n",
    "    'metastasis_tissue':'cancer_tissue',\n",
    "}, axis=1)\n",
    "\n",
    "# for directed interactions we also have to change the entry's direction\n",
    "network_stats_dir_rev = network_stats_dir.copy().rename({\n",
    "    'cancer_tissue':'metastasis_tissue',\n",
    "    'metastasis_tissue':'cancer_tissue',\n",
    "}, axis=1)\n",
    "display(network_stats_dir_rev.head())\n",
    "network_stats_dir_rev['direction'] = np.where(network_stats_dir_rev['direction']=='c_to_m', 'm_to_c', 'c_to_m')\n",
    "network_stats_dir_rev.head()"
   ]
  },
  {
   "cell_type": "code",
   "execution_count": 64,
   "metadata": {},
   "outputs": [
    {
     "data": {
      "text/html": [
       "<div>\n",
       "<style scoped>\n",
       "    .dataframe tbody tr th:only-of-type {\n",
       "        vertical-align: middle;\n",
       "    }\n",
       "\n",
       "    .dataframe tbody tr th {\n",
       "        vertical-align: top;\n",
       "    }\n",
       "\n",
       "    .dataframe thead th {\n",
       "        text-align: right;\n",
       "    }\n",
       "</style>\n",
       "<table border=\"1\" class=\"dataframe\">\n",
       "  <thead>\n",
       "    <tr style=\"text-align: right;\">\n",
       "      <th></th>\n",
       "      <th>cancer_tissue</th>\n",
       "      <th>metastasis_tissue</th>\n",
       "      <th>directed_interactions</th>\n",
       "      <th>direction</th>\n",
       "      <th>interactions</th>\n",
       "      <th>tissue_dataset</th>\n",
       "    </tr>\n",
       "  </thead>\n",
       "  <tbody>\n",
       "    <tr>\n",
       "      <th>0</th>\n",
       "      <td>adrenal_gland</td>\n",
       "      <td>fallopian_tube</td>\n",
       "      <td>3447</td>\n",
       "      <td>c_to_m</td>\n",
       "      <td>all</td>\n",
       "      <td>gtex</td>\n",
       "    </tr>\n",
       "    <tr>\n",
       "      <th>1</th>\n",
       "      <td>adrenal_gland</td>\n",
       "      <td>fallopian_tube</td>\n",
       "      <td>3452</td>\n",
       "      <td>m_to_c</td>\n",
       "      <td>all</td>\n",
       "      <td>gtex</td>\n",
       "    </tr>\n",
       "  </tbody>\n",
       "</table>\n",
       "</div>"
      ],
      "text/plain": [
       "   cancer_tissue metastasis_tissue  directed_interactions direction  \\\n",
       "0  adrenal_gland    fallopian_tube                   3447    c_to_m   \n",
       "1  adrenal_gland    fallopian_tube                   3452    m_to_c   \n",
       "\n",
       "  interactions tissue_dataset  \n",
       "0          all           gtex  \n",
       "1          all           gtex  "
      ]
     },
     "execution_count": 64,
     "metadata": {},
     "output_type": "execute_result"
    }
   ],
   "source": [
    "# Concatenate reverse dataframes\n",
    "network_stats_undir_network = pd.concat(\n",
    "    [network_stats_undir, network_stats_undir_rev], ignore_index=True)\n",
    "network_stats_dir_network = pd.concat(\n",
    "    [network_stats_dir, network_stats_dir_rev], ignore_index=True)\n",
    "\n",
    "network_stats_dir_network.head(2)"
   ]
  },
  {
   "cell_type": "markdown",
   "metadata": {
    "jp-MarkdownHeadingCollapsed": true,
    "tags": []
   },
   "source": [
    "### Compute Jaccard index for each tissue pair"
   ]
  },
  {
   "cell_type": "markdown",
   "metadata": {},
   "source": [
    "The Jaccard index, also known as the Jaccard similarity coefficient, is a statistic used for gauging the similarity and diversity of sample sets:\n",
    "$$\n",
    "J(C,M)=\\frac{|C\\cap{M}|}{|C\\cup{M}|}=\\frac{|C\\cap{M}|}{|C|+|M|-|C\\cap{M}|},\n",
    "$$\n",
    "\n",
    "$|C\\cap{M}|:$ number of intercellular interactions between cancer (C) and metastasis (C) tissues\n",
    "\n",
    "$|C\\cup{M}|:$ total number of intercellular interactions that cancer (C) and metastasis (C) tissues can form"
   ]
  },
  {
   "cell_type": "markdown",
   "metadata": {
    "jp-MarkdownHeadingCollapsed": true,
    "tags": []
   },
   "source": [
    "#### Undirected jaccard"
   ]
  },
  {
   "cell_type": "code",
   "execution_count": 68,
   "metadata": {},
   "outputs": [
    {
     "data": {
      "application/vnd.jupyter.widget-view+json": {
       "model_id": "5aa2ee3b21404f97b06d13705810f1dc",
       "version_major": 2,
       "version_minor": 0
      },
      "text/plain": [
       "tissue_dataset:   0%|          | 0/2 [00:00<?, ?it/s]"
      ]
     },
     "metadata": {},
     "output_type": "display_data"
    },
    {
     "data": {
      "application/vnd.jupyter.widget-view+json": {
       "model_id": "3f1e24926e444068b9e088c6f0e62c31",
       "version_major": 2,
       "version_minor": 0
      },
      "text/plain": [
       "network_type:   0%|          | 0/2 [00:00<?, ?it/s]"
      ]
     },
     "metadata": {},
     "output_type": "display_data"
    },
    {
     "data": {
      "application/vnd.jupyter.widget-view+json": {
       "model_id": "5854ececd1a745c2b5aeeb65828fecf7",
       "version_major": 2,
       "version_minor": 0
      },
      "text/plain": [
       "pairs:   0%|          | 0/1056 [00:00<?, ?it/s]"
      ]
     },
     "metadata": {},
     "output_type": "display_data"
    },
    {
     "data": {
      "application/vnd.jupyter.widget-view+json": {
       "model_id": "b7841f08f3aa4789a465645485f8ccec",
       "version_major": 2,
       "version_minor": 0
      },
      "text/plain": [
       "pairs:   0%|          | 0/1056 [00:00<?, ?it/s]"
      ]
     },
     "metadata": {},
     "output_type": "display_data"
    },
    {
     "data": {
      "application/vnd.jupyter.widget-view+json": {
       "model_id": "95c8b77136d943b189c0056c7256d62b",
       "version_major": 2,
       "version_minor": 0
      },
      "text/plain": [
       "network_type:   0%|          | 0/2 [00:00<?, ?it/s]"
      ]
     },
     "metadata": {},
     "output_type": "display_data"
    },
    {
     "data": {
      "application/vnd.jupyter.widget-view+json": {
       "model_id": "3929c0cabe6e426b83b1d5c2fcc6122a",
       "version_major": 2,
       "version_minor": 0
      },
      "text/plain": [
       "pairs:   0%|          | 0/1722 [00:00<?, ?it/s]"
      ]
     },
     "metadata": {},
     "output_type": "display_data"
    },
    {
     "data": {
      "application/vnd.jupyter.widget-view+json": {
       "model_id": "09175b69514446e7a97f8e56ffef3178",
       "version_major": 2,
       "version_minor": 0
      },
      "text/plain": [
       "pairs:   0%|          | 0/1722 [00:00<?, ?it/s]"
      ]
     },
     "metadata": {},
     "output_type": "display_data"
    },
    {
     "data": {
      "text/html": [
       "<div>\n",
       "<style scoped>\n",
       "    .dataframe tbody tr th:only-of-type {\n",
       "        vertical-align: middle;\n",
       "    }\n",
       "\n",
       "    .dataframe tbody tr th {\n",
       "        vertical-align: top;\n",
       "    }\n",
       "\n",
       "    .dataframe thead th {\n",
       "        text-align: right;\n",
       "    }\n",
       "</style>\n",
       "<table border=\"1\" class=\"dataframe\">\n",
       "  <thead>\n",
       "    <tr style=\"text-align: right;\">\n",
       "      <th></th>\n",
       "      <th>cancer_tissue</th>\n",
       "      <th>metastasis_tissue</th>\n",
       "      <th>tissue_dataset</th>\n",
       "      <th>interactions</th>\n",
       "      <th>jaccard</th>\n",
       "    </tr>\n",
       "  </thead>\n",
       "  <tbody>\n",
       "    <tr>\n",
       "      <th>0</th>\n",
       "      <td>adrenal_gland</td>\n",
       "      <td>fallopian_tube</td>\n",
       "      <td>gtex</td>\n",
       "      <td>all</td>\n",
       "      <td>0.246464</td>\n",
       "    </tr>\n",
       "    <tr>\n",
       "      <th>1</th>\n",
       "      <td>fibroblasts</td>\n",
       "      <td>stomach</td>\n",
       "      <td>gtex</td>\n",
       "      <td>all</td>\n",
       "      <td>0.188927</td>\n",
       "    </tr>\n",
       "    <tr>\n",
       "      <th>2</th>\n",
       "      <td>liver</td>\n",
       "      <td>uterus</td>\n",
       "      <td>gtex</td>\n",
       "      <td>all</td>\n",
       "      <td>0.178377</td>\n",
       "    </tr>\n",
       "    <tr>\n",
       "      <th>3</th>\n",
       "      <td>nerve</td>\n",
       "      <td>pancreas</td>\n",
       "      <td>gtex</td>\n",
       "      <td>all</td>\n",
       "      <td>0.202711</td>\n",
       "    </tr>\n",
       "    <tr>\n",
       "      <th>4</th>\n",
       "      <td>fallopian_tube</td>\n",
       "      <td>ovary</td>\n",
       "      <td>gtex</td>\n",
       "      <td>all</td>\n",
       "      <td>0.260603</td>\n",
       "    </tr>\n",
       "  </tbody>\n",
       "</table>\n",
       "</div>"
      ],
      "text/plain": [
       "    cancer_tissue metastasis_tissue tissue_dataset interactions   jaccard\n",
       "0   adrenal_gland    fallopian_tube           gtex          all  0.246464\n",
       "1     fibroblasts           stomach           gtex          all  0.188927\n",
       "2           liver            uterus           gtex          all  0.178377\n",
       "3           nerve          pancreas           gtex          all  0.202711\n",
       "4  fallopian_tube             ovary           gtex          all  0.260603"
      ]
     },
     "execution_count": 68,
     "metadata": {},
     "output_type": "execute_result"
    }
   ],
   "source": [
    "importlib.reload(network_functions)\n",
    "jaccard_records = []\n",
    "\n",
    "for tissue_dataset in tqdm(tissue_datasets, desc='tissue_dataset'):\n",
    "    \n",
    "    calls = pd.read_csv(gene_exp_dir+f'{tissue_dataset}/grouped_records.csv')\n",
    "    calls = calls.pivot_table(values='call_0.4_0.9', index='gene_id', columns='tissue')\n",
    "\n",
    "    for net_type in tqdm(network_types, desc='network_type'): \n",
    "\n",
    "        graph = intercell_graph[net_type]\n",
    "\n",
    "        df = network_stats_undir_network[\n",
    "            (network_stats_undir_network.tissue_dataset==tissue_dataset) &\n",
    "            (network_stats_undir_network.interactions==net_type)]\n",
    "        \n",
    "        unique_pairs = df[\n",
    "            ['cancer_tissue', 'metastasis_tissue', 'simple_interactions']].drop_duplicates().values\n",
    "\n",
    "        for pair in tqdm(unique_pairs, desc='pairs'):\n",
    "            \n",
    "            tissue_pair = pair[:2]\n",
    "            intersection = pair[2]\n",
    "            jaccard = network_functions.jaccard_index(\n",
    "                tissue_pair, calls, graph, intersection)\n",
    "            \n",
    "            row = dict(\n",
    "                cancer_tissue=tissue_pair[0],\n",
    "                metastasis_tissue=tissue_pair[1],\n",
    "                tissue_dataset=tissue_dataset,\n",
    "                interactions=net_type,\n",
    "                jaccard=jaccard)\n",
    "            jaccard_records.append(row)\n",
    "            \n",
    "jaccard = pd.DataFrame(jaccard_records)\n",
    "jaccard.head()"
   ]
  },
  {
   "cell_type": "code",
   "execution_count": 69,
   "metadata": {},
   "outputs": [
    {
     "data": {
      "text/html": [
       "<div>\n",
       "<style scoped>\n",
       "    .dataframe tbody tr th:only-of-type {\n",
       "        vertical-align: middle;\n",
       "    }\n",
       "\n",
       "    .dataframe tbody tr th {\n",
       "        vertical-align: top;\n",
       "    }\n",
       "\n",
       "    .dataframe thead th {\n",
       "        text-align: right;\n",
       "    }\n",
       "</style>\n",
       "<table border=\"1\" class=\"dataframe\">\n",
       "  <thead>\n",
       "    <tr style=\"text-align: right;\">\n",
       "      <th></th>\n",
       "      <th>cancer_tissue</th>\n",
       "      <th>metastasis_tissue</th>\n",
       "      <th>simple_interactions</th>\n",
       "      <th>interactions</th>\n",
       "      <th>tissue_dataset</th>\n",
       "      <th>jaccard</th>\n",
       "    </tr>\n",
       "  </thead>\n",
       "  <tbody>\n",
       "    <tr>\n",
       "      <th>0</th>\n",
       "      <td>adrenal_gland</td>\n",
       "      <td>fallopian_tube</td>\n",
       "      <td>7405</td>\n",
       "      <td>all</td>\n",
       "      <td>gtex</td>\n",
       "      <td>0.246464</td>\n",
       "    </tr>\n",
       "    <tr>\n",
       "      <th>1</th>\n",
       "      <td>fibroblasts</td>\n",
       "      <td>stomach</td>\n",
       "      <td>5951</td>\n",
       "      <td>all</td>\n",
       "      <td>gtex</td>\n",
       "      <td>0.188927</td>\n",
       "    </tr>\n",
       "  </tbody>\n",
       "</table>\n",
       "</div>"
      ],
      "text/plain": [
       "   cancer_tissue metastasis_tissue  simple_interactions interactions  \\\n",
       "0  adrenal_gland    fallopian_tube                 7405          all   \n",
       "1    fibroblasts           stomach                 5951          all   \n",
       "\n",
       "  tissue_dataset   jaccard  \n",
       "0           gtex  0.246464  \n",
       "1           gtex  0.188927  "
      ]
     },
     "execution_count": 69,
     "metadata": {},
     "output_type": "execute_result"
    }
   ],
   "source": [
    "# merge datasets: \n",
    "undir_stats_jaccard = pd.merge(\n",
    "    network_stats_undir_network,\n",
    "    jaccard,\n",
    "    on=['cancer_tissue', 'metastasis_tissue', 'tissue_dataset', 'interactions'], how='left')\n",
    "undir_stats_jaccard.head(2)"
   ]
  },
  {
   "cell_type": "code",
   "execution_count": 71,
   "metadata": {},
   "outputs": [],
   "source": [
    "undir_stats_jaccard.to_csv(intercell_net_dir + 'undirected_grouped_network_stats.csv', index=False)"
   ]
  },
  {
   "cell_type": "markdown",
   "metadata": {
    "jp-MarkdownHeadingCollapsed": true,
    "tags": []
   },
   "source": [
    "#### Directed jaccard"
   ]
  },
  {
   "cell_type": "code",
   "execution_count": 72,
   "metadata": {},
   "outputs": [
    {
     "data": {
      "application/vnd.jupyter.widget-view+json": {
       "model_id": "ef497bf3cb6b45059ad1c994fd3e9e7f",
       "version_major": 2,
       "version_minor": 0
      },
      "text/plain": [
       "tissue_dataset:   0%|          | 0/2 [00:00<?, ?it/s]"
      ]
     },
     "metadata": {},
     "output_type": "display_data"
    },
    {
     "data": {
      "application/vnd.jupyter.widget-view+json": {
       "model_id": "d4b7706ef41b4c53b602d8c7b8355090",
       "version_major": 2,
       "version_minor": 0
      },
      "text/plain": [
       "network_type:   0%|          | 0/2 [00:00<?, ?it/s]"
      ]
     },
     "metadata": {},
     "output_type": "display_data"
    },
    {
     "data": {
      "application/vnd.jupyter.widget-view+json": {
       "model_id": "3fc97a5c49824602891590c620eda5c5",
       "version_major": 2,
       "version_minor": 0
      },
      "text/plain": [
       "direction:   0%|          | 0/2 [00:00<?, ?it/s]"
      ]
     },
     "metadata": {},
     "output_type": "display_data"
    },
    {
     "data": {
      "application/vnd.jupyter.widget-view+json": {
       "model_id": "5a437ec30ef54894a45024ebc5479bc6",
       "version_major": 2,
       "version_minor": 0
      },
      "text/plain": [
       "  0%|          | 0/1056 [00:00<?, ?it/s]"
      ]
     },
     "metadata": {},
     "output_type": "display_data"
    },
    {
     "data": {
      "application/vnd.jupyter.widget-view+json": {
       "model_id": "9789634853404370a02d7b268b2813fb",
       "version_major": 2,
       "version_minor": 0
      },
      "text/plain": [
       "  0%|          | 0/1056 [00:00<?, ?it/s]"
      ]
     },
     "metadata": {},
     "output_type": "display_data"
    },
    {
     "data": {
      "application/vnd.jupyter.widget-view+json": {
       "model_id": "83ed540ed2544a50bc1b175510e50751",
       "version_major": 2,
       "version_minor": 0
      },
      "text/plain": [
       "direction:   0%|          | 0/2 [00:00<?, ?it/s]"
      ]
     },
     "metadata": {},
     "output_type": "display_data"
    },
    {
     "data": {
      "application/vnd.jupyter.widget-view+json": {
       "model_id": "b9051295c9bc488b8f554b4f1d01d020",
       "version_major": 2,
       "version_minor": 0
      },
      "text/plain": [
       "  0%|          | 0/1056 [00:00<?, ?it/s]"
      ]
     },
     "metadata": {},
     "output_type": "display_data"
    },
    {
     "data": {
      "application/vnd.jupyter.widget-view+json": {
       "model_id": "40d48882cf6a43648402e0a947918394",
       "version_major": 2,
       "version_minor": 0
      },
      "text/plain": [
       "  0%|          | 0/1056 [00:00<?, ?it/s]"
      ]
     },
     "metadata": {},
     "output_type": "display_data"
    },
    {
     "data": {
      "application/vnd.jupyter.widget-view+json": {
       "model_id": "437492bc76dd486181638bcd25c3beda",
       "version_major": 2,
       "version_minor": 0
      },
      "text/plain": [
       "network_type:   0%|          | 0/2 [00:00<?, ?it/s]"
      ]
     },
     "metadata": {},
     "output_type": "display_data"
    },
    {
     "data": {
      "application/vnd.jupyter.widget-view+json": {
       "model_id": "73781fbce0364b8a9c9c1b730523551b",
       "version_major": 2,
       "version_minor": 0
      },
      "text/plain": [
       "direction:   0%|          | 0/2 [00:00<?, ?it/s]"
      ]
     },
     "metadata": {},
     "output_type": "display_data"
    },
    {
     "data": {
      "application/vnd.jupyter.widget-view+json": {
       "model_id": "740d399a0ed141f5aee430c08d54a736",
       "version_major": 2,
       "version_minor": 0
      },
      "text/plain": [
       "  0%|          | 0/1722 [00:00<?, ?it/s]"
      ]
     },
     "metadata": {},
     "output_type": "display_data"
    },
    {
     "data": {
      "application/vnd.jupyter.widget-view+json": {
       "model_id": "7c156ec1b2b04e81b6754eb9299e5c05",
       "version_major": 2,
       "version_minor": 0
      },
      "text/plain": [
       "  0%|          | 0/1722 [00:00<?, ?it/s]"
      ]
     },
     "metadata": {},
     "output_type": "display_data"
    },
    {
     "data": {
      "application/vnd.jupyter.widget-view+json": {
       "model_id": "93c3b982f8794fd09c016d9675cca2e8",
       "version_major": 2,
       "version_minor": 0
      },
      "text/plain": [
       "direction:   0%|          | 0/2 [00:00<?, ?it/s]"
      ]
     },
     "metadata": {},
     "output_type": "display_data"
    },
    {
     "data": {
      "application/vnd.jupyter.widget-view+json": {
       "model_id": "33c7e05c6d0146dfa1d2863ffe2ab2d1",
       "version_major": 2,
       "version_minor": 0
      },
      "text/plain": [
       "  0%|          | 0/1722 [00:00<?, ?it/s]"
      ]
     },
     "metadata": {},
     "output_type": "display_data"
    },
    {
     "data": {
      "application/vnd.jupyter.widget-view+json": {
       "model_id": "7727276e7bf548709a6a74fd4a8b8f8b",
       "version_major": 2,
       "version_minor": 0
      },
      "text/plain": [
       "  0%|          | 0/1722 [00:00<?, ?it/s]"
      ]
     },
     "metadata": {},
     "output_type": "display_data"
    },
    {
     "data": {
      "text/html": [
       "<div>\n",
       "<style scoped>\n",
       "    .dataframe tbody tr th:only-of-type {\n",
       "        vertical-align: middle;\n",
       "    }\n",
       "\n",
       "    .dataframe tbody tr th {\n",
       "        vertical-align: top;\n",
       "    }\n",
       "\n",
       "    .dataframe thead th {\n",
       "        text-align: right;\n",
       "    }\n",
       "</style>\n",
       "<table border=\"1\" class=\"dataframe\">\n",
       "  <thead>\n",
       "    <tr style=\"text-align: right;\">\n",
       "      <th></th>\n",
       "      <th>cancer_tissue</th>\n",
       "      <th>metastasis_tissue</th>\n",
       "      <th>tissue_dataset</th>\n",
       "      <th>interactions</th>\n",
       "      <th>direction</th>\n",
       "      <th>jaccard</th>\n",
       "    </tr>\n",
       "  </thead>\n",
       "  <tbody>\n",
       "    <tr>\n",
       "      <th>0</th>\n",
       "      <td>adrenal_gland</td>\n",
       "      <td>fallopian_tube</td>\n",
       "      <td>gtex</td>\n",
       "      <td>all</td>\n",
       "      <td>c_to_m</td>\n",
       "      <td>0.241403</td>\n",
       "    </tr>\n",
       "    <tr>\n",
       "      <th>1</th>\n",
       "      <td>fibroblasts</td>\n",
       "      <td>stomach</td>\n",
       "      <td>gtex</td>\n",
       "      <td>all</td>\n",
       "      <td>c_to_m</td>\n",
       "      <td>0.194313</td>\n",
       "    </tr>\n",
       "    <tr>\n",
       "      <th>2</th>\n",
       "      <td>liver</td>\n",
       "      <td>uterus</td>\n",
       "      <td>gtex</td>\n",
       "      <td>all</td>\n",
       "      <td>c_to_m</td>\n",
       "      <td>0.177807</td>\n",
       "    </tr>\n",
       "    <tr>\n",
       "      <th>3</th>\n",
       "      <td>nerve</td>\n",
       "      <td>pancreas</td>\n",
       "      <td>gtex</td>\n",
       "      <td>all</td>\n",
       "      <td>c_to_m</td>\n",
       "      <td>0.198918</td>\n",
       "    </tr>\n",
       "    <tr>\n",
       "      <th>4</th>\n",
       "      <td>fallopian_tube</td>\n",
       "      <td>ovary</td>\n",
       "      <td>gtex</td>\n",
       "      <td>all</td>\n",
       "      <td>c_to_m</td>\n",
       "      <td>0.255738</td>\n",
       "    </tr>\n",
       "  </tbody>\n",
       "</table>\n",
       "</div>"
      ],
      "text/plain": [
       "    cancer_tissue metastasis_tissue tissue_dataset interactions direction  \\\n",
       "0   adrenal_gland    fallopian_tube           gtex          all    c_to_m   \n",
       "1     fibroblasts           stomach           gtex          all    c_to_m   \n",
       "2           liver            uterus           gtex          all    c_to_m   \n",
       "3           nerve          pancreas           gtex          all    c_to_m   \n",
       "4  fallopian_tube             ovary           gtex          all    c_to_m   \n",
       "\n",
       "    jaccard  \n",
       "0  0.241403  \n",
       "1  0.194313  \n",
       "2  0.177807  \n",
       "3  0.198918  \n",
       "4  0.255738  "
      ]
     },
     "execution_count": 72,
     "metadata": {},
     "output_type": "execute_result"
    }
   ],
   "source": [
    "importlib.reload(network_functions)\n",
    "\n",
    "jaccard_records = []\n",
    "for tissue_dataset in tqdm(tissue_datasets, desc='tissue_dataset'):\n",
    "    \n",
    "    calls = pd.read_csv(gene_exp_dir+f'{tissue_dataset}/grouped_records.csv')\n",
    "    calls = calls.pivot_table(values='call_0.4_0.9', index='gene_id', columns='tissue')\n",
    "\n",
    "    for net_type in tqdm(network_types, desc='network_type'): \n",
    "\n",
    "        graph = intercell_graph[net_type]\n",
    "\n",
    "        for direction in tqdm(network_stats_dir_network.direction.unique(), desc='direction'):\n",
    "                \n",
    "            df = network_stats_dir_network[\n",
    "                (network_stats_dir_network.tissue_dataset==tissue_dataset) & \n",
    "                (network_stats_dir_network.interactions==net_type) &\n",
    "                (network_stats_dir_network.direction==direction)\n",
    "            ]\n",
    "            unique_pairs = df[\n",
    "                ['cancer_tissue', 'metastasis_tissue', 'directed_interactions']\n",
    "            ].drop_duplicates().values\n",
    "        \n",
    "            for pair in tqdm(unique_pairs):\n",
    "                tissue_pair = pair[:2]\n",
    "                intersection = pair[2]\n",
    "                jaccard = network_functions.jaccard_index(\n",
    "                    tissue_pair, calls, graph, intersection, direction=direction)\n",
    "\n",
    "                row = dict(\n",
    "                    cancer_tissue=tissue_pair[0],\n",
    "                    metastasis_tissue=tissue_pair[1],\n",
    "                    tissue_dataset=tissue_dataset,\n",
    "                    interactions=net_type,\n",
    "                    direction=direction,\n",
    "                    jaccard=jaccard)\n",
    "                jaccard_records.append(row)\n",
    "            \n",
    "jaccard = pd.DataFrame(jaccard_records)\n",
    "jaccard.head()"
   ]
  },
  {
   "cell_type": "code",
   "execution_count": 73,
   "metadata": {},
   "outputs": [
    {
     "data": {
      "text/html": [
       "<div>\n",
       "<style scoped>\n",
       "    .dataframe tbody tr th:only-of-type {\n",
       "        vertical-align: middle;\n",
       "    }\n",
       "\n",
       "    .dataframe tbody tr th {\n",
       "        vertical-align: top;\n",
       "    }\n",
       "\n",
       "    .dataframe thead th {\n",
       "        text-align: right;\n",
       "    }\n",
       "</style>\n",
       "<table border=\"1\" class=\"dataframe\">\n",
       "  <thead>\n",
       "    <tr style=\"text-align: right;\">\n",
       "      <th></th>\n",
       "      <th>cancer_tissue</th>\n",
       "      <th>metastasis_tissue</th>\n",
       "      <th>directed_interactions</th>\n",
       "      <th>direction</th>\n",
       "      <th>interactions</th>\n",
       "      <th>tissue_dataset</th>\n",
       "      <th>jaccard</th>\n",
       "    </tr>\n",
       "  </thead>\n",
       "  <tbody>\n",
       "    <tr>\n",
       "      <th>0</th>\n",
       "      <td>adrenal_gland</td>\n",
       "      <td>fallopian_tube</td>\n",
       "      <td>3447</td>\n",
       "      <td>c_to_m</td>\n",
       "      <td>all</td>\n",
       "      <td>gtex</td>\n",
       "      <td>0.241403</td>\n",
       "    </tr>\n",
       "    <tr>\n",
       "      <th>1</th>\n",
       "      <td>adrenal_gland</td>\n",
       "      <td>fallopian_tube</td>\n",
       "      <td>3452</td>\n",
       "      <td>m_to_c</td>\n",
       "      <td>all</td>\n",
       "      <td>gtex</td>\n",
       "      <td>0.241838</td>\n",
       "    </tr>\n",
       "  </tbody>\n",
       "</table>\n",
       "</div>"
      ],
      "text/plain": [
       "   cancer_tissue metastasis_tissue  directed_interactions direction  \\\n",
       "0  adrenal_gland    fallopian_tube                   3447    c_to_m   \n",
       "1  adrenal_gland    fallopian_tube                   3452    m_to_c   \n",
       "\n",
       "  interactions tissue_dataset   jaccard  \n",
       "0          all           gtex  0.241403  \n",
       "1          all           gtex  0.241838  "
      ]
     },
     "execution_count": 73,
     "metadata": {},
     "output_type": "execute_result"
    }
   ],
   "source": [
    "dir_stats_jaccard = pd.merge(\n",
    "    network_stats_dir_network,\n",
    "    jaccard,\n",
    "    on=['cancer_tissue', 'metastasis_tissue', 'tissue_dataset', 'interactions', 'direction'], \n",
    "    how='left')\n",
    "dir_stats_jaccard.head(2)"
   ]
  },
  {
   "cell_type": "code",
   "execution_count": 74,
   "metadata": {},
   "outputs": [],
   "source": [
    "dir_stats_jaccard.to_csv(intercell_net_dir + 'directed_grouped_network_stats.csv', index=False)"
   ]
  },
  {
   "cell_type": "markdown",
   "metadata": {
    "tags": []
   },
   "source": [
    "# Random intercellular networks with gene calls\n",
    "\n",
    "We want to keep the same proportion of source/target genes in the random networks. For that we will use 3 distinct intercellular gene pools:\n",
    "* genes that can be both source and target\n",
    "* source only genes\n",
    "* target only genes\n",
    "\n",
    "Additionally each gene has a probability of being choosen proportional to the number of times it is expressed in all tissues."
   ]
  },
  {
   "cell_type": "markdown",
   "metadata": {
    "tags": []
   },
   "source": [
    "## Undirected interactions"
   ]
  },
  {
   "cell_type": "markdown",
   "metadata": {
    "tags": []
   },
   "source": [
    "### Build ungrouped intercell networks"
   ]
  },
  {
   "cell_type": "code",
   "execution_count": null,
   "metadata": {
    "tags": []
   },
   "outputs": [],
   "source": [
    "importlib.reload(network_functions)\n",
    "# load intercell network stats\n",
    "network_stats = pd.read_csv(intercell_net_dir+'undirected_network_stats.csv')\n",
    "\n",
    "random_network_stats = []\n",
    "\n",
    "for tissue_dataset in tqdm(tissue_datasets, desc='tissue_dataset'):\n",
    "    \n",
    "    calls = pd.read_csv(gene_exp_dir+f'{tissue_dataset}/records.csv')\n",
    "    calls = calls.pivot_table(values='call_0.4_0.9', index='gene_id', columns='tissue')\n",
    "    \n",
    "    for net_type in tqdm(network_types, desc='network_type'):\n",
    "\n",
    "        graph = intercell_graph[net_type]\n",
    "\n",
    "        stats = network_functions.build_random_intercell_networks(\n",
    "            tissues[tissue_dataset].dropna(), \n",
    "            calls,\n",
    "            graph,\n",
    "            weights=True,\n",
    "            extra_labels=[\n",
    "                ('interactions', net_type),\n",
    "                ('tissue_dataset', tissue_dataset)\n",
    "            ],\n",
    "            random_state=42,\n",
    "            n_jobs=-1\n",
    "        )\n",
    "\n",
    "        random_network_stats.extend(stats)\n",
    "\n",
    "random_network_stats = pd.DataFrame(random_network_stats)\n",
    "\n",
    "# to get all tissue pairs, we'll create a dataframe where we reverse the tissue order\n",
    "random_net_rev = random_network_stats.copy().rename({\n",
    "    'cancer_tissue':'metastasis_tissue',\n",
    "    'metastasis_tissue':'cancer_tissue',\n",
    "}, axis=1)\n",
    "\n",
    "# Concatenate reverse dataframes\n",
    "random_net_full = pd.concat(\n",
    "    [random_network_stats, random_net_rev], ignore_index=True)\n",
    "\n",
    "# merge random_net with normal_net and compute z-score\n",
    "network_stats_update = pd.merge(\n",
    "    random_net_full,\n",
    "    network_stats,\n",
    "    on=['cancer_tissue', 'metastasis_tissue', 'tissue_dataset', 'interactions'])\n",
    "\n",
    "# compute z-score\n",
    "network_stats_update['zscore'] =\\\n",
    "    (network_stats_update['simple_interactions']-network_stats_update['mean'])\\\n",
    "        /network_stats_update['std']\n",
    "\n",
    "# update network stats file excluding the distribution column\n",
    "network_stats_update.to_csv(\n",
    "    intercell_net_dir+'undirected_network_stats.csv', \n",
    "    index=False,\n",
    "    columns=network_stats_update.columns.drop('dist'))"
   ]
  },
  {
   "cell_type": "markdown",
   "metadata": {
    "tags": []
   },
   "source": [
    "### Build grouped intercell networks"
   ]
  },
  {
   "cell_type": "code",
   "execution_count": 23,
   "metadata": {
    "tags": []
   },
   "outputs": [
    {
     "data": {
      "application/vnd.jupyter.widget-view+json": {
       "model_id": "ab6a04cc58b44a0785c2cd5032437fb7",
       "version_major": 2,
       "version_minor": 0
      },
      "text/plain": [
       "  0%|          | 0/2 [00:00<?, ?it/s]"
      ]
     },
     "metadata": {},
     "output_type": "display_data"
    },
    {
     "data": {
      "application/vnd.jupyter.widget-view+json": {
       "model_id": "e52e5977d408487f8fb0fb1b2de8ccd2",
       "version_major": 2,
       "version_minor": 0
      },
      "text/plain": [
       "  0%|          | 0/2 [00:00<?, ?it/s]"
      ]
     },
     "metadata": {},
     "output_type": "display_data"
    },
    {
     "data": {
      "application/vnd.jupyter.widget-view+json": {
       "model_id": "b9890230fa95410c9c010ada14c491ff",
       "version_major": 2,
       "version_minor": 0
      },
      "text/plain": [
       "  0%|          | 0/2 [00:00<?, ?it/s]"
      ]
     },
     "metadata": {},
     "output_type": "display_data"
    },
    {
     "data": {
      "text/html": [
       "<div>\n",
       "<style scoped>\n",
       "    .dataframe tbody tr th:only-of-type {\n",
       "        vertical-align: middle;\n",
       "    }\n",
       "\n",
       "    .dataframe tbody tr th {\n",
       "        vertical-align: top;\n",
       "    }\n",
       "\n",
       "    .dataframe thead th {\n",
       "        text-align: right;\n",
       "    }\n",
       "</style>\n",
       "<table border=\"1\" class=\"dataframe\">\n",
       "  <thead>\n",
       "    <tr style=\"text-align: right;\">\n",
       "      <th></th>\n",
       "      <th>cancer_tissue</th>\n",
       "      <th>metastasis_tissue</th>\n",
       "      <th>dist</th>\n",
       "      <th>mean</th>\n",
       "      <th>std</th>\n",
       "      <th>interactions</th>\n",
       "      <th>tissue_dataset</th>\n",
       "    </tr>\n",
       "  </thead>\n",
       "  <tbody>\n",
       "    <tr>\n",
       "      <th>0</th>\n",
       "      <td>adipose_tissue</td>\n",
       "      <td>adrenal_gland</td>\n",
       "      <td>[5038, 4760, 5114, 4726, 4901, 5142, 5212, 497...</td>\n",
       "      <td>5076.164</td>\n",
       "      <td>166.979930</td>\n",
       "      <td>all</td>\n",
       "      <td>GTEx</td>\n",
       "    </tr>\n",
       "    <tr>\n",
       "      <th>1</th>\n",
       "      <td>adipose_tissue</td>\n",
       "      <td>artery</td>\n",
       "      <td>[5890, 5907, 5869, 5789, 5932, 5810, 5830, 562...</td>\n",
       "      <td>5783.810</td>\n",
       "      <td>169.063786</td>\n",
       "      <td>all</td>\n",
       "      <td>GTEx</td>\n",
       "    </tr>\n",
       "    <tr>\n",
       "      <th>2</th>\n",
       "      <td>adipose_tissue</td>\n",
       "      <td>bladder</td>\n",
       "      <td>[5939, 6177, 6186, 6120, 6141, 5780, 6227, 582...</td>\n",
       "      <td>6034.651</td>\n",
       "      <td>175.971137</td>\n",
       "      <td>all</td>\n",
       "      <td>GTEx</td>\n",
       "    </tr>\n",
       "    <tr>\n",
       "      <th>3</th>\n",
       "      <td>adipose_tissue</td>\n",
       "      <td>blood</td>\n",
       "      <td>[3708, 3740, 3781, 3668, 3533, 3322, 3729, 374...</td>\n",
       "      <td>3639.668</td>\n",
       "      <td>149.683018</td>\n",
       "      <td>all</td>\n",
       "      <td>GTEx</td>\n",
       "    </tr>\n",
       "    <tr>\n",
       "      <th>4</th>\n",
       "      <td>adipose_tissue</td>\n",
       "      <td>brain</td>\n",
       "      <td>[4981, 4856, 4648, 4834, 4764, 5064, 4793, 458...</td>\n",
       "      <td>4837.178</td>\n",
       "      <td>167.847432</td>\n",
       "      <td>all</td>\n",
       "      <td>GTEx</td>\n",
       "    </tr>\n",
       "  </tbody>\n",
       "</table>\n",
       "</div>"
      ],
      "text/plain": [
       "    cancer_tissue metastasis_tissue  \\\n",
       "0  adipose_tissue     adrenal_gland   \n",
       "1  adipose_tissue            artery   \n",
       "2  adipose_tissue           bladder   \n",
       "3  adipose_tissue             blood   \n",
       "4  adipose_tissue             brain   \n",
       "\n",
       "                                                dist      mean         std  \\\n",
       "0  [5038, 4760, 5114, 4726, 4901, 5142, 5212, 497...  5076.164  166.979930   \n",
       "1  [5890, 5907, 5869, 5789, 5932, 5810, 5830, 562...  5783.810  169.063786   \n",
       "2  [5939, 6177, 6186, 6120, 6141, 5780, 6227, 582...  6034.651  175.971137   \n",
       "3  [3708, 3740, 3781, 3668, 3533, 3322, 3729, 374...  3639.668  149.683018   \n",
       "4  [4981, 4856, 4648, 4834, 4764, 5064, 4793, 458...  4837.178  167.847432   \n",
       "\n",
       "  interactions tissue_dataset  \n",
       "0          all           GTEx  \n",
       "1          all           GTEx  \n",
       "2          all           GTEx  \n",
       "3          all           GTEx  \n",
       "4          all           GTEx  "
      ]
     },
     "execution_count": 23,
     "metadata": {},
     "output_type": "execute_result"
    }
   ],
   "source": [
    "importlib.reload(network_functions)\n",
    "network_stats = []\n",
    "for inter_kind in tqdm(['all', 'curated']):\n",
    "    if inter_kind == 'all':\n",
    "        inter_graph = intercell\n",
    "    else:\n",
    "        inter_graph = intercell_curated\n",
    "\n",
    "    for d in tqdm(['GTEx', 'Consensus']):\n",
    "\n",
    "        stats = network_functions.build_random_grouped_intercell_networks(\n",
    "            tissues[d].dropna(),\n",
    "            grouped_calls[d],\n",
    "            inter_graph,\n",
    "            weights=True,\n",
    "            extra_labels=[\n",
    "                ('interactions', inter_kind),\n",
    "                ('tissue_dataset', d)\n",
    "            ],\n",
    "            n_jobs=20\n",
    "        )\n",
    "\n",
    "        network_stats.extend(stats)\n",
    "\n",
    "network_stats = pd.DataFrame(network_stats)\n",
    "network_stats.head()"
   ]
  },
  {
   "cell_type": "code",
   "execution_count": 25,
   "metadata": {},
   "outputs": [],
   "source": [
    "network_stats.to_csv(net_dir+'random_grouped_network_stats_weights.csv', index=False)"
   ]
  },
  {
   "cell_type": "markdown",
   "metadata": {
    "tags": []
   },
   "source": [
    "#### **Compute the z-score for each tissue pair**"
   ]
  },
  {
   "cell_type": "code",
   "execution_count": 25,
   "metadata": {},
   "outputs": [
    {
     "name": "stdout",
     "output_type": "stream",
     "text": [
      "<class 'pandas.core.frame.DataFrame'>\n",
      "RangeIndex: 2778 entries, 0 to 2777\n",
      "Data columns (total 7 columns):\n",
      " #   Column             Non-Null Count  Dtype  \n",
      "---  ------             --------------  -----  \n",
      " 0   cancer_tissue      2778 non-null   object \n",
      " 1   metastasis_tissue  2778 non-null   object \n",
      " 2   dist               2778 non-null   object \n",
      " 3   mean               2778 non-null   float64\n",
      " 4   std                2778 non-null   float64\n",
      " 5   interactions       2778 non-null   object \n",
      " 6   tissue_dataset     2778 non-null   object \n",
      "dtypes: float64(2), object(5)\n",
      "memory usage: 152.0+ KB\n"
     ]
    },
    {
     "data": {
      "text/plain": [
       "None"
      ]
     },
     "metadata": {},
     "output_type": "display_data"
    },
    {
     "name": "stdout",
     "output_type": "stream",
     "text": [
      "<class 'pandas.core.frame.DataFrame'>\n",
      "RangeIndex: 2778 entries, 0 to 2777\n",
      "Data columns (total 7 columns):\n",
      " #   Column             Non-Null Count  Dtype  \n",
      "---  ------             --------------  -----  \n",
      " 0   cancer_tissue      2778 non-null   object \n",
      " 1   metastasis_tissue  2778 non-null   object \n",
      " 2   dist               2778 non-null   object \n",
      " 3   mean               2778 non-null   float64\n",
      " 4   std                2778 non-null   float64\n",
      " 5   interactions       2778 non-null   object \n",
      " 6   tissue_dataset     2778 non-null   object \n",
      "dtypes: float64(2), object(5)\n",
      "memory usage: 152.0+ KB\n"
     ]
    }
   ],
   "source": [
    "# load random network stats\n",
    "random_net = pd.read_csv(\n",
    "    net_dir+'random_grouped_network_stats.csv', \n",
    "    converters={'dist': functions.str_to_array})\n",
    "# load random network stats with weights\n",
    "random_net_weights = pd.read_csv(\n",
    "    net_dir+'random_grouped_network_stats_weights.csv',\n",
    "    converters={'dist': functions.str_to_array})\n",
    "display(random_net.info())\n",
    "random_net_weights.info()"
   ]
  },
  {
   "cell_type": "code",
   "execution_count": 26,
   "metadata": {},
   "outputs": [
    {
     "data": {
      "text/html": [
       "<div>\n",
       "<style scoped>\n",
       "    .dataframe tbody tr th:only-of-type {\n",
       "        vertical-align: middle;\n",
       "    }\n",
       "\n",
       "    .dataframe tbody tr th {\n",
       "        vertical-align: top;\n",
       "    }\n",
       "\n",
       "    .dataframe thead th {\n",
       "        text-align: right;\n",
       "    }\n",
       "</style>\n",
       "<table border=\"1\" class=\"dataframe\">\n",
       "  <thead>\n",
       "    <tr style=\"text-align: right;\">\n",
       "      <th></th>\n",
       "      <th>cancer_tissue</th>\n",
       "      <th>metastasis_tissue</th>\n",
       "      <th>simple_interactions</th>\n",
       "      <th>interactions</th>\n",
       "      <th>tissue_dataset</th>\n",
       "      <th>jaccard</th>\n",
       "    </tr>\n",
       "  </thead>\n",
       "  <tbody>\n",
       "    <tr>\n",
       "      <th>0</th>\n",
       "      <td>spinal_cord</td>\n",
       "      <td>testis</td>\n",
       "      <td>6956</td>\n",
       "      <td>all</td>\n",
       "      <td>GTEx</td>\n",
       "      <td>0.440337</td>\n",
       "    </tr>\n",
       "    <tr>\n",
       "      <th>1</th>\n",
       "      <td>colorectum</td>\n",
       "      <td>salivary_gland</td>\n",
       "      <td>7274</td>\n",
       "      <td>all</td>\n",
       "      <td>GTEx</td>\n",
       "      <td>0.463371</td>\n",
       "    </tr>\n",
       "  </tbody>\n",
       "</table>\n",
       "</div>"
      ],
      "text/plain": [
       "  cancer_tissue metastasis_tissue  simple_interactions interactions  \\\n",
       "0   spinal_cord            testis                 6956          all   \n",
       "1    colorectum    salivary_gland                 7274          all   \n",
       "\n",
       "  tissue_dataset   jaccard  \n",
       "0           GTEx  0.440337  \n",
       "1           GTEx  0.463371  "
      ]
     },
     "execution_count": 26,
     "metadata": {},
     "output_type": "execute_result"
    }
   ],
   "source": [
    "# load intercell network stats\n",
    "normal_net = pd.read_csv(net_dir+'undirected_grouped_network_stats.csv')\n",
    "normal_net.head(2)"
   ]
  },
  {
   "cell_type": "code",
   "execution_count": 27,
   "metadata": {},
   "outputs": [
    {
     "name": "stdout",
     "output_type": "stream",
     "text": [
      "<class 'pandas.core.frame.DataFrame'>\n",
      "RangeIndex: 2778 entries, 0 to 2777\n",
      "Data columns (total 7 columns):\n",
      " #   Column             Non-Null Count  Dtype  \n",
      "---  ------             --------------  -----  \n",
      " 0   metastasis_tissue  2778 non-null   object \n",
      " 1   cancer_tissue      2778 non-null   object \n",
      " 2   dist               2778 non-null   object \n",
      " 3   mean               2778 non-null   float64\n",
      " 4   std                2778 non-null   float64\n",
      " 5   interactions       2778 non-null   object \n",
      " 6   tissue_dataset     2778 non-null   object \n",
      "dtypes: float64(2), object(5)\n",
      "memory usage: 152.0+ KB\n"
     ]
    },
    {
     "data": {
      "text/plain": [
       "None"
      ]
     },
     "metadata": {},
     "output_type": "display_data"
    },
    {
     "name": "stdout",
     "output_type": "stream",
     "text": [
      "<class 'pandas.core.frame.DataFrame'>\n",
      "RangeIndex: 2778 entries, 0 to 2777\n",
      "Data columns (total 7 columns):\n",
      " #   Column             Non-Null Count  Dtype  \n",
      "---  ------             --------------  -----  \n",
      " 0   metastasis_tissue  2778 non-null   object \n",
      " 1   cancer_tissue      2778 non-null   object \n",
      " 2   dist               2778 non-null   object \n",
      " 3   mean               2778 non-null   float64\n",
      " 4   std                2778 non-null   float64\n",
      " 5   interactions       2778 non-null   object \n",
      " 6   tissue_dataset     2778 non-null   object \n",
      "dtypes: float64(2), object(5)\n",
      "memory usage: 152.0+ KB\n"
     ]
    }
   ],
   "source": [
    "# to get all tissue pairs, we'll create a dataframe where we reverse the tissue order\n",
    "random_net_rev = random_net.copy().rename({\n",
    "    'cancer_tissue':'metastasis_tissue',\n",
    "    'metastasis_tissue':'cancer_tissue',\n",
    "}, axis=1)\n",
    "\n",
    "random_net_weights_rev = random_net_weights.copy().rename({\n",
    "    'cancer_tissue':'metastasis_tissue',\n",
    "    'metastasis_tissue':'cancer_tissue',\n",
    "}, axis=1)\n",
    "\n",
    "display(random_net_rev.info())\n",
    "random_net_weights_rev.info()"
   ]
  },
  {
   "cell_type": "code",
   "execution_count": 28,
   "metadata": {},
   "outputs": [
    {
     "name": "stdout",
     "output_type": "stream",
     "text": [
      "<class 'pandas.core.frame.DataFrame'>\n",
      "RangeIndex: 5556 entries, 0 to 5555\n",
      "Data columns (total 7 columns):\n",
      " #   Column             Non-Null Count  Dtype  \n",
      "---  ------             --------------  -----  \n",
      " 0   cancer_tissue      5556 non-null   object \n",
      " 1   metastasis_tissue  5556 non-null   object \n",
      " 2   dist               5556 non-null   object \n",
      " 3   mean               5556 non-null   float64\n",
      " 4   std                5556 non-null   float64\n",
      " 5   interactions       5556 non-null   object \n",
      " 6   tissue_dataset     5556 non-null   object \n",
      "dtypes: float64(2), object(5)\n",
      "memory usage: 304.0+ KB\n"
     ]
    },
    {
     "data": {
      "text/plain": [
       "None"
      ]
     },
     "metadata": {},
     "output_type": "display_data"
    },
    {
     "name": "stdout",
     "output_type": "stream",
     "text": [
      "<class 'pandas.core.frame.DataFrame'>\n",
      "RangeIndex: 5556 entries, 0 to 5555\n",
      "Data columns (total 7 columns):\n",
      " #   Column             Non-Null Count  Dtype  \n",
      "---  ------             --------------  -----  \n",
      " 0   cancer_tissue      5556 non-null   object \n",
      " 1   metastasis_tissue  5556 non-null   object \n",
      " 2   dist               5556 non-null   object \n",
      " 3   mean               5556 non-null   float64\n",
      " 4   std                5556 non-null   float64\n",
      " 5   interactions       5556 non-null   object \n",
      " 6   tissue_dataset     5556 non-null   object \n",
      "dtypes: float64(2), object(5)\n",
      "memory usage: 304.0+ KB\n"
     ]
    }
   ],
   "source": [
    "# Concatenate reverse dataframes\n",
    "random_net_full = pd.concat(\n",
    "    [random_net, random_net_rev], ignore_index=True)\n",
    "\n",
    "random_net_weights_full = pd.concat(\n",
    "    [random_net_weights, random_net_weights_rev], ignore_index=True)\n",
    "\n",
    "display(random_net_full.info())\n",
    "random_net_weights_full.info()"
   ]
  },
  {
   "cell_type": "code",
   "execution_count": 29,
   "metadata": {},
   "outputs": [
    {
     "name": "stdout",
     "output_type": "stream",
     "text": [
      "<class 'pandas.core.frame.DataFrame'>\n",
      "Int64Index: 5556 entries, 0 to 5555\n",
      "Data columns (total 10 columns):\n",
      " #   Column               Non-Null Count  Dtype  \n",
      "---  ------               --------------  -----  \n",
      " 0   cancer_tissue        5556 non-null   object \n",
      " 1   metastasis_tissue    5556 non-null   object \n",
      " 2   dist                 5556 non-null   object \n",
      " 3   mean                 5556 non-null   float64\n",
      " 4   std                  5556 non-null   float64\n",
      " 5   interactions         5556 non-null   object \n",
      " 6   tissue_dataset       5556 non-null   object \n",
      " 7   simple_interactions  5556 non-null   int64  \n",
      " 8   jaccard              5556 non-null   float64\n",
      " 9   zscore               5556 non-null   float64\n",
      "dtypes: float64(4), int64(1), object(5)\n",
      "memory usage: 477.5+ KB\n"
     ]
    },
    {
     "data": {
      "text/plain": [
       "None"
      ]
     },
     "metadata": {},
     "output_type": "display_data"
    },
    {
     "name": "stdout",
     "output_type": "stream",
     "text": [
      "<class 'pandas.core.frame.DataFrame'>\n",
      "Int64Index: 5556 entries, 0 to 5555\n",
      "Data columns (total 10 columns):\n",
      " #   Column               Non-Null Count  Dtype  \n",
      "---  ------               --------------  -----  \n",
      " 0   cancer_tissue        5556 non-null   object \n",
      " 1   metastasis_tissue    5556 non-null   object \n",
      " 2   dist                 5556 non-null   object \n",
      " 3   mean                 5556 non-null   float64\n",
      " 4   std                  5556 non-null   float64\n",
      " 5   interactions         5556 non-null   object \n",
      " 6   tissue_dataset       5556 non-null   object \n",
      " 7   simple_interactions  5556 non-null   int64  \n",
      " 8   jaccard              5556 non-null   float64\n",
      " 9   zscore               5556 non-null   float64\n",
      "dtypes: float64(4), int64(1), object(5)\n",
      "memory usage: 477.5+ KB\n"
     ]
    }
   ],
   "source": [
    "# merge random_net with normal_net and compute z-score\n",
    "random_net_zscore = pd.merge(\n",
    "    random_net_full,\n",
    "    normal_net,\n",
    "    on=['cancer_tissue', 'metastasis_tissue', 'tissue_dataset', 'interactions'])\n",
    "\n",
    "random_net_zscore['zscore'] =\\\n",
    "    (random_net_zscore['simple_interactions']-random_net_zscore['mean'])\\\n",
    "        /random_net_zscore['std']\n",
    "\n",
    "display(random_net_zscore.info())\n",
    "\n",
    "# with weights\n",
    "random_net_weights_zscore = pd.merge(\n",
    "    random_net_weights_full,\n",
    "    normal_net,\n",
    "    on=['cancer_tissue', 'metastasis_tissue', 'tissue_dataset', 'interactions'])\n",
    "\n",
    "random_net_weights_zscore['zscore'] =\\\n",
    "    (random_net_weights_zscore['simple_interactions']-random_net_weights_zscore['mean'])\\\n",
    "        /random_net_weights_zscore['std']\n",
    "\n",
    "random_net_weights_zscore.info()"
   ]
  },
  {
   "cell_type": "code",
   "execution_count": 30,
   "metadata": {},
   "outputs": [],
   "source": [
    "# save network stats excluding the distribution column\n",
    "random_net_zscore.to_csv(\n",
    "    net_dir+'undirected_grouped_network_stats_zscore.csv', \n",
    "    index=False,\n",
    "    columns=random_net_zscore.columns.drop('dist'))\n",
    "\n",
    "random_net_weights_zscore.to_csv(\n",
    "    net_dir+'undirected_grouped_network_stats_weights_zscore.csv', \n",
    "    index=False,\n",
    "    columns=random_net_zscore.columns.drop('dist'))"
   ]
  },
  {
   "cell_type": "code",
   "execution_count": 13,
   "metadata": {},
   "outputs": [],
   "source": [
    "# convert random distributions to an array an save\n",
    "dist = np.array(random_net_zscore.dist.to_list())\n",
    "with open(net_dir+'random_grouped_dist.npy', 'wb') as f:\n",
    "    np.save(f, dist)\n",
    "    \n",
    "dist = np.array(random_net_weights_zscore.dist.to_list())\n",
    "with open(net_dir+'random_grouped_dist_weights.npy', 'wb') as f:\n",
    "    np.save(f, dist)"
   ]
  },
  {
   "cell_type": "markdown",
   "metadata": {
    "jp-MarkdownHeadingCollapsed": true,
    "tags": []
   },
   "source": [
    "## Directed interactions"
   ]
  },
  {
   "cell_type": "markdown",
   "metadata": {
    "jp-MarkdownHeadingCollapsed": true,
    "tags": []
   },
   "source": [
    "### Build Ungrouped intercell networks"
   ]
  },
  {
   "cell_type": "markdown",
   "metadata": {
    "jp-MarkdownHeadingCollapsed": true,
    "tags": []
   },
   "source": [
    "#### **Without gene weights**\n",
    "In this approach, the genes in each gene pool have the same probability of being picked up to integrate the intercellular interactions network"
   ]
  },
  {
   "cell_type": "code",
   "execution_count": 23,
   "metadata": {
    "tags": []
   },
   "outputs": [
    {
     "data": {
      "application/vnd.jupyter.widget-view+json": {
       "model_id": "ad97c1c84da543149c0018a1e5364838",
       "version_major": 2,
       "version_minor": 0
      },
      "text/plain": [
       "  0%|          | 0/2 [00:00<?, ?it/s]"
      ]
     },
     "metadata": {},
     "output_type": "display_data"
    },
    {
     "data": {
      "application/vnd.jupyter.widget-view+json": {
       "model_id": "6f2b00a2f8af4e6686b97f48de38c7e3",
       "version_major": 2,
       "version_minor": 0
      },
      "text/plain": [
       "  0%|          | 0/2 [00:00<?, ?it/s]"
      ]
     },
     "metadata": {},
     "output_type": "display_data"
    },
    {
     "data": {
      "application/vnd.jupyter.widget-view+json": {
       "model_id": "eb9d9b6172274ee0bdb3dec778c4e9d8",
       "version_major": 2,
       "version_minor": 0
      },
      "text/plain": [
       "  0%|          | 0/2 [00:00<?, ?it/s]"
      ]
     },
     "metadata": {},
     "output_type": "display_data"
    }
   ],
   "source": [
    "importlib.reload(network_functions)\n",
    "network_stats = []\n",
    "for inter_kind in tqdm(['all', 'curated']):\n",
    "    if inter_kind == 'all':\n",
    "        inter_graph = intercell\n",
    "    else:\n",
    "        inter_graph = intercell_curated\n",
    "\n",
    "    for d in tqdm(['GTEx', 'Consensus']):\n",
    "\n",
    "        stats = network_functions.build_random_intercell_networks(\n",
    "            tissues[d].dropna(), \n",
    "            calls[d],\n",
    "            inter_graph,\n",
    "            directed_graph=True,\n",
    "            weights=False,\n",
    "            extra_labels=[\n",
    "                ('interactions', inter_kind),\n",
    "                ('tissue_dataset', d)\n",
    "            ],\n",
    "            n_jobs=20\n",
    "        )\n",
    "\n",
    "        network_stats.extend(stats)\n",
    "\n",
    "network_stats = pd.DataFrame(network_stats)"
   ]
  },
  {
   "cell_type": "code",
   "execution_count": 24,
   "metadata": {},
   "outputs": [
    {
     "data": {
      "text/html": [
       "<div>\n",
       "<style scoped>\n",
       "    .dataframe tbody tr th:only-of-type {\n",
       "        vertical-align: middle;\n",
       "    }\n",
       "\n",
       "    .dataframe tbody tr th {\n",
       "        vertical-align: top;\n",
       "    }\n",
       "\n",
       "    .dataframe thead th {\n",
       "        text-align: right;\n",
       "    }\n",
       "</style>\n",
       "<table border=\"1\" class=\"dataframe\">\n",
       "  <thead>\n",
       "    <tr style=\"text-align: right;\">\n",
       "      <th></th>\n",
       "      <th>cancer_tissue</th>\n",
       "      <th>metastasis_tissue</th>\n",
       "      <th>direction</th>\n",
       "      <th>dist</th>\n",
       "      <th>mean</th>\n",
       "      <th>std</th>\n",
       "      <th>interactions</th>\n",
       "      <th>tissue_dataset</th>\n",
       "    </tr>\n",
       "  </thead>\n",
       "  <tbody>\n",
       "    <tr>\n",
       "      <th>0</th>\n",
       "      <td>Adipose - Subcutaneous</td>\n",
       "      <td>Adrenal Gland</td>\n",
       "      <td>c_to_m</td>\n",
       "      <td>[2426, 2338, 2394, 2249, 2495, 2474, 2575, 254...</td>\n",
       "      <td>2445.311</td>\n",
       "      <td>144.224104</td>\n",
       "      <td>all</td>\n",
       "      <td>GTEx</td>\n",
       "    </tr>\n",
       "    <tr>\n",
       "      <th>1</th>\n",
       "      <td>Adipose - Subcutaneous</td>\n",
       "      <td>Adrenal Gland</td>\n",
       "      <td>m_to_c</td>\n",
       "      <td>[2433, 2258, 2496, 2381, 2524, 2465, 2410, 227...</td>\n",
       "      <td>2424.068</td>\n",
       "      <td>131.671498</td>\n",
       "      <td>all</td>\n",
       "      <td>GTEx</td>\n",
       "    </tr>\n",
       "    <tr>\n",
       "      <th>2</th>\n",
       "      <td>Adipose - Subcutaneous</td>\n",
       "      <td>Artery - Aorta</td>\n",
       "      <td>c_to_m</td>\n",
       "      <td>[2659, 2725, 2657, 2929, 2802, 2789, 2573, 257...</td>\n",
       "      <td>2754.391</td>\n",
       "      <td>140.145810</td>\n",
       "      <td>all</td>\n",
       "      <td>GTEx</td>\n",
       "    </tr>\n",
       "    <tr>\n",
       "      <th>3</th>\n",
       "      <td>Adipose - Subcutaneous</td>\n",
       "      <td>Artery - Aorta</td>\n",
       "      <td>m_to_c</td>\n",
       "      <td>[2937, 2968, 2732, 2564, 2719, 2756, 2918, 247...</td>\n",
       "      <td>2799.521</td>\n",
       "      <td>149.228763</td>\n",
       "      <td>all</td>\n",
       "      <td>GTEx</td>\n",
       "    </tr>\n",
       "    <tr>\n",
       "      <th>4</th>\n",
       "      <td>Adipose - Subcutaneous</td>\n",
       "      <td>Artery - Coronary</td>\n",
       "      <td>c_to_m</td>\n",
       "      <td>[2915, 2984, 3029, 2856, 2910, 2774, 2970, 284...</td>\n",
       "      <td>2887.185</td>\n",
       "      <td>140.398892</td>\n",
       "      <td>all</td>\n",
       "      <td>GTEx</td>\n",
       "    </tr>\n",
       "  </tbody>\n",
       "</table>\n",
       "</div>"
      ],
      "text/plain": [
       "            cancer_tissue  metastasis_tissue direction  \\\n",
       "0  Adipose - Subcutaneous      Adrenal Gland    c_to_m   \n",
       "1  Adipose - Subcutaneous      Adrenal Gland    m_to_c   \n",
       "2  Adipose - Subcutaneous     Artery - Aorta    c_to_m   \n",
       "3  Adipose - Subcutaneous     Artery - Aorta    m_to_c   \n",
       "4  Adipose - Subcutaneous  Artery - Coronary    c_to_m   \n",
       "\n",
       "                                                dist      mean         std  \\\n",
       "0  [2426, 2338, 2394, 2249, 2495, 2474, 2575, 254...  2445.311  144.224104   \n",
       "1  [2433, 2258, 2496, 2381, 2524, 2465, 2410, 227...  2424.068  131.671498   \n",
       "2  [2659, 2725, 2657, 2929, 2802, 2789, 2573, 257...  2754.391  140.145810   \n",
       "3  [2937, 2968, 2732, 2564, 2719, 2756, 2918, 247...  2799.521  149.228763   \n",
       "4  [2915, 2984, 3029, 2856, 2910, 2774, 2970, 284...  2887.185  140.398892   \n",
       "\n",
       "  interactions tissue_dataset  \n",
       "0          all           GTEx  \n",
       "1          all           GTEx  \n",
       "2          all           GTEx  \n",
       "3          all           GTEx  \n",
       "4          all           GTEx  "
      ]
     },
     "execution_count": 24,
     "metadata": {},
     "output_type": "execute_result"
    }
   ],
   "source": [
    "network_stats.head()"
   ]
  },
  {
   "cell_type": "code",
   "execution_count": 26,
   "metadata": {},
   "outputs": [],
   "source": [
    "network_stats.to_csv(net_dir+'directed_random_network_stats.csv', index=False)"
   ]
  },
  {
   "cell_type": "markdown",
   "metadata": {
    "jp-MarkdownHeadingCollapsed": true,
    "tags": []
   },
   "source": [
    "#### **With gene weights**\n",
    "In this approach, the genes in each gene pool have a probability of being choosed equal to the number of times each gene is expressed in all tissues divided by the sum of counts of all genes"
   ]
  },
  {
   "cell_type": "code",
   "execution_count": 23,
   "metadata": {
    "tags": []
   },
   "outputs": [
    {
     "data": {
      "application/vnd.jupyter.widget-view+json": {
       "model_id": "ad97c1c84da543149c0018a1e5364838",
       "version_major": 2,
       "version_minor": 0
      },
      "text/plain": [
       "  0%|          | 0/2 [00:00<?, ?it/s]"
      ]
     },
     "metadata": {},
     "output_type": "display_data"
    },
    {
     "data": {
      "application/vnd.jupyter.widget-view+json": {
       "model_id": "6f2b00a2f8af4e6686b97f48de38c7e3",
       "version_major": 2,
       "version_minor": 0
      },
      "text/plain": [
       "  0%|          | 0/2 [00:00<?, ?it/s]"
      ]
     },
     "metadata": {},
     "output_type": "display_data"
    },
    {
     "data": {
      "application/vnd.jupyter.widget-view+json": {
       "model_id": "eb9d9b6172274ee0bdb3dec778c4e9d8",
       "version_major": 2,
       "version_minor": 0
      },
      "text/plain": [
       "  0%|          | 0/2 [00:00<?, ?it/s]"
      ]
     },
     "metadata": {},
     "output_type": "display_data"
    }
   ],
   "source": [
    "importlib.reload(network_functions)\n",
    "network_stats = []\n",
    "for inter_kind in tqdm(['all', 'curated']):\n",
    "    if inter_kind == 'all':\n",
    "        inter_graph = intercell\n",
    "    else:\n",
    "        inter_graph = intercell_curated\n",
    "\n",
    "    for d in tqdm(['GTEx', 'Consensus']):\n",
    "\n",
    "        stats = network_functions.build_random_intercell_networks(\n",
    "            tissues[d].dropna(), \n",
    "            calls[d],\n",
    "            inter_graph,\n",
    "            directed_graph=True,\n",
    "            weights=True,\n",
    "            extra_labels=[\n",
    "                ('interactions', inter_kind),\n",
    "                ('tissue_dataset', d)\n",
    "            ],\n",
    "            n_jobs=20\n",
    "        )\n",
    "\n",
    "        network_stats.extend(stats)\n",
    "\n",
    "network_stats = pd.DataFrame(network_stats)"
   ]
  },
  {
   "cell_type": "code",
   "execution_count": 24,
   "metadata": {},
   "outputs": [
    {
     "data": {
      "text/html": [
       "<div>\n",
       "<style scoped>\n",
       "    .dataframe tbody tr th:only-of-type {\n",
       "        vertical-align: middle;\n",
       "    }\n",
       "\n",
       "    .dataframe tbody tr th {\n",
       "        vertical-align: top;\n",
       "    }\n",
       "\n",
       "    .dataframe thead th {\n",
       "        text-align: right;\n",
       "    }\n",
       "</style>\n",
       "<table border=\"1\" class=\"dataframe\">\n",
       "  <thead>\n",
       "    <tr style=\"text-align: right;\">\n",
       "      <th></th>\n",
       "      <th>cancer_tissue</th>\n",
       "      <th>metastasis_tissue</th>\n",
       "      <th>direction</th>\n",
       "      <th>dist</th>\n",
       "      <th>mean</th>\n",
       "      <th>std</th>\n",
       "      <th>interactions</th>\n",
       "      <th>tissue_dataset</th>\n",
       "    </tr>\n",
       "  </thead>\n",
       "  <tbody>\n",
       "    <tr>\n",
       "      <th>0</th>\n",
       "      <td>Adipose - Subcutaneous</td>\n",
       "      <td>Adrenal Gland</td>\n",
       "      <td>c_to_m</td>\n",
       "      <td>[2426, 2338, 2394, 2249, 2495, 2474, 2575, 254...</td>\n",
       "      <td>2445.311</td>\n",
       "      <td>144.224104</td>\n",
       "      <td>all</td>\n",
       "      <td>GTEx</td>\n",
       "    </tr>\n",
       "    <tr>\n",
       "      <th>1</th>\n",
       "      <td>Adipose - Subcutaneous</td>\n",
       "      <td>Adrenal Gland</td>\n",
       "      <td>m_to_c</td>\n",
       "      <td>[2433, 2258, 2496, 2381, 2524, 2465, 2410, 227...</td>\n",
       "      <td>2424.068</td>\n",
       "      <td>131.671498</td>\n",
       "      <td>all</td>\n",
       "      <td>GTEx</td>\n",
       "    </tr>\n",
       "    <tr>\n",
       "      <th>2</th>\n",
       "      <td>Adipose - Subcutaneous</td>\n",
       "      <td>Artery - Aorta</td>\n",
       "      <td>c_to_m</td>\n",
       "      <td>[2659, 2725, 2657, 2929, 2802, 2789, 2573, 257...</td>\n",
       "      <td>2754.391</td>\n",
       "      <td>140.145810</td>\n",
       "      <td>all</td>\n",
       "      <td>GTEx</td>\n",
       "    </tr>\n",
       "    <tr>\n",
       "      <th>3</th>\n",
       "      <td>Adipose - Subcutaneous</td>\n",
       "      <td>Artery - Aorta</td>\n",
       "      <td>m_to_c</td>\n",
       "      <td>[2937, 2968, 2732, 2564, 2719, 2756, 2918, 247...</td>\n",
       "      <td>2799.521</td>\n",
       "      <td>149.228763</td>\n",
       "      <td>all</td>\n",
       "      <td>GTEx</td>\n",
       "    </tr>\n",
       "    <tr>\n",
       "      <th>4</th>\n",
       "      <td>Adipose - Subcutaneous</td>\n",
       "      <td>Artery - Coronary</td>\n",
       "      <td>c_to_m</td>\n",
       "      <td>[2915, 2984, 3029, 2856, 2910, 2774, 2970, 284...</td>\n",
       "      <td>2887.185</td>\n",
       "      <td>140.398892</td>\n",
       "      <td>all</td>\n",
       "      <td>GTEx</td>\n",
       "    </tr>\n",
       "  </tbody>\n",
       "</table>\n",
       "</div>"
      ],
      "text/plain": [
       "            cancer_tissue  metastasis_tissue direction  \\\n",
       "0  Adipose - Subcutaneous      Adrenal Gland    c_to_m   \n",
       "1  Adipose - Subcutaneous      Adrenal Gland    m_to_c   \n",
       "2  Adipose - Subcutaneous     Artery - Aorta    c_to_m   \n",
       "3  Adipose - Subcutaneous     Artery - Aorta    m_to_c   \n",
       "4  Adipose - Subcutaneous  Artery - Coronary    c_to_m   \n",
       "\n",
       "                                                dist      mean         std  \\\n",
       "0  [2426, 2338, 2394, 2249, 2495, 2474, 2575, 254...  2445.311  144.224104   \n",
       "1  [2433, 2258, 2496, 2381, 2524, 2465, 2410, 227...  2424.068  131.671498   \n",
       "2  [2659, 2725, 2657, 2929, 2802, 2789, 2573, 257...  2754.391  140.145810   \n",
       "3  [2937, 2968, 2732, 2564, 2719, 2756, 2918, 247...  2799.521  149.228763   \n",
       "4  [2915, 2984, 3029, 2856, 2910, 2774, 2970, 284...  2887.185  140.398892   \n",
       "\n",
       "  interactions tissue_dataset  \n",
       "0          all           GTEx  \n",
       "1          all           GTEx  \n",
       "2          all           GTEx  \n",
       "3          all           GTEx  \n",
       "4          all           GTEx  "
      ]
     },
     "execution_count": 24,
     "metadata": {},
     "output_type": "execute_result"
    }
   ],
   "source": [
    "network_stats.head()"
   ]
  },
  {
   "cell_type": "code",
   "execution_count": 26,
   "metadata": {},
   "outputs": [],
   "source": [
    "network_stats.to_csv(net_dir+'directed_random_network_stats_weights.csv', index=False)"
   ]
  },
  {
   "cell_type": "markdown",
   "metadata": {
    "tags": []
   },
   "source": [
    "#### **Compute the zscore for each tissue pair**"
   ]
  },
  {
   "cell_type": "code",
   "execution_count": 19,
   "metadata": {},
   "outputs": [
    {
     "data": {
      "text/html": [
       "<div>\n",
       "<style scoped>\n",
       "    .dataframe tbody tr th:only-of-type {\n",
       "        vertical-align: middle;\n",
       "    }\n",
       "\n",
       "    .dataframe tbody tr th {\n",
       "        vertical-align: top;\n",
       "    }\n",
       "\n",
       "    .dataframe thead th {\n",
       "        text-align: right;\n",
       "    }\n",
       "</style>\n",
       "<table border=\"1\" class=\"dataframe\">\n",
       "  <thead>\n",
       "    <tr style=\"text-align: right;\">\n",
       "      <th></th>\n",
       "      <th>cancer_tissue</th>\n",
       "      <th>metastasis_tissue</th>\n",
       "      <th>direction</th>\n",
       "      <th>dist</th>\n",
       "      <th>mean</th>\n",
       "      <th>std</th>\n",
       "      <th>interactions</th>\n",
       "      <th>tissue_dataset</th>\n",
       "    </tr>\n",
       "  </thead>\n",
       "  <tbody>\n",
       "    <tr>\n",
       "      <th>0</th>\n",
       "      <td>Adipose - Subcutaneous</td>\n",
       "      <td>Adrenal Gland</td>\n",
       "      <td>c_to_m</td>\n",
       "      <td>[2426, 2338, 2394, 2249, 2495, 2474, 2575, 254...</td>\n",
       "      <td>2445.311</td>\n",
       "      <td>144.224104</td>\n",
       "      <td>all</td>\n",
       "      <td>GTEx</td>\n",
       "    </tr>\n",
       "    <tr>\n",
       "      <th>1</th>\n",
       "      <td>Adipose - Subcutaneous</td>\n",
       "      <td>Adrenal Gland</td>\n",
       "      <td>m_to_c</td>\n",
       "      <td>[2433, 2258, 2496, 2381, 2524, 2465, 2410, 227...</td>\n",
       "      <td>2424.068</td>\n",
       "      <td>131.671498</td>\n",
       "      <td>all</td>\n",
       "      <td>GTEx</td>\n",
       "    </tr>\n",
       "  </tbody>\n",
       "</table>\n",
       "</div>"
      ],
      "text/plain": [
       "            cancer_tissue metastasis_tissue direction  \\\n",
       "0  Adipose - Subcutaneous     Adrenal Gland    c_to_m   \n",
       "1  Adipose - Subcutaneous     Adrenal Gland    m_to_c   \n",
       "\n",
       "                                                dist      mean         std  \\\n",
       "0  [2426, 2338, 2394, 2249, 2495, 2474, 2575, 254...  2445.311  144.224104   \n",
       "1  [2433, 2258, 2496, 2381, 2524, 2465, 2410, 227...  2424.068  131.671498   \n",
       "\n",
       "  interactions tissue_dataset  \n",
       "0          all           GTEx  \n",
       "1          all           GTEx  "
      ]
     },
     "metadata": {},
     "output_type": "display_data"
    },
    {
     "data": {
      "text/html": [
       "<div>\n",
       "<style scoped>\n",
       "    .dataframe tbody tr th:only-of-type {\n",
       "        vertical-align: middle;\n",
       "    }\n",
       "\n",
       "    .dataframe tbody tr th {\n",
       "        vertical-align: top;\n",
       "    }\n",
       "\n",
       "    .dataframe thead th {\n",
       "        text-align: right;\n",
       "    }\n",
       "</style>\n",
       "<table border=\"1\" class=\"dataframe\">\n",
       "  <thead>\n",
       "    <tr style=\"text-align: right;\">\n",
       "      <th></th>\n",
       "      <th>cancer_tissue</th>\n",
       "      <th>metastasis_tissue</th>\n",
       "      <th>direction</th>\n",
       "      <th>dist</th>\n",
       "      <th>mean</th>\n",
       "      <th>std</th>\n",
       "      <th>interactions</th>\n",
       "      <th>tissue_dataset</th>\n",
       "    </tr>\n",
       "  </thead>\n",
       "  <tbody>\n",
       "    <tr>\n",
       "      <th>0</th>\n",
       "      <td>Adipose - Subcutaneous</td>\n",
       "      <td>Adrenal Gland</td>\n",
       "      <td>c_to_m</td>\n",
       "      <td>[2644, 2359, 2297, 2396, 2526, 2481, 2500, 240...</td>\n",
       "      <td>2430.288</td>\n",
       "      <td>112.323431</td>\n",
       "      <td>all</td>\n",
       "      <td>GTEx</td>\n",
       "    </tr>\n",
       "    <tr>\n",
       "      <th>1</th>\n",
       "      <td>Adipose - Subcutaneous</td>\n",
       "      <td>Adrenal Gland</td>\n",
       "      <td>m_to_c</td>\n",
       "      <td>[2460, 2308, 2433, 2216, 2460, 2059, 2481, 222...</td>\n",
       "      <td>2392.589</td>\n",
       "      <td>105.672277</td>\n",
       "      <td>all</td>\n",
       "      <td>GTEx</td>\n",
       "    </tr>\n",
       "  </tbody>\n",
       "</table>\n",
       "</div>"
      ],
      "text/plain": [
       "            cancer_tissue metastasis_tissue direction  \\\n",
       "0  Adipose - Subcutaneous     Adrenal Gland    c_to_m   \n",
       "1  Adipose - Subcutaneous     Adrenal Gland    m_to_c   \n",
       "\n",
       "                                                dist      mean         std  \\\n",
       "0  [2644, 2359, 2297, 2396, 2526, 2481, 2500, 240...  2430.288  112.323431   \n",
       "1  [2460, 2308, 2433, 2216, 2460, 2059, 2481, 222...  2392.589  105.672277   \n",
       "\n",
       "  interactions tissue_dataset  \n",
       "0          all           GTEx  \n",
       "1          all           GTEx  "
      ]
     },
     "execution_count": 19,
     "metadata": {},
     "output_type": "execute_result"
    }
   ],
   "source": [
    "# load random network stats\n",
    "random_net = pd.read_csv(\n",
    "    net_dir+'directed_random_network_stats.csv',\n",
    "    converters={'dist': functions.str_to_array}\n",
    ")\n",
    "random_net_weights = pd.read_csv(\n",
    "    net_dir+'directed_random_network_stats_weights.csv',\n",
    "    converters={'dist': functions.str_to_array}\n",
    ")\n",
    "display(random_net.head(2))\n",
    "random_net_weights.head(2)"
   ]
  },
  {
   "cell_type": "code",
   "execution_count": 20,
   "metadata": {},
   "outputs": [
    {
     "data": {
      "text/html": [
       "<div>\n",
       "<style scoped>\n",
       "    .dataframe tbody tr th:only-of-type {\n",
       "        vertical-align: middle;\n",
       "    }\n",
       "\n",
       "    .dataframe tbody tr th {\n",
       "        vertical-align: top;\n",
       "    }\n",
       "\n",
       "    .dataframe thead th {\n",
       "        text-align: right;\n",
       "    }\n",
       "</style>\n",
       "<table border=\"1\" class=\"dataframe\">\n",
       "  <thead>\n",
       "    <tr style=\"text-align: right;\">\n",
       "      <th></th>\n",
       "      <th>cancer_tissue</th>\n",
       "      <th>metastasis_tissue</th>\n",
       "      <th>directed_interactions</th>\n",
       "      <th>direction</th>\n",
       "      <th>interactions</th>\n",
       "      <th>tissue_dataset</th>\n",
       "      <th>jaccard</th>\n",
       "    </tr>\n",
       "  </thead>\n",
       "  <tbody>\n",
       "    <tr>\n",
       "      <th>0</th>\n",
       "      <td>Pancreas</td>\n",
       "      <td>Brain - Spinal cord (cervical c-1)</td>\n",
       "      <td>2413</td>\n",
       "      <td>c_to_m</td>\n",
       "      <td>all</td>\n",
       "      <td>GTEx</td>\n",
       "      <td>0.336213</td>\n",
       "    </tr>\n",
       "    <tr>\n",
       "      <th>1</th>\n",
       "      <td>Pancreas</td>\n",
       "      <td>Brain - Spinal cord (cervical c-1)</td>\n",
       "      <td>2089</td>\n",
       "      <td>m_to_c</td>\n",
       "      <td>all</td>\n",
       "      <td>GTEx</td>\n",
       "      <td>0.308431</td>\n",
       "    </tr>\n",
       "  </tbody>\n",
       "</table>\n",
       "</div>"
      ],
      "text/plain": [
       "  cancer_tissue                   metastasis_tissue  directed_interactions  \\\n",
       "0      Pancreas  Brain - Spinal cord (cervical c-1)                   2413   \n",
       "1      Pancreas  Brain - Spinal cord (cervical c-1)                   2089   \n",
       "\n",
       "  direction interactions tissue_dataset   jaccard  \n",
       "0    c_to_m          all           GTEx  0.336213  \n",
       "1    m_to_c          all           GTEx  0.308431  "
      ]
     },
     "execution_count": 20,
     "metadata": {},
     "output_type": "execute_result"
    }
   ],
   "source": [
    "# load intercell network stats\n",
    "normal_net = pd.read_csv(net_dir+'directed_network_stats.csv')\n",
    "normal_net.head(2)"
   ]
  },
  {
   "cell_type": "code",
   "execution_count": 21,
   "metadata": {},
   "outputs": [
    {
     "data": {
      "text/html": [
       "<div>\n",
       "<style scoped>\n",
       "    .dataframe tbody tr th:only-of-type {\n",
       "        vertical-align: middle;\n",
       "    }\n",
       "\n",
       "    .dataframe tbody tr th {\n",
       "        vertical-align: top;\n",
       "    }\n",
       "\n",
       "    .dataframe thead th {\n",
       "        text-align: right;\n",
       "    }\n",
       "</style>\n",
       "<table border=\"1\" class=\"dataframe\">\n",
       "  <thead>\n",
       "    <tr style=\"text-align: right;\">\n",
       "      <th></th>\n",
       "      <th>metastasis_tissue</th>\n",
       "      <th>cancer_tissue</th>\n",
       "      <th>direction</th>\n",
       "      <th>dist</th>\n",
       "      <th>mean</th>\n",
       "      <th>std</th>\n",
       "      <th>interactions</th>\n",
       "      <th>tissue_dataset</th>\n",
       "    </tr>\n",
       "  </thead>\n",
       "  <tbody>\n",
       "    <tr>\n",
       "      <th>0</th>\n",
       "      <td>Adipose - Subcutaneous</td>\n",
       "      <td>Adrenal Gland</td>\n",
       "      <td>c_to_m</td>\n",
       "      <td>[2426, 2338, 2394, 2249, 2495, 2474, 2575, 254...</td>\n",
       "      <td>2445.311</td>\n",
       "      <td>144.224104</td>\n",
       "      <td>all</td>\n",
       "      <td>GTEx</td>\n",
       "    </tr>\n",
       "    <tr>\n",
       "      <th>1</th>\n",
       "      <td>Adipose - Subcutaneous</td>\n",
       "      <td>Adrenal Gland</td>\n",
       "      <td>m_to_c</td>\n",
       "      <td>[2433, 2258, 2496, 2381, 2524, 2465, 2410, 227...</td>\n",
       "      <td>2424.068</td>\n",
       "      <td>131.671498</td>\n",
       "      <td>all</td>\n",
       "      <td>GTEx</td>\n",
       "    </tr>\n",
       "  </tbody>\n",
       "</table>\n",
       "</div>"
      ],
      "text/plain": [
       "        metastasis_tissue  cancer_tissue direction  \\\n",
       "0  Adipose - Subcutaneous  Adrenal Gland    c_to_m   \n",
       "1  Adipose - Subcutaneous  Adrenal Gland    m_to_c   \n",
       "\n",
       "                                                dist      mean         std  \\\n",
       "0  [2426, 2338, 2394, 2249, 2495, 2474, 2575, 254...  2445.311  144.224104   \n",
       "1  [2433, 2258, 2496, 2381, 2524, 2465, 2410, 227...  2424.068  131.671498   \n",
       "\n",
       "  interactions tissue_dataset  \n",
       "0          all           GTEx  \n",
       "1          all           GTEx  "
      ]
     },
     "metadata": {},
     "output_type": "display_data"
    },
    {
     "data": {
      "text/html": [
       "<div>\n",
       "<style scoped>\n",
       "    .dataframe tbody tr th:only-of-type {\n",
       "        vertical-align: middle;\n",
       "    }\n",
       "\n",
       "    .dataframe tbody tr th {\n",
       "        vertical-align: top;\n",
       "    }\n",
       "\n",
       "    .dataframe thead th {\n",
       "        text-align: right;\n",
       "    }\n",
       "</style>\n",
       "<table border=\"1\" class=\"dataframe\">\n",
       "  <thead>\n",
       "    <tr style=\"text-align: right;\">\n",
       "      <th></th>\n",
       "      <th>metastasis_tissue</th>\n",
       "      <th>cancer_tissue</th>\n",
       "      <th>direction</th>\n",
       "      <th>dist</th>\n",
       "      <th>mean</th>\n",
       "      <th>std</th>\n",
       "      <th>interactions</th>\n",
       "      <th>tissue_dataset</th>\n",
       "    </tr>\n",
       "  </thead>\n",
       "  <tbody>\n",
       "    <tr>\n",
       "      <th>0</th>\n",
       "      <td>Adipose - Subcutaneous</td>\n",
       "      <td>Adrenal Gland</td>\n",
       "      <td>m_to_c</td>\n",
       "      <td>[2426, 2338, 2394, 2249, 2495, 2474, 2575, 254...</td>\n",
       "      <td>2445.311</td>\n",
       "      <td>144.224104</td>\n",
       "      <td>all</td>\n",
       "      <td>GTEx</td>\n",
       "    </tr>\n",
       "    <tr>\n",
       "      <th>1</th>\n",
       "      <td>Adipose - Subcutaneous</td>\n",
       "      <td>Adrenal Gland</td>\n",
       "      <td>c_to_m</td>\n",
       "      <td>[2433, 2258, 2496, 2381, 2524, 2465, 2410, 227...</td>\n",
       "      <td>2424.068</td>\n",
       "      <td>131.671498</td>\n",
       "      <td>all</td>\n",
       "      <td>GTEx</td>\n",
       "    </tr>\n",
       "  </tbody>\n",
       "</table>\n",
       "</div>"
      ],
      "text/plain": [
       "        metastasis_tissue  cancer_tissue direction  \\\n",
       "0  Adipose - Subcutaneous  Adrenal Gland    m_to_c   \n",
       "1  Adipose - Subcutaneous  Adrenal Gland    c_to_m   \n",
       "\n",
       "                                                dist      mean         std  \\\n",
       "0  [2426, 2338, 2394, 2249, 2495, 2474, 2575, 254...  2445.311  144.224104   \n",
       "1  [2433, 2258, 2496, 2381, 2524, 2465, 2410, 227...  2424.068  131.671498   \n",
       "\n",
       "  interactions tissue_dataset  \n",
       "0          all           GTEx  \n",
       "1          all           GTEx  "
      ]
     },
     "metadata": {},
     "output_type": "display_data"
    },
    {
     "data": {
      "text/html": [
       "<div>\n",
       "<style scoped>\n",
       "    .dataframe tbody tr th:only-of-type {\n",
       "        vertical-align: middle;\n",
       "    }\n",
       "\n",
       "    .dataframe tbody tr th {\n",
       "        vertical-align: top;\n",
       "    }\n",
       "\n",
       "    .dataframe thead th {\n",
       "        text-align: right;\n",
       "    }\n",
       "</style>\n",
       "<table border=\"1\" class=\"dataframe\">\n",
       "  <thead>\n",
       "    <tr style=\"text-align: right;\">\n",
       "      <th></th>\n",
       "      <th>metastasis_tissue</th>\n",
       "      <th>cancer_tissue</th>\n",
       "      <th>direction</th>\n",
       "      <th>dist</th>\n",
       "      <th>mean</th>\n",
       "      <th>std</th>\n",
       "      <th>interactions</th>\n",
       "      <th>tissue_dataset</th>\n",
       "    </tr>\n",
       "  </thead>\n",
       "  <tbody>\n",
       "    <tr>\n",
       "      <th>0</th>\n",
       "      <td>Adipose - Subcutaneous</td>\n",
       "      <td>Adrenal Gland</td>\n",
       "      <td>c_to_m</td>\n",
       "      <td>[2644, 2359, 2297, 2396, 2526, 2481, 2500, 240...</td>\n",
       "      <td>2430.288</td>\n",
       "      <td>112.323431</td>\n",
       "      <td>all</td>\n",
       "      <td>GTEx</td>\n",
       "    </tr>\n",
       "    <tr>\n",
       "      <th>1</th>\n",
       "      <td>Adipose - Subcutaneous</td>\n",
       "      <td>Adrenal Gland</td>\n",
       "      <td>m_to_c</td>\n",
       "      <td>[2460, 2308, 2433, 2216, 2460, 2059, 2481, 222...</td>\n",
       "      <td>2392.589</td>\n",
       "      <td>105.672277</td>\n",
       "      <td>all</td>\n",
       "      <td>GTEx</td>\n",
       "    </tr>\n",
       "  </tbody>\n",
       "</table>\n",
       "</div>"
      ],
      "text/plain": [
       "        metastasis_tissue  cancer_tissue direction  \\\n",
       "0  Adipose - Subcutaneous  Adrenal Gland    c_to_m   \n",
       "1  Adipose - Subcutaneous  Adrenal Gland    m_to_c   \n",
       "\n",
       "                                                dist      mean         std  \\\n",
       "0  [2644, 2359, 2297, 2396, 2526, 2481, 2500, 240...  2430.288  112.323431   \n",
       "1  [2460, 2308, 2433, 2216, 2460, 2059, 2481, 222...  2392.589  105.672277   \n",
       "\n",
       "  interactions tissue_dataset  \n",
       "0          all           GTEx  \n",
       "1          all           GTEx  "
      ]
     },
     "metadata": {},
     "output_type": "display_data"
    },
    {
     "data": {
      "text/html": [
       "<div>\n",
       "<style scoped>\n",
       "    .dataframe tbody tr th:only-of-type {\n",
       "        vertical-align: middle;\n",
       "    }\n",
       "\n",
       "    .dataframe tbody tr th {\n",
       "        vertical-align: top;\n",
       "    }\n",
       "\n",
       "    .dataframe thead th {\n",
       "        text-align: right;\n",
       "    }\n",
       "</style>\n",
       "<table border=\"1\" class=\"dataframe\">\n",
       "  <thead>\n",
       "    <tr style=\"text-align: right;\">\n",
       "      <th></th>\n",
       "      <th>metastasis_tissue</th>\n",
       "      <th>cancer_tissue</th>\n",
       "      <th>direction</th>\n",
       "      <th>dist</th>\n",
       "      <th>mean</th>\n",
       "      <th>std</th>\n",
       "      <th>interactions</th>\n",
       "      <th>tissue_dataset</th>\n",
       "    </tr>\n",
       "  </thead>\n",
       "  <tbody>\n",
       "    <tr>\n",
       "      <th>0</th>\n",
       "      <td>Adipose - Subcutaneous</td>\n",
       "      <td>Adrenal Gland</td>\n",
       "      <td>m_to_c</td>\n",
       "      <td>[2644, 2359, 2297, 2396, 2526, 2481, 2500, 240...</td>\n",
       "      <td>2430.288</td>\n",
       "      <td>112.323431</td>\n",
       "      <td>all</td>\n",
       "      <td>GTEx</td>\n",
       "    </tr>\n",
       "    <tr>\n",
       "      <th>1</th>\n",
       "      <td>Adipose - Subcutaneous</td>\n",
       "      <td>Adrenal Gland</td>\n",
       "      <td>c_to_m</td>\n",
       "      <td>[2460, 2308, 2433, 2216, 2460, 2059, 2481, 222...</td>\n",
       "      <td>2392.589</td>\n",
       "      <td>105.672277</td>\n",
       "      <td>all</td>\n",
       "      <td>GTEx</td>\n",
       "    </tr>\n",
       "  </tbody>\n",
       "</table>\n",
       "</div>"
      ],
      "text/plain": [
       "        metastasis_tissue  cancer_tissue direction  \\\n",
       "0  Adipose - Subcutaneous  Adrenal Gland    m_to_c   \n",
       "1  Adipose - Subcutaneous  Adrenal Gland    c_to_m   \n",
       "\n",
       "                                                dist      mean         std  \\\n",
       "0  [2644, 2359, 2297, 2396, 2526, 2481, 2500, 240...  2430.288  112.323431   \n",
       "1  [2460, 2308, 2433, 2216, 2460, 2059, 2481, 222...  2392.589  105.672277   \n",
       "\n",
       "  interactions tissue_dataset  \n",
       "0          all           GTEx  \n",
       "1          all           GTEx  "
      ]
     },
     "execution_count": 21,
     "metadata": {},
     "output_type": "execute_result"
    }
   ],
   "source": [
    "# to get all tissue pairs, we'll create a dataframe where we reverse the tissue order\n",
    "# for directed interactions we also have to change the entry's direction\n",
    "random_net_rev = random_net.copy().rename({\n",
    "    'cancer_tissue':'metastasis_tissue',\n",
    "    'metastasis_tissue':'cancer_tissue',\n",
    "}, axis=1)\n",
    "display(random_net_rev.head(2))\n",
    "random_net_rev['direction'] = np.where(random_net_rev['direction']=='c_to_m', 'm_to_c', 'c_to_m')\n",
    "display(random_net_rev.head(2))\n",
    "\n",
    "random_net_weights_rev = random_net_weights.copy().rename({\n",
    "    'cancer_tissue':'metastasis_tissue',\n",
    "    'metastasis_tissue':'cancer_tissue',\n",
    "}, axis=1)\n",
    "display(random_net_weights_rev.head(2))\n",
    "random_net_weights_rev['direction'] = np.where(random_net_weights_rev['direction']=='c_to_m', 'm_to_c', 'c_to_m')\n",
    "random_net_weights_rev.head(2)"
   ]
  },
  {
   "cell_type": "code",
   "execution_count": 22,
   "metadata": {},
   "outputs": [
    {
     "name": "stdout",
     "output_type": "stream",
     "text": [
      "(11080, 8)\n",
      "(22160, 8)\n",
      "(11080, 8)\n"
     ]
    },
    {
     "data": {
      "text/plain": [
       "(22160, 8)"
      ]
     },
     "execution_count": 22,
     "metadata": {},
     "output_type": "execute_result"
    }
   ],
   "source": [
    "# Concatenate reverse dataframes\n",
    "random_net_full = pd.concat(\n",
    "    [random_net, random_net_rev], ignore_index=True)\n",
    "print(random_net.shape)\n",
    "print(random_net_full.shape)\n",
    "\n",
    "random_net_weights_full = pd.concat(\n",
    "    [random_net_weights, random_net_weights_rev], ignore_index=True)\n",
    "print(random_net_weights.shape)\n",
    "random_net_weights_full.shape"
   ]
  },
  {
   "cell_type": "code",
   "execution_count": 25,
   "metadata": {},
   "outputs": [
    {
     "data": {
      "text/html": [
       "<div>\n",
       "<style scoped>\n",
       "    .dataframe tbody tr th:only-of-type {\n",
       "        vertical-align: middle;\n",
       "    }\n",
       "\n",
       "    .dataframe tbody tr th {\n",
       "        vertical-align: top;\n",
       "    }\n",
       "\n",
       "    .dataframe thead th {\n",
       "        text-align: right;\n",
       "    }\n",
       "</style>\n",
       "<table border=\"1\" class=\"dataframe\">\n",
       "  <thead>\n",
       "    <tr style=\"text-align: right;\">\n",
       "      <th></th>\n",
       "      <th>cancer_tissue</th>\n",
       "      <th>metastasis_tissue</th>\n",
       "      <th>direction</th>\n",
       "      <th>dist</th>\n",
       "      <th>mean</th>\n",
       "      <th>std</th>\n",
       "      <th>interactions</th>\n",
       "      <th>tissue_dataset</th>\n",
       "      <th>directed_interactions</th>\n",
       "      <th>jaccard</th>\n",
       "      <th>zscore</th>\n",
       "    </tr>\n",
       "  </thead>\n",
       "  <tbody>\n",
       "    <tr>\n",
       "      <th>0</th>\n",
       "      <td>Adipose - Subcutaneous</td>\n",
       "      <td>Adrenal Gland</td>\n",
       "      <td>c_to_m</td>\n",
       "      <td>[2426, 2338, 2394, 2249, 2495, 2474, 2575, 254...</td>\n",
       "      <td>2445.311</td>\n",
       "      <td>144.224104</td>\n",
       "      <td>all</td>\n",
       "      <td>GTEx</td>\n",
       "      <td>3184</td>\n",
       "      <td>0.416264</td>\n",
       "      <td>5.121814</td>\n",
       "    </tr>\n",
       "    <tr>\n",
       "      <th>1</th>\n",
       "      <td>Adipose - Subcutaneous</td>\n",
       "      <td>Adrenal Gland</td>\n",
       "      <td>m_to_c</td>\n",
       "      <td>[2433, 2258, 2496, 2381, 2524, 2465, 2410, 227...</td>\n",
       "      <td>2424.068</td>\n",
       "      <td>131.671498</td>\n",
       "      <td>all</td>\n",
       "      <td>GTEx</td>\n",
       "      <td>3130</td>\n",
       "      <td>0.406388</td>\n",
       "      <td>5.361312</td>\n",
       "    </tr>\n",
       "  </tbody>\n",
       "</table>\n",
       "</div>"
      ],
      "text/plain": [
       "            cancer_tissue metastasis_tissue direction  \\\n",
       "0  Adipose - Subcutaneous     Adrenal Gland    c_to_m   \n",
       "1  Adipose - Subcutaneous     Adrenal Gland    m_to_c   \n",
       "\n",
       "                                                dist      mean         std  \\\n",
       "0  [2426, 2338, 2394, 2249, 2495, 2474, 2575, 254...  2445.311  144.224104   \n",
       "1  [2433, 2258, 2496, 2381, 2524, 2465, 2410, 227...  2424.068  131.671498   \n",
       "\n",
       "  interactions tissue_dataset  directed_interactions   jaccard    zscore  \n",
       "0          all           GTEx                   3184  0.416264  5.121814  \n",
       "1          all           GTEx                   3130  0.406388  5.361312  "
      ]
     },
     "metadata": {},
     "output_type": "display_data"
    },
    {
     "data": {
      "text/html": [
       "<div>\n",
       "<style scoped>\n",
       "    .dataframe tbody tr th:only-of-type {\n",
       "        vertical-align: middle;\n",
       "    }\n",
       "\n",
       "    .dataframe tbody tr th {\n",
       "        vertical-align: top;\n",
       "    }\n",
       "\n",
       "    .dataframe thead th {\n",
       "        text-align: right;\n",
       "    }\n",
       "</style>\n",
       "<table border=\"1\" class=\"dataframe\">\n",
       "  <thead>\n",
       "    <tr style=\"text-align: right;\">\n",
       "      <th></th>\n",
       "      <th>cancer_tissue</th>\n",
       "      <th>metastasis_tissue</th>\n",
       "      <th>direction</th>\n",
       "      <th>dist</th>\n",
       "      <th>mean</th>\n",
       "      <th>std</th>\n",
       "      <th>interactions</th>\n",
       "      <th>tissue_dataset</th>\n",
       "      <th>directed_interactions</th>\n",
       "      <th>jaccard</th>\n",
       "      <th>zscore</th>\n",
       "    </tr>\n",
       "  </thead>\n",
       "  <tbody>\n",
       "    <tr>\n",
       "      <th>0</th>\n",
       "      <td>Adipose - Subcutaneous</td>\n",
       "      <td>Adrenal Gland</td>\n",
       "      <td>c_to_m</td>\n",
       "      <td>[2644, 2359, 2297, 2396, 2526, 2481, 2500, 240...</td>\n",
       "      <td>2430.288</td>\n",
       "      <td>112.323431</td>\n",
       "      <td>all</td>\n",
       "      <td>GTEx</td>\n",
       "      <td>3184</td>\n",
       "      <td>0.416264</td>\n",
       "      <td>6.710194</td>\n",
       "    </tr>\n",
       "    <tr>\n",
       "      <th>1</th>\n",
       "      <td>Adipose - Subcutaneous</td>\n",
       "      <td>Adrenal Gland</td>\n",
       "      <td>m_to_c</td>\n",
       "      <td>[2460, 2308, 2433, 2216, 2460, 2059, 2481, 222...</td>\n",
       "      <td>2392.589</td>\n",
       "      <td>105.672277</td>\n",
       "      <td>all</td>\n",
       "      <td>GTEx</td>\n",
       "      <td>3130</td>\n",
       "      <td>0.406388</td>\n",
       "      <td>6.978283</td>\n",
       "    </tr>\n",
       "  </tbody>\n",
       "</table>\n",
       "</div>"
      ],
      "text/plain": [
       "            cancer_tissue metastasis_tissue direction  \\\n",
       "0  Adipose - Subcutaneous     Adrenal Gland    c_to_m   \n",
       "1  Adipose - Subcutaneous     Adrenal Gland    m_to_c   \n",
       "\n",
       "                                                dist      mean         std  \\\n",
       "0  [2644, 2359, 2297, 2396, 2526, 2481, 2500, 240...  2430.288  112.323431   \n",
       "1  [2460, 2308, 2433, 2216, 2460, 2059, 2481, 222...  2392.589  105.672277   \n",
       "\n",
       "  interactions tissue_dataset  directed_interactions   jaccard    zscore  \n",
       "0          all           GTEx                   3184  0.416264  6.710194  \n",
       "1          all           GTEx                   3130  0.406388  6.978283  "
      ]
     },
     "execution_count": 25,
     "metadata": {},
     "output_type": "execute_result"
    }
   ],
   "source": [
    "# merge random_net with normal_net and compute z-score\n",
    "random_net_zscore = pd.merge(random_net_full, normal_net)\n",
    "random_net_zscore['zscore'] =\\\n",
    "    (random_net_zscore['directed_interactions']-random_net_zscore['mean'])\\\n",
    "        /random_net_zscore['std']\n",
    "display(random_net_zscore.head(2))\n",
    "\n",
    "random_net_weights_zscore = pd.merge(random_net_weights_full, normal_net)\n",
    "random_net_weights_zscore['zscore'] =\\\n",
    "    (random_net_weights_zscore['directed_interactions']-random_net_weights_zscore['mean'])\\\n",
    "        /random_net_weights_zscore['std']\n",
    "random_net_weights_zscore.head(2)"
   ]
  },
  {
   "cell_type": "code",
   "execution_count": 32,
   "metadata": {},
   "outputs": [],
   "source": [
    "# save network stats excluding the distribution column\n",
    "random_net_zscore.to_csv(\n",
    "    net_dir+'directed_network_stats_zscore.csv', \n",
    "    index=False,\n",
    "    columns=random_net_zscore.columns.drop('dist'))\n",
    "\n",
    "random_net_weights_zscore.to_csv(\n",
    "    net_dir+'directed_network_stats_weights_zscore.csv', \n",
    "    index=False,\n",
    "    columns=random_net_zscore.columns.drop('dist'))"
   ]
  },
  {
   "cell_type": "code",
   "execution_count": 33,
   "metadata": {},
   "outputs": [],
   "source": [
    "# convert random distributions to an array an save\n",
    "dist = np.array(random_net_zscore.dist.to_list())\n",
    "with open(net_dir+'directed_random_dist.npy', 'wb') as f:\n",
    "    np.save(f, dist)\n",
    "    \n",
    "dist = np.array(random_net_weights_zscore.dist.to_list())\n",
    "with open(net_dir+'directed_random_dist_weights.npy', 'wb') as f:\n",
    "    np.save(f, dist)"
   ]
  },
  {
   "cell_type": "markdown",
   "metadata": {
    "tags": []
   },
   "source": [
    "### Build grouped intercell networks"
   ]
  },
  {
   "cell_type": "markdown",
   "metadata": {
    "jp-MarkdownHeadingCollapsed": true,
    "tags": []
   },
   "source": [
    "#### **Without gene weights**\n",
    "In this approach, the genes in each gene pool have the same probability of being picked up to integrate the intercellular interactions network"
   ]
  },
  {
   "cell_type": "code",
   "execution_count": 11,
   "metadata": {
    "tags": []
   },
   "outputs": [
    {
     "data": {
      "application/vnd.jupyter.widget-view+json": {
       "model_id": "f7196dc445364891be460bcc77dbc9a1",
       "version_major": 2,
       "version_minor": 0
      },
      "text/plain": [
       "  0%|          | 0/2 [00:00<?, ?it/s]"
      ]
     },
     "metadata": {},
     "output_type": "display_data"
    },
    {
     "data": {
      "application/vnd.jupyter.widget-view+json": {
       "model_id": "3e7cb96f94b74f1da12ceea86d19d9e7",
       "version_major": 2,
       "version_minor": 0
      },
      "text/plain": [
       "  0%|          | 0/2 [00:00<?, ?it/s]"
      ]
     },
     "metadata": {},
     "output_type": "display_data"
    },
    {
     "data": {
      "application/vnd.jupyter.widget-view+json": {
       "model_id": "af3fe1e3a1c74f03b5a3ea30387385ab",
       "version_major": 2,
       "version_minor": 0
      },
      "text/plain": [
       "  0%|          | 0/2 [00:00<?, ?it/s]"
      ]
     },
     "metadata": {},
     "output_type": "display_data"
    },
    {
     "data": {
      "text/html": [
       "<div>\n",
       "<style scoped>\n",
       "    .dataframe tbody tr th:only-of-type {\n",
       "        vertical-align: middle;\n",
       "    }\n",
       "\n",
       "    .dataframe tbody tr th {\n",
       "        vertical-align: top;\n",
       "    }\n",
       "\n",
       "    .dataframe thead th {\n",
       "        text-align: right;\n",
       "    }\n",
       "</style>\n",
       "<table border=\"1\" class=\"dataframe\">\n",
       "  <thead>\n",
       "    <tr style=\"text-align: right;\">\n",
       "      <th></th>\n",
       "      <th>cancer_tissue</th>\n",
       "      <th>metastasis_tissue</th>\n",
       "      <th>direction</th>\n",
       "      <th>dist</th>\n",
       "      <th>mean</th>\n",
       "      <th>std</th>\n",
       "      <th>interactions</th>\n",
       "      <th>tissue_dataset</th>\n",
       "    </tr>\n",
       "  </thead>\n",
       "  <tbody>\n",
       "    <tr>\n",
       "      <th>0</th>\n",
       "      <td>adipose_tissue</td>\n",
       "      <td>adrenal_gland</td>\n",
       "      <td>c_to_m</td>\n",
       "      <td>[2268, 2438, 2183, 2407, 2572, 2530, 2357, 219...</td>\n",
       "      <td>2334.778</td>\n",
       "      <td>137.263567</td>\n",
       "      <td>all</td>\n",
       "      <td>GTEx</td>\n",
       "    </tr>\n",
       "    <tr>\n",
       "      <th>1</th>\n",
       "      <td>adipose_tissue</td>\n",
       "      <td>adrenal_gland</td>\n",
       "      <td>m_to_c</td>\n",
       "      <td>[2126, 2265, 2161, 2564, 2435, 2377, 2497, 216...</td>\n",
       "      <td>2347.254</td>\n",
       "      <td>129.325579</td>\n",
       "      <td>all</td>\n",
       "      <td>GTEx</td>\n",
       "    </tr>\n",
       "    <tr>\n",
       "      <th>2</th>\n",
       "      <td>adipose_tissue</td>\n",
       "      <td>artery</td>\n",
       "      <td>c_to_m</td>\n",
       "      <td>[2420, 2627, 2649, 2718, 2598, 2413, 2405, 271...</td>\n",
       "      <td>2631.002</td>\n",
       "      <td>146.450906</td>\n",
       "      <td>all</td>\n",
       "      <td>GTEx</td>\n",
       "    </tr>\n",
       "    <tr>\n",
       "      <th>3</th>\n",
       "      <td>adipose_tissue</td>\n",
       "      <td>artery</td>\n",
       "      <td>m_to_c</td>\n",
       "      <td>[2672, 2725, 2428, 2930, 2694, 2599, 2801, 274...</td>\n",
       "      <td>2714.864</td>\n",
       "      <td>144.843079</td>\n",
       "      <td>all</td>\n",
       "      <td>GTEx</td>\n",
       "    </tr>\n",
       "    <tr>\n",
       "      <th>4</th>\n",
       "      <td>adipose_tissue</td>\n",
       "      <td>bladder</td>\n",
       "      <td>c_to_m</td>\n",
       "      <td>[2581, 2801, 2953, 2689, 2663, 2966, 2568, 274...</td>\n",
       "      <td>2774.448</td>\n",
       "      <td>139.996855</td>\n",
       "      <td>all</td>\n",
       "      <td>GTEx</td>\n",
       "    </tr>\n",
       "  </tbody>\n",
       "</table>\n",
       "</div>"
      ],
      "text/plain": [
       "    cancer_tissue metastasis_tissue direction  \\\n",
       "0  adipose_tissue     adrenal_gland    c_to_m   \n",
       "1  adipose_tissue     adrenal_gland    m_to_c   \n",
       "2  adipose_tissue            artery    c_to_m   \n",
       "3  adipose_tissue            artery    m_to_c   \n",
       "4  adipose_tissue           bladder    c_to_m   \n",
       "\n",
       "                                                dist      mean         std  \\\n",
       "0  [2268, 2438, 2183, 2407, 2572, 2530, 2357, 219...  2334.778  137.263567   \n",
       "1  [2126, 2265, 2161, 2564, 2435, 2377, 2497, 216...  2347.254  129.325579   \n",
       "2  [2420, 2627, 2649, 2718, 2598, 2413, 2405, 271...  2631.002  146.450906   \n",
       "3  [2672, 2725, 2428, 2930, 2694, 2599, 2801, 274...  2714.864  144.843079   \n",
       "4  [2581, 2801, 2953, 2689, 2663, 2966, 2568, 274...  2774.448  139.996855   \n",
       "\n",
       "  interactions tissue_dataset  \n",
       "0          all           GTEx  \n",
       "1          all           GTEx  \n",
       "2          all           GTEx  \n",
       "3          all           GTEx  \n",
       "4          all           GTEx  "
      ]
     },
     "execution_count": 11,
     "metadata": {},
     "output_type": "execute_result"
    }
   ],
   "source": [
    "importlib.reload(network_functions)\n",
    "network_stats = []\n",
    "for inter_kind in tqdm(['all', 'curated']):\n",
    "    if inter_kind == 'all':\n",
    "        inter_graph = intercell\n",
    "    else:\n",
    "        inter_graph = intercell_curated\n",
    "\n",
    "    for d in tqdm(['GTEx', 'Consensus']):\n",
    "\n",
    "        stats = network_functions.build_random_grouped_intercell_networks(\n",
    "            tissues[d].dropna(), \n",
    "            grouped_calls[d],\n",
    "            inter_graph,\n",
    "            directed_graph=True,\n",
    "            weights=False,\n",
    "            extra_labels=[\n",
    "                ('interactions', inter_kind),\n",
    "                ('tissue_dataset', d)\n",
    "            ],\n",
    "            n_jobs=20\n",
    "        )\n",
    "\n",
    "        network_stats.extend(stats)\n",
    "\n",
    "network_stats = pd.DataFrame(network_stats)\n",
    "network_stats.head()"
   ]
  },
  {
   "cell_type": "code",
   "execution_count": 13,
   "metadata": {},
   "outputs": [],
   "source": [
    "network_stats.to_csv(net_dir+'directed_random_grouped_network_stats.csv', index=False)"
   ]
  },
  {
   "cell_type": "markdown",
   "metadata": {
    "tags": []
   },
   "source": [
    "#### **With gene weights**\n",
    "In this approach, the genes in each gene pool have a probability of being choosed equal to the number of times each gene is expressed in all tissues divided by the sum of counts of all genes"
   ]
  },
  {
   "cell_type": "code",
   "execution_count": 14,
   "metadata": {
    "tags": []
   },
   "outputs": [
    {
     "data": {
      "application/vnd.jupyter.widget-view+json": {
       "model_id": "c58a4d8bac64421b825ae6dca6b9ad4a",
       "version_major": 2,
       "version_minor": 0
      },
      "text/plain": [
       "  0%|          | 0/2 [00:00<?, ?it/s]"
      ]
     },
     "metadata": {},
     "output_type": "display_data"
    },
    {
     "data": {
      "application/vnd.jupyter.widget-view+json": {
       "model_id": "de08727e058342ba938f7425ba68e91b",
       "version_major": 2,
       "version_minor": 0
      },
      "text/plain": [
       "  0%|          | 0/2 [00:00<?, ?it/s]"
      ]
     },
     "metadata": {},
     "output_type": "display_data"
    },
    {
     "data": {
      "application/vnd.jupyter.widget-view+json": {
       "model_id": "371deded5d72454db4fa73e15c38e4cc",
       "version_major": 2,
       "version_minor": 0
      },
      "text/plain": [
       "  0%|          | 0/2 [00:00<?, ?it/s]"
      ]
     },
     "metadata": {},
     "output_type": "display_data"
    },
    {
     "data": {
      "text/html": [
       "<div>\n",
       "<style scoped>\n",
       "    .dataframe tbody tr th:only-of-type {\n",
       "        vertical-align: middle;\n",
       "    }\n",
       "\n",
       "    .dataframe tbody tr th {\n",
       "        vertical-align: top;\n",
       "    }\n",
       "\n",
       "    .dataframe thead th {\n",
       "        text-align: right;\n",
       "    }\n",
       "</style>\n",
       "<table border=\"1\" class=\"dataframe\">\n",
       "  <thead>\n",
       "    <tr style=\"text-align: right;\">\n",
       "      <th></th>\n",
       "      <th>cancer_tissue</th>\n",
       "      <th>metastasis_tissue</th>\n",
       "      <th>direction</th>\n",
       "      <th>dist</th>\n",
       "      <th>mean</th>\n",
       "      <th>std</th>\n",
       "      <th>interactions</th>\n",
       "      <th>tissue_dataset</th>\n",
       "    </tr>\n",
       "  </thead>\n",
       "  <tbody>\n",
       "    <tr>\n",
       "      <th>0</th>\n",
       "      <td>adipose_tissue</td>\n",
       "      <td>adrenal_gland</td>\n",
       "      <td>c_to_m</td>\n",
       "      <td>[2220, 2383, 2301, 2440, 2414, 2072, 2291, 269...</td>\n",
       "      <td>2342.385</td>\n",
       "      <td>106.064908</td>\n",
       "      <td>all</td>\n",
       "      <td>GTEx</td>\n",
       "    </tr>\n",
       "    <tr>\n",
       "      <th>1</th>\n",
       "      <td>adipose_tissue</td>\n",
       "      <td>adrenal_gland</td>\n",
       "      <td>m_to_c</td>\n",
       "      <td>[2346, 2540, 2414, 2366, 2307, 2209, 2315, 230...</td>\n",
       "      <td>2350.158</td>\n",
       "      <td>104.585606</td>\n",
       "      <td>all</td>\n",
       "      <td>GTEx</td>\n",
       "    </tr>\n",
       "    <tr>\n",
       "      <th>2</th>\n",
       "      <td>adipose_tissue</td>\n",
       "      <td>artery</td>\n",
       "      <td>c_to_m</td>\n",
       "      <td>[2706, 2574, 2795, 2516, 2570, 2395, 2447, 264...</td>\n",
       "      <td>2636.964</td>\n",
       "      <td>106.379917</td>\n",
       "      <td>all</td>\n",
       "      <td>GTEx</td>\n",
       "    </tr>\n",
       "    <tr>\n",
       "      <th>3</th>\n",
       "      <td>adipose_tissue</td>\n",
       "      <td>artery</td>\n",
       "      <td>m_to_c</td>\n",
       "      <td>[2751, 2602, 2676, 2721, 2669, 2554, 2510, 271...</td>\n",
       "      <td>2719.389</td>\n",
       "      <td>108.676712</td>\n",
       "      <td>all</td>\n",
       "      <td>GTEx</td>\n",
       "    </tr>\n",
       "    <tr>\n",
       "      <th>4</th>\n",
       "      <td>adipose_tissue</td>\n",
       "      <td>bladder</td>\n",
       "      <td>c_to_m</td>\n",
       "      <td>[2832, 2833, 2552, 2784, 2806, 2466, 2599, 286...</td>\n",
       "      <td>2768.166</td>\n",
       "      <td>109.169723</td>\n",
       "      <td>all</td>\n",
       "      <td>GTEx</td>\n",
       "    </tr>\n",
       "  </tbody>\n",
       "</table>\n",
       "</div>"
      ],
      "text/plain": [
       "    cancer_tissue metastasis_tissue direction  \\\n",
       "0  adipose_tissue     adrenal_gland    c_to_m   \n",
       "1  adipose_tissue     adrenal_gland    m_to_c   \n",
       "2  adipose_tissue            artery    c_to_m   \n",
       "3  adipose_tissue            artery    m_to_c   \n",
       "4  adipose_tissue           bladder    c_to_m   \n",
       "\n",
       "                                                dist      mean         std  \\\n",
       "0  [2220, 2383, 2301, 2440, 2414, 2072, 2291, 269...  2342.385  106.064908   \n",
       "1  [2346, 2540, 2414, 2366, 2307, 2209, 2315, 230...  2350.158  104.585606   \n",
       "2  [2706, 2574, 2795, 2516, 2570, 2395, 2447, 264...  2636.964  106.379917   \n",
       "3  [2751, 2602, 2676, 2721, 2669, 2554, 2510, 271...  2719.389  108.676712   \n",
       "4  [2832, 2833, 2552, 2784, 2806, 2466, 2599, 286...  2768.166  109.169723   \n",
       "\n",
       "  interactions tissue_dataset  \n",
       "0          all           GTEx  \n",
       "1          all           GTEx  \n",
       "2          all           GTEx  \n",
       "3          all           GTEx  \n",
       "4          all           GTEx  "
      ]
     },
     "execution_count": 14,
     "metadata": {},
     "output_type": "execute_result"
    }
   ],
   "source": [
    "importlib.reload(network_functions)\n",
    "network_stats = []\n",
    "for inter_kind in tqdm(['all', 'curated']):\n",
    "    if inter_kind == 'all':\n",
    "        inter_graph = intercell\n",
    "    else:\n",
    "        inter_graph = intercell_curated\n",
    "\n",
    "    for d in tqdm(['GTEx', 'Consensus']):\n",
    "\n",
    "        stats = network_functions.build_random_grouped_intercell_networks(\n",
    "            tissues[d].dropna(), \n",
    "            grouped_calls[d],\n",
    "            inter_graph,\n",
    "            directed_graph=True,\n",
    "            weights=True,\n",
    "            extra_labels=[\n",
    "                ('interactions', inter_kind),\n",
    "                ('tissue_dataset', d)\n",
    "            ],\n",
    "            n_jobs=20\n",
    "        )\n",
    "\n",
    "        network_stats.extend(stats)\n",
    "\n",
    "network_stats = pd.DataFrame(network_stats)\n",
    "network_stats.head()"
   ]
  },
  {
   "cell_type": "code",
   "execution_count": 15,
   "metadata": {},
   "outputs": [],
   "source": [
    "network_stats.to_csv(net_dir+'directed_random_grouped_network_stats_weights.csv', index=False)"
   ]
  },
  {
   "cell_type": "markdown",
   "metadata": {
    "tags": []
   },
   "source": [
    "#### **Compute the zscore for each tissue pair**"
   ]
  },
  {
   "cell_type": "code",
   "execution_count": 15,
   "metadata": {},
   "outputs": [
    {
     "name": "stdout",
     "output_type": "stream",
     "text": [
      "<class 'pandas.core.frame.DataFrame'>\n",
      "RangeIndex: 5556 entries, 0 to 5555\n",
      "Data columns (total 8 columns):\n",
      " #   Column             Non-Null Count  Dtype  \n",
      "---  ------             --------------  -----  \n",
      " 0   cancer_tissue      5556 non-null   object \n",
      " 1   metastasis_tissue  5556 non-null   object \n",
      " 2   direction          5556 non-null   object \n",
      " 3   dist               5556 non-null   object \n",
      " 4   mean               5556 non-null   float64\n",
      " 5   std                5556 non-null   float64\n",
      " 6   interactions       5556 non-null   object \n",
      " 7   tissue_dataset     5556 non-null   object \n",
      "dtypes: float64(2), object(6)\n",
      "memory usage: 347.4+ KB\n"
     ]
    },
    {
     "data": {
      "text/plain": [
       "None"
      ]
     },
     "metadata": {},
     "output_type": "display_data"
    },
    {
     "name": "stdout",
     "output_type": "stream",
     "text": [
      "<class 'pandas.core.frame.DataFrame'>\n",
      "RangeIndex: 5556 entries, 0 to 5555\n",
      "Data columns (total 8 columns):\n",
      " #   Column             Non-Null Count  Dtype  \n",
      "---  ------             --------------  -----  \n",
      " 0   cancer_tissue      5556 non-null   object \n",
      " 1   metastasis_tissue  5556 non-null   object \n",
      " 2   direction          5556 non-null   object \n",
      " 3   dist               5556 non-null   object \n",
      " 4   mean               5556 non-null   float64\n",
      " 5   std                5556 non-null   float64\n",
      " 6   interactions       5556 non-null   object \n",
      " 7   tissue_dataset     5556 non-null   object \n",
      "dtypes: float64(2), object(6)\n",
      "memory usage: 347.4+ KB\n"
     ]
    }
   ],
   "source": [
    "# load random network stats\n",
    "random_net = pd.read_csv(\n",
    "    net_dir+'directed_random_grouped_network_stats.csv',\n",
    "    converters={'dist': functions.str_to_array}\n",
    ")\n",
    "random_net_weights = pd.read_csv(\n",
    "    net_dir+'directed_random_grouped_network_stats_weights.csv',\n",
    "    converters={'dist': functions.str_to_array}\n",
    ")\n",
    "display(random_net.info())\n",
    "random_net_weights.info()"
   ]
  },
  {
   "cell_type": "code",
   "execution_count": 19,
   "metadata": {},
   "outputs": [
    {
     "name": "stdout",
     "output_type": "stream",
     "text": [
      "<class 'pandas.core.frame.DataFrame'>\n",
      "RangeIndex: 11112 entries, 0 to 11111\n",
      "Data columns (total 7 columns):\n",
      " #   Column                 Non-Null Count  Dtype  \n",
      "---  ------                 --------------  -----  \n",
      " 0   cancer_tissue          11112 non-null  object \n",
      " 1   metastasis_tissue      11112 non-null  object \n",
      " 2   directed_interactions  11112 non-null  int64  \n",
      " 3   direction              11112 non-null  object \n",
      " 4   interactions           11112 non-null  object \n",
      " 5   tissue_dataset         11112 non-null  object \n",
      " 6   jaccard                11112 non-null  float64\n",
      "dtypes: float64(1), int64(1), object(5)\n",
      "memory usage: 607.8+ KB\n"
     ]
    }
   ],
   "source": [
    "# load intercell network stats\n",
    "normal_net = pd.read_csv(net_dir+'directed_grouped_network_stats.csv')\n",
    "normal_net.info()"
   ]
  },
  {
   "cell_type": "code",
   "execution_count": 20,
   "metadata": {},
   "outputs": [
    {
     "name": "stdout",
     "output_type": "stream",
     "text": [
      "<class 'pandas.core.frame.DataFrame'>\n",
      "RangeIndex: 5556 entries, 0 to 5555\n",
      "Data columns (total 8 columns):\n",
      " #   Column             Non-Null Count  Dtype  \n",
      "---  ------             --------------  -----  \n",
      " 0   metastasis_tissue  5556 non-null   object \n",
      " 1   cancer_tissue      5556 non-null   object \n",
      " 2   direction          5556 non-null   object \n",
      " 3   dist               5556 non-null   object \n",
      " 4   mean               5556 non-null   float64\n",
      " 5   std                5556 non-null   float64\n",
      " 6   interactions       5556 non-null   object \n",
      " 7   tissue_dataset     5556 non-null   object \n",
      "dtypes: float64(2), object(6)\n",
      "memory usage: 347.4+ KB\n"
     ]
    },
    {
     "data": {
      "text/plain": [
       "None"
      ]
     },
     "metadata": {},
     "output_type": "display_data"
    },
    {
     "name": "stdout",
     "output_type": "stream",
     "text": [
      "<class 'pandas.core.frame.DataFrame'>\n",
      "RangeIndex: 5556 entries, 0 to 5555\n",
      "Data columns (total 8 columns):\n",
      " #   Column             Non-Null Count  Dtype  \n",
      "---  ------             --------------  -----  \n",
      " 0   metastasis_tissue  5556 non-null   object \n",
      " 1   cancer_tissue      5556 non-null   object \n",
      " 2   direction          5556 non-null   object \n",
      " 3   dist               5556 non-null   object \n",
      " 4   mean               5556 non-null   float64\n",
      " 5   std                5556 non-null   float64\n",
      " 6   interactions       5556 non-null   object \n",
      " 7   tissue_dataset     5556 non-null   object \n",
      "dtypes: float64(2), object(6)\n",
      "memory usage: 347.4+ KB\n"
     ]
    },
    {
     "data": {
      "text/plain": [
       "None"
      ]
     },
     "metadata": {},
     "output_type": "display_data"
    },
    {
     "name": "stdout",
     "output_type": "stream",
     "text": [
      "<class 'pandas.core.frame.DataFrame'>\n",
      "RangeIndex: 5556 entries, 0 to 5555\n",
      "Data columns (total 8 columns):\n",
      " #   Column             Non-Null Count  Dtype  \n",
      "---  ------             --------------  -----  \n",
      " 0   metastasis_tissue  5556 non-null   object \n",
      " 1   cancer_tissue      5556 non-null   object \n",
      " 2   direction          5556 non-null   object \n",
      " 3   dist               5556 non-null   object \n",
      " 4   mean               5556 non-null   float64\n",
      " 5   std                5556 non-null   float64\n",
      " 6   interactions       5556 non-null   object \n",
      " 7   tissue_dataset     5556 non-null   object \n",
      "dtypes: float64(2), object(6)\n",
      "memory usage: 347.4+ KB\n"
     ]
    },
    {
     "data": {
      "text/plain": [
       "None"
      ]
     },
     "metadata": {},
     "output_type": "display_data"
    },
    {
     "name": "stdout",
     "output_type": "stream",
     "text": [
      "<class 'pandas.core.frame.DataFrame'>\n",
      "RangeIndex: 5556 entries, 0 to 5555\n",
      "Data columns (total 8 columns):\n",
      " #   Column             Non-Null Count  Dtype  \n",
      "---  ------             --------------  -----  \n",
      " 0   metastasis_tissue  5556 non-null   object \n",
      " 1   cancer_tissue      5556 non-null   object \n",
      " 2   direction          5556 non-null   object \n",
      " 3   dist               5556 non-null   object \n",
      " 4   mean               5556 non-null   float64\n",
      " 5   std                5556 non-null   float64\n",
      " 6   interactions       5556 non-null   object \n",
      " 7   tissue_dataset     5556 non-null   object \n",
      "dtypes: float64(2), object(6)\n",
      "memory usage: 347.4+ KB\n"
     ]
    }
   ],
   "source": [
    "# to get all tissue pairs, we'll create a dataframe where we reverse the tissue order\n",
    "# for directed interactions we also have to change the entry's direction\n",
    "random_net_rev = random_net.copy().rename({\n",
    "    'cancer_tissue':'metastasis_tissue',\n",
    "    'metastasis_tissue':'cancer_tissue',\n",
    "}, axis=1)\n",
    "display(random_net_rev.info())\n",
    "random_net_rev['direction'] = np.where(random_net_rev['direction']=='c_to_m', 'm_to_c', 'c_to_m')\n",
    "display(random_net_rev.info())\n",
    "\n",
    "random_net_weights_rev = random_net_weights.copy().rename({\n",
    "    'cancer_tissue':'metastasis_tissue',\n",
    "    'metastasis_tissue':'cancer_tissue',\n",
    "}, axis=1)\n",
    "display(random_net_weights_rev.info())\n",
    "random_net_weights_rev['direction'] = np.where(random_net_weights_rev['direction']=='c_to_m', 'm_to_c', 'c_to_m')\n",
    "random_net_weights_rev.info()"
   ]
  },
  {
   "cell_type": "code",
   "execution_count": 21,
   "metadata": {},
   "outputs": [
    {
     "name": "stdout",
     "output_type": "stream",
     "text": [
      "(5556, 8)\n",
      "(11112, 8)\n",
      "(5556, 8)\n"
     ]
    },
    {
     "data": {
      "text/plain": [
       "(11112, 8)"
      ]
     },
     "execution_count": 21,
     "metadata": {},
     "output_type": "execute_result"
    }
   ],
   "source": [
    "# Concatenate reverse dataframes\n",
    "random_net_full = pd.concat(\n",
    "    [random_net, random_net_rev], ignore_index=True)\n",
    "print(random_net.shape)\n",
    "print(random_net_full.shape)\n",
    "\n",
    "random_net_weights_full = pd.concat(\n",
    "    [random_net_weights, random_net_weights_rev], ignore_index=True)\n",
    "print(random_net_weights.shape)\n",
    "random_net_weights_full.shape"
   ]
  },
  {
   "cell_type": "code",
   "execution_count": 22,
   "metadata": {},
   "outputs": [
    {
     "name": "stdout",
     "output_type": "stream",
     "text": [
      "<class 'pandas.core.frame.DataFrame'>\n",
      "Int64Index: 11112 entries, 0 to 11111\n",
      "Data columns (total 11 columns):\n",
      " #   Column                 Non-Null Count  Dtype  \n",
      "---  ------                 --------------  -----  \n",
      " 0   cancer_tissue          11112 non-null  object \n",
      " 1   metastasis_tissue      11112 non-null  object \n",
      " 2   direction              11112 non-null  object \n",
      " 3   dist                   11112 non-null  object \n",
      " 4   mean                   11112 non-null  float64\n",
      " 5   std                    11112 non-null  float64\n",
      " 6   interactions           11112 non-null  object \n",
      " 7   tissue_dataset         11112 non-null  object \n",
      " 8   directed_interactions  11112 non-null  int64  \n",
      " 9   jaccard                11112 non-null  float64\n",
      " 10  zscore                 11112 non-null  float64\n",
      "dtypes: float64(4), int64(1), object(6)\n",
      "memory usage: 1.0+ MB\n"
     ]
    },
    {
     "data": {
      "text/plain": [
       "None"
      ]
     },
     "metadata": {},
     "output_type": "display_data"
    },
    {
     "name": "stdout",
     "output_type": "stream",
     "text": [
      "<class 'pandas.core.frame.DataFrame'>\n",
      "Int64Index: 11112 entries, 0 to 11111\n",
      "Data columns (total 11 columns):\n",
      " #   Column                 Non-Null Count  Dtype  \n",
      "---  ------                 --------------  -----  \n",
      " 0   cancer_tissue          11112 non-null  object \n",
      " 1   metastasis_tissue      11112 non-null  object \n",
      " 2   direction              11112 non-null  object \n",
      " 3   dist                   11112 non-null  object \n",
      " 4   mean                   11112 non-null  float64\n",
      " 5   std                    11112 non-null  float64\n",
      " 6   interactions           11112 non-null  object \n",
      " 7   tissue_dataset         11112 non-null  object \n",
      " 8   directed_interactions  11112 non-null  int64  \n",
      " 9   jaccard                11112 non-null  float64\n",
      " 10  zscore                 11112 non-null  float64\n",
      "dtypes: float64(4), int64(1), object(6)\n",
      "memory usage: 1.0+ MB\n"
     ]
    }
   ],
   "source": [
    "# merge random_net with normal_net and compute z-score\n",
    "random_net_zscore = pd.merge(random_net_full, normal_net)\n",
    "random_net_zscore['zscore'] =\\\n",
    "    (random_net_zscore['directed_interactions']-random_net_zscore['mean'])\\\n",
    "        /random_net_zscore['std']\n",
    "display(random_net_zscore.info())\n",
    "\n",
    "random_net_weights_zscore = pd.merge(random_net_weights_full, normal_net)\n",
    "random_net_weights_zscore['zscore'] =\\\n",
    "    (random_net_weights_zscore['directed_interactions']-random_net_weights_zscore['mean'])\\\n",
    "        /random_net_weights_zscore['std']\n",
    "random_net_weights_zscore.info()"
   ]
  },
  {
   "cell_type": "code",
   "execution_count": 23,
   "metadata": {},
   "outputs": [],
   "source": [
    "# save network stats excluding the distribution column\n",
    "random_net_zscore.to_csv(\n",
    "    net_dir+'directed_grouped_network_stats_zscore.csv', \n",
    "    index=False,\n",
    "    columns=random_net_zscore.columns.drop('dist'))\n",
    "\n",
    "random_net_weights_zscore.to_csv(\n",
    "    net_dir+'directed_grouped_network_stats_weights_zscore.csv', \n",
    "    index=False,\n",
    "    columns=random_net_zscore.columns.drop('dist'))"
   ]
  },
  {
   "cell_type": "code",
   "execution_count": 24,
   "metadata": {},
   "outputs": [],
   "source": [
    "# convert random distributions to an array an save\n",
    "dist = np.array(random_net_zscore.dist.to_list())\n",
    "with open(net_dir+'directed_grouped_random_dist.npy', 'wb') as f:\n",
    "    np.save(f, dist)\n",
    "    \n",
    "dist = np.array(network_stats_weights_zscore.dist.to_list())\n",
    "with open(net_dir+'directed_grouped_random_dist_weights.npy', 'wb') as f:\n",
    "    np.save(f, dist)"
   ]
  },
  {
   "cell_type": "markdown",
   "metadata": {
    "tags": []
   },
   "source": [
    "# Weighted intercellular interactions networks"
   ]
  },
  {
   "cell_type": "markdown",
   "metadata": {
    "jp-MarkdownHeadingCollapsed": true,
    "tags": []
   },
   "source": [
    "## Compute weighted intercellular networks"
   ]
  },
  {
   "cell_type": "code",
   "execution_count": 38,
   "metadata": {},
   "outputs": [],
   "source": [
    "# Compute weights for each gene\n",
    "gene_weights = {}\n",
    "for d in gene_expression:\n",
    "    \n",
    "    if d == 'Consensus':\n",
    "        val = 'log2(nTPM)'\n",
    "    else:\n",
    "        val = 'log2(TPM)'\n",
    "    \n",
    "    x = gene_expression[d].pivot_table(values=val, columns='Tissue', index='Gene name')\n",
    "    \n",
    "    gene_weights[d] = dict(\n",
    "        exp = x,\n",
    "        max_norm = x.transform(lambda x: x/x.max(), axis=1),\n",
    "        quantile = (x.rank(axis=1)-1)/(x.shape[1]-1),\n",
    "        z_score = stats.zscore(x, axis=1),\n",
    "    )"
   ]
  },
  {
   "cell_type": "code",
   "execution_count": 39,
   "metadata": {},
   "outputs": [],
   "source": [
    "importlib.reload(network_functions)\n",
    "for mode in ['undirected', 'directed']:\n",
    "\n",
    "    if mode == 'directed':\n",
    "        directions = ['c_to_m', 'm_to_c']\n",
    "    else:\n",
    "        directions=False\n",
    "    \n",
    "    network_weights = []\n",
    "    for interactions in ['all', 'curated']:\n",
    "        \n",
    "        if interactions == 'all':\n",
    "            inter = intercell\n",
    "        else:\n",
    "            inter = intercell_curated\n",
    "            \n",
    "        for tissue_dataset in ['GTEx', 'Consensus']:\n",
    "            \n",
    "            tissues_ = tissues[tissue_dataset].dropna()\n",
    "            pair_ids = itertools.combinations(tissues_.index.unique().to_list(), 2)\n",
    "            gene_weights_ = gene_weights[tissue_dataset]\n",
    "            \n",
    "            for pair in pair_ids:\n",
    "\n",
    "                t1 = tissues_.loc[[pair[0]]].to_list()\n",
    "                t2 = tissues_.loc[[pair[1]]].to_list()\n",
    "                \n",
    "                for weight_type, weight_values in gene_weights_.items():\n",
    "                    for t1_ in t1:\n",
    "                        for t2_ in t2:\n",
    "\n",
    "                            weights = network_functions.weighted_intercell_network(\n",
    "                                pair=(t1_, t2_),\n",
    "                                weights=weight_values,\n",
    "                                interactions=inter,\n",
    "                                direction=directions,\n",
    "                                extra_labels=[\n",
    "                                    ('tissue_dataset', tissue_dataset),\n",
    "                                    ('interactions', interactions),\n",
    "                                    ('gene_weights', weight_type)\n",
    "                                ]\n",
    "                            )\n",
    "                            network_weights.extend(weights)\n",
    "    \n",
    "    network_weights = pd.DataFrame(network_weights)\n",
    "    network_weights.to_csv(f'intercell_networks/{mode}_weighted_networks.csv', index=False)"
   ]
  },
  {
   "cell_type": "markdown",
   "metadata": {
    "jp-MarkdownHeadingCollapsed": true,
    "tags": []
   },
   "source": [
    "## Compute organotropism pairs"
   ]
  },
  {
   "cell_type": "code",
   "execution_count": 40,
   "metadata": {},
   "outputs": [
    {
     "data": {
      "text/html": [
       "<div>\n",
       "<style scoped>\n",
       "    .dataframe tbody tr th:only-of-type {\n",
       "        vertical-align: middle;\n",
       "    }\n",
       "\n",
       "    .dataframe tbody tr th {\n",
       "        vertical-align: top;\n",
       "    }\n",
       "\n",
       "    .dataframe thead th {\n",
       "        text-align: right;\n",
       "    }\n",
       "</style>\n",
       "<table border=\"1\" class=\"dataframe\">\n",
       "  <thead>\n",
       "    <tr style=\"text-align: right;\">\n",
       "      <th></th>\n",
       "      <th>tissue1</th>\n",
       "      <th>tissue2</th>\n",
       "      <th>interaction_weight</th>\n",
       "      <th>value</th>\n",
       "      <th>tissue_dataset</th>\n",
       "      <th>interactions</th>\n",
       "      <th>gene_weights</th>\n",
       "    </tr>\n",
       "  </thead>\n",
       "  <tbody>\n",
       "    <tr>\n",
       "      <th>0</th>\n",
       "      <td>Adipose - Subcutaneous</td>\n",
       "      <td>Adrenal Gland</td>\n",
       "      <td>product</td>\n",
       "      <td>158804.321649</td>\n",
       "      <td>GTEx</td>\n",
       "      <td>all</td>\n",
       "      <td>exp</td>\n",
       "    </tr>\n",
       "    <tr>\n",
       "      <th>1</th>\n",
       "      <td>Adipose - Subcutaneous</td>\n",
       "      <td>Adrenal Gland</td>\n",
       "      <td>min</td>\n",
       "      <td>27664.167150</td>\n",
       "      <td>GTEx</td>\n",
       "      <td>all</td>\n",
       "      <td>exp</td>\n",
       "    </tr>\n",
       "    <tr>\n",
       "      <th>2</th>\n",
       "      <td>Adipose - Visceral (Omentum)</td>\n",
       "      <td>Adrenal Gland</td>\n",
       "      <td>product</td>\n",
       "      <td>159162.050487</td>\n",
       "      <td>GTEx</td>\n",
       "      <td>all</td>\n",
       "      <td>exp</td>\n",
       "    </tr>\n",
       "    <tr>\n",
       "      <th>3</th>\n",
       "      <td>Adipose - Visceral (Omentum)</td>\n",
       "      <td>Adrenal Gland</td>\n",
       "      <td>min</td>\n",
       "      <td>28223.668737</td>\n",
       "      <td>GTEx</td>\n",
       "      <td>all</td>\n",
       "      <td>exp</td>\n",
       "    </tr>\n",
       "    <tr>\n",
       "      <th>4</th>\n",
       "      <td>Adipose - Subcutaneous</td>\n",
       "      <td>Adrenal Gland</td>\n",
       "      <td>product</td>\n",
       "      <td>3048.617902</td>\n",
       "      <td>GTEx</td>\n",
       "      <td>all</td>\n",
       "      <td>max_norm</td>\n",
       "    </tr>\n",
       "  </tbody>\n",
       "</table>\n",
       "</div>"
      ],
      "text/plain": [
       "                        tissue1        tissue2 interaction_weight  \\\n",
       "0        Adipose - Subcutaneous  Adrenal Gland            product   \n",
       "1        Adipose - Subcutaneous  Adrenal Gland                min   \n",
       "2  Adipose - Visceral (Omentum)  Adrenal Gland            product   \n",
       "3  Adipose - Visceral (Omentum)  Adrenal Gland                min   \n",
       "4        Adipose - Subcutaneous  Adrenal Gland            product   \n",
       "\n",
       "           value tissue_dataset interactions gene_weights  \n",
       "0  158804.321649           GTEx          all          exp  \n",
       "1   27664.167150           GTEx          all          exp  \n",
       "2  159162.050487           GTEx          all          exp  \n",
       "3   28223.668737           GTEx          all          exp  \n",
       "4    3048.617902           GTEx          all     max_norm  "
      ]
     },
     "execution_count": 40,
     "metadata": {},
     "output_type": "execute_result"
    }
   ],
   "source": [
    "weighted_undir = pd.read_csv(net_dir+'undirected_weighted_networks.csv')\n",
    "weighted_dir = pd.read_csv(net_dir+'directed_weighted_networks.csv')\n",
    "pairs_records = pd.read_csv(org_pairs_dir+'pairs_records.csv')\n",
    "weighted_undir.head()"
   ]
  },
  {
   "cell_type": "code",
   "execution_count": 41,
   "metadata": {},
   "outputs": [
    {
     "data": {
      "text/html": [
       "<div>\n",
       "<style scoped>\n",
       "    .dataframe tbody tr th:only-of-type {\n",
       "        vertical-align: middle;\n",
       "    }\n",
       "\n",
       "    .dataframe tbody tr th {\n",
       "        vertical-align: top;\n",
       "    }\n",
       "\n",
       "    .dataframe thead th {\n",
       "        text-align: right;\n",
       "    }\n",
       "</style>\n",
       "<table border=\"1\" class=\"dataframe\">\n",
       "  <thead>\n",
       "    <tr style=\"text-align: right;\">\n",
       "      <th></th>\n",
       "      <th>tissue2</th>\n",
       "      <th>tissue1</th>\n",
       "      <th>interaction_weight</th>\n",
       "      <th>direction</th>\n",
       "      <th>value</th>\n",
       "      <th>tissue_dataset</th>\n",
       "      <th>interactions</th>\n",
       "      <th>gene_weights</th>\n",
       "    </tr>\n",
       "  </thead>\n",
       "  <tbody>\n",
       "    <tr>\n",
       "      <th>0</th>\n",
       "      <td>Adipose - Subcutaneous</td>\n",
       "      <td>Adrenal Gland</td>\n",
       "      <td>product</td>\n",
       "      <td>c_to_m</td>\n",
       "      <td>74309.645691</td>\n",
       "      <td>GTEx</td>\n",
       "      <td>all</td>\n",
       "      <td>exp</td>\n",
       "    </tr>\n",
       "    <tr>\n",
       "      <th>1</th>\n",
       "      <td>Adipose - Subcutaneous</td>\n",
       "      <td>Adrenal Gland</td>\n",
       "      <td>product</td>\n",
       "      <td>m_to_c</td>\n",
       "      <td>73631.905368</td>\n",
       "      <td>GTEx</td>\n",
       "      <td>all</td>\n",
       "      <td>exp</td>\n",
       "    </tr>\n",
       "    <tr>\n",
       "      <th>2</th>\n",
       "      <td>Adipose - Subcutaneous</td>\n",
       "      <td>Adrenal Gland</td>\n",
       "      <td>min</td>\n",
       "      <td>c_to_m</td>\n",
       "      <td>12874.984888</td>\n",
       "      <td>GTEx</td>\n",
       "      <td>all</td>\n",
       "      <td>exp</td>\n",
       "    </tr>\n",
       "    <tr>\n",
       "      <th>3</th>\n",
       "      <td>Adipose - Subcutaneous</td>\n",
       "      <td>Adrenal Gland</td>\n",
       "      <td>min</td>\n",
       "      <td>m_to_c</td>\n",
       "      <td>12854.877643</td>\n",
       "      <td>GTEx</td>\n",
       "      <td>all</td>\n",
       "      <td>exp</td>\n",
       "    </tr>\n",
       "    <tr>\n",
       "      <th>4</th>\n",
       "      <td>Adipose - Visceral (Omentum)</td>\n",
       "      <td>Adrenal Gland</td>\n",
       "      <td>product</td>\n",
       "      <td>c_to_m</td>\n",
       "      <td>75491.108825</td>\n",
       "      <td>GTEx</td>\n",
       "      <td>all</td>\n",
       "      <td>exp</td>\n",
       "    </tr>\n",
       "  </tbody>\n",
       "</table>\n",
       "</div>"
      ],
      "text/plain": [
       "                        tissue2        tissue1 interaction_weight direction  \\\n",
       "0        Adipose - Subcutaneous  Adrenal Gland            product    c_to_m   \n",
       "1        Adipose - Subcutaneous  Adrenal Gland            product    m_to_c   \n",
       "2        Adipose - Subcutaneous  Adrenal Gland                min    c_to_m   \n",
       "3        Adipose - Subcutaneous  Adrenal Gland                min    m_to_c   \n",
       "4  Adipose - Visceral (Omentum)  Adrenal Gland            product    c_to_m   \n",
       "\n",
       "          value tissue_dataset interactions gene_weights  \n",
       "0  74309.645691           GTEx          all          exp  \n",
       "1  73631.905368           GTEx          all          exp  \n",
       "2  12874.984888           GTEx          all          exp  \n",
       "3  12854.877643           GTEx          all          exp  \n",
       "4  75491.108825           GTEx          all          exp  "
      ]
     },
     "metadata": {},
     "output_type": "display_data"
    },
    {
     "data": {
      "text/html": [
       "<div>\n",
       "<style scoped>\n",
       "    .dataframe tbody tr th:only-of-type {\n",
       "        vertical-align: middle;\n",
       "    }\n",
       "\n",
       "    .dataframe tbody tr th {\n",
       "        vertical-align: top;\n",
       "    }\n",
       "\n",
       "    .dataframe thead th {\n",
       "        text-align: right;\n",
       "    }\n",
       "</style>\n",
       "<table border=\"1\" class=\"dataframe\">\n",
       "  <thead>\n",
       "    <tr style=\"text-align: right;\">\n",
       "      <th></th>\n",
       "      <th>tissue2</th>\n",
       "      <th>tissue1</th>\n",
       "      <th>interaction_weight</th>\n",
       "      <th>direction</th>\n",
       "      <th>value</th>\n",
       "      <th>tissue_dataset</th>\n",
       "      <th>interactions</th>\n",
       "      <th>gene_weights</th>\n",
       "    </tr>\n",
       "  </thead>\n",
       "  <tbody>\n",
       "    <tr>\n",
       "      <th>0</th>\n",
       "      <td>Adipose - Subcutaneous</td>\n",
       "      <td>Adrenal Gland</td>\n",
       "      <td>product</td>\n",
       "      <td>m_to_c</td>\n",
       "      <td>74309.645691</td>\n",
       "      <td>GTEx</td>\n",
       "      <td>all</td>\n",
       "      <td>exp</td>\n",
       "    </tr>\n",
       "    <tr>\n",
       "      <th>1</th>\n",
       "      <td>Adipose - Subcutaneous</td>\n",
       "      <td>Adrenal Gland</td>\n",
       "      <td>product</td>\n",
       "      <td>c_to_m</td>\n",
       "      <td>73631.905368</td>\n",
       "      <td>GTEx</td>\n",
       "      <td>all</td>\n",
       "      <td>exp</td>\n",
       "    </tr>\n",
       "    <tr>\n",
       "      <th>2</th>\n",
       "      <td>Adipose - Subcutaneous</td>\n",
       "      <td>Adrenal Gland</td>\n",
       "      <td>min</td>\n",
       "      <td>m_to_c</td>\n",
       "      <td>12874.984888</td>\n",
       "      <td>GTEx</td>\n",
       "      <td>all</td>\n",
       "      <td>exp</td>\n",
       "    </tr>\n",
       "    <tr>\n",
       "      <th>3</th>\n",
       "      <td>Adipose - Subcutaneous</td>\n",
       "      <td>Adrenal Gland</td>\n",
       "      <td>min</td>\n",
       "      <td>c_to_m</td>\n",
       "      <td>12854.877643</td>\n",
       "      <td>GTEx</td>\n",
       "      <td>all</td>\n",
       "      <td>exp</td>\n",
       "    </tr>\n",
       "    <tr>\n",
       "      <th>4</th>\n",
       "      <td>Adipose - Visceral (Omentum)</td>\n",
       "      <td>Adrenal Gland</td>\n",
       "      <td>product</td>\n",
       "      <td>m_to_c</td>\n",
       "      <td>75491.108825</td>\n",
       "      <td>GTEx</td>\n",
       "      <td>all</td>\n",
       "      <td>exp</td>\n",
       "    </tr>\n",
       "  </tbody>\n",
       "</table>\n",
       "</div>"
      ],
      "text/plain": [
       "                        tissue2        tissue1 interaction_weight direction  \\\n",
       "0        Adipose - Subcutaneous  Adrenal Gland            product    m_to_c   \n",
       "1        Adipose - Subcutaneous  Adrenal Gland            product    c_to_m   \n",
       "2        Adipose - Subcutaneous  Adrenal Gland                min    m_to_c   \n",
       "3        Adipose - Subcutaneous  Adrenal Gland                min    c_to_m   \n",
       "4  Adipose - Visceral (Omentum)  Adrenal Gland            product    m_to_c   \n",
       "\n",
       "          value tissue_dataset interactions gene_weights  \n",
       "0  74309.645691           GTEx          all          exp  \n",
       "1  73631.905368           GTEx          all          exp  \n",
       "2  12874.984888           GTEx          all          exp  \n",
       "3  12854.877643           GTEx          all          exp  \n",
       "4  75491.108825           GTEx          all          exp  "
      ]
     },
     "execution_count": 41,
     "metadata": {},
     "output_type": "execute_result"
    }
   ],
   "source": [
    "# to get all tissue pairs, we'll create a dataframe where we reverse the tissue order\n",
    "weighted_undir_rev = weighted_undir.copy().rename({\n",
    "    'tissue1':'tissue2',\n",
    "    'tissue2':'tissue1',\n",
    "}, axis=1)\n",
    "\n",
    "# for directed interactions we also have to change the entry's direction\n",
    "weighted_dir_rev = weighted_dir.copy().rename({\n",
    "    'tissue1':'tissue2',\n",
    "    'tissue2':'tissue1',\n",
    "}, axis=1)\n",
    "display(weighted_dir_rev.head())\n",
    "weighted_dir_rev['direction'] = np.where(weighted_dir_rev['direction']=='c_to_m', 'm_to_c', 'c_to_m')\n",
    "weighted_dir_rev.head()"
   ]
  },
  {
   "cell_type": "code",
   "execution_count": 42,
   "metadata": {},
   "outputs": [
    {
     "data": {
      "text/html": [
       "<div>\n",
       "<style scoped>\n",
       "    .dataframe tbody tr th:only-of-type {\n",
       "        vertical-align: middle;\n",
       "    }\n",
       "\n",
       "    .dataframe tbody tr th {\n",
       "        vertical-align: top;\n",
       "    }\n",
       "\n",
       "    .dataframe thead th {\n",
       "        text-align: right;\n",
       "    }\n",
       "</style>\n",
       "<table border=\"1\" class=\"dataframe\">\n",
       "  <thead>\n",
       "    <tr style=\"text-align: right;\">\n",
       "      <th></th>\n",
       "      <th>cancer_tissue</th>\n",
       "      <th>metastasis_tissue</th>\n",
       "      <th>interaction_weight</th>\n",
       "      <th>direction</th>\n",
       "      <th>value</th>\n",
       "      <th>tissue_dataset</th>\n",
       "      <th>interactions</th>\n",
       "      <th>gene_weights</th>\n",
       "    </tr>\n",
       "  </thead>\n",
       "  <tbody>\n",
       "    <tr>\n",
       "      <th>0</th>\n",
       "      <td>Adipose - Subcutaneous</td>\n",
       "      <td>Adrenal Gland</td>\n",
       "      <td>product</td>\n",
       "      <td>c_to_m</td>\n",
       "      <td>74309.645691</td>\n",
       "      <td>GTEx</td>\n",
       "      <td>all</td>\n",
       "      <td>exp</td>\n",
       "    </tr>\n",
       "    <tr>\n",
       "      <th>1</th>\n",
       "      <td>Adipose - Subcutaneous</td>\n",
       "      <td>Adrenal Gland</td>\n",
       "      <td>product</td>\n",
       "      <td>m_to_c</td>\n",
       "      <td>73631.905368</td>\n",
       "      <td>GTEx</td>\n",
       "      <td>all</td>\n",
       "      <td>exp</td>\n",
       "    </tr>\n",
       "  </tbody>\n",
       "</table>\n",
       "</div>"
      ],
      "text/plain": [
       "            cancer_tissue metastasis_tissue interaction_weight direction  \\\n",
       "0  Adipose - Subcutaneous     Adrenal Gland            product    c_to_m   \n",
       "1  Adipose - Subcutaneous     Adrenal Gland            product    m_to_c   \n",
       "\n",
       "          value tissue_dataset interactions gene_weights  \n",
       "0  74309.645691           GTEx          all          exp  \n",
       "1  73631.905368           GTEx          all          exp  "
      ]
     },
     "execution_count": 42,
     "metadata": {},
     "output_type": "execute_result"
    }
   ],
   "source": [
    "# Concatenate reverse dataframes\n",
    "weighted_undir_network = pd.concat(\n",
    "    [weighted_undir, weighted_undir_rev], ignore_index=True).rename({\n",
    "    'tissue1': 'cancer_tissue',\n",
    "    'tissue2': 'metastasis_tissue'\n",
    "}, axis=1)\n",
    "weighted_dir_network = pd.concat(\n",
    "    [weighted_dir, weighted_dir_rev], ignore_index=True).rename({\n",
    "    'tissue1': 'cancer_tissue',\n",
    "    'tissue2': 'metastasis_tissue'\n",
    "}, axis=1)\n",
    "weighted_dir_network.head(2)"
   ]
  },
  {
   "cell_type": "code",
   "execution_count": 43,
   "metadata": {},
   "outputs": [
    {
     "name": "stdout",
     "output_type": "stream",
     "text": [
      "(120672, 14)\n",
      "(241344, 15)\n"
     ]
    }
   ],
   "source": [
    "# merge pairs_records with weighted networks\n",
    "weighted_undir_pairs = pd.merge(\n",
    "    pairs_records,\n",
    "    weighted_undir_network,\n",
    "    on=['cancer_tissue', 'metastasis_tissue', 'tissue_dataset'])\n",
    "print(weighted_undir_pairs.shape)\n",
    "weighted_dir_pairs = pd.merge(\n",
    "    pairs_records,\n",
    "    weighted_dir_network,\n",
    "    on=['cancer_tissue', 'metastasis_tissue', 'tissue_dataset'])\n",
    "print(weighted_dir_pairs.shape)"
   ]
  },
  {
   "cell_type": "code",
   "execution_count": 44,
   "metadata": {},
   "outputs": [],
   "source": [
    "# export results\n",
    "weighted_undir_pairs.to_csv('intercell_networks/undirected_weighted_network_stats.csv', index=False)\n",
    "weighted_dir_pairs.to_csv('intercell_networks/directed_weighted_network_stats.csv', index=False)"
   ]
  },
  {
   "cell_type": "markdown",
   "metadata": {
    "jp-MarkdownHeadingCollapsed": true,
    "tags": []
   },
   "source": [
    "# Random weighted intercellular networks (z-score)\n",
    "\n",
    "Since the z-score will be used in the cancer-wise analysis, we will use only grouped gene expression.\n",
    "Weights used:\n",
    "* **gene** - normalization by the maximum expression value.\n",
    "* **interaction** - product of gene weights."
   ]
  },
  {
   "cell_type": "code",
   "execution_count": 11,
   "metadata": {},
   "outputs": [
    {
     "data": {
      "text/html": [
       "<div>\n",
       "<style scoped>\n",
       "    .dataframe tbody tr th:only-of-type {\n",
       "        vertical-align: middle;\n",
       "    }\n",
       "\n",
       "    .dataframe tbody tr th {\n",
       "        vertical-align: top;\n",
       "    }\n",
       "\n",
       "    .dataframe thead th {\n",
       "        text-align: right;\n",
       "    }\n",
       "</style>\n",
       "<table border=\"1\" class=\"dataframe\">\n",
       "  <thead>\n",
       "    <tr style=\"text-align: right;\">\n",
       "      <th>Tissue</th>\n",
       "      <th>adipose_tissue</th>\n",
       "      <th>adrenal_gland</th>\n",
       "      <th>artery</th>\n",
       "      <th>bladder</th>\n",
       "      <th>blood</th>\n",
       "      <th>brain</th>\n",
       "      <th>breast</th>\n",
       "      <th>cervix</th>\n",
       "      <th>colorectum</th>\n",
       "      <th>fallopian_tube</th>\n",
       "      <th>...</th>\n",
       "      <th>skeletal_muscle</th>\n",
       "      <th>skin</th>\n",
       "      <th>small_intestine</th>\n",
       "      <th>spinal_cord</th>\n",
       "      <th>spleen</th>\n",
       "      <th>stomach</th>\n",
       "      <th>testis</th>\n",
       "      <th>thyroid</th>\n",
       "      <th>uterus</th>\n",
       "      <th>vagina</th>\n",
       "    </tr>\n",
       "    <tr>\n",
       "      <th>Gene name</th>\n",
       "      <th></th>\n",
       "      <th></th>\n",
       "      <th></th>\n",
       "      <th></th>\n",
       "      <th></th>\n",
       "      <th></th>\n",
       "      <th></th>\n",
       "      <th></th>\n",
       "      <th></th>\n",
       "      <th></th>\n",
       "      <th></th>\n",
       "      <th></th>\n",
       "      <th></th>\n",
       "      <th></th>\n",
       "      <th></th>\n",
       "      <th></th>\n",
       "      <th></th>\n",
       "      <th></th>\n",
       "      <th></th>\n",
       "      <th></th>\n",
       "      <th></th>\n",
       "    </tr>\n",
       "  </thead>\n",
       "  <tbody>\n",
       "    <tr>\n",
       "      <th>A1BG</th>\n",
       "      <td>0.239567</td>\n",
       "      <td>0.146703</td>\n",
       "      <td>0.335357</td>\n",
       "      <td>0.192892</td>\n",
       "      <td>0.165480</td>\n",
       "      <td>0.264271</td>\n",
       "      <td>0.293534</td>\n",
       "      <td>0.428159</td>\n",
       "      <td>0.164810</td>\n",
       "      <td>0.357282</td>\n",
       "      <td>...</td>\n",
       "      <td>0.063460</td>\n",
       "      <td>0.197779</td>\n",
       "      <td>0.223315</td>\n",
       "      <td>0.390092</td>\n",
       "      <td>0.332783</td>\n",
       "      <td>0.142852</td>\n",
       "      <td>0.155928</td>\n",
       "      <td>0.286005</td>\n",
       "      <td>0.364335</td>\n",
       "      <td>0.312600</td>\n",
       "    </tr>\n",
       "    <tr>\n",
       "      <th>A1BG-AS1</th>\n",
       "      <td>0.471835</td>\n",
       "      <td>0.325448</td>\n",
       "      <td>0.697551</td>\n",
       "      <td>0.375882</td>\n",
       "      <td>0.380347</td>\n",
       "      <td>0.464646</td>\n",
       "      <td>0.625305</td>\n",
       "      <td>0.900366</td>\n",
       "      <td>0.409012</td>\n",
       "      <td>0.805123</td>\n",
       "      <td>...</td>\n",
       "      <td>0.095016</td>\n",
       "      <td>0.399626</td>\n",
       "      <td>0.578627</td>\n",
       "      <td>0.500254</td>\n",
       "      <td>0.858265</td>\n",
       "      <td>0.321345</td>\n",
       "      <td>0.228431</td>\n",
       "      <td>0.715573</td>\n",
       "      <td>0.915976</td>\n",
       "      <td>0.670038</td>\n",
       "    </tr>\n",
       "  </tbody>\n",
       "</table>\n",
       "<p>2 rows × 33 columns</p>\n",
       "</div>"
      ],
      "text/plain": [
       "Tissue     adipose_tissue  adrenal_gland    artery   bladder     blood  \\\n",
       "Gene name                                                                \n",
       "A1BG             0.239567       0.146703  0.335357  0.192892  0.165480   \n",
       "A1BG-AS1         0.471835       0.325448  0.697551  0.375882  0.380347   \n",
       "\n",
       "Tissue        brain    breast    cervix  colorectum  fallopian_tube  ...  \\\n",
       "Gene name                                                            ...   \n",
       "A1BG       0.264271  0.293534  0.428159    0.164810        0.357282  ...   \n",
       "A1BG-AS1   0.464646  0.625305  0.900366    0.409012        0.805123  ...   \n",
       "\n",
       "Tissue     skeletal_muscle      skin  small_intestine  spinal_cord    spleen  \\\n",
       "Gene name                                                                      \n",
       "A1BG              0.063460  0.197779         0.223315     0.390092  0.332783   \n",
       "A1BG-AS1          0.095016  0.399626         0.578627     0.500254  0.858265   \n",
       "\n",
       "Tissue      stomach    testis   thyroid    uterus    vagina  \n",
       "Gene name                                                    \n",
       "A1BG       0.142852  0.155928  0.286005  0.364335  0.312600  \n",
       "A1BG-AS1   0.321345  0.228431  0.715573  0.915976  0.670038  \n",
       "\n",
       "[2 rows x 33 columns]"
      ]
     },
     "metadata": {},
     "output_type": "display_data"
    },
    {
     "data": {
      "text/html": [
       "<div>\n",
       "<style scoped>\n",
       "    .dataframe tbody tr th:only-of-type {\n",
       "        vertical-align: middle;\n",
       "    }\n",
       "\n",
       "    .dataframe tbody tr th {\n",
       "        vertical-align: top;\n",
       "    }\n",
       "\n",
       "    .dataframe thead th {\n",
       "        text-align: right;\n",
       "    }\n",
       "</style>\n",
       "<table border=\"1\" class=\"dataframe\">\n",
       "  <thead>\n",
       "    <tr style=\"text-align: right;\">\n",
       "      <th>Tissue</th>\n",
       "      <th>adipose_tissue</th>\n",
       "      <th>adrenal_gland</th>\n",
       "      <th>appendix</th>\n",
       "      <th>bladder</th>\n",
       "      <th>bone</th>\n",
       "      <th>brain</th>\n",
       "      <th>breast</th>\n",
       "      <th>cervix</th>\n",
       "      <th>colorectum</th>\n",
       "      <th>epididymis</th>\n",
       "      <th>...</th>\n",
       "      <th>spinal_cord</th>\n",
       "      <th>spleen</th>\n",
       "      <th>stomach</th>\n",
       "      <th>testis</th>\n",
       "      <th>thymus</th>\n",
       "      <th>thyroid</th>\n",
       "      <th>tongue</th>\n",
       "      <th>tonsil</th>\n",
       "      <th>uterus</th>\n",
       "      <th>vagina</th>\n",
       "    </tr>\n",
       "    <tr>\n",
       "      <th>Gene name</th>\n",
       "      <th></th>\n",
       "      <th></th>\n",
       "      <th></th>\n",
       "      <th></th>\n",
       "      <th></th>\n",
       "      <th></th>\n",
       "      <th></th>\n",
       "      <th></th>\n",
       "      <th></th>\n",
       "      <th></th>\n",
       "      <th></th>\n",
       "      <th></th>\n",
       "      <th></th>\n",
       "      <th></th>\n",
       "      <th></th>\n",
       "      <th></th>\n",
       "      <th></th>\n",
       "      <th></th>\n",
       "      <th></th>\n",
       "      <th></th>\n",
       "      <th></th>\n",
       "    </tr>\n",
       "  </thead>\n",
       "  <tbody>\n",
       "    <tr>\n",
       "      <th>A1BG</th>\n",
       "      <td>0.013387</td>\n",
       "      <td>0.013387</td>\n",
       "      <td>0.013387</td>\n",
       "      <td>0.0</td>\n",
       "      <td>0.013387</td>\n",
       "      <td>0.013387</td>\n",
       "      <td>0.013387</td>\n",
       "      <td>0.013387</td>\n",
       "      <td>0.000000</td>\n",
       "      <td>0.0</td>\n",
       "      <td>...</td>\n",
       "      <td>0.013387</td>\n",
       "      <td>0.074533</td>\n",
       "      <td>0.013387</td>\n",
       "      <td>0.0</td>\n",
       "      <td>0.0</td>\n",
       "      <td>0.013387</td>\n",
       "      <td>0.0</td>\n",
       "      <td>0.0</td>\n",
       "      <td>0.025609</td>\n",
       "      <td>0.0</td>\n",
       "    </tr>\n",
       "    <tr>\n",
       "      <th>A1CF</th>\n",
       "      <td>0.000000</td>\n",
       "      <td>0.000000</td>\n",
       "      <td>0.094284</td>\n",
       "      <td>0.0</td>\n",
       "      <td>0.000000</td>\n",
       "      <td>0.000000</td>\n",
       "      <td>0.000000</td>\n",
       "      <td>0.000000</td>\n",
       "      <td>0.494992</td>\n",
       "      <td>0.0</td>\n",
       "      <td>...</td>\n",
       "      <td>0.000000</td>\n",
       "      <td>0.000000</td>\n",
       "      <td>0.139047</td>\n",
       "      <td>0.0</td>\n",
       "      <td>0.0</td>\n",
       "      <td>0.000000</td>\n",
       "      <td>0.0</td>\n",
       "      <td>0.0</td>\n",
       "      <td>0.000000</td>\n",
       "      <td>0.0</td>\n",
       "    </tr>\n",
       "  </tbody>\n",
       "</table>\n",
       "<p>2 rows × 42 columns</p>\n",
       "</div>"
      ],
      "text/plain": [
       "Tissue     adipose_tissue  adrenal_gland  appendix  bladder      bone  \\\n",
       "Gene name                                                               \n",
       "A1BG             0.013387       0.013387  0.013387      0.0  0.013387   \n",
       "A1CF             0.000000       0.000000  0.094284      0.0  0.000000   \n",
       "\n",
       "Tissue        brain    breast    cervix  colorectum  epididymis  ...  \\\n",
       "Gene name                                                        ...   \n",
       "A1BG       0.013387  0.013387  0.013387    0.000000         0.0  ...   \n",
       "A1CF       0.000000  0.000000  0.000000    0.494992         0.0  ...   \n",
       "\n",
       "Tissue     spinal_cord    spleen   stomach  testis  thymus   thyroid  tongue  \\\n",
       "Gene name                                                                      \n",
       "A1BG          0.013387  0.074533  0.013387     0.0     0.0  0.013387     0.0   \n",
       "A1CF          0.000000  0.000000  0.139047     0.0     0.0  0.000000     0.0   \n",
       "\n",
       "Tissue     tonsil    uterus  vagina  \n",
       "Gene name                            \n",
       "A1BG          0.0  0.025609     0.0  \n",
       "A1CF          0.0  0.000000     0.0  \n",
       "\n",
       "[2 rows x 42 columns]"
      ]
     },
     "metadata": {},
     "output_type": "display_data"
    }
   ],
   "source": [
    "# Compute weights for each gene\n",
    "gene_weights = {}\n",
    "for d in grouped_gene_expression:\n",
    "    \n",
    "    if d == 'Consensus':\n",
    "        val = 'log2(nTPM)'\n",
    "    else:\n",
    "        val = 'log2(TPM)'\n",
    "    \n",
    "    x = grouped_gene_expression[d].pivot_table(values=val, columns='Tissue', index='Gene name')\n",
    "    \n",
    "    gene_weights[d] = x.transform(lambda x: x/x.max(), axis=1)\n",
    "    \n",
    "    display(gene_weights[d].head(2))"
   ]
  },
  {
   "cell_type": "markdown",
   "metadata": {
    "jp-MarkdownHeadingCollapsed": true,
    "tags": []
   },
   "source": [
    "## Undirected interactions"
   ]
  },
  {
   "cell_type": "markdown",
   "metadata": {
    "jp-MarkdownHeadingCollapsed": true,
    "tags": []
   },
   "source": [
    "### Shuffle Interactions"
   ]
  },
  {
   "cell_type": "code",
   "execution_count": 12,
   "metadata": {},
   "outputs": [
    {
     "data": {
      "application/vnd.jupyter.widget-view+json": {
       "model_id": "59d9ac0044ec478f9e8fd322869b44a6",
       "version_major": 2,
       "version_minor": 0
      },
      "text/plain": [
       "  0%|          | 0/2 [00:00<?, ?it/s]"
      ]
     },
     "metadata": {},
     "output_type": "display_data"
    },
    {
     "data": {
      "application/vnd.jupyter.widget-view+json": {
       "model_id": "4d39ed4c9563413ea4b11d94b9e18007",
       "version_major": 2,
       "version_minor": 0
      },
      "text/plain": [
       "  0%|          | 0/2 [00:00<?, ?it/s]"
      ]
     },
     "metadata": {},
     "output_type": "display_data"
    },
    {
     "data": {
      "application/vnd.jupyter.widget-view+json": {
       "model_id": "ff9c44535f0a43ae9363a2140676f30b",
       "version_major": 2,
       "version_minor": 0
      },
      "text/plain": [
       "  0%|          | 0/2 [00:00<?, ?it/s]"
      ]
     },
     "metadata": {},
     "output_type": "display_data"
    },
    {
     "data": {
      "text/html": [
       "<div>\n",
       "<style scoped>\n",
       "    .dataframe tbody tr th:only-of-type {\n",
       "        vertical-align: middle;\n",
       "    }\n",
       "\n",
       "    .dataframe tbody tr th {\n",
       "        vertical-align: top;\n",
       "    }\n",
       "\n",
       "    .dataframe thead th {\n",
       "        text-align: right;\n",
       "    }\n",
       "</style>\n",
       "<table border=\"1\" class=\"dataframe\">\n",
       "  <thead>\n",
       "    <tr style=\"text-align: right;\">\n",
       "      <th></th>\n",
       "      <th>cancer_tissue</th>\n",
       "      <th>metastasis_tissue</th>\n",
       "      <th>value</th>\n",
       "      <th>dist</th>\n",
       "      <th>mean</th>\n",
       "      <th>std</th>\n",
       "      <th>z_score</th>\n",
       "      <th>interactions</th>\n",
       "      <th>tissue_dataset</th>\n",
       "    </tr>\n",
       "  </thead>\n",
       "  <tbody>\n",
       "    <tr>\n",
       "      <th>0</th>\n",
       "      <td>adipose_tissue</td>\n",
       "      <td>adrenal_gland</td>\n",
       "      <td>3220.720795</td>\n",
       "      <td>[3108.0946182859775, 3108.0946182859775, 3108....</td>\n",
       "      <td>3108.745322</td>\n",
       "      <td>9.680097</td>\n",
       "      <td>11.567598</td>\n",
       "      <td>all</td>\n",
       "      <td>GTEx</td>\n",
       "    </tr>\n",
       "    <tr>\n",
       "      <th>1</th>\n",
       "      <td>adipose_tissue</td>\n",
       "      <td>artery</td>\n",
       "      <td>4295.626281</td>\n",
       "      <td>[4122.627038679531, 4122.627038679531, 4122.62...</td>\n",
       "      <td>4125.967484</td>\n",
       "      <td>9.323613</td>\n",
       "      <td>18.196679</td>\n",
       "      <td>all</td>\n",
       "      <td>GTEx</td>\n",
       "    </tr>\n",
       "    <tr>\n",
       "      <th>2</th>\n",
       "      <td>adipose_tissue</td>\n",
       "      <td>bladder</td>\n",
       "      <td>4116.187029</td>\n",
       "      <td>[3956.580560824228, 3956.580560824228, 3956.58...</td>\n",
       "      <td>3959.132704</td>\n",
       "      <td>8.210483</td>\n",
       "      <td>19.128512</td>\n",
       "      <td>all</td>\n",
       "      <td>GTEx</td>\n",
       "    </tr>\n",
       "    <tr>\n",
       "      <th>3</th>\n",
       "      <td>adipose_tissue</td>\n",
       "      <td>blood</td>\n",
       "      <td>2428.545290</td>\n",
       "      <td>[2448.566786666233, 2448.566786666233, 2448.56...</td>\n",
       "      <td>2434.136031</td>\n",
       "      <td>13.484003</td>\n",
       "      <td>-0.414620</td>\n",
       "      <td>all</td>\n",
       "      <td>GTEx</td>\n",
       "    </tr>\n",
       "    <tr>\n",
       "      <th>4</th>\n",
       "      <td>adipose_tissue</td>\n",
       "      <td>brain</td>\n",
       "      <td>2721.047268</td>\n",
       "      <td>[2675.930644876973, 2675.930644876973, 2675.93...</td>\n",
       "      <td>2672.585525</td>\n",
       "      <td>11.035600</td>\n",
       "      <td>4.391401</td>\n",
       "      <td>all</td>\n",
       "      <td>GTEx</td>\n",
       "    </tr>\n",
       "  </tbody>\n",
       "</table>\n",
       "</div>"
      ],
      "text/plain": [
       "    cancer_tissue metastasis_tissue        value  \\\n",
       "0  adipose_tissue     adrenal_gland  3220.720795   \n",
       "1  adipose_tissue            artery  4295.626281   \n",
       "2  adipose_tissue           bladder  4116.187029   \n",
       "3  adipose_tissue             blood  2428.545290   \n",
       "4  adipose_tissue             brain  2721.047268   \n",
       "\n",
       "                                                dist         mean        std  \\\n",
       "0  [3108.0946182859775, 3108.0946182859775, 3108....  3108.745322   9.680097   \n",
       "1  [4122.627038679531, 4122.627038679531, 4122.62...  4125.967484   9.323613   \n",
       "2  [3956.580560824228, 3956.580560824228, 3956.58...  3959.132704   8.210483   \n",
       "3  [2448.566786666233, 2448.566786666233, 2448.56...  2434.136031  13.484003   \n",
       "4  [2675.930644876973, 2675.930644876973, 2675.93...  2672.585525  11.035600   \n",
       "\n",
       "     z_score interactions tissue_dataset  \n",
       "0  11.567598          all           GTEx  \n",
       "1  18.196679          all           GTEx  \n",
       "2  19.128512          all           GTEx  \n",
       "3  -0.414620          all           GTEx  \n",
       "4   4.391401          all           GTEx  "
      ]
     },
     "execution_count": 12,
     "metadata": {},
     "output_type": "execute_result"
    }
   ],
   "source": [
    "importlib.reload(network_functions)\n",
    "\n",
    "network_stats = []\n",
    "for inter_kind in tqdm(['all', 'curated']):\n",
    "    \n",
    "    if inter_kind == 'all':\n",
    "        \n",
    "        inter_graph = intercell\n",
    "    else:\n",
    "        inter_graph = intercell_curated\n",
    "\n",
    "    for d in tqdm(['GTEx', 'Consensus']):\n",
    "        \n",
    "        stats = network_functions.random_grouped_weighted_intercell_networks(\n",
    "            gene_weights[d],\n",
    "            inter_graph,\n",
    "            direction=False,\n",
    "            iterations=1000,\n",
    "            n_jobs=18,\n",
    "            extra_labels=[\n",
    "                ('interactions', inter_kind),\n",
    "                ('tissue_dataset', d)\n",
    "            ],\n",
    "        )\n",
    "        \n",
    "        network_stats.extend(stats)\n",
    "        \n",
    "network_stats = pd.DataFrame(network_stats)\n",
    "network_stats.head()"
   ]
  },
  {
   "cell_type": "code",
   "execution_count": 14,
   "metadata": {},
   "outputs": [
    {
     "name": "stdout",
     "output_type": "stream",
     "text": [
      "<class 'pandas.core.frame.DataFrame'>\n",
      "RangeIndex: 2778 entries, 0 to 2777\n",
      "Data columns (total 9 columns):\n",
      " #   Column             Non-Null Count  Dtype  \n",
      "---  ------             --------------  -----  \n",
      " 0   metastasis_tissue  2778 non-null   object \n",
      " 1   cancer_tissue      2778 non-null   object \n",
      " 2   value              2778 non-null   float64\n",
      " 3   dist               2778 non-null   object \n",
      " 4   mean               2778 non-null   float64\n",
      " 5   std                2778 non-null   float64\n",
      " 6   z_score            2778 non-null   float64\n",
      " 7   interactions       2778 non-null   object \n",
      " 8   tissue_dataset     2778 non-null   object \n",
      "dtypes: float64(4), object(5)\n",
      "memory usage: 195.5+ KB\n"
     ]
    }
   ],
   "source": [
    "# to get all tissue pairs, we'll create a dataframe where we reverse the tissue order\n",
    "network_stats_rev = network_stats.copy().rename({\n",
    "    'cancer_tissue':'metastasis_tissue',\n",
    "    'metastasis_tissue':'cancer_tissue',\n",
    "}, axis=1)\n",
    "\n",
    "network_stats_rev.info()"
   ]
  },
  {
   "cell_type": "code",
   "execution_count": 16,
   "metadata": {},
   "outputs": [
    {
     "name": "stdout",
     "output_type": "stream",
     "text": [
      "(2778, 9)\n",
      "(5556, 9)\n"
     ]
    },
    {
     "data": {
      "text/html": [
       "<div>\n",
       "<style scoped>\n",
       "    .dataframe tbody tr th:only-of-type {\n",
       "        vertical-align: middle;\n",
       "    }\n",
       "\n",
       "    .dataframe tbody tr th {\n",
       "        vertical-align: top;\n",
       "    }\n",
       "\n",
       "    .dataframe thead th {\n",
       "        text-align: right;\n",
       "    }\n",
       "</style>\n",
       "<table border=\"1\" class=\"dataframe\">\n",
       "  <thead>\n",
       "    <tr style=\"text-align: right;\">\n",
       "      <th></th>\n",
       "      <th>cancer_tissue</th>\n",
       "      <th>metastasis_tissue</th>\n",
       "      <th>value</th>\n",
       "      <th>dist</th>\n",
       "      <th>mean</th>\n",
       "      <th>std</th>\n",
       "      <th>z_score</th>\n",
       "      <th>interactions</th>\n",
       "      <th>tissue_dataset</th>\n",
       "    </tr>\n",
       "  </thead>\n",
       "  <tbody>\n",
       "    <tr>\n",
       "      <th>0</th>\n",
       "      <td>adipose_tissue</td>\n",
       "      <td>adrenal_gland</td>\n",
       "      <td>3220.720795</td>\n",
       "      <td>[3108.0946182859775, 3108.0946182859775, 3108....</td>\n",
       "      <td>3108.745322</td>\n",
       "      <td>9.680097</td>\n",
       "      <td>11.567598</td>\n",
       "      <td>all</td>\n",
       "      <td>GTEx</td>\n",
       "    </tr>\n",
       "    <tr>\n",
       "      <th>1</th>\n",
       "      <td>adipose_tissue</td>\n",
       "      <td>artery</td>\n",
       "      <td>4295.626281</td>\n",
       "      <td>[4122.627038679531, 4122.627038679531, 4122.62...</td>\n",
       "      <td>4125.967484</td>\n",
       "      <td>9.323613</td>\n",
       "      <td>18.196679</td>\n",
       "      <td>all</td>\n",
       "      <td>GTEx</td>\n",
       "    </tr>\n",
       "  </tbody>\n",
       "</table>\n",
       "</div>"
      ],
      "text/plain": [
       "    cancer_tissue metastasis_tissue        value  \\\n",
       "0  adipose_tissue     adrenal_gland  3220.720795   \n",
       "1  adipose_tissue            artery  4295.626281   \n",
       "\n",
       "                                                dist         mean       std  \\\n",
       "0  [3108.0946182859775, 3108.0946182859775, 3108....  3108.745322  9.680097   \n",
       "1  [4122.627038679531, 4122.627038679531, 4122.62...  4125.967484  9.323613   \n",
       "\n",
       "     z_score interactions tissue_dataset  \n",
       "0  11.567598          all           GTEx  \n",
       "1  18.196679          all           GTEx  "
      ]
     },
     "execution_count": 16,
     "metadata": {},
     "output_type": "execute_result"
    }
   ],
   "source": [
    "# Concatenate reverse dataframes\n",
    "network_stats_full = pd.concat(\n",
    "    [network_stats, network_stats_rev], ignore_index=True)\n",
    "print(network_stats.shape)\n",
    "print(network_stats_full.shape)\n",
    "network_stats_full.head(2)"
   ]
  },
  {
   "cell_type": "code",
   "execution_count": 21,
   "metadata": {},
   "outputs": [],
   "source": [
    "network_stats_full.to_csv(\n",
    "    net_dir+'undirected_weighted_network_stats_zscore.csv',\n",
    "    index=False,\n",
    "    columns=network_stats_full.columns.drop('dist')\n",
    ")"
   ]
  },
  {
   "cell_type": "code",
   "execution_count": 24,
   "metadata": {},
   "outputs": [],
   "source": [
    "# convert random distributions to an array an save\n",
    "dist = np.array(network_stats_full.dist.to_list())\n",
    "with open(net_dir+'weighted_net_random_grouped_dist.npy', 'wb') as f:\n",
    "    np.save(f, dist)"
   ]
  },
  {
   "cell_type": "markdown",
   "metadata": {
    "jp-MarkdownHeadingCollapsed": true,
    "tags": []
   },
   "source": [
    "### Shuffle gene weights"
   ]
  },
  {
   "cell_type": "code",
   "execution_count": 25,
   "metadata": {},
   "outputs": [
    {
     "data": {
      "application/vnd.jupyter.widget-view+json": {
       "model_id": "25b72ca595d14bf1815c7701d70e39de",
       "version_major": 2,
       "version_minor": 0
      },
      "text/plain": [
       "  0%|          | 0/2 [00:00<?, ?it/s]"
      ]
     },
     "metadata": {},
     "output_type": "display_data"
    },
    {
     "data": {
      "application/vnd.jupyter.widget-view+json": {
       "model_id": "983aa0f50507492a986ad0ead7e3139b",
       "version_major": 2,
       "version_minor": 0
      },
      "text/plain": [
       "  0%|          | 0/2 [00:00<?, ?it/s]"
      ]
     },
     "metadata": {},
     "output_type": "display_data"
    },
    {
     "data": {
      "application/vnd.jupyter.widget-view+json": {
       "model_id": "d631add307394e1585e55e57a13755b1",
       "version_major": 2,
       "version_minor": 0
      },
      "text/plain": [
       "  0%|          | 0/2 [00:00<?, ?it/s]"
      ]
     },
     "metadata": {},
     "output_type": "display_data"
    },
    {
     "data": {
      "text/html": [
       "<div>\n",
       "<style scoped>\n",
       "    .dataframe tbody tr th:only-of-type {\n",
       "        vertical-align: middle;\n",
       "    }\n",
       "\n",
       "    .dataframe tbody tr th {\n",
       "        vertical-align: top;\n",
       "    }\n",
       "\n",
       "    .dataframe thead th {\n",
       "        text-align: right;\n",
       "    }\n",
       "</style>\n",
       "<table border=\"1\" class=\"dataframe\">\n",
       "  <thead>\n",
       "    <tr style=\"text-align: right;\">\n",
       "      <th></th>\n",
       "      <th>cancer_tissue</th>\n",
       "      <th>metastasis_tissue</th>\n",
       "      <th>value</th>\n",
       "      <th>interactions</th>\n",
       "      <th>tissue_dataset</th>\n",
       "      <th>mean</th>\n",
       "      <th>std</th>\n",
       "      <th>z_score</th>\n",
       "    </tr>\n",
       "  </thead>\n",
       "  <tbody>\n",
       "    <tr>\n",
       "      <th>0</th>\n",
       "      <td>adipose_tissue</td>\n",
       "      <td>adrenal_gland</td>\n",
       "      <td>3220.720795</td>\n",
       "      <td>all</td>\n",
       "      <td>GTEx</td>\n",
       "      <td>3216.957409</td>\n",
       "      <td>94.199510</td>\n",
       "      <td>0.039951</td>\n",
       "    </tr>\n",
       "    <tr>\n",
       "      <th>1</th>\n",
       "      <td>adipose_tissue</td>\n",
       "      <td>artery</td>\n",
       "      <td>4295.626281</td>\n",
       "      <td>all</td>\n",
       "      <td>GTEx</td>\n",
       "      <td>3222.417858</td>\n",
       "      <td>91.265147</td>\n",
       "      <td>11.759236</td>\n",
       "    </tr>\n",
       "    <tr>\n",
       "      <th>2</th>\n",
       "      <td>adipose_tissue</td>\n",
       "      <td>bladder</td>\n",
       "      <td>4116.187029</td>\n",
       "      <td>all</td>\n",
       "      <td>GTEx</td>\n",
       "      <td>3216.464407</td>\n",
       "      <td>92.881717</td>\n",
       "      <td>9.686757</td>\n",
       "    </tr>\n",
       "    <tr>\n",
       "      <th>3</th>\n",
       "      <td>adipose_tissue</td>\n",
       "      <td>blood</td>\n",
       "      <td>2428.545290</td>\n",
       "      <td>all</td>\n",
       "      <td>GTEx</td>\n",
       "      <td>3218.661602</td>\n",
       "      <td>91.874012</td>\n",
       "      <td>-8.599998</td>\n",
       "    </tr>\n",
       "    <tr>\n",
       "      <th>4</th>\n",
       "      <td>adipose_tissue</td>\n",
       "      <td>brain</td>\n",
       "      <td>2721.047268</td>\n",
       "      <td>all</td>\n",
       "      <td>GTEx</td>\n",
       "      <td>3219.202528</td>\n",
       "      <td>93.014273</td>\n",
       "      <td>-5.355686</td>\n",
       "    </tr>\n",
       "  </tbody>\n",
       "</table>\n",
       "</div>"
      ],
      "text/plain": [
       "    cancer_tissue metastasis_tissue        value interactions tissue_dataset  \\\n",
       "0  adipose_tissue     adrenal_gland  3220.720795          all           GTEx   \n",
       "1  adipose_tissue            artery  4295.626281          all           GTEx   \n",
       "2  adipose_tissue           bladder  4116.187029          all           GTEx   \n",
       "3  adipose_tissue             blood  2428.545290          all           GTEx   \n",
       "4  adipose_tissue             brain  2721.047268          all           GTEx   \n",
       "\n",
       "          mean        std    z_score  \n",
       "0  3216.957409  94.199510   0.039951  \n",
       "1  3222.417858  91.265147  11.759236  \n",
       "2  3216.464407  92.881717   9.686757  \n",
       "3  3218.661602  91.874012  -8.599998  \n",
       "4  3219.202528  93.014273  -5.355686  "
      ]
     },
     "execution_count": 25,
     "metadata": {},
     "output_type": "execute_result"
    }
   ],
   "source": [
    "network_stats = pd.DataFrame([])\n",
    "dist_arrays = []\n",
    "for inter_kind in tqdm(['all', 'curated']): #\n",
    "    \n",
    "    if inter_kind == 'all':\n",
    "        \n",
    "        inter_graph = intercell\n",
    "    else:\n",
    "        inter_graph = intercell_curated\n",
    "\n",
    "    for d in tqdm(['GTEx', 'Consensus']): #\n",
    "        \n",
    "        # compute the normal intercellular networks\n",
    "        normal_net = network_functions.grouped_weighted_intercell_networks(\n",
    "                        gene_weights[d],\n",
    "                        inter_graph,\n",
    "                        direction=False,\n",
    "                        extra_labels=[\n",
    "                            ('interactions', inter_kind),\n",
    "                            ('tissue_dataset', d)\n",
    "                        ]\n",
    "        )\n",
    "        \n",
    "        random_net = Parallel(n_jobs=18)(\n",
    "            delayed(network_functions.grouped_weighted_intercell_networks)(\n",
    "                gene_weights[d],\n",
    "                inter_graph,\n",
    "                direction=False,\n",
    "                extra_labels=[\n",
    "                    ('interactions', inter_kind),\n",
    "                    ('tissue_dataset', d)\n",
    "                ],\n",
    "                shuffle_weights=True\n",
    "            ) for i in range(1000))\n",
    "        \n",
    "        normal_net = pd.DataFrame(normal_net)\n",
    "        \n",
    "        # create an array with the random network distributions for all pairs\n",
    "        \n",
    "        dist_array = np.array([i['value'] for i in random_net])\n",
    "        \n",
    "        # compute z-score\n",
    "        normal_net['mean'] = np.mean(dist_array, axis=0)\n",
    "        normal_net['std'] = np.std(dist_array, axis=0)\n",
    "        normal_net['z_score'] = (normal_net['value'] - normal_net['mean'])/normal_net['std']\n",
    "        \n",
    "        network_stats = pd.concat([network_stats, normal_net])\n",
    "        dist_arrays.append(dist_array)\n",
    "\n",
    "network_stats.head()"
   ]
  },
  {
   "cell_type": "code",
   "execution_count": 27,
   "metadata": {},
   "outputs": [
    {
     "name": "stdout",
     "output_type": "stream",
     "text": [
      "<class 'pandas.core.frame.DataFrame'>\n",
      "Int64Index: 2778 entries, 0 to 860\n",
      "Data columns (total 8 columns):\n",
      " #   Column             Non-Null Count  Dtype  \n",
      "---  ------             --------------  -----  \n",
      " 0   metastasis_tissue  2778 non-null   object \n",
      " 1   cancer_tissue      2778 non-null   object \n",
      " 2   value              2778 non-null   float64\n",
      " 3   interactions       2778 non-null   object \n",
      " 4   tissue_dataset     2778 non-null   object \n",
      " 5   mean               2778 non-null   float64\n",
      " 6   std                2778 non-null   float64\n",
      " 7   z_score            2778 non-null   float64\n",
      "dtypes: float64(4), object(4)\n",
      "memory usage: 195.3+ KB\n"
     ]
    }
   ],
   "source": [
    "# to get all tissue pairs, we'll create a dataframe where we reverse the tissue order\n",
    "network_stats_rev = network_stats.copy().rename({\n",
    "    'cancer_tissue':'metastasis_tissue',\n",
    "    'metastasis_tissue':'cancer_tissue',\n",
    "}, axis=1)\n",
    "\n",
    "network_stats_rev.info()"
   ]
  },
  {
   "cell_type": "code",
   "execution_count": 28,
   "metadata": {},
   "outputs": [
    {
     "name": "stdout",
     "output_type": "stream",
     "text": [
      "(2778, 8)\n",
      "(5556, 8)\n"
     ]
    },
    {
     "data": {
      "text/html": [
       "<div>\n",
       "<style scoped>\n",
       "    .dataframe tbody tr th:only-of-type {\n",
       "        vertical-align: middle;\n",
       "    }\n",
       "\n",
       "    .dataframe tbody tr th {\n",
       "        vertical-align: top;\n",
       "    }\n",
       "\n",
       "    .dataframe thead th {\n",
       "        text-align: right;\n",
       "    }\n",
       "</style>\n",
       "<table border=\"1\" class=\"dataframe\">\n",
       "  <thead>\n",
       "    <tr style=\"text-align: right;\">\n",
       "      <th></th>\n",
       "      <th>cancer_tissue</th>\n",
       "      <th>metastasis_tissue</th>\n",
       "      <th>value</th>\n",
       "      <th>interactions</th>\n",
       "      <th>tissue_dataset</th>\n",
       "      <th>mean</th>\n",
       "      <th>std</th>\n",
       "      <th>z_score</th>\n",
       "    </tr>\n",
       "  </thead>\n",
       "  <tbody>\n",
       "    <tr>\n",
       "      <th>0</th>\n",
       "      <td>adipose_tissue</td>\n",
       "      <td>adrenal_gland</td>\n",
       "      <td>3220.720795</td>\n",
       "      <td>all</td>\n",
       "      <td>GTEx</td>\n",
       "      <td>3216.957409</td>\n",
       "      <td>94.199510</td>\n",
       "      <td>0.039951</td>\n",
       "    </tr>\n",
       "    <tr>\n",
       "      <th>1</th>\n",
       "      <td>adipose_tissue</td>\n",
       "      <td>artery</td>\n",
       "      <td>4295.626281</td>\n",
       "      <td>all</td>\n",
       "      <td>GTEx</td>\n",
       "      <td>3222.417858</td>\n",
       "      <td>91.265147</td>\n",
       "      <td>11.759236</td>\n",
       "    </tr>\n",
       "  </tbody>\n",
       "</table>\n",
       "</div>"
      ],
      "text/plain": [
       "    cancer_tissue metastasis_tissue        value interactions tissue_dataset  \\\n",
       "0  adipose_tissue     adrenal_gland  3220.720795          all           GTEx   \n",
       "1  adipose_tissue            artery  4295.626281          all           GTEx   \n",
       "\n",
       "          mean        std    z_score  \n",
       "0  3216.957409  94.199510   0.039951  \n",
       "1  3222.417858  91.265147  11.759236  "
      ]
     },
     "execution_count": 28,
     "metadata": {},
     "output_type": "execute_result"
    }
   ],
   "source": [
    "# Concatenate reverse dataframes\n",
    "network_stats_full = pd.concat(\n",
    "    [network_stats, network_stats_rev], ignore_index=True)\n",
    "print(network_stats.shape)\n",
    "print(network_stats_full.shape)\n",
    "network_stats_full.head(2)"
   ]
  },
  {
   "cell_type": "code",
   "execution_count": 29,
   "metadata": {},
   "outputs": [],
   "source": [
    "network_stats_full.to_csv(\n",
    "    net_dir+'undirected_weighted_network_stats_zscore_random_gene_weights.csv',\n",
    "    index=False,\n",
    ")"
   ]
  },
  {
   "cell_type": "markdown",
   "metadata": {
    "jp-MarkdownHeadingCollapsed": true,
    "tags": []
   },
   "source": [
    "## Directed interactions"
   ]
  },
  {
   "cell_type": "code",
   "execution_count": 26,
   "metadata": {},
   "outputs": [
    {
     "data": {
      "application/vnd.jupyter.widget-view+json": {
       "model_id": "8321f85a4d3b4024ae02438c267b5881",
       "version_major": 2,
       "version_minor": 0
      },
      "text/plain": [
       "  0%|          | 0/2 [00:00<?, ?it/s]"
      ]
     },
     "metadata": {},
     "output_type": "display_data"
    },
    {
     "data": {
      "application/vnd.jupyter.widget-view+json": {
       "model_id": "4065a030bada4d1086a3113fc19452ad",
       "version_major": 2,
       "version_minor": 0
      },
      "text/plain": [
       "  0%|          | 0/2 [00:00<?, ?it/s]"
      ]
     },
     "metadata": {},
     "output_type": "display_data"
    },
    {
     "data": {
      "application/vnd.jupyter.widget-view+json": {
       "model_id": "bc03a8a7c47849b68630689a2dff1e46",
       "version_major": 2,
       "version_minor": 0
      },
      "text/plain": [
       "  0%|          | 0/2 [00:00<?, ?it/s]"
      ]
     },
     "metadata": {},
     "output_type": "display_data"
    },
    {
     "data": {
      "text/html": [
       "<div>\n",
       "<style scoped>\n",
       "    .dataframe tbody tr th:only-of-type {\n",
       "        vertical-align: middle;\n",
       "    }\n",
       "\n",
       "    .dataframe tbody tr th {\n",
       "        vertical-align: top;\n",
       "    }\n",
       "\n",
       "    .dataframe thead th {\n",
       "        text-align: right;\n",
       "    }\n",
       "</style>\n",
       "<table border=\"1\" class=\"dataframe\">\n",
       "  <thead>\n",
       "    <tr style=\"text-align: right;\">\n",
       "      <th></th>\n",
       "      <th>cancer_tissue</th>\n",
       "      <th>metastasis_tissue</th>\n",
       "      <th>direction</th>\n",
       "      <th>value</th>\n",
       "      <th>dist</th>\n",
       "      <th>mean</th>\n",
       "      <th>std</th>\n",
       "      <th>z_score</th>\n",
       "      <th>interactions</th>\n",
       "      <th>tissue_dataset</th>\n",
       "    </tr>\n",
       "  </thead>\n",
       "  <tbody>\n",
       "    <tr>\n",
       "      <th>0</th>\n",
       "      <td>adipose_tissue</td>\n",
       "      <td>adrenal_gland</td>\n",
       "      <td>c_to_m</td>\n",
       "      <td>1524.704003</td>\n",
       "      <td>[1466.5736678435962, 1466.5736678435962, 1466....</td>\n",
       "      <td>1468.226596</td>\n",
       "      <td>6.745906</td>\n",
       "      <td>8.372101</td>\n",
       "      <td>all</td>\n",
       "      <td>GTEx</td>\n",
       "    </tr>\n",
       "    <tr>\n",
       "      <th>1</th>\n",
       "      <td>adipose_tissue</td>\n",
       "      <td>adrenal_gland</td>\n",
       "      <td>m_to_c</td>\n",
       "      <td>1461.773894</td>\n",
       "      <td>[1390.9400489751824, 1390.9400489751824, 1390....</td>\n",
       "      <td>1395.205210</td>\n",
       "      <td>6.026084</td>\n",
       "      <td>11.046757</td>\n",
       "      <td>all</td>\n",
       "      <td>GTEx</td>\n",
       "    </tr>\n",
       "    <tr>\n",
       "      <th>2</th>\n",
       "      <td>adipose_tissue</td>\n",
       "      <td>artery</td>\n",
       "      <td>c_to_m</td>\n",
       "      <td>2033.420016</td>\n",
       "      <td>[1943.8403861972058, 1943.8403861972058, 1943....</td>\n",
       "      <td>1944.044580</td>\n",
       "      <td>5.826310</td>\n",
       "      <td>15.339972</td>\n",
       "      <td>all</td>\n",
       "      <td>GTEx</td>\n",
       "    </tr>\n",
       "    <tr>\n",
       "      <th>3</th>\n",
       "      <td>adipose_tissue</td>\n",
       "      <td>artery</td>\n",
       "      <td>m_to_c</td>\n",
       "      <td>1955.165173</td>\n",
       "      <td>[1861.3266766007932, 1861.3266766007932, 1861....</td>\n",
       "      <td>1864.220399</td>\n",
       "      <td>5.840688</td>\n",
       "      <td>15.570901</td>\n",
       "      <td>all</td>\n",
       "      <td>GTEx</td>\n",
       "    </tr>\n",
       "    <tr>\n",
       "      <th>4</th>\n",
       "      <td>adipose_tissue</td>\n",
       "      <td>bladder</td>\n",
       "      <td>c_to_m</td>\n",
       "      <td>1931.402416</td>\n",
       "      <td>[1848.6182889906513, 1848.6182889906513, 1848....</td>\n",
       "      <td>1852.273968</td>\n",
       "      <td>5.159990</td>\n",
       "      <td>15.335001</td>\n",
       "      <td>all</td>\n",
       "      <td>GTEx</td>\n",
       "    </tr>\n",
       "  </tbody>\n",
       "</table>\n",
       "</div>"
      ],
      "text/plain": [
       "    cancer_tissue metastasis_tissue direction        value  \\\n",
       "0  adipose_tissue     adrenal_gland    c_to_m  1524.704003   \n",
       "1  adipose_tissue     adrenal_gland    m_to_c  1461.773894   \n",
       "2  adipose_tissue            artery    c_to_m  2033.420016   \n",
       "3  adipose_tissue            artery    m_to_c  1955.165173   \n",
       "4  adipose_tissue           bladder    c_to_m  1931.402416   \n",
       "\n",
       "                                                dist         mean       std  \\\n",
       "0  [1466.5736678435962, 1466.5736678435962, 1466....  1468.226596  6.745906   \n",
       "1  [1390.9400489751824, 1390.9400489751824, 1390....  1395.205210  6.026084   \n",
       "2  [1943.8403861972058, 1943.8403861972058, 1943....  1944.044580  5.826310   \n",
       "3  [1861.3266766007932, 1861.3266766007932, 1861....  1864.220399  5.840688   \n",
       "4  [1848.6182889906513, 1848.6182889906513, 1848....  1852.273968  5.159990   \n",
       "\n",
       "     z_score interactions tissue_dataset  \n",
       "0   8.372101          all           GTEx  \n",
       "1  11.046757          all           GTEx  \n",
       "2  15.339972          all           GTEx  \n",
       "3  15.570901          all           GTEx  \n",
       "4  15.335001          all           GTEx  "
      ]
     },
     "execution_count": 26,
     "metadata": {},
     "output_type": "execute_result"
    }
   ],
   "source": [
    "importlib.reload(network_functions)\n",
    "\n",
    "network_stats = []\n",
    "for inter_kind in tqdm(['all', 'curated']):\n",
    "    \n",
    "    if inter_kind == 'all':\n",
    "        \n",
    "        inter_graph = intercell\n",
    "    else:\n",
    "        inter_graph = intercell_curated\n",
    "\n",
    "    for d in tqdm(['GTEx', 'Consensus']):\n",
    "        \n",
    "        stats = network_functions.random_grouped_weighted_intercell_networks(\n",
    "            gene_weights[d],\n",
    "            inter_graph,\n",
    "            direction=['c_to_m', 'm_to_c'],\n",
    "            iterations=1000,\n",
    "            n_jobs=18,\n",
    "            extra_labels=[\n",
    "                ('interactions', inter_kind),\n",
    "                ('tissue_dataset', d)\n",
    "            ],\n",
    "        )\n",
    "        \n",
    "        network_stats.extend(stats)\n",
    "        \n",
    "network_stats = pd.DataFrame(network_stats)\n",
    "network_stats.head()"
   ]
  },
  {
   "cell_type": "code",
   "execution_count": 27,
   "metadata": {},
   "outputs": [
    {
     "data": {
      "text/html": [
       "<div>\n",
       "<style scoped>\n",
       "    .dataframe tbody tr th:only-of-type {\n",
       "        vertical-align: middle;\n",
       "    }\n",
       "\n",
       "    .dataframe tbody tr th {\n",
       "        vertical-align: top;\n",
       "    }\n",
       "\n",
       "    .dataframe thead th {\n",
       "        text-align: right;\n",
       "    }\n",
       "</style>\n",
       "<table border=\"1\" class=\"dataframe\">\n",
       "  <thead>\n",
       "    <tr style=\"text-align: right;\">\n",
       "      <th></th>\n",
       "      <th>metastasis_tissue</th>\n",
       "      <th>cancer_tissue</th>\n",
       "      <th>direction</th>\n",
       "      <th>value</th>\n",
       "      <th>dist</th>\n",
       "      <th>mean</th>\n",
       "      <th>std</th>\n",
       "      <th>z_score</th>\n",
       "      <th>interactions</th>\n",
       "      <th>tissue_dataset</th>\n",
       "    </tr>\n",
       "  </thead>\n",
       "  <tbody>\n",
       "    <tr>\n",
       "      <th>0</th>\n",
       "      <td>adipose_tissue</td>\n",
       "      <td>adrenal_gland</td>\n",
       "      <td>c_to_m</td>\n",
       "      <td>1524.704003</td>\n",
       "      <td>[1466.5736678435962, 1466.5736678435962, 1466....</td>\n",
       "      <td>1468.226596</td>\n",
       "      <td>6.745906</td>\n",
       "      <td>8.372101</td>\n",
       "      <td>all</td>\n",
       "      <td>GTEx</td>\n",
       "    </tr>\n",
       "    <tr>\n",
       "      <th>1</th>\n",
       "      <td>adipose_tissue</td>\n",
       "      <td>adrenal_gland</td>\n",
       "      <td>m_to_c</td>\n",
       "      <td>1461.773894</td>\n",
       "      <td>[1390.9400489751824, 1390.9400489751824, 1390....</td>\n",
       "      <td>1395.205210</td>\n",
       "      <td>6.026084</td>\n",
       "      <td>11.046757</td>\n",
       "      <td>all</td>\n",
       "      <td>GTEx</td>\n",
       "    </tr>\n",
       "  </tbody>\n",
       "</table>\n",
       "</div>"
      ],
      "text/plain": [
       "  metastasis_tissue  cancer_tissue direction        value  \\\n",
       "0    adipose_tissue  adrenal_gland    c_to_m  1524.704003   \n",
       "1    adipose_tissue  adrenal_gland    m_to_c  1461.773894   \n",
       "\n",
       "                                                dist         mean       std  \\\n",
       "0  [1466.5736678435962, 1466.5736678435962, 1466....  1468.226596  6.745906   \n",
       "1  [1390.9400489751824, 1390.9400489751824, 1390....  1395.205210  6.026084   \n",
       "\n",
       "     z_score interactions tissue_dataset  \n",
       "0   8.372101          all           GTEx  \n",
       "1  11.046757          all           GTEx  "
      ]
     },
     "metadata": {},
     "output_type": "display_data"
    },
    {
     "data": {
      "text/html": [
       "<div>\n",
       "<style scoped>\n",
       "    .dataframe tbody tr th:only-of-type {\n",
       "        vertical-align: middle;\n",
       "    }\n",
       "\n",
       "    .dataframe tbody tr th {\n",
       "        vertical-align: top;\n",
       "    }\n",
       "\n",
       "    .dataframe thead th {\n",
       "        text-align: right;\n",
       "    }\n",
       "</style>\n",
       "<table border=\"1\" class=\"dataframe\">\n",
       "  <thead>\n",
       "    <tr style=\"text-align: right;\">\n",
       "      <th></th>\n",
       "      <th>metastasis_tissue</th>\n",
       "      <th>cancer_tissue</th>\n",
       "      <th>direction</th>\n",
       "      <th>value</th>\n",
       "      <th>dist</th>\n",
       "      <th>mean</th>\n",
       "      <th>std</th>\n",
       "      <th>z_score</th>\n",
       "      <th>interactions</th>\n",
       "      <th>tissue_dataset</th>\n",
       "    </tr>\n",
       "  </thead>\n",
       "  <tbody>\n",
       "    <tr>\n",
       "      <th>0</th>\n",
       "      <td>adipose_tissue</td>\n",
       "      <td>adrenal_gland</td>\n",
       "      <td>m_to_c</td>\n",
       "      <td>1524.704003</td>\n",
       "      <td>[1466.5736678435962, 1466.5736678435962, 1466....</td>\n",
       "      <td>1468.226596</td>\n",
       "      <td>6.745906</td>\n",
       "      <td>8.372101</td>\n",
       "      <td>all</td>\n",
       "      <td>GTEx</td>\n",
       "    </tr>\n",
       "    <tr>\n",
       "      <th>1</th>\n",
       "      <td>adipose_tissue</td>\n",
       "      <td>adrenal_gland</td>\n",
       "      <td>c_to_m</td>\n",
       "      <td>1461.773894</td>\n",
       "      <td>[1390.9400489751824, 1390.9400489751824, 1390....</td>\n",
       "      <td>1395.205210</td>\n",
       "      <td>6.026084</td>\n",
       "      <td>11.046757</td>\n",
       "      <td>all</td>\n",
       "      <td>GTEx</td>\n",
       "    </tr>\n",
       "  </tbody>\n",
       "</table>\n",
       "</div>"
      ],
      "text/plain": [
       "  metastasis_tissue  cancer_tissue direction        value  \\\n",
       "0    adipose_tissue  adrenal_gland    m_to_c  1524.704003   \n",
       "1    adipose_tissue  adrenal_gland    c_to_m  1461.773894   \n",
       "\n",
       "                                                dist         mean       std  \\\n",
       "0  [1466.5736678435962, 1466.5736678435962, 1466....  1468.226596  6.745906   \n",
       "1  [1390.9400489751824, 1390.9400489751824, 1390....  1395.205210  6.026084   \n",
       "\n",
       "     z_score interactions tissue_dataset  \n",
       "0   8.372101          all           GTEx  \n",
       "1  11.046757          all           GTEx  "
      ]
     },
     "execution_count": 27,
     "metadata": {},
     "output_type": "execute_result"
    }
   ],
   "source": [
    "# to get all tissue pairs, we'll create a dataframe where we reverse the tissue order\n",
    "# for directed interactions we also have to change the entry's direction\n",
    "network_stats_rev = network_stats.copy().rename({\n",
    "    'cancer_tissue':'metastasis_tissue',\n",
    "    'metastasis_tissue':'cancer_tissue',\n",
    "}, axis=1)\n",
    "display(network_stats_rev.head(2))\n",
    "network_stats_rev['direction'] = np.where(network_stats_rev['direction']=='c_to_m', 'm_to_c', 'c_to_m')\n",
    "network_stats_rev.head(2)"
   ]
  },
  {
   "cell_type": "code",
   "execution_count": 28,
   "metadata": {},
   "outputs": [
    {
     "name": "stdout",
     "output_type": "stream",
     "text": [
      "(5556, 10)\n",
      "(11112, 10)\n"
     ]
    },
    {
     "data": {
      "text/html": [
       "<div>\n",
       "<style scoped>\n",
       "    .dataframe tbody tr th:only-of-type {\n",
       "        vertical-align: middle;\n",
       "    }\n",
       "\n",
       "    .dataframe tbody tr th {\n",
       "        vertical-align: top;\n",
       "    }\n",
       "\n",
       "    .dataframe thead th {\n",
       "        text-align: right;\n",
       "    }\n",
       "</style>\n",
       "<table border=\"1\" class=\"dataframe\">\n",
       "  <thead>\n",
       "    <tr style=\"text-align: right;\">\n",
       "      <th></th>\n",
       "      <th>cancer_tissue</th>\n",
       "      <th>metastasis_tissue</th>\n",
       "      <th>direction</th>\n",
       "      <th>value</th>\n",
       "      <th>dist</th>\n",
       "      <th>mean</th>\n",
       "      <th>std</th>\n",
       "      <th>z_score</th>\n",
       "      <th>interactions</th>\n",
       "      <th>tissue_dataset</th>\n",
       "    </tr>\n",
       "  </thead>\n",
       "  <tbody>\n",
       "    <tr>\n",
       "      <th>0</th>\n",
       "      <td>adipose_tissue</td>\n",
       "      <td>adrenal_gland</td>\n",
       "      <td>c_to_m</td>\n",
       "      <td>1524.704003</td>\n",
       "      <td>[1466.5736678435962, 1466.5736678435962, 1466....</td>\n",
       "      <td>1468.226596</td>\n",
       "      <td>6.745906</td>\n",
       "      <td>8.372101</td>\n",
       "      <td>all</td>\n",
       "      <td>GTEx</td>\n",
       "    </tr>\n",
       "    <tr>\n",
       "      <th>1</th>\n",
       "      <td>adipose_tissue</td>\n",
       "      <td>adrenal_gland</td>\n",
       "      <td>m_to_c</td>\n",
       "      <td>1461.773894</td>\n",
       "      <td>[1390.9400489751824, 1390.9400489751824, 1390....</td>\n",
       "      <td>1395.205210</td>\n",
       "      <td>6.026084</td>\n",
       "      <td>11.046757</td>\n",
       "      <td>all</td>\n",
       "      <td>GTEx</td>\n",
       "    </tr>\n",
       "    <tr>\n",
       "      <th>2</th>\n",
       "      <td>adipose_tissue</td>\n",
       "      <td>artery</td>\n",
       "      <td>c_to_m</td>\n",
       "      <td>2033.420016</td>\n",
       "      <td>[1943.8403861972058, 1943.8403861972058, 1943....</td>\n",
       "      <td>1944.044580</td>\n",
       "      <td>5.826310</td>\n",
       "      <td>15.339972</td>\n",
       "      <td>all</td>\n",
       "      <td>GTEx</td>\n",
       "    </tr>\n",
       "    <tr>\n",
       "      <th>3</th>\n",
       "      <td>adipose_tissue</td>\n",
       "      <td>artery</td>\n",
       "      <td>m_to_c</td>\n",
       "      <td>1955.165173</td>\n",
       "      <td>[1861.3266766007932, 1861.3266766007932, 1861....</td>\n",
       "      <td>1864.220399</td>\n",
       "      <td>5.840688</td>\n",
       "      <td>15.570901</td>\n",
       "      <td>all</td>\n",
       "      <td>GTEx</td>\n",
       "    </tr>\n",
       "    <tr>\n",
       "      <th>4</th>\n",
       "      <td>adipose_tissue</td>\n",
       "      <td>bladder</td>\n",
       "      <td>c_to_m</td>\n",
       "      <td>1931.402416</td>\n",
       "      <td>[1848.6182889906513, 1848.6182889906513, 1848....</td>\n",
       "      <td>1852.273968</td>\n",
       "      <td>5.159990</td>\n",
       "      <td>15.335001</td>\n",
       "      <td>all</td>\n",
       "      <td>GTEx</td>\n",
       "    </tr>\n",
       "  </tbody>\n",
       "</table>\n",
       "</div>"
      ],
      "text/plain": [
       "    cancer_tissue metastasis_tissue direction        value  \\\n",
       "0  adipose_tissue     adrenal_gland    c_to_m  1524.704003   \n",
       "1  adipose_tissue     adrenal_gland    m_to_c  1461.773894   \n",
       "2  adipose_tissue            artery    c_to_m  2033.420016   \n",
       "3  adipose_tissue            artery    m_to_c  1955.165173   \n",
       "4  adipose_tissue           bladder    c_to_m  1931.402416   \n",
       "\n",
       "                                                dist         mean       std  \\\n",
       "0  [1466.5736678435962, 1466.5736678435962, 1466....  1468.226596  6.745906   \n",
       "1  [1390.9400489751824, 1390.9400489751824, 1390....  1395.205210  6.026084   \n",
       "2  [1943.8403861972058, 1943.8403861972058, 1943....  1944.044580  5.826310   \n",
       "3  [1861.3266766007932, 1861.3266766007932, 1861....  1864.220399  5.840688   \n",
       "4  [1848.6182889906513, 1848.6182889906513, 1848....  1852.273968  5.159990   \n",
       "\n",
       "     z_score interactions tissue_dataset  \n",
       "0   8.372101          all           GTEx  \n",
       "1  11.046757          all           GTEx  \n",
       "2  15.339972          all           GTEx  \n",
       "3  15.570901          all           GTEx  \n",
       "4  15.335001          all           GTEx  "
      ]
     },
     "execution_count": 28,
     "metadata": {},
     "output_type": "execute_result"
    }
   ],
   "source": [
    "# Concatenate reverse dataframes\n",
    "network_stats_full = pd.concat(\n",
    "    [network_stats, network_stats_rev], ignore_index=True)\n",
    "print(network_stats.shape)\n",
    "print(network_stats_full.shape)\n",
    "network_stats_full.head()"
   ]
  },
  {
   "cell_type": "code",
   "execution_count": 30,
   "metadata": {},
   "outputs": [],
   "source": [
    "# save network stats excluding the distribution column\n",
    "network_stats_full.to_csv(\n",
    "    net_dir+'directed_weighted_network_stats_zscore.csv', \n",
    "    index=False,\n",
    "    columns=network_stats_full.columns.drop('dist'))"
   ]
  },
  {
   "cell_type": "code",
   "execution_count": 31,
   "metadata": {},
   "outputs": [],
   "source": [
    "# convert random distributions to an array an save\n",
    "dist = np.array(network_stats_full.dist.to_list())\n",
    "with open(net_dir+'weighted_net_directed_random_grouped_dist.npy', 'wb') as f:\n",
    "    np.save(f, dist)"
   ]
  }
 ],
 "metadata": {
  "interpreter": {
   "hash": "31f2aee4e71d21fbe5cf8b01ff0e069b9275f58929596ceb00d14d90e3e16cd6"
  },
  "kernelspec": {
   "display_name": "Python 3 (ipykernel)",
   "language": "python",
   "name": "python3"
  },
  "language_info": {
   "codemirror_mode": {
    "name": "ipython",
    "version": 3
   },
   "file_extension": ".py",
   "mimetype": "text/x-python",
   "name": "python",
   "nbconvert_exporter": "python",
   "pygments_lexer": "ipython3",
   "version": "3.10.12"
  },
  "toc-autonumbering": true
 },
 "nbformat": 4,
 "nbformat_minor": 4
}

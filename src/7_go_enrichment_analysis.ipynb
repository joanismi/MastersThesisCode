{
 "cells": [
  {
   "cell_type": "markdown",
   "id": "4af9b6a4-cae7-4efc-9c9a-cb662fb6836b",
   "metadata": {
    "jp-MarkdownHeadingCollapsed": true,
    "tags": []
   },
   "source": [
    "# Install and load packages"
   ]
  },
  {
   "cell_type": "code",
   "execution_count": null,
   "id": "9f45780c",
   "metadata": {
    "vscode": {
     "languageId": "r"
    }
   },
   "outputs": [],
   "source": [
    "if (!require(\"BiocManager\", quietly = TRUE))\n",
    "  install.packages(\"BiocManager\")\n",
    "\n",
    "BiocManager::install(version = \"3.17\")"
   ]
  },
  {
   "cell_type": "code",
   "execution_count": null,
   "id": "a18aca91-b595-49a6-af71-5a9a925917f8",
   "metadata": {
    "vscode": {
     "languageId": "r"
    }
   },
   "outputs": [],
   "source": [
    "BiocManager::install(c(\"clusterProfiler\", \"org.Hs.eg.db\"))"
   ]
  },
  {
   "cell_type": "code",
   "execution_count": 2,
   "id": "109c4c51-98ab-4077-8c28-7bae27d1a086",
   "metadata": {
    "vscode": {
     "languageId": "r"
    }
   },
   "outputs": [
    {
     "name": "stderr",
     "output_type": "stream",
     "text": [
      "Installing package into ‘/home/joanismi/R/x86_64-pc-linux-gnu-library/4.3’\n",
      "(as ‘lib’ is unspecified)\n",
      "\n",
      "Installing package into ‘/home/joanismi/R/x86_64-pc-linux-gnu-library/4.3’\n",
      "(as ‘lib’ is unspecified)\n",
      "\n"
     ]
    }
   ],
   "source": [
    "install.packages(c(\"plotly\", \"readxl\"))"
   ]
  },
  {
   "cell_type": "code",
   "execution_count": 3,
   "id": "79daeb5f-91a8-49f9-89c7-c5cc5c0cd47b",
   "metadata": {
    "vscode": {
     "languageId": "r"
    }
   },
   "outputs": [
    {
     "name": "stderr",
     "output_type": "stream",
     "text": [
      "Loading required package: AnnotationDbi\n",
      "\n",
      "Loading required package: stats4\n",
      "\n",
      "Loading required package: BiocGenerics\n",
      "\n",
      "\n",
      "Attaching package: ‘BiocGenerics’\n",
      "\n",
      "\n",
      "The following objects are masked from ‘package:stats’:\n",
      "\n",
      "    IQR, mad, sd, var, xtabs\n",
      "\n",
      "\n",
      "The following objects are masked from ‘package:base’:\n",
      "\n",
      "    anyDuplicated, aperm, append, as.data.frame, basename, cbind,\n",
      "    colnames, dirname, do.call, duplicated, eval, evalq, Filter, Find,\n",
      "    get, grep, grepl, intersect, is.unsorted, lapply, Map, mapply,\n",
      "    match, mget, order, paste, pmax, pmax.int, pmin, pmin.int,\n",
      "    Position, rank, rbind, Reduce, rownames, sapply, setdiff, sort,\n",
      "    table, tapply, union, unique, unsplit, which.max, which.min\n",
      "\n",
      "\n",
      "Loading required package: Biobase\n",
      "\n",
      "Welcome to Bioconductor\n",
      "\n",
      "    Vignettes contain introductory material; view with\n",
      "    'browseVignettes()'. To cite Bioconductor, see\n",
      "    'citation(\"Biobase\")', and for packages 'citation(\"pkgname\")'.\n",
      "\n",
      "\n",
      "Loading required package: IRanges\n",
      "\n",
      "Loading required package: S4Vectors\n",
      "\n",
      "\n",
      "Attaching package: ‘S4Vectors’\n",
      "\n",
      "\n",
      "The following object is masked from ‘package:utils’:\n",
      "\n",
      "    findMatches\n",
      "\n",
      "\n",
      "The following objects are masked from ‘package:base’:\n",
      "\n",
      "    expand.grid, I, unname\n",
      "\n",
      "\n",
      "\n",
      "\n",
      "Loading required package: ggplot2\n",
      "\n",
      "\n",
      "Attaching package: ‘plotly’\n",
      "\n",
      "\n",
      "The following object is masked from ‘package:ggplot2’:\n",
      "\n",
      "    last_plot\n",
      "\n",
      "\n",
      "The following object is masked from ‘package:AnnotationDbi’:\n",
      "\n",
      "    select\n",
      "\n",
      "\n",
      "The following object is masked from ‘package:IRanges’:\n",
      "\n",
      "    slice\n",
      "\n",
      "\n",
      "The following object is masked from ‘package:S4Vectors’:\n",
      "\n",
      "    rename\n",
      "\n",
      "\n",
      "The following object is masked from ‘package:stats’:\n",
      "\n",
      "    filter\n",
      "\n",
      "\n",
      "The following object is masked from ‘package:graphics’:\n",
      "\n",
      "    layout\n",
      "\n",
      "\n",
      "\n",
      "Attaching package: ‘dplyr’\n",
      "\n",
      "\n",
      "The following object is masked from ‘package:AnnotationDbi’:\n",
      "\n",
      "    select\n",
      "\n",
      "\n",
      "The following objects are masked from ‘package:IRanges’:\n",
      "\n",
      "    collapse, desc, intersect, setdiff, slice, union\n",
      "\n",
      "\n",
      "The following objects are masked from ‘package:S4Vectors’:\n",
      "\n",
      "    first, intersect, rename, setdiff, setequal, union\n",
      "\n",
      "\n",
      "The following object is masked from ‘package:Biobase’:\n",
      "\n",
      "    combine\n",
      "\n",
      "\n",
      "The following objects are masked from ‘package:BiocGenerics’:\n",
      "\n",
      "    combine, intersect, setdiff, union\n",
      "\n",
      "\n",
      "The following objects are masked from ‘package:stats’:\n",
      "\n",
      "    filter, lag\n",
      "\n",
      "\n",
      "The following objects are masked from ‘package:base’:\n",
      "\n",
      "    intersect, setdiff, setequal, union\n",
      "\n",
      "\n"
     ]
    }
   ],
   "source": [
    "library(\"org.Hs.eg.db\")\n",
    "library(\"plotly\")\n",
    "library(\"readxl\")\n",
    "library(\"dplyr\")"
   ]
  },
  {
   "cell_type": "code",
   "execution_count": 15,
   "id": "4c3ee0b7",
   "metadata": {
    "vscode": {
     "languageId": "r"
    }
   },
   "outputs": [],
   "source": [
    "raw_data_dir = '../data/raw/'\n",
    "intracell_dir = '../data/processed/intracell_network/'\n",
    "enrichment_dir = \"../data/processed/enrichment_analysis/\""
   ]
  },
  {
   "cell_type": "markdown",
   "id": "589c916a-929a-4ade-b881-4462b28df6a5",
   "metadata": {
    "tags": []
   },
   "source": [
    "# Intercell Genes"
   ]
  },
  {
   "cell_type": "markdown",
   "id": "dfc8491b-2fe1-4c8f-aad5-9b8749f71bca",
   "metadata": {
    "tags": []
   },
   "source": [
    "## Load Datasets"
   ]
  },
  {
   "cell_type": "code",
   "execution_count": 10,
   "id": "8ef40454-9254-4305-97da-ea8702391d46",
   "metadata": {
    "vscode": {
     "languageId": "r"
    }
   },
   "outputs": [
    {
     "data": {
      "text/html": [
       "<table class=\"dataframe\">\n",
       "<caption>A tibble: 2 × 3</caption>\n",
       "<thead>\n",
       "\t<tr><th scope=col>Hallmarks</th><th scope=col>GO terms</th><th scope=col>Term name</th></tr>\n",
       "\t<tr><th scope=col>&lt;chr&gt;</th><th scope=col>&lt;chr&gt;</th><th scope=col>&lt;chr&gt;</th></tr>\n",
       "</thead>\n",
       "<tbody>\n",
       "\t<tr><td>Sustaining Proliferative Signaling</td><td>GO:0008283</td><td>Cell Proliferation</td></tr>\n",
       "\t<tr><td>Sustaining Proliferative Signaling</td><td>GO:0007049</td><td>Cell Cycle        </td></tr>\n",
       "</tbody>\n",
       "</table>\n"
      ],
      "text/latex": [
       "A tibble: 2 × 3\n",
       "\\begin{tabular}{lll}\n",
       " Hallmarks & GO terms & Term name\\\\\n",
       " <chr> & <chr> & <chr>\\\\\n",
       "\\hline\n",
       "\t Sustaining Proliferative Signaling & GO:0008283 & Cell Proliferation\\\\\n",
       "\t Sustaining Proliferative Signaling & GO:0007049 & Cell Cycle        \\\\\n",
       "\\end{tabular}\n"
      ],
      "text/markdown": [
       "\n",
       "A tibble: 2 × 3\n",
       "\n",
       "| Hallmarks &lt;chr&gt; | GO terms &lt;chr&gt; | Term name &lt;chr&gt; |\n",
       "|---|---|---|\n",
       "| Sustaining Proliferative Signaling | GO:0008283 | Cell Proliferation |\n",
       "| Sustaining Proliferative Signaling | GO:0007049 | Cell Cycle         |\n",
       "\n"
      ],
      "text/plain": [
       "  Hallmarks                          GO terms   Term name         \n",
       "1 Sustaining Proliferative Signaling GO:0008283 Cell Proliferation\n",
       "2 Sustaining Proliferative Signaling GO:0007049 Cell Cycle        "
      ]
     },
     "metadata": {},
     "output_type": "display_data"
    }
   ],
   "source": [
    "# Hallmarks to GO term mapping\n",
    "hallmarks2goterms <- read_excel(paste0(raw_data_dir, \"hallmarks_to_goterms.xlsx\"))[, 1:3]\n",
    "head(hallmarks2goterms, 2)"
   ]
  },
  {
   "cell_type": "code",
   "execution_count": 11,
   "id": "59462356-fa81-486d-9aa8-fb49c9e98e74",
   "metadata": {
    "vscode": {
     "languageId": "r"
    }
   },
   "outputs": [
    {
     "data": {
      "text/html": [
       "<table class=\"dataframe\">\n",
       "<caption>A data.frame: 2 × 4</caption>\n",
       "<thead>\n",
       "\t<tr><th></th><th scope=col>gene</th><th scope=col>curated_label</th><th scope=col>label</th><th scope=col>is_curated</th></tr>\n",
       "\t<tr><th></th><th scope=col>&lt;chr&gt;</th><th scope=col>&lt;int&gt;</th><th scope=col>&lt;int&gt;</th><th scope=col>&lt;chr&gt;</th></tr>\n",
       "</thead>\n",
       "<tbody>\n",
       "\t<tr><th scope=row>1</th><td>A1BG </td><td>0</td><td>0</td><td>True </td></tr>\n",
       "\t<tr><th scope=row>2</th><td>ABCB1</td><td>0</td><td>0</td><td>False</td></tr>\n",
       "</tbody>\n",
       "</table>\n"
      ],
      "text/latex": [
       "A data.frame: 2 × 4\n",
       "\\begin{tabular}{r|llll}\n",
       "  & gene & curated\\_label & label & is\\_curated\\\\\n",
       "  & <chr> & <int> & <int> & <chr>\\\\\n",
       "\\hline\n",
       "\t1 & A1BG  & 0 & 0 & True \\\\\n",
       "\t2 & ABCB1 & 0 & 0 & False\\\\\n",
       "\\end{tabular}\n"
      ],
      "text/markdown": [
       "\n",
       "A data.frame: 2 × 4\n",
       "\n",
       "| <!--/--> | gene &lt;chr&gt; | curated_label &lt;int&gt; | label &lt;int&gt; | is_curated &lt;chr&gt; |\n",
       "|---|---|---|---|---|\n",
       "| 1 | A1BG  | 0 | 0 | True  |\n",
       "| 2 | ABCB1 | 0 | 0 | False |\n",
       "\n"
      ],
      "text/plain": [
       "  gene  curated_label label is_curated\n",
       "1 A1BG  0             0     True      \n",
       "2 ABCB1 0             0     False     "
      ]
     },
     "metadata": {},
     "output_type": "display_data"
    },
    {
     "data": {
      "text/html": [
       "<table class=\"dataframe\">\n",
       "<caption>A data.frame: 2 × 4</caption>\n",
       "<thead>\n",
       "\t<tr><th></th><th scope=col>gene</th><th scope=col>curated_label</th><th scope=col>label</th><th scope=col>is_curated</th></tr>\n",
       "\t<tr><th></th><th scope=col>&lt;chr&gt;</th><th scope=col>&lt;int&gt;</th><th scope=col>&lt;int&gt;</th><th scope=col>&lt;chr&gt;</th></tr>\n",
       "</thead>\n",
       "<tbody>\n",
       "\t<tr><th scope=row>1</th><td>A2M </td><td>0</td><td>0</td><td>True</td></tr>\n",
       "\t<tr><th scope=row>2</th><td>ACAN</td><td>0</td><td>0</td><td>True</td></tr>\n",
       "</tbody>\n",
       "</table>\n"
      ],
      "text/latex": [
       "A data.frame: 2 × 4\n",
       "\\begin{tabular}{r|llll}\n",
       "  & gene & curated\\_label & label & is\\_curated\\\\\n",
       "  & <chr> & <int> & <int> & <chr>\\\\\n",
       "\\hline\n",
       "\t1 & A2M  & 0 & 0 & True\\\\\n",
       "\t2 & ACAN & 0 & 0 & True\\\\\n",
       "\\end{tabular}\n"
      ],
      "text/markdown": [
       "\n",
       "A data.frame: 2 × 4\n",
       "\n",
       "| <!--/--> | gene &lt;chr&gt; | curated_label &lt;int&gt; | label &lt;int&gt; | is_curated &lt;chr&gt; |\n",
       "|---|---|---|---|---|\n",
       "| 1 | A2M  | 0 | 0 | True |\n",
       "| 2 | ACAN | 0 | 0 | True |\n",
       "\n"
      ],
      "text/plain": [
       "  gene curated_label label is_curated\n",
       "1 A2M  0             0     True      \n",
       "2 ACAN 0             0     True      "
      ]
     },
     "metadata": {},
     "output_type": "display_data"
    }
   ],
   "source": [
    "# intercellular genes\n",
    "intercell_target <- read.csv(paste0(intracell_dir, 'target_labels.csv'))\n",
    "head(intercell_target, 2)\n",
    "intercell_source <- read.csv(paste0(intracell_dir, 'source_labels.csv'))\n",
    "head(intercell_source, 2)"
   ]
  },
  {
   "cell_type": "code",
   "execution_count": 12,
   "id": "18c6a158-4c3e-4b60-b57d-ac8a849221ed",
   "metadata": {
    "vscode": {
     "languageId": "r"
    }
   },
   "outputs": [
    {
     "data": {
      "text/html": [
       "1923"
      ],
      "text/latex": [
       "1923"
      ],
      "text/markdown": [
       "1923"
      ],
      "text/plain": [
       "[1] 1923"
      ]
     },
     "metadata": {},
     "output_type": "display_data"
    },
    {
     "data": {
      "text/html": [
       "1804"
      ],
      "text/latex": [
       "1804"
      ],
      "text/markdown": [
       "1804"
      ],
      "text/plain": [
       "[1] 1804"
      ]
     },
     "metadata": {},
     "output_type": "display_data"
    }
   ],
   "source": [
    "# total number of genes\n",
    "# complete network\n",
    "all_genes <- unique(c(intercell_target$gene, intercell_source$gene))\n",
    "length(all_genes)\n",
    "# curated network\n",
    "all_curated_genes <- unique(c(\n",
    "    intercell_target[intercell_target$is_curated=='True', 'gene'],\n",
    "    intercell_source[intercell_source$is_curated=='True', 'gene']\n",
    "))\n",
    "length(all_curated_genes)"
   ]
  },
  {
   "cell_type": "markdown",
   "id": "c5175579-bd7b-4129-8677-4634baf7944e",
   "metadata": {
    "tags": []
   },
   "source": [
    "## GO enrichment"
   ]
  },
  {
   "cell_type": "code",
   "execution_count": 16,
   "id": "0ebdf81d-eaa4-44db-abe0-b8a75479dd58",
   "metadata": {
    "vscode": {
     "languageId": "r"
    }
   },
   "outputs": [
    {
     "name": "stderr",
     "output_type": "stream",
     "text": [
      "\n",
      "\n",
      "Registered S3 methods overwritten by 'treeio':\n",
      "  method              from    \n",
      "  MRCA.phylo          tidytree\n",
      "  MRCA.treedata       tidytree\n",
      "  Nnode.treedata      tidytree\n",
      "  Ntip.treedata       tidytree\n",
      "  ancestor.phylo      tidytree\n",
      "  ancestor.treedata   tidytree\n",
      "  child.phylo         tidytree\n",
      "  child.treedata      tidytree\n",
      "  full_join.phylo     tidytree\n",
      "  full_join.treedata  tidytree\n",
      "  groupClade.phylo    tidytree\n",
      "  groupClade.treedata tidytree\n",
      "  groupOTU.phylo      tidytree\n",
      "  groupOTU.treedata   tidytree\n",
      "  inner_join.phylo    tidytree\n",
      "  inner_join.treedata tidytree\n",
      "  is.rooted.treedata  tidytree\n",
      "  nodeid.phylo        tidytree\n",
      "  nodeid.treedata     tidytree\n",
      "  nodelab.phylo       tidytree\n",
      "  nodelab.treedata    tidytree\n",
      "  offspring.phylo     tidytree\n",
      "  offspring.treedata  tidytree\n",
      "  parent.phylo        tidytree\n",
      "  parent.treedata     tidytree\n",
      "  root.treedata       tidytree\n",
      "  rootnode.phylo      tidytree\n",
      "  sibling.phylo       tidytree\n",
      "\n"
     ]
    }
   ],
   "source": [
    "datasets <- list(source = intercell_source, target = intercell_target)\n",
    "\n",
    "for (label in names(datasets)) {\n",
    "    \n",
    "    df <- datasets[[label]]\n",
    "  \n",
    "    for (n in 0:1) {\n",
    "        go <- clusterProfiler::enrichGO(\n",
    "            gene = df[df$label==n, 'gene'],\n",
    "            OrgDb = org.Hs.eg.db,\n",
    "            keyType = 'SYMBOL',\n",
    "            ont = 'BP',\n",
    "            universe = df$gene\n",
    "        )\n",
    "        go <- mutate(go, FoldEnrichment=DOSE::parse_ratio(GeneRatio)/DOSE::parse_ratio(BgRatio))\n",
    "        \n",
    "        go_curated <- clusterProfiler::enrichGO(\n",
    "            gene = df[(df$curated_label==n)&(df$is_curated=='True'), 'gene'],\n",
    "            OrgDb = org.Hs.eg.db,\n",
    "            keyType = 'SYMBOL',\n",
    "            ont = 'BP',     \n",
    "            universe = df[df$is_curated=='True', 'gene']\n",
    "        )\n",
    "        go_curated <- mutate(go_curated, FoldEnrichment=DOSE::parse_ratio(GeneRatio)/DOSE::parse_ratio(BgRatio))\n",
    "        \n",
    "        # Write results to file\n",
    "        if (n==0) {\n",
    "            dir <- paste0(enrichment_dir, \"intercell_go/\", label, \"_nsign_go.csv\")\n",
    "            dir_curated <- paste0(enrichment_dir, \"intercell_go/\", label, \"_curated_nsign_go.csv\")\n",
    "        } else {\n",
    "            dir <- paste0(enrichment_dir, \"intercell_go/\", label, \"_sign_go.csv\")\n",
    "            dir_curated <- paste0(enrichment_dir, \"intercell_go/\", label, \"_curated_sign_go.csv\")\n",
    "        }\n",
    "        write.csv(go@result, dir, row.names = FALSE)\n",
    "        write.csv(go_curated@result, dir_curated, row.names = FALSE)\n",
    "    }\n",
    "}"
   ]
  },
  {
   "cell_type": "markdown",
   "id": "8405c00c-6e3c-4be7-a1b9-5d0baa771cb5",
   "metadata": {
    "tags": []
   },
   "source": [
    "## Cancer Hallmarks Enrichment"
   ]
  },
  {
   "cell_type": "markdown",
   "id": "3c163c8b-a9cd-4c89-96b9-8fe8cdd856de",
   "metadata": {
    "tags": []
   },
   "source": [
    "### Complete network"
   ]
  },
  {
   "cell_type": "code",
   "execution_count": 17,
   "id": "48aa1a04-9fcc-4111-81af-8f012fff8647",
   "metadata": {
    "vscode": {
     "languageId": "r"
    }
   },
   "outputs": [],
   "source": [
    "go_enrichment = list(\n",
    "    source = read.csv(paste0(enrichment_dir, 'intercell_go/source_sign_go.csv')),\n",
    "    source_nsign = read.csv(paste0(enrichment_dir,'intercell_go/source_nsign_go.csv')),\n",
    "    target = read.csv(paste0(enrichment_dir,'intercell_go/target_sign_go.csv')),\n",
    "    target_nsign = read.csv(paste0(enrichment_dir,'intercell_go/target_nsign_go.csv'))\n",
    ")"
   ]
  },
  {
   "cell_type": "code",
   "execution_count": 18,
   "id": "23250315-af2f-4150-a4dc-ce413798bbaa",
   "metadata": {
    "vscode": {
     "languageId": "r"
    }
   },
   "outputs": [
    {
     "name": "stdout",
     "output_type": "stream",
     "text": [
      "[1] \"source\"\n",
      "\u001b[90m# A tibble: 4 × 2\u001b[39m\n",
      "  Hallmarks                              n\n",
      "  \u001b[3m\u001b[90m<chr>\u001b[39m\u001b[23m                              \u001b[3m\u001b[90m<int>\u001b[39m\u001b[23m\n",
      "\u001b[90m1\u001b[39m Activating Invasion and Metastasis     3\n",
      "\u001b[90m2\u001b[39m Avoiding Immune Destruction            4\n",
      "\u001b[90m3\u001b[39m Resist Cell Death                      3\n",
      "\u001b[90m4\u001b[39m Sustaining Proliferative Signaling     3\n",
      "[1] \"----------------------------------------\"\n",
      "[1] \"source_nsign\"\n",
      "\u001b[90m# A tibble: 0 × 2\u001b[39m\n",
      "\u001b[90m# ℹ 2 variables: Hallmarks <chr>, n <int>\u001b[39m\n",
      "[1] \"----------------------------------------\"\n",
      "[1] \"target\"\n",
      "\u001b[90m# A tibble: 7 × 2\u001b[39m\n",
      "  Hallmarks                              n\n",
      "  \u001b[3m\u001b[90m<chr>\u001b[39m\u001b[23m                              \u001b[3m\u001b[90m<int>\u001b[39m\u001b[23m\n",
      "\u001b[90m1\u001b[39m Activating Invasion and Metastasis     4\n",
      "\u001b[90m2\u001b[39m Avoiding Immune Destruction            4\n",
      "\u001b[90m3\u001b[39m Evading Growth Suppressor              2\n",
      "\u001b[90m4\u001b[39m Inducing Angiogenesis                  2\n",
      "\u001b[90m5\u001b[39m Resist Cell Death                      3\n",
      "\u001b[90m6\u001b[39m Sustaining Proliferative Signaling     4\n",
      "\u001b[90m7\u001b[39m Tumor promoting Inflammation           1\n",
      "[1] \"----------------------------------------\"\n",
      "[1] \"target_nsign\"\n",
      "\u001b[90m# A tibble: 0 × 2\u001b[39m\n",
      "\u001b[90m# ℹ 2 variables: Hallmarks <chr>, n <int>\u001b[39m\n",
      "[1] \"----------------------------------------\"\n"
     ]
    }
   ],
   "source": [
    "mapping = list()\n",
    "\n",
    "for (k in names(go_enrichment)) {\n",
    "    d <- go_enrichment[[k]]\n",
    "    enrichment <- d[d$p.adjust<0.05, c('ID', 'Description', 'p.adjust', 'Count', 'FoldEnrichment', 'geneID')]\n",
    "    mapping[[k]] <- merge(hallmarks2goterms, enrichment, by.x='GO terms', by.y='ID')\n",
    "}\n",
    "\n",
    "for (k in names(mapping)) {\n",
    "    d <- mapping[[k]]\n",
    "    \n",
    "    x <- group_by(d, Hallmarks)\n",
    "    n_goterms <- summarise(x, n=n())\n",
    "    print(k)\n",
    "    print(n_goterms)\n",
    "    print(paste0(rep('-', 40), collapse=\"\"))\n",
    "}"
   ]
  },
  {
   "cell_type": "markdown",
   "id": "a8fc442c-a0bb-40df-bb4b-e84081f0bf3e",
   "metadata": {
    "jp-MarkdownHeadingCollapsed": true,
    "tags": []
   },
   "source": [
    "### Curated network"
   ]
  },
  {
   "cell_type": "code",
   "execution_count": 19,
   "id": "ccc15616-1ea9-43a4-839a-4f919c283467",
   "metadata": {
    "vscode": {
     "languageId": "r"
    }
   },
   "outputs": [],
   "source": [
    "go_enrichment_curated = list(\n",
    "    source = read.csv(paste0(enrichment_dir,'intercell_go/source_curated_sign_go.csv')),\n",
    "    source_nsign = read.csv(paste0(enrichment_dir,'intercell_go/source_curated_nsign_go.csv')),\n",
    "    target = read.csv(paste0(enrichment_dir,'intercell_go/target_curated_sign_go.csv')),\n",
    "    target_nsign = read.csv(paste0(enrichment_dir,'intercell_go/target_curated_nsign_go.csv'))\n",
    ")"
   ]
  },
  {
   "cell_type": "code",
   "execution_count": 20,
   "id": "b33c98e0-e63e-43be-871e-b01b39a21a84",
   "metadata": {
    "vscode": {
     "languageId": "r"
    }
   },
   "outputs": [
    {
     "name": "stdout",
     "output_type": "stream",
     "text": [
      "[1] \"source\"\n",
      "\u001b[90m# A tibble: 5 × 2\u001b[39m\n",
      "  Hallmarks                              n\n",
      "  \u001b[3m\u001b[90m<chr>\u001b[39m\u001b[23m                              \u001b[3m\u001b[90m<int>\u001b[39m\u001b[23m\n",
      "\u001b[90m1\u001b[39m Activating Invasion and Metastasis     2\n",
      "\u001b[90m2\u001b[39m Avoiding Immune Destruction            4\n",
      "\u001b[90m3\u001b[39m Evading Growth Suppressor              1\n",
      "\u001b[90m4\u001b[39m Resist Cell Death                      2\n",
      "\u001b[90m5\u001b[39m Sustaining Proliferative Signaling     4\n",
      "[1] \"----------------------------------------\"\n",
      "[1] \"source_nsign\"\n",
      "\u001b[90m# A tibble: 0 × 2\u001b[39m\n",
      "\u001b[90m# ℹ 2 variables: Hallmarks <chr>, n <int>\u001b[39m\n",
      "[1] \"----------------------------------------\"\n",
      "[1] \"target\"\n",
      "\u001b[90m# A tibble: 5 × 2\u001b[39m\n",
      "  Hallmarks                              n\n",
      "  \u001b[3m\u001b[90m<chr>\u001b[39m\u001b[23m                              \u001b[3m\u001b[90m<int>\u001b[39m\u001b[23m\n",
      "\u001b[90m1\u001b[39m Activating Invasion and Metastasis     1\n",
      "\u001b[90m2\u001b[39m Avoiding Immune Destruction            2\n",
      "\u001b[90m3\u001b[39m Resist Cell Death                      2\n",
      "\u001b[90m4\u001b[39m Sustaining Proliferative Signaling     2\n",
      "\u001b[90m5\u001b[39m Tumor promoting Inflammation           1\n",
      "[1] \"----------------------------------------\"\n",
      "[1] \"target_nsign\"\n",
      "\u001b[90m# A tibble: 0 × 2\u001b[39m\n",
      "\u001b[90m# ℹ 2 variables: Hallmarks <chr>, n <int>\u001b[39m\n",
      "[1] \"----------------------------------------\"\n"
     ]
    }
   ],
   "source": [
    "mapping_curated = list()\n",
    "\n",
    "for (k in names(go_enrichment_curated)) {\n",
    "    d <- go_enrichment_curated[[k]]\n",
    "    enrichment <- d[d$p.adjust<0.05, c('ID', 'Description', 'p.adjust', 'Count', 'FoldEnrichment', 'geneID')]\n",
    "    mapping_curated[[k]] <- merge(hallmarks2goterms, enrichment, by.x='GO terms', by.y='ID')\n",
    "}\n",
    "\n",
    "for (k in names(mapping_curated)) {\n",
    "    d <- mapping_curated[[k]]\n",
    "    x <- group_by(d, Hallmarks)\n",
    "    n_goterms <- summarise(x, n=n())\n",
    "    print(k)\n",
    "    print(n_goterms)\n",
    "    print(paste0(rep('-', 40), collapse = \"\"))\n",
    "}"
   ]
  },
  {
   "cell_type": "markdown",
   "id": "a29f898c-9312-4692-b5e1-99b5a0d8b365",
   "metadata": {
    "tags": []
   },
   "source": [
    "# Intracell Genes"
   ]
  },
  {
   "cell_type": "markdown",
   "id": "bd5cb229-5eb7-4617-9812-96fc4afe9353",
   "metadata": {
    "jp-MarkdownHeadingCollapsed": true,
    "tags": []
   },
   "source": [
    "## Load Datasets"
   ]
  },
  {
   "cell_type": "code",
   "execution_count": 21,
   "id": "094dcfee-318b-4e44-81af-be3d1290cf5b",
   "metadata": {
    "vscode": {
     "languageId": "r"
    }
   },
   "outputs": [
    {
     "data": {
      "text/html": [
       "<table class=\"dataframe\">\n",
       "<caption>A tibble: 2 × 3</caption>\n",
       "<thead>\n",
       "\t<tr><th scope=col>Hallmarks</th><th scope=col>GO terms</th><th scope=col>Term name</th></tr>\n",
       "\t<tr><th scope=col>&lt;chr&gt;</th><th scope=col>&lt;chr&gt;</th><th scope=col>&lt;chr&gt;</th></tr>\n",
       "</thead>\n",
       "<tbody>\n",
       "\t<tr><td>Sustaining Proliferative Signaling</td><td>GO:0008283</td><td>Cell Proliferation</td></tr>\n",
       "\t<tr><td>Sustaining Proliferative Signaling</td><td>GO:0007049</td><td>Cell Cycle        </td></tr>\n",
       "</tbody>\n",
       "</table>\n"
      ],
      "text/latex": [
       "A tibble: 2 × 3\n",
       "\\begin{tabular}{lll}\n",
       " Hallmarks & GO terms & Term name\\\\\n",
       " <chr> & <chr> & <chr>\\\\\n",
       "\\hline\n",
       "\t Sustaining Proliferative Signaling & GO:0008283 & Cell Proliferation\\\\\n",
       "\t Sustaining Proliferative Signaling & GO:0007049 & Cell Cycle        \\\\\n",
       "\\end{tabular}\n"
      ],
      "text/markdown": [
       "\n",
       "A tibble: 2 × 3\n",
       "\n",
       "| Hallmarks &lt;chr&gt; | GO terms &lt;chr&gt; | Term name &lt;chr&gt; |\n",
       "|---|---|---|\n",
       "| Sustaining Proliferative Signaling | GO:0008283 | Cell Proliferation |\n",
       "| Sustaining Proliferative Signaling | GO:0007049 | Cell Cycle         |\n",
       "\n"
      ],
      "text/plain": [
       "  Hallmarks                          GO terms   Term name         \n",
       "1 Sustaining Proliferative Signaling GO:0008283 Cell Proliferation\n",
       "2 Sustaining Proliferative Signaling GO:0007049 Cell Cycle        "
      ]
     },
     "metadata": {},
     "output_type": "display_data"
    }
   ],
   "source": [
    "# Hallmarks to GO term mapping\n",
    "hallmarks2goterms <- read_excel(paste0(raw_data_dir, \"hallmarks_to_goterms.xlsx\"))[, 1:3]\n",
    "head(hallmarks2goterms, 2)"
   ]
  },
  {
   "cell_type": "code",
   "execution_count": 23,
   "id": "63f07a49-f3e6-4162-813a-c967e8a4bf45",
   "metadata": {
    "vscode": {
     "languageId": "r"
    }
   },
   "outputs": [
    {
     "data": {
      "text/html": [
       "18215"
      ],
      "text/latex": [
       "18215"
      ],
      "text/markdown": [
       "18215"
      ],
      "text/plain": [
       "[1] 18215"
      ]
     },
     "metadata": {},
     "output_type": "display_data"
    }
   ],
   "source": [
    "# the genes in the intracell graph comprise our population \n",
    "all_genes <- read.csv(paste0(intracell_dir, 'intracell_genes.csv'), col.names='gene')$gene\n",
    "length(all_genes)"
   ]
  },
  {
   "cell_type": "code",
   "execution_count": 26,
   "id": "4604d272-f0f8-4ebf-a254-7e07f64e857c",
   "metadata": {
    "vscode": {
     "languageId": "r"
    }
   },
   "outputs": [
    {
     "data": {
      "text/html": [
       "<style>\n",
       ".list-inline {list-style: none; margin:0; padding: 0}\n",
       ".list-inline>li {display: inline-block}\n",
       ".list-inline>li:not(:last-child)::after {content: \"\\00b7\"; padding: 0 .5ex}\n",
       "</style>\n",
       "<ol class=list-inline><li>'ACTN1'</li><li>'AKAP8L'</li><li>'ARHGEF26'</li><li>'ARID4A'</li><li>'BAG1'</li></ol>\n"
      ],
      "text/latex": [
       "\\begin{enumerate*}\n",
       "\\item 'ACTN1'\n",
       "\\item 'AKAP8L'\n",
       "\\item 'ARHGEF26'\n",
       "\\item 'ARID4A'\n",
       "\\item 'BAG1'\n",
       "\\end{enumerate*}\n"
      ],
      "text/markdown": [
       "1. 'ACTN1'\n",
       "2. 'AKAP8L'\n",
       "3. 'ARHGEF26'\n",
       "4. 'ARID4A'\n",
       "5. 'BAG1'\n",
       "\n",
       "\n"
      ],
      "text/plain": [
       "[1] \"ACTN1\"    \"AKAP8L\"   \"ARHGEF26\" \"ARID4A\"   \"BAG1\"    "
      ]
     },
     "metadata": {},
     "output_type": "display_data"
    }
   ],
   "source": [
    "# Statistically significant (alpha=0.05) genes with positive association with metastasis\n",
    "# complete network\n",
    "complete <- list(\n",
    "  source = read.csv(paste0(enrichment_dir, 'source_sign.csv'))$gene,\n",
    "  source_out = read.csv(paste0(enrichment_dir, 'source_sign_outliers.csv'))$gene,\n",
    "  target = read.csv(paste0(enrichment_dir, 'target_sign.csv'))$gene,\n",
    "  target_out = read.csv(paste0(enrichment_dir, 'target_sign_outliers.csv'))$gene\n",
    ")\n",
    "# curated network\n",
    "curated <- list(\n",
    "  source = read.csv(paste0(enrichment_dir, 'source_curated_sign.csv'))$gene,\n",
    "  source_out = read.csv(paste0(enrichment_dir, 'source_curated_sign_outliers.csv'))$gene,\n",
    "  target = read.csv(paste0(enrichment_dir, 'target_curated_sign.csv'))$gene,\n",
    "  target_out = read.csv(paste0(enrichment_dir, 'target_curated_sign_outliers.csv'))$gene\n",
    ")\n",
    "head(complete[['source']], 5)"
   ]
  },
  {
   "cell_type": "markdown",
   "id": "f6c0a776-43d6-4406-8a7a-c75187f812d4",
   "metadata": {
    "jp-MarkdownHeadingCollapsed": true,
    "tags": []
   },
   "source": [
    "## GO enrichment"
   ]
  },
  {
   "cell_type": "code",
   "execution_count": 27,
   "id": "399cc3cf-6588-47f3-99e5-bb9390efe3d0",
   "metadata": {
    "vscode": {
     "languageId": "r"
    }
   },
   "outputs": [],
   "source": [
    "networks <- list(complete = complete, curated = curated)\n",
    "\n",
    "for (network in names(networks)) {\n",
    "    \n",
    "    datasets <- networks[[network]]\n",
    "    \n",
    "    for (dataset in names(datasets)) {\n",
    "        \n",
    "        genes <- datasets[[dataset]]\n",
    "        go <- clusterProfiler::enrichGO(\n",
    "            gene = genes,\n",
    "            OrgDb = org.Hs.eg.db,\n",
    "            keyType = 'SYMBOL',\n",
    "            ont = 'BP',\n",
    "            universe = all_genes\n",
    "        )\n",
    "        go <- mutate(go, FoldEnrichment=DOSE::parse_ratio(GeneRatio)/DOSE::parse_ratio(BgRatio))\n",
    "        \n",
    "        # Write results to file\n",
    "        if (network=='complete') {\n",
    "            dir <- paste0(enrichment_dir, \"intracell_go/\", dataset, \"_go.csv\")\n",
    "        } else {\n",
    "            dir <- paste0(enrichment_dir, \"intracell_go/\", dataset, \"_curated_go.csv\")\n",
    "        }\n",
    "        write.csv(go@result, dir, row.names = FALSE)\n",
    "    }\n",
    "}"
   ]
  }
 ],
 "metadata": {
  "kernelspec": {
   "display_name": "R",
   "language": "R",
   "name": "ir"
  },
  "language_info": {
   "codemirror_mode": "r",
   "file_extension": ".r",
   "mimetype": "text/x-r-source",
   "name": "R",
   "pygments_lexer": "r",
   "version": "4.3.1"
  }
 },
 "nbformat": 4,
 "nbformat_minor": 5
}
